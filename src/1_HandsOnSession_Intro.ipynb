{
 "cells": [
  {
   "cell_type": "markdown",
   "metadata": {},
   "source": [
    "# IAM hands-on session from the 2019 AERE pre-conference Workshop"
   ]
  },
  {
   "cell_type": "markdown",
   "metadata": {},
   "source": [
    "## 1. Introduction"
   ]
  },
  {
   "cell_type": "markdown",
   "metadata": {},
   "source": [
    "The notebooks in this folder contain the full script I used for the workshop. There are parts in this script that I skipped in the workshop because we ran out of time.\n",
    "\n",
    "These notebooks are currently optimized to run in the cloud on the [mybinder.org](https://mybinder.org) infrastructure. The benefit is that you don't need to install anything on your local machine to run the code. The drawback is that the `explore` function doesn't work in this environment. To accomodate both the cloud environment and local machine setups, I have added a cell to the top of each notebook that contains a line\n",
    "\n",
    "```julia\n",
    "use_explore = false;\n",
    "```\n",
    "\n",
    "With that value, `explore` is never called in any of the notebooks. If you run the notebooks on your local computer, you can change that value to `true` instead, and then all calls to `explore` will run.\n",
    "\n",
    "### Setup\n",
    "\n",
    "#### mybinder.org\n",
    "\n",
    "If you run the notebooks on the [mybinder.org](https://mybinder.org) cloud environment you don't need to install anything.\n",
    "\n",
    "#### Local inside the folder from github\n",
    "\n",
    "If you cloned the github repository for this tutorial, or downloaded the whole repository as an archive and then extracted all the content into a folder, you need to once instantiate the Julia environment that is defined in this root of this folder. Once you have done that, you should be able to just open each notebook and run the content on your local machine.\n",
    "\n",
    "To instantiate the environment defined in this repo, do the following:\n",
    "1. Start Julia\n",
    "2. Enter the package REPL mode by pressing `]`\n",
    "3. Execute `pkg> activate <FULL PATH TO THE REPO FOLDER ON YOUR SYSTEM>`, where you replace `<FULL PATH TO THE REPO FOLDER ON YOUR SYSTEM>` with the local path on your hard drive where the content of the folder for the workshop is located.\n",
    "4. Still in the package REPL, execute the following command: `pkg> instantiate`\n",
    "\n",
    "At this point all Julia packages that you need should be installed.\n",
    "\n",
    "#### Local with individually downloaded notebook files\n",
    "\n",
    "If you downloaded individual notebook files and not the whole repository here, you will need to follow the setup instructions I sent out before the workshop to install all necessary packages."
   ]
  }
 ],
 "metadata": {
  "@webio": {
   "lastCommId": null,
   "lastKernelId": null
  },
  "kernelspec": {
   "display_name": "Julia 1.1.1",
   "language": "julia",
   "name": "julia-1.1"
  },
  "language_info": {
   "file_extension": ".jl",
   "mimetype": "application/julia",
   "name": "julia",
   "version": "1.1.1"
  }
 },
 "nbformat": 4,
 "nbformat_minor": 4
}
