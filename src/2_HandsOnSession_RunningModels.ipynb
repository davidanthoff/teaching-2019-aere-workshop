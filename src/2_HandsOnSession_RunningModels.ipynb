{
 "cells": [
  {
   "cell_type": "markdown",
   "metadata": {},
   "source": [
    "# IAM hands-on session from the 2019 AERE pre-conference Workshop"
   ]
  },
  {
   "cell_type": "markdown",
   "metadata": {},
   "source": [
    "## 2. Running Models"
   ]
  },
  {
   "cell_type": "markdown",
   "metadata": {},
   "source": [
    "This section demonstrates how you can run a number of widely used integrated assessment models and extract results from these model runs. There are comments that explain the code for the first example of DICE2010, the remaining models then follow the same pattern."
   ]
  },
  {
   "cell_type": "markdown",
   "metadata": {},
   "source": [
    "### Configuration"
   ]
  },
  {
   "cell_type": "code",
   "execution_count": 1,
   "metadata": {},
   "outputs": [],
   "source": [
    "use_explore = false;"
   ]
  },
  {
   "cell_type": "markdown",
   "metadata": {},
   "source": [
    "### MimiDICE2010"
   ]
  },
  {
   "cell_type": "markdown",
   "metadata": {},
   "source": [
    "First we load the [Mimi.jl](https://github.com/mimiframework/Mimi.jl) package into this session. It provides much of the functionality for running the IAMs in this example."
   ]
  },
  {
   "cell_type": "code",
   "execution_count": 2,
   "metadata": {},
   "outputs": [],
   "source": [
    "using Mimi"
   ]
  },
  {
   "cell_type": "markdown",
   "metadata": {},
   "source": [
    "Next we load the definition of the [MimiDICE2010.jl](https://github.com/anthofflab/MimiDICE2010.jl) model into our session. Note that the model is packaged as a standard Julia package, so we can use the same syntax that we use to load any other package."
   ]
  },
  {
   "cell_type": "code",
   "execution_count": 3,
   "metadata": {},
   "outputs": [],
   "source": [
    "using MimiDICE2010"
   ]
  },
  {
   "cell_type": "markdown",
   "metadata": {},
   "source": [
    "Next we create an _instance_ of MimiDICE2010 and assign it to a local variable called `m`."
   ]
  },
  {
   "cell_type": "code",
   "execution_count": 4,
   "metadata": {},
   "outputs": [
    {
     "data": {
      "text/plain": [
       "9-component Mimi.Model:\n",
       "  grosseconomy::MimiDICE2010.grosseconomy\n",
       "  emissions::MimiDICE2010.emissions\n",
       "  co2cycle::MimiDICE2010.co2cycle\n",
       "  radiativeforcing::MimiDICE2010.radiativeforcing\n",
       "  climatedynamics::MimiDICE2010.climatedynamics\n",
       "  sealevelrise::MimiDICE2010.sealevelrise\n",
       "  damages::MimiDICE2010.damages\n",
       "  neteconomy::MimiDICE2010.neteconomy\n",
       "  welfare::MimiDICE2010.welfare\n"
      ]
     },
     "execution_count": 4,
     "metadata": {},
     "output_type": "execute_result"
    }
   ],
   "source": [
    "m = MimiDICE2010.get_model()"
   ]
  },
  {
   "cell_type": "markdown",
   "metadata": {},
   "source": [
    "We can use the `plot_comp_graph` function to show us a graphical representation of the internal structure of the model."
   ]
  },
  {
   "cell_type": "code",
   "execution_count": 5,
   "metadata": {},
   "outputs": [
    {
     "data": {
      "image/svg+xml": [
       "<?xml version=\"1.0\" encoding=\"UTF-8\"?>\n",
       "<svg xmlns=\"http://www.w3.org/2000/svg\"\n",
       "     xmlns:xlink=\"http://www.w3.org/1999/xlink\"\n",
       "     version=\"1.2\"\n",
       "     width=\"141.42mm\" height=\"100mm\" viewBox=\"0 0 141.42 100\"\n",
       "     stroke=\"none\"\n",
       "     fill=\"#000000\"\n",
       "     stroke-width=\"0.3\"\n",
       "     font-size=\"3.88\"\n",
       ">\n",
       "<defs>\n",
       "  <marker id=\"arrow\" markerWidth=\"15\" markerHeight=\"7\" refX=\"5\" refY=\"3.5\" orient=\"auto\" markerUnits=\"strokeWidth\">\n",
       "    <path d=\"M0,0 L15,3.5 L0,7 z\" stroke=\"context-stroke\" fill=\"context-stroke\"/>\n",
       "  </marker>\n",
       "</defs>\n",
       "<g stroke-width=\"1\" fill=\"#000000\" fill-opacity=\"0.000\" stroke=\"#D3D3D3\" id=\"img-41915737-1\">\n",
       "  <g transform=\"translate(85.96,18.01)\">\n",
       "    <path fill=\"none\" d=\"M-11.43,7.34 L 11.43 -7.34\" class=\"primitive\"/>\n",
       "  </g>\n",
       "  <g transform=\"translate(71.05,44.4)\">\n",
       "    <path fill=\"none\" d=\"M-0.12,-13.24 L 0.12 13.24\" class=\"primitive\"/>\n",
       "  </g>\n",
       "  <g transform=\"translate(57.24,34.43)\">\n",
       "    <path fill=\"none\" d=\"M9.63,-4.75 L -9.63 4.75\" class=\"primitive\"/>\n",
       "  </g>\n",
       "  <g transform=\"translate(115.27,13.81)\">\n",
       "    <path fill=\"none\" d=\"M-9.92,-3.82 L 9.92 3.82\" class=\"primitive\"/>\n",
       "  </g>\n",
       "  <g transform=\"translate(129.57,36.18)\">\n",
       "    <path fill=\"none\" d=\"M-0.05,-13.42 L 0.05 13.42\" class=\"primitive\"/>\n",
       "  </g>\n",
       "  <g transform=\"translate(115.74,63.3)\">\n",
       "    <path fill=\"none\" d=\"M10.5,-7.72 L -10.5 7.72\" class=\"primitive\"/>\n",
       "  </g>\n",
       "  <g transform=\"translate(92.01,82.59)\">\n",
       "    <path fill=\"none\" d=\"M6.84,-6.32 L -6.84 6.32\" class=\"primitive\"/>\n",
       "  </g>\n",
       "  <g transform=\"translate(86.52,67.32)\">\n",
       "    <path fill=\"none\" d=\"M11.05,4.48 L -11.05 -4.48\" class=\"primitive\"/>\n",
       "  </g>\n",
       "  <g transform=\"translate(76.7,76.39)\">\n",
       "    <path fill=\"none\" d=\"M4.28,11.91 L -4.28 -11.91\" class=\"primitive\"/>\n",
       "  </g>\n",
       "  <g transform=\"translate(57.4,51.14)\">\n",
       "    <path fill=\"none\" d=\"M10.38,7.49 L -10.38 -7.49\" class=\"primitive\"/>\n",
       "  </g>\n",
       "  <g transform=\"translate(57.24,34.43)\">\n",
       "    <path fill=\"none\" d=\"M-9.63,4.75 L 9.63 -4.75\" class=\"primitive\"/>\n",
       "  </g>\n",
       "  <g transform=\"translate(27.68,38.67)\">\n",
       "    <path fill=\"none\" d=\"M11.11,1.74 L -11.11 -1.74\" class=\"primitive\"/>\n",
       "  </g>\n",
       "</g>\n",
       "<g stroke-width=\"1\" stroke=\"#D3D3D3\" id=\"img-41915737-2\">\n",
       "  <g transform=\"translate(94.66,12.42)\">\n",
       "    <path fill=\"none\" d=\"M-2.72,-0.18 L 2.73 -1.76 -0.01 1.93\" class=\"primitive\"/>\n",
       "  </g>\n",
       "  <g transform=\"translate(71.15,55.03)\">\n",
       "    <path fill=\"none\" d=\"M2,-1.31 L 0.02 2.61 -2.03 -1.3\" class=\"primitive\"/>\n",
       "  </g>\n",
       "  <g transform=\"translate(50.64,37.68)\">\n",
       "    <path fill=\"none\" d=\"M2.67,0.42 L -3.03 1.49 0.36 -1.92\" class=\"primitive\"/>\n",
       "  </g>\n",
       "  <g transform=\"translate(121.95,16.38)\">\n",
       "    <path fill=\"none\" d=\"M-0.66,-1.88 L 3.24 1.25 -2.58 0.63\" class=\"primitive\"/>\n",
       "  </g>\n",
       "  <g transform=\"translate(129.61,46.99)\">\n",
       "    <path fill=\"none\" d=\"M2.01,-1.31 L 0.01 2.61 -2.02 -1.3\" class=\"primitive\"/>\n",
       "  </g>\n",
       "  <g transform=\"translate(107.8,69.14)\">\n",
       "    <path fill=\"none\" d=\"M2.73,0.05 L -2.56 1.88 -0.17 -1.93\" class=\"primitive\"/>\n",
       "  </g>\n",
       "  <g transform=\"translate(87.41,86.84)\">\n",
       "    <path fill=\"none\" d=\"M2.72,-0.17 L -2.24 2.07 -0.48 -1.9\" class=\"primitive\"/>\n",
       "  </g>\n",
       "  <g transform=\"translate(78.67,64.13)\">\n",
       "    <path fill=\"none\" d=\"M0.6,1.89 L -3.2 -1.3 2.6 -0.59\" class=\"primitive\"/>\n",
       "  </g>\n",
       "  <g transform=\"translate(73.33,67.01)\">\n",
       "    <path fill=\"none\" d=\"M-1.5,1.62 L -0.91 -2.53 2.41 0.91\" class=\"primitive\"/>\n",
       "  </g>\n",
       "  <g transform=\"translate(49.6,45.51)\">\n",
       "    <path fill=\"none\" d=\"M-0.15,1.93 L -2.58 -1.87 2.73 -0.06\" class=\"primitive\"/>\n",
       "  </g>\n",
       "  <g transform=\"translate(63.85,31.17)\">\n",
       "    <path fill=\"none\" d=\"M-2.67,-0.42 L 3.03 -1.49 -0.36 1.92\" class=\"primitive\"/>\n",
       "  </g>\n",
       "  <g transform=\"translate(20.18,37.49)\">\n",
       "    <path fill=\"none\" d=\"M1.36,1.67 L -3.6 -0.57 2.24 -1.11\" class=\"primitive\"/>\n",
       "  </g>\n",
       "</g>\n",
       "<g font-size=\"4\" stroke=\"#000000\" stroke-opacity=\"0.000\" fill=\"#000000\" id=\"img-41915737-3\">\n",
       "</g>\n",
       "<g stroke-width=\"0\" stroke=\"#000000\" stroke-opacity=\"0.000\" fill=\"#40E0D0\" id=\"img-41915737-4\">\n",
       "  <g transform=\"translate(70.9,27.69)\">\n",
       "    <circle cx=\"0\" cy=\"0\" r=\"4.71\" class=\"primitive\"/>\n",
       "  </g>\n",
       "  <g transform=\"translate(101.03,8.33)\">\n",
       "    <circle cx=\"0\" cy=\"0\" r=\"4.71\" class=\"primitive\"/>\n",
       "  </g>\n",
       "  <g transform=\"translate(129.5,19.29)\">\n",
       "    <circle cx=\"0\" cy=\"0\" r=\"4.71\" class=\"primitive\"/>\n",
       "  </g>\n",
       "  <g transform=\"translate(129.64,53.08)\">\n",
       "    <circle cx=\"0\" cy=\"0\" r=\"4.71\" class=\"primitive\"/>\n",
       "  </g>\n",
       "  <g transform=\"translate(101.84,73.52)\">\n",
       "    <circle cx=\"0\" cy=\"0\" r=\"4.71\" class=\"primitive\"/>\n",
       "  </g>\n",
       "  <g transform=\"translate(82.18,91.67)\">\n",
       "    <circle cx=\"0\" cy=\"0\" r=\"4.71\" class=\"primitive\"/>\n",
       "  </g>\n",
       "  <g transform=\"translate(71.21,61.11)\">\n",
       "    <circle cx=\"0\" cy=\"0\" r=\"4.71\" class=\"primitive\"/>\n",
       "  </g>\n",
       "  <g transform=\"translate(43.58,41.16)\">\n",
       "    <circle cx=\"0\" cy=\"0\" r=\"4.71\" class=\"primitive\"/>\n",
       "  </g>\n",
       "  <g transform=\"translate(11.79,36.17)\">\n",
       "    <circle cx=\"0\" cy=\"0\" r=\"4.71\" class=\"primitive\"/>\n",
       "  </g>\n",
       "</g>\n",
       "<g font-size=\"4\" stroke=\"#000000\" stroke-opacity=\"0.000\" fill=\"#000000\" id=\"img-41915737-5\">\n",
       "  <g transform=\"translate(70.9,27.69)\">\n",
       "    <g class=\"primitive\">\n",
       "      <text text-anchor=\"middle\" dy=\"0.35em\">grosseconomy</text>\n",
       "    </g>\n",
       "  </g>\n",
       "  <g transform=\"translate(101.03,8.33)\">\n",
       "    <g class=\"primitive\">\n",
       "      <text text-anchor=\"middle\" dy=\"0.35em\">emissions</text>\n",
       "    </g>\n",
       "  </g>\n",
       "  <g transform=\"translate(129.5,19.29)\">\n",
       "    <g class=\"primitive\">\n",
       "      <text text-anchor=\"middle\" dy=\"0.35em\">co2cycle</text>\n",
       "    </g>\n",
       "  </g>\n",
       "  <g transform=\"translate(129.64,53.08)\">\n",
       "    <g class=\"primitive\">\n",
       "      <text text-anchor=\"middle\" dy=\"0.35em\">radiativeforcing</text>\n",
       "    </g>\n",
       "  </g>\n",
       "  <g transform=\"translate(101.84,73.52)\">\n",
       "    <g class=\"primitive\">\n",
       "      <text text-anchor=\"middle\" dy=\"0.35em\">climatedynamics</text>\n",
       "    </g>\n",
       "  </g>\n",
       "  <g transform=\"translate(82.18,91.67)\">\n",
       "    <g class=\"primitive\">\n",
       "      <text text-anchor=\"middle\" dy=\"0.35em\">sealevelrise</text>\n",
       "    </g>\n",
       "  </g>\n",
       "  <g transform=\"translate(71.21,61.11)\">\n",
       "    <g class=\"primitive\">\n",
       "      <text text-anchor=\"middle\" dy=\"0.35em\">damages</text>\n",
       "    </g>\n",
       "  </g>\n",
       "  <g transform=\"translate(43.58,41.16)\">\n",
       "    <g class=\"primitive\">\n",
       "      <text text-anchor=\"middle\" dy=\"0.35em\">neteconomy</text>\n",
       "    </g>\n",
       "  </g>\n",
       "  <g transform=\"translate(11.79,36.17)\">\n",
       "    <g class=\"primitive\">\n",
       "      <text text-anchor=\"middle\" dy=\"0.35em\">welfare</text>\n",
       "    </g>\n",
       "  </g>\n",
       "</g>\n",
       "</svg>\n"
      ],
      "text/html": [
       "<?xml version=\"1.0\" encoding=\"UTF-8\"?>\n",
       "<svg xmlns=\"http://www.w3.org/2000/svg\"\n",
       "     xmlns:xlink=\"http://www.w3.org/1999/xlink\"\n",
       "     version=\"1.2\"\n",
       "     width=\"141.42mm\" height=\"100mm\" viewBox=\"0 0 141.42 100\"\n",
       "     stroke=\"none\"\n",
       "     fill=\"#000000\"\n",
       "     stroke-width=\"0.3\"\n",
       "     font-size=\"3.88\"\n",
       "\n",
       "     id=\"img-2097d444\">\n",
       "<defs>\n",
       "  <marker id=\"arrow\" markerWidth=\"15\" markerHeight=\"7\" refX=\"5\" refY=\"3.5\" orient=\"auto\" markerUnits=\"strokeWidth\">\n",
       "    <path d=\"M0,0 L15,3.5 L0,7 z\" stroke=\"context-stroke\" fill=\"context-stroke\"/>\n",
       "  </marker>\n",
       "</defs>\n",
       "<g stroke-width=\"1\" fill=\"#000000\" fill-opacity=\"0.000\" stroke=\"#D3D3D3\" id=\"img-2097d444-1\">\n",
       "  <g transform=\"translate(85.96,18.01)\">\n",
       "    <path fill=\"none\" d=\"M-11.43,7.34 L 11.43 -7.34\" class=\"primitive\"/>\n",
       "  </g>\n",
       "  <g transform=\"translate(71.05,44.4)\">\n",
       "    <path fill=\"none\" d=\"M-0.12,-13.24 L 0.12 13.24\" class=\"primitive\"/>\n",
       "  </g>\n",
       "  <g transform=\"translate(57.24,34.43)\">\n",
       "    <path fill=\"none\" d=\"M9.63,-4.75 L -9.63 4.75\" class=\"primitive\"/>\n",
       "  </g>\n",
       "  <g transform=\"translate(115.27,13.81)\">\n",
       "    <path fill=\"none\" d=\"M-9.92,-3.82 L 9.92 3.82\" class=\"primitive\"/>\n",
       "  </g>\n",
       "  <g transform=\"translate(129.57,36.18)\">\n",
       "    <path fill=\"none\" d=\"M-0.05,-13.42 L 0.05 13.42\" class=\"primitive\"/>\n",
       "  </g>\n",
       "  <g transform=\"translate(115.74,63.3)\">\n",
       "    <path fill=\"none\" d=\"M10.5,-7.72 L -10.5 7.72\" class=\"primitive\"/>\n",
       "  </g>\n",
       "  <g transform=\"translate(92.01,82.59)\">\n",
       "    <path fill=\"none\" d=\"M6.84,-6.32 L -6.84 6.32\" class=\"primitive\"/>\n",
       "  </g>\n",
       "  <g transform=\"translate(86.52,67.32)\">\n",
       "    <path fill=\"none\" d=\"M11.05,4.48 L -11.05 -4.48\" class=\"primitive\"/>\n",
       "  </g>\n",
       "  <g transform=\"translate(76.7,76.39)\">\n",
       "    <path fill=\"none\" d=\"M4.28,11.91 L -4.28 -11.91\" class=\"primitive\"/>\n",
       "  </g>\n",
       "  <g transform=\"translate(57.4,51.14)\">\n",
       "    <path fill=\"none\" d=\"M10.38,7.49 L -10.38 -7.49\" class=\"primitive\"/>\n",
       "  </g>\n",
       "  <g transform=\"translate(57.24,34.43)\">\n",
       "    <path fill=\"none\" d=\"M-9.63,4.75 L 9.63 -4.75\" class=\"primitive\"/>\n",
       "  </g>\n",
       "  <g transform=\"translate(27.68,38.67)\">\n",
       "    <path fill=\"none\" d=\"M11.11,1.74 L -11.11 -1.74\" class=\"primitive\"/>\n",
       "  </g>\n",
       "</g>\n",
       "<g stroke-width=\"1\" stroke=\"#D3D3D3\" id=\"img-2097d444-2\">\n",
       "  <g transform=\"translate(94.66,12.42)\">\n",
       "    <path fill=\"none\" d=\"M-2.72,-0.18 L 2.73 -1.76 -0.01 1.93\" class=\"primitive\"/>\n",
       "  </g>\n",
       "  <g transform=\"translate(71.15,55.03)\">\n",
       "    <path fill=\"none\" d=\"M2,-1.31 L 0.02 2.61 -2.03 -1.3\" class=\"primitive\"/>\n",
       "  </g>\n",
       "  <g transform=\"translate(50.64,37.68)\">\n",
       "    <path fill=\"none\" d=\"M2.67,0.42 L -3.03 1.49 0.36 -1.92\" class=\"primitive\"/>\n",
       "  </g>\n",
       "  <g transform=\"translate(121.95,16.38)\">\n",
       "    <path fill=\"none\" d=\"M-0.66,-1.88 L 3.24 1.25 -2.58 0.63\" class=\"primitive\"/>\n",
       "  </g>\n",
       "  <g transform=\"translate(129.61,46.99)\">\n",
       "    <path fill=\"none\" d=\"M2.01,-1.31 L 0.01 2.61 -2.02 -1.3\" class=\"primitive\"/>\n",
       "  </g>\n",
       "  <g transform=\"translate(107.8,69.14)\">\n",
       "    <path fill=\"none\" d=\"M2.73,0.05 L -2.56 1.88 -0.17 -1.93\" class=\"primitive\"/>\n",
       "  </g>\n",
       "  <g transform=\"translate(87.41,86.84)\">\n",
       "    <path fill=\"none\" d=\"M2.72,-0.17 L -2.24 2.07 -0.48 -1.9\" class=\"primitive\"/>\n",
       "  </g>\n",
       "  <g transform=\"translate(78.67,64.13)\">\n",
       "    <path fill=\"none\" d=\"M0.6,1.89 L -3.2 -1.3 2.6 -0.59\" class=\"primitive\"/>\n",
       "  </g>\n",
       "  <g transform=\"translate(73.33,67.01)\">\n",
       "    <path fill=\"none\" d=\"M-1.5,1.62 L -0.91 -2.53 2.41 0.91\" class=\"primitive\"/>\n",
       "  </g>\n",
       "  <g transform=\"translate(49.6,45.51)\">\n",
       "    <path fill=\"none\" d=\"M-0.15,1.93 L -2.58 -1.87 2.73 -0.06\" class=\"primitive\"/>\n",
       "  </g>\n",
       "  <g transform=\"translate(63.85,31.17)\">\n",
       "    <path fill=\"none\" d=\"M-2.67,-0.42 L 3.03 -1.49 -0.36 1.92\" class=\"primitive\"/>\n",
       "  </g>\n",
       "  <g transform=\"translate(20.18,37.49)\">\n",
       "    <path fill=\"none\" d=\"M1.36,1.67 L -3.6 -0.57 2.24 -1.11\" class=\"primitive\"/>\n",
       "  </g>\n",
       "</g>\n",
       "<g font-size=\"4\" stroke=\"#000000\" stroke-opacity=\"0.000\" fill=\"#000000\" id=\"img-2097d444-3\">\n",
       "</g>\n",
       "<g stroke-width=\"0\" stroke=\"#000000\" stroke-opacity=\"0.000\" fill=\"#40E0D0\" id=\"img-2097d444-4\">\n",
       "  <g transform=\"translate(70.9,27.69)\">\n",
       "    <circle cx=\"0\" cy=\"0\" r=\"4.71\" class=\"primitive\"/>\n",
       "  </g>\n",
       "  <g transform=\"translate(101.03,8.33)\">\n",
       "    <circle cx=\"0\" cy=\"0\" r=\"4.71\" class=\"primitive\"/>\n",
       "  </g>\n",
       "  <g transform=\"translate(129.5,19.29)\">\n",
       "    <circle cx=\"0\" cy=\"0\" r=\"4.71\" class=\"primitive\"/>\n",
       "  </g>\n",
       "  <g transform=\"translate(129.64,53.08)\">\n",
       "    <circle cx=\"0\" cy=\"0\" r=\"4.71\" class=\"primitive\"/>\n",
       "  </g>\n",
       "  <g transform=\"translate(101.84,73.52)\">\n",
       "    <circle cx=\"0\" cy=\"0\" r=\"4.71\" class=\"primitive\"/>\n",
       "  </g>\n",
       "  <g transform=\"translate(82.18,91.67)\">\n",
       "    <circle cx=\"0\" cy=\"0\" r=\"4.71\" class=\"primitive\"/>\n",
       "  </g>\n",
       "  <g transform=\"translate(71.21,61.11)\">\n",
       "    <circle cx=\"0\" cy=\"0\" r=\"4.71\" class=\"primitive\"/>\n",
       "  </g>\n",
       "  <g transform=\"translate(43.58,41.16)\">\n",
       "    <circle cx=\"0\" cy=\"0\" r=\"4.71\" class=\"primitive\"/>\n",
       "  </g>\n",
       "  <g transform=\"translate(11.79,36.17)\">\n",
       "    <circle cx=\"0\" cy=\"0\" r=\"4.71\" class=\"primitive\"/>\n",
       "  </g>\n",
       "</g>\n",
       "<g font-size=\"4\" stroke=\"#000000\" stroke-opacity=\"0.000\" fill=\"#000000\" id=\"img-2097d444-5\">\n",
       "  <g transform=\"translate(70.9,27.69)\">\n",
       "    <g class=\"primitive\">\n",
       "      <text text-anchor=\"middle\" dy=\"0.35em\">grosseconomy</text>\n",
       "    </g>\n",
       "  </g>\n",
       "  <g transform=\"translate(101.03,8.33)\">\n",
       "    <g class=\"primitive\">\n",
       "      <text text-anchor=\"middle\" dy=\"0.35em\">emissions</text>\n",
       "    </g>\n",
       "  </g>\n",
       "  <g transform=\"translate(129.5,19.29)\">\n",
       "    <g class=\"primitive\">\n",
       "      <text text-anchor=\"middle\" dy=\"0.35em\">co2cycle</text>\n",
       "    </g>\n",
       "  </g>\n",
       "  <g transform=\"translate(129.64,53.08)\">\n",
       "    <g class=\"primitive\">\n",
       "      <text text-anchor=\"middle\" dy=\"0.35em\">radiativeforcing</text>\n",
       "    </g>\n",
       "  </g>\n",
       "  <g transform=\"translate(101.84,73.52)\">\n",
       "    <g class=\"primitive\">\n",
       "      <text text-anchor=\"middle\" dy=\"0.35em\">climatedynamics</text>\n",
       "    </g>\n",
       "  </g>\n",
       "  <g transform=\"translate(82.18,91.67)\">\n",
       "    <g class=\"primitive\">\n",
       "      <text text-anchor=\"middle\" dy=\"0.35em\">sealevelrise</text>\n",
       "    </g>\n",
       "  </g>\n",
       "  <g transform=\"translate(71.21,61.11)\">\n",
       "    <g class=\"primitive\">\n",
       "      <text text-anchor=\"middle\" dy=\"0.35em\">damages</text>\n",
       "    </g>\n",
       "  </g>\n",
       "  <g transform=\"translate(43.58,41.16)\">\n",
       "    <g class=\"primitive\">\n",
       "      <text text-anchor=\"middle\" dy=\"0.35em\">neteconomy</text>\n",
       "    </g>\n",
       "  </g>\n",
       "  <g transform=\"translate(11.79,36.17)\">\n",
       "    <g class=\"primitive\">\n",
       "      <text text-anchor=\"middle\" dy=\"0.35em\">welfare</text>\n",
       "    </g>\n",
       "  </g>\n",
       "</g>\n",
       "<script> <![CDATA[\n",
       "(function(N){var k=/[\\.\\/]/,L=/\\s*,\\s*/,C=function(a,d){return a-d},a,v,y={n:{}},M=function(){for(var a=0,d=this.length;a<d;a++)if(\"undefined\"!=typeof this[a])return this[a]},A=function(){for(var a=this.length;--a;)if(\"undefined\"!=typeof this[a])return this[a]},w=function(k,d){k=String(k);var f=v,n=Array.prototype.slice.call(arguments,2),u=w.listeners(k),p=0,b,q=[],e={},l=[],r=a;l.firstDefined=M;l.lastDefined=A;a=k;for(var s=v=0,x=u.length;s<x;s++)\"zIndex\"in u[s]&&(q.push(u[s].zIndex),0>u[s].zIndex&&\n",
       "(e[u[s].zIndex]=u[s]));for(q.sort(C);0>q[p];)if(b=e[q[p++] ],l.push(b.apply(d,n)),v)return v=f,l;for(s=0;s<x;s++)if(b=u[s],\"zIndex\"in b)if(b.zIndex==q[p]){l.push(b.apply(d,n));if(v)break;do if(p++,(b=e[q[p] ])&&l.push(b.apply(d,n)),v)break;while(b)}else e[b.zIndex]=b;else if(l.push(b.apply(d,n)),v)break;v=f;a=r;return l};w._events=y;w.listeners=function(a){a=a.split(k);var d=y,f,n,u,p,b,q,e,l=[d],r=[];u=0;for(p=a.length;u<p;u++){e=[];b=0;for(q=l.length;b<q;b++)for(d=l[b].n,f=[d[a[u] ],d[\"*\"] ],n=2;n--;)if(d=\n",
       "f[n])e.push(d),r=r.concat(d.f||[]);l=e}return r};w.on=function(a,d){a=String(a);if(\"function\"!=typeof d)return function(){};for(var f=a.split(L),n=0,u=f.length;n<u;n++)(function(a){a=a.split(k);for(var b=y,f,e=0,l=a.length;e<l;e++)b=b.n,b=b.hasOwnProperty(a[e])&&b[a[e] ]||(b[a[e] ]={n:{}});b.f=b.f||[];e=0;for(l=b.f.length;e<l;e++)if(b.f[e]==d){f=!0;break}!f&&b.f.push(d)})(f[n]);return function(a){+a==+a&&(d.zIndex=+a)}};w.f=function(a){var d=[].slice.call(arguments,1);return function(){w.apply(null,\n",
       "[a,null].concat(d).concat([].slice.call(arguments,0)))}};w.stop=function(){v=1};w.nt=function(k){return k?(new RegExp(\"(?:\\\\.|\\\\/|^)\"+k+\"(?:\\\\.|\\\\/|$)\")).test(a):a};w.nts=function(){return a.split(k)};w.off=w.unbind=function(a,d){if(a){var f=a.split(L);if(1<f.length)for(var n=0,u=f.length;n<u;n++)w.off(f[n],d);else{for(var f=a.split(k),p,b,q,e,l=[y],n=0,u=f.length;n<u;n++)for(e=0;e<l.length;e+=q.length-2){q=[e,1];p=l[e].n;if(\"*\"!=f[n])p[f[n] ]&&q.push(p[f[n] ]);else for(b in p)p.hasOwnProperty(b)&&\n",
       "q.push(p[b]);l.splice.apply(l,q)}n=0;for(u=l.length;n<u;n++)for(p=l[n];p.n;){if(d){if(p.f){e=0;for(f=p.f.length;e<f;e++)if(p.f[e]==d){p.f.splice(e,1);break}!p.f.length&&delete p.f}for(b in p.n)if(p.n.hasOwnProperty(b)&&p.n[b].f){q=p.n[b].f;e=0;for(f=q.length;e<f;e++)if(q[e]==d){q.splice(e,1);break}!q.length&&delete p.n[b].f}}else for(b in delete p.f,p.n)p.n.hasOwnProperty(b)&&p.n[b].f&&delete p.n[b].f;p=p.n}}}else w._events=y={n:{}}};w.once=function(a,d){var f=function(){w.unbind(a,f);return d.apply(this,\n",
       "arguments)};return w.on(a,f)};w.version=\"0.4.2\";w.toString=function(){return\"You are running Eve 0.4.2\"};\"undefined\"!=typeof module&&module.exports?module.exports=w:\"function\"===typeof define&&define.amd?define(\"eve\",[],function(){return w}):N.eve=w})(this);\n",
       "(function(N,k){\"function\"===typeof define&&define.amd?define(\"Snap.svg\",[\"eve\"],function(L){return k(N,L)}):k(N,N.eve)})(this,function(N,k){var L=function(a){var k={},y=N.requestAnimationFrame||N.webkitRequestAnimationFrame||N.mozRequestAnimationFrame||N.oRequestAnimationFrame||N.msRequestAnimationFrame||function(a){setTimeout(a,16)},M=Array.isArray||function(a){return a instanceof Array||\"[object Array]\"==Object.prototype.toString.call(a)},A=0,w=\"M\"+(+new Date).toString(36),z=function(a){if(null==\n",
       "a)return this.s;var b=this.s-a;this.b+=this.dur*b;this.B+=this.dur*b;this.s=a},d=function(a){if(null==a)return this.spd;this.spd=a},f=function(a){if(null==a)return this.dur;this.s=this.s*a/this.dur;this.dur=a},n=function(){delete k[this.id];this.update();a(\"mina.stop.\"+this.id,this)},u=function(){this.pdif||(delete k[this.id],this.update(),this.pdif=this.get()-this.b)},p=function(){this.pdif&&(this.b=this.get()-this.pdif,delete this.pdif,k[this.id]=this)},b=function(){var a;if(M(this.start)){a=[];\n",
       "for(var b=0,e=this.start.length;b<e;b++)a[b]=+this.start[b]+(this.end[b]-this.start[b])*this.easing(this.s)}else a=+this.start+(this.end-this.start)*this.easing(this.s);this.set(a)},q=function(){var l=0,b;for(b in k)if(k.hasOwnProperty(b)){var e=k[b],f=e.get();l++;e.s=(f-e.b)/(e.dur/e.spd);1<=e.s&&(delete k[b],e.s=1,l--,function(b){setTimeout(function(){a(\"mina.finish.\"+b.id,b)})}(e));e.update()}l&&y(q)},e=function(a,r,s,x,G,h,J){a={id:w+(A++).toString(36),start:a,end:r,b:s,s:0,dur:x-s,spd:1,get:G,\n",
       "set:h,easing:J||e.linear,status:z,speed:d,duration:f,stop:n,pause:u,resume:p,update:b};k[a.id]=a;r=0;for(var K in k)if(k.hasOwnProperty(K)&&(r++,2==r))break;1==r&&y(q);return a};e.time=Date.now||function(){return+new Date};e.getById=function(a){return k[a]||null};e.linear=function(a){return a};e.easeout=function(a){return Math.pow(a,1.7)};e.easein=function(a){return Math.pow(a,0.48)};e.easeinout=function(a){if(1==a)return 1;if(0==a)return 0;var b=0.48-a/1.04,e=Math.sqrt(0.1734+b*b);a=e-b;a=Math.pow(Math.abs(a),\n",
       "1/3)*(0>a?-1:1);b=-e-b;b=Math.pow(Math.abs(b),1/3)*(0>b?-1:1);a=a+b+0.5;return 3*(1-a)*a*a+a*a*a};e.backin=function(a){return 1==a?1:a*a*(2.70158*a-1.70158)};e.backout=function(a){if(0==a)return 0;a-=1;return a*a*(2.70158*a+1.70158)+1};e.elastic=function(a){return a==!!a?a:Math.pow(2,-10*a)*Math.sin(2*(a-0.075)*Math.PI/0.3)+1};e.bounce=function(a){a<1/2.75?a*=7.5625*a:a<2/2.75?(a-=1.5/2.75,a=7.5625*a*a+0.75):a<2.5/2.75?(a-=2.25/2.75,a=7.5625*a*a+0.9375):(a-=2.625/2.75,a=7.5625*a*a+0.984375);return a};\n",
       "return N.mina=e}(\"undefined\"==typeof k?function(){}:k),C=function(){function a(c,t){if(c){if(c.tagName)return x(c);if(y(c,\"array\")&&a.set)return a.set.apply(a,c);if(c instanceof e)return c;if(null==t)return c=G.doc.querySelector(c),x(c)}return new s(null==c?\"100%\":c,null==t?\"100%\":t)}function v(c,a){if(a){\"#text\"==c&&(c=G.doc.createTextNode(a.text||\"\"));\"string\"==typeof c&&(c=v(c));if(\"string\"==typeof a)return\"xlink:\"==a.substring(0,6)?c.getAttributeNS(m,a.substring(6)):\"xml:\"==a.substring(0,4)?c.getAttributeNS(la,\n",
       "a.substring(4)):c.getAttribute(a);for(var da in a)if(a[h](da)){var b=J(a[da]);b?\"xlink:\"==da.substring(0,6)?c.setAttributeNS(m,da.substring(6),b):\"xml:\"==da.substring(0,4)?c.setAttributeNS(la,da.substring(4),b):c.setAttribute(da,b):c.removeAttribute(da)}}else c=G.doc.createElementNS(la,c);return c}function y(c,a){a=J.prototype.toLowerCase.call(a);return\"finite\"==a?isFinite(c):\"array\"==a&&(c instanceof Array||Array.isArray&&Array.isArray(c))?!0:\"null\"==a&&null===c||a==typeof c&&null!==c||\"object\"==\n",
       "a&&c===Object(c)||$.call(c).slice(8,-1).toLowerCase()==a}function M(c){if(\"function\"==typeof c||Object(c)!==c)return c;var a=new c.constructor,b;for(b in c)c[h](b)&&(a[b]=M(c[b]));return a}function A(c,a,b){function m(){var e=Array.prototype.slice.call(arguments,0),f=e.join(\"\\u2400\"),d=m.cache=m.cache||{},l=m.count=m.count||[];if(d[h](f)){a:for(var e=l,l=f,B=0,H=e.length;B<H;B++)if(e[B]===l){e.push(e.splice(B,1)[0]);break a}return b?b(d[f]):d[f]}1E3<=l.length&&delete d[l.shift()];l.push(f);d[f]=c.apply(a,\n",
       "e);return b?b(d[f]):d[f]}return m}function w(c,a,b,m,e,f){return null==e?(c-=b,a-=m,c||a?(180*I.atan2(-a,-c)/C+540)%360:0):w(c,a,e,f)-w(b,m,e,f)}function z(c){return c%360*C/180}function d(c){var a=[];c=c.replace(/(?:^|\\s)(\\w+)\\(([^)]+)\\)/g,function(c,b,m){m=m.split(/\\s*,\\s*|\\s+/);\"rotate\"==b&&1==m.length&&m.push(0,0);\"scale\"==b&&(2<m.length?m=m.slice(0,2):2==m.length&&m.push(0,0),1==m.length&&m.push(m[0],0,0));\"skewX\"==b?a.push([\"m\",1,0,I.tan(z(m[0])),1,0,0]):\"skewY\"==b?a.push([\"m\",1,I.tan(z(m[0])),\n",
       "0,1,0,0]):a.push([b.charAt(0)].concat(m));return c});return a}function f(c,t){var b=O(c),m=new a.Matrix;if(b)for(var e=0,f=b.length;e<f;e++){var h=b[e],d=h.length,B=J(h[0]).toLowerCase(),H=h[0]!=B,l=H?m.invert():0,E;\"t\"==B&&2==d?m.translate(h[1],0):\"t\"==B&&3==d?H?(d=l.x(0,0),B=l.y(0,0),H=l.x(h[1],h[2]),l=l.y(h[1],h[2]),m.translate(H-d,l-B)):m.translate(h[1],h[2]):\"r\"==B?2==d?(E=E||t,m.rotate(h[1],E.x+E.width/2,E.y+E.height/2)):4==d&&(H?(H=l.x(h[2],h[3]),l=l.y(h[2],h[3]),m.rotate(h[1],H,l)):m.rotate(h[1],\n",
       "h[2],h[3])):\"s\"==B?2==d||3==d?(E=E||t,m.scale(h[1],h[d-1],E.x+E.width/2,E.y+E.height/2)):4==d?H?(H=l.x(h[2],h[3]),l=l.y(h[2],h[3]),m.scale(h[1],h[1],H,l)):m.scale(h[1],h[1],h[2],h[3]):5==d&&(H?(H=l.x(h[3],h[4]),l=l.y(h[3],h[4]),m.scale(h[1],h[2],H,l)):m.scale(h[1],h[2],h[3],h[4])):\"m\"==B&&7==d&&m.add(h[1],h[2],h[3],h[4],h[5],h[6])}return m}function n(c,t){if(null==t){var m=!0;t=\"linearGradient\"==c.type||\"radialGradient\"==c.type?c.node.getAttribute(\"gradientTransform\"):\"pattern\"==c.type?c.node.getAttribute(\"patternTransform\"):\n",
       "c.node.getAttribute(\"transform\");if(!t)return new a.Matrix;t=d(t)}else t=a._.rgTransform.test(t)?J(t).replace(/\\.{3}|\\u2026/g,c._.transform||aa):d(t),y(t,\"array\")&&(t=a.path?a.path.toString.call(t):J(t)),c._.transform=t;var b=f(t,c.getBBox(1));if(m)return b;c.matrix=b}function u(c){c=c.node.ownerSVGElement&&x(c.node.ownerSVGElement)||c.node.parentNode&&x(c.node.parentNode)||a.select(\"svg\")||a(0,0);var t=c.select(\"defs\"),t=null==t?!1:t.node;t||(t=r(\"defs\",c.node).node);return t}function p(c){return c.node.ownerSVGElement&&\n",
       "x(c.node.ownerSVGElement)||a.select(\"svg\")}function b(c,a,m){function b(c){if(null==c)return aa;if(c==+c)return c;v(B,{width:c});try{return B.getBBox().width}catch(a){return 0}}function h(c){if(null==c)return aa;if(c==+c)return c;v(B,{height:c});try{return B.getBBox().height}catch(a){return 0}}function e(b,B){null==a?d[b]=B(c.attr(b)||0):b==a&&(d=B(null==m?c.attr(b)||0:m))}var f=p(c).node,d={},B=f.querySelector(\".svg---mgr\");B||(B=v(\"rect\"),v(B,{x:-9E9,y:-9E9,width:10,height:10,\"class\":\"svg---mgr\",\n",
       "fill:\"none\"}),f.appendChild(B));switch(c.type){case \"rect\":e(\"rx\",b),e(\"ry\",h);case \"image\":e(\"width\",b),e(\"height\",h);case \"text\":e(\"x\",b);e(\"y\",h);break;case \"circle\":e(\"cx\",b);e(\"cy\",h);e(\"r\",b);break;case \"ellipse\":e(\"cx\",b);e(\"cy\",h);e(\"rx\",b);e(\"ry\",h);break;case \"line\":e(\"x1\",b);e(\"x2\",b);e(\"y1\",h);e(\"y2\",h);break;case \"marker\":e(\"refX\",b);e(\"markerWidth\",b);e(\"refY\",h);e(\"markerHeight\",h);break;case \"radialGradient\":e(\"fx\",b);e(\"fy\",h);break;case \"tspan\":e(\"dx\",b);e(\"dy\",h);break;default:e(a,\n",
       "b)}f.removeChild(B);return d}function q(c){y(c,\"array\")||(c=Array.prototype.slice.call(arguments,0));for(var a=0,b=0,m=this.node;this[a];)delete this[a++];for(a=0;a<c.length;a++)\"set\"==c[a].type?c[a].forEach(function(c){m.appendChild(c.node)}):m.appendChild(c[a].node);for(var h=m.childNodes,a=0;a<h.length;a++)this[b++]=x(h[a]);return this}function e(c){if(c.snap in E)return E[c.snap];var a=this.id=V(),b;try{b=c.ownerSVGElement}catch(m){}this.node=c;b&&(this.paper=new s(b));this.type=c.tagName;this.anims=\n",
       "{};this._={transform:[]};c.snap=a;E[a]=this;\"g\"==this.type&&(this.add=q);if(this.type in{g:1,mask:1,pattern:1})for(var e in s.prototype)s.prototype[h](e)&&(this[e]=s.prototype[e])}function l(c){this.node=c}function r(c,a){var b=v(c);a.appendChild(b);return x(b)}function s(c,a){var b,m,f,d=s.prototype;if(c&&\"svg\"==c.tagName){if(c.snap in E)return E[c.snap];var l=c.ownerDocument;b=new e(c);m=c.getElementsByTagName(\"desc\")[0];f=c.getElementsByTagName(\"defs\")[0];m||(m=v(\"desc\"),m.appendChild(l.createTextNode(\"Created with Snap\")),\n",
       "b.node.appendChild(m));f||(f=v(\"defs\"),b.node.appendChild(f));b.defs=f;for(var ca in d)d[h](ca)&&(b[ca]=d[ca]);b.paper=b.root=b}else b=r(\"svg\",G.doc.body),v(b.node,{height:a,version:1.1,width:c,xmlns:la});return b}function x(c){return!c||c instanceof e||c instanceof l?c:c.tagName&&\"svg\"==c.tagName.toLowerCase()?new s(c):c.tagName&&\"object\"==c.tagName.toLowerCase()&&\"image/svg+xml\"==c.type?new s(c.contentDocument.getElementsByTagName(\"svg\")[0]):new e(c)}a.version=\"0.3.0\";a.toString=function(){return\"Snap v\"+\n",
       "this.version};a._={};var G={win:N,doc:N.document};a._.glob=G;var h=\"hasOwnProperty\",J=String,K=parseFloat,U=parseInt,I=Math,P=I.max,Q=I.min,Y=I.abs,C=I.PI,aa=\"\",$=Object.prototype.toString,F=/^\\s*((#[a-f\\d]{6})|(#[a-f\\d]{3})|rgba?\\(\\s*([\\d\\.]+%?\\s*,\\s*[\\d\\.]+%?\\s*,\\s*[\\d\\.]+%?(?:\\s*,\\s*[\\d\\.]+%?)?)\\s*\\)|hsba?\\(\\s*([\\d\\.]+(?:deg|\\xb0|%)?\\s*,\\s*[\\d\\.]+%?\\s*,\\s*[\\d\\.]+(?:%?\\s*,\\s*[\\d\\.]+)?%?)\\s*\\)|hsla?\\(\\s*([\\d\\.]+(?:deg|\\xb0|%)?\\s*,\\s*[\\d\\.]+%?\\s*,\\s*[\\d\\.]+(?:%?\\s*,\\s*[\\d\\.]+)?%?)\\s*\\))\\s*$/i;a._.separator=\n",
       "RegExp(\"[,\\t\\n\\x0B\\f\\r \\u00a0\\u1680\\u180e\\u2000\\u2001\\u2002\\u2003\\u2004\\u2005\\u2006\\u2007\\u2008\\u2009\\u200a\\u202f\\u205f\\u3000\\u2028\\u2029]+\");var S=RegExp(\"[\\t\\n\\x0B\\f\\r \\u00a0\\u1680\\u180e\\u2000\\u2001\\u2002\\u2003\\u2004\\u2005\\u2006\\u2007\\u2008\\u2009\\u200a\\u202f\\u205f\\u3000\\u2028\\u2029]*,[\\t\\n\\x0B\\f\\r \\u00a0\\u1680\\u180e\\u2000\\u2001\\u2002\\u2003\\u2004\\u2005\\u2006\\u2007\\u2008\\u2009\\u200a\\u202f\\u205f\\u3000\\u2028\\u2029]*\"),X={hs:1,rg:1},W=RegExp(\"([a-z])[\\t\\n\\x0B\\f\\r \\u00a0\\u1680\\u180e\\u2000\\u2001\\u2002\\u2003\\u2004\\u2005\\u2006\\u2007\\u2008\\u2009\\u200a\\u202f\\u205f\\u3000\\u2028\\u2029,]*((-?\\\\d*\\\\.?\\\\d*(?:e[\\\\-+]?\\\\d+)?[\\t\\n\\x0B\\f\\r \\u00a0\\u1680\\u180e\\u2000\\u2001\\u2002\\u2003\\u2004\\u2005\\u2006\\u2007\\u2008\\u2009\\u200a\\u202f\\u205f\\u3000\\u2028\\u2029]*,?[\\t\\n\\x0B\\f\\r \\u00a0\\u1680\\u180e\\u2000\\u2001\\u2002\\u2003\\u2004\\u2005\\u2006\\u2007\\u2008\\u2009\\u200a\\u202f\\u205f\\u3000\\u2028\\u2029]*)+)\",\n",
       "\"ig\"),ma=RegExp(\"([rstm])[\\t\\n\\x0B\\f\\r \\u00a0\\u1680\\u180e\\u2000\\u2001\\u2002\\u2003\\u2004\\u2005\\u2006\\u2007\\u2008\\u2009\\u200a\\u202f\\u205f\\u3000\\u2028\\u2029,]*((-?\\\\d*\\\\.?\\\\d*(?:e[\\\\-+]?\\\\d+)?[\\t\\n\\x0B\\f\\r \\u00a0\\u1680\\u180e\\u2000\\u2001\\u2002\\u2003\\u2004\\u2005\\u2006\\u2007\\u2008\\u2009\\u200a\\u202f\\u205f\\u3000\\u2028\\u2029]*,?[\\t\\n\\x0B\\f\\r \\u00a0\\u1680\\u180e\\u2000\\u2001\\u2002\\u2003\\u2004\\u2005\\u2006\\u2007\\u2008\\u2009\\u200a\\u202f\\u205f\\u3000\\u2028\\u2029]*)+)\",\"ig\"),Z=RegExp(\"(-?\\\\d*\\\\.?\\\\d*(?:e[\\\\-+]?\\\\d+)?)[\\t\\n\\x0B\\f\\r \\u00a0\\u1680\\u180e\\u2000\\u2001\\u2002\\u2003\\u2004\\u2005\\u2006\\u2007\\u2008\\u2009\\u200a\\u202f\\u205f\\u3000\\u2028\\u2029]*,?[\\t\\n\\x0B\\f\\r \\u00a0\\u1680\\u180e\\u2000\\u2001\\u2002\\u2003\\u2004\\u2005\\u2006\\u2007\\u2008\\u2009\\u200a\\u202f\\u205f\\u3000\\u2028\\u2029]*\",\n",
       "\"ig\"),na=0,ba=\"S\"+(+new Date).toString(36),V=function(){return ba+(na++).toString(36)},m=\"http://www.w3.org/1999/xlink\",la=\"http://www.w3.org/2000/svg\",E={},ca=a.url=function(c){return\"url('#\"+c+\"')\"};a._.$=v;a._.id=V;a.format=function(){var c=/\\{([^\\}]+)\\}/g,a=/(?:(?:^|\\.)(.+?)(?=\\[|\\.|$|\\()|\\[('|\")(.+?)\\2\\])(\\(\\))?/g,b=function(c,b,m){var h=m;b.replace(a,function(c,a,b,m,t){a=a||m;h&&(a in h&&(h=h[a]),\"function\"==typeof h&&t&&(h=h()))});return h=(null==h||h==m?c:h)+\"\"};return function(a,m){return J(a).replace(c,\n",
       "function(c,a){return b(c,a,m)})}}();a._.clone=M;a._.cacher=A;a.rad=z;a.deg=function(c){return 180*c/C%360};a.angle=w;a.is=y;a.snapTo=function(c,a,b){b=y(b,\"finite\")?b:10;if(y(c,\"array\"))for(var m=c.length;m--;){if(Y(c[m]-a)<=b)return c[m]}else{c=+c;m=a%c;if(m<b)return a-m;if(m>c-b)return a-m+c}return a};a.getRGB=A(function(c){if(!c||(c=J(c)).indexOf(\"-\")+1)return{r:-1,g:-1,b:-1,hex:\"none\",error:1,toString:ka};if(\"none\"==c)return{r:-1,g:-1,b:-1,hex:\"none\",toString:ka};!X[h](c.toLowerCase().substring(0,\n",
       "2))&&\"#\"!=c.charAt()&&(c=T(c));if(!c)return{r:-1,g:-1,b:-1,hex:\"none\",error:1,toString:ka};var b,m,e,f,d;if(c=c.match(F)){c[2]&&(e=U(c[2].substring(5),16),m=U(c[2].substring(3,5),16),b=U(c[2].substring(1,3),16));c[3]&&(e=U((d=c[3].charAt(3))+d,16),m=U((d=c[3].charAt(2))+d,16),b=U((d=c[3].charAt(1))+d,16));c[4]&&(d=c[4].split(S),b=K(d[0]),\"%\"==d[0].slice(-1)&&(b*=2.55),m=K(d[1]),\"%\"==d[1].slice(-1)&&(m*=2.55),e=K(d[2]),\"%\"==d[2].slice(-1)&&(e*=2.55),\"rgba\"==c[1].toLowerCase().slice(0,4)&&(f=K(d[3])),\n",
       "d[3]&&\"%\"==d[3].slice(-1)&&(f/=100));if(c[5])return d=c[5].split(S),b=K(d[0]),\"%\"==d[0].slice(-1)&&(b/=100),m=K(d[1]),\"%\"==d[1].slice(-1)&&(m/=100),e=K(d[2]),\"%\"==d[2].slice(-1)&&(e/=100),\"deg\"!=d[0].slice(-3)&&\"\\u00b0\"!=d[0].slice(-1)||(b/=360),\"hsba\"==c[1].toLowerCase().slice(0,4)&&(f=K(d[3])),d[3]&&\"%\"==d[3].slice(-1)&&(f/=100),a.hsb2rgb(b,m,e,f);if(c[6])return d=c[6].split(S),b=K(d[0]),\"%\"==d[0].slice(-1)&&(b/=100),m=K(d[1]),\"%\"==d[1].slice(-1)&&(m/=100),e=K(d[2]),\"%\"==d[2].slice(-1)&&(e/=100),\n",
       "\"deg\"!=d[0].slice(-3)&&\"\\u00b0\"!=d[0].slice(-1)||(b/=360),\"hsla\"==c[1].toLowerCase().slice(0,4)&&(f=K(d[3])),d[3]&&\"%\"==d[3].slice(-1)&&(f/=100),a.hsl2rgb(b,m,e,f);b=Q(I.round(b),255);m=Q(I.round(m),255);e=Q(I.round(e),255);f=Q(P(f,0),1);c={r:b,g:m,b:e,toString:ka};c.hex=\"#\"+(16777216|e|m<<8|b<<16).toString(16).slice(1);c.opacity=y(f,\"finite\")?f:1;return c}return{r:-1,g:-1,b:-1,hex:\"none\",error:1,toString:ka}},a);a.hsb=A(function(c,b,m){return a.hsb2rgb(c,b,m).hex});a.hsl=A(function(c,b,m){return a.hsl2rgb(c,\n",
       "b,m).hex});a.rgb=A(function(c,a,b,m){if(y(m,\"finite\")){var e=I.round;return\"rgba(\"+[e(c),e(a),e(b),+m.toFixed(2)]+\")\"}return\"#\"+(16777216|b|a<<8|c<<16).toString(16).slice(1)});var T=function(c){var a=G.doc.getElementsByTagName(\"head\")[0]||G.doc.getElementsByTagName(\"svg\")[0];T=A(function(c){if(\"red\"==c.toLowerCase())return\"rgb(255, 0, 0)\";a.style.color=\"rgb(255, 0, 0)\";a.style.color=c;c=G.doc.defaultView.getComputedStyle(a,aa).getPropertyValue(\"color\");return\"rgb(255, 0, 0)\"==c?null:c});return T(c)},\n",
       "qa=function(){return\"hsb(\"+[this.h,this.s,this.b]+\")\"},ra=function(){return\"hsl(\"+[this.h,this.s,this.l]+\")\"},ka=function(){return 1==this.opacity||null==this.opacity?this.hex:\"rgba(\"+[this.r,this.g,this.b,this.opacity]+\")\"},D=function(c,b,m){null==b&&y(c,\"object\")&&\"r\"in c&&\"g\"in c&&\"b\"in c&&(m=c.b,b=c.g,c=c.r);null==b&&y(c,string)&&(m=a.getRGB(c),c=m.r,b=m.g,m=m.b);if(1<c||1<b||1<m)c/=255,b/=255,m/=255;return[c,b,m]},oa=function(c,b,m,e){c=I.round(255*c);b=I.round(255*b);m=I.round(255*m);c={r:c,\n",
       "g:b,b:m,opacity:y(e,\"finite\")?e:1,hex:a.rgb(c,b,m),toString:ka};y(e,\"finite\")&&(c.opacity=e);return c};a.color=function(c){var b;y(c,\"object\")&&\"h\"in c&&\"s\"in c&&\"b\"in c?(b=a.hsb2rgb(c),c.r=b.r,c.g=b.g,c.b=b.b,c.opacity=1,c.hex=b.hex):y(c,\"object\")&&\"h\"in c&&\"s\"in c&&\"l\"in c?(b=a.hsl2rgb(c),c.r=b.r,c.g=b.g,c.b=b.b,c.opacity=1,c.hex=b.hex):(y(c,\"string\")&&(c=a.getRGB(c)),y(c,\"object\")&&\"r\"in c&&\"g\"in c&&\"b\"in c&&!(\"error\"in c)?(b=a.rgb2hsl(c),c.h=b.h,c.s=b.s,c.l=b.l,b=a.rgb2hsb(c),c.v=b.b):(c={hex:\"none\"},\n",
       "c.r=c.g=c.b=c.h=c.s=c.v=c.l=-1,c.error=1));c.toString=ka;return c};a.hsb2rgb=function(c,a,b,m){y(c,\"object\")&&\"h\"in c&&\"s\"in c&&\"b\"in c&&(b=c.b,a=c.s,c=c.h,m=c.o);var e,h,d;c=360*c%360/60;d=b*a;a=d*(1-Y(c%2-1));b=e=h=b-d;c=~~c;b+=[d,a,0,0,a,d][c];e+=[a,d,d,a,0,0][c];h+=[0,0,a,d,d,a][c];return oa(b,e,h,m)};a.hsl2rgb=function(c,a,b,m){y(c,\"object\")&&\"h\"in c&&\"s\"in c&&\"l\"in c&&(b=c.l,a=c.s,c=c.h);if(1<c||1<a||1<b)c/=360,a/=100,b/=100;var e,h,d;c=360*c%360/60;d=2*a*(0.5>b?b:1-b);a=d*(1-Y(c%2-1));b=e=\n",
       "h=b-d/2;c=~~c;b+=[d,a,0,0,a,d][c];e+=[a,d,d,a,0,0][c];h+=[0,0,a,d,d,a][c];return oa(b,e,h,m)};a.rgb2hsb=function(c,a,b){b=D(c,a,b);c=b[0];a=b[1];b=b[2];var m,e;m=P(c,a,b);e=m-Q(c,a,b);c=((0==e?0:m==c?(a-b)/e:m==a?(b-c)/e+2:(c-a)/e+4)+360)%6*60/360;return{h:c,s:0==e?0:e/m,b:m,toString:qa}};a.rgb2hsl=function(c,a,b){b=D(c,a,b);c=b[0];a=b[1];b=b[2];var m,e,h;m=P(c,a,b);e=Q(c,a,b);h=m-e;c=((0==h?0:m==c?(a-b)/h:m==a?(b-c)/h+2:(c-a)/h+4)+360)%6*60/360;m=(m+e)/2;return{h:c,s:0==h?0:0.5>m?h/(2*m):h/(2-2*\n",
       "m),l:m,toString:ra}};a.parsePathString=function(c){if(!c)return null;var b=a.path(c);if(b.arr)return a.path.clone(b.arr);var m={a:7,c:6,o:2,h:1,l:2,m:2,r:4,q:4,s:4,t:2,v:1,u:3,z:0},e=[];y(c,\"array\")&&y(c[0],\"array\")&&(e=a.path.clone(c));e.length||J(c).replace(W,function(c,a,b){var h=[];c=a.toLowerCase();b.replace(Z,function(c,a){a&&h.push(+a)});\"m\"==c&&2<h.length&&(e.push([a].concat(h.splice(0,2))),c=\"l\",a=\"m\"==a?\"l\":\"L\");\"o\"==c&&1==h.length&&e.push([a,h[0] ]);if(\"r\"==c)e.push([a].concat(h));else for(;h.length>=\n",
       "m[c]&&(e.push([a].concat(h.splice(0,m[c]))),m[c]););});e.toString=a.path.toString;b.arr=a.path.clone(e);return e};var O=a.parseTransformString=function(c){if(!c)return null;var b=[];y(c,\"array\")&&y(c[0],\"array\")&&(b=a.path.clone(c));b.length||J(c).replace(ma,function(c,a,m){var e=[];a.toLowerCase();m.replace(Z,function(c,a){a&&e.push(+a)});b.push([a].concat(e))});b.toString=a.path.toString;return b};a._.svgTransform2string=d;a._.rgTransform=RegExp(\"^[a-z][\\t\\n\\x0B\\f\\r \\u00a0\\u1680\\u180e\\u2000\\u2001\\u2002\\u2003\\u2004\\u2005\\u2006\\u2007\\u2008\\u2009\\u200a\\u202f\\u205f\\u3000\\u2028\\u2029]*-?\\\\.?\\\\d\",\n",
       "\"i\");a._.transform2matrix=f;a._unit2px=b;a._.getSomeDefs=u;a._.getSomeSVG=p;a.select=function(c){return x(G.doc.querySelector(c))};a.selectAll=function(c){c=G.doc.querySelectorAll(c);for(var b=(a.set||Array)(),m=0;m<c.length;m++)b.push(x(c[m]));return b};setInterval(function(){for(var c in E)if(E[h](c)){var a=E[c],b=a.node;(\"svg\"!=a.type&&!b.ownerSVGElement||\"svg\"==a.type&&(!b.parentNode||\"ownerSVGElement\"in b.parentNode&&!b.ownerSVGElement))&&delete E[c]}},1E4);(function(c){function m(c){function a(c,\n",
       "b){var m=v(c.node,b);(m=(m=m&&m.match(d))&&m[2])&&\"#\"==m.charAt()&&(m=m.substring(1))&&(f[m]=(f[m]||[]).concat(function(a){var m={};m[b]=ca(a);v(c.node,m)}))}function b(c){var a=v(c.node,\"xlink:href\");a&&\"#\"==a.charAt()&&(a=a.substring(1))&&(f[a]=(f[a]||[]).concat(function(a){c.attr(\"xlink:href\",\"#\"+a)}))}var e=c.selectAll(\"*\"),h,d=/^\\s*url\\((\"|'|)(.*)\\1\\)\\s*$/;c=[];for(var f={},l=0,E=e.length;l<E;l++){h=e[l];a(h,\"fill\");a(h,\"stroke\");a(h,\"filter\");a(h,\"mask\");a(h,\"clip-path\");b(h);var t=v(h.node,\n",
       "\"id\");t&&(v(h.node,{id:h.id}),c.push({old:t,id:h.id}))}l=0;for(E=c.length;l<E;l++)if(e=f[c[l].old])for(h=0,t=e.length;h<t;h++)e[h](c[l].id)}function e(c,a,b){return function(m){m=m.slice(c,a);1==m.length&&(m=m[0]);return b?b(m):m}}function d(c){return function(){var a=c?\"<\"+this.type:\"\",b=this.node.attributes,m=this.node.childNodes;if(c)for(var e=0,h=b.length;e<h;e++)a+=\" \"+b[e].name+'=\"'+b[e].value.replace(/\"/g,'\\\\\"')+'\"';if(m.length){c&&(a+=\">\");e=0;for(h=m.length;e<h;e++)3==m[e].nodeType?a+=m[e].nodeValue:\n",
       "1==m[e].nodeType&&(a+=x(m[e]).toString());c&&(a+=\"</\"+this.type+\">\")}else c&&(a+=\"/>\");return a}}c.attr=function(c,a){if(!c)return this;if(y(c,\"string\"))if(1<arguments.length){var b={};b[c]=a;c=b}else return k(\"snap.util.getattr.\"+c,this).firstDefined();for(var m in c)c[h](m)&&k(\"snap.util.attr.\"+m,this,c[m]);return this};c.getBBox=function(c){if(!a.Matrix||!a.path)return this.node.getBBox();var b=this,m=new a.Matrix;if(b.removed)return a._.box();for(;\"use\"==b.type;)if(c||(m=m.add(b.transform().localMatrix.translate(b.attr(\"x\")||\n",
       "0,b.attr(\"y\")||0))),b.original)b=b.original;else var e=b.attr(\"xlink:href\"),b=b.original=b.node.ownerDocument.getElementById(e.substring(e.indexOf(\"#\")+1));var e=b._,h=a.path.get[b.type]||a.path.get.deflt;try{if(c)return e.bboxwt=h?a.path.getBBox(b.realPath=h(b)):a._.box(b.node.getBBox()),a._.box(e.bboxwt);b.realPath=h(b);b.matrix=b.transform().localMatrix;e.bbox=a.path.getBBox(a.path.map(b.realPath,m.add(b.matrix)));return a._.box(e.bbox)}catch(d){return a._.box()}};var f=function(){return this.string};\n",
       "c.transform=function(c){var b=this._;if(null==c){var m=this;c=new a.Matrix(this.node.getCTM());for(var e=n(this),h=[e],d=new a.Matrix,l=e.toTransformString(),b=J(e)==J(this.matrix)?J(b.transform):l;\"svg\"!=m.type&&(m=m.parent());)h.push(n(m));for(m=h.length;m--;)d.add(h[m]);return{string:b,globalMatrix:c,totalMatrix:d,localMatrix:e,diffMatrix:c.clone().add(e.invert()),global:c.toTransformString(),total:d.toTransformString(),local:l,toString:f}}c instanceof a.Matrix?this.matrix=c:n(this,c);this.node&&\n",
       "(\"linearGradient\"==this.type||\"radialGradient\"==this.type?v(this.node,{gradientTransform:this.matrix}):\"pattern\"==this.type?v(this.node,{patternTransform:this.matrix}):v(this.node,{transform:this.matrix}));return this};c.parent=function(){return x(this.node.parentNode)};c.append=c.add=function(c){if(c){if(\"set\"==c.type){var a=this;c.forEach(function(c){a.add(c)});return this}c=x(c);this.node.appendChild(c.node);c.paper=this.paper}return this};c.appendTo=function(c){c&&(c=x(c),c.append(this));return this};\n",
       "c.prepend=function(c){if(c){if(\"set\"==c.type){var a=this,b;c.forEach(function(c){b?b.after(c):a.prepend(c);b=c});return this}c=x(c);var m=c.parent();this.node.insertBefore(c.node,this.node.firstChild);this.add&&this.add();c.paper=this.paper;this.parent()&&this.parent().add();m&&m.add()}return this};c.prependTo=function(c){c=x(c);c.prepend(this);return this};c.before=function(c){if(\"set\"==c.type){var a=this;c.forEach(function(c){var b=c.parent();a.node.parentNode.insertBefore(c.node,a.node);b&&b.add()});\n",
       "this.parent().add();return this}c=x(c);var b=c.parent();this.node.parentNode.insertBefore(c.node,this.node);this.parent()&&this.parent().add();b&&b.add();c.paper=this.paper;return this};c.after=function(c){c=x(c);var a=c.parent();this.node.nextSibling?this.node.parentNode.insertBefore(c.node,this.node.nextSibling):this.node.parentNode.appendChild(c.node);this.parent()&&this.parent().add();a&&a.add();c.paper=this.paper;return this};c.insertBefore=function(c){c=x(c);var a=this.parent();c.node.parentNode.insertBefore(this.node,\n",
       "c.node);this.paper=c.paper;a&&a.add();c.parent()&&c.parent().add();return this};c.insertAfter=function(c){c=x(c);var a=this.parent();c.node.parentNode.insertBefore(this.node,c.node.nextSibling);this.paper=c.paper;a&&a.add();c.parent()&&c.parent().add();return this};c.remove=function(){var c=this.parent();this.node.parentNode&&this.node.parentNode.removeChild(this.node);delete this.paper;this.removed=!0;c&&c.add();return this};c.select=function(c){return x(this.node.querySelector(c))};c.selectAll=\n",
       "function(c){c=this.node.querySelectorAll(c);for(var b=(a.set||Array)(),m=0;m<c.length;m++)b.push(x(c[m]));return b};c.asPX=function(c,a){null==a&&(a=this.attr(c));return+b(this,c,a)};c.use=function(){var c,a=this.node.id;a||(a=this.id,v(this.node,{id:a}));c=\"linearGradient\"==this.type||\"radialGradient\"==this.type||\"pattern\"==this.type?r(this.type,this.node.parentNode):r(\"use\",this.node.parentNode);v(c.node,{\"xlink:href\":\"#\"+a});c.original=this;return c};var l=/\\S+/g;c.addClass=function(c){var a=(c||\n",
       "\"\").match(l)||[];c=this.node;var b=c.className.baseVal,m=b.match(l)||[],e,h,d;if(a.length){for(e=0;d=a[e++];)h=m.indexOf(d),~h||m.push(d);a=m.join(\" \");b!=a&&(c.className.baseVal=a)}return this};c.removeClass=function(c){var a=(c||\"\").match(l)||[];c=this.node;var b=c.className.baseVal,m=b.match(l)||[],e,h;if(m.length){for(e=0;h=a[e++];)h=m.indexOf(h),~h&&m.splice(h,1);a=m.join(\" \");b!=a&&(c.className.baseVal=a)}return this};c.hasClass=function(c){return!!~(this.node.className.baseVal.match(l)||[]).indexOf(c)};\n",
       "c.toggleClass=function(c,a){if(null!=a)return a?this.addClass(c):this.removeClass(c);var b=(c||\"\").match(l)||[],m=this.node,e=m.className.baseVal,h=e.match(l)||[],d,f,E;for(d=0;E=b[d++];)f=h.indexOf(E),~f?h.splice(f,1):h.push(E);b=h.join(\" \");e!=b&&(m.className.baseVal=b);return this};c.clone=function(){var c=x(this.node.cloneNode(!0));v(c.node,\"id\")&&v(c.node,{id:c.id});m(c);c.insertAfter(this);return c};c.toDefs=function(){u(this).appendChild(this.node);return this};c.pattern=c.toPattern=function(c,\n",
       "a,b,m){var e=r(\"pattern\",u(this));null==c&&(c=this.getBBox());y(c,\"object\")&&\"x\"in c&&(a=c.y,b=c.width,m=c.height,c=c.x);v(e.node,{x:c,y:a,width:b,height:m,patternUnits:\"userSpaceOnUse\",id:e.id,viewBox:[c,a,b,m].join(\" \")});e.node.appendChild(this.node);return e};c.marker=function(c,a,b,m,e,h){var d=r(\"marker\",u(this));null==c&&(c=this.getBBox());y(c,\"object\")&&\"x\"in c&&(a=c.y,b=c.width,m=c.height,e=c.refX||c.cx,h=c.refY||c.cy,c=c.x);v(d.node,{viewBox:[c,a,b,m].join(\" \"),markerWidth:b,markerHeight:m,\n",
       "orient:\"auto\",refX:e||0,refY:h||0,id:d.id});d.node.appendChild(this.node);return d};var E=function(c,a,b,m){\"function\"!=typeof b||b.length||(m=b,b=L.linear);this.attr=c;this.dur=a;b&&(this.easing=b);m&&(this.callback=m)};a._.Animation=E;a.animation=function(c,a,b,m){return new E(c,a,b,m)};c.inAnim=function(){var c=[],a;for(a in this.anims)this.anims[h](a)&&function(a){c.push({anim:new E(a._attrs,a.dur,a.easing,a._callback),mina:a,curStatus:a.status(),status:function(c){return a.status(c)},stop:function(){a.stop()}})}(this.anims[a]);\n",
       "return c};a.animate=function(c,a,b,m,e,h){\"function\"!=typeof e||e.length||(h=e,e=L.linear);var d=L.time();c=L(c,a,d,d+m,L.time,b,e);h&&k.once(\"mina.finish.\"+c.id,h);return c};c.stop=function(){for(var c=this.inAnim(),a=0,b=c.length;a<b;a++)c[a].stop();return this};c.animate=function(c,a,b,m){\"function\"!=typeof b||b.length||(m=b,b=L.linear);c instanceof E&&(m=c.callback,b=c.easing,a=b.dur,c=c.attr);var d=[],f=[],l={},t,ca,n,T=this,q;for(q in c)if(c[h](q)){T.equal?(n=T.equal(q,J(c[q])),t=n.from,ca=\n",
       "n.to,n=n.f):(t=+T.attr(q),ca=+c[q]);var la=y(t,\"array\")?t.length:1;l[q]=e(d.length,d.length+la,n);d=d.concat(t);f=f.concat(ca)}t=L.time();var p=L(d,f,t,t+a,L.time,function(c){var a={},b;for(b in l)l[h](b)&&(a[b]=l[b](c));T.attr(a)},b);T.anims[p.id]=p;p._attrs=c;p._callback=m;k(\"snap.animcreated.\"+T.id,p);k.once(\"mina.finish.\"+p.id,function(){delete T.anims[p.id];m&&m.call(T)});k.once(\"mina.stop.\"+p.id,function(){delete T.anims[p.id]});return T};var T={};c.data=function(c,b){var m=T[this.id]=T[this.id]||\n",
       "{};if(0==arguments.length)return k(\"snap.data.get.\"+this.id,this,m,null),m;if(1==arguments.length){if(a.is(c,\"object\")){for(var e in c)c[h](e)&&this.data(e,c[e]);return this}k(\"snap.data.get.\"+this.id,this,m[c],c);return m[c]}m[c]=b;k(\"snap.data.set.\"+this.id,this,b,c);return this};c.removeData=function(c){null==c?T[this.id]={}:T[this.id]&&delete T[this.id][c];return this};c.outerSVG=c.toString=d(1);c.innerSVG=d()})(e.prototype);a.parse=function(c){var a=G.doc.createDocumentFragment(),b=!0,m=G.doc.createElement(\"div\");\n",
       "c=J(c);c.match(/^\\s*<\\s*svg(?:\\s|>)/)||(c=\"<svg>\"+c+\"</svg>\",b=!1);m.innerHTML=c;if(c=m.getElementsByTagName(\"svg\")[0])if(b)a=c;else for(;c.firstChild;)a.appendChild(c.firstChild);m.innerHTML=aa;return new l(a)};l.prototype.select=e.prototype.select;l.prototype.selectAll=e.prototype.selectAll;a.fragment=function(){for(var c=Array.prototype.slice.call(arguments,0),b=G.doc.createDocumentFragment(),m=0,e=c.length;m<e;m++){var h=c[m];h.node&&h.node.nodeType&&b.appendChild(h.node);h.nodeType&&b.appendChild(h);\n",
       "\"string\"==typeof h&&b.appendChild(a.parse(h).node)}return new l(b)};a._.make=r;a._.wrap=x;s.prototype.el=function(c,a){var b=r(c,this.node);a&&b.attr(a);return b};k.on(\"snap.util.getattr\",function(){var c=k.nt(),c=c.substring(c.lastIndexOf(\".\")+1),a=c.replace(/[A-Z]/g,function(c){return\"-\"+c.toLowerCase()});return pa[h](a)?this.node.ownerDocument.defaultView.getComputedStyle(this.node,null).getPropertyValue(a):v(this.node,c)});var pa={\"alignment-baseline\":0,\"baseline-shift\":0,clip:0,\"clip-path\":0,\n",
       "\"clip-rule\":0,color:0,\"color-interpolation\":0,\"color-interpolation-filters\":0,\"color-profile\":0,\"color-rendering\":0,cursor:0,direction:0,display:0,\"dominant-baseline\":0,\"enable-background\":0,fill:0,\"fill-opacity\":0,\"fill-rule\":0,filter:0,\"flood-color\":0,\"flood-opacity\":0,font:0,\"font-family\":0,\"font-size\":0,\"font-size-adjust\":0,\"font-stretch\":0,\"font-style\":0,\"font-variant\":0,\"font-weight\":0,\"glyph-orientation-horizontal\":0,\"glyph-orientation-vertical\":0,\"image-rendering\":0,kerning:0,\"letter-spacing\":0,\n",
       "\"lighting-color\":0,marker:0,\"marker-end\":0,\"marker-mid\":0,\"marker-start\":0,mask:0,opacity:0,overflow:0,\"pointer-events\":0,\"shape-rendering\":0,\"stop-color\":0,\"stop-opacity\":0,stroke:0,\"stroke-dasharray\":0,\"stroke-dashoffset\":0,\"stroke-linecap\":0,\"stroke-linejoin\":0,\"stroke-miterlimit\":0,\"stroke-opacity\":0,\"stroke-width\":0,\"text-anchor\":0,\"text-decoration\":0,\"text-rendering\":0,\"unicode-bidi\":0,visibility:0,\"word-spacing\":0,\"writing-mode\":0};k.on(\"snap.util.attr\",function(c){var a=k.nt(),b={},a=a.substring(a.lastIndexOf(\".\")+\n",
       "1);b[a]=c;var m=a.replace(/-(\\w)/gi,function(c,a){return a.toUpperCase()}),a=a.replace(/[A-Z]/g,function(c){return\"-\"+c.toLowerCase()});pa[h](a)?this.node.style[m]=null==c?aa:c:v(this.node,b)});a.ajax=function(c,a,b,m){var e=new XMLHttpRequest,h=V();if(e){if(y(a,\"function\"))m=b,b=a,a=null;else if(y(a,\"object\")){var d=[],f;for(f in a)a.hasOwnProperty(f)&&d.push(encodeURIComponent(f)+\"=\"+encodeURIComponent(a[f]));a=d.join(\"&\")}e.open(a?\"POST\":\"GET\",c,!0);a&&(e.setRequestHeader(\"X-Requested-With\",\"XMLHttpRequest\"),\n",
       "e.setRequestHeader(\"Content-type\",\"application/x-www-form-urlencoded\"));b&&(k.once(\"snap.ajax.\"+h+\".0\",b),k.once(\"snap.ajax.\"+h+\".200\",b),k.once(\"snap.ajax.\"+h+\".304\",b));e.onreadystatechange=function(){4==e.readyState&&k(\"snap.ajax.\"+h+\".\"+e.status,m,e)};if(4==e.readyState)return e;e.send(a);return e}};a.load=function(c,b,m){a.ajax(c,function(c){c=a.parse(c.responseText);m?b.call(m,c):b(c)})};a.getElementByPoint=function(c,a){var b,m,e=G.doc.elementFromPoint(c,a);if(G.win.opera&&\"svg\"==e.tagName){b=\n",
       "e;m=b.getBoundingClientRect();b=b.ownerDocument;var h=b.body,d=b.documentElement;b=m.top+(g.win.pageYOffset||d.scrollTop||h.scrollTop)-(d.clientTop||h.clientTop||0);m=m.left+(g.win.pageXOffset||d.scrollLeft||h.scrollLeft)-(d.clientLeft||h.clientLeft||0);h=e.createSVGRect();h.x=c-m;h.y=a-b;h.width=h.height=1;b=e.getIntersectionList(h,null);b.length&&(e=b[b.length-1])}return e?x(e):null};a.plugin=function(c){c(a,e,s,G,l)};return G.win.Snap=a}();C.plugin(function(a,k,y,M,A){function w(a,d,f,b,q,e){null==\n",
       "d&&\"[object SVGMatrix]\"==z.call(a)?(this.a=a.a,this.b=a.b,this.c=a.c,this.d=a.d,this.e=a.e,this.f=a.f):null!=a?(this.a=+a,this.b=+d,this.c=+f,this.d=+b,this.e=+q,this.f=+e):(this.a=1,this.c=this.b=0,this.d=1,this.f=this.e=0)}var z=Object.prototype.toString,d=String,f=Math;(function(n){function k(a){return a[0]*a[0]+a[1]*a[1]}function p(a){var d=f.sqrt(k(a));a[0]&&(a[0]/=d);a[1]&&(a[1]/=d)}n.add=function(a,d,e,f,n,p){var k=[[],[],[] ],u=[[this.a,this.c,this.e],[this.b,this.d,this.f],[0,0,1] ];d=[[a,\n",
       "e,n],[d,f,p],[0,0,1] ];a&&a instanceof w&&(d=[[a.a,a.c,a.e],[a.b,a.d,a.f],[0,0,1] ]);for(a=0;3>a;a++)for(e=0;3>e;e++){for(f=n=0;3>f;f++)n+=u[a][f]*d[f][e];k[a][e]=n}this.a=k[0][0];this.b=k[1][0];this.c=k[0][1];this.d=k[1][1];this.e=k[0][2];this.f=k[1][2];return this};n.invert=function(){var a=this.a*this.d-this.b*this.c;return new w(this.d/a,-this.b/a,-this.c/a,this.a/a,(this.c*this.f-this.d*this.e)/a,(this.b*this.e-this.a*this.f)/a)};n.clone=function(){return new w(this.a,this.b,this.c,this.d,this.e,\n",
       "this.f)};n.translate=function(a,d){return this.add(1,0,0,1,a,d)};n.scale=function(a,d,e,f){null==d&&(d=a);(e||f)&&this.add(1,0,0,1,e,f);this.add(a,0,0,d,0,0);(e||f)&&this.add(1,0,0,1,-e,-f);return this};n.rotate=function(b,d,e){b=a.rad(b);d=d||0;e=e||0;var l=+f.cos(b).toFixed(9);b=+f.sin(b).toFixed(9);this.add(l,b,-b,l,d,e);return this.add(1,0,0,1,-d,-e)};n.x=function(a,d){return a*this.a+d*this.c+this.e};n.y=function(a,d){return a*this.b+d*this.d+this.f};n.get=function(a){return+this[d.fromCharCode(97+\n",
       "a)].toFixed(4)};n.toString=function(){return\"matrix(\"+[this.get(0),this.get(1),this.get(2),this.get(3),this.get(4),this.get(5)].join()+\")\"};n.offset=function(){return[this.e.toFixed(4),this.f.toFixed(4)]};n.determinant=function(){return this.a*this.d-this.b*this.c};n.split=function(){var b={};b.dx=this.e;b.dy=this.f;var d=[[this.a,this.c],[this.b,this.d] ];b.scalex=f.sqrt(k(d[0]));p(d[0]);b.shear=d[0][0]*d[1][0]+d[0][1]*d[1][1];d[1]=[d[1][0]-d[0][0]*b.shear,d[1][1]-d[0][1]*b.shear];b.scaley=f.sqrt(k(d[1]));\n",
       "p(d[1]);b.shear/=b.scaley;0>this.determinant()&&(b.scalex=-b.scalex);var e=-d[0][1],d=d[1][1];0>d?(b.rotate=a.deg(f.acos(d)),0>e&&(b.rotate=360-b.rotate)):b.rotate=a.deg(f.asin(e));b.isSimple=!+b.shear.toFixed(9)&&(b.scalex.toFixed(9)==b.scaley.toFixed(9)||!b.rotate);b.isSuperSimple=!+b.shear.toFixed(9)&&b.scalex.toFixed(9)==b.scaley.toFixed(9)&&!b.rotate;b.noRotation=!+b.shear.toFixed(9)&&!b.rotate;return b};n.toTransformString=function(a){a=a||this.split();if(+a.shear.toFixed(9))return\"m\"+[this.get(0),\n",
       "this.get(1),this.get(2),this.get(3),this.get(4),this.get(5)];a.scalex=+a.scalex.toFixed(4);a.scaley=+a.scaley.toFixed(4);a.rotate=+a.rotate.toFixed(4);return(a.dx||a.dy?\"t\"+[+a.dx.toFixed(4),+a.dy.toFixed(4)]:\"\")+(1!=a.scalex||1!=a.scaley?\"s\"+[a.scalex,a.scaley,0,0]:\"\")+(a.rotate?\"r\"+[+a.rotate.toFixed(4),0,0]:\"\")}})(w.prototype);a.Matrix=w;a.matrix=function(a,d,f,b,k,e){return new w(a,d,f,b,k,e)}});C.plugin(function(a,v,y,M,A){function w(h){return function(d){k.stop();d instanceof A&&1==d.node.childNodes.length&&\n",
       "(\"radialGradient\"==d.node.firstChild.tagName||\"linearGradient\"==d.node.firstChild.tagName||\"pattern\"==d.node.firstChild.tagName)&&(d=d.node.firstChild,b(this).appendChild(d),d=u(d));if(d instanceof v)if(\"radialGradient\"==d.type||\"linearGradient\"==d.type||\"pattern\"==d.type){d.node.id||e(d.node,{id:d.id});var f=l(d.node.id)}else f=d.attr(h);else f=a.color(d),f.error?(f=a(b(this).ownerSVGElement).gradient(d))?(f.node.id||e(f.node,{id:f.id}),f=l(f.node.id)):f=d:f=r(f);d={};d[h]=f;e(this.node,d);this.node.style[h]=\n",
       "x}}function z(a){k.stop();a==+a&&(a+=\"px\");this.node.style.fontSize=a}function d(a){var b=[];a=a.childNodes;for(var e=0,f=a.length;e<f;e++){var l=a[e];3==l.nodeType&&b.push(l.nodeValue);\"tspan\"==l.tagName&&(1==l.childNodes.length&&3==l.firstChild.nodeType?b.push(l.firstChild.nodeValue):b.push(d(l)))}return b}function f(){k.stop();return this.node.style.fontSize}var n=a._.make,u=a._.wrap,p=a.is,b=a._.getSomeDefs,q=/^url\\(#?([^)]+)\\)$/,e=a._.$,l=a.url,r=String,s=a._.separator,x=\"\";k.on(\"snap.util.attr.mask\",\n",
       "function(a){if(a instanceof v||a instanceof A){k.stop();a instanceof A&&1==a.node.childNodes.length&&(a=a.node.firstChild,b(this).appendChild(a),a=u(a));if(\"mask\"==a.type)var d=a;else d=n(\"mask\",b(this)),d.node.appendChild(a.node);!d.node.id&&e(d.node,{id:d.id});e(this.node,{mask:l(d.id)})}});(function(a){k.on(\"snap.util.attr.clip\",a);k.on(\"snap.util.attr.clip-path\",a);k.on(\"snap.util.attr.clipPath\",a)})(function(a){if(a instanceof v||a instanceof A){k.stop();if(\"clipPath\"==a.type)var d=a;else d=\n",
       "n(\"clipPath\",b(this)),d.node.appendChild(a.node),!d.node.id&&e(d.node,{id:d.id});e(this.node,{\"clip-path\":l(d.id)})}});k.on(\"snap.util.attr.fill\",w(\"fill\"));k.on(\"snap.util.attr.stroke\",w(\"stroke\"));var G=/^([lr])(?:\\(([^)]*)\\))?(.*)$/i;k.on(\"snap.util.grad.parse\",function(a){a=r(a);var b=a.match(G);if(!b)return null;a=b[1];var e=b[2],b=b[3],e=e.split(/\\s*,\\s*/).map(function(a){return+a==a?+a:a});1==e.length&&0==e[0]&&(e=[]);b=b.split(\"-\");b=b.map(function(a){a=a.split(\":\");var b={color:a[0]};a[1]&&\n",
       "(b.offset=parseFloat(a[1]));return b});return{type:a,params:e,stops:b}});k.on(\"snap.util.attr.d\",function(b){k.stop();p(b,\"array\")&&p(b[0],\"array\")&&(b=a.path.toString.call(b));b=r(b);b.match(/[ruo]/i)&&(b=a.path.toAbsolute(b));e(this.node,{d:b})})(-1);k.on(\"snap.util.attr.#text\",function(a){k.stop();a=r(a);for(a=M.doc.createTextNode(a);this.node.firstChild;)this.node.removeChild(this.node.firstChild);this.node.appendChild(a)})(-1);k.on(\"snap.util.attr.path\",function(a){k.stop();this.attr({d:a})})(-1);\n",
       "k.on(\"snap.util.attr.class\",function(a){k.stop();this.node.className.baseVal=a})(-1);k.on(\"snap.util.attr.viewBox\",function(a){a=p(a,\"object\")&&\"x\"in a?[a.x,a.y,a.width,a.height].join(\" \"):p(a,\"array\")?a.join(\" \"):a;e(this.node,{viewBox:a});k.stop()})(-1);k.on(\"snap.util.attr.transform\",function(a){this.transform(a);k.stop()})(-1);k.on(\"snap.util.attr.r\",function(a){\"rect\"==this.type&&(k.stop(),e(this.node,{rx:a,ry:a}))})(-1);k.on(\"snap.util.attr.textpath\",function(a){k.stop();if(\"text\"==this.type){var d,\n",
       "f;if(!a&&this.textPath){for(a=this.textPath;a.node.firstChild;)this.node.appendChild(a.node.firstChild);a.remove();delete this.textPath}else if(p(a,\"string\")?(d=b(this),a=u(d.parentNode).path(a),d.appendChild(a.node),d=a.id,a.attr({id:d})):(a=u(a),a instanceof v&&(d=a.attr(\"id\"),d||(d=a.id,a.attr({id:d})))),d)if(a=this.textPath,f=this.node,a)a.attr({\"xlink:href\":\"#\"+d});else{for(a=e(\"textPath\",{\"xlink:href\":\"#\"+d});f.firstChild;)a.appendChild(f.firstChild);f.appendChild(a);this.textPath=u(a)}}})(-1);\n",
       "k.on(\"snap.util.attr.text\",function(a){if(\"text\"==this.type){for(var b=this.node,d=function(a){var b=e(\"tspan\");if(p(a,\"array\"))for(var f=0;f<a.length;f++)b.appendChild(d(a[f]));else b.appendChild(M.doc.createTextNode(a));b.normalize&&b.normalize();return b};b.firstChild;)b.removeChild(b.firstChild);for(a=d(a);a.firstChild;)b.appendChild(a.firstChild)}k.stop()})(-1);k.on(\"snap.util.attr.fontSize\",z)(-1);k.on(\"snap.util.attr.font-size\",z)(-1);k.on(\"snap.util.getattr.transform\",function(){k.stop();\n",
       "return this.transform()})(-1);k.on(\"snap.util.getattr.textpath\",function(){k.stop();return this.textPath})(-1);(function(){function b(d){return function(){k.stop();var b=M.doc.defaultView.getComputedStyle(this.node,null).getPropertyValue(\"marker-\"+d);return\"none\"==b?b:a(M.doc.getElementById(b.match(q)[1]))}}function d(a){return function(b){k.stop();var d=\"marker\"+a.charAt(0).toUpperCase()+a.substring(1);if(\"\"==b||!b)this.node.style[d]=\"none\";else if(\"marker\"==b.type){var f=b.node.id;f||e(b.node,{id:b.id});\n",
       "this.node.style[d]=l(f)}}}k.on(\"snap.util.getattr.marker-end\",b(\"end\"))(-1);k.on(\"snap.util.getattr.markerEnd\",b(\"end\"))(-1);k.on(\"snap.util.getattr.marker-start\",b(\"start\"))(-1);k.on(\"snap.util.getattr.markerStart\",b(\"start\"))(-1);k.on(\"snap.util.getattr.marker-mid\",b(\"mid\"))(-1);k.on(\"snap.util.getattr.markerMid\",b(\"mid\"))(-1);k.on(\"snap.util.attr.marker-end\",d(\"end\"))(-1);k.on(\"snap.util.attr.markerEnd\",d(\"end\"))(-1);k.on(\"snap.util.attr.marker-start\",d(\"start\"))(-1);k.on(\"snap.util.attr.markerStart\",\n",
       "d(\"start\"))(-1);k.on(\"snap.util.attr.marker-mid\",d(\"mid\"))(-1);k.on(\"snap.util.attr.markerMid\",d(\"mid\"))(-1)})();k.on(\"snap.util.getattr.r\",function(){if(\"rect\"==this.type&&e(this.node,\"rx\")==e(this.node,\"ry\"))return k.stop(),e(this.node,\"rx\")})(-1);k.on(\"snap.util.getattr.text\",function(){if(\"text\"==this.type||\"tspan\"==this.type){k.stop();var a=d(this.node);return 1==a.length?a[0]:a}})(-1);k.on(\"snap.util.getattr.#text\",function(){return this.node.textContent})(-1);k.on(\"snap.util.getattr.viewBox\",\n",
       "function(){k.stop();var b=e(this.node,\"viewBox\");if(b)return b=b.split(s),a._.box(+b[0],+b[1],+b[2],+b[3])})(-1);k.on(\"snap.util.getattr.points\",function(){var a=e(this.node,\"points\");k.stop();if(a)return a.split(s)})(-1);k.on(\"snap.util.getattr.path\",function(){var a=e(this.node,\"d\");k.stop();return a})(-1);k.on(\"snap.util.getattr.class\",function(){return this.node.className.baseVal})(-1);k.on(\"snap.util.getattr.fontSize\",f)(-1);k.on(\"snap.util.getattr.font-size\",f)(-1)});C.plugin(function(a,v,y,\n",
       "M,A){function w(a){return a}function z(a){return function(b){return+b.toFixed(3)+a}}var d={\"+\":function(a,b){return a+b},\"-\":function(a,b){return a-b},\"/\":function(a,b){return a/b},\"*\":function(a,b){return a*b}},f=String,n=/[a-z]+$/i,u=/^\\s*([+\\-\\/*])\\s*=\\s*([\\d.eE+\\-]+)\\s*([^\\d\\s]+)?\\s*$/;k.on(\"snap.util.attr\",function(a){if(a=f(a).match(u)){var b=k.nt(),b=b.substring(b.lastIndexOf(\".\")+1),q=this.attr(b),e={};k.stop();var l=a[3]||\"\",r=q.match(n),s=d[a[1] ];r&&r==l?a=s(parseFloat(q),+a[2]):(q=this.asPX(b),\n",
       "a=s(this.asPX(b),this.asPX(b,a[2]+l)));isNaN(q)||isNaN(a)||(e[b]=a,this.attr(e))}})(-10);k.on(\"snap.util.equal\",function(a,b){var q=f(this.attr(a)||\"\"),e=f(b).match(u);if(e){k.stop();var l=e[3]||\"\",r=q.match(n),s=d[e[1] ];if(r&&r==l)return{from:parseFloat(q),to:s(parseFloat(q),+e[2]),f:z(r)};q=this.asPX(a);return{from:q,to:s(q,this.asPX(a,e[2]+l)),f:w}}})(-10)});C.plugin(function(a,v,y,M,A){var w=y.prototype,z=a.is;w.rect=function(a,d,k,p,b,q){var e;null==q&&(q=b);z(a,\"object\")&&\"[object Object]\"==\n",
       "a?e=a:null!=a&&(e={x:a,y:d,width:k,height:p},null!=b&&(e.rx=b,e.ry=q));return this.el(\"rect\",e)};w.circle=function(a,d,k){var p;z(a,\"object\")&&\"[object Object]\"==a?p=a:null!=a&&(p={cx:a,cy:d,r:k});return this.el(\"circle\",p)};var d=function(){function a(){this.parentNode.removeChild(this)}return function(d,k){var p=M.doc.createElement(\"img\"),b=M.doc.body;p.style.cssText=\"position:absolute;left:-9999em;top:-9999em\";p.onload=function(){k.call(p);p.onload=p.onerror=null;b.removeChild(p)};p.onerror=a;\n",
       "b.appendChild(p);p.src=d}}();w.image=function(f,n,k,p,b){var q=this.el(\"image\");if(z(f,\"object\")&&\"src\"in f)q.attr(f);else if(null!=f){var e={\"xlink:href\":f,preserveAspectRatio:\"none\"};null!=n&&null!=k&&(e.x=n,e.y=k);null!=p&&null!=b?(e.width=p,e.height=b):d(f,function(){a._.$(q.node,{width:this.offsetWidth,height:this.offsetHeight})});a._.$(q.node,e)}return q};w.ellipse=function(a,d,k,p){var b;z(a,\"object\")&&\"[object Object]\"==a?b=a:null!=a&&(b={cx:a,cy:d,rx:k,ry:p});return this.el(\"ellipse\",b)};\n",
       "w.path=function(a){var d;z(a,\"object\")&&!z(a,\"array\")?d=a:a&&(d={d:a});return this.el(\"path\",d)};w.group=w.g=function(a){var d=this.el(\"g\");1==arguments.length&&a&&!a.type?d.attr(a):arguments.length&&d.add(Array.prototype.slice.call(arguments,0));return d};w.svg=function(a,d,k,p,b,q,e,l){var r={};z(a,\"object\")&&null==d?r=a:(null!=a&&(r.x=a),null!=d&&(r.y=d),null!=k&&(r.width=k),null!=p&&(r.height=p),null!=b&&null!=q&&null!=e&&null!=l&&(r.viewBox=[b,q,e,l]));return this.el(\"svg\",r)};w.mask=function(a){var d=\n",
       "this.el(\"mask\");1==arguments.length&&a&&!a.type?d.attr(a):arguments.length&&d.add(Array.prototype.slice.call(arguments,0));return d};w.ptrn=function(a,d,k,p,b,q,e,l){if(z(a,\"object\"))var r=a;else arguments.length?(r={},null!=a&&(r.x=a),null!=d&&(r.y=d),null!=k&&(r.width=k),null!=p&&(r.height=p),null!=b&&null!=q&&null!=e&&null!=l&&(r.viewBox=[b,q,e,l])):r={patternUnits:\"userSpaceOnUse\"};return this.el(\"pattern\",r)};w.use=function(a){return null!=a?(make(\"use\",this.node),a instanceof v&&(a.attr(\"id\")||\n",
       "a.attr({id:ID()}),a=a.attr(\"id\")),this.el(\"use\",{\"xlink:href\":a})):v.prototype.use.call(this)};w.text=function(a,d,k){var p={};z(a,\"object\")?p=a:null!=a&&(p={x:a,y:d,text:k||\"\"});return this.el(\"text\",p)};w.line=function(a,d,k,p){var b={};z(a,\"object\")?b=a:null!=a&&(b={x1:a,x2:k,y1:d,y2:p});return this.el(\"line\",b)};w.polyline=function(a){1<arguments.length&&(a=Array.prototype.slice.call(arguments,0));var d={};z(a,\"object\")&&!z(a,\"array\")?d=a:null!=a&&(d={points:a});return this.el(\"polyline\",d)};\n",
       "w.polygon=function(a){1<arguments.length&&(a=Array.prototype.slice.call(arguments,0));var d={};z(a,\"object\")&&!z(a,\"array\")?d=a:null!=a&&(d={points:a});return this.el(\"polygon\",d)};(function(){function d(){return this.selectAll(\"stop\")}function n(b,d){var f=e(\"stop\"),k={offset:+d+\"%\"};b=a.color(b);k[\"stop-color\"]=b.hex;1>b.opacity&&(k[\"stop-opacity\"]=b.opacity);e(f,k);this.node.appendChild(f);return this}function u(){if(\"linearGradient\"==this.type){var b=e(this.node,\"x1\")||0,d=e(this.node,\"x2\")||\n",
       "1,f=e(this.node,\"y1\")||0,k=e(this.node,\"y2\")||0;return a._.box(b,f,math.abs(d-b),math.abs(k-f))}b=this.node.r||0;return a._.box((this.node.cx||0.5)-b,(this.node.cy||0.5)-b,2*b,2*b)}function p(a,d){function f(a,b){for(var d=(b-u)/(a-w),e=w;e<a;e++)h[e].offset=+(+u+d*(e-w)).toFixed(2);w=a;u=b}var n=k(\"snap.util.grad.parse\",null,d).firstDefined(),p;if(!n)return null;n.params.unshift(a);p=\"l\"==n.type.toLowerCase()?b.apply(0,n.params):q.apply(0,n.params);n.type!=n.type.toLowerCase()&&e(p.node,{gradientUnits:\"userSpaceOnUse\"});\n",
       "var h=n.stops,n=h.length,u=0,w=0;n--;for(var v=0;v<n;v++)\"offset\"in h[v]&&f(v,h[v].offset);h[n].offset=h[n].offset||100;f(n,h[n].offset);for(v=0;v<=n;v++){var y=h[v];p.addStop(y.color,y.offset)}return p}function b(b,k,p,q,w){b=a._.make(\"linearGradient\",b);b.stops=d;b.addStop=n;b.getBBox=u;null!=k&&e(b.node,{x1:k,y1:p,x2:q,y2:w});return b}function q(b,k,p,q,w,h){b=a._.make(\"radialGradient\",b);b.stops=d;b.addStop=n;b.getBBox=u;null!=k&&e(b.node,{cx:k,cy:p,r:q});null!=w&&null!=h&&e(b.node,{fx:w,fy:h});\n",
       "return b}var e=a._.$;w.gradient=function(a){return p(this.defs,a)};w.gradientLinear=function(a,d,e,f){return b(this.defs,a,d,e,f)};w.gradientRadial=function(a,b,d,e,f){return q(this.defs,a,b,d,e,f)};w.toString=function(){var b=this.node.ownerDocument,d=b.createDocumentFragment(),b=b.createElement(\"div\"),e=this.node.cloneNode(!0);d.appendChild(b);b.appendChild(e);a._.$(e,{xmlns:\"http://www.w3.org/2000/svg\"});b=b.innerHTML;d.removeChild(d.firstChild);return b};w.clear=function(){for(var a=this.node.firstChild,\n",
       "b;a;)b=a.nextSibling,\"defs\"!=a.tagName?a.parentNode.removeChild(a):w.clear.call({node:a}),a=b}})()});C.plugin(function(a,k,y,M){function A(a){var b=A.ps=A.ps||{};b[a]?b[a].sleep=100:b[a]={sleep:100};setTimeout(function(){for(var d in b)b[L](d)&&d!=a&&(b[d].sleep--,!b[d].sleep&&delete b[d])});return b[a]}function w(a,b,d,e){null==a&&(a=b=d=e=0);null==b&&(b=a.y,d=a.width,e=a.height,a=a.x);return{x:a,y:b,width:d,w:d,height:e,h:e,x2:a+d,y2:b+e,cx:a+d/2,cy:b+e/2,r1:F.min(d,e)/2,r2:F.max(d,e)/2,r0:F.sqrt(d*\n",
       "d+e*e)/2,path:s(a,b,d,e),vb:[a,b,d,e].join(\" \")}}function z(){return this.join(\",\").replace(N,\"$1\")}function d(a){a=C(a);a.toString=z;return a}function f(a,b,d,h,f,k,l,n,p){if(null==p)return e(a,b,d,h,f,k,l,n);if(0>p||e(a,b,d,h,f,k,l,n)<p)p=void 0;else{var q=0.5,O=1-q,s;for(s=e(a,b,d,h,f,k,l,n,O);0.01<Z(s-p);)q/=2,O+=(s<p?1:-1)*q,s=e(a,b,d,h,f,k,l,n,O);p=O}return u(a,b,d,h,f,k,l,n,p)}function n(b,d){function e(a){return+(+a).toFixed(3)}return a._.cacher(function(a,h,l){a instanceof k&&(a=a.attr(\"d\"));\n",
       "a=I(a);for(var n,p,D,q,O=\"\",s={},c=0,t=0,r=a.length;t<r;t++){D=a[t];if(\"M\"==D[0])n=+D[1],p=+D[2];else{q=f(n,p,D[1],D[2],D[3],D[4],D[5],D[6]);if(c+q>h){if(d&&!s.start){n=f(n,p,D[1],D[2],D[3],D[4],D[5],D[6],h-c);O+=[\"C\"+e(n.start.x),e(n.start.y),e(n.m.x),e(n.m.y),e(n.x),e(n.y)];if(l)return O;s.start=O;O=[\"M\"+e(n.x),e(n.y)+\"C\"+e(n.n.x),e(n.n.y),e(n.end.x),e(n.end.y),e(D[5]),e(D[6])].join();c+=q;n=+D[5];p=+D[6];continue}if(!b&&!d)return n=f(n,p,D[1],D[2],D[3],D[4],D[5],D[6],h-c)}c+=q;n=+D[5];p=+D[6]}O+=\n",
       "D.shift()+D}s.end=O;return n=b?c:d?s:u(n,p,D[0],D[1],D[2],D[3],D[4],D[5],1)},null,a._.clone)}function u(a,b,d,e,h,f,k,l,n){var p=1-n,q=ma(p,3),s=ma(p,2),c=n*n,t=c*n,r=q*a+3*s*n*d+3*p*n*n*h+t*k,q=q*b+3*s*n*e+3*p*n*n*f+t*l,s=a+2*n*(d-a)+c*(h-2*d+a),t=b+2*n*(e-b)+c*(f-2*e+b),x=d+2*n*(h-d)+c*(k-2*h+d),c=e+2*n*(f-e)+c*(l-2*f+e);a=p*a+n*d;b=p*b+n*e;h=p*h+n*k;f=p*f+n*l;l=90-180*F.atan2(s-x,t-c)/S;return{x:r,y:q,m:{x:s,y:t},n:{x:x,y:c},start:{x:a,y:b},end:{x:h,y:f},alpha:l}}function p(b,d,e,h,f,n,k,l){a.is(b,\n",
       "\"array\")||(b=[b,d,e,h,f,n,k,l]);b=U.apply(null,b);return w(b.min.x,b.min.y,b.max.x-b.min.x,b.max.y-b.min.y)}function b(a,b,d){return b>=a.x&&b<=a.x+a.width&&d>=a.y&&d<=a.y+a.height}function q(a,d){a=w(a);d=w(d);return b(d,a.x,a.y)||b(d,a.x2,a.y)||b(d,a.x,a.y2)||b(d,a.x2,a.y2)||b(a,d.x,d.y)||b(a,d.x2,d.y)||b(a,d.x,d.y2)||b(a,d.x2,d.y2)||(a.x<d.x2&&a.x>d.x||d.x<a.x2&&d.x>a.x)&&(a.y<d.y2&&a.y>d.y||d.y<a.y2&&d.y>a.y)}function e(a,b,d,e,h,f,n,k,l){null==l&&(l=1);l=(1<l?1:0>l?0:l)/2;for(var p=[-0.1252,\n",
       "0.1252,-0.3678,0.3678,-0.5873,0.5873,-0.7699,0.7699,-0.9041,0.9041,-0.9816,0.9816],q=[0.2491,0.2491,0.2335,0.2335,0.2032,0.2032,0.1601,0.1601,0.1069,0.1069,0.0472,0.0472],s=0,c=0;12>c;c++)var t=l*p[c]+l,r=t*(t*(-3*a+9*d-9*h+3*n)+6*a-12*d+6*h)-3*a+3*d,t=t*(t*(-3*b+9*e-9*f+3*k)+6*b-12*e+6*f)-3*b+3*e,s=s+q[c]*F.sqrt(r*r+t*t);return l*s}function l(a,b,d){a=I(a);b=I(b);for(var h,f,l,n,k,s,r,O,x,c,t=d?0:[],w=0,v=a.length;w<v;w++)if(x=a[w],\"M\"==x[0])h=k=x[1],f=s=x[2];else{\"C\"==x[0]?(x=[h,f].concat(x.slice(1)),\n",
       "h=x[6],f=x[7]):(x=[h,f,h,f,k,s,k,s],h=k,f=s);for(var G=0,y=b.length;G<y;G++)if(c=b[G],\"M\"==c[0])l=r=c[1],n=O=c[2];else{\"C\"==c[0]?(c=[l,n].concat(c.slice(1)),l=c[6],n=c[7]):(c=[l,n,l,n,r,O,r,O],l=r,n=O);var z;var K=x,B=c;z=d;var H=p(K),J=p(B);if(q(H,J)){for(var H=e.apply(0,K),J=e.apply(0,B),H=~~(H/8),J=~~(J/8),U=[],A=[],F={},M=z?0:[],P=0;P<H+1;P++){var C=u.apply(0,K.concat(P/H));U.push({x:C.x,y:C.y,t:P/H})}for(P=0;P<J+1;P++)C=u.apply(0,B.concat(P/J)),A.push({x:C.x,y:C.y,t:P/J});for(P=0;P<H;P++)for(K=\n",
       "0;K<J;K++){var Q=U[P],L=U[P+1],B=A[K],C=A[K+1],N=0.001>Z(L.x-Q.x)?\"y\":\"x\",S=0.001>Z(C.x-B.x)?\"y\":\"x\",R;R=Q.x;var Y=Q.y,V=L.x,ea=L.y,fa=B.x,ga=B.y,ha=C.x,ia=C.y;if(W(R,V)<X(fa,ha)||X(R,V)>W(fa,ha)||W(Y,ea)<X(ga,ia)||X(Y,ea)>W(ga,ia))R=void 0;else{var $=(R*ea-Y*V)*(fa-ha)-(R-V)*(fa*ia-ga*ha),aa=(R*ea-Y*V)*(ga-ia)-(Y-ea)*(fa*ia-ga*ha),ja=(R-V)*(ga-ia)-(Y-ea)*(fa-ha);if(ja){var $=$/ja,aa=aa/ja,ja=+$.toFixed(2),ba=+aa.toFixed(2);R=ja<+X(R,V).toFixed(2)||ja>+W(R,V).toFixed(2)||ja<+X(fa,ha).toFixed(2)||\n",
       "ja>+W(fa,ha).toFixed(2)||ba<+X(Y,ea).toFixed(2)||ba>+W(Y,ea).toFixed(2)||ba<+X(ga,ia).toFixed(2)||ba>+W(ga,ia).toFixed(2)?void 0:{x:$,y:aa}}else R=void 0}R&&F[R.x.toFixed(4)]!=R.y.toFixed(4)&&(F[R.x.toFixed(4)]=R.y.toFixed(4),Q=Q.t+Z((R[N]-Q[N])/(L[N]-Q[N]))*(L.t-Q.t),B=B.t+Z((R[S]-B[S])/(C[S]-B[S]))*(C.t-B.t),0<=Q&&1>=Q&&0<=B&&1>=B&&(z?M++:M.push({x:R.x,y:R.y,t1:Q,t2:B})))}z=M}else z=z?0:[];if(d)t+=z;else{H=0;for(J=z.length;H<J;H++)z[H].segment1=w,z[H].segment2=G,z[H].bez1=x,z[H].bez2=c;t=t.concat(z)}}}return t}\n",
       "function r(a){var b=A(a);if(b.bbox)return C(b.bbox);if(!a)return w();a=I(a);for(var d=0,e=0,h=[],f=[],l,n=0,k=a.length;n<k;n++)l=a[n],\"M\"==l[0]?(d=l[1],e=l[2],h.push(d),f.push(e)):(d=U(d,e,l[1],l[2],l[3],l[4],l[5],l[6]),h=h.concat(d.min.x,d.max.x),f=f.concat(d.min.y,d.max.y),d=l[5],e=l[6]);a=X.apply(0,h);l=X.apply(0,f);h=W.apply(0,h);f=W.apply(0,f);f=w(a,l,h-a,f-l);b.bbox=C(f);return f}function s(a,b,d,e,h){if(h)return[[\"M\",+a+ +h,b],[\"l\",d-2*h,0],[\"a\",h,h,0,0,1,h,h],[\"l\",0,e-2*h],[\"a\",h,h,0,0,1,\n",
       "-h,h],[\"l\",2*h-d,0],[\"a\",h,h,0,0,1,-h,-h],[\"l\",0,2*h-e],[\"a\",h,h,0,0,1,h,-h],[\"z\"] ];a=[[\"M\",a,b],[\"l\",d,0],[\"l\",0,e],[\"l\",-d,0],[\"z\"] ];a.toString=z;return a}function x(a,b,d,e,h){null==h&&null==e&&(e=d);a=+a;b=+b;d=+d;e=+e;if(null!=h){var f=Math.PI/180,l=a+d*Math.cos(-e*f);a+=d*Math.cos(-h*f);var n=b+d*Math.sin(-e*f);b+=d*Math.sin(-h*f);d=[[\"M\",l,n],[\"A\",d,d,0,+(180<h-e),0,a,b] ]}else d=[[\"M\",a,b],[\"m\",0,-e],[\"a\",d,e,0,1,1,0,2*e],[\"a\",d,e,0,1,1,0,-2*e],[\"z\"] ];d.toString=z;return d}function G(b){var e=\n",
       "A(b);if(e.abs)return d(e.abs);Q(b,\"array\")&&Q(b&&b[0],\"array\")||(b=a.parsePathString(b));if(!b||!b.length)return[[\"M\",0,0] ];var h=[],f=0,l=0,n=0,k=0,p=0;\"M\"==b[0][0]&&(f=+b[0][1],l=+b[0][2],n=f,k=l,p++,h[0]=[\"M\",f,l]);for(var q=3==b.length&&\"M\"==b[0][0]&&\"R\"==b[1][0].toUpperCase()&&\"Z\"==b[2][0].toUpperCase(),s,r,w=p,c=b.length;w<c;w++){h.push(s=[]);r=b[w];p=r[0];if(p!=p.toUpperCase())switch(s[0]=p.toUpperCase(),s[0]){case \"A\":s[1]=r[1];s[2]=r[2];s[3]=r[3];s[4]=r[4];s[5]=r[5];s[6]=+r[6]+f;s[7]=+r[7]+\n",
       "l;break;case \"V\":s[1]=+r[1]+l;break;case \"H\":s[1]=+r[1]+f;break;case \"R\":for(var t=[f,l].concat(r.slice(1)),u=2,v=t.length;u<v;u++)t[u]=+t[u]+f,t[++u]=+t[u]+l;h.pop();h=h.concat(P(t,q));break;case \"O\":h.pop();t=x(f,l,r[1],r[2]);t.push(t[0]);h=h.concat(t);break;case \"U\":h.pop();h=h.concat(x(f,l,r[1],r[2],r[3]));s=[\"U\"].concat(h[h.length-1].slice(-2));break;case \"M\":n=+r[1]+f,k=+r[2]+l;default:for(u=1,v=r.length;u<v;u++)s[u]=+r[u]+(u%2?f:l)}else if(\"R\"==p)t=[f,l].concat(r.slice(1)),h.pop(),h=h.concat(P(t,\n",
       "q)),s=[\"R\"].concat(r.slice(-2));else if(\"O\"==p)h.pop(),t=x(f,l,r[1],r[2]),t.push(t[0]),h=h.concat(t);else if(\"U\"==p)h.pop(),h=h.concat(x(f,l,r[1],r[2],r[3])),s=[\"U\"].concat(h[h.length-1].slice(-2));else for(t=0,u=r.length;t<u;t++)s[t]=r[t];p=p.toUpperCase();if(\"O\"!=p)switch(s[0]){case \"Z\":f=+n;l=+k;break;case \"H\":f=s[1];break;case \"V\":l=s[1];break;case \"M\":n=s[s.length-2],k=s[s.length-1];default:f=s[s.length-2],l=s[s.length-1]}}h.toString=z;e.abs=d(h);return h}function h(a,b,d,e){return[a,b,d,e,d,\n",
       "e]}function J(a,b,d,e,h,f){var l=1/3,n=2/3;return[l*a+n*d,l*b+n*e,l*h+n*d,l*f+n*e,h,f]}function K(b,d,e,h,f,l,n,k,p,s){var r=120*S/180,q=S/180*(+f||0),c=[],t,x=a._.cacher(function(a,b,c){var d=a*F.cos(c)-b*F.sin(c);a=a*F.sin(c)+b*F.cos(c);return{x:d,y:a}});if(s)v=s[0],t=s[1],l=s[2],u=s[3];else{t=x(b,d,-q);b=t.x;d=t.y;t=x(k,p,-q);k=t.x;p=t.y;F.cos(S/180*f);F.sin(S/180*f);t=(b-k)/2;v=(d-p)/2;u=t*t/(e*e)+v*v/(h*h);1<u&&(u=F.sqrt(u),e*=u,h*=u);var u=e*e,w=h*h,u=(l==n?-1:1)*F.sqrt(Z((u*w-u*v*v-w*t*t)/\n",
       "(u*v*v+w*t*t)));l=u*e*v/h+(b+k)/2;var u=u*-h*t/e+(d+p)/2,v=F.asin(((d-u)/h).toFixed(9));t=F.asin(((p-u)/h).toFixed(9));v=b<l?S-v:v;t=k<l?S-t:t;0>v&&(v=2*S+v);0>t&&(t=2*S+t);n&&v>t&&(v-=2*S);!n&&t>v&&(t-=2*S)}if(Z(t-v)>r){var c=t,w=k,G=p;t=v+r*(n&&t>v?1:-1);k=l+e*F.cos(t);p=u+h*F.sin(t);c=K(k,p,e,h,f,0,n,w,G,[t,c,l,u])}l=t-v;f=F.cos(v);r=F.sin(v);n=F.cos(t);t=F.sin(t);l=F.tan(l/4);e=4/3*e*l;l*=4/3*h;h=[b,d];b=[b+e*r,d-l*f];d=[k+e*t,p-l*n];k=[k,p];b[0]=2*h[0]-b[0];b[1]=2*h[1]-b[1];if(s)return[b,d,k].concat(c);\n",
       "c=[b,d,k].concat(c).join().split(\",\");s=[];k=0;for(p=c.length;k<p;k++)s[k]=k%2?x(c[k-1],c[k],q).y:x(c[k],c[k+1],q).x;return s}function U(a,b,d,e,h,f,l,k){for(var n=[],p=[[],[] ],s,r,c,t,q=0;2>q;++q)0==q?(r=6*a-12*d+6*h,s=-3*a+9*d-9*h+3*l,c=3*d-3*a):(r=6*b-12*e+6*f,s=-3*b+9*e-9*f+3*k,c=3*e-3*b),1E-12>Z(s)?1E-12>Z(r)||(s=-c/r,0<s&&1>s&&n.push(s)):(t=r*r-4*c*s,c=F.sqrt(t),0>t||(t=(-r+c)/(2*s),0<t&&1>t&&n.push(t),s=(-r-c)/(2*s),0<s&&1>s&&n.push(s)));for(r=q=n.length;q--;)s=n[q],c=1-s,p[0][q]=c*c*c*a+3*\n",
       "c*c*s*d+3*c*s*s*h+s*s*s*l,p[1][q]=c*c*c*b+3*c*c*s*e+3*c*s*s*f+s*s*s*k;p[0][r]=a;p[1][r]=b;p[0][r+1]=l;p[1][r+1]=k;p[0].length=p[1].length=r+2;return{min:{x:X.apply(0,p[0]),y:X.apply(0,p[1])},max:{x:W.apply(0,p[0]),y:W.apply(0,p[1])}}}function I(a,b){var e=!b&&A(a);if(!b&&e.curve)return d(e.curve);var f=G(a),l=b&&G(b),n={x:0,y:0,bx:0,by:0,X:0,Y:0,qx:null,qy:null},k={x:0,y:0,bx:0,by:0,X:0,Y:0,qx:null,qy:null},p=function(a,b,c){if(!a)return[\"C\",b.x,b.y,b.x,b.y,b.x,b.y];a[0]in{T:1,Q:1}||(b.qx=b.qy=null);\n",
       "switch(a[0]){case \"M\":b.X=a[1];b.Y=a[2];break;case \"A\":a=[\"C\"].concat(K.apply(0,[b.x,b.y].concat(a.slice(1))));break;case \"S\":\"C\"==c||\"S\"==c?(c=2*b.x-b.bx,b=2*b.y-b.by):(c=b.x,b=b.y);a=[\"C\",c,b].concat(a.slice(1));break;case \"T\":\"Q\"==c||\"T\"==c?(b.qx=2*b.x-b.qx,b.qy=2*b.y-b.qy):(b.qx=b.x,b.qy=b.y);a=[\"C\"].concat(J(b.x,b.y,b.qx,b.qy,a[1],a[2]));break;case \"Q\":b.qx=a[1];b.qy=a[2];a=[\"C\"].concat(J(b.x,b.y,a[1],a[2],a[3],a[4]));break;case \"L\":a=[\"C\"].concat(h(b.x,b.y,a[1],a[2]));break;case \"H\":a=[\"C\"].concat(h(b.x,\n",
       "b.y,a[1],b.y));break;case \"V\":a=[\"C\"].concat(h(b.x,b.y,b.x,a[1]));break;case \"Z\":a=[\"C\"].concat(h(b.x,b.y,b.X,b.Y))}return a},s=function(a,b){if(7<a[b].length){a[b].shift();for(var c=a[b];c.length;)q[b]=\"A\",l&&(u[b]=\"A\"),a.splice(b++,0,[\"C\"].concat(c.splice(0,6)));a.splice(b,1);v=W(f.length,l&&l.length||0)}},r=function(a,b,c,d,e){a&&b&&\"M\"==a[e][0]&&\"M\"!=b[e][0]&&(b.splice(e,0,[\"M\",d.x,d.y]),c.bx=0,c.by=0,c.x=a[e][1],c.y=a[e][2],v=W(f.length,l&&l.length||0))},q=[],u=[],c=\"\",t=\"\",x=0,v=W(f.length,\n",
       "l&&l.length||0);for(;x<v;x++){f[x]&&(c=f[x][0]);\"C\"!=c&&(q[x]=c,x&&(t=q[x-1]));f[x]=p(f[x],n,t);\"A\"!=q[x]&&\"C\"==c&&(q[x]=\"C\");s(f,x);l&&(l[x]&&(c=l[x][0]),\"C\"!=c&&(u[x]=c,x&&(t=u[x-1])),l[x]=p(l[x],k,t),\"A\"!=u[x]&&\"C\"==c&&(u[x]=\"C\"),s(l,x));r(f,l,n,k,x);r(l,f,k,n,x);var w=f[x],z=l&&l[x],y=w.length,U=l&&z.length;n.x=w[y-2];n.y=w[y-1];n.bx=$(w[y-4])||n.x;n.by=$(w[y-3])||n.y;k.bx=l&&($(z[U-4])||k.x);k.by=l&&($(z[U-3])||k.y);k.x=l&&z[U-2];k.y=l&&z[U-1]}l||(e.curve=d(f));return l?[f,l]:f}function P(a,\n",
       "b){for(var d=[],e=0,h=a.length;h-2*!b>e;e+=2){var f=[{x:+a[e-2],y:+a[e-1]},{x:+a[e],y:+a[e+1]},{x:+a[e+2],y:+a[e+3]},{x:+a[e+4],y:+a[e+5]}];b?e?h-4==e?f[3]={x:+a[0],y:+a[1]}:h-2==e&&(f[2]={x:+a[0],y:+a[1]},f[3]={x:+a[2],y:+a[3]}):f[0]={x:+a[h-2],y:+a[h-1]}:h-4==e?f[3]=f[2]:e||(f[0]={x:+a[e],y:+a[e+1]});d.push([\"C\",(-f[0].x+6*f[1].x+f[2].x)/6,(-f[0].y+6*f[1].y+f[2].y)/6,(f[1].x+6*f[2].x-f[3].x)/6,(f[1].y+6*f[2].y-f[3].y)/6,f[2].x,f[2].y])}return d}y=k.prototype;var Q=a.is,C=a._.clone,L=\"hasOwnProperty\",\n",
       "N=/,?([a-z]),?/gi,$=parseFloat,F=Math,S=F.PI,X=F.min,W=F.max,ma=F.pow,Z=F.abs;M=n(1);var na=n(),ba=n(0,1),V=a._unit2px;a.path=A;a.path.getTotalLength=M;a.path.getPointAtLength=na;a.path.getSubpath=function(a,b,d){if(1E-6>this.getTotalLength(a)-d)return ba(a,b).end;a=ba(a,d,1);return b?ba(a,b).end:a};y.getTotalLength=function(){if(this.node.getTotalLength)return this.node.getTotalLength()};y.getPointAtLength=function(a){return na(this.attr(\"d\"),a)};y.getSubpath=function(b,d){return a.path.getSubpath(this.attr(\"d\"),\n",
       "b,d)};a._.box=w;a.path.findDotsAtSegment=u;a.path.bezierBBox=p;a.path.isPointInsideBBox=b;a.path.isBBoxIntersect=q;a.path.intersection=function(a,b){return l(a,b)};a.path.intersectionNumber=function(a,b){return l(a,b,1)};a.path.isPointInside=function(a,d,e){var h=r(a);return b(h,d,e)&&1==l(a,[[\"M\",d,e],[\"H\",h.x2+10] ],1)%2};a.path.getBBox=r;a.path.get={path:function(a){return a.attr(\"path\")},circle:function(a){a=V(a);return x(a.cx,a.cy,a.r)},ellipse:function(a){a=V(a);return x(a.cx||0,a.cy||0,a.rx,\n",
       "a.ry)},rect:function(a){a=V(a);return s(a.x||0,a.y||0,a.width,a.height,a.rx,a.ry)},image:function(a){a=V(a);return s(a.x||0,a.y||0,a.width,a.height)},line:function(a){return\"M\"+[a.attr(\"x1\")||0,a.attr(\"y1\")||0,a.attr(\"x2\"),a.attr(\"y2\")]},polyline:function(a){return\"M\"+a.attr(\"points\")},polygon:function(a){return\"M\"+a.attr(\"points\")+\"z\"},deflt:function(a){a=a.node.getBBox();return s(a.x,a.y,a.width,a.height)}};a.path.toRelative=function(b){var e=A(b),h=String.prototype.toLowerCase;if(e.rel)return d(e.rel);\n",
       "a.is(b,\"array\")&&a.is(b&&b[0],\"array\")||(b=a.parsePathString(b));var f=[],l=0,n=0,k=0,p=0,s=0;\"M\"==b[0][0]&&(l=b[0][1],n=b[0][2],k=l,p=n,s++,f.push([\"M\",l,n]));for(var r=b.length;s<r;s++){var q=f[s]=[],x=b[s];if(x[0]!=h.call(x[0]))switch(q[0]=h.call(x[0]),q[0]){case \"a\":q[1]=x[1];q[2]=x[2];q[3]=x[3];q[4]=x[4];q[5]=x[5];q[6]=+(x[6]-l).toFixed(3);q[7]=+(x[7]-n).toFixed(3);break;case \"v\":q[1]=+(x[1]-n).toFixed(3);break;case \"m\":k=x[1],p=x[2];default:for(var c=1,t=x.length;c<t;c++)q[c]=+(x[c]-(c%2?l:\n",
       "n)).toFixed(3)}else for(f[s]=[],\"m\"==x[0]&&(k=x[1]+l,p=x[2]+n),q=0,c=x.length;q<c;q++)f[s][q]=x[q];x=f[s].length;switch(f[s][0]){case \"z\":l=k;n=p;break;case \"h\":l+=+f[s][x-1];break;case \"v\":n+=+f[s][x-1];break;default:l+=+f[s][x-2],n+=+f[s][x-1]}}f.toString=z;e.rel=d(f);return f};a.path.toAbsolute=G;a.path.toCubic=I;a.path.map=function(a,b){if(!b)return a;var d,e,h,f,l,n,k;a=I(a);h=0;for(l=a.length;h<l;h++)for(k=a[h],f=1,n=k.length;f<n;f+=2)d=b.x(k[f],k[f+1]),e=b.y(k[f],k[f+1]),k[f]=d,k[f+1]=e;return a};\n",
       "a.path.toString=z;a.path.clone=d});C.plugin(function(a,v,y,C){var A=Math.max,w=Math.min,z=function(a){this.items=[];this.bindings={};this.length=0;this.type=\"set\";if(a)for(var f=0,n=a.length;f<n;f++)a[f]&&(this[this.items.length]=this.items[this.items.length]=a[f],this.length++)};v=z.prototype;v.push=function(){for(var a,f,n=0,k=arguments.length;n<k;n++)if(a=arguments[n])f=this.items.length,this[f]=this.items[f]=a,this.length++;return this};v.pop=function(){this.length&&delete this[this.length--];\n",
       "return this.items.pop()};v.forEach=function(a,f){for(var n=0,k=this.items.length;n<k&&!1!==a.call(f,this.items[n],n);n++);return this};v.animate=function(d,f,n,u){\"function\"!=typeof n||n.length||(u=n,n=L.linear);d instanceof a._.Animation&&(u=d.callback,n=d.easing,f=n.dur,d=d.attr);var p=arguments;if(a.is(d,\"array\")&&a.is(p[p.length-1],\"array\"))var b=!0;var q,e=function(){q?this.b=q:q=this.b},l=0,r=u&&function(){l++==this.length&&u.call(this)};return this.forEach(function(a,l){k.once(\"snap.animcreated.\"+\n",
       "a.id,e);b?p[l]&&a.animate.apply(a,p[l]):a.animate(d,f,n,r)})};v.remove=function(){for(;this.length;)this.pop().remove();return this};v.bind=function(a,f,k){var u={};if(\"function\"==typeof f)this.bindings[a]=f;else{var p=k||a;this.bindings[a]=function(a){u[p]=a;f.attr(u)}}return this};v.attr=function(a){var f={},k;for(k in a)if(this.bindings[k])this.bindings[k](a[k]);else f[k]=a[k];a=0;for(k=this.items.length;a<k;a++)this.items[a].attr(f);return this};v.clear=function(){for(;this.length;)this.pop()};\n",
       "v.splice=function(a,f,k){a=0>a?A(this.length+a,0):a;f=A(0,w(this.length-a,f));var u=[],p=[],b=[],q;for(q=2;q<arguments.length;q++)b.push(arguments[q]);for(q=0;q<f;q++)p.push(this[a+q]);for(;q<this.length-a;q++)u.push(this[a+q]);var e=b.length;for(q=0;q<e+u.length;q++)this.items[a+q]=this[a+q]=q<e?b[q]:u[q-e];for(q=this.items.length=this.length-=f-e;this[q];)delete this[q++];return new z(p)};v.exclude=function(a){for(var f=0,k=this.length;f<k;f++)if(this[f]==a)return this.splice(f,1),!0;return!1};\n",
       "v.insertAfter=function(a){for(var f=this.items.length;f--;)this.items[f].insertAfter(a);return this};v.getBBox=function(){for(var a=[],f=[],k=[],u=[],p=this.items.length;p--;)if(!this.items[p].removed){var b=this.items[p].getBBox();a.push(b.x);f.push(b.y);k.push(b.x+b.width);u.push(b.y+b.height)}a=w.apply(0,a);f=w.apply(0,f);k=A.apply(0,k);u=A.apply(0,u);return{x:a,y:f,x2:k,y2:u,width:k-a,height:u-f,cx:a+(k-a)/2,cy:f+(u-f)/2}};v.clone=function(a){a=new z;for(var f=0,k=this.items.length;f<k;f++)a.push(this.items[f].clone());\n",
       "return a};v.toString=function(){return\"Snap\\u2018s set\"};v.type=\"set\";a.set=function(){var a=new z;arguments.length&&a.push.apply(a,Array.prototype.slice.call(arguments,0));return a}});C.plugin(function(a,v,y,C){function A(a){var b=a[0];switch(b.toLowerCase()){case \"t\":return[b,0,0];case \"m\":return[b,1,0,0,1,0,0];case \"r\":return 4==a.length?[b,0,a[2],a[3] ]:[b,0];case \"s\":return 5==a.length?[b,1,1,a[3],a[4] ]:3==a.length?[b,1,1]:[b,1]}}function w(b,d,f){d=q(d).replace(/\\.{3}|\\u2026/g,b);b=a.parseTransformString(b)||\n",
       "[];d=a.parseTransformString(d)||[];for(var k=Math.max(b.length,d.length),p=[],v=[],h=0,w,z,y,I;h<k;h++){y=b[h]||A(d[h]);I=d[h]||A(y);if(y[0]!=I[0]||\"r\"==y[0].toLowerCase()&&(y[2]!=I[2]||y[3]!=I[3])||\"s\"==y[0].toLowerCase()&&(y[3]!=I[3]||y[4]!=I[4])){b=a._.transform2matrix(b,f());d=a._.transform2matrix(d,f());p=[[\"m\",b.a,b.b,b.c,b.d,b.e,b.f] ];v=[[\"m\",d.a,d.b,d.c,d.d,d.e,d.f] ];break}p[h]=[];v[h]=[];w=0;for(z=Math.max(y.length,I.length);w<z;w++)w in y&&(p[h][w]=y[w]),w in I&&(v[h][w]=I[w])}return{from:u(p),\n",
       "to:u(v),f:n(p)}}function z(a){return a}function d(a){return function(b){return+b.toFixed(3)+a}}function f(b){return a.rgb(b[0],b[1],b[2])}function n(a){var b=0,d,f,k,n,h,p,q=[];d=0;for(f=a.length;d<f;d++){h=\"[\";p=['\"'+a[d][0]+'\"'];k=1;for(n=a[d].length;k<n;k++)p[k]=\"val[\"+b++ +\"]\";h+=p+\"]\";q[d]=h}return Function(\"val\",\"return Snap.path.toString.call([\"+q+\"])\")}function u(a){for(var b=[],d=0,f=a.length;d<f;d++)for(var k=1,n=a[d].length;k<n;k++)b.push(a[d][k]);return b}var p={},b=/[a-z]+$/i,q=String;\n",
       "p.stroke=p.fill=\"colour\";v.prototype.equal=function(a,b){return k(\"snap.util.equal\",this,a,b).firstDefined()};k.on(\"snap.util.equal\",function(e,k){var r,s;r=q(this.attr(e)||\"\");var x=this;if(r==+r&&k==+k)return{from:+r,to:+k,f:z};if(\"colour\"==p[e])return r=a.color(r),s=a.color(k),{from:[r.r,r.g,r.b,r.opacity],to:[s.r,s.g,s.b,s.opacity],f:f};if(\"transform\"==e||\"gradientTransform\"==e||\"patternTransform\"==e)return k instanceof a.Matrix&&(k=k.toTransformString()),a._.rgTransform.test(k)||(k=a._.svgTransform2string(k)),\n",
       "w(r,k,function(){return x.getBBox(1)});if(\"d\"==e||\"path\"==e)return r=a.path.toCubic(r,k),{from:u(r[0]),to:u(r[1]),f:n(r[0])};if(\"points\"==e)return r=q(r).split(a._.separator),s=q(k).split(a._.separator),{from:r,to:s,f:function(a){return a}};aUnit=r.match(b);s=q(k).match(b);return aUnit&&aUnit==s?{from:parseFloat(r),to:parseFloat(k),f:d(aUnit)}:{from:this.asPX(e),to:this.asPX(e,k),f:z}})});C.plugin(function(a,v,y,C){var A=v.prototype,w=\"createTouch\"in C.doc;v=\"click dblclick mousedown mousemove mouseout mouseover mouseup touchstart touchmove touchend touchcancel\".split(\" \");\n",
       "var z={mousedown:\"touchstart\",mousemove:\"touchmove\",mouseup:\"touchend\"},d=function(a,b){var d=\"y\"==a?\"scrollTop\":\"scrollLeft\",e=b&&b.node?b.node.ownerDocument:C.doc;return e[d in e.documentElement?\"documentElement\":\"body\"][d]},f=function(){this.returnValue=!1},n=function(){return this.originalEvent.preventDefault()},u=function(){this.cancelBubble=!0},p=function(){return this.originalEvent.stopPropagation()},b=function(){if(C.doc.addEventListener)return function(a,b,e,f){var k=w&&z[b]?z[b]:b,l=function(k){var l=\n",
       "d(\"y\",f),q=d(\"x\",f);if(w&&z.hasOwnProperty(b))for(var r=0,u=k.targetTouches&&k.targetTouches.length;r<u;r++)if(k.targetTouches[r].target==a||a.contains(k.targetTouches[r].target)){u=k;k=k.targetTouches[r];k.originalEvent=u;k.preventDefault=n;k.stopPropagation=p;break}return e.call(f,k,k.clientX+q,k.clientY+l)};b!==k&&a.addEventListener(b,l,!1);a.addEventListener(k,l,!1);return function(){b!==k&&a.removeEventListener(b,l,!1);a.removeEventListener(k,l,!1);return!0}};if(C.doc.attachEvent)return function(a,\n",
       "b,e,h){var k=function(a){a=a||h.node.ownerDocument.window.event;var b=d(\"y\",h),k=d(\"x\",h),k=a.clientX+k,b=a.clientY+b;a.preventDefault=a.preventDefault||f;a.stopPropagation=a.stopPropagation||u;return e.call(h,a,k,b)};a.attachEvent(\"on\"+b,k);return function(){a.detachEvent(\"on\"+b,k);return!0}}}(),q=[],e=function(a){for(var b=a.clientX,e=a.clientY,f=d(\"y\"),l=d(\"x\"),n,p=q.length;p--;){n=q[p];if(w)for(var r=a.touches&&a.touches.length,u;r--;){if(u=a.touches[r],u.identifier==n.el._drag.id||n.el.node.contains(u.target)){b=\n",
       "u.clientX;e=u.clientY;(a.originalEvent?a.originalEvent:a).preventDefault();break}}else a.preventDefault();b+=l;e+=f;k(\"snap.drag.move.\"+n.el.id,n.move_scope||n.el,b-n.el._drag.x,e-n.el._drag.y,b,e,a)}},l=function(b){a.unmousemove(e).unmouseup(l);for(var d=q.length,f;d--;)f=q[d],f.el._drag={},k(\"snap.drag.end.\"+f.el.id,f.end_scope||f.start_scope||f.move_scope||f.el,b);q=[]};for(y=v.length;y--;)(function(d){a[d]=A[d]=function(e,f){a.is(e,\"function\")&&(this.events=this.events||[],this.events.push({name:d,\n",
       "f:e,unbind:b(this.node||document,d,e,f||this)}));return this};a[\"un\"+d]=A[\"un\"+d]=function(a){for(var b=this.events||[],e=b.length;e--;)if(b[e].name==d&&(b[e].f==a||!a)){b[e].unbind();b.splice(e,1);!b.length&&delete this.events;break}return this}})(v[y]);A.hover=function(a,b,d,e){return this.mouseover(a,d).mouseout(b,e||d)};A.unhover=function(a,b){return this.unmouseover(a).unmouseout(b)};var r=[];A.drag=function(b,d,f,h,n,p){function u(r,v,w){(r.originalEvent||r).preventDefault();this._drag.x=v;\n",
       "this._drag.y=w;this._drag.id=r.identifier;!q.length&&a.mousemove(e).mouseup(l);q.push({el:this,move_scope:h,start_scope:n,end_scope:p});d&&k.on(\"snap.drag.start.\"+this.id,d);b&&k.on(\"snap.drag.move.\"+this.id,b);f&&k.on(\"snap.drag.end.\"+this.id,f);k(\"snap.drag.start.\"+this.id,n||h||this,v,w,r)}if(!arguments.length){var v;return this.drag(function(a,b){this.attr({transform:v+(v?\"T\":\"t\")+[a,b]})},function(){v=this.transform().local})}this._drag={};r.push({el:this,start:u});this.mousedown(u);return this};\n",
       "A.undrag=function(){for(var b=r.length;b--;)r[b].el==this&&(this.unmousedown(r[b].start),r.splice(b,1),k.unbind(\"snap.drag.*.\"+this.id));!r.length&&a.unmousemove(e).unmouseup(l);return this}});C.plugin(function(a,v,y,C){y=y.prototype;var A=/^\\s*url\\((.+)\\)/,w=String,z=a._.$;a.filter={};y.filter=function(d){var f=this;\"svg\"!=f.type&&(f=f.paper);d=a.parse(w(d));var k=a._.id(),u=z(\"filter\");z(u,{id:k,filterUnits:\"userSpaceOnUse\"});u.appendChild(d.node);f.defs.appendChild(u);return new v(u)};k.on(\"snap.util.getattr.filter\",\n",
       "function(){k.stop();var d=z(this.node,\"filter\");if(d)return(d=w(d).match(A))&&a.select(d[1])});k.on(\"snap.util.attr.filter\",function(d){if(d instanceof v&&\"filter\"==d.type){k.stop();var f=d.node.id;f||(z(d.node,{id:d.id}),f=d.id);z(this.node,{filter:a.url(f)})}d&&\"none\"!=d||(k.stop(),this.node.removeAttribute(\"filter\"))});a.filter.blur=function(d,f){null==d&&(d=2);return a.format('<feGaussianBlur stdDeviation=\"{def}\"/>',{def:null==f?d:[d,f]})};a.filter.blur.toString=function(){return this()};a.filter.shadow=\n",
       "function(d,f,k,u,p){\"string\"==typeof k&&(p=u=k,k=4);\"string\"!=typeof u&&(p=u,u=\"#000\");null==k&&(k=4);null==p&&(p=1);null==d&&(d=0,f=2);null==f&&(f=d);u=a.color(u||\"#000\");return a.format('<feGaussianBlur in=\"SourceAlpha\" stdDeviation=\"{blur}\"/><feOffset dx=\"{dx}\" dy=\"{dy}\" result=\"offsetblur\"/><feFlood flood-color=\"{color}\"/><feComposite in2=\"offsetblur\" operator=\"in\"/><feComponentTransfer><feFuncA type=\"linear\" slope=\"{opacity}\"/></feComponentTransfer><feMerge><feMergeNode/><feMergeNode in=\"SourceGraphic\"/></feMerge>',\n",
       "{color:u,dx:d,dy:f,blur:k,opacity:p})};a.filter.shadow.toString=function(){return this()};a.filter.grayscale=function(d){null==d&&(d=1);return a.format('<feColorMatrix type=\"matrix\" values=\"{a} {b} {c} 0 0 {d} {e} {f} 0 0 {g} {b} {h} 0 0 0 0 0 1 0\"/>',{a:0.2126+0.7874*(1-d),b:0.7152-0.7152*(1-d),c:0.0722-0.0722*(1-d),d:0.2126-0.2126*(1-d),e:0.7152+0.2848*(1-d),f:0.0722-0.0722*(1-d),g:0.2126-0.2126*(1-d),h:0.0722+0.9278*(1-d)})};a.filter.grayscale.toString=function(){return this()};a.filter.sepia=\n",
       "function(d){null==d&&(d=1);return a.format('<feColorMatrix type=\"matrix\" values=\"{a} {b} {c} 0 0 {d} {e} {f} 0 0 {g} {h} {i} 0 0 0 0 0 1 0\"/>',{a:0.393+0.607*(1-d),b:0.769-0.769*(1-d),c:0.189-0.189*(1-d),d:0.349-0.349*(1-d),e:0.686+0.314*(1-d),f:0.168-0.168*(1-d),g:0.272-0.272*(1-d),h:0.534-0.534*(1-d),i:0.131+0.869*(1-d)})};a.filter.sepia.toString=function(){return this()};a.filter.saturate=function(d){null==d&&(d=1);return a.format('<feColorMatrix type=\"saturate\" values=\"{amount}\"/>',{amount:1-\n",
       "d})};a.filter.saturate.toString=function(){return this()};a.filter.hueRotate=function(d){return a.format('<feColorMatrix type=\"hueRotate\" values=\"{angle}\"/>',{angle:d||0})};a.filter.hueRotate.toString=function(){return this()};a.filter.invert=function(d){null==d&&(d=1);return a.format('<feComponentTransfer><feFuncR type=\"table\" tableValues=\"{amount} {amount2}\"/><feFuncG type=\"table\" tableValues=\"{amount} {amount2}\"/><feFuncB type=\"table\" tableValues=\"{amount} {amount2}\"/></feComponentTransfer>',{amount:d,\n",
       "amount2:1-d})};a.filter.invert.toString=function(){return this()};a.filter.brightness=function(d){null==d&&(d=1);return a.format('<feComponentTransfer><feFuncR type=\"linear\" slope=\"{amount}\"/><feFuncG type=\"linear\" slope=\"{amount}\"/><feFuncB type=\"linear\" slope=\"{amount}\"/></feComponentTransfer>',{amount:d})};a.filter.brightness.toString=function(){return this()};a.filter.contrast=function(d){null==d&&(d=1);return a.format('<feComponentTransfer><feFuncR type=\"linear\" slope=\"{amount}\" intercept=\"{amount2}\"/><feFuncG type=\"linear\" slope=\"{amount}\" intercept=\"{amount2}\"/><feFuncB type=\"linear\" slope=\"{amount}\" intercept=\"{amount2}\"/></feComponentTransfer>',\n",
       "{amount:d,amount2:0.5-d/2})};a.filter.contrast.toString=function(){return this()}});return C});\n",
       "\n",
       "]]> </script>\n",
       "</svg>\n"
      ],
      "text/plain": [
       "Compose.Context(Measures.BoundingBox{Tuple{Measures.Length{:w,Float64},Measures.Length{:h,Float64}},Tuple{Measures.Length{:w,Float64},Measures.Length{:h,Float64}}}((0.0w, 0.0h), (1.0w, 1.0h)), Compose.UnitBox{Float64,Float64,Float64,Float64}(-1.2, -1.2, 2.4, 2.4, 0.0mm, 0.0mm, 0.0mm, 0.0mm), nothing, nothing, nothing, List([Compose.Context(Measures.BoundingBox{Tuple{Measures.Length{:w,Float64},Measures.Length{:h,Float64}},Tuple{Measures.Length{:w,Float64},Measures.Length{:h,Float64}}}((0.0w, 0.0h), (1.0w, 1.0h)), nothing, nothing, nothing, nothing, List([]), List([Compose.Form{Compose.LinePrimitive}(Compose.LinePrimitive[LinePrimitive{Tuple{Measure,Measure}}(Tuple{Measures.Measure,Measures.Measure}[(0.0648938cx, -0.591501cy), (0.452808cx, -0.94396cy)]), LinePrimitive{Tuple{Measure,Measure}}(Tuple{Measures.Measure,Measures.Measure}[(0.00376171cx, -0.45213cy), (0.00791456cx, 0.183322cy)]), LinePrimitive{Tuple{Measure,Measure}}(Tuple{Measures.Measure,Measures.Measure}[(-0.0651314cx, -0.487787cy), (-0.391998cx, -0.259787cy)]), LinePrimitive{Tuple{Measure,Measure}}(Tuple{Measures.Measure,Measures.Measure}[(0.587689cx, -0.96018cy), (0.924536cx, -0.77695cy)]), LinePrimitive{Tuple{Measure,Measure}}(Tuple{Measures.Measure,Measures.Measure}[(0.997972cx, -0.653797cy), (0.999768cx, -0.00950531cy)]), LinePrimitive{Tuple{Measure,Measure}}(Tuple{Measures.Measure,Measures.Measure}[(0.942248cx, 0.133904cy), (0.586018cx, 0.504471cy)]), LinePrimitive{Tuple{Measure,Measure}}(Tuple{Measures.Measure,Measures.Measure}[(0.477586cx, 0.630699cy), (0.245339cx, 0.933848cy)]), LinePrimitive{Tuple{Measure,Measure}}(Tuple{Measures.Measure,Measures.Measure}[(0.455964cx, 0.523112cy), (0.0807611cx, 0.308088cy)]), LinePrimitive{Tuple{Measure,Measure}}(Tuple{Measures.Measure,Measures.Measure}[(0.174152cx, 0.91923cy), (0.0289672cx, 0.347424cy)]), LinePrimitive{Tuple{Measure,Measure}}(Tuple{Measures.Measure,Measures.Measure}[(-0.0498439cx, 0.207112cy), (-0.402044cx, -0.15257cy)]), LinePrimitive{Tuple{Measure,Measure}}(Tuple{Measures.Measure,Measures.Measure}[(-0.391998cx, -0.259787cy), (-0.0651314cx, -0.487787cy)]), LinePrimitive{Tuple{Measure,Measure}}(Tuple{Measures.Measure,Measures.Measure}[(-0.541698cx, -0.230179cy), (-0.918649cx, -0.313896cy)])], Symbol(\"\"))]), List([Compose.Property{Compose.LineWidthPrimitive}(Compose.LineWidthPrimitive[LineWidthPrimitive(1.0mm)]), Compose.Property{Compose.FillPrimitive}(Compose.FillPrimitive[FillPrimitive(RGBA{Float64}(0.0,0.0,0.0,0.0))]), Compose.Property{Compose.StrokePrimitive}(Compose.StrokePrimitive[StrokePrimitive(RGBA{Float64}(0.827451,0.827451,0.827451,1.0))])]), 0, false, false, false, false, nothing, nothing, 0.0, Symbol(\"\")), Compose.Context(Measures.BoundingBox{Tuple{Measures.Length{:w,Float64},Measures.Length{:h,Float64}},Tuple{Measures.Length{:w,Float64},Measures.Length{:h,Float64}}}((0.0w, 0.0h), (1.0w, 1.0h)), nothing, nothing, nothing, nothing, List([]), List([Compose.Form{Compose.LinePrimitive}(Compose.LinePrimitive[LinePrimitive{Tuple{Measure,Measure}}(Tuple{Measures.Measure,Measures.Measure}[(0.36026cx, -0.906082cy), (0.452808cx, -0.94396cy), (0.406259cx, -0.855455cy)]), LinePrimitive{Tuple{Measure,Measure}}(Tuple{Measures.Measure,Measures.Measure}[(0.0415017cx, 0.0891309cy), (0.00791456cx, 0.183322cy), (-0.0269008cx, 0.089578cy)]), LinePrimitive{Tuple{Measure,Measure}}(Tuple{Measures.Measure,Measures.Measure}[(-0.295359cx, -0.285495cy), (-0.391998cx, -0.259787cy), (-0.334493cx, -0.341599cy)]), LinePrimitive{Tuple{Measure,Measure}}(Tuple{Measures.Measure,Measures.Measure}[(0.858332cx, -0.851896cy), (0.924536cx, -0.77695cy), (0.825645cx, -0.791807cy)]), LinePrimitive{Tuple{Measure,Measure}}(Tuple{Measures.Measure,Measures.Measure}[(1.03371cx, -0.10357cy), (0.999768cx, -0.00950531cy), (0.965304cx, -0.103379cy)]), LinePrimitive{Tuple{Measure,Measure}}(Tuple{Measures.Measure,Measures.Measure}[(0.675798cx, 0.46043cy), (0.586018cx, 0.504471cy), (0.626484cx, 0.413024cy)]), LinePrimitive{Tuple{Measure,Measure}}(Tuple{Measures.Measure,Measures.Measure}[(0.329637cx, 0.880054cy), (0.245339cx, 0.933848cy), (0.275337cx, 0.838454cy)]), LinePrimitive{Tuple{Measure,Measure}}(Tuple{Measures.Measure,Measures.Measure}[(0.145285cx, 0.384487cy), (0.0807611cx, 0.308088cy), (0.179297cx, 0.325138cy)]), LinePrimitive{Tuple{Measure,Measure}}(Tuple{Measures.Measure,Measures.Measure}[(0.0189426cx, 0.44692cy), (0.0289672cx, 0.347424cy), (0.0852429cx, 0.430086cy)]), LinePrimitive{Tuple{Measure,Measure}}(Tuple{Measures.Measure,Measures.Measure}[(-0.360737cx, -0.0615001cy), (-0.402044cx, -0.15257cy), (-0.311862cx, -0.109358cy)]), LinePrimitive{Tuple{Measure,Measure}}(Tuple{Measures.Measure,Measures.Measure}[(-0.16177cx, -0.462078cy), (-0.0651314cx, -0.487787cy), (-0.122636cx, -0.405975cy)]), LinePrimitive{Tuple{Measure,Measure}}(Tuple{Measures.Measure,Measures.Measure}[(-0.83433cx, -0.260134cy), (-0.918649cx, -0.313896cy), (-0.819499cx, -0.326911cy)])], Symbol(\"\"))]), List([Compose.Property{Compose.LineWidthPrimitive}(Compose.LineWidthPrimitive[LineWidthPrimitive(1.0mm)]), Compose.Property{Compose.StrokePrimitive}(Compose.StrokePrimitive[StrokePrimitive(RGBA{Float64}(0.827451,0.827451,0.827451,1.0))])]), 0, false, false, false, false, nothing, nothing, 0.0, Symbol(\"\")), Compose.Context(Measures.BoundingBox{Tuple{Measures.Length{:w,Float64},Measures.Length{:h,Float64}},Tuple{Measures.Length{:w,Float64},Measures.Length{:h,Float64}}}((0.0w, 0.0h), (1.0w, 1.0h)), nothing, nothing, nothing, nothing, List([]), List([]), List([Compose.Property{Compose.FontSizePrimitive}(Compose.FontSizePrimitive[FontSizePrimitive(4.0mm)]), Compose.Property{Compose.StrokePrimitive}(Compose.StrokePrimitive[StrokePrimitive(RGBA{Float64}(0.0,0.0,0.0,0.0))]), Compose.Property{Compose.FillPrimitive}(Compose.FillPrimitive[FillPrimitive(RGBA{Float64}(0.0,0.0,0.0,1.0))])]), 0, false, false, false, false, nothing, nothing, 0.0, Symbol(\"\")), Compose.Context(Measures.BoundingBox{Tuple{Measures.Length{:w,Float64},Measures.Length{:h,Float64}},Tuple{Measures.Length{:w,Float64},Measures.Length{:h,Float64}}}((0.0w, 0.0h), (1.0w, 1.0h)), nothing, nothing, nothing, nothing, List([]), List([Compose.Form{Compose.CirclePrimitive{Tuple{Measures.Measure,Measures.Measure},Measures.Measure}}(Compose.CirclePrimitive{Tuple{Measures.Measure,Measures.Measure},Measures.Measure}[CirclePrimitive{Tuple{Measure,Measure},Measure}((0.00321711cx, -0.535462cy), 0.0333333w), CirclePrimitive{Tuple{Measure,Measure},Measure}((0.514485cx, -1.0cy), 0.0333333w), CirclePrimitive{Tuple{Measure,Measure},Measure}((0.99774cx, -0.73713cy), 0.0333333w), CirclePrimitive{Tuple{Measure,Measure},Measure}((1.0cx, 0.0738277cy), 0.0333333w), CirclePrimitive{Tuple{Measure,Measure},Measure}((0.528266cx, 0.564547cy), 0.0333333w), CirclePrimitive{Tuple{Measure,Measure},Measure}((0.19466cx, 1.0cy), 0.0333333w), CirclePrimitive{Tuple{Measure,Measure},Measure}((0.00845915cx, 0.266653cy), 0.0333333w), CirclePrimitive{Tuple{Measure,Measure},Measure}((-0.460347cx, -0.212112cy), 0.0333333w), CirclePrimitive{Tuple{Measure,Measure},Measure}((-1.0cx, -0.331963cy), 0.0333333w)], Symbol(\"\"))]), List([Compose.Property{Compose.LineWidthPrimitive}(Compose.LineWidthPrimitive[LineWidthPrimitive(0.0mm)]), Compose.Property{Compose.StrokePrimitive}(Compose.StrokePrimitive[StrokePrimitive(RGBA{Float64}(0.0,0.0,0.0,0.0))]), Compose.Property{Compose.FillPrimitive}(Compose.FillPrimitive[FillPrimitive(RGBA{Float64}(0.25098,0.878431,0.815686,1.0))])]), 0, false, false, false, false, nothing, nothing, 0.0, Symbol(\"\")), Compose.Context(Measures.BoundingBox{Tuple{Measures.Length{:w,Float64},Measures.Length{:h,Float64}},Tuple{Measures.Length{:w,Float64},Measures.Length{:h,Float64}}}((0.0w, 0.0h), (1.0w, 1.0h)), nothing, nothing, nothing, nothing, List([]), List([Compose.Form{Compose.TextPrimitive{Tuple{Measures.Length{:cx,Float64},Measures.Length{:cy,Float64}},Compose.Rotation{Tuple{Measures.Length{:w,Float64},Measures.Length{:h,Float64}}},Tuple{Measures.Length{:mm,Float64},Measures.Length{:mm,Float64}}}}(Compose.TextPrimitive{Tuple{Measures.Length{:cx,Float64},Measures.Length{:cy,Float64}},Compose.Rotation{Tuple{Measures.Length{:w,Float64},Measures.Length{:h,Float64}}},Tuple{Measures.Length{:mm,Float64},Measures.Length{:mm,Float64}}}[TextPrimitive{Tuple{Length{:cx,Float64},Length{:cy,Float64}},Rotation{Tuple{Length{:w,Float64},Length{:h,Float64}}},Tuple{Length{:mm,Float64},Length{:mm,Float64}}}((0.00321711cx, -0.535462cy), \"grosseconomy\", HCenter(), VCenter(), Rotation{Tuple{Length{:w,Float64},Length{:h,Float64}}}(0.0, (0.5w, 0.5h)), (0.0mm, 0.0mm)), TextPrimitive{Tuple{Length{:cx,Float64},Length{:cy,Float64}},Rotation{Tuple{Length{:w,Float64},Length{:h,Float64}}},Tuple{Length{:mm,Float64},Length{:mm,Float64}}}((0.514485cx, -1.0cy), \"emissions\", HCenter(), VCenter(), Rotation{Tuple{Length{:w,Float64},Length{:h,Float64}}}(0.0, (0.5w, 0.5h)), (0.0mm, 0.0mm)), TextPrimitive{Tuple{Length{:cx,Float64},Length{:cy,Float64}},Rotation{Tuple{Length{:w,Float64},Length{:h,Float64}}},Tuple{Length{:mm,Float64},Length{:mm,Float64}}}((0.99774cx, -0.73713cy), \"co2cycle\", HCenter(), VCenter(), Rotation{Tuple{Length{:w,Float64},Length{:h,Float64}}}(0.0, (0.5w, 0.5h)), (0.0mm, 0.0mm)), TextPrimitive{Tuple{Length{:cx,Float64},Length{:cy,Float64}},Rotation{Tuple{Length{:w,Float64},Length{:h,Float64}}},Tuple{Length{:mm,Float64},Length{:mm,Float64}}}((1.0cx, 0.0738277cy), \"radiativeforcing\", HCenter(), VCenter(), Rotation{Tuple{Length{:w,Float64},Length{:h,Float64}}}(0.0, (0.5w, 0.5h)), (0.0mm, 0.0mm)), TextPrimitive{Tuple{Length{:cx,Float64},Length{:cy,Float64}},Rotation{Tuple{Length{:w,Float64},Length{:h,Float64}}},Tuple{Length{:mm,Float64},Length{:mm,Float64}}}((0.528266cx, 0.564547cy), \"climatedynamics\", HCenter(), VCenter(), Rotation{Tuple{Length{:w,Float64},Length{:h,Float64}}}(0.0, (0.5w, 0.5h)), (0.0mm, 0.0mm)), TextPrimitive{Tuple{Length{:cx,Float64},Length{:cy,Float64}},Rotation{Tuple{Length{:w,Float64},Length{:h,Float64}}},Tuple{Length{:mm,Float64},Length{:mm,Float64}}}((0.19466cx, 1.0cy), \"sealevelrise\", HCenter(), VCenter(), Rotation{Tuple{Length{:w,Float64},Length{:h,Float64}}}(0.0, (0.5w, 0.5h)), (0.0mm, 0.0mm)), TextPrimitive{Tuple{Length{:cx,Float64},Length{:cy,Float64}},Rotation{Tuple{Length{:w,Float64},Length{:h,Float64}}},Tuple{Length{:mm,Float64},Length{:mm,Float64}}}((0.00845915cx, 0.266653cy), \"damages\", HCenter(), VCenter(), Rotation{Tuple{Length{:w,Float64},Length{:h,Float64}}}(0.0, (0.5w, 0.5h)), (0.0mm, 0.0mm)), TextPrimitive{Tuple{Length{:cx,Float64},Length{:cy,Float64}},Rotation{Tuple{Length{:w,Float64},Length{:h,Float64}}},Tuple{Length{:mm,Float64},Length{:mm,Float64}}}((-0.460347cx, -0.212112cy), \"neteconomy\", HCenter(), VCenter(), Rotation{Tuple{Length{:w,Float64},Length{:h,Float64}}}(0.0, (0.5w, 0.5h)), (0.0mm, 0.0mm)), TextPrimitive{Tuple{Length{:cx,Float64},Length{:cy,Float64}},Rotation{Tuple{Length{:w,Float64},Length{:h,Float64}}},Tuple{Length{:mm,Float64},Length{:mm,Float64}}}((-1.0cx, -0.331963cy), \"welfare\", HCenter(), VCenter(), Rotation{Tuple{Length{:w,Float64},Length{:h,Float64}}}(0.0, (0.5w, 0.5h)), (0.0mm, 0.0mm))], Symbol(\"\"))]), List([Compose.Property{Compose.FontSizePrimitive}(Compose.FontSizePrimitive[FontSizePrimitive(4.0mm)]), Compose.Property{Compose.StrokePrimitive}(Compose.StrokePrimitive[StrokePrimitive(RGBA{Float64}(0.0,0.0,0.0,0.0))]), Compose.Property{Compose.FillPrimitive}(Compose.FillPrimitive[FillPrimitive(RGBA{Float64}(0.0,0.0,0.0,1.0))])]), 0, false, false, false, false, nothing, nothing, 0.0, Symbol(\"\"))]), List([]), List([]), 0, false, false, false, false, nothing, nothing, 0.0, Symbol(\"\"))"
      ]
     },
     "execution_count": 5,
     "metadata": {},
     "output_type": "execute_result"
    }
   ],
   "source": [
    "plot_comp_graph(m)"
   ]
  },
  {
   "cell_type": "markdown",
   "metadata": {},
   "source": [
    "Next, we can run our model `m`. This will evaluate all the equations of the model and make all outputs of the model accessible for us."
   ]
  },
  {
   "cell_type": "code",
   "execution_count": 6,
   "metadata": {},
   "outputs": [],
   "source": [
    "run(m)"
   ]
  },
  {
   "cell_type": "markdown",
   "metadata": {},
   "source": [
    "If you are running this notebook on your local computer, you can explore the results of your model interactively:"
   ]
  },
  {
   "cell_type": "code",
   "execution_count": 7,
   "metadata": {},
   "outputs": [],
   "source": [
    "if use_explore\n",
    "    explore(m)\n",
    "end"
   ]
  },
  {
   "cell_type": "markdown",
   "metadata": {},
   "source": [
    "You can access any variable inside a model by using indexing notation `[]`, where you pass the name of the component as the first argument, and the name of the variable you want to show as the second argument. Both names need to be passed as `Symbol`s. You retrieve a standard array with the data for that variable in this way.\n",
    "\n",
    "In the following example we retrieve the value of the `TATM` variable in the `climatedynamics` component."
   ]
  },
  {
   "cell_type": "code",
   "execution_count": 8,
   "metadata": {},
   "outputs": [
    {
     "data": {
      "text/plain": [
       "60-element Array{Union{Missing, Float64},1}:\n",
       " 0.83              \n",
       " 0.98              \n",
       " 1.3881597063065039\n",
       " 1.7763568832996077\n",
       " 2.143378418542003 \n",
       " 2.48771553569001  \n",
       " 2.8087148591501157\n",
       " 3.10671639649217  \n",
       " 3.382825259538321 \n",
       " 3.6386207932274326\n",
       " 3.8759150825139432\n",
       " 4.107603640506595 \n",
       " 4.3320678899024765\n",
       " ⋮                 \n",
       " 5.735088811443862 \n",
       " 5.726047781785632 \n",
       " 5.717682476124955 \n",
       " 5.7098486040987675\n",
       " 5.702425576261056 \n",
       " 5.695313048813406 \n",
       " 5.688427888709104 \n",
       " 5.681701533558629 \n",
       " 5.675077712524968 \n",
       " 5.6685104910086705\n",
       " 5.6619626016188915\n",
       " 5.655404025496941 "
      ]
     },
     "execution_count": 8,
     "metadata": {},
     "output_type": "execute_result"
    }
   ],
   "source": [
    "m[:climatedynamics, :TATM]"
   ]
  },
  {
   "cell_type": "markdown",
   "metadata": {},
   "source": [
    "You can also directy plot the content of the variable with the `Mimi.plot` function. You pass the model as the first argument, the name of the component as the second and the name of the variable as the third argument:"
   ]
  },
  {
   "cell_type": "code",
   "execution_count": 9,
   "metadata": {},
   "outputs": [
    {
     "data": {
      "application/vnd.vegalite.v3+json": {
       "$schema": "https://vega.github.io/schema/vega-lite/v2.0.json",
       "data": {
        "values": [
         {
          "TATM": "0.83",
          "time": "2005-01-01"
         },
         {
          "TATM": "0.98",
          "time": "2015-01-01"
         },
         {
          "TATM": "1.3881597063065039",
          "time": "2025-01-01"
         },
         {
          "TATM": "1.7763568832996077",
          "time": "2035-01-01"
         },
         {
          "TATM": "2.143378418542003",
          "time": "2045-01-01"
         },
         {
          "TATM": "2.48771553569001",
          "time": "2055-01-01"
         },
         {
          "TATM": "2.8087148591501157",
          "time": "2065-01-01"
         },
         {
          "TATM": "3.10671639649217",
          "time": "2075-01-01"
         },
         {
          "TATM": "3.382825259538321",
          "time": "2085-01-01"
         },
         {
          "TATM": "3.6386207932274326",
          "time": "2095-01-01"
         },
         {
          "TATM": "3.8759150825139432",
          "time": "2105-01-01"
         },
         {
          "TATM": "4.107603640506595",
          "time": "2115-01-01"
         },
         {
          "TATM": "4.3320678899024765",
          "time": "2125-01-01"
         },
         {
          "TATM": "4.548669639694528",
          "time": "2135-01-01"
         },
         {
          "TATM": "4.757364104876634",
          "time": "2145-01-01"
         },
         {
          "TATM": "4.95845043632468",
          "time": "2155-01-01"
         },
         {
          "TATM": "5.152412610352883",
          "time": "2165-01-01"
         },
         {
          "TATM": "5.3398195261657015",
          "time": "2175-01-01"
         },
         {
          "TATM": "5.521263793725003",
          "time": "2185-01-01"
         },
         {
          "TATM": "5.697325788302517",
          "time": "2195-01-01"
         },
         {
          "TATM": "5.868554376703898",
          "time": "2205-01-01"
         },
         {
          "TATM": "6.035459345242548",
          "time": "2215-01-01"
         },
         {
          "TATM": "6.198514129513103",
          "time": "2225-01-01"
         },
         {
          "TATM": "6.3581847198627255",
          "time": "2235-01-01"
         },
         {
          "TATM": "6.5148671959990105",
          "time": "2245-01-01"
         },
         {
          "TATM": "6.618260569750442",
          "time": "2255-01-01"
         },
         {
          "TATM": "6.637108329409583",
          "time": "2265-01-01"
         },
         {
          "TATM": "6.604999248696924",
          "time": "2275-01-01"
         },
         {
          "TATM": "6.544161231045846",
          "time": "2285-01-01"
         },
         {
          "TATM": "6.469101715479886",
          "time": "2295-01-01"
         },
         {
          "TATM": "6.389094468166331",
          "time": "2305-01-01"
         },
         {
          "TATM": "6.30988143244077",
          "time": "2315-01-01"
         },
         {
          "TATM": "6.234838775038302",
          "time": "2325-01-01"
         },
         {
          "TATM": "6.165775908514998",
          "time": "2335-01-01"
         },
         {
          "TATM": "6.103482237025658",
          "time": "2345-01-01"
         },
         {
          "TATM": "6.048099981351211",
          "time": "2355-01-01"
         },
         {
          "TATM": "5.999376851685412",
          "time": "2365-01-01"
         },
         {
          "TATM": "5.956835647931661",
          "time": "2375-01-01"
         },
         {
          "TATM": "5.919886474826612",
          "time": "2385-01-01"
         },
         {
          "TATM": "5.8878994327132546",
          "time": "2395-01-01"
         },
         {
          "TATM": "5.86025023335239",
          "time": "2405-01-01"
         },
         {
          "TATM": "5.836347426164182",
          "time": "2415-01-01"
         },
         {
          "TATM": "5.815647288994508",
          "time": "2425-01-01"
         },
         {
          "TATM": "5.797660591169723",
          "time": "2435-01-01"
         },
         {
          "TATM": "5.781954138232699",
          "time": "2445-01-01"
         },
         {
          "TATM": "5.768149094264203",
          "time": "2455-01-01"
         },
         {
          "TATM": "5.755917435823844",
          "time": "2465-01-01"
         },
         {
          "TATM": "5.7449774419575395",
          "time": "2475-01-01"
         },
         {
          "TATM": "5.735088811443862",
          "time": "2485-01-01"
         },
         {
          "TATM": "5.726047781785632",
          "time": "2495-01-01"
         },
         {
          "TATM": "5.717682476124955",
          "time": "2505-01-01"
         },
         {
          "TATM": "5.7098486040987675",
          "time": "2515-01-01"
         },
         {
          "TATM": "5.702425576261056",
          "time": "2525-01-01"
         },
         {
          "TATM": "5.695313048813406",
          "time": "2535-01-01"
         },
         {
          "TATM": "5.688427888709104",
          "time": "2545-01-01"
         },
         {
          "TATM": "5.681701533558629",
          "time": "2555-01-01"
         },
         {
          "TATM": "5.675077712524968",
          "time": "2565-01-01"
         },
         {
          "TATM": "5.6685104910086705",
          "time": "2575-01-01"
         },
         {
          "TATM": "5.6619626016188915",
          "time": "2585-01-01"
         },
         {
          "TATM": "5.655404025496941",
          "time": "2595-01-01"
         }
        ]
       },
       "description": "plot for a specific component variable pair",
       "encoding": {
        "x": {
         "field": "time",
         "timeUnit": "utcyear",
         "type": "temporal"
        },
        "y": {
         "field": "TATM",
         "type": "quantitative"
        }
       },
       "height": 410,
       "mark": {
        "type": "line"
       },
       "title": "climatedynamics : TATM",
       "width": 450
      },
      "image/png": "[encoded data removed]",
      "image/svg+xml": [
       "<svg class=\"marks\" width=\"497\" height=\"474\" viewBox=\"0 0 497 474\" version=\"1.1\" xmlns=\"http://www.w3.org/2000/svg\" xmlns:xlink=\"http://www.w3.org/1999/xlink\"><g transform=\"translate(40,27)\"><g class=\"mark-group role-frame root\"><g transform=\"translate(0,0)\"><path class=\"background\" d=\"M0.5,0.5h450v410h-450Z\" style=\"fill: none; stroke: #ddd;\"></path><g><g class=\"mark-group role-axis\"><g transform=\"translate(0.5,410.5)\"><path class=\"background\" d=\"M0,0h0v0h0Z\" style=\"pointer-events: none; fill: none;\"></path><g><g class=\"mark-rule role-axis-grid\" style=\"pointer-events: none;\"><line transform=\"translate(34,-410)\" x2=\"0\" y2=\"410\" style=\"fill: none; stroke: #ddd; stroke-width: 1; opacity: 1;\"></line><line transform=\"translate(72,-410)\" x2=\"0\" y2=\"410\" style=\"fill: none; stroke: #ddd; stroke-width: 1; opacity: 1;\"></line><line transform=\"translate(111,-410)\" x2=\"0\" y2=\"410\" style=\"fill: none; stroke: #ddd; stroke-width: 1; opacity: 1;\"></line><line transform=\"translate(149,-410)\" x2=\"0\" y2=\"410\" style=\"fill: none; stroke: #ddd; stroke-width: 1; opacity: 1;\"></line><line transform=\"translate(187,-410)\" x2=\"0\" y2=\"410\" style=\"fill: none; stroke: #ddd; stroke-width: 1; opacity: 1;\"></line><line transform=\"translate(225,-410)\" x2=\"0\" y2=\"410\" style=\"fill: none; stroke: #ddd; stroke-width: 1; opacity: 1;\"></line><line transform=\"translate(263,-410)\" x2=\"0\" y2=\"410\" style=\"fill: none; stroke: #ddd; stroke-width: 1; opacity: 1;\"></line><line transform=\"translate(301,-410)\" x2=\"0\" y2=\"410\" style=\"fill: none; stroke: #ddd; stroke-width: 1; opacity: 1;\"></line><line transform=\"translate(339,-410)\" x2=\"0\" y2=\"410\" style=\"fill: none; stroke: #ddd; stroke-width: 1; opacity: 1;\"></line><line transform=\"translate(378,-410)\" x2=\"0\" y2=\"410\" style=\"fill: none; stroke: #ddd; stroke-width: 1; opacity: 1;\"></line><line transform=\"translate(416,-410)\" x2=\"0\" y2=\"410\" style=\"fill: none; stroke: #ddd; stroke-width: 1; opacity: 1;\"></line></g></g></g></g><g class=\"mark-group role-axis\"><g transform=\"translate(0.5,0.5)\"><path class=\"background\" d=\"M0,0h0v0h0Z\" style=\"pointer-events: none; fill: none;\"></path><g><g class=\"mark-rule role-axis-grid\" style=\"pointer-events: none;\"><line transform=\"translate(0,410)\" x2=\"450\" y2=\"0\" style=\"fill: none; stroke: #ddd; stroke-width: 1; opacity: 1;\"></line><line transform=\"translate(0,381)\" x2=\"450\" y2=\"0\" style=\"fill: none; stroke: #ddd; stroke-width: 1; opacity: 1;\"></line><line transform=\"translate(0,351)\" x2=\"450\" y2=\"0\" style=\"fill: none; stroke: #ddd; stroke-width: 1; opacity: 1;\"></line><line transform=\"translate(0,322)\" x2=\"450\" y2=\"0\" style=\"fill: none; stroke: #ddd; stroke-width: 1; opacity: 1;\"></line><line transform=\"translate(0,293)\" x2=\"450\" y2=\"0\" style=\"fill: none; stroke: #ddd; stroke-width: 1; opacity: 1;\"></line><line transform=\"translate(0,264)\" x2=\"450\" y2=\"0\" style=\"fill: none; stroke: #ddd; stroke-width: 1; opacity: 1;\"></line><line transform=\"translate(0,234)\" x2=\"450\" y2=\"0\" style=\"fill: none; stroke: #ddd; stroke-width: 1; opacity: 1;\"></line><line transform=\"translate(0,205)\" x2=\"450\" y2=\"0\" style=\"fill: none; stroke: #ddd; stroke-width: 1; opacity: 1;\"></line><line transform=\"translate(0,176)\" x2=\"450\" y2=\"0\" style=\"fill: none; stroke: #ddd; stroke-width: 1; opacity: 1;\"></line><line transform=\"translate(0,146)\" x2=\"450\" y2=\"0\" style=\"fill: none; stroke: #ddd; stroke-width: 1; opacity: 1;\"></line><line transform=\"translate(0,117)\" x2=\"450\" y2=\"0\" style=\"fill: none; stroke: #ddd; stroke-width: 1; opacity: 1;\"></line><line transform=\"translate(0,88)\" x2=\"450\" y2=\"0\" style=\"fill: none; stroke: #ddd; stroke-width: 1; opacity: 1;\"></line><line transform=\"translate(0,59)\" x2=\"450\" y2=\"0\" style=\"fill: none; stroke: #ddd; stroke-width: 1; opacity: 1;\"></line><line transform=\"translate(0,29)\" x2=\"450\" y2=\"0\" style=\"fill: none; stroke: #ddd; stroke-width: 1; opacity: 1;\"></line><line transform=\"translate(0,0)\" x2=\"450\" y2=\"0\" style=\"fill: none; stroke: #ddd; stroke-width: 1; opacity: 1;\"></line></g></g></g></g><g class=\"mark-line role-mark marks\"><path d=\"M450,78.7549070780363L442.37376620122234,78.37076190517922L434.74544416756,77.98724266949216L427.11921036878226,77.6025911235376L419.4908883351199,77.2146244629946L411.86465453634224,76.82065223275248L404.2363325026799,76.4173785695005L396.6100987039022,76.0007876761382L388.98177667023987,75.56601033135792L381.35554287146215,75.10716925553828L373.7293090726845,74.61720135255581L366.10307527390677,74.08765532971671L358.47475324024447,73.50846411391558L350.84851944146675,72.86769304460347L343.2201974078044,72.15126733595383L335.59396360902673,71.34268618922766L327.96564157536443,70.42273680291618L320.3394077765867,69.36923021603599L312.7110857429244,68.1567936103836L305.0848519441467,66.75677204650287L297.45652991048433,65.13731894108076L289.8302961117067,63.26379218872705L282.2019740780443,61.09962633543131L274.5757402792666,58.60792725842589L266.9474182456043,55.75414394942908L259.3211844468266,52.51032611706859L251.69286241316425,48.861696786978655L244.06662861438656,44.81658603347091L236.4383065807242,40.421230385612034L228.8120727819465,35.78160972168632L221.18583898316882,31.095470950463834L213.55960518439113,26.699127895886136L205.9312831507288,23.13575829060875L198.3050493519511,21.25508356315305L190.67672731828875,22.359023771759837L183.05049351951106,28.414921377200812L175.4221714858487,37.59203783661184L167.79593768707105,46.944172414232526L160.16761565340872,56.494524064365066L152.54138185463103,66.27038650734312L144.91514805585334,76.29948954228115L137.28891425707565,86.61169208182127L129.6605922234133,97.23914203886608L122.0343584246356,108.21583282218825L114.40603639097326,119.57647444384014L106.77980259219557,131.35438814294002L99.15148055853322,143.57792110360623L91.52524675975553,156.26459501999778L83.89692472609319,169.41178677032795L76.27069092731551,182.98211659561187L68.64445712853782,196.88078211096465L61.01822332976013,211.8630919413269L53.38990129609778,228.03518249117292L45.7636674973201,245.48955824977895L38.13534546365776,264.2909471952994L30.509111664880066,284.45926405682553L22.88078963121772,305.95623969245156L15.254555832440033,328.69350291633333L7.626233798777686,352.6L0,361.3857142857143\" style=\"fill: none; stroke: #4c78a8; stroke-width: 2;\"></path></g><g class=\"mark-text role-title\" style=\"pointer-events: none;\"><text text-anchor=\"middle\" transform=\"translate(225,-12)\" style=\"font-family: sans-serif; font-size: 13px; font-weight: bold; fill: #000; opacity: 1;\">climatedynamics : TATM</text></g><g class=\"mark-group role-axis\"><g transform=\"translate(0.5,410.5)\"><path class=\"background\" d=\"M0,0h0v0h0Z\" style=\"pointer-events: none; fill: none;\"></path><g><g class=\"mark-rule role-axis-tick\" style=\"pointer-events: none;\"><line transform=\"translate(34,0)\" x2=\"0\" y2=\"5\" style=\"fill: none; stroke: #888; stroke-width: 1; opacity: 1;\"></line><line transform=\"translate(72,0)\" x2=\"0\" y2=\"5\" style=\"fill: none; stroke: #888; stroke-width: 1; opacity: 1;\"></line><line transform=\"translate(111,0)\" x2=\"0\" y2=\"5\" style=\"fill: none; stroke: #888; stroke-width: 1; opacity: 1;\"></line><line transform=\"translate(149,0)\" x2=\"0\" y2=\"5\" style=\"fill: none; stroke: #888; stroke-width: 1; opacity: 1;\"></line><line transform=\"translate(187,0)\" x2=\"0\" y2=\"5\" style=\"fill: none; stroke: #888; stroke-width: 1; opacity: 1;\"></line><line transform=\"translate(225,0)\" x2=\"0\" y2=\"5\" style=\"fill: none; stroke: #888; stroke-width: 1; opacity: 1;\"></line><line transform=\"translate(263,0)\" x2=\"0\" y2=\"5\" style=\"fill: none; stroke: #888; stroke-width: 1; opacity: 1;\"></line><line transform=\"translate(301,0)\" x2=\"0\" y2=\"5\" style=\"fill: none; stroke: #888; stroke-width: 1; opacity: 1;\"></line><line transform=\"translate(339,0)\" x2=\"0\" y2=\"5\" style=\"fill: none; stroke: #888; stroke-width: 1; opacity: 1;\"></line><line transform=\"translate(378,0)\" x2=\"0\" y2=\"5\" style=\"fill: none; stroke: #888; stroke-width: 1; opacity: 1;\"></line><line transform=\"translate(416,0)\" x2=\"0\" y2=\"5\" style=\"fill: none; stroke: #888; stroke-width: 1; opacity: 1;\"></line></g><g class=\"mark-text role-axis-label\" style=\"pointer-events: none;\"><text text-anchor=\"middle\" transform=\"translate(34.32222856426891,15)\" style=\"font-family: sans-serif; font-size: 10px; fill: #000; opacity: 1;\">2050</text><text text-anchor=\"middle\" transform=\"translate(72.45757402792667,15)\" style=\"font-family: sans-serif; font-size: 10px; fill: #000; opacity: 1;\">2100</text><text text-anchor=\"middle\" transform=\"translate(110.59291949158441,15)\" style=\"font-family: sans-serif; font-size: 10px; fill: #000; opacity: 1;\">2150</text><text text-anchor=\"middle\" transform=\"translate(148.72826495524217,15)\" style=\"font-family: sans-serif; font-size: 10px; fill: #000; opacity: 1;\">2200</text><text text-anchor=\"middle\" transform=\"translate(186.8636104188999,15)\" style=\"font-family: sans-serif; font-size: 10px; fill: #000; opacity: 1;\">2250</text><text text-anchor=\"middle\" transform=\"translate(224.99895588255768,15)\" style=\"font-family: sans-serif; font-size: 10px; fill: #000; opacity: 1;\">2300</text><text text-anchor=\"middle\" transform=\"translate(263.1343013462154,15)\" style=\"font-family: sans-serif; font-size: 10px; fill: #000; opacity: 1;\">2350</text><text text-anchor=\"middle\" transform=\"translate(301.26964680987317,15)\" style=\"font-family: sans-serif; font-size: 10px; fill: #000; opacity: 1;\">2400</text><text text-anchor=\"middle\" transform=\"translate(339.40708050841556,15)\" style=\"font-family: sans-serif; font-size: 10px; fill: #000; opacity: 1;\">2450</text><text text-anchor=\"middle\" transform=\"translate(377.5424259720734,15)\" style=\"font-family: sans-serif; font-size: 10px; fill: #000; opacity: 1;\">2500</text><text text-anchor=\"middle\" transform=\"translate(415.67777143573113,15)\" style=\"font-family: sans-serif; font-size: 10px; fill: #000; opacity: 1;\">2550</text></g><g class=\"mark-rule role-axis-domain\" style=\"pointer-events: none;\"><line transform=\"translate(0,0)\" x2=\"450\" y2=\"0\" style=\"fill: none; stroke: #888; stroke-width: 1; opacity: 1;\"></line></g><g class=\"mark-text role-axis-title\" style=\"pointer-events: none;\"><text text-anchor=\"middle\" transform=\"translate(225,30)\" style=\"font-family: sans-serif; font-size: 11px; font-weight: bold; fill: #000; opacity: 1;\">time (year)</text></g></g></g></g><g class=\"mark-group role-axis\"><g transform=\"translate(0.5,0.5)\"><path class=\"background\" d=\"M0,0h0v0h0Z\" style=\"pointer-events: none; fill: none;\"></path><g><g class=\"mark-rule role-axis-tick\" style=\"pointer-events: none;\"><line transform=\"translate(0,410)\" x2=\"-5\" y2=\"0\" style=\"fill: none; stroke: #888; stroke-width: 1; opacity: 1;\"></line><line transform=\"translate(0,381)\" x2=\"-5\" y2=\"0\" style=\"fill: none; stroke: #888; stroke-width: 1; opacity: 1;\"></line><line transform=\"translate(0,351)\" x2=\"-5\" y2=\"0\" style=\"fill: none; stroke: #888; stroke-width: 1; opacity: 1;\"></line><line transform=\"translate(0,322)\" x2=\"-5\" y2=\"0\" style=\"fill: none; stroke: #888; stroke-width: 1; opacity: 1;\"></line><line transform=\"translate(0,293)\" x2=\"-5\" y2=\"0\" style=\"fill: none; stroke: #888; stroke-width: 1; opacity: 1;\"></line><line transform=\"translate(0,264)\" x2=\"-5\" y2=\"0\" style=\"fill: none; stroke: #888; stroke-width: 1; opacity: 1;\"></line><line transform=\"translate(0,234)\" x2=\"-5\" y2=\"0\" style=\"fill: none; stroke: #888; stroke-width: 1; opacity: 1;\"></line><line transform=\"translate(0,205)\" x2=\"-5\" y2=\"0\" style=\"fill: none; stroke: #888; stroke-width: 1; opacity: 1;\"></line><line transform=\"translate(0,176)\" x2=\"-5\" y2=\"0\" style=\"fill: none; stroke: #888; stroke-width: 1; opacity: 1;\"></line><line transform=\"translate(0,146)\" x2=\"-5\" y2=\"0\" style=\"fill: none; stroke: #888; stroke-width: 1; opacity: 1;\"></line><line transform=\"translate(0,117)\" x2=\"-5\" y2=\"0\" style=\"fill: none; stroke: #888; stroke-width: 1; opacity: 1;\"></line><line transform=\"translate(0,88)\" x2=\"-5\" y2=\"0\" style=\"fill: none; stroke: #888; stroke-width: 1; opacity: 1;\"></line><line transform=\"translate(0,59)\" x2=\"-5\" y2=\"0\" style=\"fill: none; stroke: #888; stroke-width: 1; opacity: 1;\"></line><line transform=\"translate(0,29)\" x2=\"-5\" y2=\"0\" style=\"fill: none; stroke: #888; stroke-width: 1; opacity: 1;\"></line><line transform=\"translate(0,0)\" x2=\"-5\" y2=\"0\" style=\"fill: none; stroke: #888; stroke-width: 1; opacity: 1;\"></line></g><g class=\"mark-text role-axis-label\" style=\"pointer-events: none;\"><text text-anchor=\"end\" transform=\"translate(-7,413)\" style=\"font-family: sans-serif; font-size: 10px; fill: #000; opacity: 1;\">0.0</text><text text-anchor=\"end\" transform=\"translate(-7,383.7142857142857)\" style=\"font-family: sans-serif; font-size: 10px; fill: #000; opacity: 1;\">0.5</text><text text-anchor=\"end\" transform=\"translate(-7,354.42857142857144)\" style=\"font-family: sans-serif; font-size: 10px; fill: #000; opacity: 1;\">1.0</text><text text-anchor=\"end\" transform=\"translate(-7,325.14285714285717)\" style=\"font-family: sans-serif; font-size: 10px; fill: #000; opacity: 1;\">1.5</text><text text-anchor=\"end\" transform=\"translate(-7,295.8571428571429)\" style=\"font-family: sans-serif; font-size: 10px; fill: #000; opacity: 1;\">2.0</text><text text-anchor=\"end\" transform=\"translate(-7,266.57142857142856)\" style=\"font-family: sans-serif; font-size: 10px; fill: #000; opacity: 1;\">2.5</text><text text-anchor=\"end\" transform=\"translate(-7,237.2857142857143)\" style=\"font-family: sans-serif; font-size: 10px; fill: #000; opacity: 1;\">3.0</text><text text-anchor=\"end\" transform=\"translate(-7,208)\" style=\"font-family: sans-serif; font-size: 10px; fill: #000; opacity: 1;\">3.5</text><text text-anchor=\"end\" transform=\"translate(-7,178.71428571428572)\" style=\"font-family: sans-serif; font-size: 10px; fill: #000; opacity: 1;\">4.0</text><text text-anchor=\"end\" transform=\"translate(-7,149.4285714285714)\" style=\"font-family: sans-serif; font-size: 10px; fill: #000; opacity: 1;\">4.5</text><text text-anchor=\"end\" transform=\"translate(-7,120.14285714285711)\" style=\"font-family: sans-serif; font-size: 10px; fill: #000; opacity: 1;\">5.0</text><text text-anchor=\"end\" transform=\"translate(-7,90.85714285714289)\" style=\"font-family: sans-serif; font-size: 10px; fill: #000; opacity: 1;\">5.5</text><text text-anchor=\"end\" transform=\"translate(-7,61.57142857142861)\" style=\"font-family: sans-serif; font-size: 10px; fill: #000; opacity: 1;\">6.0</text><text text-anchor=\"end\" transform=\"translate(-7,32.28571428571428)\" style=\"font-family: sans-serif; font-size: 10px; fill: #000; opacity: 1;\">6.5</text><text text-anchor=\"end\" transform=\"translate(-7,3)\" style=\"font-family: sans-serif; font-size: 10px; fill: #000; opacity: 1;\">7.0</text></g><g class=\"mark-rule role-axis-domain\" style=\"pointer-events: none;\"><line transform=\"translate(0,410)\" x2=\"0\" y2=\"-410\" style=\"fill: none; stroke: #888; stroke-width: 1; opacity: 1;\"></line></g><g class=\"mark-text role-axis-title\" style=\"pointer-events: none;\"><text text-anchor=\"middle\" transform=\"translate(-24,205) rotate(-90) translate(0,-2)\" style=\"font-family: sans-serif; font-size: 11px; font-weight: bold; fill: #000; opacity: 1;\">TATM</text></g></g></g></g></g></g></g></g></svg>"
      ],
      "text/plain": [
       "VegaLite.VLSpec{:plot}"
      ]
     },
     "execution_count": 9,
     "metadata": {},
     "output_type": "execute_result"
    }
   ],
   "source": [
    "Mimi.plot(m, :climatedynamics, :TATM)"
   ]
  },
  {
   "cell_type": "markdown",
   "metadata": {},
   "source": [
    "The final option for retrieving data from a model is to use the `getdataframe` function. You again specify what variable in which component you want to retrieve, and then you get a tabular data structure back. The benefit of this approach is that the values receive labels for things like time."
   ]
  },
  {
   "cell_type": "code",
   "execution_count": 10,
   "metadata": {},
   "outputs": [
    {
     "data": {
      "text/html": [
       "<table class=\"data-frame\"><thead><tr><th></th><th>time</th><th>TATM</th></tr><tr><th></th><th>Int64</th><th>Float64⍰</th></tr></thead><tbody><p>60 rows × 2 columns</p><tr><th>1</th><td>2005</td><td>0.83</td></tr><tr><th>2</th><td>2015</td><td>0.98</td></tr><tr><th>3</th><td>2025</td><td>1.38816</td></tr><tr><th>4</th><td>2035</td><td>1.77636</td></tr><tr><th>5</th><td>2045</td><td>2.14338</td></tr><tr><th>6</th><td>2055</td><td>2.48772</td></tr><tr><th>7</th><td>2065</td><td>2.80871</td></tr><tr><th>8</th><td>2075</td><td>3.10672</td></tr><tr><th>9</th><td>2085</td><td>3.38283</td></tr><tr><th>10</th><td>2095</td><td>3.63862</td></tr><tr><th>11</th><td>2105</td><td>3.87592</td></tr><tr><th>12</th><td>2115</td><td>4.1076</td></tr><tr><th>13</th><td>2125</td><td>4.33207</td></tr><tr><th>14</th><td>2135</td><td>4.54867</td></tr><tr><th>15</th><td>2145</td><td>4.75736</td></tr><tr><th>16</th><td>2155</td><td>4.95845</td></tr><tr><th>17</th><td>2165</td><td>5.15241</td></tr><tr><th>18</th><td>2175</td><td>5.33982</td></tr><tr><th>19</th><td>2185</td><td>5.52126</td></tr><tr><th>20</th><td>2195</td><td>5.69733</td></tr><tr><th>21</th><td>2205</td><td>5.86855</td></tr><tr><th>22</th><td>2215</td><td>6.03546</td></tr><tr><th>23</th><td>2225</td><td>6.19851</td></tr><tr><th>24</th><td>2235</td><td>6.35818</td></tr><tr><th>25</th><td>2245</td><td>6.51487</td></tr><tr><th>26</th><td>2255</td><td>6.61826</td></tr><tr><th>27</th><td>2265</td><td>6.63711</td></tr><tr><th>28</th><td>2275</td><td>6.605</td></tr><tr><th>29</th><td>2285</td><td>6.54416</td></tr><tr><th>30</th><td>2295</td><td>6.4691</td></tr><tr><th>&vellip;</th><td>&vellip;</td><td>&vellip;</td></tr></tbody></table>"
      ],
      "text/latex": [
       "\\begin{tabular}{r|cc}\n",
       "\t& time & TATM\\\\\n",
       "\t\\hline\n",
       "\t& Int64 & Float64⍰\\\\\n",
       "\t\\hline\n",
       "\t1 & 2005 & 0.83 \\\\\n",
       "\t2 & 2015 & 0.98 \\\\\n",
       "\t3 & 2025 & 1.38816 \\\\\n",
       "\t4 & 2035 & 1.77636 \\\\\n",
       "\t5 & 2045 & 2.14338 \\\\\n",
       "\t6 & 2055 & 2.48772 \\\\\n",
       "\t7 & 2065 & 2.80871 \\\\\n",
       "\t8 & 2075 & 3.10672 \\\\\n",
       "\t9 & 2085 & 3.38283 \\\\\n",
       "\t10 & 2095 & 3.63862 \\\\\n",
       "\t11 & 2105 & 3.87592 \\\\\n",
       "\t12 & 2115 & 4.1076 \\\\\n",
       "\t13 & 2125 & 4.33207 \\\\\n",
       "\t14 & 2135 & 4.54867 \\\\\n",
       "\t15 & 2145 & 4.75736 \\\\\n",
       "\t16 & 2155 & 4.95845 \\\\\n",
       "\t17 & 2165 & 5.15241 \\\\\n",
       "\t18 & 2175 & 5.33982 \\\\\n",
       "\t19 & 2185 & 5.52126 \\\\\n",
       "\t20 & 2195 & 5.69733 \\\\\n",
       "\t21 & 2205 & 5.86855 \\\\\n",
       "\t22 & 2215 & 6.03546 \\\\\n",
       "\t23 & 2225 & 6.19851 \\\\\n",
       "\t24 & 2235 & 6.35818 \\\\\n",
       "\t25 & 2245 & 6.51487 \\\\\n",
       "\t26 & 2255 & 6.61826 \\\\\n",
       "\t27 & 2265 & 6.63711 \\\\\n",
       "\t28 & 2275 & 6.605 \\\\\n",
       "\t29 & 2285 & 6.54416 \\\\\n",
       "\t30 & 2295 & 6.4691 \\\\\n",
       "\t$\\dots$ & $\\dots$ & $\\dots$ \\\\\n",
       "\\end{tabular}\n"
      ],
      "text/plain": [
       "60×2 DataFrames.DataFrame\n",
       "│ Row │ time  │ TATM     │\n",
       "│     │ \u001b[90mInt64\u001b[39m │ \u001b[90mFloat64⍰\u001b[39m │\n",
       "├─────┼───────┼──────────┤\n",
       "│ 1   │ 2005  │ 0.83     │\n",
       "│ 2   │ 2015  │ 0.98     │\n",
       "│ 3   │ 2025  │ 1.38816  │\n",
       "│ 4   │ 2035  │ 1.77636  │\n",
       "│ 5   │ 2045  │ 2.14338  │\n",
       "│ 6   │ 2055  │ 2.48772  │\n",
       "│ 7   │ 2065  │ 2.80871  │\n",
       "│ 8   │ 2075  │ 3.10672  │\n",
       "│ 9   │ 2085  │ 3.38283  │\n",
       "│ 10  │ 2095  │ 3.63862  │\n",
       "⋮\n",
       "│ 50  │ 2495  │ 5.72605  │\n",
       "│ 51  │ 2505  │ 5.71768  │\n",
       "│ 52  │ 2515  │ 5.70985  │\n",
       "│ 53  │ 2525  │ 5.70243  │\n",
       "│ 54  │ 2535  │ 5.69531  │\n",
       "│ 55  │ 2545  │ 5.68843  │\n",
       "│ 56  │ 2555  │ 5.6817   │\n",
       "│ 57  │ 2565  │ 5.67508  │\n",
       "│ 58  │ 2575  │ 5.66851  │\n",
       "│ 59  │ 2585  │ 5.66196  │\n",
       "│ 60  │ 2595  │ 5.6554   │"
      ]
     },
     "execution_count": 10,
     "metadata": {},
     "output_type": "execute_result"
    }
   ],
   "source": [
    "getdataframe(m, :climatedynamics, :TATM)"
   ]
  },
  {
   "cell_type": "markdown",
   "metadata": {},
   "source": [
    "You can also easily save such a tabular output as for example a CSV file with the [CSVFiles.jl](https://github.com/queryverse/CSVFiles.jl) package. Here you pipe the result of the `getdataframe` call to the `save` function."
   ]
  },
  {
   "cell_type": "code",
   "execution_count": 11,
   "metadata": {},
   "outputs": [],
   "source": [
    "getdataframe(m, :climatedynamics, :TATM) |> save(\"dice_tatm.csv\")"
   ]
  },
  {
   "cell_type": "markdown",
   "metadata": {},
   "source": [
    "### MimiRICE2010"
   ]
  },
  {
   "cell_type": "markdown",
   "metadata": {},
   "source": [
    "This section shows how you can run [MimiRICE2010.jl](https://github.com/anthofflab/MimiRICE2010.jl). All the function calls and patterns are identical to the previous section, so they are not documented again."
   ]
  },
  {
   "cell_type": "code",
   "execution_count": 12,
   "metadata": {},
   "outputs": [],
   "source": [
    "using MimiRICE2010"
   ]
  },
  {
   "cell_type": "code",
   "execution_count": 13,
   "metadata": {},
   "outputs": [
    {
     "data": {
      "text/plain": [
       "10-component Mimi.Model:\n",
       "  grosseconomy::MimiRICE2010.grosseconomy\n",
       "  emissions::MimiRICE2010.emissions\n",
       "  co2cycle::MimiRICE2010.co2cycle\n",
       "  radiativeforcing::MimiRICE2010.radiativeforcing\n",
       "  climatedynamics::MimiRICE2010.climatedynamics\n",
       "  sealevelrise::MimiRICE2010.sealevelrise\n",
       "  sealeveldamages::MimiRICE2010.sealeveldamages\n",
       "  damages::MimiRICE2010.damages\n",
       "  neteconomy::MimiRICE2010.neteconomy\n",
       "  welfare::MimiRICE2010.welfare\n"
      ]
     },
     "execution_count": 13,
     "metadata": {},
     "output_type": "execute_result"
    }
   ],
   "source": [
    "m_rice = MimiRICE2010.get_model()"
   ]
  },
  {
   "cell_type": "code",
   "execution_count": 14,
   "metadata": {},
   "outputs": [
    {
     "data": {
      "image/svg+xml": [
       "<?xml version=\"1.0\" encoding=\"UTF-8\"?>\n",
       "<svg xmlns=\"http://www.w3.org/2000/svg\"\n",
       "     xmlns:xlink=\"http://www.w3.org/1999/xlink\"\n",
       "     version=\"1.2\"\n",
       "     width=\"141.42mm\" height=\"100mm\" viewBox=\"0 0 141.42 100\"\n",
       "     stroke=\"none\"\n",
       "     fill=\"#000000\"\n",
       "     stroke-width=\"0.3\"\n",
       "     font-size=\"3.88\"\n",
       ">\n",
       "<defs>\n",
       "  <marker id=\"arrow\" markerWidth=\"15\" markerHeight=\"7\" refX=\"5\" refY=\"3.5\" orient=\"auto\" markerUnits=\"strokeWidth\">\n",
       "    <path d=\"M0,0 L15,3.5 L0,7 z\" stroke=\"context-stroke\" fill=\"context-stroke\"/>\n",
       "  </marker>\n",
       "</defs>\n",
       "<g stroke-width=\"0.95\" fill=\"#000000\" fill-opacity=\"0.000\" stroke=\"#D3D3D3\" id=\"img-96b3aa18-1\">\n",
       "  <g transform=\"translate(50.53,44.17)\">\n",
       "    <path fill=\"none\" d=\"M10.36,-7.05 L -10.36 7.05\" class=\"primitive\"/>\n",
       "  </g>\n",
       "  <g transform=\"translate(84.58,35.52)\">\n",
       "    <path fill=\"none\" d=\"M-15.69,-0.53 L 15.69 0.53\" class=\"primitive\"/>\n",
       "  </g>\n",
       "  <g transform=\"translate(71.89,39.72)\">\n",
       "    <path fill=\"none\" d=\"M-4.19,-2.68 L 4.19 2.68\" class=\"primitive\"/>\n",
       "  </g>\n",
       "  <g transform=\"translate(52.12,32.18)\">\n",
       "    <path fill=\"none\" d=\"M7.67,1.68 L -7.67 -1.68\" class=\"primitive\"/>\n",
       "  </g>\n",
       "  <g transform=\"translate(39.31,68.29)\">\n",
       "    <path fill=\"none\" d=\"M-1.94,-11.51 L 1.94 11.51\" class=\"primitive\"/>\n",
       "  </g>\n",
       "  <g transform=\"translate(38.41,41.52)\">\n",
       "    <path fill=\"none\" d=\"M-1.16,8.71 L 1.16 -8.71\" class=\"primitive\"/>\n",
       "  </g>\n",
       "  <g transform=\"translate(58.7,87.37)\">\n",
       "    <path fill=\"none\" d=\"M-12.52,-3.18 L 12.52 3.18\" class=\"primitive\"/>\n",
       "  </g>\n",
       "  <g transform=\"translate(88.59,80.77)\">\n",
       "    <path fill=\"none\" d=\"M-9.99,8.38 L 9.99 -8.38\" class=\"primitive\"/>\n",
       "  </g>\n",
       "  <g transform=\"translate(115.61,62.06)\">\n",
       "    <path fill=\"none\" d=\"M-10.37,5.77 L 10.37 -5.77\" class=\"primitive\"/>\n",
       "  </g>\n",
       "  <g transform=\"translate(90.56,57.24)\">\n",
       "    <path fill=\"none\" d=\"M8.58,9.83 L -8.58 -9.83\" class=\"primitive\"/>\n",
       "  </g>\n",
       "  <g transform=\"translate(117.28,45.23)\">\n",
       "    <path fill=\"none\" d=\"M9.11,6.66 L -9.11 -6.66\" class=\"primitive\"/>\n",
       "  </g>\n",
       "  <g transform=\"translate(92.23,40.41)\">\n",
       "    <path fill=\"none\" d=\"M8.48,-2.8 L -8.48 2.8\" class=\"primitive\"/>\n",
       "  </g>\n",
       "  <g transform=\"translate(59.77,37.07)\">\n",
       "    <path fill=\"none\" d=\"M15.66,5.97 L -15.66 -5.97\" class=\"primitive\"/>\n",
       "  </g>\n",
       "  <g transform=\"translate(52.12,32.18)\">\n",
       "    <path fill=\"none\" d=\"M-7.67,-1.68 L 7.67 1.68\" class=\"primitive\"/>\n",
       "  </g>\n",
       "  <g transform=\"translate(25.9,18.93)\">\n",
       "    <path fill=\"none\" d=\"M10.92,8.2 L -10.92 -8.2\" class=\"primitive\"/>\n",
       "  </g>\n",
       "</g>\n",
       "<g stroke-width=\"0.95\" stroke=\"#D3D3D3\" id=\"img-96b3aa18-2\">\n",
       "  <g transform=\"translate(42.83,49.41)\">\n",
       "    <path fill=\"none\" d=\"M2.73,0.12 L -2.66 1.81 -0.07 -1.93\" class=\"primitive\"/>\n",
       "  </g>\n",
       "  <g transform=\"translate(96.59,35.93)\">\n",
       "    <path fill=\"none\" d=\"M-1.75,-1.49 L 3.69 0.12 -1.94 1.36\" class=\"primitive\"/>\n",
       "  </g>\n",
       "  <g transform=\"translate(73.34,40.64)\">\n",
       "    <path fill=\"none\" d=\"M-0.02,-1.93 L 2.74 1.75 -2.72 0.18\" class=\"primitive\"/>\n",
       "  </g>\n",
       "  <g transform=\"translate(47.98,31.28)\">\n",
       "    <path fill=\"none\" d=\"M1.17,1.75 L -3.53 -0.77 2.36 -0.98\" class=\"primitive\"/>\n",
       "  </g>\n",
       "  <g transform=\"translate(40.82,77.21)\">\n",
       "    <path fill=\"none\" d=\"M1.78,-1.46 L 0.44 2.59 -2.22 -1.13\" class=\"primitive\"/>\n",
       "  </g>\n",
       "  <g transform=\"translate(39.22,35.41)\">\n",
       "    <path fill=\"none\" d=\"M-2.18,1.17 L 0.35 -2.6 1.83 1.43\" class=\"primitive\"/>\n",
       "  </g>\n",
       "  <g transform=\"translate(67.75,89.67)\">\n",
       "    <path fill=\"none\" d=\"M-1.05,-1.78 L 3.47 0.88 -2.42 0.9\" class=\"primitive\"/>\n",
       "  </g>\n",
       "  <g transform=\"translate(96.2,74.39)\">\n",
       "    <path fill=\"none\" d=\"M-2.73,0.08 L 2.38 -2 0.35 1.92\" class=\"primitive\"/>\n",
       "  </g>\n",
       "  <g transform=\"translate(123.08,57.91)\">\n",
       "    <path fill=\"none\" d=\"M-2.7,-0.31 L 2.9 -1.62 -0.2 1.93\" class=\"primitive\"/>\n",
       "  </g>\n",
       "  <g transform=\"translate(83.92,49.63)\">\n",
       "    <path fill=\"none\" d=\"M-0.75,1.86 L -1.94 -2.22 2.68 0.36\" class=\"primitive\"/>\n",
       "  </g>\n",
       "  <g transform=\"translate(110.73,40.45)\">\n",
       "    <path fill=\"none\" d=\"M-0.16,1.93 L -2.57 -1.88 2.73 -0.05\" class=\"primitive\"/>\n",
       "  </g>\n",
       "  <g transform=\"translate(87.1,42.1)\">\n",
       "    <path fill=\"none\" d=\"M2.53,0.74 L -3.34 1.11 0.82 -1.84\" class=\"primitive\"/>\n",
       "  </g>\n",
       "  <g transform=\"translate(47.35,32.33)\">\n",
       "    <path fill=\"none\" d=\"M0.67,1.87 L -3.25 -1.24 2.58 -0.63\" class=\"primitive\"/>\n",
       "  </g>\n",
       "  <g transform=\"translate(56.27,33.09)\">\n",
       "    <path fill=\"none\" d=\"M-1.17,-1.75 L 3.53 0.77 -2.36 0.98\" class=\"primitive\"/>\n",
       "  </g>\n",
       "  <g transform=\"translate(17.51,12.63)\">\n",
       "    <path fill=\"none\" d=\"M-0.2,1.93 L -2.53 -1.9 2.73 -0.03\" class=\"primitive\"/>\n",
       "  </g>\n",
       "</g>\n",
       "<g font-size=\"4\" stroke=\"#000000\" stroke-opacity=\"0.000\" fill=\"#000000\" id=\"img-96b3aa18-3\">\n",
       "</g>\n",
       "<g stroke-width=\"0\" stroke=\"#000000\" stroke-opacity=\"0.000\" fill=\"#40E0D0\" id=\"img-96b3aa18-4\">\n",
       "  <g transform=\"translate(64.24,34.83)\">\n",
       "    <circle cx=\"0\" cy=\"0\" r=\"4.47\" class=\"primitive\"/>\n",
       "  </g>\n",
       "  <g transform=\"translate(36.82,53.51)\">\n",
       "    <circle cx=\"0\" cy=\"0\" r=\"4.47\" class=\"primitive\"/>\n",
       "  </g>\n",
       "  <g transform=\"translate(41.8,83.07)\">\n",
       "    <circle cx=\"0\" cy=\"0\" r=\"4.47\" class=\"primitive\"/>\n",
       "  </g>\n",
       "  <g transform=\"translate(75.6,91.67)\">\n",
       "    <circle cx=\"0\" cy=\"0\" r=\"4.47\" class=\"primitive\"/>\n",
       "  </g>\n",
       "  <g transform=\"translate(101.58,69.88)\">\n",
       "    <circle cx=\"0\" cy=\"0\" r=\"4.47\" class=\"primitive\"/>\n",
       "  </g>\n",
       "  <g transform=\"translate(129.64,54.25)\">\n",
       "    <circle cx=\"0\" cy=\"0\" r=\"4.47\" class=\"primitive\"/>\n",
       "  </g>\n",
       "  <g transform=\"translate(104.93,36.21)\">\n",
       "    <circle cx=\"0\" cy=\"0\" r=\"4.47\" class=\"primitive\"/>\n",
       "  </g>\n",
       "  <g transform=\"translate(79.53,44.6)\">\n",
       "    <circle cx=\"0\" cy=\"0\" r=\"4.47\" class=\"primitive\"/>\n",
       "  </g>\n",
       "  <g transform=\"translate(40.01,29.53)\">\n",
       "    <circle cx=\"0\" cy=\"0\" r=\"4.47\" class=\"primitive\"/>\n",
       "  </g>\n",
       "  <g transform=\"translate(11.79,8.33)\">\n",
       "    <circle cx=\"0\" cy=\"0\" r=\"4.47\" class=\"primitive\"/>\n",
       "  </g>\n",
       "</g>\n",
       "<g font-size=\"4\" stroke=\"#000000\" stroke-opacity=\"0.000\" fill=\"#000000\" id=\"img-96b3aa18-5\">\n",
       "  <g transform=\"translate(64.24,34.83)\">\n",
       "    <g class=\"primitive\">\n",
       "      <text text-anchor=\"middle\" dy=\"0.35em\">grosseconomy</text>\n",
       "    </g>\n",
       "  </g>\n",
       "  <g transform=\"translate(36.82,53.51)\">\n",
       "    <g class=\"primitive\">\n",
       "      <text text-anchor=\"middle\" dy=\"0.35em\">emissions</text>\n",
       "    </g>\n",
       "  </g>\n",
       "  <g transform=\"translate(41.8,83.07)\">\n",
       "    <g class=\"primitive\">\n",
       "      <text text-anchor=\"middle\" dy=\"0.35em\">co2cycle</text>\n",
       "    </g>\n",
       "  </g>\n",
       "  <g transform=\"translate(75.6,91.67)\">\n",
       "    <g class=\"primitive\">\n",
       "      <text text-anchor=\"middle\" dy=\"0.35em\">radiativeforcing</text>\n",
       "    </g>\n",
       "  </g>\n",
       "  <g transform=\"translate(101.58,69.88)\">\n",
       "    <g class=\"primitive\">\n",
       "      <text text-anchor=\"middle\" dy=\"0.35em\">climatedynamics</text>\n",
       "    </g>\n",
       "  </g>\n",
       "  <g transform=\"translate(129.64,54.25)\">\n",
       "    <g class=\"primitive\">\n",
       "      <text text-anchor=\"middle\" dy=\"0.35em\">sealevelrise</text>\n",
       "    </g>\n",
       "  </g>\n",
       "  <g transform=\"translate(104.93,36.21)\">\n",
       "    <g class=\"primitive\">\n",
       "      <text text-anchor=\"middle\" dy=\"0.35em\">sealeveldamages</text>\n",
       "    </g>\n",
       "  </g>\n",
       "  <g transform=\"translate(79.53,44.6)\">\n",
       "    <g class=\"primitive\">\n",
       "      <text text-anchor=\"middle\" dy=\"0.35em\">damages</text>\n",
       "    </g>\n",
       "  </g>\n",
       "  <g transform=\"translate(40.01,29.53)\">\n",
       "    <g class=\"primitive\">\n",
       "      <text text-anchor=\"middle\" dy=\"0.35em\">neteconomy</text>\n",
       "    </g>\n",
       "  </g>\n",
       "  <g transform=\"translate(11.79,8.33)\">\n",
       "    <g class=\"primitive\">\n",
       "      <text text-anchor=\"middle\" dy=\"0.35em\">welfare</text>\n",
       "    </g>\n",
       "  </g>\n",
       "</g>\n",
       "</svg>\n"
      ],
      "text/html": [
       "<?xml version=\"1.0\" encoding=\"UTF-8\"?>\n",
       "<svg xmlns=\"http://www.w3.org/2000/svg\"\n",
       "     xmlns:xlink=\"http://www.w3.org/1999/xlink\"\n",
       "     version=\"1.2\"\n",
       "     width=\"141.42mm\" height=\"100mm\" viewBox=\"0 0 141.42 100\"\n",
       "     stroke=\"none\"\n",
       "     fill=\"#000000\"\n",
       "     stroke-width=\"0.3\"\n",
       "     font-size=\"3.88\"\n",
       "\n",
       "     id=\"img-8b2a5f3c\">\n",
       "<defs>\n",
       "  <marker id=\"arrow\" markerWidth=\"15\" markerHeight=\"7\" refX=\"5\" refY=\"3.5\" orient=\"auto\" markerUnits=\"strokeWidth\">\n",
       "    <path d=\"M0,0 L15,3.5 L0,7 z\" stroke=\"context-stroke\" fill=\"context-stroke\"/>\n",
       "  </marker>\n",
       "</defs>\n",
       "<g stroke-width=\"0.95\" fill=\"#000000\" fill-opacity=\"0.000\" stroke=\"#D3D3D3\" id=\"img-8b2a5f3c-1\">\n",
       "  <g transform=\"translate(50.53,44.17)\">\n",
       "    <path fill=\"none\" d=\"M10.36,-7.05 L -10.36 7.05\" class=\"primitive\"/>\n",
       "  </g>\n",
       "  <g transform=\"translate(84.58,35.52)\">\n",
       "    <path fill=\"none\" d=\"M-15.69,-0.53 L 15.69 0.53\" class=\"primitive\"/>\n",
       "  </g>\n",
       "  <g transform=\"translate(71.89,39.72)\">\n",
       "    <path fill=\"none\" d=\"M-4.19,-2.68 L 4.19 2.68\" class=\"primitive\"/>\n",
       "  </g>\n",
       "  <g transform=\"translate(52.12,32.18)\">\n",
       "    <path fill=\"none\" d=\"M7.67,1.68 L -7.67 -1.68\" class=\"primitive\"/>\n",
       "  </g>\n",
       "  <g transform=\"translate(39.31,68.29)\">\n",
       "    <path fill=\"none\" d=\"M-1.94,-11.51 L 1.94 11.51\" class=\"primitive\"/>\n",
       "  </g>\n",
       "  <g transform=\"translate(38.41,41.52)\">\n",
       "    <path fill=\"none\" d=\"M-1.16,8.71 L 1.16 -8.71\" class=\"primitive\"/>\n",
       "  </g>\n",
       "  <g transform=\"translate(58.7,87.37)\">\n",
       "    <path fill=\"none\" d=\"M-12.52,-3.18 L 12.52 3.18\" class=\"primitive\"/>\n",
       "  </g>\n",
       "  <g transform=\"translate(88.59,80.77)\">\n",
       "    <path fill=\"none\" d=\"M-9.99,8.38 L 9.99 -8.38\" class=\"primitive\"/>\n",
       "  </g>\n",
       "  <g transform=\"translate(115.61,62.06)\">\n",
       "    <path fill=\"none\" d=\"M-10.37,5.77 L 10.37 -5.77\" class=\"primitive\"/>\n",
       "  </g>\n",
       "  <g transform=\"translate(90.56,57.24)\">\n",
       "    <path fill=\"none\" d=\"M8.58,9.83 L -8.58 -9.83\" class=\"primitive\"/>\n",
       "  </g>\n",
       "  <g transform=\"translate(117.28,45.23)\">\n",
       "    <path fill=\"none\" d=\"M9.11,6.66 L -9.11 -6.66\" class=\"primitive\"/>\n",
       "  </g>\n",
       "  <g transform=\"translate(92.23,40.41)\">\n",
       "    <path fill=\"none\" d=\"M8.48,-2.8 L -8.48 2.8\" class=\"primitive\"/>\n",
       "  </g>\n",
       "  <g transform=\"translate(59.77,37.07)\">\n",
       "    <path fill=\"none\" d=\"M15.66,5.97 L -15.66 -5.97\" class=\"primitive\"/>\n",
       "  </g>\n",
       "  <g transform=\"translate(52.12,32.18)\">\n",
       "    <path fill=\"none\" d=\"M-7.67,-1.68 L 7.67 1.68\" class=\"primitive\"/>\n",
       "  </g>\n",
       "  <g transform=\"translate(25.9,18.93)\">\n",
       "    <path fill=\"none\" d=\"M10.92,8.2 L -10.92 -8.2\" class=\"primitive\"/>\n",
       "  </g>\n",
       "</g>\n",
       "<g stroke-width=\"0.95\" stroke=\"#D3D3D3\" id=\"img-8b2a5f3c-2\">\n",
       "  <g transform=\"translate(42.83,49.41)\">\n",
       "    <path fill=\"none\" d=\"M2.73,0.12 L -2.66 1.81 -0.07 -1.93\" class=\"primitive\"/>\n",
       "  </g>\n",
       "  <g transform=\"translate(96.59,35.93)\">\n",
       "    <path fill=\"none\" d=\"M-1.75,-1.49 L 3.69 0.12 -1.94 1.36\" class=\"primitive\"/>\n",
       "  </g>\n",
       "  <g transform=\"translate(73.34,40.64)\">\n",
       "    <path fill=\"none\" d=\"M-0.02,-1.93 L 2.74 1.75 -2.72 0.18\" class=\"primitive\"/>\n",
       "  </g>\n",
       "  <g transform=\"translate(47.98,31.28)\">\n",
       "    <path fill=\"none\" d=\"M1.17,1.75 L -3.53 -0.77 2.36 -0.98\" class=\"primitive\"/>\n",
       "  </g>\n",
       "  <g transform=\"translate(40.82,77.21)\">\n",
       "    <path fill=\"none\" d=\"M1.78,-1.46 L 0.44 2.59 -2.22 -1.13\" class=\"primitive\"/>\n",
       "  </g>\n",
       "  <g transform=\"translate(39.22,35.41)\">\n",
       "    <path fill=\"none\" d=\"M-2.18,1.17 L 0.35 -2.6 1.83 1.43\" class=\"primitive\"/>\n",
       "  </g>\n",
       "  <g transform=\"translate(67.75,89.67)\">\n",
       "    <path fill=\"none\" d=\"M-1.05,-1.78 L 3.47 0.88 -2.42 0.9\" class=\"primitive\"/>\n",
       "  </g>\n",
       "  <g transform=\"translate(96.2,74.39)\">\n",
       "    <path fill=\"none\" d=\"M-2.73,0.08 L 2.38 -2 0.35 1.92\" class=\"primitive\"/>\n",
       "  </g>\n",
       "  <g transform=\"translate(123.08,57.91)\">\n",
       "    <path fill=\"none\" d=\"M-2.7,-0.31 L 2.9 -1.62 -0.2 1.93\" class=\"primitive\"/>\n",
       "  </g>\n",
       "  <g transform=\"translate(83.92,49.63)\">\n",
       "    <path fill=\"none\" d=\"M-0.75,1.86 L -1.94 -2.22 2.68 0.36\" class=\"primitive\"/>\n",
       "  </g>\n",
       "  <g transform=\"translate(110.73,40.45)\">\n",
       "    <path fill=\"none\" d=\"M-0.16,1.93 L -2.57 -1.88 2.73 -0.05\" class=\"primitive\"/>\n",
       "  </g>\n",
       "  <g transform=\"translate(87.1,42.1)\">\n",
       "    <path fill=\"none\" d=\"M2.53,0.74 L -3.34 1.11 0.82 -1.84\" class=\"primitive\"/>\n",
       "  </g>\n",
       "  <g transform=\"translate(47.35,32.33)\">\n",
       "    <path fill=\"none\" d=\"M0.67,1.87 L -3.25 -1.24 2.58 -0.63\" class=\"primitive\"/>\n",
       "  </g>\n",
       "  <g transform=\"translate(56.27,33.09)\">\n",
       "    <path fill=\"none\" d=\"M-1.17,-1.75 L 3.53 0.77 -2.36 0.98\" class=\"primitive\"/>\n",
       "  </g>\n",
       "  <g transform=\"translate(17.51,12.63)\">\n",
       "    <path fill=\"none\" d=\"M-0.2,1.93 L -2.53 -1.9 2.73 -0.03\" class=\"primitive\"/>\n",
       "  </g>\n",
       "</g>\n",
       "<g font-size=\"4\" stroke=\"#000000\" stroke-opacity=\"0.000\" fill=\"#000000\" id=\"img-8b2a5f3c-3\">\n",
       "</g>\n",
       "<g stroke-width=\"0\" stroke=\"#000000\" stroke-opacity=\"0.000\" fill=\"#40E0D0\" id=\"img-8b2a5f3c-4\">\n",
       "  <g transform=\"translate(64.24,34.83)\">\n",
       "    <circle cx=\"0\" cy=\"0\" r=\"4.47\" class=\"primitive\"/>\n",
       "  </g>\n",
       "  <g transform=\"translate(36.82,53.51)\">\n",
       "    <circle cx=\"0\" cy=\"0\" r=\"4.47\" class=\"primitive\"/>\n",
       "  </g>\n",
       "  <g transform=\"translate(41.8,83.07)\">\n",
       "    <circle cx=\"0\" cy=\"0\" r=\"4.47\" class=\"primitive\"/>\n",
       "  </g>\n",
       "  <g transform=\"translate(75.6,91.67)\">\n",
       "    <circle cx=\"0\" cy=\"0\" r=\"4.47\" class=\"primitive\"/>\n",
       "  </g>\n",
       "  <g transform=\"translate(101.58,69.88)\">\n",
       "    <circle cx=\"0\" cy=\"0\" r=\"4.47\" class=\"primitive\"/>\n",
       "  </g>\n",
       "  <g transform=\"translate(129.64,54.25)\">\n",
       "    <circle cx=\"0\" cy=\"0\" r=\"4.47\" class=\"primitive\"/>\n",
       "  </g>\n",
       "  <g transform=\"translate(104.93,36.21)\">\n",
       "    <circle cx=\"0\" cy=\"0\" r=\"4.47\" class=\"primitive\"/>\n",
       "  </g>\n",
       "  <g transform=\"translate(79.53,44.6)\">\n",
       "    <circle cx=\"0\" cy=\"0\" r=\"4.47\" class=\"primitive\"/>\n",
       "  </g>\n",
       "  <g transform=\"translate(40.01,29.53)\">\n",
       "    <circle cx=\"0\" cy=\"0\" r=\"4.47\" class=\"primitive\"/>\n",
       "  </g>\n",
       "  <g transform=\"translate(11.79,8.33)\">\n",
       "    <circle cx=\"0\" cy=\"0\" r=\"4.47\" class=\"primitive\"/>\n",
       "  </g>\n",
       "</g>\n",
       "<g font-size=\"4\" stroke=\"#000000\" stroke-opacity=\"0.000\" fill=\"#000000\" id=\"img-8b2a5f3c-5\">\n",
       "  <g transform=\"translate(64.24,34.83)\">\n",
       "    <g class=\"primitive\">\n",
       "      <text text-anchor=\"middle\" dy=\"0.35em\">grosseconomy</text>\n",
       "    </g>\n",
       "  </g>\n",
       "  <g transform=\"translate(36.82,53.51)\">\n",
       "    <g class=\"primitive\">\n",
       "      <text text-anchor=\"middle\" dy=\"0.35em\">emissions</text>\n",
       "    </g>\n",
       "  </g>\n",
       "  <g transform=\"translate(41.8,83.07)\">\n",
       "    <g class=\"primitive\">\n",
       "      <text text-anchor=\"middle\" dy=\"0.35em\">co2cycle</text>\n",
       "    </g>\n",
       "  </g>\n",
       "  <g transform=\"translate(75.6,91.67)\">\n",
       "    <g class=\"primitive\">\n",
       "      <text text-anchor=\"middle\" dy=\"0.35em\">radiativeforcing</text>\n",
       "    </g>\n",
       "  </g>\n",
       "  <g transform=\"translate(101.58,69.88)\">\n",
       "    <g class=\"primitive\">\n",
       "      <text text-anchor=\"middle\" dy=\"0.35em\">climatedynamics</text>\n",
       "    </g>\n",
       "  </g>\n",
       "  <g transform=\"translate(129.64,54.25)\">\n",
       "    <g class=\"primitive\">\n",
       "      <text text-anchor=\"middle\" dy=\"0.35em\">sealevelrise</text>\n",
       "    </g>\n",
       "  </g>\n",
       "  <g transform=\"translate(104.93,36.21)\">\n",
       "    <g class=\"primitive\">\n",
       "      <text text-anchor=\"middle\" dy=\"0.35em\">sealeveldamages</text>\n",
       "    </g>\n",
       "  </g>\n",
       "  <g transform=\"translate(79.53,44.6)\">\n",
       "    <g class=\"primitive\">\n",
       "      <text text-anchor=\"middle\" dy=\"0.35em\">damages</text>\n",
       "    </g>\n",
       "  </g>\n",
       "  <g transform=\"translate(40.01,29.53)\">\n",
       "    <g class=\"primitive\">\n",
       "      <text text-anchor=\"middle\" dy=\"0.35em\">neteconomy</text>\n",
       "    </g>\n",
       "  </g>\n",
       "  <g transform=\"translate(11.79,8.33)\">\n",
       "    <g class=\"primitive\">\n",
       "      <text text-anchor=\"middle\" dy=\"0.35em\">welfare</text>\n",
       "    </g>\n",
       "  </g>\n",
       "</g>\n",
       "<script> <![CDATA[\n",
       "(function(N){var k=/[\\.\\/]/,L=/\\s*,\\s*/,C=function(a,d){return a-d},a,v,y={n:{}},M=function(){for(var a=0,d=this.length;a<d;a++)if(\"undefined\"!=typeof this[a])return this[a]},A=function(){for(var a=this.length;--a;)if(\"undefined\"!=typeof this[a])return this[a]},w=function(k,d){k=String(k);var f=v,n=Array.prototype.slice.call(arguments,2),u=w.listeners(k),p=0,b,q=[],e={},l=[],r=a;l.firstDefined=M;l.lastDefined=A;a=k;for(var s=v=0,x=u.length;s<x;s++)\"zIndex\"in u[s]&&(q.push(u[s].zIndex),0>u[s].zIndex&&\n",
       "(e[u[s].zIndex]=u[s]));for(q.sort(C);0>q[p];)if(b=e[q[p++] ],l.push(b.apply(d,n)),v)return v=f,l;for(s=0;s<x;s++)if(b=u[s],\"zIndex\"in b)if(b.zIndex==q[p]){l.push(b.apply(d,n));if(v)break;do if(p++,(b=e[q[p] ])&&l.push(b.apply(d,n)),v)break;while(b)}else e[b.zIndex]=b;else if(l.push(b.apply(d,n)),v)break;v=f;a=r;return l};w._events=y;w.listeners=function(a){a=a.split(k);var d=y,f,n,u,p,b,q,e,l=[d],r=[];u=0;for(p=a.length;u<p;u++){e=[];b=0;for(q=l.length;b<q;b++)for(d=l[b].n,f=[d[a[u] ],d[\"*\"] ],n=2;n--;)if(d=\n",
       "f[n])e.push(d),r=r.concat(d.f||[]);l=e}return r};w.on=function(a,d){a=String(a);if(\"function\"!=typeof d)return function(){};for(var f=a.split(L),n=0,u=f.length;n<u;n++)(function(a){a=a.split(k);for(var b=y,f,e=0,l=a.length;e<l;e++)b=b.n,b=b.hasOwnProperty(a[e])&&b[a[e] ]||(b[a[e] ]={n:{}});b.f=b.f||[];e=0;for(l=b.f.length;e<l;e++)if(b.f[e]==d){f=!0;break}!f&&b.f.push(d)})(f[n]);return function(a){+a==+a&&(d.zIndex=+a)}};w.f=function(a){var d=[].slice.call(arguments,1);return function(){w.apply(null,\n",
       "[a,null].concat(d).concat([].slice.call(arguments,0)))}};w.stop=function(){v=1};w.nt=function(k){return k?(new RegExp(\"(?:\\\\.|\\\\/|^)\"+k+\"(?:\\\\.|\\\\/|$)\")).test(a):a};w.nts=function(){return a.split(k)};w.off=w.unbind=function(a,d){if(a){var f=a.split(L);if(1<f.length)for(var n=0,u=f.length;n<u;n++)w.off(f[n],d);else{for(var f=a.split(k),p,b,q,e,l=[y],n=0,u=f.length;n<u;n++)for(e=0;e<l.length;e+=q.length-2){q=[e,1];p=l[e].n;if(\"*\"!=f[n])p[f[n] ]&&q.push(p[f[n] ]);else for(b in p)p.hasOwnProperty(b)&&\n",
       "q.push(p[b]);l.splice.apply(l,q)}n=0;for(u=l.length;n<u;n++)for(p=l[n];p.n;){if(d){if(p.f){e=0;for(f=p.f.length;e<f;e++)if(p.f[e]==d){p.f.splice(e,1);break}!p.f.length&&delete p.f}for(b in p.n)if(p.n.hasOwnProperty(b)&&p.n[b].f){q=p.n[b].f;e=0;for(f=q.length;e<f;e++)if(q[e]==d){q.splice(e,1);break}!q.length&&delete p.n[b].f}}else for(b in delete p.f,p.n)p.n.hasOwnProperty(b)&&p.n[b].f&&delete p.n[b].f;p=p.n}}}else w._events=y={n:{}}};w.once=function(a,d){var f=function(){w.unbind(a,f);return d.apply(this,\n",
       "arguments)};return w.on(a,f)};w.version=\"0.4.2\";w.toString=function(){return\"You are running Eve 0.4.2\"};\"undefined\"!=typeof module&&module.exports?module.exports=w:\"function\"===typeof define&&define.amd?define(\"eve\",[],function(){return w}):N.eve=w})(this);\n",
       "(function(N,k){\"function\"===typeof define&&define.amd?define(\"Snap.svg\",[\"eve\"],function(L){return k(N,L)}):k(N,N.eve)})(this,function(N,k){var L=function(a){var k={},y=N.requestAnimationFrame||N.webkitRequestAnimationFrame||N.mozRequestAnimationFrame||N.oRequestAnimationFrame||N.msRequestAnimationFrame||function(a){setTimeout(a,16)},M=Array.isArray||function(a){return a instanceof Array||\"[object Array]\"==Object.prototype.toString.call(a)},A=0,w=\"M\"+(+new Date).toString(36),z=function(a){if(null==\n",
       "a)return this.s;var b=this.s-a;this.b+=this.dur*b;this.B+=this.dur*b;this.s=a},d=function(a){if(null==a)return this.spd;this.spd=a},f=function(a){if(null==a)return this.dur;this.s=this.s*a/this.dur;this.dur=a},n=function(){delete k[this.id];this.update();a(\"mina.stop.\"+this.id,this)},u=function(){this.pdif||(delete k[this.id],this.update(),this.pdif=this.get()-this.b)},p=function(){this.pdif&&(this.b=this.get()-this.pdif,delete this.pdif,k[this.id]=this)},b=function(){var a;if(M(this.start)){a=[];\n",
       "for(var b=0,e=this.start.length;b<e;b++)a[b]=+this.start[b]+(this.end[b]-this.start[b])*this.easing(this.s)}else a=+this.start+(this.end-this.start)*this.easing(this.s);this.set(a)},q=function(){var l=0,b;for(b in k)if(k.hasOwnProperty(b)){var e=k[b],f=e.get();l++;e.s=(f-e.b)/(e.dur/e.spd);1<=e.s&&(delete k[b],e.s=1,l--,function(b){setTimeout(function(){a(\"mina.finish.\"+b.id,b)})}(e));e.update()}l&&y(q)},e=function(a,r,s,x,G,h,J){a={id:w+(A++).toString(36),start:a,end:r,b:s,s:0,dur:x-s,spd:1,get:G,\n",
       "set:h,easing:J||e.linear,status:z,speed:d,duration:f,stop:n,pause:u,resume:p,update:b};k[a.id]=a;r=0;for(var K in k)if(k.hasOwnProperty(K)&&(r++,2==r))break;1==r&&y(q);return a};e.time=Date.now||function(){return+new Date};e.getById=function(a){return k[a]||null};e.linear=function(a){return a};e.easeout=function(a){return Math.pow(a,1.7)};e.easein=function(a){return Math.pow(a,0.48)};e.easeinout=function(a){if(1==a)return 1;if(0==a)return 0;var b=0.48-a/1.04,e=Math.sqrt(0.1734+b*b);a=e-b;a=Math.pow(Math.abs(a),\n",
       "1/3)*(0>a?-1:1);b=-e-b;b=Math.pow(Math.abs(b),1/3)*(0>b?-1:1);a=a+b+0.5;return 3*(1-a)*a*a+a*a*a};e.backin=function(a){return 1==a?1:a*a*(2.70158*a-1.70158)};e.backout=function(a){if(0==a)return 0;a-=1;return a*a*(2.70158*a+1.70158)+1};e.elastic=function(a){return a==!!a?a:Math.pow(2,-10*a)*Math.sin(2*(a-0.075)*Math.PI/0.3)+1};e.bounce=function(a){a<1/2.75?a*=7.5625*a:a<2/2.75?(a-=1.5/2.75,a=7.5625*a*a+0.75):a<2.5/2.75?(a-=2.25/2.75,a=7.5625*a*a+0.9375):(a-=2.625/2.75,a=7.5625*a*a+0.984375);return a};\n",
       "return N.mina=e}(\"undefined\"==typeof k?function(){}:k),C=function(){function a(c,t){if(c){if(c.tagName)return x(c);if(y(c,\"array\")&&a.set)return a.set.apply(a,c);if(c instanceof e)return c;if(null==t)return c=G.doc.querySelector(c),x(c)}return new s(null==c?\"100%\":c,null==t?\"100%\":t)}function v(c,a){if(a){\"#text\"==c&&(c=G.doc.createTextNode(a.text||\"\"));\"string\"==typeof c&&(c=v(c));if(\"string\"==typeof a)return\"xlink:\"==a.substring(0,6)?c.getAttributeNS(m,a.substring(6)):\"xml:\"==a.substring(0,4)?c.getAttributeNS(la,\n",
       "a.substring(4)):c.getAttribute(a);for(var da in a)if(a[h](da)){var b=J(a[da]);b?\"xlink:\"==da.substring(0,6)?c.setAttributeNS(m,da.substring(6),b):\"xml:\"==da.substring(0,4)?c.setAttributeNS(la,da.substring(4),b):c.setAttribute(da,b):c.removeAttribute(da)}}else c=G.doc.createElementNS(la,c);return c}function y(c,a){a=J.prototype.toLowerCase.call(a);return\"finite\"==a?isFinite(c):\"array\"==a&&(c instanceof Array||Array.isArray&&Array.isArray(c))?!0:\"null\"==a&&null===c||a==typeof c&&null!==c||\"object\"==\n",
       "a&&c===Object(c)||$.call(c).slice(8,-1).toLowerCase()==a}function M(c){if(\"function\"==typeof c||Object(c)!==c)return c;var a=new c.constructor,b;for(b in c)c[h](b)&&(a[b]=M(c[b]));return a}function A(c,a,b){function m(){var e=Array.prototype.slice.call(arguments,0),f=e.join(\"\\u2400\"),d=m.cache=m.cache||{},l=m.count=m.count||[];if(d[h](f)){a:for(var e=l,l=f,B=0,H=e.length;B<H;B++)if(e[B]===l){e.push(e.splice(B,1)[0]);break a}return b?b(d[f]):d[f]}1E3<=l.length&&delete d[l.shift()];l.push(f);d[f]=c.apply(a,\n",
       "e);return b?b(d[f]):d[f]}return m}function w(c,a,b,m,e,f){return null==e?(c-=b,a-=m,c||a?(180*I.atan2(-a,-c)/C+540)%360:0):w(c,a,e,f)-w(b,m,e,f)}function z(c){return c%360*C/180}function d(c){var a=[];c=c.replace(/(?:^|\\s)(\\w+)\\(([^)]+)\\)/g,function(c,b,m){m=m.split(/\\s*,\\s*|\\s+/);\"rotate\"==b&&1==m.length&&m.push(0,0);\"scale\"==b&&(2<m.length?m=m.slice(0,2):2==m.length&&m.push(0,0),1==m.length&&m.push(m[0],0,0));\"skewX\"==b?a.push([\"m\",1,0,I.tan(z(m[0])),1,0,0]):\"skewY\"==b?a.push([\"m\",1,I.tan(z(m[0])),\n",
       "0,1,0,0]):a.push([b.charAt(0)].concat(m));return c});return a}function f(c,t){var b=O(c),m=new a.Matrix;if(b)for(var e=0,f=b.length;e<f;e++){var h=b[e],d=h.length,B=J(h[0]).toLowerCase(),H=h[0]!=B,l=H?m.invert():0,E;\"t\"==B&&2==d?m.translate(h[1],0):\"t\"==B&&3==d?H?(d=l.x(0,0),B=l.y(0,0),H=l.x(h[1],h[2]),l=l.y(h[1],h[2]),m.translate(H-d,l-B)):m.translate(h[1],h[2]):\"r\"==B?2==d?(E=E||t,m.rotate(h[1],E.x+E.width/2,E.y+E.height/2)):4==d&&(H?(H=l.x(h[2],h[3]),l=l.y(h[2],h[3]),m.rotate(h[1],H,l)):m.rotate(h[1],\n",
       "h[2],h[3])):\"s\"==B?2==d||3==d?(E=E||t,m.scale(h[1],h[d-1],E.x+E.width/2,E.y+E.height/2)):4==d?H?(H=l.x(h[2],h[3]),l=l.y(h[2],h[3]),m.scale(h[1],h[1],H,l)):m.scale(h[1],h[1],h[2],h[3]):5==d&&(H?(H=l.x(h[3],h[4]),l=l.y(h[3],h[4]),m.scale(h[1],h[2],H,l)):m.scale(h[1],h[2],h[3],h[4])):\"m\"==B&&7==d&&m.add(h[1],h[2],h[3],h[4],h[5],h[6])}return m}function n(c,t){if(null==t){var m=!0;t=\"linearGradient\"==c.type||\"radialGradient\"==c.type?c.node.getAttribute(\"gradientTransform\"):\"pattern\"==c.type?c.node.getAttribute(\"patternTransform\"):\n",
       "c.node.getAttribute(\"transform\");if(!t)return new a.Matrix;t=d(t)}else t=a._.rgTransform.test(t)?J(t).replace(/\\.{3}|\\u2026/g,c._.transform||aa):d(t),y(t,\"array\")&&(t=a.path?a.path.toString.call(t):J(t)),c._.transform=t;var b=f(t,c.getBBox(1));if(m)return b;c.matrix=b}function u(c){c=c.node.ownerSVGElement&&x(c.node.ownerSVGElement)||c.node.parentNode&&x(c.node.parentNode)||a.select(\"svg\")||a(0,0);var t=c.select(\"defs\"),t=null==t?!1:t.node;t||(t=r(\"defs\",c.node).node);return t}function p(c){return c.node.ownerSVGElement&&\n",
       "x(c.node.ownerSVGElement)||a.select(\"svg\")}function b(c,a,m){function b(c){if(null==c)return aa;if(c==+c)return c;v(B,{width:c});try{return B.getBBox().width}catch(a){return 0}}function h(c){if(null==c)return aa;if(c==+c)return c;v(B,{height:c});try{return B.getBBox().height}catch(a){return 0}}function e(b,B){null==a?d[b]=B(c.attr(b)||0):b==a&&(d=B(null==m?c.attr(b)||0:m))}var f=p(c).node,d={},B=f.querySelector(\".svg---mgr\");B||(B=v(\"rect\"),v(B,{x:-9E9,y:-9E9,width:10,height:10,\"class\":\"svg---mgr\",\n",
       "fill:\"none\"}),f.appendChild(B));switch(c.type){case \"rect\":e(\"rx\",b),e(\"ry\",h);case \"image\":e(\"width\",b),e(\"height\",h);case \"text\":e(\"x\",b);e(\"y\",h);break;case \"circle\":e(\"cx\",b);e(\"cy\",h);e(\"r\",b);break;case \"ellipse\":e(\"cx\",b);e(\"cy\",h);e(\"rx\",b);e(\"ry\",h);break;case \"line\":e(\"x1\",b);e(\"x2\",b);e(\"y1\",h);e(\"y2\",h);break;case \"marker\":e(\"refX\",b);e(\"markerWidth\",b);e(\"refY\",h);e(\"markerHeight\",h);break;case \"radialGradient\":e(\"fx\",b);e(\"fy\",h);break;case \"tspan\":e(\"dx\",b);e(\"dy\",h);break;default:e(a,\n",
       "b)}f.removeChild(B);return d}function q(c){y(c,\"array\")||(c=Array.prototype.slice.call(arguments,0));for(var a=0,b=0,m=this.node;this[a];)delete this[a++];for(a=0;a<c.length;a++)\"set\"==c[a].type?c[a].forEach(function(c){m.appendChild(c.node)}):m.appendChild(c[a].node);for(var h=m.childNodes,a=0;a<h.length;a++)this[b++]=x(h[a]);return this}function e(c){if(c.snap in E)return E[c.snap];var a=this.id=V(),b;try{b=c.ownerSVGElement}catch(m){}this.node=c;b&&(this.paper=new s(b));this.type=c.tagName;this.anims=\n",
       "{};this._={transform:[]};c.snap=a;E[a]=this;\"g\"==this.type&&(this.add=q);if(this.type in{g:1,mask:1,pattern:1})for(var e in s.prototype)s.prototype[h](e)&&(this[e]=s.prototype[e])}function l(c){this.node=c}function r(c,a){var b=v(c);a.appendChild(b);return x(b)}function s(c,a){var b,m,f,d=s.prototype;if(c&&\"svg\"==c.tagName){if(c.snap in E)return E[c.snap];var l=c.ownerDocument;b=new e(c);m=c.getElementsByTagName(\"desc\")[0];f=c.getElementsByTagName(\"defs\")[0];m||(m=v(\"desc\"),m.appendChild(l.createTextNode(\"Created with Snap\")),\n",
       "b.node.appendChild(m));f||(f=v(\"defs\"),b.node.appendChild(f));b.defs=f;for(var ca in d)d[h](ca)&&(b[ca]=d[ca]);b.paper=b.root=b}else b=r(\"svg\",G.doc.body),v(b.node,{height:a,version:1.1,width:c,xmlns:la});return b}function x(c){return!c||c instanceof e||c instanceof l?c:c.tagName&&\"svg\"==c.tagName.toLowerCase()?new s(c):c.tagName&&\"object\"==c.tagName.toLowerCase()&&\"image/svg+xml\"==c.type?new s(c.contentDocument.getElementsByTagName(\"svg\")[0]):new e(c)}a.version=\"0.3.0\";a.toString=function(){return\"Snap v\"+\n",
       "this.version};a._={};var G={win:N,doc:N.document};a._.glob=G;var h=\"hasOwnProperty\",J=String,K=parseFloat,U=parseInt,I=Math,P=I.max,Q=I.min,Y=I.abs,C=I.PI,aa=\"\",$=Object.prototype.toString,F=/^\\s*((#[a-f\\d]{6})|(#[a-f\\d]{3})|rgba?\\(\\s*([\\d\\.]+%?\\s*,\\s*[\\d\\.]+%?\\s*,\\s*[\\d\\.]+%?(?:\\s*,\\s*[\\d\\.]+%?)?)\\s*\\)|hsba?\\(\\s*([\\d\\.]+(?:deg|\\xb0|%)?\\s*,\\s*[\\d\\.]+%?\\s*,\\s*[\\d\\.]+(?:%?\\s*,\\s*[\\d\\.]+)?%?)\\s*\\)|hsla?\\(\\s*([\\d\\.]+(?:deg|\\xb0|%)?\\s*,\\s*[\\d\\.]+%?\\s*,\\s*[\\d\\.]+(?:%?\\s*,\\s*[\\d\\.]+)?%?)\\s*\\))\\s*$/i;a._.separator=\n",
       "RegExp(\"[,\\t\\n\\x0B\\f\\r \\u00a0\\u1680\\u180e\\u2000\\u2001\\u2002\\u2003\\u2004\\u2005\\u2006\\u2007\\u2008\\u2009\\u200a\\u202f\\u205f\\u3000\\u2028\\u2029]+\");var S=RegExp(\"[\\t\\n\\x0B\\f\\r \\u00a0\\u1680\\u180e\\u2000\\u2001\\u2002\\u2003\\u2004\\u2005\\u2006\\u2007\\u2008\\u2009\\u200a\\u202f\\u205f\\u3000\\u2028\\u2029]*,[\\t\\n\\x0B\\f\\r \\u00a0\\u1680\\u180e\\u2000\\u2001\\u2002\\u2003\\u2004\\u2005\\u2006\\u2007\\u2008\\u2009\\u200a\\u202f\\u205f\\u3000\\u2028\\u2029]*\"),X={hs:1,rg:1},W=RegExp(\"([a-z])[\\t\\n\\x0B\\f\\r \\u00a0\\u1680\\u180e\\u2000\\u2001\\u2002\\u2003\\u2004\\u2005\\u2006\\u2007\\u2008\\u2009\\u200a\\u202f\\u205f\\u3000\\u2028\\u2029,]*((-?\\\\d*\\\\.?\\\\d*(?:e[\\\\-+]?\\\\d+)?[\\t\\n\\x0B\\f\\r \\u00a0\\u1680\\u180e\\u2000\\u2001\\u2002\\u2003\\u2004\\u2005\\u2006\\u2007\\u2008\\u2009\\u200a\\u202f\\u205f\\u3000\\u2028\\u2029]*,?[\\t\\n\\x0B\\f\\r \\u00a0\\u1680\\u180e\\u2000\\u2001\\u2002\\u2003\\u2004\\u2005\\u2006\\u2007\\u2008\\u2009\\u200a\\u202f\\u205f\\u3000\\u2028\\u2029]*)+)\",\n",
       "\"ig\"),ma=RegExp(\"([rstm])[\\t\\n\\x0B\\f\\r \\u00a0\\u1680\\u180e\\u2000\\u2001\\u2002\\u2003\\u2004\\u2005\\u2006\\u2007\\u2008\\u2009\\u200a\\u202f\\u205f\\u3000\\u2028\\u2029,]*((-?\\\\d*\\\\.?\\\\d*(?:e[\\\\-+]?\\\\d+)?[\\t\\n\\x0B\\f\\r \\u00a0\\u1680\\u180e\\u2000\\u2001\\u2002\\u2003\\u2004\\u2005\\u2006\\u2007\\u2008\\u2009\\u200a\\u202f\\u205f\\u3000\\u2028\\u2029]*,?[\\t\\n\\x0B\\f\\r \\u00a0\\u1680\\u180e\\u2000\\u2001\\u2002\\u2003\\u2004\\u2005\\u2006\\u2007\\u2008\\u2009\\u200a\\u202f\\u205f\\u3000\\u2028\\u2029]*)+)\",\"ig\"),Z=RegExp(\"(-?\\\\d*\\\\.?\\\\d*(?:e[\\\\-+]?\\\\d+)?)[\\t\\n\\x0B\\f\\r \\u00a0\\u1680\\u180e\\u2000\\u2001\\u2002\\u2003\\u2004\\u2005\\u2006\\u2007\\u2008\\u2009\\u200a\\u202f\\u205f\\u3000\\u2028\\u2029]*,?[\\t\\n\\x0B\\f\\r \\u00a0\\u1680\\u180e\\u2000\\u2001\\u2002\\u2003\\u2004\\u2005\\u2006\\u2007\\u2008\\u2009\\u200a\\u202f\\u205f\\u3000\\u2028\\u2029]*\",\n",
       "\"ig\"),na=0,ba=\"S\"+(+new Date).toString(36),V=function(){return ba+(na++).toString(36)},m=\"http://www.w3.org/1999/xlink\",la=\"http://www.w3.org/2000/svg\",E={},ca=a.url=function(c){return\"url('#\"+c+\"')\"};a._.$=v;a._.id=V;a.format=function(){var c=/\\{([^\\}]+)\\}/g,a=/(?:(?:^|\\.)(.+?)(?=\\[|\\.|$|\\()|\\[('|\")(.+?)\\2\\])(\\(\\))?/g,b=function(c,b,m){var h=m;b.replace(a,function(c,a,b,m,t){a=a||m;h&&(a in h&&(h=h[a]),\"function\"==typeof h&&t&&(h=h()))});return h=(null==h||h==m?c:h)+\"\"};return function(a,m){return J(a).replace(c,\n",
       "function(c,a){return b(c,a,m)})}}();a._.clone=M;a._.cacher=A;a.rad=z;a.deg=function(c){return 180*c/C%360};a.angle=w;a.is=y;a.snapTo=function(c,a,b){b=y(b,\"finite\")?b:10;if(y(c,\"array\"))for(var m=c.length;m--;){if(Y(c[m]-a)<=b)return c[m]}else{c=+c;m=a%c;if(m<b)return a-m;if(m>c-b)return a-m+c}return a};a.getRGB=A(function(c){if(!c||(c=J(c)).indexOf(\"-\")+1)return{r:-1,g:-1,b:-1,hex:\"none\",error:1,toString:ka};if(\"none\"==c)return{r:-1,g:-1,b:-1,hex:\"none\",toString:ka};!X[h](c.toLowerCase().substring(0,\n",
       "2))&&\"#\"!=c.charAt()&&(c=T(c));if(!c)return{r:-1,g:-1,b:-1,hex:\"none\",error:1,toString:ka};var b,m,e,f,d;if(c=c.match(F)){c[2]&&(e=U(c[2].substring(5),16),m=U(c[2].substring(3,5),16),b=U(c[2].substring(1,3),16));c[3]&&(e=U((d=c[3].charAt(3))+d,16),m=U((d=c[3].charAt(2))+d,16),b=U((d=c[3].charAt(1))+d,16));c[4]&&(d=c[4].split(S),b=K(d[0]),\"%\"==d[0].slice(-1)&&(b*=2.55),m=K(d[1]),\"%\"==d[1].slice(-1)&&(m*=2.55),e=K(d[2]),\"%\"==d[2].slice(-1)&&(e*=2.55),\"rgba\"==c[1].toLowerCase().slice(0,4)&&(f=K(d[3])),\n",
       "d[3]&&\"%\"==d[3].slice(-1)&&(f/=100));if(c[5])return d=c[5].split(S),b=K(d[0]),\"%\"==d[0].slice(-1)&&(b/=100),m=K(d[1]),\"%\"==d[1].slice(-1)&&(m/=100),e=K(d[2]),\"%\"==d[2].slice(-1)&&(e/=100),\"deg\"!=d[0].slice(-3)&&\"\\u00b0\"!=d[0].slice(-1)||(b/=360),\"hsba\"==c[1].toLowerCase().slice(0,4)&&(f=K(d[3])),d[3]&&\"%\"==d[3].slice(-1)&&(f/=100),a.hsb2rgb(b,m,e,f);if(c[6])return d=c[6].split(S),b=K(d[0]),\"%\"==d[0].slice(-1)&&(b/=100),m=K(d[1]),\"%\"==d[1].slice(-1)&&(m/=100),e=K(d[2]),\"%\"==d[2].slice(-1)&&(e/=100),\n",
       "\"deg\"!=d[0].slice(-3)&&\"\\u00b0\"!=d[0].slice(-1)||(b/=360),\"hsla\"==c[1].toLowerCase().slice(0,4)&&(f=K(d[3])),d[3]&&\"%\"==d[3].slice(-1)&&(f/=100),a.hsl2rgb(b,m,e,f);b=Q(I.round(b),255);m=Q(I.round(m),255);e=Q(I.round(e),255);f=Q(P(f,0),1);c={r:b,g:m,b:e,toString:ka};c.hex=\"#\"+(16777216|e|m<<8|b<<16).toString(16).slice(1);c.opacity=y(f,\"finite\")?f:1;return c}return{r:-1,g:-1,b:-1,hex:\"none\",error:1,toString:ka}},a);a.hsb=A(function(c,b,m){return a.hsb2rgb(c,b,m).hex});a.hsl=A(function(c,b,m){return a.hsl2rgb(c,\n",
       "b,m).hex});a.rgb=A(function(c,a,b,m){if(y(m,\"finite\")){var e=I.round;return\"rgba(\"+[e(c),e(a),e(b),+m.toFixed(2)]+\")\"}return\"#\"+(16777216|b|a<<8|c<<16).toString(16).slice(1)});var T=function(c){var a=G.doc.getElementsByTagName(\"head\")[0]||G.doc.getElementsByTagName(\"svg\")[0];T=A(function(c){if(\"red\"==c.toLowerCase())return\"rgb(255, 0, 0)\";a.style.color=\"rgb(255, 0, 0)\";a.style.color=c;c=G.doc.defaultView.getComputedStyle(a,aa).getPropertyValue(\"color\");return\"rgb(255, 0, 0)\"==c?null:c});return T(c)},\n",
       "qa=function(){return\"hsb(\"+[this.h,this.s,this.b]+\")\"},ra=function(){return\"hsl(\"+[this.h,this.s,this.l]+\")\"},ka=function(){return 1==this.opacity||null==this.opacity?this.hex:\"rgba(\"+[this.r,this.g,this.b,this.opacity]+\")\"},D=function(c,b,m){null==b&&y(c,\"object\")&&\"r\"in c&&\"g\"in c&&\"b\"in c&&(m=c.b,b=c.g,c=c.r);null==b&&y(c,string)&&(m=a.getRGB(c),c=m.r,b=m.g,m=m.b);if(1<c||1<b||1<m)c/=255,b/=255,m/=255;return[c,b,m]},oa=function(c,b,m,e){c=I.round(255*c);b=I.round(255*b);m=I.round(255*m);c={r:c,\n",
       "g:b,b:m,opacity:y(e,\"finite\")?e:1,hex:a.rgb(c,b,m),toString:ka};y(e,\"finite\")&&(c.opacity=e);return c};a.color=function(c){var b;y(c,\"object\")&&\"h\"in c&&\"s\"in c&&\"b\"in c?(b=a.hsb2rgb(c),c.r=b.r,c.g=b.g,c.b=b.b,c.opacity=1,c.hex=b.hex):y(c,\"object\")&&\"h\"in c&&\"s\"in c&&\"l\"in c?(b=a.hsl2rgb(c),c.r=b.r,c.g=b.g,c.b=b.b,c.opacity=1,c.hex=b.hex):(y(c,\"string\")&&(c=a.getRGB(c)),y(c,\"object\")&&\"r\"in c&&\"g\"in c&&\"b\"in c&&!(\"error\"in c)?(b=a.rgb2hsl(c),c.h=b.h,c.s=b.s,c.l=b.l,b=a.rgb2hsb(c),c.v=b.b):(c={hex:\"none\"},\n",
       "c.r=c.g=c.b=c.h=c.s=c.v=c.l=-1,c.error=1));c.toString=ka;return c};a.hsb2rgb=function(c,a,b,m){y(c,\"object\")&&\"h\"in c&&\"s\"in c&&\"b\"in c&&(b=c.b,a=c.s,c=c.h,m=c.o);var e,h,d;c=360*c%360/60;d=b*a;a=d*(1-Y(c%2-1));b=e=h=b-d;c=~~c;b+=[d,a,0,0,a,d][c];e+=[a,d,d,a,0,0][c];h+=[0,0,a,d,d,a][c];return oa(b,e,h,m)};a.hsl2rgb=function(c,a,b,m){y(c,\"object\")&&\"h\"in c&&\"s\"in c&&\"l\"in c&&(b=c.l,a=c.s,c=c.h);if(1<c||1<a||1<b)c/=360,a/=100,b/=100;var e,h,d;c=360*c%360/60;d=2*a*(0.5>b?b:1-b);a=d*(1-Y(c%2-1));b=e=\n",
       "h=b-d/2;c=~~c;b+=[d,a,0,0,a,d][c];e+=[a,d,d,a,0,0][c];h+=[0,0,a,d,d,a][c];return oa(b,e,h,m)};a.rgb2hsb=function(c,a,b){b=D(c,a,b);c=b[0];a=b[1];b=b[2];var m,e;m=P(c,a,b);e=m-Q(c,a,b);c=((0==e?0:m==c?(a-b)/e:m==a?(b-c)/e+2:(c-a)/e+4)+360)%6*60/360;return{h:c,s:0==e?0:e/m,b:m,toString:qa}};a.rgb2hsl=function(c,a,b){b=D(c,a,b);c=b[0];a=b[1];b=b[2];var m,e,h;m=P(c,a,b);e=Q(c,a,b);h=m-e;c=((0==h?0:m==c?(a-b)/h:m==a?(b-c)/h+2:(c-a)/h+4)+360)%6*60/360;m=(m+e)/2;return{h:c,s:0==h?0:0.5>m?h/(2*m):h/(2-2*\n",
       "m),l:m,toString:ra}};a.parsePathString=function(c){if(!c)return null;var b=a.path(c);if(b.arr)return a.path.clone(b.arr);var m={a:7,c:6,o:2,h:1,l:2,m:2,r:4,q:4,s:4,t:2,v:1,u:3,z:0},e=[];y(c,\"array\")&&y(c[0],\"array\")&&(e=a.path.clone(c));e.length||J(c).replace(W,function(c,a,b){var h=[];c=a.toLowerCase();b.replace(Z,function(c,a){a&&h.push(+a)});\"m\"==c&&2<h.length&&(e.push([a].concat(h.splice(0,2))),c=\"l\",a=\"m\"==a?\"l\":\"L\");\"o\"==c&&1==h.length&&e.push([a,h[0] ]);if(\"r\"==c)e.push([a].concat(h));else for(;h.length>=\n",
       "m[c]&&(e.push([a].concat(h.splice(0,m[c]))),m[c]););});e.toString=a.path.toString;b.arr=a.path.clone(e);return e};var O=a.parseTransformString=function(c){if(!c)return null;var b=[];y(c,\"array\")&&y(c[0],\"array\")&&(b=a.path.clone(c));b.length||J(c).replace(ma,function(c,a,m){var e=[];a.toLowerCase();m.replace(Z,function(c,a){a&&e.push(+a)});b.push([a].concat(e))});b.toString=a.path.toString;return b};a._.svgTransform2string=d;a._.rgTransform=RegExp(\"^[a-z][\\t\\n\\x0B\\f\\r \\u00a0\\u1680\\u180e\\u2000\\u2001\\u2002\\u2003\\u2004\\u2005\\u2006\\u2007\\u2008\\u2009\\u200a\\u202f\\u205f\\u3000\\u2028\\u2029]*-?\\\\.?\\\\d\",\n",
       "\"i\");a._.transform2matrix=f;a._unit2px=b;a._.getSomeDefs=u;a._.getSomeSVG=p;a.select=function(c){return x(G.doc.querySelector(c))};a.selectAll=function(c){c=G.doc.querySelectorAll(c);for(var b=(a.set||Array)(),m=0;m<c.length;m++)b.push(x(c[m]));return b};setInterval(function(){for(var c in E)if(E[h](c)){var a=E[c],b=a.node;(\"svg\"!=a.type&&!b.ownerSVGElement||\"svg\"==a.type&&(!b.parentNode||\"ownerSVGElement\"in b.parentNode&&!b.ownerSVGElement))&&delete E[c]}},1E4);(function(c){function m(c){function a(c,\n",
       "b){var m=v(c.node,b);(m=(m=m&&m.match(d))&&m[2])&&\"#\"==m.charAt()&&(m=m.substring(1))&&(f[m]=(f[m]||[]).concat(function(a){var m={};m[b]=ca(a);v(c.node,m)}))}function b(c){var a=v(c.node,\"xlink:href\");a&&\"#\"==a.charAt()&&(a=a.substring(1))&&(f[a]=(f[a]||[]).concat(function(a){c.attr(\"xlink:href\",\"#\"+a)}))}var e=c.selectAll(\"*\"),h,d=/^\\s*url\\((\"|'|)(.*)\\1\\)\\s*$/;c=[];for(var f={},l=0,E=e.length;l<E;l++){h=e[l];a(h,\"fill\");a(h,\"stroke\");a(h,\"filter\");a(h,\"mask\");a(h,\"clip-path\");b(h);var t=v(h.node,\n",
       "\"id\");t&&(v(h.node,{id:h.id}),c.push({old:t,id:h.id}))}l=0;for(E=c.length;l<E;l++)if(e=f[c[l].old])for(h=0,t=e.length;h<t;h++)e[h](c[l].id)}function e(c,a,b){return function(m){m=m.slice(c,a);1==m.length&&(m=m[0]);return b?b(m):m}}function d(c){return function(){var a=c?\"<\"+this.type:\"\",b=this.node.attributes,m=this.node.childNodes;if(c)for(var e=0,h=b.length;e<h;e++)a+=\" \"+b[e].name+'=\"'+b[e].value.replace(/\"/g,'\\\\\"')+'\"';if(m.length){c&&(a+=\">\");e=0;for(h=m.length;e<h;e++)3==m[e].nodeType?a+=m[e].nodeValue:\n",
       "1==m[e].nodeType&&(a+=x(m[e]).toString());c&&(a+=\"</\"+this.type+\">\")}else c&&(a+=\"/>\");return a}}c.attr=function(c,a){if(!c)return this;if(y(c,\"string\"))if(1<arguments.length){var b={};b[c]=a;c=b}else return k(\"snap.util.getattr.\"+c,this).firstDefined();for(var m in c)c[h](m)&&k(\"snap.util.attr.\"+m,this,c[m]);return this};c.getBBox=function(c){if(!a.Matrix||!a.path)return this.node.getBBox();var b=this,m=new a.Matrix;if(b.removed)return a._.box();for(;\"use\"==b.type;)if(c||(m=m.add(b.transform().localMatrix.translate(b.attr(\"x\")||\n",
       "0,b.attr(\"y\")||0))),b.original)b=b.original;else var e=b.attr(\"xlink:href\"),b=b.original=b.node.ownerDocument.getElementById(e.substring(e.indexOf(\"#\")+1));var e=b._,h=a.path.get[b.type]||a.path.get.deflt;try{if(c)return e.bboxwt=h?a.path.getBBox(b.realPath=h(b)):a._.box(b.node.getBBox()),a._.box(e.bboxwt);b.realPath=h(b);b.matrix=b.transform().localMatrix;e.bbox=a.path.getBBox(a.path.map(b.realPath,m.add(b.matrix)));return a._.box(e.bbox)}catch(d){return a._.box()}};var f=function(){return this.string};\n",
       "c.transform=function(c){var b=this._;if(null==c){var m=this;c=new a.Matrix(this.node.getCTM());for(var e=n(this),h=[e],d=new a.Matrix,l=e.toTransformString(),b=J(e)==J(this.matrix)?J(b.transform):l;\"svg\"!=m.type&&(m=m.parent());)h.push(n(m));for(m=h.length;m--;)d.add(h[m]);return{string:b,globalMatrix:c,totalMatrix:d,localMatrix:e,diffMatrix:c.clone().add(e.invert()),global:c.toTransformString(),total:d.toTransformString(),local:l,toString:f}}c instanceof a.Matrix?this.matrix=c:n(this,c);this.node&&\n",
       "(\"linearGradient\"==this.type||\"radialGradient\"==this.type?v(this.node,{gradientTransform:this.matrix}):\"pattern\"==this.type?v(this.node,{patternTransform:this.matrix}):v(this.node,{transform:this.matrix}));return this};c.parent=function(){return x(this.node.parentNode)};c.append=c.add=function(c){if(c){if(\"set\"==c.type){var a=this;c.forEach(function(c){a.add(c)});return this}c=x(c);this.node.appendChild(c.node);c.paper=this.paper}return this};c.appendTo=function(c){c&&(c=x(c),c.append(this));return this};\n",
       "c.prepend=function(c){if(c){if(\"set\"==c.type){var a=this,b;c.forEach(function(c){b?b.after(c):a.prepend(c);b=c});return this}c=x(c);var m=c.parent();this.node.insertBefore(c.node,this.node.firstChild);this.add&&this.add();c.paper=this.paper;this.parent()&&this.parent().add();m&&m.add()}return this};c.prependTo=function(c){c=x(c);c.prepend(this);return this};c.before=function(c){if(\"set\"==c.type){var a=this;c.forEach(function(c){var b=c.parent();a.node.parentNode.insertBefore(c.node,a.node);b&&b.add()});\n",
       "this.parent().add();return this}c=x(c);var b=c.parent();this.node.parentNode.insertBefore(c.node,this.node);this.parent()&&this.parent().add();b&&b.add();c.paper=this.paper;return this};c.after=function(c){c=x(c);var a=c.parent();this.node.nextSibling?this.node.parentNode.insertBefore(c.node,this.node.nextSibling):this.node.parentNode.appendChild(c.node);this.parent()&&this.parent().add();a&&a.add();c.paper=this.paper;return this};c.insertBefore=function(c){c=x(c);var a=this.parent();c.node.parentNode.insertBefore(this.node,\n",
       "c.node);this.paper=c.paper;a&&a.add();c.parent()&&c.parent().add();return this};c.insertAfter=function(c){c=x(c);var a=this.parent();c.node.parentNode.insertBefore(this.node,c.node.nextSibling);this.paper=c.paper;a&&a.add();c.parent()&&c.parent().add();return this};c.remove=function(){var c=this.parent();this.node.parentNode&&this.node.parentNode.removeChild(this.node);delete this.paper;this.removed=!0;c&&c.add();return this};c.select=function(c){return x(this.node.querySelector(c))};c.selectAll=\n",
       "function(c){c=this.node.querySelectorAll(c);for(var b=(a.set||Array)(),m=0;m<c.length;m++)b.push(x(c[m]));return b};c.asPX=function(c,a){null==a&&(a=this.attr(c));return+b(this,c,a)};c.use=function(){var c,a=this.node.id;a||(a=this.id,v(this.node,{id:a}));c=\"linearGradient\"==this.type||\"radialGradient\"==this.type||\"pattern\"==this.type?r(this.type,this.node.parentNode):r(\"use\",this.node.parentNode);v(c.node,{\"xlink:href\":\"#\"+a});c.original=this;return c};var l=/\\S+/g;c.addClass=function(c){var a=(c||\n",
       "\"\").match(l)||[];c=this.node;var b=c.className.baseVal,m=b.match(l)||[],e,h,d;if(a.length){for(e=0;d=a[e++];)h=m.indexOf(d),~h||m.push(d);a=m.join(\" \");b!=a&&(c.className.baseVal=a)}return this};c.removeClass=function(c){var a=(c||\"\").match(l)||[];c=this.node;var b=c.className.baseVal,m=b.match(l)||[],e,h;if(m.length){for(e=0;h=a[e++];)h=m.indexOf(h),~h&&m.splice(h,1);a=m.join(\" \");b!=a&&(c.className.baseVal=a)}return this};c.hasClass=function(c){return!!~(this.node.className.baseVal.match(l)||[]).indexOf(c)};\n",
       "c.toggleClass=function(c,a){if(null!=a)return a?this.addClass(c):this.removeClass(c);var b=(c||\"\").match(l)||[],m=this.node,e=m.className.baseVal,h=e.match(l)||[],d,f,E;for(d=0;E=b[d++];)f=h.indexOf(E),~f?h.splice(f,1):h.push(E);b=h.join(\" \");e!=b&&(m.className.baseVal=b);return this};c.clone=function(){var c=x(this.node.cloneNode(!0));v(c.node,\"id\")&&v(c.node,{id:c.id});m(c);c.insertAfter(this);return c};c.toDefs=function(){u(this).appendChild(this.node);return this};c.pattern=c.toPattern=function(c,\n",
       "a,b,m){var e=r(\"pattern\",u(this));null==c&&(c=this.getBBox());y(c,\"object\")&&\"x\"in c&&(a=c.y,b=c.width,m=c.height,c=c.x);v(e.node,{x:c,y:a,width:b,height:m,patternUnits:\"userSpaceOnUse\",id:e.id,viewBox:[c,a,b,m].join(\" \")});e.node.appendChild(this.node);return e};c.marker=function(c,a,b,m,e,h){var d=r(\"marker\",u(this));null==c&&(c=this.getBBox());y(c,\"object\")&&\"x\"in c&&(a=c.y,b=c.width,m=c.height,e=c.refX||c.cx,h=c.refY||c.cy,c=c.x);v(d.node,{viewBox:[c,a,b,m].join(\" \"),markerWidth:b,markerHeight:m,\n",
       "orient:\"auto\",refX:e||0,refY:h||0,id:d.id});d.node.appendChild(this.node);return d};var E=function(c,a,b,m){\"function\"!=typeof b||b.length||(m=b,b=L.linear);this.attr=c;this.dur=a;b&&(this.easing=b);m&&(this.callback=m)};a._.Animation=E;a.animation=function(c,a,b,m){return new E(c,a,b,m)};c.inAnim=function(){var c=[],a;for(a in this.anims)this.anims[h](a)&&function(a){c.push({anim:new E(a._attrs,a.dur,a.easing,a._callback),mina:a,curStatus:a.status(),status:function(c){return a.status(c)},stop:function(){a.stop()}})}(this.anims[a]);\n",
       "return c};a.animate=function(c,a,b,m,e,h){\"function\"!=typeof e||e.length||(h=e,e=L.linear);var d=L.time();c=L(c,a,d,d+m,L.time,b,e);h&&k.once(\"mina.finish.\"+c.id,h);return c};c.stop=function(){for(var c=this.inAnim(),a=0,b=c.length;a<b;a++)c[a].stop();return this};c.animate=function(c,a,b,m){\"function\"!=typeof b||b.length||(m=b,b=L.linear);c instanceof E&&(m=c.callback,b=c.easing,a=b.dur,c=c.attr);var d=[],f=[],l={},t,ca,n,T=this,q;for(q in c)if(c[h](q)){T.equal?(n=T.equal(q,J(c[q])),t=n.from,ca=\n",
       "n.to,n=n.f):(t=+T.attr(q),ca=+c[q]);var la=y(t,\"array\")?t.length:1;l[q]=e(d.length,d.length+la,n);d=d.concat(t);f=f.concat(ca)}t=L.time();var p=L(d,f,t,t+a,L.time,function(c){var a={},b;for(b in l)l[h](b)&&(a[b]=l[b](c));T.attr(a)},b);T.anims[p.id]=p;p._attrs=c;p._callback=m;k(\"snap.animcreated.\"+T.id,p);k.once(\"mina.finish.\"+p.id,function(){delete T.anims[p.id];m&&m.call(T)});k.once(\"mina.stop.\"+p.id,function(){delete T.anims[p.id]});return T};var T={};c.data=function(c,b){var m=T[this.id]=T[this.id]||\n",
       "{};if(0==arguments.length)return k(\"snap.data.get.\"+this.id,this,m,null),m;if(1==arguments.length){if(a.is(c,\"object\")){for(var e in c)c[h](e)&&this.data(e,c[e]);return this}k(\"snap.data.get.\"+this.id,this,m[c],c);return m[c]}m[c]=b;k(\"snap.data.set.\"+this.id,this,b,c);return this};c.removeData=function(c){null==c?T[this.id]={}:T[this.id]&&delete T[this.id][c];return this};c.outerSVG=c.toString=d(1);c.innerSVG=d()})(e.prototype);a.parse=function(c){var a=G.doc.createDocumentFragment(),b=!0,m=G.doc.createElement(\"div\");\n",
       "c=J(c);c.match(/^\\s*<\\s*svg(?:\\s|>)/)||(c=\"<svg>\"+c+\"</svg>\",b=!1);m.innerHTML=c;if(c=m.getElementsByTagName(\"svg\")[0])if(b)a=c;else for(;c.firstChild;)a.appendChild(c.firstChild);m.innerHTML=aa;return new l(a)};l.prototype.select=e.prototype.select;l.prototype.selectAll=e.prototype.selectAll;a.fragment=function(){for(var c=Array.prototype.slice.call(arguments,0),b=G.doc.createDocumentFragment(),m=0,e=c.length;m<e;m++){var h=c[m];h.node&&h.node.nodeType&&b.appendChild(h.node);h.nodeType&&b.appendChild(h);\n",
       "\"string\"==typeof h&&b.appendChild(a.parse(h).node)}return new l(b)};a._.make=r;a._.wrap=x;s.prototype.el=function(c,a){var b=r(c,this.node);a&&b.attr(a);return b};k.on(\"snap.util.getattr\",function(){var c=k.nt(),c=c.substring(c.lastIndexOf(\".\")+1),a=c.replace(/[A-Z]/g,function(c){return\"-\"+c.toLowerCase()});return pa[h](a)?this.node.ownerDocument.defaultView.getComputedStyle(this.node,null).getPropertyValue(a):v(this.node,c)});var pa={\"alignment-baseline\":0,\"baseline-shift\":0,clip:0,\"clip-path\":0,\n",
       "\"clip-rule\":0,color:0,\"color-interpolation\":0,\"color-interpolation-filters\":0,\"color-profile\":0,\"color-rendering\":0,cursor:0,direction:0,display:0,\"dominant-baseline\":0,\"enable-background\":0,fill:0,\"fill-opacity\":0,\"fill-rule\":0,filter:0,\"flood-color\":0,\"flood-opacity\":0,font:0,\"font-family\":0,\"font-size\":0,\"font-size-adjust\":0,\"font-stretch\":0,\"font-style\":0,\"font-variant\":0,\"font-weight\":0,\"glyph-orientation-horizontal\":0,\"glyph-orientation-vertical\":0,\"image-rendering\":0,kerning:0,\"letter-spacing\":0,\n",
       "\"lighting-color\":0,marker:0,\"marker-end\":0,\"marker-mid\":0,\"marker-start\":0,mask:0,opacity:0,overflow:0,\"pointer-events\":0,\"shape-rendering\":0,\"stop-color\":0,\"stop-opacity\":0,stroke:0,\"stroke-dasharray\":0,\"stroke-dashoffset\":0,\"stroke-linecap\":0,\"stroke-linejoin\":0,\"stroke-miterlimit\":0,\"stroke-opacity\":0,\"stroke-width\":0,\"text-anchor\":0,\"text-decoration\":0,\"text-rendering\":0,\"unicode-bidi\":0,visibility:0,\"word-spacing\":0,\"writing-mode\":0};k.on(\"snap.util.attr\",function(c){var a=k.nt(),b={},a=a.substring(a.lastIndexOf(\".\")+\n",
       "1);b[a]=c;var m=a.replace(/-(\\w)/gi,function(c,a){return a.toUpperCase()}),a=a.replace(/[A-Z]/g,function(c){return\"-\"+c.toLowerCase()});pa[h](a)?this.node.style[m]=null==c?aa:c:v(this.node,b)});a.ajax=function(c,a,b,m){var e=new XMLHttpRequest,h=V();if(e){if(y(a,\"function\"))m=b,b=a,a=null;else if(y(a,\"object\")){var d=[],f;for(f in a)a.hasOwnProperty(f)&&d.push(encodeURIComponent(f)+\"=\"+encodeURIComponent(a[f]));a=d.join(\"&\")}e.open(a?\"POST\":\"GET\",c,!0);a&&(e.setRequestHeader(\"X-Requested-With\",\"XMLHttpRequest\"),\n",
       "e.setRequestHeader(\"Content-type\",\"application/x-www-form-urlencoded\"));b&&(k.once(\"snap.ajax.\"+h+\".0\",b),k.once(\"snap.ajax.\"+h+\".200\",b),k.once(\"snap.ajax.\"+h+\".304\",b));e.onreadystatechange=function(){4==e.readyState&&k(\"snap.ajax.\"+h+\".\"+e.status,m,e)};if(4==e.readyState)return e;e.send(a);return e}};a.load=function(c,b,m){a.ajax(c,function(c){c=a.parse(c.responseText);m?b.call(m,c):b(c)})};a.getElementByPoint=function(c,a){var b,m,e=G.doc.elementFromPoint(c,a);if(G.win.opera&&\"svg\"==e.tagName){b=\n",
       "e;m=b.getBoundingClientRect();b=b.ownerDocument;var h=b.body,d=b.documentElement;b=m.top+(g.win.pageYOffset||d.scrollTop||h.scrollTop)-(d.clientTop||h.clientTop||0);m=m.left+(g.win.pageXOffset||d.scrollLeft||h.scrollLeft)-(d.clientLeft||h.clientLeft||0);h=e.createSVGRect();h.x=c-m;h.y=a-b;h.width=h.height=1;b=e.getIntersectionList(h,null);b.length&&(e=b[b.length-1])}return e?x(e):null};a.plugin=function(c){c(a,e,s,G,l)};return G.win.Snap=a}();C.plugin(function(a,k,y,M,A){function w(a,d,f,b,q,e){null==\n",
       "d&&\"[object SVGMatrix]\"==z.call(a)?(this.a=a.a,this.b=a.b,this.c=a.c,this.d=a.d,this.e=a.e,this.f=a.f):null!=a?(this.a=+a,this.b=+d,this.c=+f,this.d=+b,this.e=+q,this.f=+e):(this.a=1,this.c=this.b=0,this.d=1,this.f=this.e=0)}var z=Object.prototype.toString,d=String,f=Math;(function(n){function k(a){return a[0]*a[0]+a[1]*a[1]}function p(a){var d=f.sqrt(k(a));a[0]&&(a[0]/=d);a[1]&&(a[1]/=d)}n.add=function(a,d,e,f,n,p){var k=[[],[],[] ],u=[[this.a,this.c,this.e],[this.b,this.d,this.f],[0,0,1] ];d=[[a,\n",
       "e,n],[d,f,p],[0,0,1] ];a&&a instanceof w&&(d=[[a.a,a.c,a.e],[a.b,a.d,a.f],[0,0,1] ]);for(a=0;3>a;a++)for(e=0;3>e;e++){for(f=n=0;3>f;f++)n+=u[a][f]*d[f][e];k[a][e]=n}this.a=k[0][0];this.b=k[1][0];this.c=k[0][1];this.d=k[1][1];this.e=k[0][2];this.f=k[1][2];return this};n.invert=function(){var a=this.a*this.d-this.b*this.c;return new w(this.d/a,-this.b/a,-this.c/a,this.a/a,(this.c*this.f-this.d*this.e)/a,(this.b*this.e-this.a*this.f)/a)};n.clone=function(){return new w(this.a,this.b,this.c,this.d,this.e,\n",
       "this.f)};n.translate=function(a,d){return this.add(1,0,0,1,a,d)};n.scale=function(a,d,e,f){null==d&&(d=a);(e||f)&&this.add(1,0,0,1,e,f);this.add(a,0,0,d,0,0);(e||f)&&this.add(1,0,0,1,-e,-f);return this};n.rotate=function(b,d,e){b=a.rad(b);d=d||0;e=e||0;var l=+f.cos(b).toFixed(9);b=+f.sin(b).toFixed(9);this.add(l,b,-b,l,d,e);return this.add(1,0,0,1,-d,-e)};n.x=function(a,d){return a*this.a+d*this.c+this.e};n.y=function(a,d){return a*this.b+d*this.d+this.f};n.get=function(a){return+this[d.fromCharCode(97+\n",
       "a)].toFixed(4)};n.toString=function(){return\"matrix(\"+[this.get(0),this.get(1),this.get(2),this.get(3),this.get(4),this.get(5)].join()+\")\"};n.offset=function(){return[this.e.toFixed(4),this.f.toFixed(4)]};n.determinant=function(){return this.a*this.d-this.b*this.c};n.split=function(){var b={};b.dx=this.e;b.dy=this.f;var d=[[this.a,this.c],[this.b,this.d] ];b.scalex=f.sqrt(k(d[0]));p(d[0]);b.shear=d[0][0]*d[1][0]+d[0][1]*d[1][1];d[1]=[d[1][0]-d[0][0]*b.shear,d[1][1]-d[0][1]*b.shear];b.scaley=f.sqrt(k(d[1]));\n",
       "p(d[1]);b.shear/=b.scaley;0>this.determinant()&&(b.scalex=-b.scalex);var e=-d[0][1],d=d[1][1];0>d?(b.rotate=a.deg(f.acos(d)),0>e&&(b.rotate=360-b.rotate)):b.rotate=a.deg(f.asin(e));b.isSimple=!+b.shear.toFixed(9)&&(b.scalex.toFixed(9)==b.scaley.toFixed(9)||!b.rotate);b.isSuperSimple=!+b.shear.toFixed(9)&&b.scalex.toFixed(9)==b.scaley.toFixed(9)&&!b.rotate;b.noRotation=!+b.shear.toFixed(9)&&!b.rotate;return b};n.toTransformString=function(a){a=a||this.split();if(+a.shear.toFixed(9))return\"m\"+[this.get(0),\n",
       "this.get(1),this.get(2),this.get(3),this.get(4),this.get(5)];a.scalex=+a.scalex.toFixed(4);a.scaley=+a.scaley.toFixed(4);a.rotate=+a.rotate.toFixed(4);return(a.dx||a.dy?\"t\"+[+a.dx.toFixed(4),+a.dy.toFixed(4)]:\"\")+(1!=a.scalex||1!=a.scaley?\"s\"+[a.scalex,a.scaley,0,0]:\"\")+(a.rotate?\"r\"+[+a.rotate.toFixed(4),0,0]:\"\")}})(w.prototype);a.Matrix=w;a.matrix=function(a,d,f,b,k,e){return new w(a,d,f,b,k,e)}});C.plugin(function(a,v,y,M,A){function w(h){return function(d){k.stop();d instanceof A&&1==d.node.childNodes.length&&\n",
       "(\"radialGradient\"==d.node.firstChild.tagName||\"linearGradient\"==d.node.firstChild.tagName||\"pattern\"==d.node.firstChild.tagName)&&(d=d.node.firstChild,b(this).appendChild(d),d=u(d));if(d instanceof v)if(\"radialGradient\"==d.type||\"linearGradient\"==d.type||\"pattern\"==d.type){d.node.id||e(d.node,{id:d.id});var f=l(d.node.id)}else f=d.attr(h);else f=a.color(d),f.error?(f=a(b(this).ownerSVGElement).gradient(d))?(f.node.id||e(f.node,{id:f.id}),f=l(f.node.id)):f=d:f=r(f);d={};d[h]=f;e(this.node,d);this.node.style[h]=\n",
       "x}}function z(a){k.stop();a==+a&&(a+=\"px\");this.node.style.fontSize=a}function d(a){var b=[];a=a.childNodes;for(var e=0,f=a.length;e<f;e++){var l=a[e];3==l.nodeType&&b.push(l.nodeValue);\"tspan\"==l.tagName&&(1==l.childNodes.length&&3==l.firstChild.nodeType?b.push(l.firstChild.nodeValue):b.push(d(l)))}return b}function f(){k.stop();return this.node.style.fontSize}var n=a._.make,u=a._.wrap,p=a.is,b=a._.getSomeDefs,q=/^url\\(#?([^)]+)\\)$/,e=a._.$,l=a.url,r=String,s=a._.separator,x=\"\";k.on(\"snap.util.attr.mask\",\n",
       "function(a){if(a instanceof v||a instanceof A){k.stop();a instanceof A&&1==a.node.childNodes.length&&(a=a.node.firstChild,b(this).appendChild(a),a=u(a));if(\"mask\"==a.type)var d=a;else d=n(\"mask\",b(this)),d.node.appendChild(a.node);!d.node.id&&e(d.node,{id:d.id});e(this.node,{mask:l(d.id)})}});(function(a){k.on(\"snap.util.attr.clip\",a);k.on(\"snap.util.attr.clip-path\",a);k.on(\"snap.util.attr.clipPath\",a)})(function(a){if(a instanceof v||a instanceof A){k.stop();if(\"clipPath\"==a.type)var d=a;else d=\n",
       "n(\"clipPath\",b(this)),d.node.appendChild(a.node),!d.node.id&&e(d.node,{id:d.id});e(this.node,{\"clip-path\":l(d.id)})}});k.on(\"snap.util.attr.fill\",w(\"fill\"));k.on(\"snap.util.attr.stroke\",w(\"stroke\"));var G=/^([lr])(?:\\(([^)]*)\\))?(.*)$/i;k.on(\"snap.util.grad.parse\",function(a){a=r(a);var b=a.match(G);if(!b)return null;a=b[1];var e=b[2],b=b[3],e=e.split(/\\s*,\\s*/).map(function(a){return+a==a?+a:a});1==e.length&&0==e[0]&&(e=[]);b=b.split(\"-\");b=b.map(function(a){a=a.split(\":\");var b={color:a[0]};a[1]&&\n",
       "(b.offset=parseFloat(a[1]));return b});return{type:a,params:e,stops:b}});k.on(\"snap.util.attr.d\",function(b){k.stop();p(b,\"array\")&&p(b[0],\"array\")&&(b=a.path.toString.call(b));b=r(b);b.match(/[ruo]/i)&&(b=a.path.toAbsolute(b));e(this.node,{d:b})})(-1);k.on(\"snap.util.attr.#text\",function(a){k.stop();a=r(a);for(a=M.doc.createTextNode(a);this.node.firstChild;)this.node.removeChild(this.node.firstChild);this.node.appendChild(a)})(-1);k.on(\"snap.util.attr.path\",function(a){k.stop();this.attr({d:a})})(-1);\n",
       "k.on(\"snap.util.attr.class\",function(a){k.stop();this.node.className.baseVal=a})(-1);k.on(\"snap.util.attr.viewBox\",function(a){a=p(a,\"object\")&&\"x\"in a?[a.x,a.y,a.width,a.height].join(\" \"):p(a,\"array\")?a.join(\" \"):a;e(this.node,{viewBox:a});k.stop()})(-1);k.on(\"snap.util.attr.transform\",function(a){this.transform(a);k.stop()})(-1);k.on(\"snap.util.attr.r\",function(a){\"rect\"==this.type&&(k.stop(),e(this.node,{rx:a,ry:a}))})(-1);k.on(\"snap.util.attr.textpath\",function(a){k.stop();if(\"text\"==this.type){var d,\n",
       "f;if(!a&&this.textPath){for(a=this.textPath;a.node.firstChild;)this.node.appendChild(a.node.firstChild);a.remove();delete this.textPath}else if(p(a,\"string\")?(d=b(this),a=u(d.parentNode).path(a),d.appendChild(a.node),d=a.id,a.attr({id:d})):(a=u(a),a instanceof v&&(d=a.attr(\"id\"),d||(d=a.id,a.attr({id:d})))),d)if(a=this.textPath,f=this.node,a)a.attr({\"xlink:href\":\"#\"+d});else{for(a=e(\"textPath\",{\"xlink:href\":\"#\"+d});f.firstChild;)a.appendChild(f.firstChild);f.appendChild(a);this.textPath=u(a)}}})(-1);\n",
       "k.on(\"snap.util.attr.text\",function(a){if(\"text\"==this.type){for(var b=this.node,d=function(a){var b=e(\"tspan\");if(p(a,\"array\"))for(var f=0;f<a.length;f++)b.appendChild(d(a[f]));else b.appendChild(M.doc.createTextNode(a));b.normalize&&b.normalize();return b};b.firstChild;)b.removeChild(b.firstChild);for(a=d(a);a.firstChild;)b.appendChild(a.firstChild)}k.stop()})(-1);k.on(\"snap.util.attr.fontSize\",z)(-1);k.on(\"snap.util.attr.font-size\",z)(-1);k.on(\"snap.util.getattr.transform\",function(){k.stop();\n",
       "return this.transform()})(-1);k.on(\"snap.util.getattr.textpath\",function(){k.stop();return this.textPath})(-1);(function(){function b(d){return function(){k.stop();var b=M.doc.defaultView.getComputedStyle(this.node,null).getPropertyValue(\"marker-\"+d);return\"none\"==b?b:a(M.doc.getElementById(b.match(q)[1]))}}function d(a){return function(b){k.stop();var d=\"marker\"+a.charAt(0).toUpperCase()+a.substring(1);if(\"\"==b||!b)this.node.style[d]=\"none\";else if(\"marker\"==b.type){var f=b.node.id;f||e(b.node,{id:b.id});\n",
       "this.node.style[d]=l(f)}}}k.on(\"snap.util.getattr.marker-end\",b(\"end\"))(-1);k.on(\"snap.util.getattr.markerEnd\",b(\"end\"))(-1);k.on(\"snap.util.getattr.marker-start\",b(\"start\"))(-1);k.on(\"snap.util.getattr.markerStart\",b(\"start\"))(-1);k.on(\"snap.util.getattr.marker-mid\",b(\"mid\"))(-1);k.on(\"snap.util.getattr.markerMid\",b(\"mid\"))(-1);k.on(\"snap.util.attr.marker-end\",d(\"end\"))(-1);k.on(\"snap.util.attr.markerEnd\",d(\"end\"))(-1);k.on(\"snap.util.attr.marker-start\",d(\"start\"))(-1);k.on(\"snap.util.attr.markerStart\",\n",
       "d(\"start\"))(-1);k.on(\"snap.util.attr.marker-mid\",d(\"mid\"))(-1);k.on(\"snap.util.attr.markerMid\",d(\"mid\"))(-1)})();k.on(\"snap.util.getattr.r\",function(){if(\"rect\"==this.type&&e(this.node,\"rx\")==e(this.node,\"ry\"))return k.stop(),e(this.node,\"rx\")})(-1);k.on(\"snap.util.getattr.text\",function(){if(\"text\"==this.type||\"tspan\"==this.type){k.stop();var a=d(this.node);return 1==a.length?a[0]:a}})(-1);k.on(\"snap.util.getattr.#text\",function(){return this.node.textContent})(-1);k.on(\"snap.util.getattr.viewBox\",\n",
       "function(){k.stop();var b=e(this.node,\"viewBox\");if(b)return b=b.split(s),a._.box(+b[0],+b[1],+b[2],+b[3])})(-1);k.on(\"snap.util.getattr.points\",function(){var a=e(this.node,\"points\");k.stop();if(a)return a.split(s)})(-1);k.on(\"snap.util.getattr.path\",function(){var a=e(this.node,\"d\");k.stop();return a})(-1);k.on(\"snap.util.getattr.class\",function(){return this.node.className.baseVal})(-1);k.on(\"snap.util.getattr.fontSize\",f)(-1);k.on(\"snap.util.getattr.font-size\",f)(-1)});C.plugin(function(a,v,y,\n",
       "M,A){function w(a){return a}function z(a){return function(b){return+b.toFixed(3)+a}}var d={\"+\":function(a,b){return a+b},\"-\":function(a,b){return a-b},\"/\":function(a,b){return a/b},\"*\":function(a,b){return a*b}},f=String,n=/[a-z]+$/i,u=/^\\s*([+\\-\\/*])\\s*=\\s*([\\d.eE+\\-]+)\\s*([^\\d\\s]+)?\\s*$/;k.on(\"snap.util.attr\",function(a){if(a=f(a).match(u)){var b=k.nt(),b=b.substring(b.lastIndexOf(\".\")+1),q=this.attr(b),e={};k.stop();var l=a[3]||\"\",r=q.match(n),s=d[a[1] ];r&&r==l?a=s(parseFloat(q),+a[2]):(q=this.asPX(b),\n",
       "a=s(this.asPX(b),this.asPX(b,a[2]+l)));isNaN(q)||isNaN(a)||(e[b]=a,this.attr(e))}})(-10);k.on(\"snap.util.equal\",function(a,b){var q=f(this.attr(a)||\"\"),e=f(b).match(u);if(e){k.stop();var l=e[3]||\"\",r=q.match(n),s=d[e[1] ];if(r&&r==l)return{from:parseFloat(q),to:s(parseFloat(q),+e[2]),f:z(r)};q=this.asPX(a);return{from:q,to:s(q,this.asPX(a,e[2]+l)),f:w}}})(-10)});C.plugin(function(a,v,y,M,A){var w=y.prototype,z=a.is;w.rect=function(a,d,k,p,b,q){var e;null==q&&(q=b);z(a,\"object\")&&\"[object Object]\"==\n",
       "a?e=a:null!=a&&(e={x:a,y:d,width:k,height:p},null!=b&&(e.rx=b,e.ry=q));return this.el(\"rect\",e)};w.circle=function(a,d,k){var p;z(a,\"object\")&&\"[object Object]\"==a?p=a:null!=a&&(p={cx:a,cy:d,r:k});return this.el(\"circle\",p)};var d=function(){function a(){this.parentNode.removeChild(this)}return function(d,k){var p=M.doc.createElement(\"img\"),b=M.doc.body;p.style.cssText=\"position:absolute;left:-9999em;top:-9999em\";p.onload=function(){k.call(p);p.onload=p.onerror=null;b.removeChild(p)};p.onerror=a;\n",
       "b.appendChild(p);p.src=d}}();w.image=function(f,n,k,p,b){var q=this.el(\"image\");if(z(f,\"object\")&&\"src\"in f)q.attr(f);else if(null!=f){var e={\"xlink:href\":f,preserveAspectRatio:\"none\"};null!=n&&null!=k&&(e.x=n,e.y=k);null!=p&&null!=b?(e.width=p,e.height=b):d(f,function(){a._.$(q.node,{width:this.offsetWidth,height:this.offsetHeight})});a._.$(q.node,e)}return q};w.ellipse=function(a,d,k,p){var b;z(a,\"object\")&&\"[object Object]\"==a?b=a:null!=a&&(b={cx:a,cy:d,rx:k,ry:p});return this.el(\"ellipse\",b)};\n",
       "w.path=function(a){var d;z(a,\"object\")&&!z(a,\"array\")?d=a:a&&(d={d:a});return this.el(\"path\",d)};w.group=w.g=function(a){var d=this.el(\"g\");1==arguments.length&&a&&!a.type?d.attr(a):arguments.length&&d.add(Array.prototype.slice.call(arguments,0));return d};w.svg=function(a,d,k,p,b,q,e,l){var r={};z(a,\"object\")&&null==d?r=a:(null!=a&&(r.x=a),null!=d&&(r.y=d),null!=k&&(r.width=k),null!=p&&(r.height=p),null!=b&&null!=q&&null!=e&&null!=l&&(r.viewBox=[b,q,e,l]));return this.el(\"svg\",r)};w.mask=function(a){var d=\n",
       "this.el(\"mask\");1==arguments.length&&a&&!a.type?d.attr(a):arguments.length&&d.add(Array.prototype.slice.call(arguments,0));return d};w.ptrn=function(a,d,k,p,b,q,e,l){if(z(a,\"object\"))var r=a;else arguments.length?(r={},null!=a&&(r.x=a),null!=d&&(r.y=d),null!=k&&(r.width=k),null!=p&&(r.height=p),null!=b&&null!=q&&null!=e&&null!=l&&(r.viewBox=[b,q,e,l])):r={patternUnits:\"userSpaceOnUse\"};return this.el(\"pattern\",r)};w.use=function(a){return null!=a?(make(\"use\",this.node),a instanceof v&&(a.attr(\"id\")||\n",
       "a.attr({id:ID()}),a=a.attr(\"id\")),this.el(\"use\",{\"xlink:href\":a})):v.prototype.use.call(this)};w.text=function(a,d,k){var p={};z(a,\"object\")?p=a:null!=a&&(p={x:a,y:d,text:k||\"\"});return this.el(\"text\",p)};w.line=function(a,d,k,p){var b={};z(a,\"object\")?b=a:null!=a&&(b={x1:a,x2:k,y1:d,y2:p});return this.el(\"line\",b)};w.polyline=function(a){1<arguments.length&&(a=Array.prototype.slice.call(arguments,0));var d={};z(a,\"object\")&&!z(a,\"array\")?d=a:null!=a&&(d={points:a});return this.el(\"polyline\",d)};\n",
       "w.polygon=function(a){1<arguments.length&&(a=Array.prototype.slice.call(arguments,0));var d={};z(a,\"object\")&&!z(a,\"array\")?d=a:null!=a&&(d={points:a});return this.el(\"polygon\",d)};(function(){function d(){return this.selectAll(\"stop\")}function n(b,d){var f=e(\"stop\"),k={offset:+d+\"%\"};b=a.color(b);k[\"stop-color\"]=b.hex;1>b.opacity&&(k[\"stop-opacity\"]=b.opacity);e(f,k);this.node.appendChild(f);return this}function u(){if(\"linearGradient\"==this.type){var b=e(this.node,\"x1\")||0,d=e(this.node,\"x2\")||\n",
       "1,f=e(this.node,\"y1\")||0,k=e(this.node,\"y2\")||0;return a._.box(b,f,math.abs(d-b),math.abs(k-f))}b=this.node.r||0;return a._.box((this.node.cx||0.5)-b,(this.node.cy||0.5)-b,2*b,2*b)}function p(a,d){function f(a,b){for(var d=(b-u)/(a-w),e=w;e<a;e++)h[e].offset=+(+u+d*(e-w)).toFixed(2);w=a;u=b}var n=k(\"snap.util.grad.parse\",null,d).firstDefined(),p;if(!n)return null;n.params.unshift(a);p=\"l\"==n.type.toLowerCase()?b.apply(0,n.params):q.apply(0,n.params);n.type!=n.type.toLowerCase()&&e(p.node,{gradientUnits:\"userSpaceOnUse\"});\n",
       "var h=n.stops,n=h.length,u=0,w=0;n--;for(var v=0;v<n;v++)\"offset\"in h[v]&&f(v,h[v].offset);h[n].offset=h[n].offset||100;f(n,h[n].offset);for(v=0;v<=n;v++){var y=h[v];p.addStop(y.color,y.offset)}return p}function b(b,k,p,q,w){b=a._.make(\"linearGradient\",b);b.stops=d;b.addStop=n;b.getBBox=u;null!=k&&e(b.node,{x1:k,y1:p,x2:q,y2:w});return b}function q(b,k,p,q,w,h){b=a._.make(\"radialGradient\",b);b.stops=d;b.addStop=n;b.getBBox=u;null!=k&&e(b.node,{cx:k,cy:p,r:q});null!=w&&null!=h&&e(b.node,{fx:w,fy:h});\n",
       "return b}var e=a._.$;w.gradient=function(a){return p(this.defs,a)};w.gradientLinear=function(a,d,e,f){return b(this.defs,a,d,e,f)};w.gradientRadial=function(a,b,d,e,f){return q(this.defs,a,b,d,e,f)};w.toString=function(){var b=this.node.ownerDocument,d=b.createDocumentFragment(),b=b.createElement(\"div\"),e=this.node.cloneNode(!0);d.appendChild(b);b.appendChild(e);a._.$(e,{xmlns:\"http://www.w3.org/2000/svg\"});b=b.innerHTML;d.removeChild(d.firstChild);return b};w.clear=function(){for(var a=this.node.firstChild,\n",
       "b;a;)b=a.nextSibling,\"defs\"!=a.tagName?a.parentNode.removeChild(a):w.clear.call({node:a}),a=b}})()});C.plugin(function(a,k,y,M){function A(a){var b=A.ps=A.ps||{};b[a]?b[a].sleep=100:b[a]={sleep:100};setTimeout(function(){for(var d in b)b[L](d)&&d!=a&&(b[d].sleep--,!b[d].sleep&&delete b[d])});return b[a]}function w(a,b,d,e){null==a&&(a=b=d=e=0);null==b&&(b=a.y,d=a.width,e=a.height,a=a.x);return{x:a,y:b,width:d,w:d,height:e,h:e,x2:a+d,y2:b+e,cx:a+d/2,cy:b+e/2,r1:F.min(d,e)/2,r2:F.max(d,e)/2,r0:F.sqrt(d*\n",
       "d+e*e)/2,path:s(a,b,d,e),vb:[a,b,d,e].join(\" \")}}function z(){return this.join(\",\").replace(N,\"$1\")}function d(a){a=C(a);a.toString=z;return a}function f(a,b,d,h,f,k,l,n,p){if(null==p)return e(a,b,d,h,f,k,l,n);if(0>p||e(a,b,d,h,f,k,l,n)<p)p=void 0;else{var q=0.5,O=1-q,s;for(s=e(a,b,d,h,f,k,l,n,O);0.01<Z(s-p);)q/=2,O+=(s<p?1:-1)*q,s=e(a,b,d,h,f,k,l,n,O);p=O}return u(a,b,d,h,f,k,l,n,p)}function n(b,d){function e(a){return+(+a).toFixed(3)}return a._.cacher(function(a,h,l){a instanceof k&&(a=a.attr(\"d\"));\n",
       "a=I(a);for(var n,p,D,q,O=\"\",s={},c=0,t=0,r=a.length;t<r;t++){D=a[t];if(\"M\"==D[0])n=+D[1],p=+D[2];else{q=f(n,p,D[1],D[2],D[3],D[4],D[5],D[6]);if(c+q>h){if(d&&!s.start){n=f(n,p,D[1],D[2],D[3],D[4],D[5],D[6],h-c);O+=[\"C\"+e(n.start.x),e(n.start.y),e(n.m.x),e(n.m.y),e(n.x),e(n.y)];if(l)return O;s.start=O;O=[\"M\"+e(n.x),e(n.y)+\"C\"+e(n.n.x),e(n.n.y),e(n.end.x),e(n.end.y),e(D[5]),e(D[6])].join();c+=q;n=+D[5];p=+D[6];continue}if(!b&&!d)return n=f(n,p,D[1],D[2],D[3],D[4],D[5],D[6],h-c)}c+=q;n=+D[5];p=+D[6]}O+=\n",
       "D.shift()+D}s.end=O;return n=b?c:d?s:u(n,p,D[0],D[1],D[2],D[3],D[4],D[5],1)},null,a._.clone)}function u(a,b,d,e,h,f,k,l,n){var p=1-n,q=ma(p,3),s=ma(p,2),c=n*n,t=c*n,r=q*a+3*s*n*d+3*p*n*n*h+t*k,q=q*b+3*s*n*e+3*p*n*n*f+t*l,s=a+2*n*(d-a)+c*(h-2*d+a),t=b+2*n*(e-b)+c*(f-2*e+b),x=d+2*n*(h-d)+c*(k-2*h+d),c=e+2*n*(f-e)+c*(l-2*f+e);a=p*a+n*d;b=p*b+n*e;h=p*h+n*k;f=p*f+n*l;l=90-180*F.atan2(s-x,t-c)/S;return{x:r,y:q,m:{x:s,y:t},n:{x:x,y:c},start:{x:a,y:b},end:{x:h,y:f},alpha:l}}function p(b,d,e,h,f,n,k,l){a.is(b,\n",
       "\"array\")||(b=[b,d,e,h,f,n,k,l]);b=U.apply(null,b);return w(b.min.x,b.min.y,b.max.x-b.min.x,b.max.y-b.min.y)}function b(a,b,d){return b>=a.x&&b<=a.x+a.width&&d>=a.y&&d<=a.y+a.height}function q(a,d){a=w(a);d=w(d);return b(d,a.x,a.y)||b(d,a.x2,a.y)||b(d,a.x,a.y2)||b(d,a.x2,a.y2)||b(a,d.x,d.y)||b(a,d.x2,d.y)||b(a,d.x,d.y2)||b(a,d.x2,d.y2)||(a.x<d.x2&&a.x>d.x||d.x<a.x2&&d.x>a.x)&&(a.y<d.y2&&a.y>d.y||d.y<a.y2&&d.y>a.y)}function e(a,b,d,e,h,f,n,k,l){null==l&&(l=1);l=(1<l?1:0>l?0:l)/2;for(var p=[-0.1252,\n",
       "0.1252,-0.3678,0.3678,-0.5873,0.5873,-0.7699,0.7699,-0.9041,0.9041,-0.9816,0.9816],q=[0.2491,0.2491,0.2335,0.2335,0.2032,0.2032,0.1601,0.1601,0.1069,0.1069,0.0472,0.0472],s=0,c=0;12>c;c++)var t=l*p[c]+l,r=t*(t*(-3*a+9*d-9*h+3*n)+6*a-12*d+6*h)-3*a+3*d,t=t*(t*(-3*b+9*e-9*f+3*k)+6*b-12*e+6*f)-3*b+3*e,s=s+q[c]*F.sqrt(r*r+t*t);return l*s}function l(a,b,d){a=I(a);b=I(b);for(var h,f,l,n,k,s,r,O,x,c,t=d?0:[],w=0,v=a.length;w<v;w++)if(x=a[w],\"M\"==x[0])h=k=x[1],f=s=x[2];else{\"C\"==x[0]?(x=[h,f].concat(x.slice(1)),\n",
       "h=x[6],f=x[7]):(x=[h,f,h,f,k,s,k,s],h=k,f=s);for(var G=0,y=b.length;G<y;G++)if(c=b[G],\"M\"==c[0])l=r=c[1],n=O=c[2];else{\"C\"==c[0]?(c=[l,n].concat(c.slice(1)),l=c[6],n=c[7]):(c=[l,n,l,n,r,O,r,O],l=r,n=O);var z;var K=x,B=c;z=d;var H=p(K),J=p(B);if(q(H,J)){for(var H=e.apply(0,K),J=e.apply(0,B),H=~~(H/8),J=~~(J/8),U=[],A=[],F={},M=z?0:[],P=0;P<H+1;P++){var C=u.apply(0,K.concat(P/H));U.push({x:C.x,y:C.y,t:P/H})}for(P=0;P<J+1;P++)C=u.apply(0,B.concat(P/J)),A.push({x:C.x,y:C.y,t:P/J});for(P=0;P<H;P++)for(K=\n",
       "0;K<J;K++){var Q=U[P],L=U[P+1],B=A[K],C=A[K+1],N=0.001>Z(L.x-Q.x)?\"y\":\"x\",S=0.001>Z(C.x-B.x)?\"y\":\"x\",R;R=Q.x;var Y=Q.y,V=L.x,ea=L.y,fa=B.x,ga=B.y,ha=C.x,ia=C.y;if(W(R,V)<X(fa,ha)||X(R,V)>W(fa,ha)||W(Y,ea)<X(ga,ia)||X(Y,ea)>W(ga,ia))R=void 0;else{var $=(R*ea-Y*V)*(fa-ha)-(R-V)*(fa*ia-ga*ha),aa=(R*ea-Y*V)*(ga-ia)-(Y-ea)*(fa*ia-ga*ha),ja=(R-V)*(ga-ia)-(Y-ea)*(fa-ha);if(ja){var $=$/ja,aa=aa/ja,ja=+$.toFixed(2),ba=+aa.toFixed(2);R=ja<+X(R,V).toFixed(2)||ja>+W(R,V).toFixed(2)||ja<+X(fa,ha).toFixed(2)||\n",
       "ja>+W(fa,ha).toFixed(2)||ba<+X(Y,ea).toFixed(2)||ba>+W(Y,ea).toFixed(2)||ba<+X(ga,ia).toFixed(2)||ba>+W(ga,ia).toFixed(2)?void 0:{x:$,y:aa}}else R=void 0}R&&F[R.x.toFixed(4)]!=R.y.toFixed(4)&&(F[R.x.toFixed(4)]=R.y.toFixed(4),Q=Q.t+Z((R[N]-Q[N])/(L[N]-Q[N]))*(L.t-Q.t),B=B.t+Z((R[S]-B[S])/(C[S]-B[S]))*(C.t-B.t),0<=Q&&1>=Q&&0<=B&&1>=B&&(z?M++:M.push({x:R.x,y:R.y,t1:Q,t2:B})))}z=M}else z=z?0:[];if(d)t+=z;else{H=0;for(J=z.length;H<J;H++)z[H].segment1=w,z[H].segment2=G,z[H].bez1=x,z[H].bez2=c;t=t.concat(z)}}}return t}\n",
       "function r(a){var b=A(a);if(b.bbox)return C(b.bbox);if(!a)return w();a=I(a);for(var d=0,e=0,h=[],f=[],l,n=0,k=a.length;n<k;n++)l=a[n],\"M\"==l[0]?(d=l[1],e=l[2],h.push(d),f.push(e)):(d=U(d,e,l[1],l[2],l[3],l[4],l[5],l[6]),h=h.concat(d.min.x,d.max.x),f=f.concat(d.min.y,d.max.y),d=l[5],e=l[6]);a=X.apply(0,h);l=X.apply(0,f);h=W.apply(0,h);f=W.apply(0,f);f=w(a,l,h-a,f-l);b.bbox=C(f);return f}function s(a,b,d,e,h){if(h)return[[\"M\",+a+ +h,b],[\"l\",d-2*h,0],[\"a\",h,h,0,0,1,h,h],[\"l\",0,e-2*h],[\"a\",h,h,0,0,1,\n",
       "-h,h],[\"l\",2*h-d,0],[\"a\",h,h,0,0,1,-h,-h],[\"l\",0,2*h-e],[\"a\",h,h,0,0,1,h,-h],[\"z\"] ];a=[[\"M\",a,b],[\"l\",d,0],[\"l\",0,e],[\"l\",-d,0],[\"z\"] ];a.toString=z;return a}function x(a,b,d,e,h){null==h&&null==e&&(e=d);a=+a;b=+b;d=+d;e=+e;if(null!=h){var f=Math.PI/180,l=a+d*Math.cos(-e*f);a+=d*Math.cos(-h*f);var n=b+d*Math.sin(-e*f);b+=d*Math.sin(-h*f);d=[[\"M\",l,n],[\"A\",d,d,0,+(180<h-e),0,a,b] ]}else d=[[\"M\",a,b],[\"m\",0,-e],[\"a\",d,e,0,1,1,0,2*e],[\"a\",d,e,0,1,1,0,-2*e],[\"z\"] ];d.toString=z;return d}function G(b){var e=\n",
       "A(b);if(e.abs)return d(e.abs);Q(b,\"array\")&&Q(b&&b[0],\"array\")||(b=a.parsePathString(b));if(!b||!b.length)return[[\"M\",0,0] ];var h=[],f=0,l=0,n=0,k=0,p=0;\"M\"==b[0][0]&&(f=+b[0][1],l=+b[0][2],n=f,k=l,p++,h[0]=[\"M\",f,l]);for(var q=3==b.length&&\"M\"==b[0][0]&&\"R\"==b[1][0].toUpperCase()&&\"Z\"==b[2][0].toUpperCase(),s,r,w=p,c=b.length;w<c;w++){h.push(s=[]);r=b[w];p=r[0];if(p!=p.toUpperCase())switch(s[0]=p.toUpperCase(),s[0]){case \"A\":s[1]=r[1];s[2]=r[2];s[3]=r[3];s[4]=r[4];s[5]=r[5];s[6]=+r[6]+f;s[7]=+r[7]+\n",
       "l;break;case \"V\":s[1]=+r[1]+l;break;case \"H\":s[1]=+r[1]+f;break;case \"R\":for(var t=[f,l].concat(r.slice(1)),u=2,v=t.length;u<v;u++)t[u]=+t[u]+f,t[++u]=+t[u]+l;h.pop();h=h.concat(P(t,q));break;case \"O\":h.pop();t=x(f,l,r[1],r[2]);t.push(t[0]);h=h.concat(t);break;case \"U\":h.pop();h=h.concat(x(f,l,r[1],r[2],r[3]));s=[\"U\"].concat(h[h.length-1].slice(-2));break;case \"M\":n=+r[1]+f,k=+r[2]+l;default:for(u=1,v=r.length;u<v;u++)s[u]=+r[u]+(u%2?f:l)}else if(\"R\"==p)t=[f,l].concat(r.slice(1)),h.pop(),h=h.concat(P(t,\n",
       "q)),s=[\"R\"].concat(r.slice(-2));else if(\"O\"==p)h.pop(),t=x(f,l,r[1],r[2]),t.push(t[0]),h=h.concat(t);else if(\"U\"==p)h.pop(),h=h.concat(x(f,l,r[1],r[2],r[3])),s=[\"U\"].concat(h[h.length-1].slice(-2));else for(t=0,u=r.length;t<u;t++)s[t]=r[t];p=p.toUpperCase();if(\"O\"!=p)switch(s[0]){case \"Z\":f=+n;l=+k;break;case \"H\":f=s[1];break;case \"V\":l=s[1];break;case \"M\":n=s[s.length-2],k=s[s.length-1];default:f=s[s.length-2],l=s[s.length-1]}}h.toString=z;e.abs=d(h);return h}function h(a,b,d,e){return[a,b,d,e,d,\n",
       "e]}function J(a,b,d,e,h,f){var l=1/3,n=2/3;return[l*a+n*d,l*b+n*e,l*h+n*d,l*f+n*e,h,f]}function K(b,d,e,h,f,l,n,k,p,s){var r=120*S/180,q=S/180*(+f||0),c=[],t,x=a._.cacher(function(a,b,c){var d=a*F.cos(c)-b*F.sin(c);a=a*F.sin(c)+b*F.cos(c);return{x:d,y:a}});if(s)v=s[0],t=s[1],l=s[2],u=s[3];else{t=x(b,d,-q);b=t.x;d=t.y;t=x(k,p,-q);k=t.x;p=t.y;F.cos(S/180*f);F.sin(S/180*f);t=(b-k)/2;v=(d-p)/2;u=t*t/(e*e)+v*v/(h*h);1<u&&(u=F.sqrt(u),e*=u,h*=u);var u=e*e,w=h*h,u=(l==n?-1:1)*F.sqrt(Z((u*w-u*v*v-w*t*t)/\n",
       "(u*v*v+w*t*t)));l=u*e*v/h+(b+k)/2;var u=u*-h*t/e+(d+p)/2,v=F.asin(((d-u)/h).toFixed(9));t=F.asin(((p-u)/h).toFixed(9));v=b<l?S-v:v;t=k<l?S-t:t;0>v&&(v=2*S+v);0>t&&(t=2*S+t);n&&v>t&&(v-=2*S);!n&&t>v&&(t-=2*S)}if(Z(t-v)>r){var c=t,w=k,G=p;t=v+r*(n&&t>v?1:-1);k=l+e*F.cos(t);p=u+h*F.sin(t);c=K(k,p,e,h,f,0,n,w,G,[t,c,l,u])}l=t-v;f=F.cos(v);r=F.sin(v);n=F.cos(t);t=F.sin(t);l=F.tan(l/4);e=4/3*e*l;l*=4/3*h;h=[b,d];b=[b+e*r,d-l*f];d=[k+e*t,p-l*n];k=[k,p];b[0]=2*h[0]-b[0];b[1]=2*h[1]-b[1];if(s)return[b,d,k].concat(c);\n",
       "c=[b,d,k].concat(c).join().split(\",\");s=[];k=0;for(p=c.length;k<p;k++)s[k]=k%2?x(c[k-1],c[k],q).y:x(c[k],c[k+1],q).x;return s}function U(a,b,d,e,h,f,l,k){for(var n=[],p=[[],[] ],s,r,c,t,q=0;2>q;++q)0==q?(r=6*a-12*d+6*h,s=-3*a+9*d-9*h+3*l,c=3*d-3*a):(r=6*b-12*e+6*f,s=-3*b+9*e-9*f+3*k,c=3*e-3*b),1E-12>Z(s)?1E-12>Z(r)||(s=-c/r,0<s&&1>s&&n.push(s)):(t=r*r-4*c*s,c=F.sqrt(t),0>t||(t=(-r+c)/(2*s),0<t&&1>t&&n.push(t),s=(-r-c)/(2*s),0<s&&1>s&&n.push(s)));for(r=q=n.length;q--;)s=n[q],c=1-s,p[0][q]=c*c*c*a+3*\n",
       "c*c*s*d+3*c*s*s*h+s*s*s*l,p[1][q]=c*c*c*b+3*c*c*s*e+3*c*s*s*f+s*s*s*k;p[0][r]=a;p[1][r]=b;p[0][r+1]=l;p[1][r+1]=k;p[0].length=p[1].length=r+2;return{min:{x:X.apply(0,p[0]),y:X.apply(0,p[1])},max:{x:W.apply(0,p[0]),y:W.apply(0,p[1])}}}function I(a,b){var e=!b&&A(a);if(!b&&e.curve)return d(e.curve);var f=G(a),l=b&&G(b),n={x:0,y:0,bx:0,by:0,X:0,Y:0,qx:null,qy:null},k={x:0,y:0,bx:0,by:0,X:0,Y:0,qx:null,qy:null},p=function(a,b,c){if(!a)return[\"C\",b.x,b.y,b.x,b.y,b.x,b.y];a[0]in{T:1,Q:1}||(b.qx=b.qy=null);\n",
       "switch(a[0]){case \"M\":b.X=a[1];b.Y=a[2];break;case \"A\":a=[\"C\"].concat(K.apply(0,[b.x,b.y].concat(a.slice(1))));break;case \"S\":\"C\"==c||\"S\"==c?(c=2*b.x-b.bx,b=2*b.y-b.by):(c=b.x,b=b.y);a=[\"C\",c,b].concat(a.slice(1));break;case \"T\":\"Q\"==c||\"T\"==c?(b.qx=2*b.x-b.qx,b.qy=2*b.y-b.qy):(b.qx=b.x,b.qy=b.y);a=[\"C\"].concat(J(b.x,b.y,b.qx,b.qy,a[1],a[2]));break;case \"Q\":b.qx=a[1];b.qy=a[2];a=[\"C\"].concat(J(b.x,b.y,a[1],a[2],a[3],a[4]));break;case \"L\":a=[\"C\"].concat(h(b.x,b.y,a[1],a[2]));break;case \"H\":a=[\"C\"].concat(h(b.x,\n",
       "b.y,a[1],b.y));break;case \"V\":a=[\"C\"].concat(h(b.x,b.y,b.x,a[1]));break;case \"Z\":a=[\"C\"].concat(h(b.x,b.y,b.X,b.Y))}return a},s=function(a,b){if(7<a[b].length){a[b].shift();for(var c=a[b];c.length;)q[b]=\"A\",l&&(u[b]=\"A\"),a.splice(b++,0,[\"C\"].concat(c.splice(0,6)));a.splice(b,1);v=W(f.length,l&&l.length||0)}},r=function(a,b,c,d,e){a&&b&&\"M\"==a[e][0]&&\"M\"!=b[e][0]&&(b.splice(e,0,[\"M\",d.x,d.y]),c.bx=0,c.by=0,c.x=a[e][1],c.y=a[e][2],v=W(f.length,l&&l.length||0))},q=[],u=[],c=\"\",t=\"\",x=0,v=W(f.length,\n",
       "l&&l.length||0);for(;x<v;x++){f[x]&&(c=f[x][0]);\"C\"!=c&&(q[x]=c,x&&(t=q[x-1]));f[x]=p(f[x],n,t);\"A\"!=q[x]&&\"C\"==c&&(q[x]=\"C\");s(f,x);l&&(l[x]&&(c=l[x][0]),\"C\"!=c&&(u[x]=c,x&&(t=u[x-1])),l[x]=p(l[x],k,t),\"A\"!=u[x]&&\"C\"==c&&(u[x]=\"C\"),s(l,x));r(f,l,n,k,x);r(l,f,k,n,x);var w=f[x],z=l&&l[x],y=w.length,U=l&&z.length;n.x=w[y-2];n.y=w[y-1];n.bx=$(w[y-4])||n.x;n.by=$(w[y-3])||n.y;k.bx=l&&($(z[U-4])||k.x);k.by=l&&($(z[U-3])||k.y);k.x=l&&z[U-2];k.y=l&&z[U-1]}l||(e.curve=d(f));return l?[f,l]:f}function P(a,\n",
       "b){for(var d=[],e=0,h=a.length;h-2*!b>e;e+=2){var f=[{x:+a[e-2],y:+a[e-1]},{x:+a[e],y:+a[e+1]},{x:+a[e+2],y:+a[e+3]},{x:+a[e+4],y:+a[e+5]}];b?e?h-4==e?f[3]={x:+a[0],y:+a[1]}:h-2==e&&(f[2]={x:+a[0],y:+a[1]},f[3]={x:+a[2],y:+a[3]}):f[0]={x:+a[h-2],y:+a[h-1]}:h-4==e?f[3]=f[2]:e||(f[0]={x:+a[e],y:+a[e+1]});d.push([\"C\",(-f[0].x+6*f[1].x+f[2].x)/6,(-f[0].y+6*f[1].y+f[2].y)/6,(f[1].x+6*f[2].x-f[3].x)/6,(f[1].y+6*f[2].y-f[3].y)/6,f[2].x,f[2].y])}return d}y=k.prototype;var Q=a.is,C=a._.clone,L=\"hasOwnProperty\",\n",
       "N=/,?([a-z]),?/gi,$=parseFloat,F=Math,S=F.PI,X=F.min,W=F.max,ma=F.pow,Z=F.abs;M=n(1);var na=n(),ba=n(0,1),V=a._unit2px;a.path=A;a.path.getTotalLength=M;a.path.getPointAtLength=na;a.path.getSubpath=function(a,b,d){if(1E-6>this.getTotalLength(a)-d)return ba(a,b).end;a=ba(a,d,1);return b?ba(a,b).end:a};y.getTotalLength=function(){if(this.node.getTotalLength)return this.node.getTotalLength()};y.getPointAtLength=function(a){return na(this.attr(\"d\"),a)};y.getSubpath=function(b,d){return a.path.getSubpath(this.attr(\"d\"),\n",
       "b,d)};a._.box=w;a.path.findDotsAtSegment=u;a.path.bezierBBox=p;a.path.isPointInsideBBox=b;a.path.isBBoxIntersect=q;a.path.intersection=function(a,b){return l(a,b)};a.path.intersectionNumber=function(a,b){return l(a,b,1)};a.path.isPointInside=function(a,d,e){var h=r(a);return b(h,d,e)&&1==l(a,[[\"M\",d,e],[\"H\",h.x2+10] ],1)%2};a.path.getBBox=r;a.path.get={path:function(a){return a.attr(\"path\")},circle:function(a){a=V(a);return x(a.cx,a.cy,a.r)},ellipse:function(a){a=V(a);return x(a.cx||0,a.cy||0,a.rx,\n",
       "a.ry)},rect:function(a){a=V(a);return s(a.x||0,a.y||0,a.width,a.height,a.rx,a.ry)},image:function(a){a=V(a);return s(a.x||0,a.y||0,a.width,a.height)},line:function(a){return\"M\"+[a.attr(\"x1\")||0,a.attr(\"y1\")||0,a.attr(\"x2\"),a.attr(\"y2\")]},polyline:function(a){return\"M\"+a.attr(\"points\")},polygon:function(a){return\"M\"+a.attr(\"points\")+\"z\"},deflt:function(a){a=a.node.getBBox();return s(a.x,a.y,a.width,a.height)}};a.path.toRelative=function(b){var e=A(b),h=String.prototype.toLowerCase;if(e.rel)return d(e.rel);\n",
       "a.is(b,\"array\")&&a.is(b&&b[0],\"array\")||(b=a.parsePathString(b));var f=[],l=0,n=0,k=0,p=0,s=0;\"M\"==b[0][0]&&(l=b[0][1],n=b[0][2],k=l,p=n,s++,f.push([\"M\",l,n]));for(var r=b.length;s<r;s++){var q=f[s]=[],x=b[s];if(x[0]!=h.call(x[0]))switch(q[0]=h.call(x[0]),q[0]){case \"a\":q[1]=x[1];q[2]=x[2];q[3]=x[3];q[4]=x[4];q[5]=x[5];q[6]=+(x[6]-l).toFixed(3);q[7]=+(x[7]-n).toFixed(3);break;case \"v\":q[1]=+(x[1]-n).toFixed(3);break;case \"m\":k=x[1],p=x[2];default:for(var c=1,t=x.length;c<t;c++)q[c]=+(x[c]-(c%2?l:\n",
       "n)).toFixed(3)}else for(f[s]=[],\"m\"==x[0]&&(k=x[1]+l,p=x[2]+n),q=0,c=x.length;q<c;q++)f[s][q]=x[q];x=f[s].length;switch(f[s][0]){case \"z\":l=k;n=p;break;case \"h\":l+=+f[s][x-1];break;case \"v\":n+=+f[s][x-1];break;default:l+=+f[s][x-2],n+=+f[s][x-1]}}f.toString=z;e.rel=d(f);return f};a.path.toAbsolute=G;a.path.toCubic=I;a.path.map=function(a,b){if(!b)return a;var d,e,h,f,l,n,k;a=I(a);h=0;for(l=a.length;h<l;h++)for(k=a[h],f=1,n=k.length;f<n;f+=2)d=b.x(k[f],k[f+1]),e=b.y(k[f],k[f+1]),k[f]=d,k[f+1]=e;return a};\n",
       "a.path.toString=z;a.path.clone=d});C.plugin(function(a,v,y,C){var A=Math.max,w=Math.min,z=function(a){this.items=[];this.bindings={};this.length=0;this.type=\"set\";if(a)for(var f=0,n=a.length;f<n;f++)a[f]&&(this[this.items.length]=this.items[this.items.length]=a[f],this.length++)};v=z.prototype;v.push=function(){for(var a,f,n=0,k=arguments.length;n<k;n++)if(a=arguments[n])f=this.items.length,this[f]=this.items[f]=a,this.length++;return this};v.pop=function(){this.length&&delete this[this.length--];\n",
       "return this.items.pop()};v.forEach=function(a,f){for(var n=0,k=this.items.length;n<k&&!1!==a.call(f,this.items[n],n);n++);return this};v.animate=function(d,f,n,u){\"function\"!=typeof n||n.length||(u=n,n=L.linear);d instanceof a._.Animation&&(u=d.callback,n=d.easing,f=n.dur,d=d.attr);var p=arguments;if(a.is(d,\"array\")&&a.is(p[p.length-1],\"array\"))var b=!0;var q,e=function(){q?this.b=q:q=this.b},l=0,r=u&&function(){l++==this.length&&u.call(this)};return this.forEach(function(a,l){k.once(\"snap.animcreated.\"+\n",
       "a.id,e);b?p[l]&&a.animate.apply(a,p[l]):a.animate(d,f,n,r)})};v.remove=function(){for(;this.length;)this.pop().remove();return this};v.bind=function(a,f,k){var u={};if(\"function\"==typeof f)this.bindings[a]=f;else{var p=k||a;this.bindings[a]=function(a){u[p]=a;f.attr(u)}}return this};v.attr=function(a){var f={},k;for(k in a)if(this.bindings[k])this.bindings[k](a[k]);else f[k]=a[k];a=0;for(k=this.items.length;a<k;a++)this.items[a].attr(f);return this};v.clear=function(){for(;this.length;)this.pop()};\n",
       "v.splice=function(a,f,k){a=0>a?A(this.length+a,0):a;f=A(0,w(this.length-a,f));var u=[],p=[],b=[],q;for(q=2;q<arguments.length;q++)b.push(arguments[q]);for(q=0;q<f;q++)p.push(this[a+q]);for(;q<this.length-a;q++)u.push(this[a+q]);var e=b.length;for(q=0;q<e+u.length;q++)this.items[a+q]=this[a+q]=q<e?b[q]:u[q-e];for(q=this.items.length=this.length-=f-e;this[q];)delete this[q++];return new z(p)};v.exclude=function(a){for(var f=0,k=this.length;f<k;f++)if(this[f]==a)return this.splice(f,1),!0;return!1};\n",
       "v.insertAfter=function(a){for(var f=this.items.length;f--;)this.items[f].insertAfter(a);return this};v.getBBox=function(){for(var a=[],f=[],k=[],u=[],p=this.items.length;p--;)if(!this.items[p].removed){var b=this.items[p].getBBox();a.push(b.x);f.push(b.y);k.push(b.x+b.width);u.push(b.y+b.height)}a=w.apply(0,a);f=w.apply(0,f);k=A.apply(0,k);u=A.apply(0,u);return{x:a,y:f,x2:k,y2:u,width:k-a,height:u-f,cx:a+(k-a)/2,cy:f+(u-f)/2}};v.clone=function(a){a=new z;for(var f=0,k=this.items.length;f<k;f++)a.push(this.items[f].clone());\n",
       "return a};v.toString=function(){return\"Snap\\u2018s set\"};v.type=\"set\";a.set=function(){var a=new z;arguments.length&&a.push.apply(a,Array.prototype.slice.call(arguments,0));return a}});C.plugin(function(a,v,y,C){function A(a){var b=a[0];switch(b.toLowerCase()){case \"t\":return[b,0,0];case \"m\":return[b,1,0,0,1,0,0];case \"r\":return 4==a.length?[b,0,a[2],a[3] ]:[b,0];case \"s\":return 5==a.length?[b,1,1,a[3],a[4] ]:3==a.length?[b,1,1]:[b,1]}}function w(b,d,f){d=q(d).replace(/\\.{3}|\\u2026/g,b);b=a.parseTransformString(b)||\n",
       "[];d=a.parseTransformString(d)||[];for(var k=Math.max(b.length,d.length),p=[],v=[],h=0,w,z,y,I;h<k;h++){y=b[h]||A(d[h]);I=d[h]||A(y);if(y[0]!=I[0]||\"r\"==y[0].toLowerCase()&&(y[2]!=I[2]||y[3]!=I[3])||\"s\"==y[0].toLowerCase()&&(y[3]!=I[3]||y[4]!=I[4])){b=a._.transform2matrix(b,f());d=a._.transform2matrix(d,f());p=[[\"m\",b.a,b.b,b.c,b.d,b.e,b.f] ];v=[[\"m\",d.a,d.b,d.c,d.d,d.e,d.f] ];break}p[h]=[];v[h]=[];w=0;for(z=Math.max(y.length,I.length);w<z;w++)w in y&&(p[h][w]=y[w]),w in I&&(v[h][w]=I[w])}return{from:u(p),\n",
       "to:u(v),f:n(p)}}function z(a){return a}function d(a){return function(b){return+b.toFixed(3)+a}}function f(b){return a.rgb(b[0],b[1],b[2])}function n(a){var b=0,d,f,k,n,h,p,q=[];d=0;for(f=a.length;d<f;d++){h=\"[\";p=['\"'+a[d][0]+'\"'];k=1;for(n=a[d].length;k<n;k++)p[k]=\"val[\"+b++ +\"]\";h+=p+\"]\";q[d]=h}return Function(\"val\",\"return Snap.path.toString.call([\"+q+\"])\")}function u(a){for(var b=[],d=0,f=a.length;d<f;d++)for(var k=1,n=a[d].length;k<n;k++)b.push(a[d][k]);return b}var p={},b=/[a-z]+$/i,q=String;\n",
       "p.stroke=p.fill=\"colour\";v.prototype.equal=function(a,b){return k(\"snap.util.equal\",this,a,b).firstDefined()};k.on(\"snap.util.equal\",function(e,k){var r,s;r=q(this.attr(e)||\"\");var x=this;if(r==+r&&k==+k)return{from:+r,to:+k,f:z};if(\"colour\"==p[e])return r=a.color(r),s=a.color(k),{from:[r.r,r.g,r.b,r.opacity],to:[s.r,s.g,s.b,s.opacity],f:f};if(\"transform\"==e||\"gradientTransform\"==e||\"patternTransform\"==e)return k instanceof a.Matrix&&(k=k.toTransformString()),a._.rgTransform.test(k)||(k=a._.svgTransform2string(k)),\n",
       "w(r,k,function(){return x.getBBox(1)});if(\"d\"==e||\"path\"==e)return r=a.path.toCubic(r,k),{from:u(r[0]),to:u(r[1]),f:n(r[0])};if(\"points\"==e)return r=q(r).split(a._.separator),s=q(k).split(a._.separator),{from:r,to:s,f:function(a){return a}};aUnit=r.match(b);s=q(k).match(b);return aUnit&&aUnit==s?{from:parseFloat(r),to:parseFloat(k),f:d(aUnit)}:{from:this.asPX(e),to:this.asPX(e,k),f:z}})});C.plugin(function(a,v,y,C){var A=v.prototype,w=\"createTouch\"in C.doc;v=\"click dblclick mousedown mousemove mouseout mouseover mouseup touchstart touchmove touchend touchcancel\".split(\" \");\n",
       "var z={mousedown:\"touchstart\",mousemove:\"touchmove\",mouseup:\"touchend\"},d=function(a,b){var d=\"y\"==a?\"scrollTop\":\"scrollLeft\",e=b&&b.node?b.node.ownerDocument:C.doc;return e[d in e.documentElement?\"documentElement\":\"body\"][d]},f=function(){this.returnValue=!1},n=function(){return this.originalEvent.preventDefault()},u=function(){this.cancelBubble=!0},p=function(){return this.originalEvent.stopPropagation()},b=function(){if(C.doc.addEventListener)return function(a,b,e,f){var k=w&&z[b]?z[b]:b,l=function(k){var l=\n",
       "d(\"y\",f),q=d(\"x\",f);if(w&&z.hasOwnProperty(b))for(var r=0,u=k.targetTouches&&k.targetTouches.length;r<u;r++)if(k.targetTouches[r].target==a||a.contains(k.targetTouches[r].target)){u=k;k=k.targetTouches[r];k.originalEvent=u;k.preventDefault=n;k.stopPropagation=p;break}return e.call(f,k,k.clientX+q,k.clientY+l)};b!==k&&a.addEventListener(b,l,!1);a.addEventListener(k,l,!1);return function(){b!==k&&a.removeEventListener(b,l,!1);a.removeEventListener(k,l,!1);return!0}};if(C.doc.attachEvent)return function(a,\n",
       "b,e,h){var k=function(a){a=a||h.node.ownerDocument.window.event;var b=d(\"y\",h),k=d(\"x\",h),k=a.clientX+k,b=a.clientY+b;a.preventDefault=a.preventDefault||f;a.stopPropagation=a.stopPropagation||u;return e.call(h,a,k,b)};a.attachEvent(\"on\"+b,k);return function(){a.detachEvent(\"on\"+b,k);return!0}}}(),q=[],e=function(a){for(var b=a.clientX,e=a.clientY,f=d(\"y\"),l=d(\"x\"),n,p=q.length;p--;){n=q[p];if(w)for(var r=a.touches&&a.touches.length,u;r--;){if(u=a.touches[r],u.identifier==n.el._drag.id||n.el.node.contains(u.target)){b=\n",
       "u.clientX;e=u.clientY;(a.originalEvent?a.originalEvent:a).preventDefault();break}}else a.preventDefault();b+=l;e+=f;k(\"snap.drag.move.\"+n.el.id,n.move_scope||n.el,b-n.el._drag.x,e-n.el._drag.y,b,e,a)}},l=function(b){a.unmousemove(e).unmouseup(l);for(var d=q.length,f;d--;)f=q[d],f.el._drag={},k(\"snap.drag.end.\"+f.el.id,f.end_scope||f.start_scope||f.move_scope||f.el,b);q=[]};for(y=v.length;y--;)(function(d){a[d]=A[d]=function(e,f){a.is(e,\"function\")&&(this.events=this.events||[],this.events.push({name:d,\n",
       "f:e,unbind:b(this.node||document,d,e,f||this)}));return this};a[\"un\"+d]=A[\"un\"+d]=function(a){for(var b=this.events||[],e=b.length;e--;)if(b[e].name==d&&(b[e].f==a||!a)){b[e].unbind();b.splice(e,1);!b.length&&delete this.events;break}return this}})(v[y]);A.hover=function(a,b,d,e){return this.mouseover(a,d).mouseout(b,e||d)};A.unhover=function(a,b){return this.unmouseover(a).unmouseout(b)};var r=[];A.drag=function(b,d,f,h,n,p){function u(r,v,w){(r.originalEvent||r).preventDefault();this._drag.x=v;\n",
       "this._drag.y=w;this._drag.id=r.identifier;!q.length&&a.mousemove(e).mouseup(l);q.push({el:this,move_scope:h,start_scope:n,end_scope:p});d&&k.on(\"snap.drag.start.\"+this.id,d);b&&k.on(\"snap.drag.move.\"+this.id,b);f&&k.on(\"snap.drag.end.\"+this.id,f);k(\"snap.drag.start.\"+this.id,n||h||this,v,w,r)}if(!arguments.length){var v;return this.drag(function(a,b){this.attr({transform:v+(v?\"T\":\"t\")+[a,b]})},function(){v=this.transform().local})}this._drag={};r.push({el:this,start:u});this.mousedown(u);return this};\n",
       "A.undrag=function(){for(var b=r.length;b--;)r[b].el==this&&(this.unmousedown(r[b].start),r.splice(b,1),k.unbind(\"snap.drag.*.\"+this.id));!r.length&&a.unmousemove(e).unmouseup(l);return this}});C.plugin(function(a,v,y,C){y=y.prototype;var A=/^\\s*url\\((.+)\\)/,w=String,z=a._.$;a.filter={};y.filter=function(d){var f=this;\"svg\"!=f.type&&(f=f.paper);d=a.parse(w(d));var k=a._.id(),u=z(\"filter\");z(u,{id:k,filterUnits:\"userSpaceOnUse\"});u.appendChild(d.node);f.defs.appendChild(u);return new v(u)};k.on(\"snap.util.getattr.filter\",\n",
       "function(){k.stop();var d=z(this.node,\"filter\");if(d)return(d=w(d).match(A))&&a.select(d[1])});k.on(\"snap.util.attr.filter\",function(d){if(d instanceof v&&\"filter\"==d.type){k.stop();var f=d.node.id;f||(z(d.node,{id:d.id}),f=d.id);z(this.node,{filter:a.url(f)})}d&&\"none\"!=d||(k.stop(),this.node.removeAttribute(\"filter\"))});a.filter.blur=function(d,f){null==d&&(d=2);return a.format('<feGaussianBlur stdDeviation=\"{def}\"/>',{def:null==f?d:[d,f]})};a.filter.blur.toString=function(){return this()};a.filter.shadow=\n",
       "function(d,f,k,u,p){\"string\"==typeof k&&(p=u=k,k=4);\"string\"!=typeof u&&(p=u,u=\"#000\");null==k&&(k=4);null==p&&(p=1);null==d&&(d=0,f=2);null==f&&(f=d);u=a.color(u||\"#000\");return a.format('<feGaussianBlur in=\"SourceAlpha\" stdDeviation=\"{blur}\"/><feOffset dx=\"{dx}\" dy=\"{dy}\" result=\"offsetblur\"/><feFlood flood-color=\"{color}\"/><feComposite in2=\"offsetblur\" operator=\"in\"/><feComponentTransfer><feFuncA type=\"linear\" slope=\"{opacity}\"/></feComponentTransfer><feMerge><feMergeNode/><feMergeNode in=\"SourceGraphic\"/></feMerge>',\n",
       "{color:u,dx:d,dy:f,blur:k,opacity:p})};a.filter.shadow.toString=function(){return this()};a.filter.grayscale=function(d){null==d&&(d=1);return a.format('<feColorMatrix type=\"matrix\" values=\"{a} {b} {c} 0 0 {d} {e} {f} 0 0 {g} {b} {h} 0 0 0 0 0 1 0\"/>',{a:0.2126+0.7874*(1-d),b:0.7152-0.7152*(1-d),c:0.0722-0.0722*(1-d),d:0.2126-0.2126*(1-d),e:0.7152+0.2848*(1-d),f:0.0722-0.0722*(1-d),g:0.2126-0.2126*(1-d),h:0.0722+0.9278*(1-d)})};a.filter.grayscale.toString=function(){return this()};a.filter.sepia=\n",
       "function(d){null==d&&(d=1);return a.format('<feColorMatrix type=\"matrix\" values=\"{a} {b} {c} 0 0 {d} {e} {f} 0 0 {g} {h} {i} 0 0 0 0 0 1 0\"/>',{a:0.393+0.607*(1-d),b:0.769-0.769*(1-d),c:0.189-0.189*(1-d),d:0.349-0.349*(1-d),e:0.686+0.314*(1-d),f:0.168-0.168*(1-d),g:0.272-0.272*(1-d),h:0.534-0.534*(1-d),i:0.131+0.869*(1-d)})};a.filter.sepia.toString=function(){return this()};a.filter.saturate=function(d){null==d&&(d=1);return a.format('<feColorMatrix type=\"saturate\" values=\"{amount}\"/>',{amount:1-\n",
       "d})};a.filter.saturate.toString=function(){return this()};a.filter.hueRotate=function(d){return a.format('<feColorMatrix type=\"hueRotate\" values=\"{angle}\"/>',{angle:d||0})};a.filter.hueRotate.toString=function(){return this()};a.filter.invert=function(d){null==d&&(d=1);return a.format('<feComponentTransfer><feFuncR type=\"table\" tableValues=\"{amount} {amount2}\"/><feFuncG type=\"table\" tableValues=\"{amount} {amount2}\"/><feFuncB type=\"table\" tableValues=\"{amount} {amount2}\"/></feComponentTransfer>',{amount:d,\n",
       "amount2:1-d})};a.filter.invert.toString=function(){return this()};a.filter.brightness=function(d){null==d&&(d=1);return a.format('<feComponentTransfer><feFuncR type=\"linear\" slope=\"{amount}\"/><feFuncG type=\"linear\" slope=\"{amount}\"/><feFuncB type=\"linear\" slope=\"{amount}\"/></feComponentTransfer>',{amount:d})};a.filter.brightness.toString=function(){return this()};a.filter.contrast=function(d){null==d&&(d=1);return a.format('<feComponentTransfer><feFuncR type=\"linear\" slope=\"{amount}\" intercept=\"{amount2}\"/><feFuncG type=\"linear\" slope=\"{amount}\" intercept=\"{amount2}\"/><feFuncB type=\"linear\" slope=\"{amount}\" intercept=\"{amount2}\"/></feComponentTransfer>',\n",
       "{amount:d,amount2:0.5-d/2})};a.filter.contrast.toString=function(){return this()}});return C});\n",
       "\n",
       "]]> </script>\n",
       "</svg>\n"
      ],
      "text/plain": [
       "Compose.Context(Measures.BoundingBox{Tuple{Measures.Length{:w,Float64},Measures.Length{:h,Float64}},Tuple{Measures.Length{:w,Float64},Measures.Length{:h,Float64}}}((0.0w, 0.0h), (1.0w, 1.0h)), Compose.UnitBox{Float64,Float64,Float64,Float64}(-1.2, -1.2, 2.4, 2.4, 0.0mm, 0.0mm, 0.0mm, 0.0mm), nothing, nothing, nothing, List([Compose.Context(Measures.BoundingBox{Tuple{Measures.Length{:w,Float64},Measures.Length{:h,Float64}},Tuple{Measures.Length{:w,Float64},Measures.Length{:h,Float64}}}((0.0w, 0.0h), (1.0w, 1.0h)), nothing, nothing, nothing, nothing, List([]), List([Compose.Form{Compose.LinePrimitive}(Compose.LinePrimitive[LinePrimitive{Tuple{Measure,Measure}}(Tuple{Measures.Measure,Measures.Measure}[(-0.166697cx, -0.309145cy), (-0.518264cx, 0.0293439cy)]), LinePrimitive{Tuple{Measure,Measure}}(Tuple{Measures.Measure,Measures.Measure}[(-0.0307789cx, -0.360206cy), (0.501688cx, -0.334771cy)]), LinePrimitive{Tuple{Measure,Measure}}(Tuple{Measures.Measure,Measures.Measure}[(-0.0510907cx, -0.310972cy), (0.0910446cx, -0.182527cy)]), LinePrimitive{Tuple{Measure,Measure}}(Tuple{Measures.Measure,Measures.Measure}[(-0.185269cx, -0.387349cy), (-0.445564cx, -0.467898cy)]), LinePrimitive{Tuple{Measure,Measure}}(Tuple{Measures.Measure,Measures.Measure}[(-0.565848cx, 0.162676cy), (-0.499916cx, 0.715186cy)]), LinePrimitive{Tuple{Measure,Measure}}(Tuple{Measures.Measure,Measures.Measure}[(-0.567812cx, 0.0054667cy), (-0.528491cx, -0.41256cy)]), LinePrimitive{Tuple{Measure,Measure}}(Tuple{Measures.Measure,Measures.Measure}[(-0.416158cx, 0.820445cy), (0.00863242cx, 0.973242cy)]), LinePrimitive{Tuple{Measure,Measure}}(Tuple{Measures.Measure,Measures.Measure}[(0.133984cx, 0.93956cy), (0.472978cx, 0.537514cy)]), LinePrimitive{Tuple{Measure,Measure}}(Tuple{Measures.Measure,Measures.Measure}[(0.58604cx, 0.428152cy), (0.937899cx, 0.150963cy)]), LinePrimitive{Tuple{Measure,Measure}}(Tuple{Measures.Measure,Measures.Measure}[(0.482429cx, 0.409792cy), (0.19121cx, -0.0622392cy)]), LinePrimitive{Tuple{Measure,Measure}}(Tuple{Measures.Measure,Measures.Measure}[(0.945003cx, 0.0452478cy), (0.635651cx, -0.274206cy)]), LinePrimitive{Tuple{Measure,Measure}}(Tuple{Measures.Measure,Measures.Measure}[(0.509038cx, -0.297517cy), (0.221316cx, -0.163003cy)]), LinePrimitive{Tuple{Measure,Measure}}(Tuple{Measures.Measure,Measures.Measure}[(0.0801164cx, -0.167047cy), (-0.451504cx, -0.453744cy)]), LinePrimitive{Tuple{Measure,Measure}}(Tuple{Measures.Measure,Measures.Measure}[(-0.445564cx, -0.467898cy), (-0.185269cx, -0.387349cy)]), LinePrimitive{Tuple{Measure,Measure}}(Tuple{Measures.Measure,Measures.Measure}[(-0.575277cx, -0.548832cy), (-0.945811cx, -0.942437cy)])], Symbol(\"\"))]), List([Compose.Property{Compose.LineWidthPrimitive}(Compose.LineWidthPrimitive[LineWidthPrimitive(0.948683mm)]), Compose.Property{Compose.FillPrimitive}(Compose.FillPrimitive[FillPrimitive(RGBA{Float64}(0.0,0.0,0.0,0.0))]), Compose.Property{Compose.StrokePrimitive}(Compose.StrokePrimitive[StrokePrimitive(RGBA{Float64}(0.827451,0.827451,0.827451,1.0))])]), 0, false, false, false, false, nothing, nothing, 0.0, Symbol(\"\")), Compose.Context(Measures.BoundingBox{Tuple{Measures.Length{:w,Float64},Measures.Length{:h,Float64}},Tuple{Measures.Length{:w,Float64},Measures.Length{:h,Float64}}}((0.0w, 0.0h), (1.0w, 1.0h)), nothing, nothing, nothing, nothing, List([]), List([Compose.Form{Compose.LinePrimitive}(Compose.LinePrimitive[LinePrimitive{Tuple{Measure,Measure}}(Tuple{Measures.Measure,Measures.Measure}[(-0.426849cx, -0.011193cy), (-0.518264cx, 0.0293439cy), (-0.474293cx, -0.0604698cy)]), LinePrimitive{Tuple{Measure,Measure}}(Tuple{Measures.Measure,Measures.Measure}[(0.409457cx, -0.373418cy), (0.501688cx, -0.334771cy), (0.406194cx, -0.305091cy)]), LinePrimitive{Tuple{Measure,Measure}}(Tuple{Measures.Measure,Measures.Measure}[(0.0442571cx, -0.270907cy), (0.0910446cx, -0.182527cy), (-0.00160594cx, -0.220155cy)]), LinePrimitive{Tuple{Measure,Measure}}(Tuple{Measures.Measure,Measures.Measure}[(-0.365906cx, -0.407445cy), (-0.445564cx, -0.467898cy), (-0.345684cx, -0.472792cy)]), LinePrimitive{Tuple{Measure,Measure}}(Tuple{Measures.Measure,Measures.Measure}[(-0.47709cx, 0.617827cy), (-0.499916cx, 0.715186cy), (-0.545012cx, 0.625932cy)]), LinePrimitive{Tuple{Measure,Measure}}(Tuple{Measures.Measure,Measures.Measure}[(-0.571343cx, -0.322206cy), (-0.528491cx, -0.41256cy), (-0.50324cx, -0.3158cy)]), LinePrimitive{Tuple{Measure,Measure}}(Tuple{Measures.Measure,Measures.Measure}[(-0.0682142cx, 0.909253cy), (0.00863242cx, 0.973242cy), (-0.0913669cx, 0.973619cy)]), LinePrimitive{Tuple{Measure,Measure}}(Tuple{Measures.Measure,Measures.Measure}[(0.386257cx, 0.587307cy), (0.472978cx, 0.537514cy), (0.438552cx, 0.631401cy)]), LinePrimitive{Tuple{Measure,Measure}}(Tuple{Measures.Measure,Measures.Measure}[(0.842918cx, 0.182247cy), (0.937899cx, 0.150963cy), (0.885248cx, 0.23598cy)]), LinePrimitive{Tuple{Measure,Measure}}(Tuple{Measures.Measure,Measures.Measure}[(0.211441cx, 0.0356928cy), (0.19121cx, -0.0622392cy), (0.269658cx, -0.000223633cy)]), LinePrimitive{Tuple{Measure,Measure}}(Tuple{Measures.Measure,Measures.Measure}[(0.676452cx, -0.182909cy), (0.635651cx, -0.274206cy), (0.725591cx, -0.230494cy)]), LinePrimitive{Tuple{Measure,Measure}}(Tuple{Measures.Measure,Measures.Measure}[(0.320927cx, -0.171818cy), (0.221316cx, -0.163003cy), (0.291957cx, -0.233784cy)]), LinePrimitive{Tuple{Measure,Measure}}(Tuple{Measures.Measure,Measures.Measure}[(-0.38503cx, -0.379036cy), (-0.451504cx, -0.453744cy), (-0.352561cx, -0.439243cy)]), LinePrimitive{Tuple{Measure,Measure}}(Tuple{Measures.Measure,Measures.Measure}[(-0.264928cx, -0.447802cy), (-0.185269cx, -0.387349cy), (-0.285149cx, -0.382455cy)]), LinePrimitive{Tuple{Measure,Measure}}(Tuple{Measures.Measure,Measures.Measure}[(-0.906303cx, -0.850572cy), (-0.945811cx, -0.942437cy), (-0.856497cx, -0.897459cy)])], Symbol(\"\"))]), List([Compose.Property{Compose.LineWidthPrimitive}(Compose.LineWidthPrimitive[LineWidthPrimitive(0.948683mm)]), Compose.Property{Compose.StrokePrimitive}(Compose.StrokePrimitive[StrokePrimitive(RGBA{Float64}(0.827451,0.827451,0.827451,1.0))])]), 0, false, false, false, false, nothing, nothing, 0.0, Symbol(\"\")), Compose.Context(Measures.BoundingBox{Tuple{Measures.Length{:w,Float64},Measures.Length{:h,Float64}},Tuple{Measures.Length{:w,Float64},Measures.Length{:h,Float64}}}((0.0w, 0.0h), (1.0w, 1.0h)), nothing, nothing, nothing, nothing, List([]), List([]), List([Compose.Property{Compose.FontSizePrimitive}(Compose.FontSizePrimitive[FontSizePrimitive(4.0mm)]), Compose.Property{Compose.StrokePrimitive}(Compose.StrokePrimitive[StrokePrimitive(RGBA{Float64}(0.0,0.0,0.0,0.0))]), Compose.Property{Compose.FillPrimitive}(Compose.FillPrimitive[FillPrimitive(RGBA{Float64}(0.0,0.0,0.0,1.0))])]), 0, false, false, false, false, nothing, nothing, 0.0, Symbol(\"\")), Compose.Context(Measures.BoundingBox{Tuple{Measures.Length{:w,Float64},Measures.Length{:h,Float64}},Tuple{Measures.Length{:w,Float64},Measures.Length{:h,Float64}}}((0.0w, 0.0h), (1.0w, 1.0h)), nothing, nothing, nothing, nothing, List([]), List([Compose.Form{Compose.CirclePrimitive{Tuple{Measures.Measure,Measures.Measure},Measures.Measure}}(Compose.CirclePrimitive{Tuple{Measures.Measure,Measures.Measure},Measures.Measure}[CirclePrimitive{Tuple{Measure,Measure},Measure}((-0.109746cx, -0.363978cy), 0.0316228w), CirclePrimitive{Tuple{Measure,Measure},Measure}((-0.575215cx, 0.0841762cy), 0.0316228w), CirclePrimitive{Tuple{Measure,Measure},Measure}((-0.490549cx, 0.793686cy), 0.0316228w), CirclePrimitive{Tuple{Measure,Measure},Measure}((0.0830232cx, 1.0cy), 0.0316228w), CirclePrimitive{Tuple{Measure,Measure},Measure}((0.523939cx, 0.477074cy), 0.0316228w), CirclePrimitive{Tuple{Measure,Measure},Measure}((1.0cx, 0.10204cy), 0.0316228w), CirclePrimitive{Tuple{Measure,Measure},Measure}((0.580655cx, -0.330999cy), 0.0316228w), CirclePrimitive{Tuple{Measure,Measure},Measure}((0.1497cx, -0.129522cy), 0.0316228w), CirclePrimitive{Tuple{Measure,Measure},Measure}((-0.521087cx, -0.491269cy), 0.0316228w), CirclePrimitive{Tuple{Measure,Measure},Measure}((-1.0cx, -1.0cy), 0.0316228w)], Symbol(\"\"))]), List([Compose.Property{Compose.LineWidthPrimitive}(Compose.LineWidthPrimitive[LineWidthPrimitive(0.0mm)]), Compose.Property{Compose.StrokePrimitive}(Compose.StrokePrimitive[StrokePrimitive(RGBA{Float64}(0.0,0.0,0.0,0.0))]), Compose.Property{Compose.FillPrimitive}(Compose.FillPrimitive[FillPrimitive(RGBA{Float64}(0.25098,0.878431,0.815686,1.0))])]), 0, false, false, false, false, nothing, nothing, 0.0, Symbol(\"\")), Compose.Context(Measures.BoundingBox{Tuple{Measures.Length{:w,Float64},Measures.Length{:h,Float64}},Tuple{Measures.Length{:w,Float64},Measures.Length{:h,Float64}}}((0.0w, 0.0h), (1.0w, 1.0h)), nothing, nothing, nothing, nothing, List([]), List([Compose.Form{Compose.TextPrimitive{Tuple{Measures.Length{:cx,Float64},Measures.Length{:cy,Float64}},Compose.Rotation{Tuple{Measures.Length{:w,Float64},Measures.Length{:h,Float64}}},Tuple{Measures.Length{:mm,Float64},Measures.Length{:mm,Float64}}}}(Compose.TextPrimitive{Tuple{Measures.Length{:cx,Float64},Measures.Length{:cy,Float64}},Compose.Rotation{Tuple{Measures.Length{:w,Float64},Measures.Length{:h,Float64}}},Tuple{Measures.Length{:mm,Float64},Measures.Length{:mm,Float64}}}[TextPrimitive{Tuple{Length{:cx,Float64},Length{:cy,Float64}},Rotation{Tuple{Length{:w,Float64},Length{:h,Float64}}},Tuple{Length{:mm,Float64},Length{:mm,Float64}}}((-0.109746cx, -0.363978cy), \"grosseconomy\", HCenter(), VCenter(), Rotation{Tuple{Length{:w,Float64},Length{:h,Float64}}}(0.0, (0.5w, 0.5h)), (0.0mm, 0.0mm)), TextPrimitive{Tuple{Length{:cx,Float64},Length{:cy,Float64}},Rotation{Tuple{Length{:w,Float64},Length{:h,Float64}}},Tuple{Length{:mm,Float64},Length{:mm,Float64}}}((-0.575215cx, 0.0841762cy), \"emissions\", HCenter(), VCenter(), Rotation{Tuple{Length{:w,Float64},Length{:h,Float64}}}(0.0, (0.5w, 0.5h)), (0.0mm, 0.0mm)), TextPrimitive{Tuple{Length{:cx,Float64},Length{:cy,Float64}},Rotation{Tuple{Length{:w,Float64},Length{:h,Float64}}},Tuple{Length{:mm,Float64},Length{:mm,Float64}}}((-0.490549cx, 0.793686cy), \"co2cycle\", HCenter(), VCenter(), Rotation{Tuple{Length{:w,Float64},Length{:h,Float64}}}(0.0, (0.5w, 0.5h)), (0.0mm, 0.0mm)), TextPrimitive{Tuple{Length{:cx,Float64},Length{:cy,Float64}},Rotation{Tuple{Length{:w,Float64},Length{:h,Float64}}},Tuple{Length{:mm,Float64},Length{:mm,Float64}}}((0.0830232cx, 1.0cy), \"radiativeforcing\", HCenter(), VCenter(), Rotation{Tuple{Length{:w,Float64},Length{:h,Float64}}}(0.0, (0.5w, 0.5h)), (0.0mm, 0.0mm)), TextPrimitive{Tuple{Length{:cx,Float64},Length{:cy,Float64}},Rotation{Tuple{Length{:w,Float64},Length{:h,Float64}}},Tuple{Length{:mm,Float64},Length{:mm,Float64}}}((0.523939cx, 0.477074cy), \"climatedynamics\", HCenter(), VCenter(), Rotation{Tuple{Length{:w,Float64},Length{:h,Float64}}}(0.0, (0.5w, 0.5h)), (0.0mm, 0.0mm)), TextPrimitive{Tuple{Length{:cx,Float64},Length{:cy,Float64}},Rotation{Tuple{Length{:w,Float64},Length{:h,Float64}}},Tuple{Length{:mm,Float64},Length{:mm,Float64}}}((1.0cx, 0.10204cy), \"sealevelrise\", HCenter(), VCenter(), Rotation{Tuple{Length{:w,Float64},Length{:h,Float64}}}(0.0, (0.5w, 0.5h)), (0.0mm, 0.0mm)), TextPrimitive{Tuple{Length{:cx,Float64},Length{:cy,Float64}},Rotation{Tuple{Length{:w,Float64},Length{:h,Float64}}},Tuple{Length{:mm,Float64},Length{:mm,Float64}}}((0.580655cx, -0.330999cy), \"sealeveldamages\", HCenter(), VCenter(), Rotation{Tuple{Length{:w,Float64},Length{:h,Float64}}}(0.0, (0.5w, 0.5h)), (0.0mm, 0.0mm)), TextPrimitive{Tuple{Length{:cx,Float64},Length{:cy,Float64}},Rotation{Tuple{Length{:w,Float64},Length{:h,Float64}}},Tuple{Length{:mm,Float64},Length{:mm,Float64}}}((0.1497cx, -0.129522cy), \"damages\", HCenter(), VCenter(), Rotation{Tuple{Length{:w,Float64},Length{:h,Float64}}}(0.0, (0.5w, 0.5h)), (0.0mm, 0.0mm)), TextPrimitive{Tuple{Length{:cx,Float64},Length{:cy,Float64}},Rotation{Tuple{Length{:w,Float64},Length{:h,Float64}}},Tuple{Length{:mm,Float64},Length{:mm,Float64}}}((-0.521087cx, -0.491269cy), \"neteconomy\", HCenter(), VCenter(), Rotation{Tuple{Length{:w,Float64},Length{:h,Float64}}}(0.0, (0.5w, 0.5h)), (0.0mm, 0.0mm)), TextPrimitive{Tuple{Length{:cx,Float64},Length{:cy,Float64}},Rotation{Tuple{Length{:w,Float64},Length{:h,Float64}}},Tuple{Length{:mm,Float64},Length{:mm,Float64}}}((-1.0cx, -1.0cy), \"welfare\", HCenter(), VCenter(), Rotation{Tuple{Length{:w,Float64},Length{:h,Float64}}}(0.0, (0.5w, 0.5h)), (0.0mm, 0.0mm))], Symbol(\"\"))]), List([Compose.Property{Compose.FontSizePrimitive}(Compose.FontSizePrimitive[FontSizePrimitive(4.0mm)]), Compose.Property{Compose.StrokePrimitive}(Compose.StrokePrimitive[StrokePrimitive(RGBA{Float64}(0.0,0.0,0.0,0.0))]), Compose.Property{Compose.FillPrimitive}(Compose.FillPrimitive[FillPrimitive(RGBA{Float64}(0.0,0.0,0.0,1.0))])]), 0, false, false, false, false, nothing, nothing, 0.0, Symbol(\"\"))]), List([]), List([]), 0, false, false, false, false, nothing, nothing, 0.0, Symbol(\"\"))"
      ]
     },
     "execution_count": 14,
     "metadata": {},
     "output_type": "execute_result"
    }
   ],
   "source": [
    "plot_comp_graph(m_rice)"
   ]
  },
  {
   "cell_type": "code",
   "execution_count": 15,
   "metadata": {},
   "outputs": [],
   "source": [
    "run(m_rice)"
   ]
  },
  {
   "cell_type": "markdown",
   "metadata": {},
   "source": [
    "If you are running this notebook on your local computer, you can explore the resulting model interactively:"
   ]
  },
  {
   "cell_type": "code",
   "execution_count": 16,
   "metadata": {},
   "outputs": [],
   "source": [
    "if use_explore\n",
    "    explore(m_rice)\n",
    "end"
   ]
  },
  {
   "cell_type": "markdown",
   "metadata": {},
   "source": [
    "Note how the `DAMFRAC` variable in the `damage` component in RICE has a region index, and how the plot automatically shows the values for each region separately."
   ]
  },
  {
   "cell_type": "code",
   "execution_count": 17,
   "metadata": {},
   "outputs": [
    {
     "data": {
      "application/vnd.vegalite.v3+json": {
       "$schema": "https://vega.github.io/schema/vega-lite/v2.0.json",
       "data": {
        "values": [
         {
          "DAMFRAC": "0.0009741914751707755",
          "regions": "US",
          "time": "2005-01-01"
         },
         {
          "DAMFRAC": "0.0010960982548936173",
          "regions": "EU",
          "time": "2005-01-01"
         },
         {
          "DAMFRAC": "0.0011141127717951577",
          "regions": "Japan",
          "time": "2005-01-01"
         },
         {
          "DAMFRAC": "0.0007926376142238073",
          "regions": "Russia",
          "time": "2005-01-01"
         },
         {
          "DAMFRAC": "0.0008988246313217726",
          "regions": "Eurasia",
          "time": "2005-01-01"
         },
         {
          "DAMFRAC": "0.0015184808065927108",
          "regions": "China",
          "time": "2005-01-01"
         },
         {
          "DAMFRAC": "0.004803093316816623",
          "regions": "India",
          "time": "2005-01-01"
         },
         {
          "DAMFRAC": "0.0033998963496381673",
          "regions": "MidEast",
          "time": "2005-01-01"
         },
         {
          "DAMFRAC": "0.004196310982627154",
          "regions": "Africa",
          "time": "2005-01-01"
         },
         {
          "DAMFRAC": "0.0014323266191105083",
          "regions": "LatAm",
          "time": "2005-01-01"
         },
         {
          "DAMFRAC": "0.0010773810546510498",
          "regions": "OHI",
          "time": "2005-01-01"
         },
         {
          "DAMFRAC": "0.0026515942275779415",
          "regions": "OthAsia",
          "time": "2005-01-01"
         },
         {
          "DAMFRAC": "0.001365695550359932",
          "regions": "US",
          "time": "2015-01-01"
         },
         {
          "DAMFRAC": "0.00262768513529238",
          "regions": "EU",
          "time": "2015-01-01"
         },
         {
          "DAMFRAC": "0.001683862840686886",
          "regions": "Japan",
          "time": "2015-01-01"
         },
         {
          "DAMFRAC": "0.0011062775066918828",
          "regions": "Russia",
          "time": "2015-01-01"
         },
         {
          "DAMFRAC": "0.001280076419186407",
          "regions": "Eurasia",
          "time": "2015-01-01"
         },
         {
          "DAMFRAC": "0.004830312207793876",
          "regions": "China",
          "time": "2015-01-01"
         },
         {
          "DAMFRAC": "0.005926914891161183",
          "regions": "India",
          "time": "2015-01-01"
         },
         {
          "DAMFRAC": "0.004583696622069553",
          "regions": "MidEast",
          "time": "2015-01-01"
         },
         {
          "DAMFRAC": "0.006100336116146362",
          "regions": "Africa",
          "time": "2015-01-01"
         },
         {
          "DAMFRAC": "0.0018910591673131476",
          "regions": "LatAm",
          "time": "2015-01-01"
         },
         {
          "DAMFRAC": "0.0030018018097441364",
          "regions": "OHI",
          "time": "2015-01-01"
         },
         {
          "DAMFRAC": "0.003422450619042121",
          "regions": "OthAsia",
          "time": "2015-01-01"
         },
         {
          "DAMFRAC": "0.0021504842228379267",
          "regions": "US",
          "time": "2025-01-01"
         },
         {
          "DAMFRAC": "0.0037896812684704026",
          "regions": "EU",
          "time": "2025-01-01"
         },
         {
          "DAMFRAC": "0.0026071968565553635",
          "regions": "Japan",
          "time": "2025-01-01"
         },
         {
          "DAMFRAC": "0.0017423574306878458",
          "regions": "Russia",
          "time": "2025-01-01"
         },
         {
          "DAMFRAC": "0.0020082375074166187",
          "regions": "Eurasia",
          "time": "2025-01-01"
         },
         {
          "DAMFRAC": "0.007013343119780867",
          "regions": "China",
          "time": "2025-01-01"
         },
         {
          "DAMFRAC": "0.00796037889657994",
          "regions": "India",
          "time": "2025-01-01"
         },
         {
          "DAMFRAC": "0.00627117167732031",
          "regions": "MidEast",
          "time": "2025-01-01"
         },
         {
          "DAMFRAC": "0.008382908023110626",
          "regions": "Africa",
          "time": "2025-01-01"
         },
         {
          "DAMFRAC": "0.0027875049872647115",
          "regions": "LatAm",
          "time": "2025-01-01"
         },
         {
          "DAMFRAC": "0.004277206827991047",
          "regions": "OHI",
          "time": "2025-01-01"
         },
         {
          "DAMFRAC": "0.004840423015455422",
          "regions": "OthAsia",
          "time": "2025-01-01"
         },
         {
          "DAMFRAC": "0.0032880916799279385",
          "regions": "US",
          "time": "2035-01-01"
         },
         {
          "DAMFRAC": "0.00554239125769479",
          "regions": "EU",
          "time": "2035-01-01"
         },
         {
          "DAMFRAC": "0.003951686654007562",
          "regions": "Japan",
          "time": "2035-01-01"
         },
         {
          "DAMFRAC": "0.0026626081939913194",
          "regions": "Russia",
          "time": "2035-01-01"
         },
         {
          "DAMFRAC": "0.0030635181300084488",
          "regions": "Eurasia",
          "time": "2035-01-01"
         },
         {
          "DAMFRAC": "0.00984260140441329",
          "regions": "China",
          "time": "2035-01-01"
         },
         {
          "DAMFRAC": "0.010592755014102645",
          "regions": "India",
          "time": "2035-01-01"
         },
         {
          "DAMFRAC": "0.008530958830331429",
          "regions": "MidEast",
          "time": "2035-01-01"
         },
         {
          "DAMFRAC": "0.011511034987434148",
          "regions": "Africa",
          "time": "2035-01-01"
         },
         {
          "DAMFRAC": "0.004041450474234879",
          "regions": "LatAm",
          "time": "2035-01-01"
         },
         {
          "DAMFRAC": "0.006202657449907091",
          "regions": "OHI",
          "time": "2035-01-01"
         },
         {
          "DAMFRAC": "0.006783626362770865",
          "regions": "OthAsia",
          "time": "2035-01-01"
         },
         {
          "DAMFRAC": "0.00477763054000814",
          "regions": "US",
          "time": "2045-01-01"
         },
         {
          "DAMFRAC": "0.007775239315448422",
          "regions": "EU",
          "time": "2045-01-01"
         },
         {
          "DAMFRAC": "0.005702155799179452",
          "regions": "Japan",
          "time": "2045-01-01"
         },
         {
          "DAMFRAC": "0.003866447042227129",
          "regions": "Russia",
          "time": "2045-01-01"
         },
         {
          "DAMFRAC": "0.004442384550177529",
          "regions": "Eurasia",
          "time": "2045-01-01"
         },
         {
          "DAMFRAC": "0.01330697741134694",
          "regions": "China",
          "time": "2045-01-01"
         },
         {
          "DAMFRAC": "0.013739268737141104",
          "regions": "India",
          "time": "2045-01-01"
         },
         {
          "DAMFRAC": "0.011281912325615272",
          "regions": "MidEast",
          "time": "2045-01-01"
         },
         {
          "DAMFRAC": "0.015355310227987294",
          "regions": "Africa",
          "time": "2045-01-01"
         },
         {
          "DAMFRAC": "0.00564056212713123",
          "regions": "LatAm",
          "time": "2045-01-01"
         },
         {
          "DAMFRAC": "0.008636259082434098",
          "regions": "OHI",
          "time": "2045-01-01"
         },
         {
          "DAMFRAC": "0.009219292680615627",
          "regions": "OthAsia",
          "time": "2045-01-01"
         },
         {
          "DAMFRAC": "0.006592650805263107",
          "regions": "US",
          "time": "2055-01-01"
         },
         {
          "DAMFRAC": "0.010462976266902539",
          "regions": "EU",
          "time": "2055-01-01"
         },
         {
          "DAMFRAC": "0.007825437874402364",
          "regions": "Japan",
          "time": "2055-01-01"
         },
         {
          "DAMFRAC": "0.00533141845140058",
          "regions": "Russia",
          "time": "2055-01-01"
         },
         {
          "DAMFRAC": "0.006119386219112769",
          "regions": "Eurasia",
          "time": "2055-01-01"
         },
         {
          "DAMFRAC": "0.017388994723005063",
          "regions": "China",
          "time": "2055-01-01"
         },
         {
          "DAMFRAC": "0.017308587300716625",
          "regions": "India",
          "time": "2055-01-01"
         },
         {
          "DAMFRAC": "0.014457908025040227",
          "regions": "MidEast",
          "time": "2055-01-01"
         },
         {
          "DAMFRAC": "0.019848584280176808",
          "regions": "Africa",
          "time": "2055-01-01"
         },
         {
          "DAMFRAC": "0.007550421141501094",
          "regions": "LatAm",
          "time": "2055-01-01"
         },
         {
          "DAMFRAC": "0.011547437452796086",
          "regions": "OHI",
          "time": "2055-01-01"
         },
         {
          "DAMFRAC": "0.012100392565538211",
          "regions": "OthAsia",
          "time": "2055-01-01"
         },
         {
          "DAMFRAC": "0.008688856593213227",
          "regions": "US",
          "time": "2065-01-01"
         },
         {
          "DAMFRAC": "0.013548358788251879",
          "regions": "EU",
          "time": "2065-01-01"
         },
         {
          "DAMFRAC": "0.010274495224478541",
          "regions": "Japan",
          "time": "2065-01-01"
         },
         {
          "DAMFRAC": "0.007020558161078253",
          "regions": "Russia",
          "time": "2065-01-01"
         },
         {
          "DAMFRAC": "0.00805232665196995",
          "regions": "Eurasia",
          "time": "2065-01-01"
         },
         {
          "DAMFRAC": "0.022035002403790985",
          "regions": "China",
          "time": "2065-01-01"
         },
         {
          "DAMFRAC": "0.021206936121268838",
          "regions": "India",
          "time": "2065-01-01"
         },
         {
          "DAMFRAC": "0.017976833246097945",
          "regions": "MidEast",
          "time": "2065-01-01"
         },
         {
          "DAMFRAC": "0.024871788494151666",
          "regions": "Africa",
          "time": "2065-01-01"
         },
         {
          "DAMFRAC": "0.009722275382015175",
          "regions": "LatAm",
          "time": "2065-01-01"
         },
         {
          "DAMFRAC": "0.014876588806461685",
          "regions": "OHI",
          "time": "2065-01-01"
         },
         {
          "DAMFRAC": "0.01536522087389026",
          "regions": "OthAsia",
          "time": "2065-01-01"
         },
         {
          "DAMFRAC": "0.011020435804790146",
          "regions": "US",
          "time": "2075-01-01"
         },
         {
          "DAMFRAC": "0.016974878950465615",
          "regions": "EU",
          "time": "2075-01-01"
         },
         {
          "DAMFRAC": "0.012995073013899095",
          "regions": "Japan",
          "time": "2075-01-01"
         },
         {
          "DAMFRAC": "0.008895609535120995",
          "regions": "Russia",
          "time": "2075-01-01"
         },
         {
          "DAMFRAC": "0.010197594954210982",
          "regions": "Eurasia",
          "time": "2075-01-01"
         },
         {
          "DAMFRAC": "0.027222503516889096",
          "regions": "China",
          "time": "2075-01-01"
         },
         {
          "DAMFRAC": "0.025356900345778893",
          "regions": "India",
          "time": "2075-01-01"
         },
         {
          "DAMFRAC": "0.021772971671957755",
          "regions": "MidEast",
          "time": "2075-01-01"
         },
         {
          "DAMFRAC": "0.030338479826951894",
          "regions": "Africa",
          "time": "2075-01-01"
         },
         {
          "DAMFRAC": "0.012108439535682249",
          "regions": "LatAm",
          "time": "2075-01-01"
         },
         {
          "DAMFRAC": "0.018566554825129672",
          "regions": "OHI",
          "time": "2075-01-01"
         },
         {
          "DAMFRAC": "0.018959196113387453",
          "regions": "OthAsia",
          "time": "2075-01-01"
         },
         {
          "DAMFRAC": "0.013549404197544414",
          "regions": "US",
          "time": "2085-01-01"
         },
         {
          "DAMFRAC": "0.020697028339197558",
          "regions": "EU",
          "time": "2085-01-01"
         },
         {
          "DAMFRAC": "0.015939517913350274",
          "regions": "Japan",
          "time": "2085-01-01"
         },
         {
          "DAMFRAC": "0.010924528391820142",
          "regions": "Russia",
          "time": "2085-01-01"
         },
         {
          "DAMFRAC": "0.012518514971051754",
          "regions": "Eurasia",
          "time": "2085-01-01"
         },
         {
          "DAMFRAC": "0.032891647835455715",
          "regions": "China",
          "time": "2085-01-01"
         },
         {
          "DAMFRAC": "0.029703737167157487",
          "regions": "India",
          "time": "2085-01-01"
         },
         {
          "DAMFRAC": "0.025799566905222057",
          "regions": "MidEast",
          "time": "2085-01-01"
         },
         {
          "DAMFRAC": "0.03621564798716743",
          "regions": "Africa",
          "time": "2085-01-01"
         },
         {
          "DAMFRAC": "0.014670361778725223",
          "regions": "LatAm",
          "time": "2085-01-01"
         },
         {
          "DAMFRAC": "0.022576116711597986",
          "regions": "OHI",
          "time": "2085-01-01"
         },
         {
          "DAMFRAC": "0.02284477694822779",
          "regions": "OthAsia",
          "time": "2085-01-01"
         },
         {
          "DAMFRAC": "0.0162671817198358",
          "regions": "US",
          "time": "2095-01-01"
         },
         {
          "DAMFRAC": "0.02499357661789651",
          "regions": "EU",
          "time": "2095-01-01"
         },
         {
          "DAMFRAC": "0.019109358083832455",
          "regions": "Japan",
          "time": "2095-01-01"
         },
         {
          "DAMFRAC": "0.013085852086288976",
          "regions": "Russia",
          "time": "2095-01-01"
         },
         {
          "DAMFRAC": "0.014995796762871598",
          "regions": "Eurasia",
          "time": "2095-01-01"
         },
         {
          "DAMFRAC": "0.040056063110398527",
          "regions": "China",
          "time": "2095-01-01"
         },
         {
          "DAMFRAC": "0.034239261142939244",
          "regions": "India",
          "time": "2095-01-01"
         },
         {
          "DAMFRAC": "0.030148721347548327",
          "regions": "MidEast",
          "time": "2095-01-01"
         },
         {
          "DAMFRAC": "0.0428677206439494",
          "regions": "Africa",
          "time": "2095-01-01"
         },
         {
          "DAMFRAC": "0.017385842904137045",
          "regions": "LatAm",
          "time": "2095-01-01"
         },
         {
          "DAMFRAC": "0.02730235138362213",
          "regions": "OHI",
          "time": "2095-01-01"
         },
         {
          "DAMFRAC": "0.027136964744790465",
          "regions": "OthAsia",
          "time": "2095-01-01"
         },
         {
          "DAMFRAC": "0.01914853908606635",
          "regions": "US",
          "time": "2105-01-01"
         },
         {
          "DAMFRAC": "0.02963601258993716",
          "regions": "EU",
          "time": "2105-01-01"
         },
         {
          "DAMFRAC": "0.02245651923916944",
          "regions": "Japan",
          "time": "2105-01-01"
         },
         {
          "DAMFRAC": "0.015360729312863666",
          "regions": "Russia",
          "time": "2105-01-01"
         },
         {
          "DAMFRAC": "0.017603171690940982",
          "regions": "Eurasia",
          "time": "2105-01-01"
         },
         {
          "DAMFRAC": "0.04803443619196234",
          "regions": "China",
          "time": "2105-01-01"
         },
         {
          "DAMFRAC": "0.03893585361130858",
          "regions": "India",
          "time": "2105-01-01"
         },
         {
          "DAMFRAC": "0.03472228483534454",
          "regions": "MidEast",
          "time": "2105-01-01"
         },
         {
          "DAMFRAC": "0.05004593148344396",
          "regions": "Africa",
          "time": "2105-01-01"
         },
         {
          "DAMFRAC": "0.020232942629731653",
          "regions": "LatAm",
          "time": "2105-01-01"
         },
         {
          "DAMFRAC": "0.032438090672629205",
          "regions": "OHI",
          "time": "2105-01-01"
         },
         {
          "DAMFRAC": "0.03180283648675566",
          "regions": "OthAsia",
          "time": "2105-01-01"
         },
         {
          "DAMFRAC": "0.022100170061795033",
          "regions": "US",
          "time": "2115-01-01"
         },
         {
          "DAMFRAC": "0.03454215807063297",
          "regions": "EU",
          "time": "2115-01-01"
         },
         {
          "DAMFRAC": "0.025873494117557735",
          "regions": "Japan",
          "time": "2115-01-01"
         },
         {
          "DAMFRAC": "0.017669469262578986",
          "regions": "Russia",
          "time": "2115-01-01"
         },
         {
          "DAMFRAC": "0.02024975268873828",
          "regions": "Eurasia",
          "time": "2115-01-01"
         },
         {
          "DAMFRAC": "0.056867533437397824",
          "regions": "China",
          "time": "2115-01-01"
         },
         {
          "DAMFRAC": "0.04365522529543521",
          "regions": "India",
          "time": "2115-01-01"
         },
         {
          "DAMFRAC": "0.03936748294081828",
          "regions": "MidEast",
          "time": "2115-01-01"
         },
         {
          "DAMFRAC": "0.05750352861492006",
          "regions": "Africa",
          "time": "2115-01-01"
         },
         {
          "DAMFRAC": "0.02311501789026233",
          "regions": "LatAm",
          "time": "2115-01-01"
         },
         {
          "DAMFRAC": "0.03791808449788946",
          "regions": "OHI",
          "time": "2115-01-01"
         },
         {
          "DAMFRAC": "0.036758712666875734",
          "regions": "OthAsia",
          "time": "2115-01-01"
         },
         {
          "DAMFRAC": "0.025118817628358655",
          "regions": "US",
          "time": "2125-01-01"
         },
         {
          "DAMFRAC": "0.039640929261448264",
          "regions": "EU",
          "time": "2125-01-01"
         },
         {
          "DAMFRAC": "0.02935242727460687",
          "regions": "Japan",
          "time": "2125-01-01"
         },
         {
          "DAMFRAC": "0.020011282917594637",
          "regions": "Russia",
          "time": "2125-01-01"
         },
         {
          "DAMFRAC": "0.022932625492146645",
          "regions": "Eurasia",
          "time": "2125-01-01"
         },
         {
          "DAMFRAC": "0.06637713769176062",
          "regions": "China",
          "time": "2125-01-01"
         },
         {
          "DAMFRAC": "0.04840878469068987",
          "regions": "India",
          "time": "2125-01-01"
         },
         {
          "DAMFRAC": "0.04404369164764314",
          "regions": "MidEast",
          "time": "2125-01-01"
         },
         {
          "DAMFRAC": "0.065092512249632",
          "regions": "Africa",
          "time": "2125-01-01"
         },
         {
          "DAMFRAC": "0.02603245696411314",
          "regions": "LatAm",
          "time": "2125-01-01"
         },
         {
          "DAMFRAC": "0.043647352808716",
          "regions": "OHI",
          "time": "2125-01-01"
         },
         {
          "DAMFRAC": "0.04200353615513512",
          "regions": "OthAsia",
          "time": "2125-01-01"
         },
         {
          "DAMFRAC": "0.0282174368929456",
          "regions": "US",
          "time": "2135-01-01"
         },
         {
          "DAMFRAC": "0.0449930124592024",
          "regions": "EU",
          "time": "2135-01-01"
         },
         {
          "DAMFRAC": "0.03289952413090836",
          "regions": "Japan",
          "time": "2135-01-01"
         },
         {
          "DAMFRAC": "0.022386515724166594",
          "regions": "Russia",
          "time": "2135-01-01"
         },
         {
          "DAMFRAC": "0.025651453241789923",
          "regions": "Eurasia",
          "time": "2135-01-01"
         },
         {
          "DAMFRAC": "0.07654324315690791",
          "regions": "China",
          "time": "2135-01-01"
         },
         {
          "DAMFRAC": "0.05322291032402039",
          "regions": "India",
          "time": "2135-01-01"
         },
         {
          "DAMFRAC": "0.04881336121038664",
          "regions": "MidEast",
          "time": "2135-01-01"
         },
         {
          "DAMFRAC": "0.07296497685741155",
          "regions": "Africa",
          "time": "2135-01-01"
         },
         {
          "DAMFRAC": "0.028989449727921352",
          "regions": "LatAm",
          "time": "2135-01-01"
         },
         {
          "DAMFRAC": "0.04970402056844356",
          "regions": "OHI",
          "time": "2135-01-01"
         },
         {
          "DAMFRAC": "0.047624194419606636",
          "regions": "OthAsia",
          "time": "2135-01-01"
         },
         {
          "DAMFRAC": "0.031394491265923814",
          "regions": "US",
          "time": "2145-01-01"
         },
         {
          "DAMFRAC": "0.05054678928606527",
          "regions": "EU",
          "time": "2145-01-01"
         },
         {
          "DAMFRAC": "0.03650340343542409",
          "regions": "Japan",
          "time": "2145-01-01"
         },
         {
          "DAMFRAC": "0.024791782690289015",
          "regions": "Russia",
          "time": "2145-01-01"
         },
         {
          "DAMFRAC": "0.028400603212528346",
          "regions": "Eurasia",
          "time": "2145-01-01"
         },
         {
          "DAMFRAC": "0.08742014793902271",
          "regions": "China",
          "time": "2145-01-01"
         },
         {
          "DAMFRAC": "0.05810762635123238",
          "regions": "India",
          "time": "2145-01-01"
         },
         {
          "DAMFRAC": "0.053654950173624066",
          "regions": "MidEast",
          "time": "2145-01-01"
         },
         {
          "DAMFRAC": "0.0811127353522834",
          "regions": "Africa",
          "time": "2145-01-01"
         },
         {
          "DAMFRAC": "0.03198367803593639",
          "regions": "LatAm",
          "time": "2145-01-01"
         },
         {
          "DAMFRAC": "0.05602132945798577",
          "regions": "OHI",
          "time": "2145-01-01"
         },
         {
          "DAMFRAC": "0.053679756907908466",
          "regions": "OthAsia",
          "time": "2145-01-01"
         },
         {
          "DAMFRAC": "0.03465019643004273",
          "regions": "US",
          "time": "2155-01-01"
         },
         {
          "DAMFRAC": "0.05629337171581984",
          "regions": "EU",
          "time": "2155-01-01"
         },
         {
          "DAMFRAC": "0.04015779426070382",
          "regions": "Japan",
          "time": "2155-01-01"
         },
         {
          "DAMFRAC": "0.027222924697691882",
          "regions": "Russia",
          "time": "2155-01-01"
         },
         {
          "DAMFRAC": "0.031173953186311238",
          "regions": "Eurasia",
          "time": "2155-01-01"
         },
         {
          "DAMFRAC": "0.09897674424263289",
          "regions": "China",
          "time": "2155-01-01"
         },
         {
          "DAMFRAC": "0.06307026228714172",
          "regions": "India",
          "time": "2155-01-01"
         },
         {
          "DAMFRAC": "0.05856222637150392",
          "regions": "MidEast",
          "time": "2155-01-01"
         },
         {
          "DAMFRAC": "0.08951656715396147",
          "regions": "Africa",
          "time": "2155-01-01"
         },
         {
          "DAMFRAC": "0.03501187523118672",
          "regions": "LatAm",
          "time": "2155-01-01"
         },
         {
          "DAMFRAC": "0.06258989488375183",
          "regions": "OHI",
          "time": "2155-01-01"
         },
         {
          "DAMFRAC": "0.06021852304740419",
          "regions": "OthAsia",
          "time": "2155-01-01"
         },
         {
          "DAMFRAC": "0.03798427742981385",
          "regions": "US",
          "time": "2165-01-01"
         },
         {
          "DAMFRAC": "0.062222229939352315",
          "regions": "EU",
          "time": "2165-01-01"
         },
         {
          "DAMFRAC": "0.043855608917853096",
          "regions": "Japan",
          "time": "2165-01-01"
         },
         {
          "DAMFRAC": "0.02967531718714661",
          "regions": "Russia",
          "time": "2165-01-01"
         },
         {
          "DAMFRAC": "0.03396480330422661",
          "regions": "Eurasia",
          "time": "2165-01-01"
         },
         {
          "DAMFRAC": "0.11118248880007424",
          "regions": "China",
          "time": "2165-01-01"
         },
         {
          "DAMFRAC": "0.06811631769661886",
          "regions": "India",
          "time": "2165-01-01"
         },
         {
          "DAMFRAC": "0.06352716758953977",
          "regions": "MidEast",
          "time": "2165-01-01"
         },
         {
          "DAMFRAC": "0.09815549966040281",
          "regions": "Africa",
          "time": "2165-01-01"
         },
         {
          "DAMFRAC": "0.03807005740083373",
          "regions": "LatAm",
          "time": "2165-01-01"
         },
         {
          "DAMFRAC": "0.06939846180028443",
          "regions": "OHI",
          "time": "2165-01-01"
         },
         {
          "DAMFRAC": "0.06728773672927747",
          "regions": "OthAsia",
          "time": "2165-01-01"
         },
         {
          "DAMFRAC": "0.041396214338924826",
          "regions": "US",
          "time": "2175-01-01"
         },
         {
          "DAMFRAC": "0.06832196026800635",
          "regions": "EU",
          "time": "2175-01-01"
         },
         {
          "DAMFRAC": "0.04758930771067316",
          "regions": "Japan",
          "time": "2175-01-01"
         },
         {
          "DAMFRAC": "0.032144075366615836",
          "regions": "Russia",
          "time": "2175-01-01"
         },
         {
          "DAMFRAC": "0.03676612435939415",
          "regions": "Eurasia",
          "time": "2175-01-01"
         },
         {
          "DAMFRAC": "0.1240077126938948",
          "regions": "China",
          "time": "2175-01-01"
         },
         {
          "DAMFRAC": "0.07325006736520312",
          "regions": "India",
          "time": "2175-01-01"
         },
         {
          "DAMFRAC": "0.06854068948733434",
          "regions": "MidEast",
          "time": "2175-01-01"
         },
         {
          "DAMFRAC": "0.10700762180982966",
          "regions": "Africa",
          "time": "2175-01-01"
         },
         {
          "DAMFRAC": "0.041153807977185326",
          "regions": "LatAm",
          "time": "2175-01-01"
         },
         {
          "DAMFRAC": "0.07643478066853651",
          "regions": "OHI",
          "time": "2175-01-01"
         },
         {
          "DAMFRAC": "0.07493365564055524",
          "regions": "OthAsia",
          "time": "2175-01-01"
         },
         {
          "DAMFRAC": "0.04488515678584327",
          "regions": "US",
          "time": "2185-01-01"
         },
         {
          "DAMFRAC": "0.0745804954759182",
          "regions": "EU",
          "time": "2185-01-01"
         },
         {
          "DAMFRAC": "0.05135085361635605",
          "regions": "Japan",
          "time": "2185-01-01"
         },
         {
          "DAMFRAC": "0.03462399220507961",
          "regions": "Russia",
          "time": "2185-01-01"
         },
         {
          "DAMFRAC": "0.039570498232397444",
          "regions": "Eurasia",
          "time": "2185-01-01"
         },
         {
          "DAMFRAC": "0.1374233198685258",
          "regions": "China",
          "time": "2185-01-01"
         },
         {
          "DAMFRAC": "0.07847458290186379",
          "regions": "India",
          "time": "2185-01-01"
         },
         {
          "DAMFRAC": "0.07359279126078766",
          "regions": "MidEast",
          "time": "2185-01-01"
         },
         {
          "DAMFRAC": "0.11605022663514035",
          "regions": "Africa",
          "time": "2185-01-01"
         },
         {
          "DAMFRAC": "0.04425822286432928",
          "regions": "LatAm",
          "time": "2185-01-01"
         },
         {
          "DAMFRAC": "0.08368590214059177",
          "regions": "OHI",
          "time": "2185-01-01"
         },
         {
          "DAMFRAC": "0.08320117387971195",
          "regions": "OthAsia",
          "time": "2185-01-01"
         },
         {
          "DAMFRAC": "0.048449589398195846",
          "regions": "US",
          "time": "2195-01-01"
         },
         {
          "DAMFRAC": "0.08098489330844016",
          "regions": "EU",
          "time": "2195-01-01"
         },
         {
          "DAMFRAC": "0.05513136741883133",
          "regions": "Japan",
          "time": "2195-01-01"
         },
         {
          "DAMFRAC": "0.03710927728277999",
          "regions": "Russia",
          "time": "2195-01-01"
         },
         {
          "DAMFRAC": "0.04236982973122239",
          "regions": "Eurasia",
          "time": "2195-01-01"
         },
         {
          "DAMFRAC": "0.15140025586022582",
          "regions": "China",
          "time": "2195-01-01"
         },
         {
          "DAMFRAC": "0.08379134636730073",
          "regions": "India",
          "time": "2195-01-01"
         },
         {
          "DAMFRAC": "0.07867229315165893",
          "regions": "MidEast",
          "time": "2195-01-01"
         },
         {
          "DAMFRAC": "0.12525946425793166",
          "regions": "Africa",
          "time": "2195-01-01"
         },
         {
          "DAMFRAC": "0.04737760643880272",
          "regions": "LatAm",
          "time": "2195-01-01"
         },
         {
          "DAMFRAC": "0.091138008324925",
          "regions": "OHI",
          "time": "2195-01-01"
         },
         {
          "DAMFRAC": "0.09213309836672068",
          "regions": "OthAsia",
          "time": "2195-01-01"
         },
         {
          "DAMFRAC": "0.052089717289590325",
          "regions": "US",
          "time": "2205-01-01"
         },
         {
          "DAMFRAC": "0.08752409706249994",
          "regions": "EU",
          "time": "2205-01-01"
         },
         {
          "DAMFRAC": "0.05892388999753754",
          "regions": "Japan",
          "time": "2205-01-01"
         },
         {
          "DAMFRAC": "0.03959551491844403",
          "regions": "Russia",
          "time": "2205-01-01"
         },
         {
          "DAMFRAC": "0.04515757395974616",
          "regions": "Eurasia",
          "time": "2205-01-01"
         },
         {
          "DAMFRAC": "0.16591149694278373",
          "regions": "China",
          "time": "2205-01-01"
         },
         {
          "DAMFRAC": "0.08920382231627884",
          "regions": "India",
          "time": "2205-01-01"
         },
         {
          "DAMFRAC": "0.08377004177483559",
          "regions": "MidEast",
          "time": "2205-01-01"
         },
         {
          "DAMFRAC": "0.1346143130969843",
          "regions": "Africa",
          "time": "2205-01-01"
         },
         {
          "DAMFRAC": "0.05050786002320447",
          "regions": "LatAm",
          "time": "2205-01-01"
         },
         {
          "DAMFRAC": "0.09877913261655008",
          "regions": "OHI",
          "time": "2205-01-01"
         },
         {
          "DAMFRAC": "0.10177301409068765",
          "regions": "OthAsia",
          "time": "2205-01-01"
         },
         {
          "DAMFRAC": "0.0558079633421381",
          "regions": "US",
          "time": "2215-01-01"
         },
         {
          "DAMFRAC": "0.09419695706414569",
          "regions": "EU",
          "time": "2215-01-01"
         },
         {
          "DAMFRAC": "0.0627256930807177",
          "regions": "Japan",
          "time": "2215-01-01"
         },
         {
          "DAMFRAC": "0.04208073910816947",
          "regions": "Russia",
          "time": "2215-01-01"
         },
         {
          "DAMFRAC": "0.04793076146007419",
          "regions": "Eurasia",
          "time": "2215-01-01"
         },
         {
          "DAMFRAC": "0.18099316433436793",
          "regions": "China",
          "time": "2215-01-01"
         },
         {
          "DAMFRAC": "0.09473096765161976",
          "regions": "India",
          "time": "2215-01-01"
         },
         {
          "DAMFRAC": "0.08890130920109057",
          "regions": "MidEast",
          "time": "2215-01-01"
         },
         {
          "DAMFRAC": "0.1441758606612252",
          "regions": "Africa",
          "time": "2215-01-01"
         },
         {
          "DAMFRAC": "0.05365012156901841",
          "regions": "LatAm",
          "time": "2215-01-01"
         },
         {
          "DAMFRAC": "0.10660464942214537",
          "regions": "OHI",
          "time": "2215-01-01"
         },
         {
          "DAMFRAC": "0.1122200160615144",
          "regions": "OthAsia",
          "time": "2215-01-01"
         },
         {
          "DAMFRAC": "0.059605373324501144",
          "regions": "US",
          "time": "2225-01-01"
         },
         {
          "DAMFRAC": "0.10099768055856215",
          "regions": "EU",
          "time": "2225-01-01"
         },
         {
          "DAMFRAC": "0.06653197710071672",
          "regions": "Japan",
          "time": "2225-01-01"
         },
         {
          "DAMFRAC": "0.044561689045730025",
          "regions": "Russia",
          "time": "2225-01-01"
         },
         {
          "DAMFRAC": "0.05068464409577739",
          "regions": "Eurasia",
          "time": "2225-01-01"
         },
         {
          "DAMFRAC": "0.19665185361719512",
          "regions": "China",
          "time": "2225-01-01"
         },
         {
          "DAMFRAC": "0.10038665655377976",
          "regions": "India",
          "time": "2225-01-01"
         },
         {
          "DAMFRAC": "0.09406917080895821",
          "regions": "MidEast",
          "time": "2225-01-01"
         },
         {
          "DAMFRAC": "0.15396557554616278",
          "regions": "Africa",
          "time": "2225-01-01"
         },
         {
          "DAMFRAC": "0.05680341066780613",
          "regions": "LatAm",
          "time": "2225-01-01"
         },
         {
          "DAMFRAC": "0.11460662275032749",
          "regions": "OHI",
          "time": "2225-01-01"
         },
         {
          "DAMFRAC": "0.12355911669391798",
          "regions": "OthAsia",
          "time": "2225-01-01"
         },
         {
          "DAMFRAC": "0.06347738322465718",
          "regions": "US",
          "time": "2235-01-01"
         },
         {
          "DAMFRAC": "0.10790536574425902",
          "regions": "EU",
          "time": "2235-01-01"
         },
         {
          "DAMFRAC": "0.0703294256324186",
          "regions": "Japan",
          "time": "2235-01-01"
         },
         {
          "DAMFRAC": "0.047029719966246816",
          "regions": "Russia",
          "time": "2235-01-01"
         },
         {
          "DAMFRAC": "0.05340739723442645",
          "regions": "Eurasia",
          "time": "2235-01-01"
         },
         {
          "DAMFRAC": "0.21281549115435305",
          "regions": "China",
          "time": "2235-01-01"
         },
         {
          "DAMFRAC": "0.10616052740298929",
          "regions": "India",
          "time": "2235-01-01"
         },
         {
          "DAMFRAC": "0.09924328911389359",
          "regions": "MidEast",
          "time": "2235-01-01"
         },
         {
          "DAMFRAC": "0.16401216921695683",
          "regions": "Africa",
          "time": "2235-01-01"
         },
         {
          "DAMFRAC": "0.059957297371425605",
          "regions": "LatAm",
          "time": "2235-01-01"
         },
         {
          "DAMFRAC": "0.12276521783543702",
          "regions": "OHI",
          "time": "2235-01-01"
         },
         {
          "DAMFRAC": "0.1357991772366828",
          "regions": "OthAsia",
          "time": "2235-01-01"
         },
         {
          "DAMFRAC": "0.0674096877295797",
          "regions": "US",
          "time": "2245-01-01"
         },
         {
          "DAMFRAC": "0.11489263164935878",
          "regions": "EU",
          "time": "2245-01-01"
         },
         {
          "DAMFRAC": "0.07409467192893242",
          "regions": "Japan",
          "time": "2245-01-01"
         },
         {
          "DAMFRAC": "0.049468716939176066",
          "regions": "Russia",
          "time": "2245-01-01"
         },
         {
          "DAMFRAC": "0.056079224345324044",
          "regions": "Eurasia",
          "time": "2245-01-01"
         },
         {
          "DAMFRAC": "0.22943990300438802",
          "regions": "China",
          "time": "2245-01-01"
         },
         {
          "DAMFRAC": "0.11203511091418436",
          "regions": "India",
          "time": "2245-01-01"
         },
         {
          "DAMFRAC": "0.10439459142037617",
          "regions": "MidEast",
          "time": "2245-01-01"
         },
         {
          "DAMFRAC": "0.17420052300299582",
          "regions": "Africa",
          "time": "2245-01-01"
         },
         {
          "DAMFRAC": "0.06309356833398738",
          "regions": "LatAm",
          "time": "2245-01-01"
         },
         {
          "DAMFRAC": "0.13105261078079591",
          "regions": "OHI",
          "time": "2245-01-01"
         },
         {
          "DAMFRAC": "0.1489634480058138",
          "regions": "OthAsia",
          "time": "2245-01-01"
         },
         {
          "DAMFRAC": "0.07132384942370766",
          "regions": "US",
          "time": "2255-01-01"
         },
         {
          "DAMFRAC": "0.1218600283366662",
          "regions": "EU",
          "time": "2255-01-01"
         },
         {
          "DAMFRAC": "0.07773130485245124",
          "regions": "Japan",
          "time": "2255-01-01"
         },
         {
          "DAMFRAC": "0.051810607475882786",
          "regions": "Russia",
          "time": "2255-01-01"
         },
         {
          "DAMFRAC": "0.058621481965260964",
          "regions": "Eurasia",
          "time": "2255-01-01"
         },
         {
          "DAMFRAC": "0.2464222466443049",
          "regions": "China",
          "time": "2255-01-01"
         },
         {
          "DAMFRAC": "0.11790162860085171",
          "regions": "India",
          "time": "2255-01-01"
         },
         {
          "DAMFRAC": "0.1094137045110433",
          "regions": "MidEast",
          "time": "2255-01-01"
         },
         {
          "DAMFRAC": "0.1843783187988918",
          "regions": "Africa",
          "time": "2255-01-01"
         },
         {
          "DAMFRAC": "0.06613119835375753",
          "regions": "LatAm",
          "time": "2255-01-01"
         },
         {
          "DAMFRAC": "0.13936980882820132",
          "regions": "OHI",
          "time": "2255-01-01"
         },
         {
          "DAMFRAC": "0.1629882850963092",
          "regions": "OthAsia",
          "time": "2255-01-01"
         },
         {
          "DAMFRAC": "0.07438211483486977",
          "regions": "US",
          "time": "2265-01-01"
         },
         {
          "DAMFRAC": "0.1278524439426385",
          "regions": "EU",
          "time": "2265-01-01"
         },
         {
          "DAMFRAC": "0.08027560391226757",
          "regions": "Japan",
          "time": "2265-01-01"
         },
         {
          "DAMFRAC": "0.05337042975616851",
          "regions": "Russia",
          "time": "2265-01-01"
         },
         {
          "DAMFRAC": "0.06025617674264876",
          "regions": "Eurasia",
          "time": "2265-01-01"
         },
         {
          "DAMFRAC": "0.2629441683420518",
          "regions": "China",
          "time": "2265-01-01"
         },
         {
          "DAMFRAC": "0.12257033762030277",
          "regions": "India",
          "time": "2265-01-01"
         },
         {
          "DAMFRAC": "0.11323033954579383",
          "regions": "MidEast",
          "time": "2265-01-01"
         },
         {
          "DAMFRAC": "0.19319590714499937",
          "regions": "Africa",
          "time": "2265-01-01"
         },
         {
          "DAMFRAC": "0.0682434863434458",
          "regions": "LatAm",
          "time": "2265-01-01"
         },
         {
          "DAMFRAC": "0.1467755461313921",
          "regions": "OHI",
          "time": "2265-01-01"
         },
         {
          "DAMFRAC": "0.17679896304616974",
          "regions": "OthAsia",
          "time": "2265-01-01"
         },
         {
          "DAMFRAC": "0.07610725365063584",
          "regions": "US",
          "time": "2275-01-01"
         },
         {
          "DAMFRAC": "0.1323036956021445",
          "regions": "EU",
          "time": "2275-01-01"
         },
         {
          "DAMFRAC": "0.08118642035528595",
          "regions": "Japan",
          "time": "2275-01-01"
         },
         {
          "DAMFRAC": "0.05376571374295608",
          "regions": "Russia",
          "time": "2275-01-01"
         },
         {
          "DAMFRAC": "0.060549940967589165",
          "regions": "Eurasia",
          "time": "2275-01-01"
         },
         {
          "DAMFRAC": "0.2784214912064941",
          "regions": "China",
          "time": "2275-01-01"
         },
         {
          "DAMFRAC": "0.12536898334668162",
          "regions": "India",
          "time": "2275-01-01"
         },
         {
          "DAMFRAC": "0.11523977411581712",
          "regions": "MidEast",
          "time": "2275-01-01"
         },
         {
          "DAMFRAC": "0.19985686029595123",
          "regions": "Africa",
          "time": "2275-01-01"
         },
         {
          "DAMFRAC": "0.06896807133514829",
          "regions": "LatAm",
          "time": "2275-01-01"
         },
         {
          "DAMFRAC": "0.15269862119901245",
          "regions": "OHI",
          "time": "2275-01-01"
         },
         {
          "DAMFRAC": "0.18970380143473906",
          "regions": "OthAsia",
          "time": "2275-01-01"
         },
         {
          "DAMFRAC": "0.07706008669082136",
          "regions": "US",
          "time": "2285-01-01"
         },
         {
          "DAMFRAC": "0.13581132152297773",
          "regions": "EU",
          "time": "2285-01-01"
         },
         {
          "DAMFRAC": "0.08111900913062663",
          "regions": "Japan",
          "time": "2285-01-01"
         },
         {
          "DAMFRAC": "0.053465974856737736",
          "regions": "Russia",
          "time": "2285-01-01"
         },
         {
          "DAMFRAC": "0.06003718589178339",
          "regions": "Eurasia",
          "time": "2285-01-01"
         },
         {
          "DAMFRAC": "0.2931859521425244",
          "regions": "China",
          "time": "2285-01-01"
         },
         {
          "DAMFRAC": "0.12709586618532712",
          "regions": "India",
          "time": "2285-01-01"
         },
         {
          "DAMFRAC": "0.11615665883118306",
          "regions": "MidEast",
          "time": "2285-01-01"
         },
         {
          "DAMFRAC": "0.20519985314377348",
          "regions": "Africa",
          "time": "2285-01-01"
         },
         {
          "DAMFRAC": "0.06886971060399656",
          "regions": "LatAm",
          "time": "2285-01-01"
         },
         {
          "DAMFRAC": "0.15770528693948352",
          "regions": "OHI",
          "time": "2285-01-01"
         },
         {
          "DAMFRAC": "0.202297530512129",
          "regions": "OthAsia",
          "time": "2285-01-01"
         },
         {
          "DAMFRAC": "0.07762563698243068",
          "regions": "US",
          "time": "2295-01-01"
         },
         {
          "DAMFRAC": "0.1387989308770156",
          "regions": "EU",
          "time": "2295-01-01"
         },
         {
          "DAMFRAC": "0.08052467998942818",
          "regions": "Japan",
          "time": "2295-01-01"
         },
         {
          "DAMFRAC": "0.05279353453463221",
          "regions": "Russia",
          "time": "2295-01-01"
         },
         {
          "DAMFRAC": "0.05908507709587722",
          "regions": "Eurasia",
          "time": "2295-01-01"
         },
         {
          "DAMFRAC": "0.3075104087431212",
          "regions": "China",
          "time": "2295-01-01"
         },
         {
          "DAMFRAC": "0.12829609273241643",
          "regions": "India",
          "time": "2295-01-01"
         },
         {
          "DAMFRAC": "0.11647557004679722",
          "regions": "MidEast",
          "time": "2295-01-01"
         },
         {
          "DAMFRAC": "0.2098158363017564",
          "regions": "Africa",
          "time": "2295-01-01"
         },
         {
          "DAMFRAC": "0.06833567857255886",
          "regions": "LatAm",
          "time": "2295-01-01"
         },
         {
          "DAMFRAC": "0.16220291173114526",
          "regions": "OHI",
          "time": "2295-01-01"
         },
         {
          "DAMFRAC": "0.21499290847526847",
          "regions": "OthAsia",
          "time": "2295-01-01"
         },
         {
          "DAMFRAC": "0.07805338309668425",
          "regions": "US",
          "time": "2305-01-01"
         },
         {
          "DAMFRAC": "0.1415399458729898",
          "regions": "EU",
          "time": "2305-01-01"
         },
         {
          "DAMFRAC": "0.07969780960112206",
          "regions": "Japan",
          "time": "2305-01-01"
         },
         {
          "DAMFRAC": "0.05195884917624268",
          "regions": "Russia",
          "time": "2305-01-01"
         },
         {
          "DAMFRAC": "0.05793377748542622",
          "regions": "Eurasia",
          "time": "2305-01-01"
         },
         {
          "DAMFRAC": "0.321562150254977",
          "regions": "China",
          "time": "2305-01-01"
         },
         {
          "DAMFRAC": "0.12932097531229586",
          "regions": "India",
          "time": "2305-01-01"
         },
         {
          "DAMFRAC": "0.11651762854475867",
          "regions": "MidEast",
          "time": "2305-01-01"
         },
         {
          "DAMFRAC": "0.2140855178275244",
          "regions": "Africa",
          "time": "2305-01-01"
         },
         {
          "DAMFRAC": "0.06761832206830828",
          "regions": "LatAm",
          "time": "2305-01-01"
         },
         {
          "DAMFRAC": "0.16645293156421356",
          "regions": "OHI",
          "time": "2305-01-01"
         },
         {
          "DAMFRAC": "0.2280297676871304",
          "regions": "OthAsia",
          "time": "2305-01-01"
         },
         {
          "DAMFRAC": "0.07848989974791754",
          "regions": "US",
          "time": "2315-01-01"
         },
         {
          "DAMFRAC": "0.14416396965765982",
          "regions": "EU",
          "time": "2315-01-01"
         },
         {
          "DAMFRAC": "0.07881624953819204",
          "regions": "Japan",
          "time": "2315-01-01"
         },
         {
          "DAMFRAC": "0.05109181867975216",
          "regions": "Russia",
          "time": "2315-01-01"
         },
         {
          "DAMFRAC": "0.05673242814447404",
          "regions": "Eurasia",
          "time": "2315-01-01"
         },
         {
          "DAMFRAC": "0.33528552048694427",
          "regions": "China",
          "time": "2315-01-01"
         },
         {
          "DAMFRAC": "0.13037429456023972",
          "regions": "India",
          "time": "2315-01-01"
         },
         {
          "DAMFRAC": "0.116471393671112",
          "regions": "MidEast",
          "time": "2315-01-01"
         },
         {
          "DAMFRAC": "0.2181972951193611",
          "regions": "Africa",
          "time": "2315-01-01"
         },
         {
          "DAMFRAC": "0.06687146191562902",
          "regions": "LatAm",
          "time": "2315-01-01"
         },
         {
          "DAMFRAC": "0.1705652205782108",
          "regions": "OHI",
          "time": "2315-01-01"
         },
         {
          "DAMFRAC": "0.2414752939321455",
          "regions": "OthAsia",
          "time": "2315-01-01"
         },
         {
          "DAMFRAC": "0.07902184840632849",
          "regions": "US",
          "time": "2325-01-01"
         },
         {
          "DAMFRAC": "0.14675890366573707",
          "regions": "EU",
          "time": "2325-01-01"
         },
         {
          "DAMFRAC": "0.07798664822247836",
          "regions": "Japan",
          "time": "2325-01-01"
         },
         {
          "DAMFRAC": "0.05026950246471387",
          "regions": "Russia",
          "time": "2325-01-01"
         },
         {
          "DAMFRAC": "0.055569850074427246",
          "regions": "Eurasia",
          "time": "2325-01-01"
         },
         {
          "DAMFRAC": "0.34869000658268756",
          "regions": "China",
          "time": "2325-01-01"
         },
         {
          "DAMFRAC": "0.13157663132973357",
          "regions": "India",
          "time": "2325-01-01"
         },
         {
          "DAMFRAC": "0.11645270370491409",
          "regions": "MidEast",
          "time": "2325-01-01"
         },
         {
          "DAMFRAC": "0.22227523376992078",
          "regions": "Africa",
          "time": "2325-01-01"
         },
         {
          "DAMFRAC": "0.06618639022028376",
          "regions": "LatAm",
          "time": "2325-01-01"
         },
         {
          "DAMFRAC": "0.17461954359096138",
          "regions": "OHI",
          "time": "2325-01-01"
         },
         {
          "DAMFRAC": "0.25536195939110096",
          "regions": "OthAsia",
          "time": "2325-01-01"
         },
         {
          "DAMFRAC": "0.07970419550908225",
          "regions": "US",
          "time": "2335-01-01"
         },
         {
          "DAMFRAC": "0.14941800252478382",
          "regions": "EU",
          "time": "2335-01-01"
         },
         {
          "DAMFRAC": "0.07727386756171767",
          "regions": "Japan",
          "time": "2335-01-01"
         },
         {
          "DAMFRAC": "0.04953564230730146",
          "regions": "Russia",
          "time": "2335-01-01"
         },
         {
          "DAMFRAC": "0.05449604627378866",
          "regions": "Eurasia",
          "time": "2335-01-01"
         },
         {
          "DAMFRAC": "0.3619566254835721",
          "regions": "China",
          "time": "2335-01-01"
         },
         {
          "DAMFRAC": "0.13300702479711568",
          "regions": "India",
          "time": "2335-01-01"
         },
         {
          "DAMFRAC": "0.11653958683292262",
          "regions": "MidEast",
          "time": "2335-01-01"
         },
         {
          "DAMFRAC": "0.2264405311529708",
          "regions": "Africa",
          "time": "2335-01-01"
         },
         {
          "DAMFRAC": "0.06561665687303343",
          "regions": "LatAm",
          "time": "2335-01-01"
         },
         {
          "DAMFRAC": "0.17871845292818372",
          "regions": "OHI",
          "time": "2335-01-01"
         },
         {
          "DAMFRAC": "0.2697644450844181",
          "regions": "OthAsia",
          "time": "2335-01-01"
         },
         {
          "DAMFRAC": "0.08056034412412688",
          "regions": "US",
          "time": "2345-01-01"
         },
         {
          "DAMFRAC": "0.15217662518385647",
          "regions": "EU",
          "time": "2345-01-01"
         },
         {
          "DAMFRAC": "0.07670719231212947",
          "regions": "Japan",
          "time": "2345-01-01"
         },
         {
          "DAMFRAC": "0.04891049840975381",
          "regions": "Russia",
          "time": "2345-01-01"
         },
         {
          "DAMFRAC": "0.0535345084566424",
          "regions": "Eurasia",
          "time": "2345-01-01"
         },
         {
          "DAMFRAC": "0.37513747834946976",
          "regions": "China",
          "time": "2345-01-01"
         },
         {
          "DAMFRAC": "0.13469861564820013",
          "regions": "India",
          "time": "2345-01-01"
         },
         {
          "DAMFRAC": "0.11676687558894745",
          "regions": "MidEast",
          "time": "2345-01-01"
         },
         {
          "DAMFRAC": "0.2307404392422627",
          "regions": "Africa",
          "time": "2345-01-01"
         },
         {
          "DAMFRAC": "0.06518659212954085",
          "regions": "LatAm",
          "time": "2345-01-01"
         },
         {
          "DAMFRAC": "0.1828992642787338",
          "regions": "OHI",
          "time": "2345-01-01"
         },
         {
          "DAMFRAC": "0.2846910707015431",
          "regions": "OthAsia",
          "time": "2345-01-01"
         },
         {
          "DAMFRAC": "0.0815972098440002",
          "regions": "US",
          "time": "2355-01-01"
         },
         {
          "DAMFRAC": "0.15504982993842184",
          "regions": "EU",
          "time": "2355-01-01"
         },
         {
          "DAMFRAC": "0.07629613989876949",
          "regions": "Japan",
          "time": "2355-01-01"
         },
         {
          "DAMFRAC": "0.048400344039577166",
          "regions": "Russia",
          "time": "2355-01-01"
         },
         {
          "DAMFRAC": "0.052692705342413895",
          "regions": "Eurasia",
          "time": "2355-01-01"
         },
         {
          "DAMFRAC": "0.3882615668238487",
          "regions": "China",
          "time": "2355-01-01"
         },
         {
          "DAMFRAC": "0.13666114236868304",
          "regions": "India",
          "time": "2355-01-01"
         },
         {
          "DAMFRAC": "0.11714735565706233",
          "regions": "MidEast",
          "time": "2355-01-01"
         },
         {
          "DAMFRAC": "0.2351945154993791",
          "regions": "Africa",
          "time": "2355-01-01"
         },
         {
          "DAMFRAC": "0.06490372882318432",
          "regions": "LatAm",
          "time": "2355-01-01"
         },
         {
          "DAMFRAC": "0.18717901300363074",
          "regions": "OHI",
          "time": "2355-01-01"
         },
         {
          "DAMFRAC": "0.3001335893645043",
          "regions": "OthAsia",
          "time": "2355-01-01"
         },
         {
          "DAMFRAC": "0.08281205730763883",
          "regions": "US",
          "time": "2365-01-01"
         },
         {
          "DAMFRAC": "0.15804071443257292",
          "regions": "EU",
          "time": "2365-01-01"
         },
         {
          "DAMFRAC": "0.07603848209056296",
          "regions": "Japan",
          "time": "2365-01-01"
         },
         {
          "DAMFRAC": "0.04800314602270078",
          "regions": "Russia",
          "time": "2365-01-01"
         },
         {
          "DAMFRAC": "0.05196855777148225",
          "regions": "Eurasia",
          "time": "2365-01-01"
         },
         {
          "DAMFRAC": "0.4013463089625222",
          "regions": "China",
          "time": "2365-01-01"
         },
         {
          "DAMFRAC": "0.1388905998031329",
          "regions": "India",
          "time": "2365-01-01"
         },
         {
          "DAMFRAC": "0.11768061014895315",
          "regions": "MidEast",
          "time": "2365-01-01"
         },
         {
          "DAMFRAC": "0.23980611410410885",
          "regions": "Africa",
          "time": "2365-01-01"
         },
         {
          "DAMFRAC": "0.06476563599573847",
          "regions": "LatAm",
          "time": "2365-01-01"
         },
         {
          "DAMFRAC": "0.19156287647476752",
          "regions": "OHI",
          "time": "2365-01-01"
         },
         {
          "DAMFRAC": "0.3160756090627723",
          "regions": "OthAsia",
          "time": "2365-01-01"
         },
         {
          "DAMFRAC": "0.08419687742808485",
          "regions": "US",
          "time": "2375-01-01"
         },
         {
          "DAMFRAC": "0.16114558264904286",
          "regions": "EU",
          "time": "2375-01-01"
         },
         {
          "DAMFRAC": "0.07592542804566244",
          "regions": "Japan",
          "time": "2375-01-01"
         },
         {
          "DAMFRAC": "0.04771224254270191",
          "regions": "Russia",
          "time": "2375-01-01"
         },
         {
          "DAMFRAC": "0.05135463825995019",
          "regions": "Eurasia",
          "time": "2375-01-01"
         },
         {
          "DAMFRAC": "0.41440231254095405",
          "regions": "China",
          "time": "2375-01-01"
         },
         {
          "DAMFRAC": "0.14137543470576133",
          "regions": "India",
          "time": "2375-01-01"
         },
         {
          "DAMFRAC": "0.11835873029583008",
          "regions": "MidEast",
          "time": "2375-01-01"
         },
         {
          "DAMFRAC": "0.24456943555984684",
          "regions": "Africa",
          "time": "2375-01-01"
         },
         {
          "DAMFRAC": "0.06476433892593743",
          "regions": "LatAm",
          "time": "2375-01-01"
         },
         {
          "DAMFRAC": "0.19604925187469366",
          "regions": "OHI",
          "time": "2375-01-01"
         },
         {
          "DAMFRAC": "0.33249711471258603",
          "regions": "OthAsia",
          "time": "2375-01-01"
         },
         {
          "DAMFRAC": "0.08574113479358764",
          "regions": "US",
          "time": "2385-01-01"
         },
         {
          "DAMFRAC": "0.16435717811162745",
          "regions": "EU",
          "time": "2385-01-01"
         },
         {
          "DAMFRAC": "0.07594491247070322",
          "regions": "Japan",
          "time": "2385-01-01"
         },
         {
          "DAMFRAC": "0.04751867892028729",
          "regions": "Russia",
          "time": "2385-01-01"
         },
         {
          "DAMFRAC": "0.050840844202146",
          "regions": "Eurasia",
          "time": "2385-01-01"
         },
         {
          "DAMFRAC": "0.4274360950361492",
          "regions": "China",
          "time": "2385-01-01"
         },
         {
          "DAMFRAC": "0.144100451031274",
          "regions": "India",
          "time": "2385-01-01"
         },
         {
          "DAMFRAC": "0.11916995243011008",
          "regions": "MidEast",
          "time": "2385-01-01"
         },
         {
          "DAMFRAC": "0.2494739327956892",
          "regions": "Africa",
          "time": "2385-01-01"
         },
         {
          "DAMFRAC": "0.06488912386150589",
          "regions": "LatAm",
          "time": "2385-01-01"
         },
         {
          "DAMFRAC": "0.20063291429016508",
          "regions": "OHI",
          "time": "2385-01-01"
         },
         {
          "DAMFRAC": "0.3493769613676934",
          "regions": "OthAsia",
          "time": "2385-01-01"
         },
         {
          "DAMFRAC": "0.08743344728337302",
          "regions": "US",
          "time": "2395-01-01"
         },
         {
          "DAMFRAC": "0.1676666699664638",
          "regions": "EU",
          "time": "2395-01-01"
         },
         {
          "DAMFRAC": "0.07608363406293833",
          "regions": "Japan",
          "time": "2395-01-01"
         },
         {
          "DAMFRAC": "0.04741265642155803",
          "regions": "Russia",
          "time": "2395-01-01"
         },
         {
          "DAMFRAC": "0.050416060968895476",
          "regions": "Eurasia",
          "time": "2395-01-01"
         },
         {
          "DAMFRAC": "0.4404516723327532",
          "regions": "China",
          "time": "2395-01-01"
         },
         {
          "DAMFRAC": "0.1470492095056733",
          "regions": "India",
          "time": "2395-01-01"
         },
         {
          "DAMFRAC": "0.12010092692827598",
          "regions": "MidEast",
          "time": "2395-01-01"
         },
         {
          "DAMFRAC": "0.2545070146851579",
          "regions": "Africa",
          "time": "2395-01-01"
         },
         {
          "DAMFRAC": "0.06512827587288697",
          "regions": "LatAm",
          "time": "2395-01-01"
         },
         {
          "DAMFRAC": "0.20530694904179092",
          "regions": "OHI",
          "time": "2395-01-01"
         },
         {
          "DAMFRAC": "0.36669413215324786",
          "regions": "OthAsia",
          "time": "2395-01-01"
         },
         {
          "DAMFRAC": "0.08926257535487218",
          "regions": "US",
          "time": "2405-01-01"
         },
         {
          "DAMFRAC": "0.17106484155632232",
          "regions": "EU",
          "time": "2405-01-01"
         },
         {
          "DAMFRAC": "0.07632827914203319",
          "regions": "Japan",
          "time": "2405-01-01"
         },
         {
          "DAMFRAC": "0.04738440171167459",
          "regions": "Russia",
          "time": "2405-01-01"
         },
         {
          "DAMFRAC": "0.05006916409185677",
          "regions": "Eurasia",
          "time": "2405-01-01"
         },
         {
          "DAMFRAC": "0.45345148818839875",
          "regions": "China",
          "time": "2405-01-01"
         },
         {
          "DAMFRAC": "0.1502054492491331",
          "regions": "India",
          "time": "2405-01-01"
         },
         {
          "DAMFRAC": "0.12113809343457332",
          "regions": "MidEast",
          "time": "2405-01-01"
         },
         {
          "DAMFRAC": "0.2596556605041014",
          "regions": "Africa",
          "time": "2405-01-01"
         },
         {
          "DAMFRAC": "0.06547012029198551",
          "regions": "LatAm",
          "time": "2405-01-01"
         },
         {
          "DAMFRAC": "0.21006390647306583",
          "regions": "OHI",
          "time": "2405-01-01"
         },
         {
          "DAMFRAC": "0.3844282625025799",
          "regions": "OthAsia",
          "time": "2405-01-01"
         },
         {
          "DAMFRAC": "0.09121797102030776",
          "regions": "US",
          "time": "2415-01-01"
         },
         {
          "DAMFRAC": "0.1745427736850027",
          "regions": "EU",
          "time": "2415-01-01"
         },
         {
          "DAMFRAC": "0.07666622005269802",
          "regions": "Japan",
          "time": "2415-01-01"
         },
         {
          "DAMFRAC": "0.0474246622926338",
          "regions": "Russia",
          "time": "2415-01-01"
         },
         {
          "DAMFRAC": "0.049789593843147635",
          "regions": "Eurasia",
          "time": "2415-01-01"
         },
         {
          "DAMFRAC": "0.4664369610614606",
          "regions": "China",
          "time": "2415-01-01"
         },
         {
          "DAMFRAC": "0.15355388227392464",
          "regions": "India",
          "time": "2415-01-01"
         },
         {
          "DAMFRAC": "0.12226847793830242",
          "regions": "MidEast",
          "time": "2415-01-01"
         },
         {
          "DAMFRAC": "0.2649073439420062",
          "regions": "Africa",
          "time": "2415-01-01"
         },
         {
          "DAMFRAC": "0.06590361489619526",
          "regions": "LatAm",
          "time": "2415-01-01"
         },
         {
          "DAMFRAC": "0.214896467739477",
          "regions": "OHI",
          "time": "2415-01-01"
         },
         {
          "DAMFRAC": "0.40255974586499027",
          "regions": "OthAsia",
          "time": "2415-01-01"
         },
         {
          "DAMFRAC": "0.09329005042976432",
          "regions": "US",
          "time": "2425-01-01"
         },
         {
          "DAMFRAC": "0.17809221112016027",
          "regions": "EU",
          "time": "2425-01-01"
         },
         {
          "DAMFRAC": "0.0770858794902875",
          "regions": "Japan",
          "time": "2425-01-01"
         },
         {
          "DAMFRAC": "0.04752496377468769",
          "regions": "Russia",
          "time": "2425-01-01"
         },
         {
          "DAMFRAC": "0.04956765676748898",
          "regions": "Eurasia",
          "time": "2425-01-01"
         },
         {
          "DAMFRAC": "0.4794088109344722",
          "regions": "China",
          "time": "2425-01-01"
         },
         {
          "DAMFRAC": "0.1570805919630755",
          "regions": "India",
          "time": "2425-01-01"
         },
         {
          "DAMFRAC": "0.12348012018144561",
          "regions": "MidEast",
          "time": "2425-01-01"
         },
         {
          "DAMFRAC": "0.2702505240388845",
          "regions": "Africa",
          "time": "2425-01-01"
         },
         {
          "DAMFRAC": "0.0664186562805923",
          "regions": "LatAm",
          "time": "2425-01-01"
         },
         {
          "DAMFRAC": "0.2197978060628842",
          "regions": "OHI",
          "time": "2425-01-01"
         },
         {
          "DAMFRAC": "0.4210696149736424",
          "regions": "OthAsia",
          "time": "2425-01-01"
         },
         {
          "DAMFRAC": "0.09547029662262951",
          "regions": "US",
          "time": "2435-01-01"
         },
         {
          "DAMFRAC": "0.181705733357568",
          "regions": "EU",
          "time": "2435-01-01"
         },
         {
          "DAMFRAC": "0.07757688607546169",
          "regions": "Japan",
          "time": "2435-01-01"
         },
         {
          "DAMFRAC": "0.047677718228385124",
          "regions": "Russia",
          "time": "2435-01-01"
         },
         {
          "DAMFRAC": "0.049394655876792225",
          "regions": "Eurasia",
          "time": "2435-01-01"
         },
         {
          "DAMFRAC": "0.4923672613098619",
          "regions": "China",
          "time": "2435-01-01"
         },
         {
          "DAMFRAC": "0.16077318661859918",
          "regions": "India",
          "time": "2435-01-01"
         },
         {
          "DAMFRAC": "0.12476226838330769",
          "regions": "MidEast",
          "time": "2435-01-01"
         },
         {
          "DAMFRAC": "0.275674868454753",
          "regions": "Africa",
          "time": "2435-01-01"
         },
         {
          "DAMFRAC": "0.06700620774014132",
          "regions": "LatAm",
          "time": "2435-01-01"
         },
         {
          "DAMFRAC": "0.22476176077960455",
          "regions": "OHI",
          "time": "2435-01-01"
         },
         {
          "DAMFRAC": "0.4399393162957774",
          "regions": "OthAsia",
          "time": "2435-01-01"
         },
         {
          "DAMFRAC": "0.09775126115989848",
          "regions": "US",
          "time": "2445-01-01"
         },
         {
          "DAMFRAC": "0.18537680697040318",
          "regions": "EU",
          "time": "2445-01-01"
         },
         {
          "DAMFRAC": "0.07813010282938011",
          "regions": "Japan",
          "time": "2445-01-01"
         },
         {
          "DAMFRAC": "0.047876241864376126",
          "regions": "Russia",
          "time": "2445-01-01"
         },
         {
          "DAMFRAC": "0.04926291602909",
          "regions": "Eurasia",
          "time": "2445-01-01"
         },
         {
          "DAMFRAC": "0.5053121720455288",
          "regions": "China",
          "time": "2445-01-01"
         },
         {
          "DAMFRAC": "0.16462080611190746",
          "regions": "India",
          "time": "2445-01-01"
         },
         {
          "DAMFRAC": "0.1261054308442432",
          "regions": "MidEast",
          "time": "2445-01-01"
         },
         {
          "DAMFRAC": "0.28117131493533803",
          "regions": "Africa",
          "time": "2445-01-01"
         },
         {
          "DAMFRAC": "0.0676583186638267",
          "regions": "LatAm",
          "time": "2445-01-01"
         },
         {
          "DAMFRAC": "0.2297828984931629",
          "regions": "OHI",
          "time": "2445-01-01"
         },
         {
          "DAMFRAC": "0.45915044878113226",
          "regions": "OthAsia",
          "time": "2445-01-01"
         },
         {
          "DAMFRAC": "0.10012650853326886",
          "regions": "US",
          "time": "2455-01-01"
         },
         {
          "DAMFRAC": "0.18909976869457612",
          "regions": "EU",
          "time": "2455-01-01"
         },
         {
          "DAMFRAC": "0.0787375813667865",
          "regions": "Japan",
          "time": "2455-01-01"
         },
         {
          "DAMFRAC": "0.04811471977351887",
          "regions": "Russia",
          "time": "2455-01-01"
         },
         {
          "DAMFRAC": "0.04916574769661564",
          "regions": "Eurasia",
          "time": "2455-01-01"
         },
         {
          "DAMFRAC": "0.5182431358428107",
          "regions": "China",
          "time": "2455-01-01"
         },
         {
          "DAMFRAC": "0.16861404467993077",
          "regions": "India",
          "time": "2455-01-01"
         },
         {
          "DAMFRAC": "0.12750134264128676",
          "regions": "MidEast",
          "time": "2455-01-01"
         },
         {
          "DAMFRAC": "0.28673203839701206",
          "regions": "Africa",
          "time": "2455-01-01"
         },
         {
          "DAMFRAC": "0.06836808075279756",
          "regions": "LatAm",
          "time": "2455-01-01"
         },
         {
          "DAMFRAC": "0.23485650818543058",
          "regions": "OHI",
          "time": "2455-01-01"
         },
         {
          "DAMFRAC": "0.47868451155666225",
          "regions": "OthAsia",
          "time": "2455-01-01"
         },
         {
          "DAMFRAC": "0.10259053105361002",
          "regions": "US",
          "time": "2465-01-01"
         },
         {
          "DAMFRAC": "0.19286977027456306",
          "regions": "EU",
          "time": "2465-01-01"
         },
         {
          "DAMFRAC": "0.07939247565002709",
          "regions": "Japan",
          "time": "2465-01-01"
         },
         {
          "DAMFRAC": "0.04838814193126651",
          "regions": "Russia",
          "time": "2465-01-01"
         },
         {
          "DAMFRAC": "0.049097376925231695",
          "regions": "Eurasia",
          "time": "2465-01-01"
         },
         {
          "DAMFRAC": "0.5311595581598945",
          "regions": "China",
          "time": "2465-01-01"
         },
         {
          "DAMFRAC": "0.17274482993026985",
          "regions": "India",
          "time": "2465-01-01"
         },
         {
          "DAMFRAC": "0.12894288494732298",
          "regions": "MidEast",
          "time": "2465-01-01"
         },
         {
          "DAMFRAC": "0.29235036626704103",
          "regions": "Africa",
          "time": "2465-01-01"
         },
         {
          "DAMFRAC": "0.06912955009820437",
          "regions": "LatAm",
          "time": "2465-01-01"
         },
         {
          "DAMFRAC": "0.23997855964735135",
          "regions": "OHI",
          "time": "2465-01-01"
         },
         {
          "DAMFRAC": "0.49852269244208886",
          "regions": "OthAsia",
          "time": "2465-01-01"
         },
         {
          "DAMFRAC": "0.10513865139960023",
          "regions": "US",
          "time": "2475-01-01"
         },
         {
          "DAMFRAC": "0.19668270444391123",
          "regions": "EU",
          "time": "2475-01-01"
         },
         {
          "DAMFRAC": "0.08008893669352528",
          "regions": "Japan",
          "time": "2475-01-01"
         },
         {
          "DAMFRAC": "0.04869222577419781",
          "regions": "Russia",
          "time": "2475-01-01"
         },
         {
          "DAMFRAC": "0.0490528591381557",
          "regions": "Eurasia",
          "time": "2475-01-01"
         },
         {
          "DAMFRAC": "0.5440607330188689",
          "regions": "China",
          "time": "2475-01-01"
         },
         {
          "DAMFRAC": "0.17700628308263067",
          "regions": "India",
          "time": "2475-01-01"
         },
         {
          "DAMFRAC": "0.13042398088237772",
          "regions": "MidEast",
          "time": "2475-01-01"
         },
         {
          "DAMFRAC": "0.2980206687405268",
          "regions": "Africa",
          "time": "2475-01-01"
         },
         {
          "DAMFRAC": "0.06993765345618663",
          "regions": "LatAm",
          "time": "2475-01-01"
         },
         {
          "DAMFRAC": "0.24514564345498527",
          "regions": "OHI",
          "time": "2475-01-01"
         },
         {
          "DAMFRAC": "0.5186457263467993",
          "regions": "OthAsia",
          "time": "2475-01-01"
         },
         {
          "DAMFRAC": "0.1077669232027964",
          "regions": "US",
          "time": "2485-01-01"
         },
         {
          "DAMFRAC": "0.20053512393481718",
          "regions": "EU",
          "time": "2485-01-01"
         },
         {
          "DAMFRAC": "0.08082200145834367",
          "regions": "Japan",
          "time": "2485-01-01"
         },
         {
          "DAMFRAC": "0.04902333482526492",
          "regions": "Russia",
          "time": "2485-01-01"
         },
         {
          "DAMFRAC": "0.0490279877679303",
          "regions": "Eurasia",
          "time": "2485-01-01"
         },
         {
          "DAMFRAC": "0.5569459232017886",
          "regions": "China",
          "time": "2485-01-01"
         },
         {
          "DAMFRAC": "0.18139257567941575",
          "regions": "India",
          "time": "2485-01-01"
         },
         {
          "DAMFRAC": "0.13193948284882157",
          "regions": "MidEast",
          "time": "2485-01-01"
         },
         {
          "DAMFRAC": "0.30373824032801267",
          "regions": "Africa",
          "time": "2485-01-01"
         },
         {
          "DAMFRAC": "0.07078809004927539",
          "regions": "LatAm",
          "time": "2485-01-01"
         },
         {
          "DAMFRAC": "0.2503549036320103",
          "regions": "OHI",
          "time": "2485-01-01"
         },
         {
          "DAMFRAC": "0.539033857905395",
          "regions": "OthAsia",
          "time": "2485-01-01"
         },
         {
          "DAMFRAC": "0.11047203567252595",
          "regions": "US",
          "time": "2495-01-01"
         },
         {
          "DAMFRAC": "0.20442416061897112",
          "regions": "EU",
          "time": "2495-01-01"
         },
         {
          "DAMFRAC": "0.08158748386542129",
          "regions": "Japan",
          "time": "2495-01-01"
         },
         {
          "DAMFRAC": "0.04937839903922461",
          "regions": "Russia",
          "time": "2495-01-01"
         },
         {
          "DAMFRAC": "0.04901920433624037",
          "regions": "Eurasia",
          "time": "2495-01-01"
         },
         {
          "DAMFRAC": "0.5698144512915765",
          "regions": "China",
          "time": "2495-01-01"
         },
         {
          "DAMFRAC": "0.18589879165795817",
          "regions": "India",
          "time": "2495-01-01"
         },
         {
          "DAMFRAC": "0.13348506043235708",
          "regions": "MidEast",
          "time": "2495-01-01"
         },
         {
          "DAMFRAC": "0.30949918245647123",
          "regions": "Africa",
          "time": "2495-01-01"
         },
         {
          "DAMFRAC": "0.07167723565431872",
          "regions": "LatAm",
          "time": "2495-01-01"
         },
         {
          "DAMFRAC": "0.2556039696385755",
          "regions": "OHI",
          "time": "2495-01-01"
         },
         {
          "DAMFRAC": "0.5596669556415538",
          "regions": "OthAsia",
          "time": "2495-01-01"
         },
         {
          "DAMFRAC": "0.11325122547981081",
          "regions": "US",
          "time": "2505-01-01"
         },
         {
          "DAMFRAC": "0.20834744882451425",
          "regions": "EU",
          "time": "2505-01-01"
         },
         {
          "DAMFRAC": "0.08238187241804054",
          "regions": "Japan",
          "time": "2505-01-01"
         },
         {
          "DAMFRAC": "0.04975484007409847",
          "regions": "Russia",
          "time": "2505-01-01"
         },
         {
          "DAMFRAC": "0.04902351376345608",
          "regions": "Eurasia",
          "time": "2505-01-01"
         },
         {
          "DAMFRAC": "0.5826658071002312",
          "regions": "China",
          "time": "2505-01-01"
         },
         {
          "DAMFRAC": "0.1905207996104581",
          "regions": "India",
          "time": "2505-01-01"
         },
         {
          "DAMFRAC": "0.13505709412522496",
          "regions": "MidEast",
          "time": "2505-01-01"
         },
         {
          "DAMFRAC": "0.31530029265683873",
          "regions": "Africa",
          "time": "2505-01-01"
         },
         {
          "DAMFRAC": "0.07260205277981283",
          "regions": "LatAm",
          "time": "2505-01-01"
         },
         {
          "DAMFRAC": "0.2608908914758608",
          "regions": "OHI",
          "time": "2505-01-01"
         },
         {
          "DAMFRAC": "0.5805248460394417",
          "regions": "OthAsia",
          "time": "2505-01-01"
         },
         {
          "DAMFRAC": "0.11610219737193507",
          "regions": "US",
          "time": "2515-01-01"
         },
         {
          "DAMFRAC": "0.21230305493869356",
          "regions": "EU",
          "time": "2515-01-01"
         },
         {
          "DAMFRAC": "0.08320223672204152",
          "regions": "Japan",
          "time": "2515-01-01"
         },
         {
          "DAMFRAC": "0.05015050311433329",
          "regions": "Russia",
          "time": "2515-01-01"
         },
         {
          "DAMFRAC": "0.049038406863556504",
          "regions": "Eurasia",
          "time": "2515-01-01"
         },
         {
          "DAMFRAC": "0.5954997767769391",
          "regions": "China",
          "time": "2515-01-01"
         },
         {
          "DAMFRAC": "0.19525513748648182",
          "regions": "India",
          "time": "2515-01-01"
         },
         {
          "DAMFRAC": "0.13665257765810218",
          "regions": "MidEast",
          "time": "2515-01-01"
         },
         {
          "DAMFRAC": "0.3211389631883253",
          "regions": "Africa",
          "time": "2515-01-01"
         },
         {
          "DAMFRAC": "0.0735600088433425",
          "regions": "LatAm",
          "time": "2515-01-01"
         },
         {
          "DAMFRAC": "0.266214079902531",
          "regions": "OHI",
          "time": "2515-01-01"
         },
         {
          "DAMFRAC": "0.6015879663251072",
          "regions": "OthAsia",
          "time": "2515-01-01"
         },
         {
          "DAMFRAC": "0.11902305391648044",
          "regions": "US",
          "time": "2525-01-01"
         },
         {
          "DAMFRAC": "0.21628941419733558",
          "regions": "EU",
          "time": "2525-01-01"
         },
         {
          "DAMFRAC": "0.08404614380540619",
          "regions": "Japan",
          "time": "2525-01-01"
         },
         {
          "DAMFRAC": "0.05056359587595487",
          "regions": "Russia",
          "time": "2525-01-01"
         },
         {
          "DAMFRAC": "0.049061790823705764",
          "regions": "Eurasia",
          "time": "2525-01-01"
         },
         {
          "DAMFRAC": "0.608316599038216",
          "regions": "China",
          "time": "2525-01-01"
         },
         {
          "DAMFRAC": "0.20009891040253636",
          "regions": "India",
          "time": "2525-01-01"
         },
         {
          "DAMFRAC": "0.13826903015598496",
          "regions": "MidEast",
          "time": "2525-01-01"
         },
         {
          "DAMFRAC": "0.32701309027263803",
          "regions": "Africa",
          "time": "2525-01-01"
         },
         {
          "DAMFRAC": "0.0745490030705829",
          "regions": "LatAm",
          "time": "2525-01-01"
         },
         {
          "DAMFRAC": "0.2715722526448605",
          "regions": "OHI",
          "time": "2525-01-01"
         },
         {
          "DAMFRAC": "0.6228384759117777",
          "regions": "OthAsia",
          "time": "2525-01-01"
         },
         {
          "DAMFRAC": "0.12201223413837028",
          "regions": "US",
          "time": "2535-01-01"
         },
         {
          "DAMFRAC": "0.2203052748246121",
          "regions": "EU",
          "time": "2535-01-01"
         },
         {
          "DAMFRAC": "0.08491158428836018",
          "regions": "Japan",
          "time": "2535-01-01"
         },
         {
          "DAMFRAC": "0.05099263481390446",
          "regions": "Russia",
          "time": "2535-01-01"
         },
         {
          "DAMFRAC": "0.049091927754037916",
          "regions": "Eurasia",
          "time": "2535-01-01"
         },
         {
          "DAMFRAC": "0.6211171543613155",
          "regions": "China",
          "time": "2535-01-01"
         },
         {
          "DAMFRAC": "0.20504970127350552",
          "regions": "India",
          "time": "2535-01-01"
         },
         {
          "DAMFRAC": "0.13990441835725076",
          "regions": "MidEast",
          "time": "2535-01-01"
         },
         {
          "DAMFRAC": "0.33292099408821263",
          "regions": "Africa",
          "time": "2535-01-01"
         },
         {
          "DAMFRAC": "0.07556730211072187",
          "regions": "LatAm",
          "time": "2535-01-01"
         },
         {
          "DAMFRAC": "0.27696438680402613",
          "regions": "OHI",
          "time": "2535-01-01"
         },
         {
          "DAMFRAC": "0.6442620192600921",
          "regions": "OthAsia",
          "time": "2535-01-01"
         },
         {
          "DAMFRAC": "0.12506846045980838",
          "regions": "US",
          "time": "2545-01-01"
         },
         {
          "DAMFRAC": "0.22434964925321588",
          "regions": "EU",
          "time": "2545-01-01"
         },
         {
          "DAMFRAC": "0.08579690795601944",
          "regions": "Japan",
          "time": "2545-01-01"
         },
         {
          "DAMFRAC": "0.05143639819420357",
          "regions": "Russia",
          "time": "2545-01-01"
         },
         {
          "DAMFRAC": "0.049127380970713105",
          "regions": "Eurasia",
          "time": "2545-01-01"
         },
         {
          "DAMFRAC": "0.6339031935477847",
          "regions": "China",
          "time": "2545-01-01"
         },
         {
          "DAMFRAC": "0.21010549344630328",
          "regions": "India",
          "time": "2545-01-01"
         },
         {
          "DAMFRAC": "0.14155708855144114",
          "regions": "MidEast",
          "time": "2545-01-01"
         },
         {
          "DAMFRAC": "0.3388613490756246",
          "regions": "Africa",
          "time": "2545-01-01"
         },
         {
          "DAMFRAC": "0.07661348393945153",
          "regions": "LatAm",
          "time": "2545-01-01"
         },
         {
          "DAMFRAC": "0.2823896772656841",
          "regions": "OHI",
          "time": "2545-01-01"
         },
         {
          "DAMFRAC": "0.6658503966355962",
          "regions": "OthAsia",
          "time": "2545-01-01"
         },
         {
          "DAMFRAC": "0.1281906931785295",
          "regions": "US",
          "time": "2555-01-01"
         },
         {
          "DAMFRAC": "0.2284217719172617",
          "regions": "EU",
          "time": "2555-01-01"
         },
         {
          "DAMFRAC": "0.08670076801471126",
          "regions": "Japan",
          "time": "2555-01-01"
         },
         {
          "DAMFRAC": "0.051893885500179954",
          "regions": "Russia",
          "time": "2555-01-01"
         },
         {
          "DAMFRAC": "0.04916696844287147",
          "regions": "Eurasia",
          "time": "2555-01-01"
         },
         {
          "DAMFRAC": "0.6466776127546462",
          "regions": "China",
          "time": "2555-01-01"
         },
         {
          "DAMFRAC": "0.21526460424768828",
          "regions": "India",
          "time": "2555-01-01"
         },
         {
          "DAMFRAC": "0.14322570756457537",
          "regions": "MidEast",
          "time": "2555-01-01"
         },
         {
          "DAMFRAC": "0.3448331237796367",
          "regions": "Africa",
          "time": "2555-01-01"
         },
         {
          "DAMFRAC": "0.07768638939345474",
          "regions": "LatAm",
          "time": "2555-01-01"
         },
         {
          "DAMFRAC": "0.2878475006973644",
          "regions": "OHI",
          "time": "2555-01-01"
         },
         {
          "DAMFRAC": "0.6876054697731001",
          "regions": "OthAsia",
          "time": "2555-01-01"
         },
         {
          "DAMFRAC": "0.1313780916571936",
          "regions": "US",
          "time": "2565-01-01"
         },
         {
          "DAMFRAC": "0.23252106299671638",
          "regions": "EU",
          "time": "2565-01-01"
         },
         {
          "DAMFRAC": "0.08762207318843185",
          "regions": "Japan",
          "time": "2565-01-01"
         },
         {
          "DAMFRAC": "0.052364282553745485",
          "regions": "Russia",
          "time": "2565-01-01"
         },
         {
          "DAMFRAC": "0.04920972272409067",
          "regions": "Eurasia",
          "time": "2565-01-01"
         },
         {
          "DAMFRAC": "0.6594447828939717",
          "regions": "China",
          "time": "2565-01-01"
         },
         {
          "DAMFRAC": "0.22052562825698738",
          "regions": "India",
          "time": "2565-01-01"
         },
         {
          "DAMFRAC": "0.14490921196020634",
          "regions": "MidEast",
          "time": "2565-01-01"
         },
         {
          "DAMFRAC": "0.3508355293015279",
          "regions": "Africa",
          "time": "2565-01-01"
         },
         {
          "DAMFRAC": "0.078785080578683",
          "regions": "LatAm",
          "time": "2565-01-01"
         },
         {
          "DAMFRAC": "0.29333738461276987",
          "regions": "OHI",
          "time": "2565-01-01"
         },
         {
          "DAMFRAC": "0.7095446966781729",
          "regions": "OthAsia",
          "time": "2565-01-01"
         },
         {
          "DAMFRAC": "0.13462998140195923",
          "regions": "US",
          "time": "2575-01-01"
         },
         {
          "DAMFRAC": "0.23664709745619156",
          "regions": "EU",
          "time": "2575-01-01"
         },
         {
          "DAMFRAC": "0.08855994677890563",
          "regions": "Japan",
          "time": "2575-01-01"
         },
         {
          "DAMFRAC": "0.05284693171037957",
          "regions": "Russia",
          "time": "2575-01-01"
         },
         {
          "DAMFRAC": "0.049254856656157794",
          "regions": "Eurasia",
          "time": "2575-01-01"
         },
         {
          "DAMFRAC": "0.672210942230198",
          "regions": "China",
          "time": "2575-01-01"
         },
         {
          "DAMFRAC": "0.22588738911530926",
          "regions": "India",
          "time": "2575-01-01"
         },
         {
          "DAMFRAC": "0.1466067645691958",
          "regions": "MidEast",
          "time": "2575-01-01"
         },
         {
          "DAMFRAC": "0.3568679753919818",
          "regions": "Africa",
          "time": "2575-01-01"
         },
         {
          "DAMFRAC": "0.07990880537153601",
          "regions": "LatAm",
          "time": "2575-01-01"
         },
         {
          "DAMFRAC": "0.29885898094596347",
          "regions": "OHI",
          "time": "2575-01-01"
         },
         {
          "DAMFRAC": "0.7317087344682635",
          "regions": "OthAsia",
          "time": "2575-01-01"
         },
         {
          "DAMFRAC": "0.1379458262525409",
          "regions": "US",
          "time": "2585-01-01"
         },
         {
          "DAMFRAC": "0.240799578731863",
          "regions": "EU",
          "time": "2585-01-01"
         },
         {
          "DAMFRAC": "0.08951369183521529",
          "regions": "Japan",
          "time": "2585-01-01"
         },
         {
          "DAMFRAC": "0.05334130650398916",
          "regions": "Russia",
          "time": "2585-01-01"
         },
         {
          "DAMFRAC": "0.049301734147307215",
          "regions": "Eurasia",
          "time": "2585-01-01"
         },
         {
          "DAMFRAC": "0.684984662094805",
          "regions": "China",
          "time": "2585-01-01"
         },
         {
          "DAMFRAC": "0.23134889874296446",
          "regions": "India",
          "time": "2585-01-01"
         },
         {
          "DAMFRAC": "0.14831771747075811",
          "regions": "MidEast",
          "time": "2585-01-01"
         },
         {
          "DAMFRAC": "0.36293003323689527",
          "regions": "Africa",
          "time": "2585-01-01"
         },
         {
          "DAMFRAC": "0.08105696725606523",
          "regions": "LatAm",
          "time": "2585-01-01"
         },
         {
          "DAMFRAC": "0.3044120435848376",
          "regions": "OHI",
          "time": "2585-01-01"
         },
         {
          "DAMFRAC": "0.7541715392313091",
          "regions": "OthAsia",
          "time": "2585-01-01"
         },
         {
          "DAMFRAC": "0.14132520497084464",
          "regions": "US",
          "time": "2595-01-01"
         },
         {
          "DAMFRAC": "0.24497831645810111",
          "regions": "EU",
          "time": "2595-01-01"
         },
         {
          "DAMFRAC": "0.0904827616331434",
          "regions": "Japan",
          "time": "2595-01-01"
         },
         {
          "DAMFRAC": "0.053846990158022155",
          "regions": "Russia",
          "time": "2595-01-01"
         },
         {
          "DAMFRAC": "0.04934984536864169",
          "regions": "Eurasia",
          "time": "2595-01-01"
         },
         {
          "DAMFRAC": "0.697777396947459",
          "regions": "China",
          "time": "2595-01-01"
         },
         {
          "DAMFRAC": "0.23690932292849806",
          "regions": "India",
          "time": "2595-01-01"
         },
         {
          "DAMFRAC": "0.15004158059477551",
          "regions": "MidEast",
          "time": "2595-01-01"
         },
         {
          "DAMFRAC": "0.3690214040478294",
          "regions": "Africa",
          "time": "2595-01-01"
         },
         {
          "DAMFRAC": "0.08222909979099063",
          "regions": "LatAm",
          "time": "2595-01-01"
         },
         {
          "DAMFRAC": "0.309996409344061",
          "regions": "OHI",
          "time": "2595-01-01"
         },
         {
          "DAMFRAC": "0.7770532773639041",
          "regions": "OthAsia",
          "time": "2595-01-01"
         }
        ]
       },
       "description": "plot for a specific component variable pair",
       "encoding": {
        "color": {
         "field": "regions",
         "scale": {
          "scheme": "category20"
         },
         "type": "nominal"
        },
        "x": {
         "field": "time",
         "timeUnit": "utcyear",
         "type": "temporal"
        },
        "y": {
         "field": "DAMFRAC",
         "type": "quantitative"
        }
       },
       "height": 410,
       "mark": {
        "type": "line"
       },
       "title": "damages : DAMFRAC",
       "width": 450
      },
      "image/png": "[encoded data removed]",
      "image/svg+xml": [
       "<svg class=\"marks\" width=\"566\" height=\"474\" viewBox=\"0 0 566 474\" version=\"1.1\" xmlns=\"http://www.w3.org/2000/svg\" xmlns:xlink=\"http://www.w3.org/1999/xlink\"><g transform=\"translate(40,27)\"><g class=\"mark-group role-frame root\"><g transform=\"translate(0,0)\"><path class=\"background\" d=\"M0.5,0.5h450v410h-450Z\" style=\"fill: none; stroke: #ddd;\"></path><g><g class=\"mark-group role-axis\"><g transform=\"translate(0.5,410.5)\"><path class=\"background\" d=\"M0,0h0v0h0Z\" style=\"pointer-events: none; fill: none;\"></path><g><g class=\"mark-rule role-axis-grid\" style=\"pointer-events: none;\"><line transform=\"translate(34,-410)\" x2=\"0\" y2=\"410\" style=\"fill: none; stroke: #ddd; stroke-width: 1; opacity: 1;\"></line><line transform=\"translate(72,-410)\" x2=\"0\" y2=\"410\" style=\"fill: none; stroke: #ddd; stroke-width: 1; opacity: 1;\"></line><line transform=\"translate(111,-410)\" x2=\"0\" y2=\"410\" style=\"fill: none; stroke: #ddd; stroke-width: 1; opacity: 1;\"></line><line transform=\"translate(149,-410)\" x2=\"0\" y2=\"410\" style=\"fill: none; stroke: #ddd; stroke-width: 1; opacity: 1;\"></line><line transform=\"translate(187,-410)\" x2=\"0\" y2=\"410\" style=\"fill: none; stroke: #ddd; stroke-width: 1; opacity: 1;\"></line><line transform=\"translate(225,-410)\" x2=\"0\" y2=\"410\" style=\"fill: none; stroke: #ddd; stroke-width: 1; opacity: 1;\"></line><line transform=\"translate(263,-410)\" x2=\"0\" y2=\"410\" style=\"fill: none; stroke: #ddd; stroke-width: 1; opacity: 1;\"></line><line transform=\"translate(301,-410)\" x2=\"0\" y2=\"410\" style=\"fill: none; stroke: #ddd; stroke-width: 1; opacity: 1;\"></line><line transform=\"translate(339,-410)\" x2=\"0\" y2=\"410\" style=\"fill: none; stroke: #ddd; stroke-width: 1; opacity: 1;\"></line><line transform=\"translate(378,-410)\" x2=\"0\" y2=\"410\" style=\"fill: none; stroke: #ddd; stroke-width: 1; opacity: 1;\"></line><line transform=\"translate(416,-410)\" x2=\"0\" y2=\"410\" style=\"fill: none; stroke: #ddd; stroke-width: 1; opacity: 1;\"></line></g></g></g></g><g class=\"mark-group role-axis\"><g transform=\"translate(0.5,0.5)\"><path class=\"background\" d=\"M0,0h0v0h0Z\" style=\"pointer-events: none; fill: none;\"></path><g><g class=\"mark-rule role-axis-grid\" style=\"pointer-events: none;\"><line transform=\"translate(0,410)\" x2=\"450\" y2=\"0\" style=\"fill: none; stroke: #ddd; stroke-width: 1; opacity: 1;\"></line><line transform=\"translate(0,359)\" x2=\"450\" y2=\"0\" style=\"fill: none; stroke: #ddd; stroke-width: 1; opacity: 1;\"></line><line transform=\"translate(0,308)\" x2=\"450\" y2=\"0\" style=\"fill: none; stroke: #ddd; stroke-width: 1; opacity: 1;\"></line><line transform=\"translate(0,256)\" x2=\"450\" y2=\"0\" style=\"fill: none; stroke: #ddd; stroke-width: 1; opacity: 1;\"></line><line transform=\"translate(0,205)\" x2=\"450\" y2=\"0\" style=\"fill: none; stroke: #ddd; stroke-width: 1; opacity: 1;\"></line><line transform=\"translate(0,154)\" x2=\"450\" y2=\"0\" style=\"fill: none; stroke: #ddd; stroke-width: 1; opacity: 1;\"></line><line transform=\"translate(0,103)\" x2=\"450\" y2=\"0\" style=\"fill: none; stroke: #ddd; stroke-width: 1; opacity: 1;\"></line><line transform=\"translate(0,51)\" x2=\"450\" y2=\"0\" style=\"fill: none; stroke: #ddd; stroke-width: 1; opacity: 1;\"></line><line transform=\"translate(0,0)\" x2=\"450\" y2=\"0\" style=\"fill: none; stroke: #ddd; stroke-width: 1; opacity: 1;\"></line></g></g></g></g><g class=\"mark-group role-scope pathgroup\"><g transform=\"translate(0,0)\"><path class=\"background\" d=\"M0,0h450v410h-450Z\" style=\"fill: none;\"></path><g><g class=\"mark-line role-mark marks\"><path d=\"M450,337.5708324524421L442.37376620122234,339.3027640455728L434.74544416756,341.0021345314959L427.11921036878226,342.66872802568827L419.4908883351199,344.3022697460036L411.86465453634224,345.9024140143482L404.2363325026799,347.4687300040852L396.6100987039022,349.0006848678038L388.98177667023987,350.4976238468833L381.35554287146215,351.9587469415969L373.7293090726845,353.38308171783046L366.10307527390677,354.76945185856687L358.47475324024447,356.1164411577049L350.84851944146675,357.42235283502487L343.2201974078044,358.68516437669973L335.59396360902673,359.90247865555204L327.96564157536443,361.0714729809024L320.3394077765867,362.1888491547458L312.7110857429244,363.2507898520923L305.0848519441467,364.252930130628L297.45652991048433,365.19035826727134L289.8302961117067,366.0576684182863L282.2019740780443,366.84910031810654L274.5757402792666,367.5588206298351L266.9474182456043,368.18142995494986L259.3211844468266,368.712823636385L251.69286241316425,369.15159980159535L244.06662861438656,369.5013026917567L236.4383065807242,369.7739263791923L228.8120727819465,369.9976411629493L221.18583898316882,370.2168610465043L213.55960518439113,370.50670557095407L205.9312831507288,370.99503250404916L198.3050493519511,371.87916614712924L190.67672731828875,373.44652717034984L183.05049351951106,375.4525350385904L175.4221714858487,377.4678410973632L167.79593768707105,379.45224617119317L160.16761565340872,381.39841878715424L152.54138185463103,383.30401988908494L144.91514805585334,385.16958543342463L137.28891425707565,386.9963571472553L129.6605922234133,388.78444015130106L122.0343584246356,390.5330578172204L114.40603639097326,392.2417743296031L106.77980259219557,393.910323226214L99.15148055853322,395.5385635923654L91.52524675975553,397.1266059654662L83.89692472609319,398.67366284333L76.27069092731551,400.186373718391L68.64445712853782,401.66306936858416L61.01822332976013,403.05593034875847L53.38990129609778,404.35202665004505L45.7636674973201,405.5469609959782L38.13534546365776,406.6212664623027L30.509111664880066,407.5514643482458L22.88078963121772,408.31485301403694L15.254555832440033,408.89787683579556L7.626233798777686,409.30008103044054L0,409.500726868975\" style=\"fill: none; stroke: #c49c94; stroke-width: 2;\"></path></g></g></g><g transform=\"translate(0,0)\"><path class=\"background\" d=\"M0,0h450v410h-450Z\" style=\"fill: none;\"></path><g><g class=\"mark-line role-mark marks\"><path d=\"M450,284.4486128152232L442.37376620122234,286.5902158999202L434.74544416756,288.7183625537018L427.11921036878226,290.8329552141829L419.4908883351199,292.9338418924034L411.86465453634224,295.02080475772686L404.2363325026799,297.0935466523863L396.6100987039022,299.1516752238655L388.98177667023987,301.19468434391956L381.35554287146215,303.22193247743644L373.7293090726845,305.23261768277735L366.10307527390677,307.2257489834062L358.47475324024447,309.2001139724955L350.84851944146675,311.1542427342864L343.2201974078044,313.0863685440297L335.59396360902673,314.99438642766836L327.96564157536443,316.8758116542464L320.3394077765867,318.72774180091784L312.7110857429244,320.5468284864361L305.0848519441467,322.3292687023848L297.45652991048433,324.07083164218733L289.8302961117067,325.7669462177909L282.2019740780443,327.4128888923656L274.5757402792666,329.00413385330637L266.9474182456043,330.53696215655884L259.3211844468266,332.00947959327357L251.69286241316425,333.4232737060483L244.06662861438656,334.78606187130976L236.4383065807242,336.11596555044935L228.8120727819465,337.46077774009274L221.18583898316882,338.8655479255295L213.55960518439113,340.39669771947393L205.9312831507288,342.19435600390096L198.3050493519511,344.47562247939777L190.67672731828875,347.5467354774586L183.05049351951106,351.1175262797036L175.4221714858487,354.69850005606725L167.79593768707105,358.2386887137369L160.16761565340872,361.72405950462536L152.54138185463103,365.1439002554688L144.91514805585334,368.4952421794244L137.28891425707565,371.7774960685919L129.6605922234133,374.9849953626467L122.0343584246356,378.1111071560819L114.40603639097326,381.14964699564234L106.77980259219557,384.09477049089156L99.15148055853322,386.9410811146588L91.52524675975553,389.68402375350774L83.89692472609319,392.2971439888006L76.27069092731551,394.8115435476572L68.64445712853782,397.19079198332804L61.01822332976013,399.39277297616127L53.38990129609778,401.3003745378864L45.7636674973201,403.0564661210209L38.13534546365776,404.63772466321245L30.509111664880066,406.0151898508327L22.88078963121772,407.1595244804314L15.254555832440033,408.05778834990895L7.626233798777686,408.65331136816263L0,409.43824964436703\" style=\"fill: none; stroke: #ff7f0e; stroke-width: 2;\"></path></g></g></g><g transform=\"translate(0,0)\"><path class=\"background\" d=\"M0,0h450v410h-450Z\" style=\"fill: none;\"></path><g><g class=\"mark-line role-mark marks\"><path d=\"M450,363.62758466301403L442.37376620122234,364.12423293445215L434.74544416756,364.61302727581085L427.11921036878226,365.0936874909287L419.4908883351199,365.5658563924605L411.86465453634224,366.02908467254L404.2363325026799,366.4828130522154L396.6100987039022,366.92635129972933L388.98177667023987,367.3588536799537L381.35554287146215,367.7792903857542L373.7293090726845,368.18641451897156L366.10307527390677,368.5787242525989L358.47475324024447,368.9544199445683L350.84851944146675,369.31135622936114L343.2201974078044,369.6469895495219L335.59396360902673,369.95832229994267L327.96564157536443,370.2418458863259L320.3394077765867,370.49348676122764L312.7110857429244,370.70856222299227L305.0848519441467,370.881756939708L297.45652991048433,371.0071375427441L289.8302961117067,371.0782323587646L282.2019740780443,371.088218126598L274.5757402792666,371.0302779285865L266.9474182456043,370.89822830188064L259.3211844468266,370.68756394003367L251.69286241316425,370.3971428746197L244.06662861438656,370.03184278597985L236.4383065807242,369.6066721116766L228.8120727819465,369.15487257942493L221.18583898316882,368.73110150541805L213.55960518439113,368.42650782055387L205.9312831507288,368.39195956791593L198.3050493519511,368.85875299496286L190.67672731828875,370.16270626311876L183.05049351951106,372.02648063642215L175.4221714858487,373.95616936338547L167.79593768707105,375.90236173588266L160.16761565340872,377.8530822961322L152.54138185463103,379.801506376262L144.91514805585334,381.74517419784894L137.28891425707565,383.68268752161754L129.6605922234133,385.61047979828L122.0343584246356,387.5240004296003L114.40603639097326,389.4191304413893L106.77980259219557,391.29200573934514L99.15148055853322,393.13899388290946L91.52524675975553,394.956881021764L83.89692472609319,396.73983426475166L76.27069092731551,398.4910338899257L68.64445712853782,400.2064539820359L61.01822332976013,401.830997069408L53.38990129609778,403.34002508037673L45.7636674973201,404.73432119745473L38.13534546365776,405.98946308936877L30.509111664880066,407.0776451529205L22.88078963121772,407.97476058982113L15.254555832440033,408.6638116110154L7.626233798777686,409.137020294148L0,409.42901720445496\" style=\"fill: none; stroke: #98df8a; stroke-width: 2;\"></path></g></g></g><g transform=\"translate(0,0)\"><path class=\"background\" d=\"M0,0h450v410h-450Z\" style=\"fill: none;\"></path><g><g class=\"mark-line role-mark marks\"><path d=\"M450,382.4034175440136L442.37376620122234,382.66258041670557L434.74544416756,382.91594749843046L427.11921036878226,383.16330519120544L419.4908883351199,383.40438368115775L411.86465453634224,383.63884592547066L404.2363325026799,383.866274657874L396.6100987039022,384.0861571135731L388.98177667023987,384.2978671539042L381.35554287146215,384.5006444620245L373.7293090726845,384.6935704923974L366.10307527390677,384.87554090205174L358.47475324024447,385.0452342907236L350.84851944146675,385.20107726022593L343.2201974078044,385.3412061160716L335.59396360902673,385.46342604450723L327.96564157536443,385.5651694079526L320.3394077765867,385.64345606547255L312.7110857429244,385.6948605750252L305.0848519441467,385.71549412276676L297.45652991048433,385.7010135839515L289.8302961117067,385.6466770533528L282.2019740780443,385.54747569686526L274.5757402792666,385.39838766336584L266.9474182456043,385.1948236797167L259.3211844468266,384.93336956500116L251.69286241316425,384.612983317508L244.06662861438656,384.23687998683414L236.4383065807242,383.81544292662704L228.8120727819465,383.3710897971756L221.18583898316882,382.943313551001L213.55960518439113,382.5986878859219L205.9312831507288,382.445071706735L198.3050493519511,382.64765474996364L190.67672731828875,383.4470636686101L183.05049351951106,384.64728256867227L175.4221714858487,385.8972685172985L167.79593768707105,387.1621343640634L160.16761565340872,388.43362120706314L152.54138185463103,389.7072986042974L144.91514805585334,390.98149539257525L137.28891425707565,392.2552039948967L129.6605922234133,393.5261613746094L122.0343584246356,394.7913999415874L114.40603639097326,396.0482510924329L106.77980259219557,397.2942113712269L99.15148055853322,398.5269106913646L91.52524675975553,399.7442175047328L83.89692472609319,400.94439700292827L76.27069092731551,402.12762622715735L68.64445712853782,403.2935008057769L61.01822332976013,404.4011791991922L53.38990129609778,405.4410001132505L45.7636674973201,406.4019639424474L38.13534546365776,407.2676480436572L30.509111664880066,408.0184458908586L22.88078963121772,408.63541330057944L15.254555832440033,409.1070418167725L7.626233798777686,409.4330327778204L0,409.5937732227103\" style=\"fill: none; stroke: #8c564b; stroke-width: 2;\"></path></g></g></g><g transform=\"translate(0,0)\"><path class=\"background\" d=\"M0,0h450v410h-450Z\" style=\"fill: none;\"></path><g><g class=\"mark-line role-mark marks\"><path d=\"M450,384.7082042485711L442.37376620122234,384.73286124950505L434.74544416756,384.7568859637191L427.11921036878226,384.78001710390356L419.4908883351199,384.8019286730284L411.86465453634224,384.8222172525095L404.2363325026799,384.84038702605557L396.6100987039022,384.8558322028508L388.98177667023987,384.8678164824273L381.35554287146215,384.8754491962288L373.7293090726845,384.8776577776768L366.10307527390677,384.8731562689357L358.47475324024447,384.8604096916952L350.84851944146675,384.83759432581877L343.2201974078044,384.8025543054845L335.59396360902673,384.75275553509135L327.96564157536443,384.685238863144L320.3394077765867,384.5965759066619L312.7110857429244,384.48283315538686L305.0848519441467,384.3395534029234L297.45652991048433,384.1617687534411L289.8302961117067,383.9440673464002L282.2019740780443,383.6807478917755L274.5757402792666,383.36611414211535L266.9474182456043,382.99498851201287L259.3211844468266,382.56356441597075L251.69286241316425,382.0707762846833L244.06662861438656,381.52045183685607L236.4383065807242,380.92463057595705L228.8120727819465,380.3089390387191L221.18583898316882,379.7188979883629L213.55960518439113,379.23094223046104L205.9312831507288,378.96815525411057L198.3050493519511,379.11870941939253L190.67672731828875,379.95649049280377L183.05049351951106,381.25939752302145L175.4221714858487,382.62870891735645L167.79593768707105,384.0241199009141L160.16761565340872,385.43548475171195L152.54138185463103,386.8567433456301L144.91514805585334,388.2854622627485L137.28891425707565,389.7201196558963L129.6605922234133,391.1573612658105L122.0343584246356,392.5930383065839L114.40603639097326,394.0233489920155L106.77980259219557,395.44469085357923L99.15148055853322,396.8536302135827L91.52524675975553,398.24702943527484L83.89692472609319,399.6220017470216L76.27069092731551,400.97837450839273L68.64445712853782,402.3146541590283L61.01822332976013,403.58426107733595L53.38990129609778,404.77373258596685L45.7636674973201,405.8731825908654L38.13534546365776,406.8638145627047L30.509111664880066,407.723277918034L22.88078963121772,408.4299469583707L15.254555832440033,408.97077827744897L7.626233798777686,409.34396083516697L0,409.5393523764476\" style=\"fill: none; stroke: #ffbb78; stroke-width: 2;\"></path></g></g></g><g transform=\"translate(0,0)\"><path class=\"background\" d=\"M0,0h450v410h-450Z\" style=\"fill: none;\"></path><g><g class=\"mark-line role-mark marks\"><path d=\"M450,52.389084064427266L442.37376620122234,58.94536067641246L434.74544416756,65.4918921070236L427.11921036878226,72.03454876683952L419.4908883351199,78.57772346324384L411.86465453634224,85.12461330676035L404.2363325026799,91.6774583898258L396.6100987039022,98.23774299291432L388.98177667023987,104.80636440181871L381.35554287146215,111.38377386113154L373.7293090726845,117.97009371306706L366.10307527390677,124.56521435908337L358.47475324024447,131.1688743278297L350.84851944146675,137.7807264430541L343.2201974078044,144.40039288055954L335.59396360902673,151.0275118266665L327.96564157536443,157.6617785786958L320.3394077765867,164.30298439608305L312.7110857429244,170.95105745600145L305.0848519441467,177.60611230344568L297.45652991048433,184.26851792946402L289.8302961117067,190.93900129397358L282.2019740780443,197.61881482276107L274.5757402792666,204.31001665670738L266.9474182456043,211.01594700277752L259.3211844468266,217.74204234589675L251.69286241316425,224.4972294396693L244.06662861438656,231.29637162637263L236.4383065807242,238.16617075044107L228.8120727819465,245.19939799432433L221.18583898316882,252.4009155191504L213.55960518439113,259.74219952695626L205.9312831507288,267.30898575667175L198.3050493519511,275.2411137246985L190.67672731828875,283.7085985947937L183.05049351951106,292.41204971025115L175.4221714858487,300.9320607833941L167.79593768707105,309.2159250211875L160.16761565340872,317.2410032786364L152.54138185463103,324.97035781682337L144.91514805585334,332.4073688716343L137.28891425707565,339.57054856738057L129.6605922234133,346.4460472443789L122.0343584246356,353.0189744899619L114.40603639097326,359.27441857565066L106.77980259219557,365.1971741812509L99.15148055853322,370.7715878820847L91.52524675975553,375.9817169329727L83.89692472609319,380.8553891133336L76.27069092731551,385.3823514516193L68.64445712853782,389.47126765592077L61.01822332976013,393.14303048432896L53.38990129609778,396.04846694759436L45.7636674973201,398.70706126805715L38.13534546365776,401.08814020445993L30.509111664880066,403.1801740766847L22.88078963121772,404.9556667802382L15.254555832440033,406.4056616511123L7.626233798777686,407.52446499350566L0,409.2217785866212\" style=\"fill: none; stroke: #aec7e8; stroke-width: 2;\"></path></g></g></g><g transform=\"translate(0,0)\"><path class=\"background\" d=\"M0,0h450v410h-450Z\" style=\"fill: none;\"></path><g><g class=\"mark-line role-mark marks\"><path d=\"M450,288.58397199914475L442.37376620122234,291.4336893942307L434.74544416756,294.232713078404L427.11921036878226,296.980615518294L419.4908883351199,299.67689032305975L411.86465453634224,302.32093460876956L404.2363325026799,304.9120280973284L396.6100987039022,307.4493084187001L388.98177667023987,309.9317420381781L381.35554287146215,312.35809019964023L373.7293090726845,314.72686927529645L366.10307527390677,317.03630496429946L358.47475324024447,319.2842799201518L350.84851944146675,321.4682746607367L343.2201974078044,323.5853021015355L335.59396360902673,325.6318368676474L327.96564157536443,327.6037418579679L320.3394077765867,329.4961966189238L312.7110857429244,331.30363533461366L305.0848519441467,333.0197072598193L297.45652991048433,334.63728012834247L289.8302961117067,336.1485188464721L282.2019740780443,337.54508971329733L274.5757402792666,338.8185676008944L266.9474182456043,339.96116453605L259.3211844468266,340.9669594802974L251.69286241316425,341.8338997914782L244.06662861438656,342.5669764435115L236.4383065807242,343.18317403787717L228.8120727819465,343.7230001524484L221.18583898316882,344.2482524746366L213.55960518439113,344.8633685800198L205.9312831507288,345.74839603482565L198.3050493519511,347.18270196959486L190.67672731828875,349.5754153420635L183.05049351951106,352.58200565648053L175.4221714858487,355.592729705968L167.79593768707105,358.5518385161879L160.16761565340872,361.45037907854487L152.54138185463103,364.2830410629071L144.91514805585334,367.0569349867584L137.28891425707565,369.7817762627948L129.6605922234133,372.4593404753334L122.0343584246356,375.0903871804828L114.40603639097326,377.6764905778399L106.77980259219557,380.21984149499343L99.15148055853322,382.72325845893954L91.52524675975553,385.19049784602146L83.89692472609319,387.62669703608947L76.27069092731551,390.04537502420436L68.64445712853782,392.4523786642436L61.01822332976013,394.7768347018318L53.38990129609778,397.0045885727883L45.7636674973201,399.13144523784973L38.13534546365776,401.12934900838275L30.509111664880066,402.95862477221516L22.88078963121772,404.5712130552724L15.254555832440033,405.9203058155028L7.626233798777686,406.9624561182799L0,407.5384146751315\" style=\"fill: none; stroke: #2ca02c; stroke-width: 2;\"></path></g></g></g><g transform=\"translate(0,0)\"><path class=\"background\" d=\"M0,0h450v410h-450Z\" style=\"fill: none;\"></path><g><g class=\"mark-line role-mark marks\"><path d=\"M450,333.10368994517756L442.37376620122234,333.98716979623646L434.74544416756,334.86403315828716L427.11921036878226,335.73402887039424L419.4908883351199,336.59682487315513L411.86465453634224,337.45199211738645L404.2363325026799,338.298985591909L396.6100987039022,339.1371220450577L388.98177667023987,339.96555395022267L381.35554287146215,340.7832392608222L373.7293090726845,341.588906528417L366.10307527390677,342.38101503997893L358.47475324024447,343.1577097977814L350.84851944146675,343.91677146449695L343.2201974078044,344.65556189634054L335.59396360902673,345.3709666923254L327.96564157536443,346.0593374535548L320.3394077765867,346.71643840700915L312.7110857429244,347.33740505662L305.0848519441467,347.91672711478117L297.45652991048433,348.4482749492586L289.8302961117067,348.9253993795686L282.2019740780443,349.3411507233871L274.5757402792666,349.68868729866153L266.9474182456043,349.96198022575555L259.3211844468266,350.1569762606644L251.69286241316425,350.27346174812715L244.06662861438656,350.3179893512315L236.4383065807242,350.3084107435551L228.8120727819465,350.28471537081117L221.18583898316882,350.30627035101645L213.55960518439113,350.46971234901866L205.9312831507288,350.93961576564374L198.3050493519511,351.96945098278064L190.67672731828875,353.9254764380903L183.05049351951106,356.4977718970572L175.4221714858487,359.1378143291295L167.79593768707105,361.7895499604089L160.16761565340872,364.4380790344411L152.54138185463103,367.0678535903968L144.91514805585334,369.6804497597748L137.28891425707565,372.2836944788463L129.6605922234133,374.8728966377412L122.0343584246356,377.44232661036085L114.40603639097326,379.9868589846042L106.77980259219557,382.50183803601766L99.15148055853322,384.9831523796768L91.52524675975553,387.4276080305829L83.89692472609319,389.8241649928306L76.27069092731551,392.2048290218859L68.64445712853782,394.54878030938147L61.01822332976013,396.7777219610737L53.38990129609778,398.84135201812165L45.7636674973201,400.7868729613748L38.13534546365776,402.5903221371669L30.509111664880066,404.21801993312215L22.88078963121772,405.6278835994551L15.254555832440033,406.78602451537336L7.626233798777686,407.65085548118935L0,408.2575531208104\" style=\"fill: none; stroke: #ff9896; stroke-width: 2;\"></path></g></g></g><g transform=\"translate(0,0)\"><path class=\"background\" d=\"M0,0h450v410h-450Z\" style=\"fill: none;\"></path><g><g class=\"mark-line role-mark marks\"><path d=\"M450,220.87653042548746L442.37376620122234,223.9983579660912L434.74544416756,227.10516261160936L427.11921036878226,230.19679123296697L419.4908883351199,233.2730240629362L411.86465453634224,236.3335585987424L404.2363325026799,239.37799052979105L396.6100987039022,242.405791235273L388.98177667023987,245.41628136598328L381.35554287146215,248.40860001337015L373.7293090726845,251.3816689910585L366.10307527390677,254.3341518318935L358.47475324024447,257.26440727048004L350.84851944146675,260.17043728814144L343.2201974078044,263.0498303215313L335.59396360902673,265.8997010956393L327.96564157536443,268.7166299169391L320.3394077765867,271.49660643007167L312.7110857429244,274.2349862297218L305.0848519441467,276.92647399164804L297.45652991048433,279.5651549738566L289.8302961117067,282.1446094422093L282.2019740780443,284.65816427557854L274.5757402792666,287.09936652164424L266.9474182456043,289.4628108065682L259.3211844468266,291.74552488834036L251.69286241316425,293.9492277841025L244.06662861438656,296.0839426929156L236.4383065807242,298.1738862513275L228.8120727819465,300.2811721133937L221.18583898316882,302.4693838953499L213.55960518439113,304.8350752638161L205.9312831507288,307.573359098325L198.3050493519511,310.9870975881878L190.67672731828875,315.506111615568L183.05049351951106,320.7222319609646L175.4221714858487,325.9437632763096L167.79593768707105,331.0926425325916L160.16761565340872,336.10987141112207L152.54138185463103,341.01016453779556L144.91514805585334,345.80452456781L137.28891425707565,350.5242588494906L129.6605922234133,355.1585938224623L122.0343584246356,359.69530642404357L114.40603639097326,364.12275933359473L106.77980259219557,368.42972313195474L99.15148055853322,372.6054493605766L91.52524675975553,376.6400874720636L83.89692472609319,380.5294415848535L76.27069092731551,384.35146011473495L68.64445712853782,388.03029316997595L61.01822332976013,391.4394804065767L53.38990129609778,394.45152908868715L45.7636674973201,397.25320839674725L38.13534546365776,399.8276005564094L30.509111664880066,402.1304035081565L22.88078963121772,404.10059456894L15.254555832440033,405.7037596381558L7.626233798777686,406.873577740475L0,407.8493906214036\" style=\"fill: none; stroke: #1f77b4; stroke-width: 2;\"></path></g></g></g><g transform=\"translate(0,0)\"><path class=\"background\" d=\"M0,0h450v410h-450Z\" style=\"fill: none;\"></path><g><g class=\"mark-line role-mark marks\"><path d=\"M450,367.85758635711727L442.37376620122234,368.4583042812666L434.74544416756,369.0467372470878L427.11921036878226,369.62264620342495L419.4908883351199,370.18572543585447L411.86465453634224,370.73558948103107L404.2363325026799,371.2717576682551L396.6100987039022,371.79363592632626L388.98177667023987,372.30049546778696L381.35554287146215,372.7914479503459L373.7293090726845,373.26541672716166L366.10307527390677,373.7211038497464L358.47475324024447,374.1569526037043L350.84851944146675,374.57110557467024L343.2201974078044,374.9613586141912L335.59396360902673,375.3251116847888L327.96564157536443,375.65931853317755L320.3394077765867,375.96043865619646L312.7110857429244,376.22439736569993L305.0848519441467,376.44656335035745L297.45652991048433,376.62175861514544L289.8302961117067,376.74432402097824L282.2019740780443,376.80827630045707L274.5757402792666,376.807611552184L266.9474182456043,376.73683897811804L259.3211844468266,376.5918715336103L251.69286241316425,376.37146335257034L244.06662861438656,376.0794750121046L236.4383065807242,375.72837576824014L228.8120727819465,375.345609939992L221.18583898316882,374.9779647315636L213.55960518439113,374.70427331545176L205.9312831507288,374.6538634407365L198.3050493519511,375.025213248984L190.67672731828875,376.1077608436993L183.05049351951106,377.66454622883145L175.4221714858487,379.2718850971444L167.79593768707105,380.8882520327494L160.16761565340872,382.50431269587807L152.54138185463103,384.11472173810773L144.91514805585334,385.7189767001136L137.28891425707565,387.3176607820312L129.6605922234133,388.9086734116925L122.0343584246356,390.4890955820727L114.40603639097326,392.0564139440168L106.77980259219557,393.60836500658263L99.15148055853322,395.1429070144403L91.52524675975553,396.658365805892L83.89692472609319,398.1535533312406L76.27069092731551,399.63061690226255L68.64445712853782,401.0897555116298L61.01822332976013,402.4814395884033L53.38990129609778,403.79442473796286L45.7636674973201,405.0173338667172L38.13534546365776,406.1304091649807L30.509111664880066,407.10921190984527L22.88078963121772,407.9287566319546L15.254555832440033,408.57140369402686L7.626233798777686,409.030832176752L0,409.26593260770585\" style=\"fill: none; stroke: #d62728; stroke-width: 2;\"></path></g></g></g><g transform=\"translate(0,0)\"><path class=\"background\" d=\"M0,0h450v410h-450Z\" style=\"fill: none;\"></path><g><g class=\"mark-line role-mark marks\"><path d=\"M450,251.12684021116877L442.37376620122234,253.98882766277075L434.74544416756,256.8347722651937L427.11921036878226,259.6645903859554L419.4908883351199,262.47815589260074L411.86465453634224,265.2752904013369L404.2363325026799,268.0557517629366L396.6100987039022,270.819220519509L388.98177667023987,273.5652840499529L381.35554287146215,276.29341811862133L373.7293090726845,279.00296556023005L366.10307527390677,281.69311188859473L358.47475324024447,284.36285772932007L350.84851944146675,287.01098818073245L343.2201974078044,289.6360395549668L335.59396360902673,292.23626452225403L327.96564157536443,294.80959760045266L320.3394077765867,297.35362439277185L312.7110857429244,299.86556028351805L305.0848519441467,302.34224793255373L297.45652991048433,304.78018861608217L289.8302961117067,307.1756314262904L282.2019740780443,309.5247584142195L274.5757402792666,311.8240258066817L266.9474182456043,314.07075583563926L259.3211844468266,316.2641270571489L251.69286241316425,318.40679287430584L244.06662861438656,320.5074839096323L236.4383065807242,322.585324453667L228.8120727819465,324.69287257334054L221.18583898316882,326.8710077377881L213.55960518439113,329.1760404435147L205.9312831507288,331.7419566355061L198.3050493519511,334.77753260766156L190.67672731828875,338.5729729755468L183.05049351951106,342.8355369748421L175.4221714858487,347.0828258593385L167.79593768707105,351.26410584045715L160.16761565340872,355.3651171711505L152.54138185463103,359.37569453401807L144.91514805585334,363.2917707334759L137.28891425707565,367.1109751529467L129.6605922234133,370.827174907375L122.0343584246356,374.43328832735426L114.40603639097326,377.9226788720772L106.77980259219557,381.2890686527823L99.15148055853322,384.52668945867265L91.52524675975553,387.6307316855331L83.89692472609319,390.56698169483167L76.27069092731551,393.3754785302775L68.64445712853782,396.0075449158937L61.01822332976013,398.42974018530606L53.38990129609778,400.484640652121L45.7636674973201,402.37574823668837L38.13534546365776,404.081938305442L30.509111664880066,405.5739172202525L22.88078963121772,406.8211380569226L15.254555832440033,407.8079315006546L7.626233798777686,408.46157657250615L0,409.44784220949134\" style=\"fill: none; stroke: #9467bd; stroke-width: 2;\"></path></g></g></g><g transform=\"translate(0,0)\"><path class=\"background\" d=\"M0,0h450v410h-450Z\" style=\"fill: none;\"></path><g><g class=\"mark-line role-mark marks\"><path d=\"M450,11.760195350999197L442.37376620122234,23.487086143954116L434.74544416756,34.999273585014976L427.11921036878226,46.35834295243643L419.4908883351199,57.60219674128621L411.86465453634224,68.75167172425694L404.2363325026799,79.81571512920283L396.6100987039022,90.79528109521397L388.98177667023987,101.68616725838257L381.35554287146215,112.48101640478615L373.7293090726845,123.17068523370375L366.10307527390677,133.745147823485L358.47475324024447,144.19406524726543L350.84851944146675,154.50712012342947L343.2201974078044,164.6741878272106L335.59396360902673,174.6853949996697L327.96564157536443,184.53110039841408L320.3394077765867,194.20182232600828L312.7110857429244,203.6881302441925L305.0848519441467,212.9805154674278L297.45652991048433,222.0692572714605L289.8302961117067,230.94430729905713L282.2019740780443,239.59522870979967L274.5757402792666,248.0112503553292L266.9474182456043,256.1815354506915L259.3211844468266,264.09582626545915L251.69286241316425,271.7457218942357L244.06662861438656,279.1269958120607L236.4383065807242,286.24391185977544L228.8120727819465,293.13474406034567L221.18583898316882,299.8161344064249L213.55960518439113,306.3225156125339L205.9312831507288,312.77680176469624L198.3050493519511,319.390531438838L190.67672731828875,326.4685038881415L183.05049351951106,333.65623289702046L175.4221714858487,340.4029216662001L167.79593768707105,346.675952694367L160.16761565340872,352.4872417684739L152.54138185463103,357.8413302785226L144.91514805585334,362.78178708705565L137.28891425707565,367.3593983866476L129.6605922234133,371.5965014842154L122.0343584246356,375.5150349262453L114.40603639097326,379.13800693820536L106.77980259219557,382.4891245846969L99.15148055853322,385.5926003599516L91.52524675975553,388.47318772049323L83.89692472609319,391.1611597582262L76.27069092731551,393.7010463005377L68.64445712853782,396.0923055682949L61.01822332976013,398.29205181403324L53.38990129609778,400.28341199188895L45.7636674973201,402.1253243021312L38.13534546365776,403.79854881016166L30.509111664880066,405.2751125011845L22.88078963121772,406.5233914890799L15.254555832440033,407.5192832045791L7.626233798777686,408.2459940577409L0,408.64105795836633\" style=\"fill: none; stroke: #c5b0d5; stroke-width: 2;\"></path></g></g></g></g><g class=\"mark-group role-legend\"><g transform=\"translate(470,0)\"><path class=\"background\" d=\"M0,0h51v170h-51Z\" style=\"pointer-events: none; fill: none;\"></path><g><g class=\"mark-group role-legend-entry\"><g transform=\"translate(0,16)\"><path class=\"background\" d=\"M0,0h0v0h0Z\" style=\"pointer-events: none; fill: none;\"></path><g><g class=\"mark-group role-scope\"><g transform=\"translate(0,0)\"><path class=\"background\" d=\"M0,0h51v11h-51Z\" style=\"pointer-events: none; fill: none; opacity: 1;\"></path><g><g class=\"mark-symbol role-legend-symbol\" style=\"pointer-events: none;\"><path transform=\"translate(6,6)\" d=\"M-5,0L5,0\" style=\"fill: none; stroke: #1f77b4; stroke-width: 1.5; opacity: 1;\"></path></g><g class=\"mark-text role-legend-label\" style=\"pointer-events: none;\"><text text-anchor=\"start\" transform=\"translate(16,9)\" style=\"font-family: sans-serif; font-size: 10px; fill: #000; opacity: 1;\">Africa</text></g></g></g><g transform=\"translate(0,13)\"><path class=\"background\" d=\"M0,0h51v11h-51Z\" style=\"pointer-events: none; fill: none; opacity: 1;\"></path><g><g class=\"mark-symbol role-legend-symbol\" style=\"pointer-events: none;\"><path transform=\"translate(6,6)\" d=\"M-5,0L5,0\" style=\"fill: none; stroke: #aec7e8; stroke-width: 1.5; opacity: 1;\"></path></g><g class=\"mark-text role-legend-label\" style=\"pointer-events: none;\"><text text-anchor=\"start\" transform=\"translate(16,9)\" style=\"font-family: sans-serif; font-size: 10px; fill: #000; opacity: 1;\">China</text></g></g></g><g transform=\"translate(0,26)\"><path class=\"background\" d=\"M0,0h51v11h-51Z\" style=\"pointer-events: none; fill: none; opacity: 1;\"></path><g><g class=\"mark-symbol role-legend-symbol\" style=\"pointer-events: none;\"><path transform=\"translate(6,6)\" d=\"M-5,0L5,0\" style=\"fill: none; stroke: #ff7f0e; stroke-width: 1.5; opacity: 1;\"></path></g><g class=\"mark-text role-legend-label\" style=\"pointer-events: none;\"><text text-anchor=\"start\" transform=\"translate(16,9)\" style=\"font-family: sans-serif; font-size: 10px; fill: #000; opacity: 1;\">EU</text></g></g></g><g transform=\"translate(0,39)\"><path class=\"background\" d=\"M0,0h51v11h-51Z\" style=\"pointer-events: none; fill: none; opacity: 1;\"></path><g><g class=\"mark-symbol role-legend-symbol\" style=\"pointer-events: none;\"><path transform=\"translate(6,6)\" d=\"M-5,0L5,0\" style=\"fill: none; stroke: #ffbb78; stroke-width: 1.5; opacity: 1;\"></path></g><g class=\"mark-text role-legend-label\" style=\"pointer-events: none;\"><text text-anchor=\"start\" transform=\"translate(16,9)\" style=\"font-family: sans-serif; font-size: 10px; fill: #000; opacity: 1;\">Eurasia</text></g></g></g><g transform=\"translate(0,52)\"><path class=\"background\" d=\"M0,0h51v11h-51Z\" style=\"pointer-events: none; fill: none; opacity: 1;\"></path><g><g class=\"mark-symbol role-legend-symbol\" style=\"pointer-events: none;\"><path transform=\"translate(6,6)\" d=\"M-5,0L5,0\" style=\"fill: none; stroke: #2ca02c; stroke-width: 1.5; opacity: 1;\"></path></g><g class=\"mark-text role-legend-label\" style=\"pointer-events: none;\"><text text-anchor=\"start\" transform=\"translate(16,9)\" style=\"font-family: sans-serif; font-size: 10px; fill: #000; opacity: 1;\">India</text></g></g></g><g transform=\"translate(0,65)\"><path class=\"background\" d=\"M0,0h51v11h-51Z\" style=\"pointer-events: none; fill: none; opacity: 1;\"></path><g><g class=\"mark-symbol role-legend-symbol\" style=\"pointer-events: none;\"><path transform=\"translate(6,6)\" d=\"M-5,0L5,0\" style=\"fill: none; stroke: #98df8a; stroke-width: 1.5; opacity: 1;\"></path></g><g class=\"mark-text role-legend-label\" style=\"pointer-events: none;\"><text text-anchor=\"start\" transform=\"translate(16,9)\" style=\"font-family: sans-serif; font-size: 10px; fill: #000; opacity: 1;\">Japan</text></g></g></g><g transform=\"translate(0,78)\"><path class=\"background\" d=\"M0,0h51v11h-51Z\" style=\"pointer-events: none; fill: none; opacity: 1;\"></path><g><g class=\"mark-symbol role-legend-symbol\" style=\"pointer-events: none;\"><path transform=\"translate(6,6)\" d=\"M-5,0L5,0\" style=\"fill: none; stroke: #d62728; stroke-width: 1.5; opacity: 1;\"></path></g><g class=\"mark-text role-legend-label\" style=\"pointer-events: none;\"><text text-anchor=\"start\" transform=\"translate(16,9)\" style=\"font-family: sans-serif; font-size: 10px; fill: #000; opacity: 1;\">LatAm</text></g></g></g><g transform=\"translate(0,91)\"><path class=\"background\" d=\"M0,0h51v11h-51Z\" style=\"pointer-events: none; fill: none; opacity: 1;\"></path><g><g class=\"mark-symbol role-legend-symbol\" style=\"pointer-events: none;\"><path transform=\"translate(6,6)\" d=\"M-5,0L5,0\" style=\"fill: none; stroke: #ff9896; stroke-width: 1.5; opacity: 1;\"></path></g><g class=\"mark-text role-legend-label\" style=\"pointer-events: none;\"><text text-anchor=\"start\" transform=\"translate(16,9)\" style=\"font-family: sans-serif; font-size: 10px; fill: #000; opacity: 1;\">MidEast</text></g></g></g><g transform=\"translate(0,104)\"><path class=\"background\" d=\"M0,0h51v11h-51Z\" style=\"pointer-events: none; fill: none; opacity: 1;\"></path><g><g class=\"mark-symbol role-legend-symbol\" style=\"pointer-events: none;\"><path transform=\"translate(6,6)\" d=\"M-5,0L5,0\" style=\"fill: none; stroke: #9467bd; stroke-width: 1.5; opacity: 1;\"></path></g><g class=\"mark-text role-legend-label\" style=\"pointer-events: none;\"><text text-anchor=\"start\" transform=\"translate(16,9)\" style=\"font-family: sans-serif; font-size: 10px; fill: #000; opacity: 1;\">OHI</text></g></g></g><g transform=\"translate(0,117)\"><path class=\"background\" d=\"M0,0h51v11h-51Z\" style=\"pointer-events: none; fill: none; opacity: 1;\"></path><g><g class=\"mark-symbol role-legend-symbol\" style=\"pointer-events: none;\"><path transform=\"translate(6,6)\" d=\"M-5,0L5,0\" style=\"fill: none; stroke: #c5b0d5; stroke-width: 1.5; opacity: 1;\"></path></g><g class=\"mark-text role-legend-label\" style=\"pointer-events: none;\"><text text-anchor=\"start\" transform=\"translate(16,9)\" style=\"font-family: sans-serif; font-size: 10px; fill: #000; opacity: 1;\">OthAsia</text></g></g></g><g transform=\"translate(0,130)\"><path class=\"background\" d=\"M0,0h51v11h-51Z\" style=\"pointer-events: none; fill: none; opacity: 1;\"></path><g><g class=\"mark-symbol role-legend-symbol\" style=\"pointer-events: none;\"><path transform=\"translate(6,6)\" d=\"M-5,0L5,0\" style=\"fill: none; stroke: #8c564b; stroke-width: 1.5; opacity: 1;\"></path></g><g class=\"mark-text role-legend-label\" style=\"pointer-events: none;\"><text text-anchor=\"start\" transform=\"translate(16,9)\" style=\"font-family: sans-serif; font-size: 10px; fill: #000; opacity: 1;\">Russia</text></g></g></g><g transform=\"translate(0,143)\"><path class=\"background\" d=\"M0,0h51v11h-51Z\" style=\"pointer-events: none; fill: none; opacity: 1;\"></path><g><g class=\"mark-symbol role-legend-symbol\" style=\"pointer-events: none;\"><path transform=\"translate(6,6)\" d=\"M-5,0L5,0\" style=\"fill: none; stroke: #c49c94; stroke-width: 1.5; opacity: 1;\"></path></g><g class=\"mark-text role-legend-label\" style=\"pointer-events: none;\"><text text-anchor=\"start\" transform=\"translate(16,9)\" style=\"font-family: sans-serif; font-size: 10px; fill: #000; opacity: 1;\">US</text></g></g></g></g></g></g></g><g class=\"mark-text role-legend-title\" style=\"pointer-events: none;\"><text text-anchor=\"start\" transform=\"translate(0,9)\" style=\"font-family: sans-serif; font-size: 11px; font-weight: bold; fill: #000; opacity: 1;\">regions</text></g></g></g></g><g class=\"mark-text role-title\" style=\"pointer-events: none;\"><text text-anchor=\"middle\" transform=\"translate(225,-12)\" style=\"font-family: sans-serif; font-size: 13px; font-weight: bold; fill: #000; opacity: 1;\">damages : DAMFRAC</text></g><g class=\"mark-group role-axis\"><g transform=\"translate(0.5,410.5)\"><path class=\"background\" d=\"M0,0h0v0h0Z\" style=\"pointer-events: none; fill: none;\"></path><g><g class=\"mark-rule role-axis-tick\" style=\"pointer-events: none;\"><line transform=\"translate(34,0)\" x2=\"0\" y2=\"5\" style=\"fill: none; stroke: #888; stroke-width: 1; opacity: 1;\"></line><line transform=\"translate(72,0)\" x2=\"0\" y2=\"5\" style=\"fill: none; stroke: #888; stroke-width: 1; opacity: 1;\"></line><line transform=\"translate(111,0)\" x2=\"0\" y2=\"5\" style=\"fill: none; stroke: #888; stroke-width: 1; opacity: 1;\"></line><line transform=\"translate(149,0)\" x2=\"0\" y2=\"5\" style=\"fill: none; stroke: #888; stroke-width: 1; opacity: 1;\"></line><line transform=\"translate(187,0)\" x2=\"0\" y2=\"5\" style=\"fill: none; stroke: #888; stroke-width: 1; opacity: 1;\"></line><line transform=\"translate(225,0)\" x2=\"0\" y2=\"5\" style=\"fill: none; stroke: #888; stroke-width: 1; opacity: 1;\"></line><line transform=\"translate(263,0)\" x2=\"0\" y2=\"5\" style=\"fill: none; stroke: #888; stroke-width: 1; opacity: 1;\"></line><line transform=\"translate(301,0)\" x2=\"0\" y2=\"5\" style=\"fill: none; stroke: #888; stroke-width: 1; opacity: 1;\"></line><line transform=\"translate(339,0)\" x2=\"0\" y2=\"5\" style=\"fill: none; stroke: #888; stroke-width: 1; opacity: 1;\"></line><line transform=\"translate(378,0)\" x2=\"0\" y2=\"5\" style=\"fill: none; stroke: #888; stroke-width: 1; opacity: 1;\"></line><line transform=\"translate(416,0)\" x2=\"0\" y2=\"5\" style=\"fill: none; stroke: #888; stroke-width: 1; opacity: 1;\"></line></g><g class=\"mark-text role-axis-label\" style=\"pointer-events: none;\"><text text-anchor=\"middle\" transform=\"translate(34.32222856426891,15)\" style=\"font-family: sans-serif; font-size: 10px; fill: #000; opacity: 1;\">2050</text><text text-anchor=\"middle\" transform=\"translate(72.45757402792667,15)\" style=\"font-family: sans-serif; font-size: 10px; fill: #000; opacity: 1;\">2100</text><text text-anchor=\"middle\" transform=\"translate(110.59291949158441,15)\" style=\"font-family: sans-serif; font-size: 10px; fill: #000; opacity: 1;\">2150</text><text text-anchor=\"middle\" transform=\"translate(148.72826495524217,15)\" style=\"font-family: sans-serif; font-size: 10px; fill: #000; opacity: 1;\">2200</text><text text-anchor=\"middle\" transform=\"translate(186.8636104188999,15)\" style=\"font-family: sans-serif; font-size: 10px; fill: #000; opacity: 1;\">2250</text><text text-anchor=\"middle\" transform=\"translate(224.99895588255768,15)\" style=\"font-family: sans-serif; font-size: 10px; fill: #000; opacity: 1;\">2300</text><text text-anchor=\"middle\" transform=\"translate(263.1343013462154,15)\" style=\"font-family: sans-serif; font-size: 10px; fill: #000; opacity: 1;\">2350</text><text text-anchor=\"middle\" transform=\"translate(301.26964680987317,15)\" style=\"font-family: sans-serif; font-size: 10px; fill: #000; opacity: 1;\">2400</text><text text-anchor=\"middle\" transform=\"translate(339.40708050841556,15)\" style=\"font-family: sans-serif; font-size: 10px; fill: #000; opacity: 1;\">2450</text><text text-anchor=\"middle\" transform=\"translate(377.5424259720734,15)\" style=\"font-family: sans-serif; font-size: 10px; fill: #000; opacity: 1;\">2500</text><text text-anchor=\"middle\" transform=\"translate(415.67777143573113,15)\" style=\"font-family: sans-serif; font-size: 10px; fill: #000; opacity: 1;\">2550</text></g><g class=\"mark-rule role-axis-domain\" style=\"pointer-events: none;\"><line transform=\"translate(0,0)\" x2=\"450\" y2=\"0\" style=\"fill: none; stroke: #888; stroke-width: 1; opacity: 1;\"></line></g><g class=\"mark-text role-axis-title\" style=\"pointer-events: none;\"><text text-anchor=\"middle\" transform=\"translate(225,30)\" style=\"font-family: sans-serif; font-size: 11px; font-weight: bold; fill: #000; opacity: 1;\">time (year)</text></g></g></g></g><g class=\"mark-group role-axis\"><g transform=\"translate(0.5,0.5)\"><path class=\"background\" d=\"M0,0h0v0h0Z\" style=\"pointer-events: none; fill: none;\"></path><g><g class=\"mark-rule role-axis-tick\" style=\"pointer-events: none;\"><line transform=\"translate(0,410)\" x2=\"-5\" y2=\"0\" style=\"fill: none; stroke: #888; stroke-width: 1; opacity: 1;\"></line><line transform=\"translate(0,359)\" x2=\"-5\" y2=\"0\" style=\"fill: none; stroke: #888; stroke-width: 1; opacity: 1;\"></line><line transform=\"translate(0,308)\" x2=\"-5\" y2=\"0\" style=\"fill: none; stroke: #888; stroke-width: 1; opacity: 1;\"></line><line transform=\"translate(0,256)\" x2=\"-5\" y2=\"0\" style=\"fill: none; stroke: #888; stroke-width: 1; opacity: 1;\"></line><line transform=\"translate(0,205)\" x2=\"-5\" y2=\"0\" style=\"fill: none; stroke: #888; stroke-width: 1; opacity: 1;\"></line><line transform=\"translate(0,154)\" x2=\"-5\" y2=\"0\" style=\"fill: none; stroke: #888; stroke-width: 1; opacity: 1;\"></line><line transform=\"translate(0,103)\" x2=\"-5\" y2=\"0\" style=\"fill: none; stroke: #888; stroke-width: 1; opacity: 1;\"></line><line transform=\"translate(0,51)\" x2=\"-5\" y2=\"0\" style=\"fill: none; stroke: #888; stroke-width: 1; opacity: 1;\"></line><line transform=\"translate(0,0)\" x2=\"-5\" y2=\"0\" style=\"fill: none; stroke: #888; stroke-width: 1; opacity: 1;\"></line></g><g class=\"mark-text role-axis-label\" style=\"pointer-events: none;\"><text text-anchor=\"end\" transform=\"translate(-7,413)\" style=\"font-family: sans-serif; font-size: 10px; fill: #000; opacity: 1;\">0.0</text><text text-anchor=\"end\" transform=\"translate(-7,361.75)\" style=\"font-family: sans-serif; font-size: 10px; fill: #000; opacity: 1;\">0.1</text><text text-anchor=\"end\" transform=\"translate(-7,310.5)\" style=\"font-family: sans-serif; font-size: 10px; fill: #000; opacity: 1;\">0.2</text><text text-anchor=\"end\" transform=\"translate(-7,259.25)\" style=\"font-family: sans-serif; font-size: 10px; fill: #000; opacity: 1;\">0.3</text><text text-anchor=\"end\" transform=\"translate(-7,208)\" style=\"font-family: sans-serif; font-size: 10px; fill: #000; opacity: 1;\">0.4</text><text text-anchor=\"end\" transform=\"translate(-7,156.75)\" style=\"font-family: sans-serif; font-size: 10px; fill: #000; opacity: 1;\">0.5</text><text text-anchor=\"end\" transform=\"translate(-7,105.50000000000006)\" style=\"font-family: sans-serif; font-size: 10px; fill: #000; opacity: 1;\">0.6</text><text text-anchor=\"end\" transform=\"translate(-7,54.25000000000006)\" style=\"font-family: sans-serif; font-size: 10px; fill: #000; opacity: 1;\">0.7</text><text text-anchor=\"end\" transform=\"translate(-7,3)\" style=\"font-family: sans-serif; font-size: 10px; fill: #000; opacity: 1;\">0.8</text></g><g class=\"mark-rule role-axis-domain\" style=\"pointer-events: none;\"><line transform=\"translate(0,410)\" x2=\"0\" y2=\"-410\" style=\"fill: none; stroke: #888; stroke-width: 1; opacity: 1;\"></line></g><g class=\"mark-text role-axis-title\" style=\"pointer-events: none;\"><text text-anchor=\"middle\" transform=\"translate(-24,205) rotate(-90) translate(0,-2)\" style=\"font-family: sans-serif; font-size: 11px; font-weight: bold; fill: #000; opacity: 1;\">DAMFRAC</text></g></g></g></g></g></g></g></g></svg>"
      ],
      "text/plain": [
       "VegaLite.VLSpec{:plot}"
      ]
     },
     "execution_count": 17,
     "metadata": {},
     "output_type": "execute_result"
    }
   ],
   "source": [
    "Mimi.plot(m_rice, :damages, :DAMFRAC)"
   ]
  },
  {
   "cell_type": "markdown",
   "metadata": {},
   "source": [
    "When you retrieve a variable via the indexing notation, you get a matrix in this example, because there is a separate value for each region, represented as different columns in the matrix."
   ]
  },
  {
   "cell_type": "code",
   "execution_count": 18,
   "metadata": {},
   "outputs": [
    {
     "data": {
      "text/plain": [
       "60×12 Array{Union{Missing, Float64},2}:\n",
       " 0.000974191  0.0010961   0.00111411  …  0.00143233  0.00107738  0.00265159\n",
       " 0.0013657    0.00262769  0.00168386     0.00189106  0.0030018   0.00342245\n",
       " 0.00215048   0.00378968  0.0026072      0.0027875   0.00427721  0.00484042\n",
       " 0.00328809   0.00554239  0.00395169     0.00404145  0.00620266  0.00678363\n",
       " 0.00477763   0.00777524  0.00570216     0.00564056  0.00863626  0.00921929\n",
       " 0.00659265   0.010463    0.00782544  …  0.00755042  0.0115474   0.0121004 \n",
       " 0.00868886   0.0135484   0.0102745      0.00972228  0.0148766   0.0153652 \n",
       " 0.0110204    0.0169749   0.0129951      0.0121084   0.0185666   0.0189592 \n",
       " 0.0135494    0.020697    0.0159395      0.0146704   0.0225761   0.0228448 \n",
       " 0.0162672    0.0249936   0.0191094      0.0173858   0.0273024   0.027137  \n",
       " 0.0191485    0.029636    0.0224565   …  0.0202329   0.0324381   0.0318028 \n",
       " 0.0221002    0.0345422   0.0258735      0.023115    0.0379181   0.0367587 \n",
       " 0.0251188    0.0396409   0.0293524      0.0260325   0.0436474   0.0420035 \n",
       " ⋮                                    ⋱              ⋮                     \n",
       " 0.107767     0.200535    0.080822       0.0707881   0.250355    0.539034  \n",
       " 0.110472     0.204424    0.0815875      0.0716772   0.255604    0.559667  \n",
       " 0.113251     0.208347    0.0823819   …  0.0726021   0.260891    0.580525  \n",
       " 0.116102     0.212303    0.0832022      0.07356     0.266214    0.601588  \n",
       " 0.119023     0.216289    0.0840461      0.074549    0.271572    0.622838  \n",
       " 0.122012     0.220305    0.0849116      0.0755673   0.276964    0.644262  \n",
       " 0.125068     0.22435     0.0857969      0.0766135   0.28239     0.66585   \n",
       " 0.128191     0.228422    0.0867008   …  0.0776864   0.287848    0.687605  \n",
       " 0.131378     0.232521    0.0876221      0.0787851   0.293337    0.709545  \n",
       " 0.13463      0.236647    0.0885599      0.0799088   0.298859    0.731709  \n",
       " 0.137946     0.2408      0.0895137      0.081057    0.304412    0.754172  \n",
       " 0.141325     0.244978    0.0904828      0.0822291   0.309996    0.777053  "
      ]
     },
     "execution_count": 18,
     "metadata": {},
     "output_type": "execute_result"
    }
   ],
   "source": [
    "m_rice[:damages, :DAMFRAC]"
   ]
  },
  {
   "cell_type": "markdown",
   "metadata": {},
   "source": [
    "When you retrieve the data as a `DataFrame`, values are automatically labeled with both their year and region."
   ]
  },
  {
   "cell_type": "code",
   "execution_count": 19,
   "metadata": {},
   "outputs": [
    {
     "data": {
      "text/html": [
       "<table class=\"data-frame\"><thead><tr><th></th><th>time</th><th>regions</th><th>DAMFRAC</th></tr><tr><th></th><th>Int64</th><th>String</th><th>Float64⍰</th></tr></thead><tbody><p>720 rows × 3 columns</p><tr><th>1</th><td>2005</td><td>US</td><td>0.000974191</td></tr><tr><th>2</th><td>2005</td><td>EU</td><td>0.0010961</td></tr><tr><th>3</th><td>2005</td><td>Japan</td><td>0.00111411</td></tr><tr><th>4</th><td>2005</td><td>Russia</td><td>0.000792638</td></tr><tr><th>5</th><td>2005</td><td>Eurasia</td><td>0.000898825</td></tr><tr><th>6</th><td>2005</td><td>China</td><td>0.00151848</td></tr><tr><th>7</th><td>2005</td><td>India</td><td>0.00480309</td></tr><tr><th>8</th><td>2005</td><td>MidEast</td><td>0.0033999</td></tr><tr><th>9</th><td>2005</td><td>Africa</td><td>0.00419631</td></tr><tr><th>10</th><td>2005</td><td>LatAm</td><td>0.00143233</td></tr><tr><th>11</th><td>2005</td><td>OHI</td><td>0.00107738</td></tr><tr><th>12</th><td>2005</td><td>OthAsia</td><td>0.00265159</td></tr><tr><th>13</th><td>2015</td><td>US</td><td>0.0013657</td></tr><tr><th>14</th><td>2015</td><td>EU</td><td>0.00262769</td></tr><tr><th>15</th><td>2015</td><td>Japan</td><td>0.00168386</td></tr><tr><th>16</th><td>2015</td><td>Russia</td><td>0.00110628</td></tr><tr><th>17</th><td>2015</td><td>Eurasia</td><td>0.00128008</td></tr><tr><th>18</th><td>2015</td><td>China</td><td>0.00483031</td></tr><tr><th>19</th><td>2015</td><td>India</td><td>0.00592691</td></tr><tr><th>20</th><td>2015</td><td>MidEast</td><td>0.0045837</td></tr><tr><th>21</th><td>2015</td><td>Africa</td><td>0.00610034</td></tr><tr><th>22</th><td>2015</td><td>LatAm</td><td>0.00189106</td></tr><tr><th>23</th><td>2015</td><td>OHI</td><td>0.0030018</td></tr><tr><th>24</th><td>2015</td><td>OthAsia</td><td>0.00342245</td></tr><tr><th>25</th><td>2025</td><td>US</td><td>0.00215048</td></tr><tr><th>26</th><td>2025</td><td>EU</td><td>0.00378968</td></tr><tr><th>27</th><td>2025</td><td>Japan</td><td>0.0026072</td></tr><tr><th>28</th><td>2025</td><td>Russia</td><td>0.00174236</td></tr><tr><th>29</th><td>2025</td><td>Eurasia</td><td>0.00200824</td></tr><tr><th>30</th><td>2025</td><td>China</td><td>0.00701334</td></tr><tr><th>&vellip;</th><td>&vellip;</td><td>&vellip;</td><td>&vellip;</td></tr></tbody></table>"
      ],
      "text/latex": [
       "\\begin{tabular}{r|ccc}\n",
       "\t& time & regions & DAMFRAC\\\\\n",
       "\t\\hline\n",
       "\t& Int64 & String & Float64⍰\\\\\n",
       "\t\\hline\n",
       "\t1 & 2005 & US & 0.000974191 \\\\\n",
       "\t2 & 2005 & EU & 0.0010961 \\\\\n",
       "\t3 & 2005 & Japan & 0.00111411 \\\\\n",
       "\t4 & 2005 & Russia & 0.000792638 \\\\\n",
       "\t5 & 2005 & Eurasia & 0.000898825 \\\\\n",
       "\t6 & 2005 & China & 0.00151848 \\\\\n",
       "\t7 & 2005 & India & 0.00480309 \\\\\n",
       "\t8 & 2005 & MidEast & 0.0033999 \\\\\n",
       "\t9 & 2005 & Africa & 0.00419631 \\\\\n",
       "\t10 & 2005 & LatAm & 0.00143233 \\\\\n",
       "\t11 & 2005 & OHI & 0.00107738 \\\\\n",
       "\t12 & 2005 & OthAsia & 0.00265159 \\\\\n",
       "\t13 & 2015 & US & 0.0013657 \\\\\n",
       "\t14 & 2015 & EU & 0.00262769 \\\\\n",
       "\t15 & 2015 & Japan & 0.00168386 \\\\\n",
       "\t16 & 2015 & Russia & 0.00110628 \\\\\n",
       "\t17 & 2015 & Eurasia & 0.00128008 \\\\\n",
       "\t18 & 2015 & China & 0.00483031 \\\\\n",
       "\t19 & 2015 & India & 0.00592691 \\\\\n",
       "\t20 & 2015 & MidEast & 0.0045837 \\\\\n",
       "\t21 & 2015 & Africa & 0.00610034 \\\\\n",
       "\t22 & 2015 & LatAm & 0.00189106 \\\\\n",
       "\t23 & 2015 & OHI & 0.0030018 \\\\\n",
       "\t24 & 2015 & OthAsia & 0.00342245 \\\\\n",
       "\t25 & 2025 & US & 0.00215048 \\\\\n",
       "\t26 & 2025 & EU & 0.00378968 \\\\\n",
       "\t27 & 2025 & Japan & 0.0026072 \\\\\n",
       "\t28 & 2025 & Russia & 0.00174236 \\\\\n",
       "\t29 & 2025 & Eurasia & 0.00200824 \\\\\n",
       "\t30 & 2025 & China & 0.00701334 \\\\\n",
       "\t$\\dots$ & $\\dots$ & $\\dots$ & $\\dots$ \\\\\n",
       "\\end{tabular}\n"
      ],
      "text/plain": [
       "720×3 DataFrames.DataFrame\n",
       "│ Row │ time  │ regions │ DAMFRAC     │\n",
       "│     │ \u001b[90mInt64\u001b[39m │ \u001b[90mString\u001b[39m  │ \u001b[90mFloat64⍰\u001b[39m    │\n",
       "├─────┼───────┼─────────┼─────────────┤\n",
       "│ 1   │ 2005  │ US      │ 0.000974191 │\n",
       "│ 2   │ 2005  │ EU      │ 0.0010961   │\n",
       "│ 3   │ 2005  │ Japan   │ 0.00111411  │\n",
       "│ 4   │ 2005  │ Russia  │ 0.000792638 │\n",
       "│ 5   │ 2005  │ Eurasia │ 0.000898825 │\n",
       "│ 6   │ 2005  │ China   │ 0.00151848  │\n",
       "│ 7   │ 2005  │ India   │ 0.00480309  │\n",
       "│ 8   │ 2005  │ MidEast │ 0.0033999   │\n",
       "│ 9   │ 2005  │ Africa  │ 0.00419631  │\n",
       "│ 10  │ 2005  │ LatAm   │ 0.00143233  │\n",
       "⋮\n",
       "│ 710 │ 2595  │ EU      │ 0.244978    │\n",
       "│ 711 │ 2595  │ Japan   │ 0.0904828   │\n",
       "│ 712 │ 2595  │ Russia  │ 0.053847    │\n",
       "│ 713 │ 2595  │ Eurasia │ 0.0493498   │\n",
       "│ 714 │ 2595  │ China   │ 0.697777    │\n",
       "│ 715 │ 2595  │ India   │ 0.236909    │\n",
       "│ 716 │ 2595  │ MidEast │ 0.150042    │\n",
       "│ 717 │ 2595  │ Africa  │ 0.369021    │\n",
       "│ 718 │ 2595  │ LatAm   │ 0.0822291   │\n",
       "│ 719 │ 2595  │ OHI     │ 0.309996    │\n",
       "│ 720 │ 2595  │ OthAsia │ 0.777053    │"
      ]
     },
     "execution_count": 19,
     "metadata": {},
     "output_type": "execute_result"
    }
   ],
   "source": [
    "getdataframe(m_rice, :damages, :DAMFRAC)"
   ]
  },
  {
   "cell_type": "markdown",
   "metadata": {},
   "source": [
    "### MimiFUND"
   ]
  },
  {
   "cell_type": "markdown",
   "metadata": {},
   "source": [
    "This section shows how you can run [MimiFUND.jl](https://github.com/fund-model/MimiFUND.jl). All the function calls and patterns are identical to the previous section, so they are not documented again."
   ]
  },
  {
   "cell_type": "code",
   "execution_count": 20,
   "metadata": {},
   "outputs": [],
   "source": [
    "using MimiFUND"
   ]
  },
  {
   "cell_type": "code",
   "execution_count": 21,
   "metadata": {},
   "outputs": [
    {
     "data": {
      "text/plain": [
       "29-component Mimi.Model:\n",
       "  scenariouncertainty::MimiFUND.scenariouncertainty\n",
       "  population::MimiFUND.population\n",
       "  geography::MimiFUND.geography\n",
       "  socioeconomic::MimiFUND.socioeconomic\n",
       "  emissions::MimiFUND.emissions\n",
       "  climateco2cycle::MimiFUND.climateco2cycle\n",
       "  climatech4cycle::MimiFUND.climatech4cycle\n",
       "  climaten2ocycle::MimiFUND.climaten2ocycle\n",
       "  climatesf6cycle::MimiFUND.climatesf6cycle\n",
       "  climateforcing::MimiFUND.climateforcing\n",
       "  climatedynamics::MimiFUND.climatedynamics\n",
       "  biodiversity::MimiFUND.biodiversity\n",
       "  climateregional::MimiFUND.climateregional\n",
       "  ocean::MimiFUND.ocean\n",
       "  impactagriculture::MimiFUND.impactagriculture\n",
       "  impactbiodiversity::MimiFUND.impactbiodiversity\n",
       "  impactcardiovascularrespiratory::MimiFUND.impactcardiovascularrespiratory\n",
       "  impactcooling::MimiFUND.impactcooling\n",
       "  impactdiarrhoea::MimiFUND.impactdiarrhoea\n",
       "  impactextratropicalstorms::MimiFUND.impactextratropicalstorms\n",
       "  impactforests::MimiFUND.impactforests\n",
       "  impactheating::MimiFUND.impactheating\n",
       "  impactvectorbornediseases::MimiFUND.impactvectorbornediseases\n",
       "  impacttropicalstorms::MimiFUND.impacttropicalstorms\n",
       "  vslvmorb::MimiFUND.vslvmorb\n",
       "  impactdeathmorbidity::MimiFUND.impactdeathmorbidity\n",
       "  impactwaterresources::MimiFUND.impactwaterresources\n",
       "  impactsealevelrise::MimiFUND.impactsealevelrise\n",
       "  impactaggregation::MimiFUND.impactaggregation\n"
      ]
     },
     "execution_count": 21,
     "metadata": {},
     "output_type": "execute_result"
    }
   ],
   "source": [
    "m_fund = MimiFUND.get_model()"
   ]
  },
  {
   "cell_type": "code",
   "execution_count": 22,
   "metadata": {},
   "outputs": [
    {
     "data": {
      "image/svg+xml": [
       "<?xml version=\"1.0\" encoding=\"UTF-8\"?>\n",
       "<svg xmlns=\"http://www.w3.org/2000/svg\"\n",
       "     xmlns:xlink=\"http://www.w3.org/1999/xlink\"\n",
       "     version=\"1.2\"\n",
       "     width=\"141.42mm\" height=\"100mm\" viewBox=\"0 0 141.42 100\"\n",
       "     stroke=\"none\"\n",
       "     fill=\"#000000\"\n",
       "     stroke-width=\"0.3\"\n",
       "     font-size=\"3.88\"\n",
       ">\n",
       "<defs>\n",
       "  <marker id=\"arrow\" markerWidth=\"15\" markerHeight=\"7\" refX=\"5\" refY=\"3.5\" orient=\"auto\" markerUnits=\"strokeWidth\">\n",
       "    <path d=\"M0,0 L15,3.5 L0,7 z\" stroke=\"context-stroke\" fill=\"context-stroke\"/>\n",
       "  </marker>\n",
       "</defs>\n",
       "<g stroke-width=\"0.56\" fill=\"#000000\" fill-opacity=\"0.000\" stroke=\"#D3D3D3\" id=\"img-97e2c957-1\">\n",
       "  <g transform=\"translate(54.07,40.16)\">\n",
       "    <path fill=\"none\" d=\"M2.85,-10.35 L -2.85 10.35\" class=\"primitive\"/>\n",
       "  </g>\n",
       "  <g transform=\"translate(54.59,42.43)\">\n",
       "    <path fill=\"none\" d=\"M2.47,-12.61 L -2.47 12.61\" class=\"primitive\"/>\n",
       "  </g>\n",
       "  <g transform=\"translate(71.84,28.76)\">\n",
       "    <path fill=\"none\" d=\"M-11.68,-0.7 L 11.68 0.7\" class=\"primitive\"/>\n",
       "  </g>\n",
       "  <g transform=\"translate(51.22,54.68)\">\n",
       "    <path fill=\"none\" d=\"M-0.08,-0.37 L 0.08 0.37\" class=\"primitive\"/>\n",
       "  </g>\n",
       "  <g transform=\"translate(68.47,41.01)\">\n",
       "    <path fill=\"none\" d=\"M-15.75,10.09 L 15.75 -10.09\" class=\"primitive\"/>\n",
       "  </g>\n",
       "  <g transform=\"translate(63.89,56.61)\">\n",
       "    <path fill=\"none\" d=\"M-10.7,-3.41 L 10.7 3.41\" class=\"primitive\"/>\n",
       "  </g>\n",
       "  <g transform=\"translate(64.69,62.05)\">\n",
       "    <path fill=\"none\" d=\"M-12.03,-8.29 L 12.03 8.29\" class=\"primitive\"/>\n",
       "  </g>\n",
       "  <g transform=\"translate(38.08,49.29)\">\n",
       "    <path fill=\"none\" d=\"M10.03,2.48 L -10.03 -2.48\" class=\"primitive\"/>\n",
       "  </g>\n",
       "  <g transform=\"translate(60.61,48.7)\">\n",
       "    <path fill=\"none\" d=\"M-7.49,2.81 L 7.49 -2.81\" class=\"primitive\"/>\n",
       "  </g>\n",
       "  <g transform=\"translate(37.97,59.18)\">\n",
       "    <path fill=\"none\" d=\"M10.54,-5.61 L -10.54 5.61\" class=\"primitive\"/>\n",
       "  </g>\n",
       "  <g transform=\"translate(51.81,47.67)\">\n",
       "    <path fill=\"none\" d=\"M-0.66,2.82 L 0.66 -2.82\" class=\"primitive\"/>\n",
       "  </g>\n",
       "  <g transform=\"translate(63.82,52.86)\">\n",
       "    <path fill=\"none\" d=\"M-10.39,-0.36 L 10.39 0.36\" class=\"primitive\"/>\n",
       "  </g>\n",
       "  <g transform=\"translate(56.88,46.2)\">\n",
       "    <path fill=\"none\" d=\"M-4.6,4.62 L 4.6 -4.62\" class=\"primitive\"/>\n",
       "  </g>\n",
       "  <g transform=\"translate(41.7,46.37)\">\n",
       "    <path fill=\"none\" d=\"M7.01,4.7 L -7.01 -4.7\" class=\"primitive\"/>\n",
       "  </g>\n",
       "  <g transform=\"translate(43.27,59.32)\">\n",
       "    <path fill=\"none\" d=\"M5.78,-5.37 L -5.78 5.37\" class=\"primitive\"/>\n",
       "  </g>\n",
       "  <g transform=\"translate(31.24,53.95)\">\n",
       "    <path fill=\"none\" d=\"M16.74,-1.33 L -16.74 1.33\" class=\"primitive\"/>\n",
       "  </g>\n",
       "  <g transform=\"translate(38.91,53.27)\">\n",
       "    <path fill=\"none\" d=\"M9.07,-0.67 L -9.07 0.67\" class=\"primitive\"/>\n",
       "  </g>\n",
       "  <g transform=\"translate(47.69,63.47)\">\n",
       "    <path fill=\"none\" d=\"M2.49,-9.17 L -2.49 9.17\" class=\"primitive\"/>\n",
       "  </g>\n",
       "  <g transform=\"translate(57.56,66.79)\">\n",
       "    <path fill=\"none\" d=\"M-5.99,-12.55 L 5.99 12.55\" class=\"primitive\"/>\n",
       "  </g>\n",
       "  <g transform=\"translate(47.83,74.31)\">\n",
       "    <path fill=\"none\" d=\"M-3.48,15.44 L 3.48 -15.44\" class=\"primitive\"/>\n",
       "  </g>\n",
       "  <g transform=\"translate(54.17,86.42)\">\n",
       "    <path fill=\"none\" d=\"M-8.04,4.11 L 8.04 -4.11\" class=\"primitive\"/>\n",
       "  </g>\n",
       "  <g transform=\"translate(68.99,43.29)\">\n",
       "    <path fill=\"none\" d=\"M-15.44,12.23 L 15.44 -12.23\" class=\"primitive\"/>\n",
       "  </g>\n",
       "  <g transform=\"translate(64.41,58.89)\">\n",
       "    <path fill=\"none\" d=\"M-10,-1.52 L 10 1.52\" class=\"primitive\"/>\n",
       "  </g>\n",
       "  <g transform=\"translate(65.21,64.33)\">\n",
       "    <path fill=\"none\" d=\"M-11.31,-6.18 L 11.31 6.18\" class=\"primitive\"/>\n",
       "  </g>\n",
       "  <g transform=\"translate(38.6,51.57)\">\n",
       "    <path fill=\"none\" d=\"M10.77,4.42 L -10.77 -4.42\" class=\"primitive\"/>\n",
       "  </g>\n",
       "  <g transform=\"translate(61.13,50.97)\">\n",
       "    <path fill=\"none\" d=\"M-7.36,4.69 L 7.36 -4.69\" class=\"primitive\"/>\n",
       "  </g>\n",
       "  <g transform=\"translate(38.49,61.45)\">\n",
       "    <path fill=\"none\" d=\"M10.78,-3.66 L -10.78 3.66\" class=\"primitive\"/>\n",
       "  </g>\n",
       "  <g transform=\"translate(52.33,49.95)\">\n",
       "    <path fill=\"none\" d=\"M-0.43,5.08 L 0.43 -5.08\" class=\"primitive\"/>\n",
       "  </g>\n",
       "  <g transform=\"translate(64.34,55.13)\">\n",
       "    <path fill=\"none\" d=\"M-9.92,1.44 L 9.92 -1.44\" class=\"primitive\"/>\n",
       "  </g>\n",
       "  <g transform=\"translate(57.4,48.48)\">\n",
       "    <path fill=\"none\" d=\"M-4.49,6.73 L 4.49 -6.73\" class=\"primitive\"/>\n",
       "  </g>\n",
       "  <g transform=\"translate(42.22,48.65)\">\n",
       "    <path fill=\"none\" d=\"M7.79,6.81 L -7.79 -6.81\" class=\"primitive\"/>\n",
       "  </g>\n",
       "  <g transform=\"translate(43.79,61.59)\">\n",
       "    <path fill=\"none\" d=\"M5.84,-3.4 L -5.84 3.4\" class=\"primitive\"/>\n",
       "  </g>\n",
       "  <g transform=\"translate(31.76,56.22)\">\n",
       "    <path fill=\"none\" d=\"M17.24,0.64 L -17.24 -0.64\" class=\"primitive\"/>\n",
       "  </g>\n",
       "  <g transform=\"translate(48.21,65.75)\">\n",
       "    <path fill=\"none\" d=\"M2.78,-6.93 L -2.78 6.93\" class=\"primitive\"/>\n",
       "  </g>\n",
       "  <g transform=\"translate(58.08,69.07)\">\n",
       "    <path fill=\"none\" d=\"M-5.4,-10.3 L 5.4 10.3\" class=\"primitive\"/>\n",
       "  </g>\n",
       "  <g transform=\"translate(54.73,60.26)\">\n",
       "    <path fill=\"none\" d=\"M-1.51,-1.67 L 1.51 1.67\" class=\"primitive\"/>\n",
       "  </g>\n",
       "  <g transform=\"translate(68.99,43.29)\">\n",
       "    <path fill=\"none\" d=\"M15.44,-12.23 L -15.44 12.23\" class=\"primitive\"/>\n",
       "  </g>\n",
       "  <g transform=\"translate(91.28,36.56)\">\n",
       "    <path fill=\"none\" d=\"M-3.78,-5.21 L 3.78 5.21\" class=\"primitive\"/>\n",
       "  </g>\n",
       "  <g transform=\"translate(107.94,24.11)\">\n",
       "    <path fill=\"none\" d=\"M-19.12,4.86 L 19.12 -4.86\" class=\"primitive\"/>\n",
       "  </g>\n",
       "  <g transform=\"translate(97.25,18.98)\">\n",
       "    <path fill=\"none\" d=\"M-9.38,9.08 L 9.38 -9.08\" class=\"primitive\"/>\n",
       "  </g>\n",
       "  <g transform=\"translate(103.36,20.3)\">\n",
       "    <path fill=\"none\" d=\"M-14.94,8.15 L 14.94 -8.15\" class=\"primitive\"/>\n",
       "  </g>\n",
       "  <g transform=\"translate(78.39,37.3)\">\n",
       "    <path fill=\"none\" d=\"M6.26,-6.11 L -6.26 6.11\" class=\"primitive\"/>\n",
       "  </g>\n",
       "  <g transform=\"translate(74.65,34.81)\">\n",
       "    <path fill=\"none\" d=\"M9.29,-4.15 L -9.29 4.15\" class=\"primitive\"/>\n",
       "  </g>\n",
       "  <g transform=\"translate(109.11,37.03)\">\n",
       "    <path fill=\"none\" d=\"M-10.58,5.34 L 10.58 -5.34\" class=\"primitive\"/>\n",
       "  </g>\n",
       "  <g transform=\"translate(86.69,52.15)\">\n",
       "    <path fill=\"none\" d=\"M7.92,-7.14 L -7.92 7.14\" class=\"primitive\"/>\n",
       "  </g>\n",
       "  <g transform=\"translate(74.61,43.22)\">\n",
       "    <path fill=\"none\" d=\"M18.95,0.24 L -18.95 -0.24\" class=\"primitive\"/>\n",
       "  </g>\n",
       "  <g transform=\"translate(86.62,48.4)\">\n",
       "    <path fill=\"none\" d=\"M7.46,-3.78 L -7.46 3.78\" class=\"primitive\"/>\n",
       "  </g>\n",
       "  <g transform=\"translate(125.78,24.58)\">\n",
       "    <path fill=\"none\" d=\"M2.73,-4.22 L -2.73 4.22\" class=\"primitive\"/>\n",
       "  </g>\n",
       "  <g transform=\"translate(115.08,19.45)\">\n",
       "    <path fill=\"none\" d=\"M-5.74,-9.34 L 5.74 9.34\" class=\"primitive\"/>\n",
       "  </g>\n",
       "  <g transform=\"translate(121.19,20.76)\">\n",
       "    <path fill=\"none\" d=\"M-0.58,-7.86 L 0.58 7.86\" class=\"primitive\"/>\n",
       "  </g>\n",
       "  <g transform=\"translate(115.13,45.75)\">\n",
       "    <path fill=\"none\" d=\"M5.97,-13.35 L -5.97 13.35\" class=\"primitive\"/>\n",
       "  </g>\n",
       "  <g transform=\"translate(102.32,52.22)\">\n",
       "    <path fill=\"none\" d=\"M4.82,6.99 L -4.82 -6.99\" class=\"primitive\"/>\n",
       "  </g>\n",
       "  <g transform=\"translate(113.49,70.54)\">\n",
       "    <path fill=\"none\" d=\"M-4.19,-7.79 L 4.19 7.79\" class=\"primitive\"/>\n",
       "  </g>\n",
       "  <g transform=\"translate(84.48,59.26)\">\n",
       "    <path fill=\"none\" d=\"M21.13,1.49 L -21.13 -1.49\" class=\"primitive\"/>\n",
       "  </g>\n",
       "  <g transform=\"translate(104.94,75.3)\">\n",
       "    <path fill=\"none\" d=\"M2.95,-12.45 L -2.95 12.45\" class=\"primitive\"/>\n",
       "  </g>\n",
       "  <g transform=\"translate(98.67,75.91)\">\n",
       "    <path fill=\"none\" d=\"M17.36,3.67 L -17.36 -3.67\" class=\"primitive\"/>\n",
       "  </g>\n",
       "  <g transform=\"translate(68.85,59.2)\">\n",
       "    <path fill=\"none\" d=\"M-5.59,-1.1 L 5.59 1.1\" class=\"primitive\"/>\n",
       "  </g>\n",
       "  <g transform=\"translate(69.65,64.64)\">\n",
       "    <path fill=\"none\" d=\"M-7.19,-5.62 L 7.19 5.62\" class=\"primitive\"/>\n",
       "  </g>\n",
       "  <g transform=\"translate(43.05,51.88)\">\n",
       "    <path fill=\"none\" d=\"M15.09,4.9 L -15.09 -4.9\" class=\"primitive\"/>\n",
       "  </g>\n",
       "  <g transform=\"translate(65.57,51.28)\">\n",
       "    <path fill=\"none\" d=\"M-3.62,4.61 L 3.62 -4.61\" class=\"primitive\"/>\n",
       "  </g>\n",
       "  <g transform=\"translate(42.93,61.76)\">\n",
       "    <path fill=\"none\" d=\"M15.1,-3.57 L -15.1 3.57\" class=\"primitive\"/>\n",
       "  </g>\n",
       "  <g transform=\"translate(68.78,55.44)\">\n",
       "    <path fill=\"none\" d=\"M-5.59,1.46 L 5.59 -1.46\" class=\"primitive\"/>\n",
       "  </g>\n",
       "  <g transform=\"translate(61.84,48.79)\">\n",
       "    <path fill=\"none\" d=\"M-0.95,6.87 L 0.95 -6.87\" class=\"primitive\"/>\n",
       "  </g>\n",
       "  <g transform=\"translate(46.67,48.96)\">\n",
       "    <path fill=\"none\" d=\"M11.9,7.35 L -11.9 -7.35\" class=\"primitive\"/>\n",
       "  </g>\n",
       "  <g transform=\"translate(48.23,61.9)\">\n",
       "    <path fill=\"none\" d=\"M9.94,-3.47 L -9.94 3.47\" class=\"primitive\"/>\n",
       "  </g>\n",
       "  <g transform=\"translate(52.65,66.06)\">\n",
       "    <path fill=\"none\" d=\"M6.46,-6.87 L -6.46 6.87\" class=\"primitive\"/>\n",
       "  </g>\n",
       "  <g transform=\"translate(82.98,85.42)\">\n",
       "    <path fill=\"none\" d=\"M15.95,3.64 L -15.95 -3.64\" class=\"primitive\"/>\n",
       "  </g>\n",
       "  <g transform=\"translate(67.4,62.19)\">\n",
       "    <path fill=\"none\" d=\"M7,-0.99 L -7 0.99\" class=\"primitive\"/>\n",
       "  </g>\n",
       "  <g transform=\"translate(68.2,67.62)\">\n",
       "    <path fill=\"none\" d=\"M8.08,3.14 L -8.08 -3.14\" class=\"primitive\"/>\n",
       "  </g>\n",
       "  <g transform=\"translate(26.29,50.16)\">\n",
       "    <path fill=\"none\" d=\"M-0.43,-2.07 L 0.43 2.07\" class=\"primitive\"/>\n",
       "  </g>\n",
       "  <g transform=\"translate(64.12,54.27)\">\n",
       "    <path fill=\"none\" d=\"M5.2,-7.55 L -5.2 7.55\" class=\"primitive\"/>\n",
       "  </g>\n",
       "  <g transform=\"translate(26.18,60.04)\">\n",
       "    <path fill=\"none\" d=\"M-0.63,3.98 L 0.63 -3.98\" class=\"primitive\"/>\n",
       "  </g>\n",
       "  <g transform=\"translate(40.02,48.54)\">\n",
       "    <path fill=\"none\" d=\"M10.57,-4.59 L -10.57 4.59\" class=\"primitive\"/>\n",
       "  </g>\n",
       "  <g transform=\"translate(55.32,53.25)\">\n",
       "    <path fill=\"none\" d=\"M-1.95,-8.4 L 1.95 8.4\" class=\"primitive\"/>\n",
       "  </g>\n",
       "  <g transform=\"translate(67.33,58.43)\">\n",
       "    <path fill=\"none\" d=\"M7.43,-3.96 L -7.43 3.96\" class=\"primitive\"/>\n",
       "  </g>\n",
       "  <g transform=\"translate(60.39,51.77)\">\n",
       "    <path fill=\"none\" d=\"M2.24,-9.87 L -2.24 9.87\" class=\"primitive\"/>\n",
       "  </g>\n",
       "  <g transform=\"translate(29.91,47.24)\">\n",
       "    <path fill=\"none\" d=\"M2.04,-5.04 L -2.04 5.04\" class=\"primitive\"/>\n",
       "  </g>\n",
       "  <g transform=\"translate(31.48,60.18)\">\n",
       "    <path fill=\"none\" d=\"M3.11,4.32 L -3.11 -4.32\" class=\"primitive\"/>\n",
       "  </g>\n",
       "  <g transform=\"translate(46.78,64.89)\">\n",
       "    <path fill=\"none\" d=\"M-8.25,1.01 L 8.25 -1.01\" class=\"primitive\"/>\n",
       "  </g>\n",
       "  <g transform=\"translate(19.45,54.81)\">\n",
       "    <path fill=\"none\" d=\"M-4.95,0.43 L 4.95 -0.43\" class=\"primitive\"/>\n",
       "  </g>\n",
       "  <g transform=\"translate(38.91,53.27)\">\n",
       "    <path fill=\"none\" d=\"M-9.07,0.67 L 9.07 -0.67\" class=\"primitive\"/>\n",
       "  </g>\n",
       "  <g transform=\"translate(42.42,58.85)\">\n",
       "    <path fill=\"none\" d=\"M-12.79,-3.93 L 12.79 3.93\" class=\"primitive\"/>\n",
       "  </g>\n",
       "  <g transform=\"translate(51.2,69.05)\">\n",
       "    <path fill=\"none\" d=\"M-4.76,4.01 L 4.76 -4.01\" class=\"primitive\"/>\n",
       "  </g>\n",
       "  <g transform=\"translate(57.56,66.79)\">\n",
       "    <path fill=\"none\" d=\"M5.99,12.55 L -5.99 -12.55\" class=\"primitive\"/>\n",
       "  </g>\n",
       "  <g transform=\"translate(54.17,86.42)\">\n",
       "    <path fill=\"none\" d=\"M8.04,-4.11 L -8.04 4.11\" class=\"primitive\"/>\n",
       "  </g>\n",
       "  <g transform=\"translate(61.08,72.37)\">\n",
       "    <path fill=\"none\" d=\"M2.64,6.95 L -2.64 -6.95\" class=\"primitive\"/>\n",
       "  </g>\n",
       "  <g transform=\"translate(54.73,60.26)\">\n",
       "    <path fill=\"none\" d=\"M1.51,1.67 L -1.51 -1.67\" class=\"primitive\"/>\n",
       "  </g>\n",
       "</g>\n",
       "<g stroke-width=\"0.56\" stroke=\"#D3D3D3\" id=\"img-97e2c957-2\">\n",
       "  <g transform=\"translate(51.92,47.94)\">\n",
       "    <path fill=\"none\" d=\"M2.33,-1.01 L -0.7 2.56 -1.63 -1.55\" class=\"primitive\"/>\n",
       "  </g>\n",
       "  <g transform=\"translate(52.62,52.46)\">\n",
       "    <path fill=\"none\" d=\"M2.25,-1.1 L -0.51 2.59 -1.74 -1.49\" class=\"primitive\"/>\n",
       "  </g>\n",
       "  <g transform=\"translate(79.85,29.24)\">\n",
       "    <path fill=\"none\" d=\"M-1.67,-1.53 L 3.68 0.22 -2.01 1.31\" class=\"primitive\"/>\n",
       "  </g>\n",
       "  <g transform=\"translate(50.71,52.47)\">\n",
       "    <path fill=\"none\" d=\"M1.7,-1.52 L 0.59 2.58 -2.28 -1.06\" class=\"primitive\"/>\n",
       "  </g>\n",
       "  <g transform=\"translate(81.49,32.67)\">\n",
       "    <path fill=\"none\" d=\"M-2.72,-0.18 L 2.74 -1.75 -0.01 1.93\" class=\"primitive\"/>\n",
       "  </g>\n",
       "  <g transform=\"translate(71.22,58.95)\">\n",
       "    <path fill=\"none\" d=\"M-0.85,-1.84 L 3.37 1.07 -2.51 0.76\" class=\"primitive\"/>\n",
       "  </g>\n",
       "  <g transform=\"translate(74.08,68.52)\">\n",
       "    <path fill=\"none\" d=\"M0.08,-1.93 L 2.64 1.82 -2.73 0.11\" class=\"primitive\"/>\n",
       "  </g>\n",
       "  <g transform=\"translate(31.53,47.67)\">\n",
       "    <path fill=\"none\" d=\"M1.08,1.78 L -3.48 -0.86 2.41 -0.91\" class=\"primitive\"/>\n",
       "  </g>\n",
       "  <g transform=\"translate(64.84,47.11)\">\n",
       "    <path fill=\"none\" d=\"M-2.57,-0.65 L 3.26 -1.22 -0.69 1.87\" class=\"primitive\"/>\n",
       "  </g>\n",
       "  <g transform=\"translate(30.38,63.21)\">\n",
       "    <path fill=\"none\" d=\"M2.69,0.35 L -2.95 1.57 0.26 -1.92\" class=\"primitive\"/>\n",
       "  </g>\n",
       "  <g transform=\"translate(51.87,47.42)\">\n",
       "    <path fill=\"none\" d=\"M-2.29,1.05 L 0.61 -2.57 1.68 1.52\" class=\"primitive\"/>\n",
       "  </g>\n",
       "  <g transform=\"translate(70.52,53.09)\">\n",
       "    <path fill=\"none\" d=\"M-1.75,-1.49 L 3.69 0.13 -1.94 1.36\" class=\"primitive\"/>\n",
       "  </g>\n",
       "  <g transform=\"translate(59.36,43.71)\">\n",
       "    <path fill=\"none\" d=\"M-2.71,0.25 L 2.13 -2.13 0.59 1.89\" class=\"primitive\"/>\n",
       "  </g>\n",
       "  <g transform=\"translate(37.37,43.47)\">\n",
       "    <path fill=\"none\" d=\"M-0.05,1.93 L -2.68 -1.8 2.73 -0.14\" class=\"primitive\"/>\n",
       "  </g>\n",
       "  <g transform=\"translate(39.72,62.61)\">\n",
       "    <path fill=\"none\" d=\"M2.72,-0.18 L -2.23 2.08 -0.49 -1.9\" class=\"primitive\"/>\n",
       "  </g>\n",
       "  <g transform=\"translate(18.17,54.98)\">\n",
       "    <path fill=\"none\" d=\"M2.06,1.27 L -3.67 0.29 1.61 -1.56\" class=\"primitive\"/>\n",
       "  </g>\n",
       "  <g transform=\"translate(33.51,53.67)\">\n",
       "    <path fill=\"none\" d=\"M2.04,1.28 L -3.67 0.27 1.63 -1.55\" class=\"primitive\"/>\n",
       "  </g>\n",
       "  <g transform=\"translate(45.89,70.08)\">\n",
       "    <path fill=\"none\" d=\"M2.33,-1.01 L -0.7 2.56 -1.63 -1.55\" class=\"primitive\"/>\n",
       "  </g>\n",
       "  <g transform=\"translate(62.38,76.87)\">\n",
       "    <path fill=\"none\" d=\"M1.32,-1.69 L 1.18 2.47 -2.5 -0.78\" class=\"primitive\"/>\n",
       "  </g>\n",
       "  <g transform=\"translate(50.73,61.45)\">\n",
       "    <path fill=\"none\" d=\"M-2.28,1.06 L 0.58 -2.58 1.7 1.51\" class=\"primitive\"/>\n",
       "  </g>\n",
       "  <g transform=\"translate(59.22,83.84)\">\n",
       "    <path fill=\"none\" d=\"M-2.68,-0.39 L 2.99 -1.53 -0.32 1.92\" class=\"primitive\"/>\n",
       "  </g>\n",
       "  <g transform=\"translate(81.97,33.01)\">\n",
       "    <path fill=\"none\" d=\"M-2.73,0.02 L 2.46 -1.95 0.27 1.92\" class=\"primitive\"/>\n",
       "  </g>\n",
       "  <g transform=\"translate(70.8,59.86)\">\n",
       "    <path fill=\"none\" d=\"M-1.38,-1.67 L 3.61 0.55 -2.23 1.12\" class=\"primitive\"/>\n",
       "  </g>\n",
       "  <g transform=\"translate(73.6,68.91)\">\n",
       "    <path fill=\"none\" d=\"M-0.23,-1.93 L 2.92 1.6 -2.69 0.33\" class=\"primitive\"/>\n",
       "  </g>\n",
       "  <g transform=\"translate(31.02,48.45)\">\n",
       "    <path fill=\"none\" d=\"M0.58,1.89 L -3.19 -1.31 2.61 -0.58\" class=\"primitive\"/>\n",
       "  </g>\n",
       "  <g transform=\"translate(65.75,48.03)\">\n",
       "    <path fill=\"none\" d=\"M-2.72,-0.18 L 2.74 -1.75 -0.02 1.93\" class=\"primitive\"/>\n",
       "  </g>\n",
       "  <g transform=\"translate(31.04,63.98)\">\n",
       "    <path fill=\"none\" d=\"M2.54,0.72 L -3.33 1.13 0.79 -1.85\" class=\"primitive\"/>\n",
       "  </g>\n",
       "  <g transform=\"translate(52.54,47.48)\">\n",
       "    <path fill=\"none\" d=\"M-2.12,1.22 L 0.22 -2.61 1.9 1.39\" class=\"primitive\"/>\n",
       "  </g>\n",
       "  <g transform=\"translate(70.64,54.22)\">\n",
       "    <path fill=\"none\" d=\"M-2.21,-1.13 L 3.62 -0.52 -1.4 1.66\" class=\"primitive\"/>\n",
       "  </g>\n",
       "  <g transform=\"translate(60.31,44.1)\">\n",
       "    <path fill=\"none\" d=\"M-2.61,0.57 L 1.57 -2.36 1.04 1.79\" class=\"primitive\"/>\n",
       "  </g>\n",
       "  <g transform=\"translate(36.75,43.88)\">\n",
       "    <path fill=\"none\" d=\"M-0.4,1.91 L -2.32 -2.03 2.73 0.12\" class=\"primitive\"/>\n",
       "  </g>\n",
       "  <g transform=\"translate(40.79,63.34)\">\n",
       "    <path fill=\"none\" d=\"M2.71,0.27 L -2.85 1.66 0.14 -1.93\" class=\"primitive\"/>\n",
       "  </g>\n",
       "  <g transform=\"translate(18.2,55.72)\">\n",
       "    <path fill=\"none\" d=\"M1.74,1.49 L -3.69 -0.14 1.95 -1.36\" class=\"primitive\"/>\n",
       "  </g>\n",
       "  <g transform=\"translate(46.44,70.17)\">\n",
       "    <path fill=\"none\" d=\"M2.44,-0.87 L -1.01 2.51 -1.43 -1.64\" class=\"primitive\"/>\n",
       "  </g>\n",
       "  <g transform=\"translate(62.2,76.92)\">\n",
       "    <path fill=\"none\" d=\"M1.25,-1.72 L 1.28 2.45 -2.53 -0.73\" class=\"primitive\"/>\n",
       "  </g>\n",
       "  <g transform=\"translate(54.25,59.73)\">\n",
       "    <path fill=\"none\" d=\"M0.7,-1.87 L 1.99 2.2 -2.69 -0.33\" class=\"primitive\"/>\n",
       "  </g>\n",
       "  <g transform=\"translate(56.02,53.57)\">\n",
       "    <path fill=\"none\" d=\"M2.73,-0.02 L -2.46 1.95 -0.27 -1.92\" class=\"primitive\"/>\n",
       "  </g>\n",
       "  <g transform=\"translate(93.37,39.45)\">\n",
       "    <path fill=\"none\" d=\"M0.95,-1.81 L 1.68 2.32 -2.64 -0.51\" class=\"primitive\"/>\n",
       "  </g>\n",
       "  <g transform=\"translate(123.59,20.13)\">\n",
       "    <path fill=\"none\" d=\"M-2.42,-0.9 L 3.47 -0.88 -1.05 1.78\" class=\"primitive\"/>\n",
       "  </g>\n",
       "  <g transform=\"translate(104.45,12)\">\n",
       "    <path fill=\"none\" d=\"M-2.72,0.21 L 2.18 -2.11 0.54 1.89\" class=\"primitive\"/>\n",
       "  </g>\n",
       "  <g transform=\"translate(115.37,13.74)\">\n",
       "    <path fill=\"none\" d=\"M-2.69,-0.33 L 2.92 -1.59 -0.23 1.93\" class=\"primitive\"/>\n",
       "  </g>\n",
       "  <g transform=\"translate(74.29,41.3)\">\n",
       "    <path fill=\"none\" d=\"M2.71,-0.22 L -2.17 2.11 -0.55 -1.89\" class=\"primitive\"/>\n",
       "  </g>\n",
       "  <g transform=\"translate(68.49,37.57)\">\n",
       "    <path fill=\"none\" d=\"M2.64,0.51 L -3.12 1.4 0.48 -1.9\" class=\"primitive\"/>\n",
       "  </g>\n",
       "  <g transform=\"translate(116.68,33.2)\">\n",
       "    <path fill=\"none\" d=\"M-2.67,-0.4 L 3 -1.52 -0.33 1.92\" class=\"primitive\"/>\n",
       "  </g>\n",
       "  <g transform=\"translate(81.05,57.24)\">\n",
       "    <path fill=\"none\" d=\"M2.72,-0.15 L -2.28 2.05 -0.45 -1.91\" class=\"primitive\"/>\n",
       "  </g>\n",
       "  <g transform=\"translate(59.35,43.02)\">\n",
       "    <path fill=\"none\" d=\"M1.81,1.45 L -3.69 -0.05 1.88 -1.4\" class=\"primitive\"/>\n",
       "  </g>\n",
       "  <g transform=\"translate(82.16,50.66)\">\n",
       "    <path fill=\"none\" d=\"M2.67,0.4 L -3 1.52 0.33 -1.92\" class=\"primitive\"/>\n",
       "  </g>\n",
       "  <g transform=\"translate(124.58,26.43)\">\n",
       "    <path fill=\"none\" d=\"M2.6,-0.6 L -1.53 2.37 -1.07 -1.78\" class=\"primitive\"/>\n",
       "  </g>\n",
       "  <g transform=\"translate(119.35,26.39)\">\n",
       "    <path fill=\"none\" d=\"M1.11,-1.77 L 1.47 2.39 -2.58 -0.63\" class=\"primitive\"/>\n",
       "  </g>\n",
       "  <g transform=\"translate(121.58,26.02)\">\n",
       "    <path fill=\"none\" d=\"M1.92,-1.38 L 0.19 2.61 -2.11 -1.23\" class=\"primitive\"/>\n",
       "  </g>\n",
       "  <g transform=\"translate(110.27,56.61)\">\n",
       "    <path fill=\"none\" d=\"M2.48,-0.81 L -1.11 2.49 -1.37 -1.67\" class=\"primitive\"/>\n",
       "  </g>\n",
       "  <g transform=\"translate(99.12,47.58)\">\n",
       "    <path fill=\"none\" d=\"M-1,1.8 L -1.62 -2.35 2.62 0.55\" class=\"primitive\"/>\n",
       "  </g>\n",
       "  <g transform=\"translate(116.37,75.89)\">\n",
       "    <path fill=\"none\" d=\"M1.23,-1.73 L 1.31 2.44 -2.54 -0.71\" class=\"primitive\"/>\n",
       "  </g>\n",
       "  <g transform=\"translate(67.02,58.03)\">\n",
       "    <path fill=\"none\" d=\"M1.64,1.55 L -3.67 -0.26 2.04 -1.29\" class=\"primitive\"/>\n",
       "  </g>\n",
       "  <g transform=\"translate(102.6,85.18)\">\n",
       "    <path fill=\"none\" d=\"M2.29,-1.05 L -0.61 2.57 -1.68 -1.52\" class=\"primitive\"/>\n",
       "  </g>\n",
       "  <g transform=\"translate(84.84,72.99)\">\n",
       "    <path fill=\"none\" d=\"M1.19,1.74 L -3.54 -0.75 2.35 -0.99\" class=\"primitive\"/>\n",
       "  </g>\n",
       "  <g transform=\"translate(70.89,59.6)\">\n",
       "    <path fill=\"none\" d=\"M-1.24,-1.72 L 3.56 0.7 -2.32 1.02\" class=\"primitive\"/>\n",
       "  </g>\n",
       "  <g transform=\"translate(74.37,68.32)\">\n",
       "    <path fill=\"none\" d=\"M0.26,-1.92 L 2.48 1.94 -2.73 -0.01\" class=\"primitive\"/>\n",
       "  </g>\n",
       "  <g transform=\"translate(31.31,48.07)\">\n",
       "    <path fill=\"none\" d=\"M0.84,1.84 L -3.36 -1.09 2.52 -0.75\" class=\"primitive\"/>\n",
       "  </g>\n",
       "  <g transform=\"translate(67.4,48.96)\">\n",
       "    <path fill=\"none\" d=\"M-2.66,0.45 L 1.79 -2.28 0.87 1.83\" class=\"primitive\"/>\n",
       "  </g>\n",
       "  <g transform=\"translate(31.34,64.5)\">\n",
       "    <path fill=\"none\" d=\"M2.39,0.94 L -3.5 0.83 1.11 -1.77\" class=\"primitive\"/>\n",
       "  </g>\n",
       "  <g transform=\"translate(70.91,54.89)\">\n",
       "    <path fill=\"none\" d=\"M-2.43,-0.88 L 3.46 -0.91 -1.03 1.79\" class=\"primitive\"/>\n",
       "  </g>\n",
       "  <g transform=\"translate(62.43,44.52)\">\n",
       "    <path fill=\"none\" d=\"M-2.19,1.16 L 0.36 -2.6 1.83 1.44\" class=\"primitive\"/>\n",
       "  </g>\n",
       "  <g transform=\"translate(37.55,43.33)\">\n",
       "    <path fill=\"none\" d=\"M0.06,1.93 L -2.78 -1.72 2.72 -0.21\" class=\"primitive\"/>\n",
       "  </g>\n",
       "  <g transform=\"translate(41.6,64.22)\">\n",
       "    <path fill=\"none\" d=\"M2.55,0.7 L -3.31 1.15 0.76 -1.86\" class=\"primitive\"/>\n",
       "  </g>\n",
       "  <g transform=\"translate(48.24,70.76)\">\n",
       "    <path fill=\"none\" d=\"M2.7,-0.3 L -2.04 2.17 -0.66 -1.88\" class=\"primitive\"/>\n",
       "  </g>\n",
       "  <g transform=\"translate(70.55,82.58)\">\n",
       "    <path fill=\"none\" d=\"M1.14,1.76 L -3.51 -0.8 2.38 -0.95\" class=\"primitive\"/>\n",
       "  </g>\n",
       "  <g transform=\"translate(64.02,62.66)\">\n",
       "    <path fill=\"none\" d=\"M2.21,1.14 L -3.62 0.51 1.41 -1.65\" class=\"primitive\"/>\n",
       "  </g>\n",
       "  <g transform=\"translate(63.35,65.74)\">\n",
       "    <path fill=\"none\" d=\"M0.65,1.88 L -3.24 -1.26 2.59 -0.62\" class=\"primitive\"/>\n",
       "  </g>\n",
       "  <g transform=\"translate(26.19,49.65)\">\n",
       "    <path fill=\"none\" d=\"M1.73,-1.5 L 0.54 2.58 -2.26 -1.08\" class=\"primitive\"/>\n",
       "  </g>\n",
       "  <g transform=\"translate(60.54,59.47)\">\n",
       "    <path fill=\"none\" d=\"M2.62,-0.55 L -1.62 2.35 -1 -1.8\" class=\"primitive\"/>\n",
       "  </g>\n",
       "  <g transform=\"translate(26.4,58.66)\">\n",
       "    <path fill=\"none\" d=\"M-2.21,1.14 L 0.41 -2.59 1.8 1.46\" class=\"primitive\"/>\n",
       "  </g>\n",
       "  <g transform=\"translate(32.6,51.76)\">\n",
       "    <path fill=\"none\" d=\"M2.63,0.53 L -3.15 1.37 0.52 -1.9\" class=\"primitive\"/>\n",
       "  </g>\n",
       "  <g transform=\"translate(56.68,59.07)\">\n",
       "    <path fill=\"none\" d=\"M1.69,-1.52 L 0.6 2.58 -2.29 -1.06\" class=\"primitive\"/>\n",
       "  </g>\n",
       "  <g transform=\"translate(62.85,60.82)\">\n",
       "    <path fill=\"none\" d=\"M2.69,0.35 L -2.95 1.57 0.26 -1.92\" class=\"primitive\"/>\n",
       "  </g>\n",
       "  <g transform=\"translate(58.74,59.07)\">\n",
       "    <path fill=\"none\" d=\"M2.28,-1.06 L -0.58 2.58 -1.7 -1.51\" class=\"primitive\"/>\n",
       "  </g>\n",
       "  <g transform=\"translate(28.89,49.77)\">\n",
       "    <path fill=\"none\" d=\"M2.45,-0.86 L -1.02 2.51 -1.43 -1.65\" class=\"primitive\"/>\n",
       "  </g>\n",
       "  <g transform=\"translate(30.04,58.19)\">\n",
       "    <path fill=\"none\" d=\"M-0.96,1.81 L -1.68 -2.33 2.63 0.52\" class=\"primitive\"/>\n",
       "  </g>\n",
       "  <g transform=\"translate(51.39,64.33)\">\n",
       "    <path fill=\"none\" d=\"M-2.16,-1.18 L 3.64 -0.44 -1.48 1.63\" class=\"primitive\"/>\n",
       "  </g>\n",
       "  <g transform=\"translate(20.74,54.7)\">\n",
       "    <path fill=\"none\" d=\"M-2.08,-1.25 L 3.66 -0.32 -1.58 1.57\" class=\"primitive\"/>\n",
       "  </g>\n",
       "  <g transform=\"translate(44.3,52.88)\">\n",
       "    <path fill=\"none\" d=\"M-2.04,-1.28 L 3.67 -0.27 -1.63 1.55\" class=\"primitive\"/>\n",
       "  </g>\n",
       "  <g transform=\"translate(51.83,61.74)\">\n",
       "    <path fill=\"none\" d=\"M-0.89,-1.83 L 3.39 1.04 -2.5 0.79\" class=\"primitive\"/>\n",
       "  </g>\n",
       "  <g transform=\"translate(53.59,67.04)\">\n",
       "    <path fill=\"none\" d=\"M-2.73,0.08 L 2.37 -2 0.36 1.92\" class=\"primitive\"/>\n",
       "  </g>\n",
       "  <g transform=\"translate(52.75,56.71)\">\n",
       "    <path fill=\"none\" d=\"M-1.32,1.69 L -1.18 -2.47 2.5 0.78\" class=\"primitive\"/>\n",
       "  </g>\n",
       "  <g transform=\"translate(49.13,89)\">\n",
       "    <path fill=\"none\" d=\"M2.68,0.39 L -2.99 1.53 0.32 -1.92\" class=\"primitive\"/>\n",
       "  </g>\n",
       "  <g transform=\"translate(59.39,67.94)\">\n",
       "    <path fill=\"none\" d=\"M-1.47,1.63 L -0.96 -2.52 2.43 0.89\" class=\"primitive\"/>\n",
       "  </g>\n",
       "  <g transform=\"translate(55.21,60.79)\">\n",
       "    <path fill=\"none\" d=\"M-0.7,1.87 L -1.99 -2.2 2.69 0.33\" class=\"primitive\"/>\n",
       "  </g>\n",
       "</g>\n",
       "<g font-size=\"4\" stroke=\"#000000\" stroke-opacity=\"0.000\" fill=\"#000000\" id=\"img-97e2c957-3\">\n",
       "</g>\n",
       "<g stroke-width=\"0\" stroke=\"#000000\" stroke-opacity=\"0.000\" fill=\"#40E0D0\" id=\"img-97e2c957-4\">\n",
       "  <g transform=\"translate(57.44,27.91)\">\n",
       "    <circle cx=\"0\" cy=\"0\" r=\"2.63\" class=\"primitive\"/>\n",
       "  </g>\n",
       "  <g transform=\"translate(50.7,52.41)\">\n",
       "    <circle cx=\"0\" cy=\"0\" r=\"2.63\" class=\"primitive\"/>\n",
       "  </g>\n",
       "  <g transform=\"translate(43.92,91.67)\">\n",
       "    <circle cx=\"0\" cy=\"0\" r=\"2.63\" class=\"primitive\"/>\n",
       "  </g>\n",
       "  <g transform=\"translate(51.74,56.96)\">\n",
       "    <circle cx=\"0\" cy=\"0\" r=\"2.63\" class=\"primitive\"/>\n",
       "  </g>\n",
       "  <g transform=\"translate(86.25,29.62)\">\n",
       "    <circle cx=\"0\" cy=\"0\" r=\"2.63\" class=\"primitive\"/>\n",
       "  </g>\n",
       "  <g transform=\"translate(96.3,43.49)\">\n",
       "    <circle cx=\"0\" cy=\"0\" r=\"2.63\" class=\"primitive\"/>\n",
       "  </g>\n",
       "  <g transform=\"translate(129.64,18.59)\">\n",
       "    <circle cx=\"0\" cy=\"0\" r=\"2.63\" class=\"primitive\"/>\n",
       "  </g>\n",
       "  <g transform=\"translate(108.24,8.33)\">\n",
       "    <circle cx=\"0\" cy=\"0\" r=\"2.63\" class=\"primitive\"/>\n",
       "  </g>\n",
       "  <g transform=\"translate(120.46,10.97)\">\n",
       "    <circle cx=\"0\" cy=\"0\" r=\"2.63\" class=\"primitive\"/>\n",
       "  </g>\n",
       "  <g transform=\"translate(121.92,30.56)\">\n",
       "    <circle cx=\"0\" cy=\"0\" r=\"2.63\" class=\"primitive\"/>\n",
       "  </g>\n",
       "  <g transform=\"translate(108.34,60.94)\">\n",
       "    <circle cx=\"0\" cy=\"0\" r=\"2.63\" class=\"primitive\"/>\n",
       "  </g>\n",
       "  <g transform=\"translate(118.65,80.14)\">\n",
       "    <circle cx=\"0\" cy=\"0\" r=\"2.63\" class=\"primitive\"/>\n",
       "  </g>\n",
       "  <g transform=\"translate(60.63,57.58)\">\n",
       "    <circle cx=\"0\" cy=\"0\" r=\"2.63\" class=\"primitive\"/>\n",
       "  </g>\n",
       "  <g transform=\"translate(101.54,89.66)\">\n",
       "    <circle cx=\"0\" cy=\"0\" r=\"2.63\" class=\"primitive\"/>\n",
       "  </g>\n",
       "  <g transform=\"translate(77.08,60.82)\">\n",
       "    <circle cx=\"0\" cy=\"0\" r=\"2.63\" class=\"primitive\"/>\n",
       "  </g>\n",
       "  <g transform=\"translate(78.68,71.69)\">\n",
       "    <circle cx=\"0\" cy=\"0\" r=\"2.63\" class=\"primitive\"/>\n",
       "  </g>\n",
       "  <g transform=\"translate(25.47,46.17)\">\n",
       "    <circle cx=\"0\" cy=\"0\" r=\"2.63\" class=\"primitive\"/>\n",
       "  </g>\n",
       "  <g transform=\"translate(70.52,44.99)\">\n",
       "    <circle cx=\"0\" cy=\"0\" r=\"2.63\" class=\"primitive\"/>\n",
       "  </g>\n",
       "  <g transform=\"translate(25.24,65.95)\">\n",
       "    <circle cx=\"0\" cy=\"0\" r=\"2.63\" class=\"primitive\"/>\n",
       "  </g>\n",
       "  <g transform=\"translate(52.93,42.94)\">\n",
       "    <circle cx=\"0\" cy=\"0\" r=\"2.63\" class=\"primitive\"/>\n",
       "  </g>\n",
       "  <g transform=\"translate(76.94,53.31)\">\n",
       "    <circle cx=\"0\" cy=\"0\" r=\"2.63\" class=\"primitive\"/>\n",
       "  </g>\n",
       "  <g transform=\"translate(63.06,39.99)\">\n",
       "    <circle cx=\"0\" cy=\"0\" r=\"2.63\" class=\"primitive\"/>\n",
       "  </g>\n",
       "  <g transform=\"translate(32.71,40.34)\">\n",
       "    <circle cx=\"0\" cy=\"0\" r=\"2.63\" class=\"primitive\"/>\n",
       "  </g>\n",
       "  <g transform=\"translate(35.83,66.23)\">\n",
       "    <circle cx=\"0\" cy=\"0\" r=\"2.63\" class=\"primitive\"/>\n",
       "  </g>\n",
       "  <g transform=\"translate(11.79,55.49)\">\n",
       "    <circle cx=\"0\" cy=\"0\" r=\"2.63\" class=\"primitive\"/>\n",
       "  </g>\n",
       "  <g transform=\"translate(27.12,54.14)\">\n",
       "    <circle cx=\"0\" cy=\"0\" r=\"2.63\" class=\"primitive\"/>\n",
       "  </g>\n",
       "  <g transform=\"translate(44.68,74.54)\">\n",
       "    <circle cx=\"0\" cy=\"0\" r=\"2.63\" class=\"primitive\"/>\n",
       "  </g>\n",
       "  <g transform=\"translate(64.43,81.18)\">\n",
       "    <circle cx=\"0\" cy=\"0\" r=\"2.63\" class=\"primitive\"/>\n",
       "  </g>\n",
       "  <g transform=\"translate(57.72,63.55)\">\n",
       "    <circle cx=\"0\" cy=\"0\" r=\"2.63\" class=\"primitive\"/>\n",
       "  </g>\n",
       "</g>\n",
       "<g font-size=\"4\" stroke=\"#000000\" stroke-opacity=\"0.000\" fill=\"#000000\" id=\"img-97e2c957-5\">\n",
       "  <g transform=\"translate(57.44,27.91)\">\n",
       "    <g class=\"primitive\">\n",
       "      <text text-anchor=\"middle\" dy=\"0.35em\">scenariouncertainty</text>\n",
       "    </g>\n",
       "  </g>\n",
       "  <g transform=\"translate(50.7,52.41)\">\n",
       "    <g class=\"primitive\">\n",
       "      <text text-anchor=\"middle\" dy=\"0.35em\">population</text>\n",
       "    </g>\n",
       "  </g>\n",
       "  <g transform=\"translate(43.92,91.67)\">\n",
       "    <g class=\"primitive\">\n",
       "      <text text-anchor=\"middle\" dy=\"0.35em\">geography</text>\n",
       "    </g>\n",
       "  </g>\n",
       "  <g transform=\"translate(51.74,56.96)\">\n",
       "    <g class=\"primitive\">\n",
       "      <text text-anchor=\"middle\" dy=\"0.35em\">socioeconomic</text>\n",
       "    </g>\n",
       "  </g>\n",
       "  <g transform=\"translate(86.25,29.62)\">\n",
       "    <g class=\"primitive\">\n",
       "      <text text-anchor=\"middle\" dy=\"0.35em\">emissions</text>\n",
       "    </g>\n",
       "  </g>\n",
       "  <g transform=\"translate(96.3,43.49)\">\n",
       "    <g class=\"primitive\">\n",
       "      <text text-anchor=\"middle\" dy=\"0.35em\">climateco2cycle</text>\n",
       "    </g>\n",
       "  </g>\n",
       "  <g transform=\"translate(129.64,18.59)\">\n",
       "    <g class=\"primitive\">\n",
       "      <text text-anchor=\"middle\" dy=\"0.35em\">climatech4cycle</text>\n",
       "    </g>\n",
       "  </g>\n",
       "  <g transform=\"translate(108.24,8.33)\">\n",
       "    <g class=\"primitive\">\n",
       "      <text text-anchor=\"middle\" dy=\"0.35em\">climaten2ocycle</text>\n",
       "    </g>\n",
       "  </g>\n",
       "  <g transform=\"translate(120.46,10.97)\">\n",
       "    <g class=\"primitive\">\n",
       "      <text text-anchor=\"middle\" dy=\"0.35em\">climatesf6cycle</text>\n",
       "    </g>\n",
       "  </g>\n",
       "  <g transform=\"translate(121.92,30.56)\">\n",
       "    <g class=\"primitive\">\n",
       "      <text text-anchor=\"middle\" dy=\"0.35em\">climateforcing</text>\n",
       "    </g>\n",
       "  </g>\n",
       "  <g transform=\"translate(108.34,60.94)\">\n",
       "    <g class=\"primitive\">\n",
       "      <text text-anchor=\"middle\" dy=\"0.35em\">climatedynamics</text>\n",
       "    </g>\n",
       "  </g>\n",
       "  <g transform=\"translate(118.65,80.14)\">\n",
       "    <g class=\"primitive\">\n",
       "      <text text-anchor=\"middle\" dy=\"0.35em\">biodiversity</text>\n",
       "    </g>\n",
       "  </g>\n",
       "  <g transform=\"translate(60.63,57.58)\">\n",
       "    <g class=\"primitive\">\n",
       "      <text text-anchor=\"middle\" dy=\"0.35em\">climateregional</text>\n",
       "    </g>\n",
       "  </g>\n",
       "  <g transform=\"translate(101.54,89.66)\">\n",
       "    <g class=\"primitive\">\n",
       "      <text text-anchor=\"middle\" dy=\"0.35em\">ocean</text>\n",
       "    </g>\n",
       "  </g>\n",
       "  <g transform=\"translate(77.08,60.82)\">\n",
       "    <g class=\"primitive\">\n",
       "      <text text-anchor=\"middle\" dy=\"0.35em\">impactagriculture</text>\n",
       "    </g>\n",
       "  </g>\n",
       "  <g transform=\"translate(78.68,71.69)\">\n",
       "    <g class=\"primitive\">\n",
       "      <text text-anchor=\"middle\" dy=\"0.35em\">impactbiodiversity</text>\n",
       "    </g>\n",
       "  </g>\n",
       "  <g transform=\"translate(25.47,46.17)\">\n",
       "    <g class=\"primitive\">\n",
       "      <text text-anchor=\"middle\" dy=\"0.35em\">impactcardiovascularrespiratory</text>\n",
       "    </g>\n",
       "  </g>\n",
       "  <g transform=\"translate(70.52,44.99)\">\n",
       "    <g class=\"primitive\">\n",
       "      <text text-anchor=\"middle\" dy=\"0.35em\">impactcooling</text>\n",
       "    </g>\n",
       "  </g>\n",
       "  <g transform=\"translate(25.24,65.95)\">\n",
       "    <g class=\"primitive\">\n",
       "      <text text-anchor=\"middle\" dy=\"0.35em\">impactdiarrhoea</text>\n",
       "    </g>\n",
       "  </g>\n",
       "  <g transform=\"translate(52.93,42.94)\">\n",
       "    <g class=\"primitive\">\n",
       "      <text text-anchor=\"middle\" dy=\"0.35em\">impactextratropicalstorms</text>\n",
       "    </g>\n",
       "  </g>\n",
       "  <g transform=\"translate(76.94,53.31)\">\n",
       "    <g class=\"primitive\">\n",
       "      <text text-anchor=\"middle\" dy=\"0.35em\">impactforests</text>\n",
       "    </g>\n",
       "  </g>\n",
       "  <g transform=\"translate(63.06,39.99)\">\n",
       "    <g class=\"primitive\">\n",
       "      <text text-anchor=\"middle\" dy=\"0.35em\">impactheating</text>\n",
       "    </g>\n",
       "  </g>\n",
       "  <g transform=\"translate(32.71,40.34)\">\n",
       "    <g class=\"primitive\">\n",
       "      <text text-anchor=\"middle\" dy=\"0.35em\">impactvectorbornediseases</text>\n",
       "    </g>\n",
       "  </g>\n",
       "  <g transform=\"translate(35.83,66.23)\">\n",
       "    <g class=\"primitive\">\n",
       "      <text text-anchor=\"middle\" dy=\"0.35em\">impacttropicalstorms</text>\n",
       "    </g>\n",
       "  </g>\n",
       "  <g transform=\"translate(11.79,55.49)\">\n",
       "    <g class=\"primitive\">\n",
       "      <text text-anchor=\"middle\" dy=\"0.35em\">vslvmorb</text>\n",
       "    </g>\n",
       "  </g>\n",
       "  <g transform=\"translate(27.12,54.14)\">\n",
       "    <g class=\"primitive\">\n",
       "      <text text-anchor=\"middle\" dy=\"0.35em\">impactdeathmorbidity</text>\n",
       "    </g>\n",
       "  </g>\n",
       "  <g transform=\"translate(44.68,74.54)\">\n",
       "    <g class=\"primitive\">\n",
       "      <text text-anchor=\"middle\" dy=\"0.35em\">impactwaterresources</text>\n",
       "    </g>\n",
       "  </g>\n",
       "  <g transform=\"translate(64.43,81.18)\">\n",
       "    <g class=\"primitive\">\n",
       "      <text text-anchor=\"middle\" dy=\"0.35em\">impactsealevelrise</text>\n",
       "    </g>\n",
       "  </g>\n",
       "  <g transform=\"translate(57.72,63.55)\">\n",
       "    <g class=\"primitive\">\n",
       "      <text text-anchor=\"middle\" dy=\"0.35em\">impactaggregation</text>\n",
       "    </g>\n",
       "  </g>\n",
       "</g>\n",
       "</svg>\n"
      ],
      "text/html": [
       "<?xml version=\"1.0\" encoding=\"UTF-8\"?>\n",
       "<svg xmlns=\"http://www.w3.org/2000/svg\"\n",
       "     xmlns:xlink=\"http://www.w3.org/1999/xlink\"\n",
       "     version=\"1.2\"\n",
       "     width=\"141.42mm\" height=\"100mm\" viewBox=\"0 0 141.42 100\"\n",
       "     stroke=\"none\"\n",
       "     fill=\"#000000\"\n",
       "     stroke-width=\"0.3\"\n",
       "     font-size=\"3.88\"\n",
       "\n",
       "     id=\"img-2473fc86\">\n",
       "<defs>\n",
       "  <marker id=\"arrow\" markerWidth=\"15\" markerHeight=\"7\" refX=\"5\" refY=\"3.5\" orient=\"auto\" markerUnits=\"strokeWidth\">\n",
       "    <path d=\"M0,0 L15,3.5 L0,7 z\" stroke=\"context-stroke\" fill=\"context-stroke\"/>\n",
       "  </marker>\n",
       "</defs>\n",
       "<g stroke-width=\"0.56\" fill=\"#000000\" fill-opacity=\"0.000\" stroke=\"#D3D3D3\" id=\"img-2473fc86-1\">\n",
       "  <g transform=\"translate(54.07,40.16)\">\n",
       "    <path fill=\"none\" d=\"M2.85,-10.35 L -2.85 10.35\" class=\"primitive\"/>\n",
       "  </g>\n",
       "  <g transform=\"translate(54.59,42.43)\">\n",
       "    <path fill=\"none\" d=\"M2.47,-12.61 L -2.47 12.61\" class=\"primitive\"/>\n",
       "  </g>\n",
       "  <g transform=\"translate(71.84,28.76)\">\n",
       "    <path fill=\"none\" d=\"M-11.68,-0.7 L 11.68 0.7\" class=\"primitive\"/>\n",
       "  </g>\n",
       "  <g transform=\"translate(51.22,54.68)\">\n",
       "    <path fill=\"none\" d=\"M-0.08,-0.37 L 0.08 0.37\" class=\"primitive\"/>\n",
       "  </g>\n",
       "  <g transform=\"translate(68.47,41.01)\">\n",
       "    <path fill=\"none\" d=\"M-15.75,10.09 L 15.75 -10.09\" class=\"primitive\"/>\n",
       "  </g>\n",
       "  <g transform=\"translate(63.89,56.61)\">\n",
       "    <path fill=\"none\" d=\"M-10.7,-3.41 L 10.7 3.41\" class=\"primitive\"/>\n",
       "  </g>\n",
       "  <g transform=\"translate(64.69,62.05)\">\n",
       "    <path fill=\"none\" d=\"M-12.03,-8.29 L 12.03 8.29\" class=\"primitive\"/>\n",
       "  </g>\n",
       "  <g transform=\"translate(38.08,49.29)\">\n",
       "    <path fill=\"none\" d=\"M10.03,2.48 L -10.03 -2.48\" class=\"primitive\"/>\n",
       "  </g>\n",
       "  <g transform=\"translate(60.61,48.7)\">\n",
       "    <path fill=\"none\" d=\"M-7.49,2.81 L 7.49 -2.81\" class=\"primitive\"/>\n",
       "  </g>\n",
       "  <g transform=\"translate(37.97,59.18)\">\n",
       "    <path fill=\"none\" d=\"M10.54,-5.61 L -10.54 5.61\" class=\"primitive\"/>\n",
       "  </g>\n",
       "  <g transform=\"translate(51.81,47.67)\">\n",
       "    <path fill=\"none\" d=\"M-0.66,2.82 L 0.66 -2.82\" class=\"primitive\"/>\n",
       "  </g>\n",
       "  <g transform=\"translate(63.82,52.86)\">\n",
       "    <path fill=\"none\" d=\"M-10.39,-0.36 L 10.39 0.36\" class=\"primitive\"/>\n",
       "  </g>\n",
       "  <g transform=\"translate(56.88,46.2)\">\n",
       "    <path fill=\"none\" d=\"M-4.6,4.62 L 4.6 -4.62\" class=\"primitive\"/>\n",
       "  </g>\n",
       "  <g transform=\"translate(41.7,46.37)\">\n",
       "    <path fill=\"none\" d=\"M7.01,4.7 L -7.01 -4.7\" class=\"primitive\"/>\n",
       "  </g>\n",
       "  <g transform=\"translate(43.27,59.32)\">\n",
       "    <path fill=\"none\" d=\"M5.78,-5.37 L -5.78 5.37\" class=\"primitive\"/>\n",
       "  </g>\n",
       "  <g transform=\"translate(31.24,53.95)\">\n",
       "    <path fill=\"none\" d=\"M16.74,-1.33 L -16.74 1.33\" class=\"primitive\"/>\n",
       "  </g>\n",
       "  <g transform=\"translate(38.91,53.27)\">\n",
       "    <path fill=\"none\" d=\"M9.07,-0.67 L -9.07 0.67\" class=\"primitive\"/>\n",
       "  </g>\n",
       "  <g transform=\"translate(47.69,63.47)\">\n",
       "    <path fill=\"none\" d=\"M2.49,-9.17 L -2.49 9.17\" class=\"primitive\"/>\n",
       "  </g>\n",
       "  <g transform=\"translate(57.56,66.79)\">\n",
       "    <path fill=\"none\" d=\"M-5.99,-12.55 L 5.99 12.55\" class=\"primitive\"/>\n",
       "  </g>\n",
       "  <g transform=\"translate(47.83,74.31)\">\n",
       "    <path fill=\"none\" d=\"M-3.48,15.44 L 3.48 -15.44\" class=\"primitive\"/>\n",
       "  </g>\n",
       "  <g transform=\"translate(54.17,86.42)\">\n",
       "    <path fill=\"none\" d=\"M-8.04,4.11 L 8.04 -4.11\" class=\"primitive\"/>\n",
       "  </g>\n",
       "  <g transform=\"translate(68.99,43.29)\">\n",
       "    <path fill=\"none\" d=\"M-15.44,12.23 L 15.44 -12.23\" class=\"primitive\"/>\n",
       "  </g>\n",
       "  <g transform=\"translate(64.41,58.89)\">\n",
       "    <path fill=\"none\" d=\"M-10,-1.52 L 10 1.52\" class=\"primitive\"/>\n",
       "  </g>\n",
       "  <g transform=\"translate(65.21,64.33)\">\n",
       "    <path fill=\"none\" d=\"M-11.31,-6.18 L 11.31 6.18\" class=\"primitive\"/>\n",
       "  </g>\n",
       "  <g transform=\"translate(38.6,51.57)\">\n",
       "    <path fill=\"none\" d=\"M10.77,4.42 L -10.77 -4.42\" class=\"primitive\"/>\n",
       "  </g>\n",
       "  <g transform=\"translate(61.13,50.97)\">\n",
       "    <path fill=\"none\" d=\"M-7.36,4.69 L 7.36 -4.69\" class=\"primitive\"/>\n",
       "  </g>\n",
       "  <g transform=\"translate(38.49,61.45)\">\n",
       "    <path fill=\"none\" d=\"M10.78,-3.66 L -10.78 3.66\" class=\"primitive\"/>\n",
       "  </g>\n",
       "  <g transform=\"translate(52.33,49.95)\">\n",
       "    <path fill=\"none\" d=\"M-0.43,5.08 L 0.43 -5.08\" class=\"primitive\"/>\n",
       "  </g>\n",
       "  <g transform=\"translate(64.34,55.13)\">\n",
       "    <path fill=\"none\" d=\"M-9.92,1.44 L 9.92 -1.44\" class=\"primitive\"/>\n",
       "  </g>\n",
       "  <g transform=\"translate(57.4,48.48)\">\n",
       "    <path fill=\"none\" d=\"M-4.49,6.73 L 4.49 -6.73\" class=\"primitive\"/>\n",
       "  </g>\n",
       "  <g transform=\"translate(42.22,48.65)\">\n",
       "    <path fill=\"none\" d=\"M7.79,6.81 L -7.79 -6.81\" class=\"primitive\"/>\n",
       "  </g>\n",
       "  <g transform=\"translate(43.79,61.59)\">\n",
       "    <path fill=\"none\" d=\"M5.84,-3.4 L -5.84 3.4\" class=\"primitive\"/>\n",
       "  </g>\n",
       "  <g transform=\"translate(31.76,56.22)\">\n",
       "    <path fill=\"none\" d=\"M17.24,0.64 L -17.24 -0.64\" class=\"primitive\"/>\n",
       "  </g>\n",
       "  <g transform=\"translate(48.21,65.75)\">\n",
       "    <path fill=\"none\" d=\"M2.78,-6.93 L -2.78 6.93\" class=\"primitive\"/>\n",
       "  </g>\n",
       "  <g transform=\"translate(58.08,69.07)\">\n",
       "    <path fill=\"none\" d=\"M-5.4,-10.3 L 5.4 10.3\" class=\"primitive\"/>\n",
       "  </g>\n",
       "  <g transform=\"translate(54.73,60.26)\">\n",
       "    <path fill=\"none\" d=\"M-1.51,-1.67 L 1.51 1.67\" class=\"primitive\"/>\n",
       "  </g>\n",
       "  <g transform=\"translate(68.99,43.29)\">\n",
       "    <path fill=\"none\" d=\"M15.44,-12.23 L -15.44 12.23\" class=\"primitive\"/>\n",
       "  </g>\n",
       "  <g transform=\"translate(91.28,36.56)\">\n",
       "    <path fill=\"none\" d=\"M-3.78,-5.21 L 3.78 5.21\" class=\"primitive\"/>\n",
       "  </g>\n",
       "  <g transform=\"translate(107.94,24.11)\">\n",
       "    <path fill=\"none\" d=\"M-19.12,4.86 L 19.12 -4.86\" class=\"primitive\"/>\n",
       "  </g>\n",
       "  <g transform=\"translate(97.25,18.98)\">\n",
       "    <path fill=\"none\" d=\"M-9.38,9.08 L 9.38 -9.08\" class=\"primitive\"/>\n",
       "  </g>\n",
       "  <g transform=\"translate(103.36,20.3)\">\n",
       "    <path fill=\"none\" d=\"M-14.94,8.15 L 14.94 -8.15\" class=\"primitive\"/>\n",
       "  </g>\n",
       "  <g transform=\"translate(78.39,37.3)\">\n",
       "    <path fill=\"none\" d=\"M6.26,-6.11 L -6.26 6.11\" class=\"primitive\"/>\n",
       "  </g>\n",
       "  <g transform=\"translate(74.65,34.81)\">\n",
       "    <path fill=\"none\" d=\"M9.29,-4.15 L -9.29 4.15\" class=\"primitive\"/>\n",
       "  </g>\n",
       "  <g transform=\"translate(109.11,37.03)\">\n",
       "    <path fill=\"none\" d=\"M-10.58,5.34 L 10.58 -5.34\" class=\"primitive\"/>\n",
       "  </g>\n",
       "  <g transform=\"translate(86.69,52.15)\">\n",
       "    <path fill=\"none\" d=\"M7.92,-7.14 L -7.92 7.14\" class=\"primitive\"/>\n",
       "  </g>\n",
       "  <g transform=\"translate(74.61,43.22)\">\n",
       "    <path fill=\"none\" d=\"M18.95,0.24 L -18.95 -0.24\" class=\"primitive\"/>\n",
       "  </g>\n",
       "  <g transform=\"translate(86.62,48.4)\">\n",
       "    <path fill=\"none\" d=\"M7.46,-3.78 L -7.46 3.78\" class=\"primitive\"/>\n",
       "  </g>\n",
       "  <g transform=\"translate(125.78,24.58)\">\n",
       "    <path fill=\"none\" d=\"M2.73,-4.22 L -2.73 4.22\" class=\"primitive\"/>\n",
       "  </g>\n",
       "  <g transform=\"translate(115.08,19.45)\">\n",
       "    <path fill=\"none\" d=\"M-5.74,-9.34 L 5.74 9.34\" class=\"primitive\"/>\n",
       "  </g>\n",
       "  <g transform=\"translate(121.19,20.76)\">\n",
       "    <path fill=\"none\" d=\"M-0.58,-7.86 L 0.58 7.86\" class=\"primitive\"/>\n",
       "  </g>\n",
       "  <g transform=\"translate(115.13,45.75)\">\n",
       "    <path fill=\"none\" d=\"M5.97,-13.35 L -5.97 13.35\" class=\"primitive\"/>\n",
       "  </g>\n",
       "  <g transform=\"translate(102.32,52.22)\">\n",
       "    <path fill=\"none\" d=\"M4.82,6.99 L -4.82 -6.99\" class=\"primitive\"/>\n",
       "  </g>\n",
       "  <g transform=\"translate(113.49,70.54)\">\n",
       "    <path fill=\"none\" d=\"M-4.19,-7.79 L 4.19 7.79\" class=\"primitive\"/>\n",
       "  </g>\n",
       "  <g transform=\"translate(84.48,59.26)\">\n",
       "    <path fill=\"none\" d=\"M21.13,1.49 L -21.13 -1.49\" class=\"primitive\"/>\n",
       "  </g>\n",
       "  <g transform=\"translate(104.94,75.3)\">\n",
       "    <path fill=\"none\" d=\"M2.95,-12.45 L -2.95 12.45\" class=\"primitive\"/>\n",
       "  </g>\n",
       "  <g transform=\"translate(98.67,75.91)\">\n",
       "    <path fill=\"none\" d=\"M17.36,3.67 L -17.36 -3.67\" class=\"primitive\"/>\n",
       "  </g>\n",
       "  <g transform=\"translate(68.85,59.2)\">\n",
       "    <path fill=\"none\" d=\"M-5.59,-1.1 L 5.59 1.1\" class=\"primitive\"/>\n",
       "  </g>\n",
       "  <g transform=\"translate(69.65,64.64)\">\n",
       "    <path fill=\"none\" d=\"M-7.19,-5.62 L 7.19 5.62\" class=\"primitive\"/>\n",
       "  </g>\n",
       "  <g transform=\"translate(43.05,51.88)\">\n",
       "    <path fill=\"none\" d=\"M15.09,4.9 L -15.09 -4.9\" class=\"primitive\"/>\n",
       "  </g>\n",
       "  <g transform=\"translate(65.57,51.28)\">\n",
       "    <path fill=\"none\" d=\"M-3.62,4.61 L 3.62 -4.61\" class=\"primitive\"/>\n",
       "  </g>\n",
       "  <g transform=\"translate(42.93,61.76)\">\n",
       "    <path fill=\"none\" d=\"M15.1,-3.57 L -15.1 3.57\" class=\"primitive\"/>\n",
       "  </g>\n",
       "  <g transform=\"translate(68.78,55.44)\">\n",
       "    <path fill=\"none\" d=\"M-5.59,1.46 L 5.59 -1.46\" class=\"primitive\"/>\n",
       "  </g>\n",
       "  <g transform=\"translate(61.84,48.79)\">\n",
       "    <path fill=\"none\" d=\"M-0.95,6.87 L 0.95 -6.87\" class=\"primitive\"/>\n",
       "  </g>\n",
       "  <g transform=\"translate(46.67,48.96)\">\n",
       "    <path fill=\"none\" d=\"M11.9,7.35 L -11.9 -7.35\" class=\"primitive\"/>\n",
       "  </g>\n",
       "  <g transform=\"translate(48.23,61.9)\">\n",
       "    <path fill=\"none\" d=\"M9.94,-3.47 L -9.94 3.47\" class=\"primitive\"/>\n",
       "  </g>\n",
       "  <g transform=\"translate(52.65,66.06)\">\n",
       "    <path fill=\"none\" d=\"M6.46,-6.87 L -6.46 6.87\" class=\"primitive\"/>\n",
       "  </g>\n",
       "  <g transform=\"translate(82.98,85.42)\">\n",
       "    <path fill=\"none\" d=\"M15.95,3.64 L -15.95 -3.64\" class=\"primitive\"/>\n",
       "  </g>\n",
       "  <g transform=\"translate(67.4,62.19)\">\n",
       "    <path fill=\"none\" d=\"M7,-0.99 L -7 0.99\" class=\"primitive\"/>\n",
       "  </g>\n",
       "  <g transform=\"translate(68.2,67.62)\">\n",
       "    <path fill=\"none\" d=\"M8.08,3.14 L -8.08 -3.14\" class=\"primitive\"/>\n",
       "  </g>\n",
       "  <g transform=\"translate(26.29,50.16)\">\n",
       "    <path fill=\"none\" d=\"M-0.43,-2.07 L 0.43 2.07\" class=\"primitive\"/>\n",
       "  </g>\n",
       "  <g transform=\"translate(64.12,54.27)\">\n",
       "    <path fill=\"none\" d=\"M5.2,-7.55 L -5.2 7.55\" class=\"primitive\"/>\n",
       "  </g>\n",
       "  <g transform=\"translate(26.18,60.04)\">\n",
       "    <path fill=\"none\" d=\"M-0.63,3.98 L 0.63 -3.98\" class=\"primitive\"/>\n",
       "  </g>\n",
       "  <g transform=\"translate(40.02,48.54)\">\n",
       "    <path fill=\"none\" d=\"M10.57,-4.59 L -10.57 4.59\" class=\"primitive\"/>\n",
       "  </g>\n",
       "  <g transform=\"translate(55.32,53.25)\">\n",
       "    <path fill=\"none\" d=\"M-1.95,-8.4 L 1.95 8.4\" class=\"primitive\"/>\n",
       "  </g>\n",
       "  <g transform=\"translate(67.33,58.43)\">\n",
       "    <path fill=\"none\" d=\"M7.43,-3.96 L -7.43 3.96\" class=\"primitive\"/>\n",
       "  </g>\n",
       "  <g transform=\"translate(60.39,51.77)\">\n",
       "    <path fill=\"none\" d=\"M2.24,-9.87 L -2.24 9.87\" class=\"primitive\"/>\n",
       "  </g>\n",
       "  <g transform=\"translate(29.91,47.24)\">\n",
       "    <path fill=\"none\" d=\"M2.04,-5.04 L -2.04 5.04\" class=\"primitive\"/>\n",
       "  </g>\n",
       "  <g transform=\"translate(31.48,60.18)\">\n",
       "    <path fill=\"none\" d=\"M3.11,4.32 L -3.11 -4.32\" class=\"primitive\"/>\n",
       "  </g>\n",
       "  <g transform=\"translate(46.78,64.89)\">\n",
       "    <path fill=\"none\" d=\"M-8.25,1.01 L 8.25 -1.01\" class=\"primitive\"/>\n",
       "  </g>\n",
       "  <g transform=\"translate(19.45,54.81)\">\n",
       "    <path fill=\"none\" d=\"M-4.95,0.43 L 4.95 -0.43\" class=\"primitive\"/>\n",
       "  </g>\n",
       "  <g transform=\"translate(38.91,53.27)\">\n",
       "    <path fill=\"none\" d=\"M-9.07,0.67 L 9.07 -0.67\" class=\"primitive\"/>\n",
       "  </g>\n",
       "  <g transform=\"translate(42.42,58.85)\">\n",
       "    <path fill=\"none\" d=\"M-12.79,-3.93 L 12.79 3.93\" class=\"primitive\"/>\n",
       "  </g>\n",
       "  <g transform=\"translate(51.2,69.05)\">\n",
       "    <path fill=\"none\" d=\"M-4.76,4.01 L 4.76 -4.01\" class=\"primitive\"/>\n",
       "  </g>\n",
       "  <g transform=\"translate(57.56,66.79)\">\n",
       "    <path fill=\"none\" d=\"M5.99,12.55 L -5.99 -12.55\" class=\"primitive\"/>\n",
       "  </g>\n",
       "  <g transform=\"translate(54.17,86.42)\">\n",
       "    <path fill=\"none\" d=\"M8.04,-4.11 L -8.04 4.11\" class=\"primitive\"/>\n",
       "  </g>\n",
       "  <g transform=\"translate(61.08,72.37)\">\n",
       "    <path fill=\"none\" d=\"M2.64,6.95 L -2.64 -6.95\" class=\"primitive\"/>\n",
       "  </g>\n",
       "  <g transform=\"translate(54.73,60.26)\">\n",
       "    <path fill=\"none\" d=\"M1.51,1.67 L -1.51 -1.67\" class=\"primitive\"/>\n",
       "  </g>\n",
       "</g>\n",
       "<g stroke-width=\"0.56\" stroke=\"#D3D3D3\" id=\"img-2473fc86-2\">\n",
       "  <g transform=\"translate(51.92,47.94)\">\n",
       "    <path fill=\"none\" d=\"M2.33,-1.01 L -0.7 2.56 -1.63 -1.55\" class=\"primitive\"/>\n",
       "  </g>\n",
       "  <g transform=\"translate(52.62,52.46)\">\n",
       "    <path fill=\"none\" d=\"M2.25,-1.1 L -0.51 2.59 -1.74 -1.49\" class=\"primitive\"/>\n",
       "  </g>\n",
       "  <g transform=\"translate(79.85,29.24)\">\n",
       "    <path fill=\"none\" d=\"M-1.67,-1.53 L 3.68 0.22 -2.01 1.31\" class=\"primitive\"/>\n",
       "  </g>\n",
       "  <g transform=\"translate(50.71,52.47)\">\n",
       "    <path fill=\"none\" d=\"M1.7,-1.52 L 0.59 2.58 -2.28 -1.06\" class=\"primitive\"/>\n",
       "  </g>\n",
       "  <g transform=\"translate(81.49,32.67)\">\n",
       "    <path fill=\"none\" d=\"M-2.72,-0.18 L 2.74 -1.75 -0.01 1.93\" class=\"primitive\"/>\n",
       "  </g>\n",
       "  <g transform=\"translate(71.22,58.95)\">\n",
       "    <path fill=\"none\" d=\"M-0.85,-1.84 L 3.37 1.07 -2.51 0.76\" class=\"primitive\"/>\n",
       "  </g>\n",
       "  <g transform=\"translate(74.08,68.52)\">\n",
       "    <path fill=\"none\" d=\"M0.08,-1.93 L 2.64 1.82 -2.73 0.11\" class=\"primitive\"/>\n",
       "  </g>\n",
       "  <g transform=\"translate(31.53,47.67)\">\n",
       "    <path fill=\"none\" d=\"M1.08,1.78 L -3.48 -0.86 2.41 -0.91\" class=\"primitive\"/>\n",
       "  </g>\n",
       "  <g transform=\"translate(64.84,47.11)\">\n",
       "    <path fill=\"none\" d=\"M-2.57,-0.65 L 3.26 -1.22 -0.69 1.87\" class=\"primitive\"/>\n",
       "  </g>\n",
       "  <g transform=\"translate(30.38,63.21)\">\n",
       "    <path fill=\"none\" d=\"M2.69,0.35 L -2.95 1.57 0.26 -1.92\" class=\"primitive\"/>\n",
       "  </g>\n",
       "  <g transform=\"translate(51.87,47.42)\">\n",
       "    <path fill=\"none\" d=\"M-2.29,1.05 L 0.61 -2.57 1.68 1.52\" class=\"primitive\"/>\n",
       "  </g>\n",
       "  <g transform=\"translate(70.52,53.09)\">\n",
       "    <path fill=\"none\" d=\"M-1.75,-1.49 L 3.69 0.13 -1.94 1.36\" class=\"primitive\"/>\n",
       "  </g>\n",
       "  <g transform=\"translate(59.36,43.71)\">\n",
       "    <path fill=\"none\" d=\"M-2.71,0.25 L 2.13 -2.13 0.59 1.89\" class=\"primitive\"/>\n",
       "  </g>\n",
       "  <g transform=\"translate(37.37,43.47)\">\n",
       "    <path fill=\"none\" d=\"M-0.05,1.93 L -2.68 -1.8 2.73 -0.14\" class=\"primitive\"/>\n",
       "  </g>\n",
       "  <g transform=\"translate(39.72,62.61)\">\n",
       "    <path fill=\"none\" d=\"M2.72,-0.18 L -2.23 2.08 -0.49 -1.9\" class=\"primitive\"/>\n",
       "  </g>\n",
       "  <g transform=\"translate(18.17,54.98)\">\n",
       "    <path fill=\"none\" d=\"M2.06,1.27 L -3.67 0.29 1.61 -1.56\" class=\"primitive\"/>\n",
       "  </g>\n",
       "  <g transform=\"translate(33.51,53.67)\">\n",
       "    <path fill=\"none\" d=\"M2.04,1.28 L -3.67 0.27 1.63 -1.55\" class=\"primitive\"/>\n",
       "  </g>\n",
       "  <g transform=\"translate(45.89,70.08)\">\n",
       "    <path fill=\"none\" d=\"M2.33,-1.01 L -0.7 2.56 -1.63 -1.55\" class=\"primitive\"/>\n",
       "  </g>\n",
       "  <g transform=\"translate(62.38,76.87)\">\n",
       "    <path fill=\"none\" d=\"M1.32,-1.69 L 1.18 2.47 -2.5 -0.78\" class=\"primitive\"/>\n",
       "  </g>\n",
       "  <g transform=\"translate(50.73,61.45)\">\n",
       "    <path fill=\"none\" d=\"M-2.28,1.06 L 0.58 -2.58 1.7 1.51\" class=\"primitive\"/>\n",
       "  </g>\n",
       "  <g transform=\"translate(59.22,83.84)\">\n",
       "    <path fill=\"none\" d=\"M-2.68,-0.39 L 2.99 -1.53 -0.32 1.92\" class=\"primitive\"/>\n",
       "  </g>\n",
       "  <g transform=\"translate(81.97,33.01)\">\n",
       "    <path fill=\"none\" d=\"M-2.73,0.02 L 2.46 -1.95 0.27 1.92\" class=\"primitive\"/>\n",
       "  </g>\n",
       "  <g transform=\"translate(70.8,59.86)\">\n",
       "    <path fill=\"none\" d=\"M-1.38,-1.67 L 3.61 0.55 -2.23 1.12\" class=\"primitive\"/>\n",
       "  </g>\n",
       "  <g transform=\"translate(73.6,68.91)\">\n",
       "    <path fill=\"none\" d=\"M-0.23,-1.93 L 2.92 1.6 -2.69 0.33\" class=\"primitive\"/>\n",
       "  </g>\n",
       "  <g transform=\"translate(31.02,48.45)\">\n",
       "    <path fill=\"none\" d=\"M0.58,1.89 L -3.19 -1.31 2.61 -0.58\" class=\"primitive\"/>\n",
       "  </g>\n",
       "  <g transform=\"translate(65.75,48.03)\">\n",
       "    <path fill=\"none\" d=\"M-2.72,-0.18 L 2.74 -1.75 -0.02 1.93\" class=\"primitive\"/>\n",
       "  </g>\n",
       "  <g transform=\"translate(31.04,63.98)\">\n",
       "    <path fill=\"none\" d=\"M2.54,0.72 L -3.33 1.13 0.79 -1.85\" class=\"primitive\"/>\n",
       "  </g>\n",
       "  <g transform=\"translate(52.54,47.48)\">\n",
       "    <path fill=\"none\" d=\"M-2.12,1.22 L 0.22 -2.61 1.9 1.39\" class=\"primitive\"/>\n",
       "  </g>\n",
       "  <g transform=\"translate(70.64,54.22)\">\n",
       "    <path fill=\"none\" d=\"M-2.21,-1.13 L 3.62 -0.52 -1.4 1.66\" class=\"primitive\"/>\n",
       "  </g>\n",
       "  <g transform=\"translate(60.31,44.1)\">\n",
       "    <path fill=\"none\" d=\"M-2.61,0.57 L 1.57 -2.36 1.04 1.79\" class=\"primitive\"/>\n",
       "  </g>\n",
       "  <g transform=\"translate(36.75,43.88)\">\n",
       "    <path fill=\"none\" d=\"M-0.4,1.91 L -2.32 -2.03 2.73 0.12\" class=\"primitive\"/>\n",
       "  </g>\n",
       "  <g transform=\"translate(40.79,63.34)\">\n",
       "    <path fill=\"none\" d=\"M2.71,0.27 L -2.85 1.66 0.14 -1.93\" class=\"primitive\"/>\n",
       "  </g>\n",
       "  <g transform=\"translate(18.2,55.72)\">\n",
       "    <path fill=\"none\" d=\"M1.74,1.49 L -3.69 -0.14 1.95 -1.36\" class=\"primitive\"/>\n",
       "  </g>\n",
       "  <g transform=\"translate(46.44,70.17)\">\n",
       "    <path fill=\"none\" d=\"M2.44,-0.87 L -1.01 2.51 -1.43 -1.64\" class=\"primitive\"/>\n",
       "  </g>\n",
       "  <g transform=\"translate(62.2,76.92)\">\n",
       "    <path fill=\"none\" d=\"M1.25,-1.72 L 1.28 2.45 -2.53 -0.73\" class=\"primitive\"/>\n",
       "  </g>\n",
       "  <g transform=\"translate(54.25,59.73)\">\n",
       "    <path fill=\"none\" d=\"M0.7,-1.87 L 1.99 2.2 -2.69 -0.33\" class=\"primitive\"/>\n",
       "  </g>\n",
       "  <g transform=\"translate(56.02,53.57)\">\n",
       "    <path fill=\"none\" d=\"M2.73,-0.02 L -2.46 1.95 -0.27 -1.92\" class=\"primitive\"/>\n",
       "  </g>\n",
       "  <g transform=\"translate(93.37,39.45)\">\n",
       "    <path fill=\"none\" d=\"M0.95,-1.81 L 1.68 2.32 -2.64 -0.51\" class=\"primitive\"/>\n",
       "  </g>\n",
       "  <g transform=\"translate(123.59,20.13)\">\n",
       "    <path fill=\"none\" d=\"M-2.42,-0.9 L 3.47 -0.88 -1.05 1.78\" class=\"primitive\"/>\n",
       "  </g>\n",
       "  <g transform=\"translate(104.45,12)\">\n",
       "    <path fill=\"none\" d=\"M-2.72,0.21 L 2.18 -2.11 0.54 1.89\" class=\"primitive\"/>\n",
       "  </g>\n",
       "  <g transform=\"translate(115.37,13.74)\">\n",
       "    <path fill=\"none\" d=\"M-2.69,-0.33 L 2.92 -1.59 -0.23 1.93\" class=\"primitive\"/>\n",
       "  </g>\n",
       "  <g transform=\"translate(74.29,41.3)\">\n",
       "    <path fill=\"none\" d=\"M2.71,-0.22 L -2.17 2.11 -0.55 -1.89\" class=\"primitive\"/>\n",
       "  </g>\n",
       "  <g transform=\"translate(68.49,37.57)\">\n",
       "    <path fill=\"none\" d=\"M2.64,0.51 L -3.12 1.4 0.48 -1.9\" class=\"primitive\"/>\n",
       "  </g>\n",
       "  <g transform=\"translate(116.68,33.2)\">\n",
       "    <path fill=\"none\" d=\"M-2.67,-0.4 L 3 -1.52 -0.33 1.92\" class=\"primitive\"/>\n",
       "  </g>\n",
       "  <g transform=\"translate(81.05,57.24)\">\n",
       "    <path fill=\"none\" d=\"M2.72,-0.15 L -2.28 2.05 -0.45 -1.91\" class=\"primitive\"/>\n",
       "  </g>\n",
       "  <g transform=\"translate(59.35,43.02)\">\n",
       "    <path fill=\"none\" d=\"M1.81,1.45 L -3.69 -0.05 1.88 -1.4\" class=\"primitive\"/>\n",
       "  </g>\n",
       "  <g transform=\"translate(82.16,50.66)\">\n",
       "    <path fill=\"none\" d=\"M2.67,0.4 L -3 1.52 0.33 -1.92\" class=\"primitive\"/>\n",
       "  </g>\n",
       "  <g transform=\"translate(124.58,26.43)\">\n",
       "    <path fill=\"none\" d=\"M2.6,-0.6 L -1.53 2.37 -1.07 -1.78\" class=\"primitive\"/>\n",
       "  </g>\n",
       "  <g transform=\"translate(119.35,26.39)\">\n",
       "    <path fill=\"none\" d=\"M1.11,-1.77 L 1.47 2.39 -2.58 -0.63\" class=\"primitive\"/>\n",
       "  </g>\n",
       "  <g transform=\"translate(121.58,26.02)\">\n",
       "    <path fill=\"none\" d=\"M1.92,-1.38 L 0.19 2.61 -2.11 -1.23\" class=\"primitive\"/>\n",
       "  </g>\n",
       "  <g transform=\"translate(110.27,56.61)\">\n",
       "    <path fill=\"none\" d=\"M2.48,-0.81 L -1.11 2.49 -1.37 -1.67\" class=\"primitive\"/>\n",
       "  </g>\n",
       "  <g transform=\"translate(99.12,47.58)\">\n",
       "    <path fill=\"none\" d=\"M-1,1.8 L -1.62 -2.35 2.62 0.55\" class=\"primitive\"/>\n",
       "  </g>\n",
       "  <g transform=\"translate(116.37,75.89)\">\n",
       "    <path fill=\"none\" d=\"M1.23,-1.73 L 1.31 2.44 -2.54 -0.71\" class=\"primitive\"/>\n",
       "  </g>\n",
       "  <g transform=\"translate(67.02,58.03)\">\n",
       "    <path fill=\"none\" d=\"M1.64,1.55 L -3.67 -0.26 2.04 -1.29\" class=\"primitive\"/>\n",
       "  </g>\n",
       "  <g transform=\"translate(102.6,85.18)\">\n",
       "    <path fill=\"none\" d=\"M2.29,-1.05 L -0.61 2.57 -1.68 -1.52\" class=\"primitive\"/>\n",
       "  </g>\n",
       "  <g transform=\"translate(84.84,72.99)\">\n",
       "    <path fill=\"none\" d=\"M1.19,1.74 L -3.54 -0.75 2.35 -0.99\" class=\"primitive\"/>\n",
       "  </g>\n",
       "  <g transform=\"translate(70.89,59.6)\">\n",
       "    <path fill=\"none\" d=\"M-1.24,-1.72 L 3.56 0.7 -2.32 1.02\" class=\"primitive\"/>\n",
       "  </g>\n",
       "  <g transform=\"translate(74.37,68.32)\">\n",
       "    <path fill=\"none\" d=\"M0.26,-1.92 L 2.48 1.94 -2.73 -0.01\" class=\"primitive\"/>\n",
       "  </g>\n",
       "  <g transform=\"translate(31.31,48.07)\">\n",
       "    <path fill=\"none\" d=\"M0.84,1.84 L -3.36 -1.09 2.52 -0.75\" class=\"primitive\"/>\n",
       "  </g>\n",
       "  <g transform=\"translate(67.4,48.96)\">\n",
       "    <path fill=\"none\" d=\"M-2.66,0.45 L 1.79 -2.28 0.87 1.83\" class=\"primitive\"/>\n",
       "  </g>\n",
       "  <g transform=\"translate(31.34,64.5)\">\n",
       "    <path fill=\"none\" d=\"M2.39,0.94 L -3.5 0.83 1.11 -1.77\" class=\"primitive\"/>\n",
       "  </g>\n",
       "  <g transform=\"translate(70.91,54.89)\">\n",
       "    <path fill=\"none\" d=\"M-2.43,-0.88 L 3.46 -0.91 -1.03 1.79\" class=\"primitive\"/>\n",
       "  </g>\n",
       "  <g transform=\"translate(62.43,44.52)\">\n",
       "    <path fill=\"none\" d=\"M-2.19,1.16 L 0.36 -2.6 1.83 1.44\" class=\"primitive\"/>\n",
       "  </g>\n",
       "  <g transform=\"translate(37.55,43.33)\">\n",
       "    <path fill=\"none\" d=\"M0.06,1.93 L -2.78 -1.72 2.72 -0.21\" class=\"primitive\"/>\n",
       "  </g>\n",
       "  <g transform=\"translate(41.6,64.22)\">\n",
       "    <path fill=\"none\" d=\"M2.55,0.7 L -3.31 1.15 0.76 -1.86\" class=\"primitive\"/>\n",
       "  </g>\n",
       "  <g transform=\"translate(48.24,70.76)\">\n",
       "    <path fill=\"none\" d=\"M2.7,-0.3 L -2.04 2.17 -0.66 -1.88\" class=\"primitive\"/>\n",
       "  </g>\n",
       "  <g transform=\"translate(70.55,82.58)\">\n",
       "    <path fill=\"none\" d=\"M1.14,1.76 L -3.51 -0.8 2.38 -0.95\" class=\"primitive\"/>\n",
       "  </g>\n",
       "  <g transform=\"translate(64.02,62.66)\">\n",
       "    <path fill=\"none\" d=\"M2.21,1.14 L -3.62 0.51 1.41 -1.65\" class=\"primitive\"/>\n",
       "  </g>\n",
       "  <g transform=\"translate(63.35,65.74)\">\n",
       "    <path fill=\"none\" d=\"M0.65,1.88 L -3.24 -1.26 2.59 -0.62\" class=\"primitive\"/>\n",
       "  </g>\n",
       "  <g transform=\"translate(26.19,49.65)\">\n",
       "    <path fill=\"none\" d=\"M1.73,-1.5 L 0.54 2.58 -2.26 -1.08\" class=\"primitive\"/>\n",
       "  </g>\n",
       "  <g transform=\"translate(60.54,59.47)\">\n",
       "    <path fill=\"none\" d=\"M2.62,-0.55 L -1.62 2.35 -1 -1.8\" class=\"primitive\"/>\n",
       "  </g>\n",
       "  <g transform=\"translate(26.4,58.66)\">\n",
       "    <path fill=\"none\" d=\"M-2.21,1.14 L 0.41 -2.59 1.8 1.46\" class=\"primitive\"/>\n",
       "  </g>\n",
       "  <g transform=\"translate(32.6,51.76)\">\n",
       "    <path fill=\"none\" d=\"M2.63,0.53 L -3.15 1.37 0.52 -1.9\" class=\"primitive\"/>\n",
       "  </g>\n",
       "  <g transform=\"translate(56.68,59.07)\">\n",
       "    <path fill=\"none\" d=\"M1.69,-1.52 L 0.6 2.58 -2.29 -1.06\" class=\"primitive\"/>\n",
       "  </g>\n",
       "  <g transform=\"translate(62.85,60.82)\">\n",
       "    <path fill=\"none\" d=\"M2.69,0.35 L -2.95 1.57 0.26 -1.92\" class=\"primitive\"/>\n",
       "  </g>\n",
       "  <g transform=\"translate(58.74,59.07)\">\n",
       "    <path fill=\"none\" d=\"M2.28,-1.06 L -0.58 2.58 -1.7 -1.51\" class=\"primitive\"/>\n",
       "  </g>\n",
       "  <g transform=\"translate(28.89,49.77)\">\n",
       "    <path fill=\"none\" d=\"M2.45,-0.86 L -1.02 2.51 -1.43 -1.65\" class=\"primitive\"/>\n",
       "  </g>\n",
       "  <g transform=\"translate(30.04,58.19)\">\n",
       "    <path fill=\"none\" d=\"M-0.96,1.81 L -1.68 -2.33 2.63 0.52\" class=\"primitive\"/>\n",
       "  </g>\n",
       "  <g transform=\"translate(51.39,64.33)\">\n",
       "    <path fill=\"none\" d=\"M-2.16,-1.18 L 3.64 -0.44 -1.48 1.63\" class=\"primitive\"/>\n",
       "  </g>\n",
       "  <g transform=\"translate(20.74,54.7)\">\n",
       "    <path fill=\"none\" d=\"M-2.08,-1.25 L 3.66 -0.32 -1.58 1.57\" class=\"primitive\"/>\n",
       "  </g>\n",
       "  <g transform=\"translate(44.3,52.88)\">\n",
       "    <path fill=\"none\" d=\"M-2.04,-1.28 L 3.67 -0.27 -1.63 1.55\" class=\"primitive\"/>\n",
       "  </g>\n",
       "  <g transform=\"translate(51.83,61.74)\">\n",
       "    <path fill=\"none\" d=\"M-0.89,-1.83 L 3.39 1.04 -2.5 0.79\" class=\"primitive\"/>\n",
       "  </g>\n",
       "  <g transform=\"translate(53.59,67.04)\">\n",
       "    <path fill=\"none\" d=\"M-2.73,0.08 L 2.37 -2 0.36 1.92\" class=\"primitive\"/>\n",
       "  </g>\n",
       "  <g transform=\"translate(52.75,56.71)\">\n",
       "    <path fill=\"none\" d=\"M-1.32,1.69 L -1.18 -2.47 2.5 0.78\" class=\"primitive\"/>\n",
       "  </g>\n",
       "  <g transform=\"translate(49.13,89)\">\n",
       "    <path fill=\"none\" d=\"M2.68,0.39 L -2.99 1.53 0.32 -1.92\" class=\"primitive\"/>\n",
       "  </g>\n",
       "  <g transform=\"translate(59.39,67.94)\">\n",
       "    <path fill=\"none\" d=\"M-1.47,1.63 L -0.96 -2.52 2.43 0.89\" class=\"primitive\"/>\n",
       "  </g>\n",
       "  <g transform=\"translate(55.21,60.79)\">\n",
       "    <path fill=\"none\" d=\"M-0.7,1.87 L -1.99 -2.2 2.69 0.33\" class=\"primitive\"/>\n",
       "  </g>\n",
       "</g>\n",
       "<g font-size=\"4\" stroke=\"#000000\" stroke-opacity=\"0.000\" fill=\"#000000\" id=\"img-2473fc86-3\">\n",
       "</g>\n",
       "<g stroke-width=\"0\" stroke=\"#000000\" stroke-opacity=\"0.000\" fill=\"#40E0D0\" id=\"img-2473fc86-4\">\n",
       "  <g transform=\"translate(57.44,27.91)\">\n",
       "    <circle cx=\"0\" cy=\"0\" r=\"2.63\" class=\"primitive\"/>\n",
       "  </g>\n",
       "  <g transform=\"translate(50.7,52.41)\">\n",
       "    <circle cx=\"0\" cy=\"0\" r=\"2.63\" class=\"primitive\"/>\n",
       "  </g>\n",
       "  <g transform=\"translate(43.92,91.67)\">\n",
       "    <circle cx=\"0\" cy=\"0\" r=\"2.63\" class=\"primitive\"/>\n",
       "  </g>\n",
       "  <g transform=\"translate(51.74,56.96)\">\n",
       "    <circle cx=\"0\" cy=\"0\" r=\"2.63\" class=\"primitive\"/>\n",
       "  </g>\n",
       "  <g transform=\"translate(86.25,29.62)\">\n",
       "    <circle cx=\"0\" cy=\"0\" r=\"2.63\" class=\"primitive\"/>\n",
       "  </g>\n",
       "  <g transform=\"translate(96.3,43.49)\">\n",
       "    <circle cx=\"0\" cy=\"0\" r=\"2.63\" class=\"primitive\"/>\n",
       "  </g>\n",
       "  <g transform=\"translate(129.64,18.59)\">\n",
       "    <circle cx=\"0\" cy=\"0\" r=\"2.63\" class=\"primitive\"/>\n",
       "  </g>\n",
       "  <g transform=\"translate(108.24,8.33)\">\n",
       "    <circle cx=\"0\" cy=\"0\" r=\"2.63\" class=\"primitive\"/>\n",
       "  </g>\n",
       "  <g transform=\"translate(120.46,10.97)\">\n",
       "    <circle cx=\"0\" cy=\"0\" r=\"2.63\" class=\"primitive\"/>\n",
       "  </g>\n",
       "  <g transform=\"translate(121.92,30.56)\">\n",
       "    <circle cx=\"0\" cy=\"0\" r=\"2.63\" class=\"primitive\"/>\n",
       "  </g>\n",
       "  <g transform=\"translate(108.34,60.94)\">\n",
       "    <circle cx=\"0\" cy=\"0\" r=\"2.63\" class=\"primitive\"/>\n",
       "  </g>\n",
       "  <g transform=\"translate(118.65,80.14)\">\n",
       "    <circle cx=\"0\" cy=\"0\" r=\"2.63\" class=\"primitive\"/>\n",
       "  </g>\n",
       "  <g transform=\"translate(60.63,57.58)\">\n",
       "    <circle cx=\"0\" cy=\"0\" r=\"2.63\" class=\"primitive\"/>\n",
       "  </g>\n",
       "  <g transform=\"translate(101.54,89.66)\">\n",
       "    <circle cx=\"0\" cy=\"0\" r=\"2.63\" class=\"primitive\"/>\n",
       "  </g>\n",
       "  <g transform=\"translate(77.08,60.82)\">\n",
       "    <circle cx=\"0\" cy=\"0\" r=\"2.63\" class=\"primitive\"/>\n",
       "  </g>\n",
       "  <g transform=\"translate(78.68,71.69)\">\n",
       "    <circle cx=\"0\" cy=\"0\" r=\"2.63\" class=\"primitive\"/>\n",
       "  </g>\n",
       "  <g transform=\"translate(25.47,46.17)\">\n",
       "    <circle cx=\"0\" cy=\"0\" r=\"2.63\" class=\"primitive\"/>\n",
       "  </g>\n",
       "  <g transform=\"translate(70.52,44.99)\">\n",
       "    <circle cx=\"0\" cy=\"0\" r=\"2.63\" class=\"primitive\"/>\n",
       "  </g>\n",
       "  <g transform=\"translate(25.24,65.95)\">\n",
       "    <circle cx=\"0\" cy=\"0\" r=\"2.63\" class=\"primitive\"/>\n",
       "  </g>\n",
       "  <g transform=\"translate(52.93,42.94)\">\n",
       "    <circle cx=\"0\" cy=\"0\" r=\"2.63\" class=\"primitive\"/>\n",
       "  </g>\n",
       "  <g transform=\"translate(76.94,53.31)\">\n",
       "    <circle cx=\"0\" cy=\"0\" r=\"2.63\" class=\"primitive\"/>\n",
       "  </g>\n",
       "  <g transform=\"translate(63.06,39.99)\">\n",
       "    <circle cx=\"0\" cy=\"0\" r=\"2.63\" class=\"primitive\"/>\n",
       "  </g>\n",
       "  <g transform=\"translate(32.71,40.34)\">\n",
       "    <circle cx=\"0\" cy=\"0\" r=\"2.63\" class=\"primitive\"/>\n",
       "  </g>\n",
       "  <g transform=\"translate(35.83,66.23)\">\n",
       "    <circle cx=\"0\" cy=\"0\" r=\"2.63\" class=\"primitive\"/>\n",
       "  </g>\n",
       "  <g transform=\"translate(11.79,55.49)\">\n",
       "    <circle cx=\"0\" cy=\"0\" r=\"2.63\" class=\"primitive\"/>\n",
       "  </g>\n",
       "  <g transform=\"translate(27.12,54.14)\">\n",
       "    <circle cx=\"0\" cy=\"0\" r=\"2.63\" class=\"primitive\"/>\n",
       "  </g>\n",
       "  <g transform=\"translate(44.68,74.54)\">\n",
       "    <circle cx=\"0\" cy=\"0\" r=\"2.63\" class=\"primitive\"/>\n",
       "  </g>\n",
       "  <g transform=\"translate(64.43,81.18)\">\n",
       "    <circle cx=\"0\" cy=\"0\" r=\"2.63\" class=\"primitive\"/>\n",
       "  </g>\n",
       "  <g transform=\"translate(57.72,63.55)\">\n",
       "    <circle cx=\"0\" cy=\"0\" r=\"2.63\" class=\"primitive\"/>\n",
       "  </g>\n",
       "</g>\n",
       "<g font-size=\"4\" stroke=\"#000000\" stroke-opacity=\"0.000\" fill=\"#000000\" id=\"img-2473fc86-5\">\n",
       "  <g transform=\"translate(57.44,27.91)\">\n",
       "    <g class=\"primitive\">\n",
       "      <text text-anchor=\"middle\" dy=\"0.35em\">scenariouncertainty</text>\n",
       "    </g>\n",
       "  </g>\n",
       "  <g transform=\"translate(50.7,52.41)\">\n",
       "    <g class=\"primitive\">\n",
       "      <text text-anchor=\"middle\" dy=\"0.35em\">population</text>\n",
       "    </g>\n",
       "  </g>\n",
       "  <g transform=\"translate(43.92,91.67)\">\n",
       "    <g class=\"primitive\">\n",
       "      <text text-anchor=\"middle\" dy=\"0.35em\">geography</text>\n",
       "    </g>\n",
       "  </g>\n",
       "  <g transform=\"translate(51.74,56.96)\">\n",
       "    <g class=\"primitive\">\n",
       "      <text text-anchor=\"middle\" dy=\"0.35em\">socioeconomic</text>\n",
       "    </g>\n",
       "  </g>\n",
       "  <g transform=\"translate(86.25,29.62)\">\n",
       "    <g class=\"primitive\">\n",
       "      <text text-anchor=\"middle\" dy=\"0.35em\">emissions</text>\n",
       "    </g>\n",
       "  </g>\n",
       "  <g transform=\"translate(96.3,43.49)\">\n",
       "    <g class=\"primitive\">\n",
       "      <text text-anchor=\"middle\" dy=\"0.35em\">climateco2cycle</text>\n",
       "    </g>\n",
       "  </g>\n",
       "  <g transform=\"translate(129.64,18.59)\">\n",
       "    <g class=\"primitive\">\n",
       "      <text text-anchor=\"middle\" dy=\"0.35em\">climatech4cycle</text>\n",
       "    </g>\n",
       "  </g>\n",
       "  <g transform=\"translate(108.24,8.33)\">\n",
       "    <g class=\"primitive\">\n",
       "      <text text-anchor=\"middle\" dy=\"0.35em\">climaten2ocycle</text>\n",
       "    </g>\n",
       "  </g>\n",
       "  <g transform=\"translate(120.46,10.97)\">\n",
       "    <g class=\"primitive\">\n",
       "      <text text-anchor=\"middle\" dy=\"0.35em\">climatesf6cycle</text>\n",
       "    </g>\n",
       "  </g>\n",
       "  <g transform=\"translate(121.92,30.56)\">\n",
       "    <g class=\"primitive\">\n",
       "      <text text-anchor=\"middle\" dy=\"0.35em\">climateforcing</text>\n",
       "    </g>\n",
       "  </g>\n",
       "  <g transform=\"translate(108.34,60.94)\">\n",
       "    <g class=\"primitive\">\n",
       "      <text text-anchor=\"middle\" dy=\"0.35em\">climatedynamics</text>\n",
       "    </g>\n",
       "  </g>\n",
       "  <g transform=\"translate(118.65,80.14)\">\n",
       "    <g class=\"primitive\">\n",
       "      <text text-anchor=\"middle\" dy=\"0.35em\">biodiversity</text>\n",
       "    </g>\n",
       "  </g>\n",
       "  <g transform=\"translate(60.63,57.58)\">\n",
       "    <g class=\"primitive\">\n",
       "      <text text-anchor=\"middle\" dy=\"0.35em\">climateregional</text>\n",
       "    </g>\n",
       "  </g>\n",
       "  <g transform=\"translate(101.54,89.66)\">\n",
       "    <g class=\"primitive\">\n",
       "      <text text-anchor=\"middle\" dy=\"0.35em\">ocean</text>\n",
       "    </g>\n",
       "  </g>\n",
       "  <g transform=\"translate(77.08,60.82)\">\n",
       "    <g class=\"primitive\">\n",
       "      <text text-anchor=\"middle\" dy=\"0.35em\">impactagriculture</text>\n",
       "    </g>\n",
       "  </g>\n",
       "  <g transform=\"translate(78.68,71.69)\">\n",
       "    <g class=\"primitive\">\n",
       "      <text text-anchor=\"middle\" dy=\"0.35em\">impactbiodiversity</text>\n",
       "    </g>\n",
       "  </g>\n",
       "  <g transform=\"translate(25.47,46.17)\">\n",
       "    <g class=\"primitive\">\n",
       "      <text text-anchor=\"middle\" dy=\"0.35em\">impactcardiovascularrespiratory</text>\n",
       "    </g>\n",
       "  </g>\n",
       "  <g transform=\"translate(70.52,44.99)\">\n",
       "    <g class=\"primitive\">\n",
       "      <text text-anchor=\"middle\" dy=\"0.35em\">impactcooling</text>\n",
       "    </g>\n",
       "  </g>\n",
       "  <g transform=\"translate(25.24,65.95)\">\n",
       "    <g class=\"primitive\">\n",
       "      <text text-anchor=\"middle\" dy=\"0.35em\">impactdiarrhoea</text>\n",
       "    </g>\n",
       "  </g>\n",
       "  <g transform=\"translate(52.93,42.94)\">\n",
       "    <g class=\"primitive\">\n",
       "      <text text-anchor=\"middle\" dy=\"0.35em\">impactextratropicalstorms</text>\n",
       "    </g>\n",
       "  </g>\n",
       "  <g transform=\"translate(76.94,53.31)\">\n",
       "    <g class=\"primitive\">\n",
       "      <text text-anchor=\"middle\" dy=\"0.35em\">impactforests</text>\n",
       "    </g>\n",
       "  </g>\n",
       "  <g transform=\"translate(63.06,39.99)\">\n",
       "    <g class=\"primitive\">\n",
       "      <text text-anchor=\"middle\" dy=\"0.35em\">impactheating</text>\n",
       "    </g>\n",
       "  </g>\n",
       "  <g transform=\"translate(32.71,40.34)\">\n",
       "    <g class=\"primitive\">\n",
       "      <text text-anchor=\"middle\" dy=\"0.35em\">impactvectorbornediseases</text>\n",
       "    </g>\n",
       "  </g>\n",
       "  <g transform=\"translate(35.83,66.23)\">\n",
       "    <g class=\"primitive\">\n",
       "      <text text-anchor=\"middle\" dy=\"0.35em\">impacttropicalstorms</text>\n",
       "    </g>\n",
       "  </g>\n",
       "  <g transform=\"translate(11.79,55.49)\">\n",
       "    <g class=\"primitive\">\n",
       "      <text text-anchor=\"middle\" dy=\"0.35em\">vslvmorb</text>\n",
       "    </g>\n",
       "  </g>\n",
       "  <g transform=\"translate(27.12,54.14)\">\n",
       "    <g class=\"primitive\">\n",
       "      <text text-anchor=\"middle\" dy=\"0.35em\">impactdeathmorbidity</text>\n",
       "    </g>\n",
       "  </g>\n",
       "  <g transform=\"translate(44.68,74.54)\">\n",
       "    <g class=\"primitive\">\n",
       "      <text text-anchor=\"middle\" dy=\"0.35em\">impactwaterresources</text>\n",
       "    </g>\n",
       "  </g>\n",
       "  <g transform=\"translate(64.43,81.18)\">\n",
       "    <g class=\"primitive\">\n",
       "      <text text-anchor=\"middle\" dy=\"0.35em\">impactsealevelrise</text>\n",
       "    </g>\n",
       "  </g>\n",
       "  <g transform=\"translate(57.72,63.55)\">\n",
       "    <g class=\"primitive\">\n",
       "      <text text-anchor=\"middle\" dy=\"0.35em\">impactaggregation</text>\n",
       "    </g>\n",
       "  </g>\n",
       "</g>\n",
       "<script> <![CDATA[\n",
       "(function(N){var k=/[\\.\\/]/,L=/\\s*,\\s*/,C=function(a,d){return a-d},a,v,y={n:{}},M=function(){for(var a=0,d=this.length;a<d;a++)if(\"undefined\"!=typeof this[a])return this[a]},A=function(){for(var a=this.length;--a;)if(\"undefined\"!=typeof this[a])return this[a]},w=function(k,d){k=String(k);var f=v,n=Array.prototype.slice.call(arguments,2),u=w.listeners(k),p=0,b,q=[],e={},l=[],r=a;l.firstDefined=M;l.lastDefined=A;a=k;for(var s=v=0,x=u.length;s<x;s++)\"zIndex\"in u[s]&&(q.push(u[s].zIndex),0>u[s].zIndex&&\n",
       "(e[u[s].zIndex]=u[s]));for(q.sort(C);0>q[p];)if(b=e[q[p++] ],l.push(b.apply(d,n)),v)return v=f,l;for(s=0;s<x;s++)if(b=u[s],\"zIndex\"in b)if(b.zIndex==q[p]){l.push(b.apply(d,n));if(v)break;do if(p++,(b=e[q[p] ])&&l.push(b.apply(d,n)),v)break;while(b)}else e[b.zIndex]=b;else if(l.push(b.apply(d,n)),v)break;v=f;a=r;return l};w._events=y;w.listeners=function(a){a=a.split(k);var d=y,f,n,u,p,b,q,e,l=[d],r=[];u=0;for(p=a.length;u<p;u++){e=[];b=0;for(q=l.length;b<q;b++)for(d=l[b].n,f=[d[a[u] ],d[\"*\"] ],n=2;n--;)if(d=\n",
       "f[n])e.push(d),r=r.concat(d.f||[]);l=e}return r};w.on=function(a,d){a=String(a);if(\"function\"!=typeof d)return function(){};for(var f=a.split(L),n=0,u=f.length;n<u;n++)(function(a){a=a.split(k);for(var b=y,f,e=0,l=a.length;e<l;e++)b=b.n,b=b.hasOwnProperty(a[e])&&b[a[e] ]||(b[a[e] ]={n:{}});b.f=b.f||[];e=0;for(l=b.f.length;e<l;e++)if(b.f[e]==d){f=!0;break}!f&&b.f.push(d)})(f[n]);return function(a){+a==+a&&(d.zIndex=+a)}};w.f=function(a){var d=[].slice.call(arguments,1);return function(){w.apply(null,\n",
       "[a,null].concat(d).concat([].slice.call(arguments,0)))}};w.stop=function(){v=1};w.nt=function(k){return k?(new RegExp(\"(?:\\\\.|\\\\/|^)\"+k+\"(?:\\\\.|\\\\/|$)\")).test(a):a};w.nts=function(){return a.split(k)};w.off=w.unbind=function(a,d){if(a){var f=a.split(L);if(1<f.length)for(var n=0,u=f.length;n<u;n++)w.off(f[n],d);else{for(var f=a.split(k),p,b,q,e,l=[y],n=0,u=f.length;n<u;n++)for(e=0;e<l.length;e+=q.length-2){q=[e,1];p=l[e].n;if(\"*\"!=f[n])p[f[n] ]&&q.push(p[f[n] ]);else for(b in p)p.hasOwnProperty(b)&&\n",
       "q.push(p[b]);l.splice.apply(l,q)}n=0;for(u=l.length;n<u;n++)for(p=l[n];p.n;){if(d){if(p.f){e=0;for(f=p.f.length;e<f;e++)if(p.f[e]==d){p.f.splice(e,1);break}!p.f.length&&delete p.f}for(b in p.n)if(p.n.hasOwnProperty(b)&&p.n[b].f){q=p.n[b].f;e=0;for(f=q.length;e<f;e++)if(q[e]==d){q.splice(e,1);break}!q.length&&delete p.n[b].f}}else for(b in delete p.f,p.n)p.n.hasOwnProperty(b)&&p.n[b].f&&delete p.n[b].f;p=p.n}}}else w._events=y={n:{}}};w.once=function(a,d){var f=function(){w.unbind(a,f);return d.apply(this,\n",
       "arguments)};return w.on(a,f)};w.version=\"0.4.2\";w.toString=function(){return\"You are running Eve 0.4.2\"};\"undefined\"!=typeof module&&module.exports?module.exports=w:\"function\"===typeof define&&define.amd?define(\"eve\",[],function(){return w}):N.eve=w})(this);\n",
       "(function(N,k){\"function\"===typeof define&&define.amd?define(\"Snap.svg\",[\"eve\"],function(L){return k(N,L)}):k(N,N.eve)})(this,function(N,k){var L=function(a){var k={},y=N.requestAnimationFrame||N.webkitRequestAnimationFrame||N.mozRequestAnimationFrame||N.oRequestAnimationFrame||N.msRequestAnimationFrame||function(a){setTimeout(a,16)},M=Array.isArray||function(a){return a instanceof Array||\"[object Array]\"==Object.prototype.toString.call(a)},A=0,w=\"M\"+(+new Date).toString(36),z=function(a){if(null==\n",
       "a)return this.s;var b=this.s-a;this.b+=this.dur*b;this.B+=this.dur*b;this.s=a},d=function(a){if(null==a)return this.spd;this.spd=a},f=function(a){if(null==a)return this.dur;this.s=this.s*a/this.dur;this.dur=a},n=function(){delete k[this.id];this.update();a(\"mina.stop.\"+this.id,this)},u=function(){this.pdif||(delete k[this.id],this.update(),this.pdif=this.get()-this.b)},p=function(){this.pdif&&(this.b=this.get()-this.pdif,delete this.pdif,k[this.id]=this)},b=function(){var a;if(M(this.start)){a=[];\n",
       "for(var b=0,e=this.start.length;b<e;b++)a[b]=+this.start[b]+(this.end[b]-this.start[b])*this.easing(this.s)}else a=+this.start+(this.end-this.start)*this.easing(this.s);this.set(a)},q=function(){var l=0,b;for(b in k)if(k.hasOwnProperty(b)){var e=k[b],f=e.get();l++;e.s=(f-e.b)/(e.dur/e.spd);1<=e.s&&(delete k[b],e.s=1,l--,function(b){setTimeout(function(){a(\"mina.finish.\"+b.id,b)})}(e));e.update()}l&&y(q)},e=function(a,r,s,x,G,h,J){a={id:w+(A++).toString(36),start:a,end:r,b:s,s:0,dur:x-s,spd:1,get:G,\n",
       "set:h,easing:J||e.linear,status:z,speed:d,duration:f,stop:n,pause:u,resume:p,update:b};k[a.id]=a;r=0;for(var K in k)if(k.hasOwnProperty(K)&&(r++,2==r))break;1==r&&y(q);return a};e.time=Date.now||function(){return+new Date};e.getById=function(a){return k[a]||null};e.linear=function(a){return a};e.easeout=function(a){return Math.pow(a,1.7)};e.easein=function(a){return Math.pow(a,0.48)};e.easeinout=function(a){if(1==a)return 1;if(0==a)return 0;var b=0.48-a/1.04,e=Math.sqrt(0.1734+b*b);a=e-b;a=Math.pow(Math.abs(a),\n",
       "1/3)*(0>a?-1:1);b=-e-b;b=Math.pow(Math.abs(b),1/3)*(0>b?-1:1);a=a+b+0.5;return 3*(1-a)*a*a+a*a*a};e.backin=function(a){return 1==a?1:a*a*(2.70158*a-1.70158)};e.backout=function(a){if(0==a)return 0;a-=1;return a*a*(2.70158*a+1.70158)+1};e.elastic=function(a){return a==!!a?a:Math.pow(2,-10*a)*Math.sin(2*(a-0.075)*Math.PI/0.3)+1};e.bounce=function(a){a<1/2.75?a*=7.5625*a:a<2/2.75?(a-=1.5/2.75,a=7.5625*a*a+0.75):a<2.5/2.75?(a-=2.25/2.75,a=7.5625*a*a+0.9375):(a-=2.625/2.75,a=7.5625*a*a+0.984375);return a};\n",
       "return N.mina=e}(\"undefined\"==typeof k?function(){}:k),C=function(){function a(c,t){if(c){if(c.tagName)return x(c);if(y(c,\"array\")&&a.set)return a.set.apply(a,c);if(c instanceof e)return c;if(null==t)return c=G.doc.querySelector(c),x(c)}return new s(null==c?\"100%\":c,null==t?\"100%\":t)}function v(c,a){if(a){\"#text\"==c&&(c=G.doc.createTextNode(a.text||\"\"));\"string\"==typeof c&&(c=v(c));if(\"string\"==typeof a)return\"xlink:\"==a.substring(0,6)?c.getAttributeNS(m,a.substring(6)):\"xml:\"==a.substring(0,4)?c.getAttributeNS(la,\n",
       "a.substring(4)):c.getAttribute(a);for(var da in a)if(a[h](da)){var b=J(a[da]);b?\"xlink:\"==da.substring(0,6)?c.setAttributeNS(m,da.substring(6),b):\"xml:\"==da.substring(0,4)?c.setAttributeNS(la,da.substring(4),b):c.setAttribute(da,b):c.removeAttribute(da)}}else c=G.doc.createElementNS(la,c);return c}function y(c,a){a=J.prototype.toLowerCase.call(a);return\"finite\"==a?isFinite(c):\"array\"==a&&(c instanceof Array||Array.isArray&&Array.isArray(c))?!0:\"null\"==a&&null===c||a==typeof c&&null!==c||\"object\"==\n",
       "a&&c===Object(c)||$.call(c).slice(8,-1).toLowerCase()==a}function M(c){if(\"function\"==typeof c||Object(c)!==c)return c;var a=new c.constructor,b;for(b in c)c[h](b)&&(a[b]=M(c[b]));return a}function A(c,a,b){function m(){var e=Array.prototype.slice.call(arguments,0),f=e.join(\"\\u2400\"),d=m.cache=m.cache||{},l=m.count=m.count||[];if(d[h](f)){a:for(var e=l,l=f,B=0,H=e.length;B<H;B++)if(e[B]===l){e.push(e.splice(B,1)[0]);break a}return b?b(d[f]):d[f]}1E3<=l.length&&delete d[l.shift()];l.push(f);d[f]=c.apply(a,\n",
       "e);return b?b(d[f]):d[f]}return m}function w(c,a,b,m,e,f){return null==e?(c-=b,a-=m,c||a?(180*I.atan2(-a,-c)/C+540)%360:0):w(c,a,e,f)-w(b,m,e,f)}function z(c){return c%360*C/180}function d(c){var a=[];c=c.replace(/(?:^|\\s)(\\w+)\\(([^)]+)\\)/g,function(c,b,m){m=m.split(/\\s*,\\s*|\\s+/);\"rotate\"==b&&1==m.length&&m.push(0,0);\"scale\"==b&&(2<m.length?m=m.slice(0,2):2==m.length&&m.push(0,0),1==m.length&&m.push(m[0],0,0));\"skewX\"==b?a.push([\"m\",1,0,I.tan(z(m[0])),1,0,0]):\"skewY\"==b?a.push([\"m\",1,I.tan(z(m[0])),\n",
       "0,1,0,0]):a.push([b.charAt(0)].concat(m));return c});return a}function f(c,t){var b=O(c),m=new a.Matrix;if(b)for(var e=0,f=b.length;e<f;e++){var h=b[e],d=h.length,B=J(h[0]).toLowerCase(),H=h[0]!=B,l=H?m.invert():0,E;\"t\"==B&&2==d?m.translate(h[1],0):\"t\"==B&&3==d?H?(d=l.x(0,0),B=l.y(0,0),H=l.x(h[1],h[2]),l=l.y(h[1],h[2]),m.translate(H-d,l-B)):m.translate(h[1],h[2]):\"r\"==B?2==d?(E=E||t,m.rotate(h[1],E.x+E.width/2,E.y+E.height/2)):4==d&&(H?(H=l.x(h[2],h[3]),l=l.y(h[2],h[3]),m.rotate(h[1],H,l)):m.rotate(h[1],\n",
       "h[2],h[3])):\"s\"==B?2==d||3==d?(E=E||t,m.scale(h[1],h[d-1],E.x+E.width/2,E.y+E.height/2)):4==d?H?(H=l.x(h[2],h[3]),l=l.y(h[2],h[3]),m.scale(h[1],h[1],H,l)):m.scale(h[1],h[1],h[2],h[3]):5==d&&(H?(H=l.x(h[3],h[4]),l=l.y(h[3],h[4]),m.scale(h[1],h[2],H,l)):m.scale(h[1],h[2],h[3],h[4])):\"m\"==B&&7==d&&m.add(h[1],h[2],h[3],h[4],h[5],h[6])}return m}function n(c,t){if(null==t){var m=!0;t=\"linearGradient\"==c.type||\"radialGradient\"==c.type?c.node.getAttribute(\"gradientTransform\"):\"pattern\"==c.type?c.node.getAttribute(\"patternTransform\"):\n",
       "c.node.getAttribute(\"transform\");if(!t)return new a.Matrix;t=d(t)}else t=a._.rgTransform.test(t)?J(t).replace(/\\.{3}|\\u2026/g,c._.transform||aa):d(t),y(t,\"array\")&&(t=a.path?a.path.toString.call(t):J(t)),c._.transform=t;var b=f(t,c.getBBox(1));if(m)return b;c.matrix=b}function u(c){c=c.node.ownerSVGElement&&x(c.node.ownerSVGElement)||c.node.parentNode&&x(c.node.parentNode)||a.select(\"svg\")||a(0,0);var t=c.select(\"defs\"),t=null==t?!1:t.node;t||(t=r(\"defs\",c.node).node);return t}function p(c){return c.node.ownerSVGElement&&\n",
       "x(c.node.ownerSVGElement)||a.select(\"svg\")}function b(c,a,m){function b(c){if(null==c)return aa;if(c==+c)return c;v(B,{width:c});try{return B.getBBox().width}catch(a){return 0}}function h(c){if(null==c)return aa;if(c==+c)return c;v(B,{height:c});try{return B.getBBox().height}catch(a){return 0}}function e(b,B){null==a?d[b]=B(c.attr(b)||0):b==a&&(d=B(null==m?c.attr(b)||0:m))}var f=p(c).node,d={},B=f.querySelector(\".svg---mgr\");B||(B=v(\"rect\"),v(B,{x:-9E9,y:-9E9,width:10,height:10,\"class\":\"svg---mgr\",\n",
       "fill:\"none\"}),f.appendChild(B));switch(c.type){case \"rect\":e(\"rx\",b),e(\"ry\",h);case \"image\":e(\"width\",b),e(\"height\",h);case \"text\":e(\"x\",b);e(\"y\",h);break;case \"circle\":e(\"cx\",b);e(\"cy\",h);e(\"r\",b);break;case \"ellipse\":e(\"cx\",b);e(\"cy\",h);e(\"rx\",b);e(\"ry\",h);break;case \"line\":e(\"x1\",b);e(\"x2\",b);e(\"y1\",h);e(\"y2\",h);break;case \"marker\":e(\"refX\",b);e(\"markerWidth\",b);e(\"refY\",h);e(\"markerHeight\",h);break;case \"radialGradient\":e(\"fx\",b);e(\"fy\",h);break;case \"tspan\":e(\"dx\",b);e(\"dy\",h);break;default:e(a,\n",
       "b)}f.removeChild(B);return d}function q(c){y(c,\"array\")||(c=Array.prototype.slice.call(arguments,0));for(var a=0,b=0,m=this.node;this[a];)delete this[a++];for(a=0;a<c.length;a++)\"set\"==c[a].type?c[a].forEach(function(c){m.appendChild(c.node)}):m.appendChild(c[a].node);for(var h=m.childNodes,a=0;a<h.length;a++)this[b++]=x(h[a]);return this}function e(c){if(c.snap in E)return E[c.snap];var a=this.id=V(),b;try{b=c.ownerSVGElement}catch(m){}this.node=c;b&&(this.paper=new s(b));this.type=c.tagName;this.anims=\n",
       "{};this._={transform:[]};c.snap=a;E[a]=this;\"g\"==this.type&&(this.add=q);if(this.type in{g:1,mask:1,pattern:1})for(var e in s.prototype)s.prototype[h](e)&&(this[e]=s.prototype[e])}function l(c){this.node=c}function r(c,a){var b=v(c);a.appendChild(b);return x(b)}function s(c,a){var b,m,f,d=s.prototype;if(c&&\"svg\"==c.tagName){if(c.snap in E)return E[c.snap];var l=c.ownerDocument;b=new e(c);m=c.getElementsByTagName(\"desc\")[0];f=c.getElementsByTagName(\"defs\")[0];m||(m=v(\"desc\"),m.appendChild(l.createTextNode(\"Created with Snap\")),\n",
       "b.node.appendChild(m));f||(f=v(\"defs\"),b.node.appendChild(f));b.defs=f;for(var ca in d)d[h](ca)&&(b[ca]=d[ca]);b.paper=b.root=b}else b=r(\"svg\",G.doc.body),v(b.node,{height:a,version:1.1,width:c,xmlns:la});return b}function x(c){return!c||c instanceof e||c instanceof l?c:c.tagName&&\"svg\"==c.tagName.toLowerCase()?new s(c):c.tagName&&\"object\"==c.tagName.toLowerCase()&&\"image/svg+xml\"==c.type?new s(c.contentDocument.getElementsByTagName(\"svg\")[0]):new e(c)}a.version=\"0.3.0\";a.toString=function(){return\"Snap v\"+\n",
       "this.version};a._={};var G={win:N,doc:N.document};a._.glob=G;var h=\"hasOwnProperty\",J=String,K=parseFloat,U=parseInt,I=Math,P=I.max,Q=I.min,Y=I.abs,C=I.PI,aa=\"\",$=Object.prototype.toString,F=/^\\s*((#[a-f\\d]{6})|(#[a-f\\d]{3})|rgba?\\(\\s*([\\d\\.]+%?\\s*,\\s*[\\d\\.]+%?\\s*,\\s*[\\d\\.]+%?(?:\\s*,\\s*[\\d\\.]+%?)?)\\s*\\)|hsba?\\(\\s*([\\d\\.]+(?:deg|\\xb0|%)?\\s*,\\s*[\\d\\.]+%?\\s*,\\s*[\\d\\.]+(?:%?\\s*,\\s*[\\d\\.]+)?%?)\\s*\\)|hsla?\\(\\s*([\\d\\.]+(?:deg|\\xb0|%)?\\s*,\\s*[\\d\\.]+%?\\s*,\\s*[\\d\\.]+(?:%?\\s*,\\s*[\\d\\.]+)?%?)\\s*\\))\\s*$/i;a._.separator=\n",
       "RegExp(\"[,\\t\\n\\x0B\\f\\r \\u00a0\\u1680\\u180e\\u2000\\u2001\\u2002\\u2003\\u2004\\u2005\\u2006\\u2007\\u2008\\u2009\\u200a\\u202f\\u205f\\u3000\\u2028\\u2029]+\");var S=RegExp(\"[\\t\\n\\x0B\\f\\r \\u00a0\\u1680\\u180e\\u2000\\u2001\\u2002\\u2003\\u2004\\u2005\\u2006\\u2007\\u2008\\u2009\\u200a\\u202f\\u205f\\u3000\\u2028\\u2029]*,[\\t\\n\\x0B\\f\\r \\u00a0\\u1680\\u180e\\u2000\\u2001\\u2002\\u2003\\u2004\\u2005\\u2006\\u2007\\u2008\\u2009\\u200a\\u202f\\u205f\\u3000\\u2028\\u2029]*\"),X={hs:1,rg:1},W=RegExp(\"([a-z])[\\t\\n\\x0B\\f\\r \\u00a0\\u1680\\u180e\\u2000\\u2001\\u2002\\u2003\\u2004\\u2005\\u2006\\u2007\\u2008\\u2009\\u200a\\u202f\\u205f\\u3000\\u2028\\u2029,]*((-?\\\\d*\\\\.?\\\\d*(?:e[\\\\-+]?\\\\d+)?[\\t\\n\\x0B\\f\\r \\u00a0\\u1680\\u180e\\u2000\\u2001\\u2002\\u2003\\u2004\\u2005\\u2006\\u2007\\u2008\\u2009\\u200a\\u202f\\u205f\\u3000\\u2028\\u2029]*,?[\\t\\n\\x0B\\f\\r \\u00a0\\u1680\\u180e\\u2000\\u2001\\u2002\\u2003\\u2004\\u2005\\u2006\\u2007\\u2008\\u2009\\u200a\\u202f\\u205f\\u3000\\u2028\\u2029]*)+)\",\n",
       "\"ig\"),ma=RegExp(\"([rstm])[\\t\\n\\x0B\\f\\r \\u00a0\\u1680\\u180e\\u2000\\u2001\\u2002\\u2003\\u2004\\u2005\\u2006\\u2007\\u2008\\u2009\\u200a\\u202f\\u205f\\u3000\\u2028\\u2029,]*((-?\\\\d*\\\\.?\\\\d*(?:e[\\\\-+]?\\\\d+)?[\\t\\n\\x0B\\f\\r \\u00a0\\u1680\\u180e\\u2000\\u2001\\u2002\\u2003\\u2004\\u2005\\u2006\\u2007\\u2008\\u2009\\u200a\\u202f\\u205f\\u3000\\u2028\\u2029]*,?[\\t\\n\\x0B\\f\\r \\u00a0\\u1680\\u180e\\u2000\\u2001\\u2002\\u2003\\u2004\\u2005\\u2006\\u2007\\u2008\\u2009\\u200a\\u202f\\u205f\\u3000\\u2028\\u2029]*)+)\",\"ig\"),Z=RegExp(\"(-?\\\\d*\\\\.?\\\\d*(?:e[\\\\-+]?\\\\d+)?)[\\t\\n\\x0B\\f\\r \\u00a0\\u1680\\u180e\\u2000\\u2001\\u2002\\u2003\\u2004\\u2005\\u2006\\u2007\\u2008\\u2009\\u200a\\u202f\\u205f\\u3000\\u2028\\u2029]*,?[\\t\\n\\x0B\\f\\r \\u00a0\\u1680\\u180e\\u2000\\u2001\\u2002\\u2003\\u2004\\u2005\\u2006\\u2007\\u2008\\u2009\\u200a\\u202f\\u205f\\u3000\\u2028\\u2029]*\",\n",
       "\"ig\"),na=0,ba=\"S\"+(+new Date).toString(36),V=function(){return ba+(na++).toString(36)},m=\"http://www.w3.org/1999/xlink\",la=\"http://www.w3.org/2000/svg\",E={},ca=a.url=function(c){return\"url('#\"+c+\"')\"};a._.$=v;a._.id=V;a.format=function(){var c=/\\{([^\\}]+)\\}/g,a=/(?:(?:^|\\.)(.+?)(?=\\[|\\.|$|\\()|\\[('|\")(.+?)\\2\\])(\\(\\))?/g,b=function(c,b,m){var h=m;b.replace(a,function(c,a,b,m,t){a=a||m;h&&(a in h&&(h=h[a]),\"function\"==typeof h&&t&&(h=h()))});return h=(null==h||h==m?c:h)+\"\"};return function(a,m){return J(a).replace(c,\n",
       "function(c,a){return b(c,a,m)})}}();a._.clone=M;a._.cacher=A;a.rad=z;a.deg=function(c){return 180*c/C%360};a.angle=w;a.is=y;a.snapTo=function(c,a,b){b=y(b,\"finite\")?b:10;if(y(c,\"array\"))for(var m=c.length;m--;){if(Y(c[m]-a)<=b)return c[m]}else{c=+c;m=a%c;if(m<b)return a-m;if(m>c-b)return a-m+c}return a};a.getRGB=A(function(c){if(!c||(c=J(c)).indexOf(\"-\")+1)return{r:-1,g:-1,b:-1,hex:\"none\",error:1,toString:ka};if(\"none\"==c)return{r:-1,g:-1,b:-1,hex:\"none\",toString:ka};!X[h](c.toLowerCase().substring(0,\n",
       "2))&&\"#\"!=c.charAt()&&(c=T(c));if(!c)return{r:-1,g:-1,b:-1,hex:\"none\",error:1,toString:ka};var b,m,e,f,d;if(c=c.match(F)){c[2]&&(e=U(c[2].substring(5),16),m=U(c[2].substring(3,5),16),b=U(c[2].substring(1,3),16));c[3]&&(e=U((d=c[3].charAt(3))+d,16),m=U((d=c[3].charAt(2))+d,16),b=U((d=c[3].charAt(1))+d,16));c[4]&&(d=c[4].split(S),b=K(d[0]),\"%\"==d[0].slice(-1)&&(b*=2.55),m=K(d[1]),\"%\"==d[1].slice(-1)&&(m*=2.55),e=K(d[2]),\"%\"==d[2].slice(-1)&&(e*=2.55),\"rgba\"==c[1].toLowerCase().slice(0,4)&&(f=K(d[3])),\n",
       "d[3]&&\"%\"==d[3].slice(-1)&&(f/=100));if(c[5])return d=c[5].split(S),b=K(d[0]),\"%\"==d[0].slice(-1)&&(b/=100),m=K(d[1]),\"%\"==d[1].slice(-1)&&(m/=100),e=K(d[2]),\"%\"==d[2].slice(-1)&&(e/=100),\"deg\"!=d[0].slice(-3)&&\"\\u00b0\"!=d[0].slice(-1)||(b/=360),\"hsba\"==c[1].toLowerCase().slice(0,4)&&(f=K(d[3])),d[3]&&\"%\"==d[3].slice(-1)&&(f/=100),a.hsb2rgb(b,m,e,f);if(c[6])return d=c[6].split(S),b=K(d[0]),\"%\"==d[0].slice(-1)&&(b/=100),m=K(d[1]),\"%\"==d[1].slice(-1)&&(m/=100),e=K(d[2]),\"%\"==d[2].slice(-1)&&(e/=100),\n",
       "\"deg\"!=d[0].slice(-3)&&\"\\u00b0\"!=d[0].slice(-1)||(b/=360),\"hsla\"==c[1].toLowerCase().slice(0,4)&&(f=K(d[3])),d[3]&&\"%\"==d[3].slice(-1)&&(f/=100),a.hsl2rgb(b,m,e,f);b=Q(I.round(b),255);m=Q(I.round(m),255);e=Q(I.round(e),255);f=Q(P(f,0),1);c={r:b,g:m,b:e,toString:ka};c.hex=\"#\"+(16777216|e|m<<8|b<<16).toString(16).slice(1);c.opacity=y(f,\"finite\")?f:1;return c}return{r:-1,g:-1,b:-1,hex:\"none\",error:1,toString:ka}},a);a.hsb=A(function(c,b,m){return a.hsb2rgb(c,b,m).hex});a.hsl=A(function(c,b,m){return a.hsl2rgb(c,\n",
       "b,m).hex});a.rgb=A(function(c,a,b,m){if(y(m,\"finite\")){var e=I.round;return\"rgba(\"+[e(c),e(a),e(b),+m.toFixed(2)]+\")\"}return\"#\"+(16777216|b|a<<8|c<<16).toString(16).slice(1)});var T=function(c){var a=G.doc.getElementsByTagName(\"head\")[0]||G.doc.getElementsByTagName(\"svg\")[0];T=A(function(c){if(\"red\"==c.toLowerCase())return\"rgb(255, 0, 0)\";a.style.color=\"rgb(255, 0, 0)\";a.style.color=c;c=G.doc.defaultView.getComputedStyle(a,aa).getPropertyValue(\"color\");return\"rgb(255, 0, 0)\"==c?null:c});return T(c)},\n",
       "qa=function(){return\"hsb(\"+[this.h,this.s,this.b]+\")\"},ra=function(){return\"hsl(\"+[this.h,this.s,this.l]+\")\"},ka=function(){return 1==this.opacity||null==this.opacity?this.hex:\"rgba(\"+[this.r,this.g,this.b,this.opacity]+\")\"},D=function(c,b,m){null==b&&y(c,\"object\")&&\"r\"in c&&\"g\"in c&&\"b\"in c&&(m=c.b,b=c.g,c=c.r);null==b&&y(c,string)&&(m=a.getRGB(c),c=m.r,b=m.g,m=m.b);if(1<c||1<b||1<m)c/=255,b/=255,m/=255;return[c,b,m]},oa=function(c,b,m,e){c=I.round(255*c);b=I.round(255*b);m=I.round(255*m);c={r:c,\n",
       "g:b,b:m,opacity:y(e,\"finite\")?e:1,hex:a.rgb(c,b,m),toString:ka};y(e,\"finite\")&&(c.opacity=e);return c};a.color=function(c){var b;y(c,\"object\")&&\"h\"in c&&\"s\"in c&&\"b\"in c?(b=a.hsb2rgb(c),c.r=b.r,c.g=b.g,c.b=b.b,c.opacity=1,c.hex=b.hex):y(c,\"object\")&&\"h\"in c&&\"s\"in c&&\"l\"in c?(b=a.hsl2rgb(c),c.r=b.r,c.g=b.g,c.b=b.b,c.opacity=1,c.hex=b.hex):(y(c,\"string\")&&(c=a.getRGB(c)),y(c,\"object\")&&\"r\"in c&&\"g\"in c&&\"b\"in c&&!(\"error\"in c)?(b=a.rgb2hsl(c),c.h=b.h,c.s=b.s,c.l=b.l,b=a.rgb2hsb(c),c.v=b.b):(c={hex:\"none\"},\n",
       "c.r=c.g=c.b=c.h=c.s=c.v=c.l=-1,c.error=1));c.toString=ka;return c};a.hsb2rgb=function(c,a,b,m){y(c,\"object\")&&\"h\"in c&&\"s\"in c&&\"b\"in c&&(b=c.b,a=c.s,c=c.h,m=c.o);var e,h,d;c=360*c%360/60;d=b*a;a=d*(1-Y(c%2-1));b=e=h=b-d;c=~~c;b+=[d,a,0,0,a,d][c];e+=[a,d,d,a,0,0][c];h+=[0,0,a,d,d,a][c];return oa(b,e,h,m)};a.hsl2rgb=function(c,a,b,m){y(c,\"object\")&&\"h\"in c&&\"s\"in c&&\"l\"in c&&(b=c.l,a=c.s,c=c.h);if(1<c||1<a||1<b)c/=360,a/=100,b/=100;var e,h,d;c=360*c%360/60;d=2*a*(0.5>b?b:1-b);a=d*(1-Y(c%2-1));b=e=\n",
       "h=b-d/2;c=~~c;b+=[d,a,0,0,a,d][c];e+=[a,d,d,a,0,0][c];h+=[0,0,a,d,d,a][c];return oa(b,e,h,m)};a.rgb2hsb=function(c,a,b){b=D(c,a,b);c=b[0];a=b[1];b=b[2];var m,e;m=P(c,a,b);e=m-Q(c,a,b);c=((0==e?0:m==c?(a-b)/e:m==a?(b-c)/e+2:(c-a)/e+4)+360)%6*60/360;return{h:c,s:0==e?0:e/m,b:m,toString:qa}};a.rgb2hsl=function(c,a,b){b=D(c,a,b);c=b[0];a=b[1];b=b[2];var m,e,h;m=P(c,a,b);e=Q(c,a,b);h=m-e;c=((0==h?0:m==c?(a-b)/h:m==a?(b-c)/h+2:(c-a)/h+4)+360)%6*60/360;m=(m+e)/2;return{h:c,s:0==h?0:0.5>m?h/(2*m):h/(2-2*\n",
       "m),l:m,toString:ra}};a.parsePathString=function(c){if(!c)return null;var b=a.path(c);if(b.arr)return a.path.clone(b.arr);var m={a:7,c:6,o:2,h:1,l:2,m:2,r:4,q:4,s:4,t:2,v:1,u:3,z:0},e=[];y(c,\"array\")&&y(c[0],\"array\")&&(e=a.path.clone(c));e.length||J(c).replace(W,function(c,a,b){var h=[];c=a.toLowerCase();b.replace(Z,function(c,a){a&&h.push(+a)});\"m\"==c&&2<h.length&&(e.push([a].concat(h.splice(0,2))),c=\"l\",a=\"m\"==a?\"l\":\"L\");\"o\"==c&&1==h.length&&e.push([a,h[0] ]);if(\"r\"==c)e.push([a].concat(h));else for(;h.length>=\n",
       "m[c]&&(e.push([a].concat(h.splice(0,m[c]))),m[c]););});e.toString=a.path.toString;b.arr=a.path.clone(e);return e};var O=a.parseTransformString=function(c){if(!c)return null;var b=[];y(c,\"array\")&&y(c[0],\"array\")&&(b=a.path.clone(c));b.length||J(c).replace(ma,function(c,a,m){var e=[];a.toLowerCase();m.replace(Z,function(c,a){a&&e.push(+a)});b.push([a].concat(e))});b.toString=a.path.toString;return b};a._.svgTransform2string=d;a._.rgTransform=RegExp(\"^[a-z][\\t\\n\\x0B\\f\\r \\u00a0\\u1680\\u180e\\u2000\\u2001\\u2002\\u2003\\u2004\\u2005\\u2006\\u2007\\u2008\\u2009\\u200a\\u202f\\u205f\\u3000\\u2028\\u2029]*-?\\\\.?\\\\d\",\n",
       "\"i\");a._.transform2matrix=f;a._unit2px=b;a._.getSomeDefs=u;a._.getSomeSVG=p;a.select=function(c){return x(G.doc.querySelector(c))};a.selectAll=function(c){c=G.doc.querySelectorAll(c);for(var b=(a.set||Array)(),m=0;m<c.length;m++)b.push(x(c[m]));return b};setInterval(function(){for(var c in E)if(E[h](c)){var a=E[c],b=a.node;(\"svg\"!=a.type&&!b.ownerSVGElement||\"svg\"==a.type&&(!b.parentNode||\"ownerSVGElement\"in b.parentNode&&!b.ownerSVGElement))&&delete E[c]}},1E4);(function(c){function m(c){function a(c,\n",
       "b){var m=v(c.node,b);(m=(m=m&&m.match(d))&&m[2])&&\"#\"==m.charAt()&&(m=m.substring(1))&&(f[m]=(f[m]||[]).concat(function(a){var m={};m[b]=ca(a);v(c.node,m)}))}function b(c){var a=v(c.node,\"xlink:href\");a&&\"#\"==a.charAt()&&(a=a.substring(1))&&(f[a]=(f[a]||[]).concat(function(a){c.attr(\"xlink:href\",\"#\"+a)}))}var e=c.selectAll(\"*\"),h,d=/^\\s*url\\((\"|'|)(.*)\\1\\)\\s*$/;c=[];for(var f={},l=0,E=e.length;l<E;l++){h=e[l];a(h,\"fill\");a(h,\"stroke\");a(h,\"filter\");a(h,\"mask\");a(h,\"clip-path\");b(h);var t=v(h.node,\n",
       "\"id\");t&&(v(h.node,{id:h.id}),c.push({old:t,id:h.id}))}l=0;for(E=c.length;l<E;l++)if(e=f[c[l].old])for(h=0,t=e.length;h<t;h++)e[h](c[l].id)}function e(c,a,b){return function(m){m=m.slice(c,a);1==m.length&&(m=m[0]);return b?b(m):m}}function d(c){return function(){var a=c?\"<\"+this.type:\"\",b=this.node.attributes,m=this.node.childNodes;if(c)for(var e=0,h=b.length;e<h;e++)a+=\" \"+b[e].name+'=\"'+b[e].value.replace(/\"/g,'\\\\\"')+'\"';if(m.length){c&&(a+=\">\");e=0;for(h=m.length;e<h;e++)3==m[e].nodeType?a+=m[e].nodeValue:\n",
       "1==m[e].nodeType&&(a+=x(m[e]).toString());c&&(a+=\"</\"+this.type+\">\")}else c&&(a+=\"/>\");return a}}c.attr=function(c,a){if(!c)return this;if(y(c,\"string\"))if(1<arguments.length){var b={};b[c]=a;c=b}else return k(\"snap.util.getattr.\"+c,this).firstDefined();for(var m in c)c[h](m)&&k(\"snap.util.attr.\"+m,this,c[m]);return this};c.getBBox=function(c){if(!a.Matrix||!a.path)return this.node.getBBox();var b=this,m=new a.Matrix;if(b.removed)return a._.box();for(;\"use\"==b.type;)if(c||(m=m.add(b.transform().localMatrix.translate(b.attr(\"x\")||\n",
       "0,b.attr(\"y\")||0))),b.original)b=b.original;else var e=b.attr(\"xlink:href\"),b=b.original=b.node.ownerDocument.getElementById(e.substring(e.indexOf(\"#\")+1));var e=b._,h=a.path.get[b.type]||a.path.get.deflt;try{if(c)return e.bboxwt=h?a.path.getBBox(b.realPath=h(b)):a._.box(b.node.getBBox()),a._.box(e.bboxwt);b.realPath=h(b);b.matrix=b.transform().localMatrix;e.bbox=a.path.getBBox(a.path.map(b.realPath,m.add(b.matrix)));return a._.box(e.bbox)}catch(d){return a._.box()}};var f=function(){return this.string};\n",
       "c.transform=function(c){var b=this._;if(null==c){var m=this;c=new a.Matrix(this.node.getCTM());for(var e=n(this),h=[e],d=new a.Matrix,l=e.toTransformString(),b=J(e)==J(this.matrix)?J(b.transform):l;\"svg\"!=m.type&&(m=m.parent());)h.push(n(m));for(m=h.length;m--;)d.add(h[m]);return{string:b,globalMatrix:c,totalMatrix:d,localMatrix:e,diffMatrix:c.clone().add(e.invert()),global:c.toTransformString(),total:d.toTransformString(),local:l,toString:f}}c instanceof a.Matrix?this.matrix=c:n(this,c);this.node&&\n",
       "(\"linearGradient\"==this.type||\"radialGradient\"==this.type?v(this.node,{gradientTransform:this.matrix}):\"pattern\"==this.type?v(this.node,{patternTransform:this.matrix}):v(this.node,{transform:this.matrix}));return this};c.parent=function(){return x(this.node.parentNode)};c.append=c.add=function(c){if(c){if(\"set\"==c.type){var a=this;c.forEach(function(c){a.add(c)});return this}c=x(c);this.node.appendChild(c.node);c.paper=this.paper}return this};c.appendTo=function(c){c&&(c=x(c),c.append(this));return this};\n",
       "c.prepend=function(c){if(c){if(\"set\"==c.type){var a=this,b;c.forEach(function(c){b?b.after(c):a.prepend(c);b=c});return this}c=x(c);var m=c.parent();this.node.insertBefore(c.node,this.node.firstChild);this.add&&this.add();c.paper=this.paper;this.parent()&&this.parent().add();m&&m.add()}return this};c.prependTo=function(c){c=x(c);c.prepend(this);return this};c.before=function(c){if(\"set\"==c.type){var a=this;c.forEach(function(c){var b=c.parent();a.node.parentNode.insertBefore(c.node,a.node);b&&b.add()});\n",
       "this.parent().add();return this}c=x(c);var b=c.parent();this.node.parentNode.insertBefore(c.node,this.node);this.parent()&&this.parent().add();b&&b.add();c.paper=this.paper;return this};c.after=function(c){c=x(c);var a=c.parent();this.node.nextSibling?this.node.parentNode.insertBefore(c.node,this.node.nextSibling):this.node.parentNode.appendChild(c.node);this.parent()&&this.parent().add();a&&a.add();c.paper=this.paper;return this};c.insertBefore=function(c){c=x(c);var a=this.parent();c.node.parentNode.insertBefore(this.node,\n",
       "c.node);this.paper=c.paper;a&&a.add();c.parent()&&c.parent().add();return this};c.insertAfter=function(c){c=x(c);var a=this.parent();c.node.parentNode.insertBefore(this.node,c.node.nextSibling);this.paper=c.paper;a&&a.add();c.parent()&&c.parent().add();return this};c.remove=function(){var c=this.parent();this.node.parentNode&&this.node.parentNode.removeChild(this.node);delete this.paper;this.removed=!0;c&&c.add();return this};c.select=function(c){return x(this.node.querySelector(c))};c.selectAll=\n",
       "function(c){c=this.node.querySelectorAll(c);for(var b=(a.set||Array)(),m=0;m<c.length;m++)b.push(x(c[m]));return b};c.asPX=function(c,a){null==a&&(a=this.attr(c));return+b(this,c,a)};c.use=function(){var c,a=this.node.id;a||(a=this.id,v(this.node,{id:a}));c=\"linearGradient\"==this.type||\"radialGradient\"==this.type||\"pattern\"==this.type?r(this.type,this.node.parentNode):r(\"use\",this.node.parentNode);v(c.node,{\"xlink:href\":\"#\"+a});c.original=this;return c};var l=/\\S+/g;c.addClass=function(c){var a=(c||\n",
       "\"\").match(l)||[];c=this.node;var b=c.className.baseVal,m=b.match(l)||[],e,h,d;if(a.length){for(e=0;d=a[e++];)h=m.indexOf(d),~h||m.push(d);a=m.join(\" \");b!=a&&(c.className.baseVal=a)}return this};c.removeClass=function(c){var a=(c||\"\").match(l)||[];c=this.node;var b=c.className.baseVal,m=b.match(l)||[],e,h;if(m.length){for(e=0;h=a[e++];)h=m.indexOf(h),~h&&m.splice(h,1);a=m.join(\" \");b!=a&&(c.className.baseVal=a)}return this};c.hasClass=function(c){return!!~(this.node.className.baseVal.match(l)||[]).indexOf(c)};\n",
       "c.toggleClass=function(c,a){if(null!=a)return a?this.addClass(c):this.removeClass(c);var b=(c||\"\").match(l)||[],m=this.node,e=m.className.baseVal,h=e.match(l)||[],d,f,E;for(d=0;E=b[d++];)f=h.indexOf(E),~f?h.splice(f,1):h.push(E);b=h.join(\" \");e!=b&&(m.className.baseVal=b);return this};c.clone=function(){var c=x(this.node.cloneNode(!0));v(c.node,\"id\")&&v(c.node,{id:c.id});m(c);c.insertAfter(this);return c};c.toDefs=function(){u(this).appendChild(this.node);return this};c.pattern=c.toPattern=function(c,\n",
       "a,b,m){var e=r(\"pattern\",u(this));null==c&&(c=this.getBBox());y(c,\"object\")&&\"x\"in c&&(a=c.y,b=c.width,m=c.height,c=c.x);v(e.node,{x:c,y:a,width:b,height:m,patternUnits:\"userSpaceOnUse\",id:e.id,viewBox:[c,a,b,m].join(\" \")});e.node.appendChild(this.node);return e};c.marker=function(c,a,b,m,e,h){var d=r(\"marker\",u(this));null==c&&(c=this.getBBox());y(c,\"object\")&&\"x\"in c&&(a=c.y,b=c.width,m=c.height,e=c.refX||c.cx,h=c.refY||c.cy,c=c.x);v(d.node,{viewBox:[c,a,b,m].join(\" \"),markerWidth:b,markerHeight:m,\n",
       "orient:\"auto\",refX:e||0,refY:h||0,id:d.id});d.node.appendChild(this.node);return d};var E=function(c,a,b,m){\"function\"!=typeof b||b.length||(m=b,b=L.linear);this.attr=c;this.dur=a;b&&(this.easing=b);m&&(this.callback=m)};a._.Animation=E;a.animation=function(c,a,b,m){return new E(c,a,b,m)};c.inAnim=function(){var c=[],a;for(a in this.anims)this.anims[h](a)&&function(a){c.push({anim:new E(a._attrs,a.dur,a.easing,a._callback),mina:a,curStatus:a.status(),status:function(c){return a.status(c)},stop:function(){a.stop()}})}(this.anims[a]);\n",
       "return c};a.animate=function(c,a,b,m,e,h){\"function\"!=typeof e||e.length||(h=e,e=L.linear);var d=L.time();c=L(c,a,d,d+m,L.time,b,e);h&&k.once(\"mina.finish.\"+c.id,h);return c};c.stop=function(){for(var c=this.inAnim(),a=0,b=c.length;a<b;a++)c[a].stop();return this};c.animate=function(c,a,b,m){\"function\"!=typeof b||b.length||(m=b,b=L.linear);c instanceof E&&(m=c.callback,b=c.easing,a=b.dur,c=c.attr);var d=[],f=[],l={},t,ca,n,T=this,q;for(q in c)if(c[h](q)){T.equal?(n=T.equal(q,J(c[q])),t=n.from,ca=\n",
       "n.to,n=n.f):(t=+T.attr(q),ca=+c[q]);var la=y(t,\"array\")?t.length:1;l[q]=e(d.length,d.length+la,n);d=d.concat(t);f=f.concat(ca)}t=L.time();var p=L(d,f,t,t+a,L.time,function(c){var a={},b;for(b in l)l[h](b)&&(a[b]=l[b](c));T.attr(a)},b);T.anims[p.id]=p;p._attrs=c;p._callback=m;k(\"snap.animcreated.\"+T.id,p);k.once(\"mina.finish.\"+p.id,function(){delete T.anims[p.id];m&&m.call(T)});k.once(\"mina.stop.\"+p.id,function(){delete T.anims[p.id]});return T};var T={};c.data=function(c,b){var m=T[this.id]=T[this.id]||\n",
       "{};if(0==arguments.length)return k(\"snap.data.get.\"+this.id,this,m,null),m;if(1==arguments.length){if(a.is(c,\"object\")){for(var e in c)c[h](e)&&this.data(e,c[e]);return this}k(\"snap.data.get.\"+this.id,this,m[c],c);return m[c]}m[c]=b;k(\"snap.data.set.\"+this.id,this,b,c);return this};c.removeData=function(c){null==c?T[this.id]={}:T[this.id]&&delete T[this.id][c];return this};c.outerSVG=c.toString=d(1);c.innerSVG=d()})(e.prototype);a.parse=function(c){var a=G.doc.createDocumentFragment(),b=!0,m=G.doc.createElement(\"div\");\n",
       "c=J(c);c.match(/^\\s*<\\s*svg(?:\\s|>)/)||(c=\"<svg>\"+c+\"</svg>\",b=!1);m.innerHTML=c;if(c=m.getElementsByTagName(\"svg\")[0])if(b)a=c;else for(;c.firstChild;)a.appendChild(c.firstChild);m.innerHTML=aa;return new l(a)};l.prototype.select=e.prototype.select;l.prototype.selectAll=e.prototype.selectAll;a.fragment=function(){for(var c=Array.prototype.slice.call(arguments,0),b=G.doc.createDocumentFragment(),m=0,e=c.length;m<e;m++){var h=c[m];h.node&&h.node.nodeType&&b.appendChild(h.node);h.nodeType&&b.appendChild(h);\n",
       "\"string\"==typeof h&&b.appendChild(a.parse(h).node)}return new l(b)};a._.make=r;a._.wrap=x;s.prototype.el=function(c,a){var b=r(c,this.node);a&&b.attr(a);return b};k.on(\"snap.util.getattr\",function(){var c=k.nt(),c=c.substring(c.lastIndexOf(\".\")+1),a=c.replace(/[A-Z]/g,function(c){return\"-\"+c.toLowerCase()});return pa[h](a)?this.node.ownerDocument.defaultView.getComputedStyle(this.node,null).getPropertyValue(a):v(this.node,c)});var pa={\"alignment-baseline\":0,\"baseline-shift\":0,clip:0,\"clip-path\":0,\n",
       "\"clip-rule\":0,color:0,\"color-interpolation\":0,\"color-interpolation-filters\":0,\"color-profile\":0,\"color-rendering\":0,cursor:0,direction:0,display:0,\"dominant-baseline\":0,\"enable-background\":0,fill:0,\"fill-opacity\":0,\"fill-rule\":0,filter:0,\"flood-color\":0,\"flood-opacity\":0,font:0,\"font-family\":0,\"font-size\":0,\"font-size-adjust\":0,\"font-stretch\":0,\"font-style\":0,\"font-variant\":0,\"font-weight\":0,\"glyph-orientation-horizontal\":0,\"glyph-orientation-vertical\":0,\"image-rendering\":0,kerning:0,\"letter-spacing\":0,\n",
       "\"lighting-color\":0,marker:0,\"marker-end\":0,\"marker-mid\":0,\"marker-start\":0,mask:0,opacity:0,overflow:0,\"pointer-events\":0,\"shape-rendering\":0,\"stop-color\":0,\"stop-opacity\":0,stroke:0,\"stroke-dasharray\":0,\"stroke-dashoffset\":0,\"stroke-linecap\":0,\"stroke-linejoin\":0,\"stroke-miterlimit\":0,\"stroke-opacity\":0,\"stroke-width\":0,\"text-anchor\":0,\"text-decoration\":0,\"text-rendering\":0,\"unicode-bidi\":0,visibility:0,\"word-spacing\":0,\"writing-mode\":0};k.on(\"snap.util.attr\",function(c){var a=k.nt(),b={},a=a.substring(a.lastIndexOf(\".\")+\n",
       "1);b[a]=c;var m=a.replace(/-(\\w)/gi,function(c,a){return a.toUpperCase()}),a=a.replace(/[A-Z]/g,function(c){return\"-\"+c.toLowerCase()});pa[h](a)?this.node.style[m]=null==c?aa:c:v(this.node,b)});a.ajax=function(c,a,b,m){var e=new XMLHttpRequest,h=V();if(e){if(y(a,\"function\"))m=b,b=a,a=null;else if(y(a,\"object\")){var d=[],f;for(f in a)a.hasOwnProperty(f)&&d.push(encodeURIComponent(f)+\"=\"+encodeURIComponent(a[f]));a=d.join(\"&\")}e.open(a?\"POST\":\"GET\",c,!0);a&&(e.setRequestHeader(\"X-Requested-With\",\"XMLHttpRequest\"),\n",
       "e.setRequestHeader(\"Content-type\",\"application/x-www-form-urlencoded\"));b&&(k.once(\"snap.ajax.\"+h+\".0\",b),k.once(\"snap.ajax.\"+h+\".200\",b),k.once(\"snap.ajax.\"+h+\".304\",b));e.onreadystatechange=function(){4==e.readyState&&k(\"snap.ajax.\"+h+\".\"+e.status,m,e)};if(4==e.readyState)return e;e.send(a);return e}};a.load=function(c,b,m){a.ajax(c,function(c){c=a.parse(c.responseText);m?b.call(m,c):b(c)})};a.getElementByPoint=function(c,a){var b,m,e=G.doc.elementFromPoint(c,a);if(G.win.opera&&\"svg\"==e.tagName){b=\n",
       "e;m=b.getBoundingClientRect();b=b.ownerDocument;var h=b.body,d=b.documentElement;b=m.top+(g.win.pageYOffset||d.scrollTop||h.scrollTop)-(d.clientTop||h.clientTop||0);m=m.left+(g.win.pageXOffset||d.scrollLeft||h.scrollLeft)-(d.clientLeft||h.clientLeft||0);h=e.createSVGRect();h.x=c-m;h.y=a-b;h.width=h.height=1;b=e.getIntersectionList(h,null);b.length&&(e=b[b.length-1])}return e?x(e):null};a.plugin=function(c){c(a,e,s,G,l)};return G.win.Snap=a}();C.plugin(function(a,k,y,M,A){function w(a,d,f,b,q,e){null==\n",
       "d&&\"[object SVGMatrix]\"==z.call(a)?(this.a=a.a,this.b=a.b,this.c=a.c,this.d=a.d,this.e=a.e,this.f=a.f):null!=a?(this.a=+a,this.b=+d,this.c=+f,this.d=+b,this.e=+q,this.f=+e):(this.a=1,this.c=this.b=0,this.d=1,this.f=this.e=0)}var z=Object.prototype.toString,d=String,f=Math;(function(n){function k(a){return a[0]*a[0]+a[1]*a[1]}function p(a){var d=f.sqrt(k(a));a[0]&&(a[0]/=d);a[1]&&(a[1]/=d)}n.add=function(a,d,e,f,n,p){var k=[[],[],[] ],u=[[this.a,this.c,this.e],[this.b,this.d,this.f],[0,0,1] ];d=[[a,\n",
       "e,n],[d,f,p],[0,0,1] ];a&&a instanceof w&&(d=[[a.a,a.c,a.e],[a.b,a.d,a.f],[0,0,1] ]);for(a=0;3>a;a++)for(e=0;3>e;e++){for(f=n=0;3>f;f++)n+=u[a][f]*d[f][e];k[a][e]=n}this.a=k[0][0];this.b=k[1][0];this.c=k[0][1];this.d=k[1][1];this.e=k[0][2];this.f=k[1][2];return this};n.invert=function(){var a=this.a*this.d-this.b*this.c;return new w(this.d/a,-this.b/a,-this.c/a,this.a/a,(this.c*this.f-this.d*this.e)/a,(this.b*this.e-this.a*this.f)/a)};n.clone=function(){return new w(this.a,this.b,this.c,this.d,this.e,\n",
       "this.f)};n.translate=function(a,d){return this.add(1,0,0,1,a,d)};n.scale=function(a,d,e,f){null==d&&(d=a);(e||f)&&this.add(1,0,0,1,e,f);this.add(a,0,0,d,0,0);(e||f)&&this.add(1,0,0,1,-e,-f);return this};n.rotate=function(b,d,e){b=a.rad(b);d=d||0;e=e||0;var l=+f.cos(b).toFixed(9);b=+f.sin(b).toFixed(9);this.add(l,b,-b,l,d,e);return this.add(1,0,0,1,-d,-e)};n.x=function(a,d){return a*this.a+d*this.c+this.e};n.y=function(a,d){return a*this.b+d*this.d+this.f};n.get=function(a){return+this[d.fromCharCode(97+\n",
       "a)].toFixed(4)};n.toString=function(){return\"matrix(\"+[this.get(0),this.get(1),this.get(2),this.get(3),this.get(4),this.get(5)].join()+\")\"};n.offset=function(){return[this.e.toFixed(4),this.f.toFixed(4)]};n.determinant=function(){return this.a*this.d-this.b*this.c};n.split=function(){var b={};b.dx=this.e;b.dy=this.f;var d=[[this.a,this.c],[this.b,this.d] ];b.scalex=f.sqrt(k(d[0]));p(d[0]);b.shear=d[0][0]*d[1][0]+d[0][1]*d[1][1];d[1]=[d[1][0]-d[0][0]*b.shear,d[1][1]-d[0][1]*b.shear];b.scaley=f.sqrt(k(d[1]));\n",
       "p(d[1]);b.shear/=b.scaley;0>this.determinant()&&(b.scalex=-b.scalex);var e=-d[0][1],d=d[1][1];0>d?(b.rotate=a.deg(f.acos(d)),0>e&&(b.rotate=360-b.rotate)):b.rotate=a.deg(f.asin(e));b.isSimple=!+b.shear.toFixed(9)&&(b.scalex.toFixed(9)==b.scaley.toFixed(9)||!b.rotate);b.isSuperSimple=!+b.shear.toFixed(9)&&b.scalex.toFixed(9)==b.scaley.toFixed(9)&&!b.rotate;b.noRotation=!+b.shear.toFixed(9)&&!b.rotate;return b};n.toTransformString=function(a){a=a||this.split();if(+a.shear.toFixed(9))return\"m\"+[this.get(0),\n",
       "this.get(1),this.get(2),this.get(3),this.get(4),this.get(5)];a.scalex=+a.scalex.toFixed(4);a.scaley=+a.scaley.toFixed(4);a.rotate=+a.rotate.toFixed(4);return(a.dx||a.dy?\"t\"+[+a.dx.toFixed(4),+a.dy.toFixed(4)]:\"\")+(1!=a.scalex||1!=a.scaley?\"s\"+[a.scalex,a.scaley,0,0]:\"\")+(a.rotate?\"r\"+[+a.rotate.toFixed(4),0,0]:\"\")}})(w.prototype);a.Matrix=w;a.matrix=function(a,d,f,b,k,e){return new w(a,d,f,b,k,e)}});C.plugin(function(a,v,y,M,A){function w(h){return function(d){k.stop();d instanceof A&&1==d.node.childNodes.length&&\n",
       "(\"radialGradient\"==d.node.firstChild.tagName||\"linearGradient\"==d.node.firstChild.tagName||\"pattern\"==d.node.firstChild.tagName)&&(d=d.node.firstChild,b(this).appendChild(d),d=u(d));if(d instanceof v)if(\"radialGradient\"==d.type||\"linearGradient\"==d.type||\"pattern\"==d.type){d.node.id||e(d.node,{id:d.id});var f=l(d.node.id)}else f=d.attr(h);else f=a.color(d),f.error?(f=a(b(this).ownerSVGElement).gradient(d))?(f.node.id||e(f.node,{id:f.id}),f=l(f.node.id)):f=d:f=r(f);d={};d[h]=f;e(this.node,d);this.node.style[h]=\n",
       "x}}function z(a){k.stop();a==+a&&(a+=\"px\");this.node.style.fontSize=a}function d(a){var b=[];a=a.childNodes;for(var e=0,f=a.length;e<f;e++){var l=a[e];3==l.nodeType&&b.push(l.nodeValue);\"tspan\"==l.tagName&&(1==l.childNodes.length&&3==l.firstChild.nodeType?b.push(l.firstChild.nodeValue):b.push(d(l)))}return b}function f(){k.stop();return this.node.style.fontSize}var n=a._.make,u=a._.wrap,p=a.is,b=a._.getSomeDefs,q=/^url\\(#?([^)]+)\\)$/,e=a._.$,l=a.url,r=String,s=a._.separator,x=\"\";k.on(\"snap.util.attr.mask\",\n",
       "function(a){if(a instanceof v||a instanceof A){k.stop();a instanceof A&&1==a.node.childNodes.length&&(a=a.node.firstChild,b(this).appendChild(a),a=u(a));if(\"mask\"==a.type)var d=a;else d=n(\"mask\",b(this)),d.node.appendChild(a.node);!d.node.id&&e(d.node,{id:d.id});e(this.node,{mask:l(d.id)})}});(function(a){k.on(\"snap.util.attr.clip\",a);k.on(\"snap.util.attr.clip-path\",a);k.on(\"snap.util.attr.clipPath\",a)})(function(a){if(a instanceof v||a instanceof A){k.stop();if(\"clipPath\"==a.type)var d=a;else d=\n",
       "n(\"clipPath\",b(this)),d.node.appendChild(a.node),!d.node.id&&e(d.node,{id:d.id});e(this.node,{\"clip-path\":l(d.id)})}});k.on(\"snap.util.attr.fill\",w(\"fill\"));k.on(\"snap.util.attr.stroke\",w(\"stroke\"));var G=/^([lr])(?:\\(([^)]*)\\))?(.*)$/i;k.on(\"snap.util.grad.parse\",function(a){a=r(a);var b=a.match(G);if(!b)return null;a=b[1];var e=b[2],b=b[3],e=e.split(/\\s*,\\s*/).map(function(a){return+a==a?+a:a});1==e.length&&0==e[0]&&(e=[]);b=b.split(\"-\");b=b.map(function(a){a=a.split(\":\");var b={color:a[0]};a[1]&&\n",
       "(b.offset=parseFloat(a[1]));return b});return{type:a,params:e,stops:b}});k.on(\"snap.util.attr.d\",function(b){k.stop();p(b,\"array\")&&p(b[0],\"array\")&&(b=a.path.toString.call(b));b=r(b);b.match(/[ruo]/i)&&(b=a.path.toAbsolute(b));e(this.node,{d:b})})(-1);k.on(\"snap.util.attr.#text\",function(a){k.stop();a=r(a);for(a=M.doc.createTextNode(a);this.node.firstChild;)this.node.removeChild(this.node.firstChild);this.node.appendChild(a)})(-1);k.on(\"snap.util.attr.path\",function(a){k.stop();this.attr({d:a})})(-1);\n",
       "k.on(\"snap.util.attr.class\",function(a){k.stop();this.node.className.baseVal=a})(-1);k.on(\"snap.util.attr.viewBox\",function(a){a=p(a,\"object\")&&\"x\"in a?[a.x,a.y,a.width,a.height].join(\" \"):p(a,\"array\")?a.join(\" \"):a;e(this.node,{viewBox:a});k.stop()})(-1);k.on(\"snap.util.attr.transform\",function(a){this.transform(a);k.stop()})(-1);k.on(\"snap.util.attr.r\",function(a){\"rect\"==this.type&&(k.stop(),e(this.node,{rx:a,ry:a}))})(-1);k.on(\"snap.util.attr.textpath\",function(a){k.stop();if(\"text\"==this.type){var d,\n",
       "f;if(!a&&this.textPath){for(a=this.textPath;a.node.firstChild;)this.node.appendChild(a.node.firstChild);a.remove();delete this.textPath}else if(p(a,\"string\")?(d=b(this),a=u(d.parentNode).path(a),d.appendChild(a.node),d=a.id,a.attr({id:d})):(a=u(a),a instanceof v&&(d=a.attr(\"id\"),d||(d=a.id,a.attr({id:d})))),d)if(a=this.textPath,f=this.node,a)a.attr({\"xlink:href\":\"#\"+d});else{for(a=e(\"textPath\",{\"xlink:href\":\"#\"+d});f.firstChild;)a.appendChild(f.firstChild);f.appendChild(a);this.textPath=u(a)}}})(-1);\n",
       "k.on(\"snap.util.attr.text\",function(a){if(\"text\"==this.type){for(var b=this.node,d=function(a){var b=e(\"tspan\");if(p(a,\"array\"))for(var f=0;f<a.length;f++)b.appendChild(d(a[f]));else b.appendChild(M.doc.createTextNode(a));b.normalize&&b.normalize();return b};b.firstChild;)b.removeChild(b.firstChild);for(a=d(a);a.firstChild;)b.appendChild(a.firstChild)}k.stop()})(-1);k.on(\"snap.util.attr.fontSize\",z)(-1);k.on(\"snap.util.attr.font-size\",z)(-1);k.on(\"snap.util.getattr.transform\",function(){k.stop();\n",
       "return this.transform()})(-1);k.on(\"snap.util.getattr.textpath\",function(){k.stop();return this.textPath})(-1);(function(){function b(d){return function(){k.stop();var b=M.doc.defaultView.getComputedStyle(this.node,null).getPropertyValue(\"marker-\"+d);return\"none\"==b?b:a(M.doc.getElementById(b.match(q)[1]))}}function d(a){return function(b){k.stop();var d=\"marker\"+a.charAt(0).toUpperCase()+a.substring(1);if(\"\"==b||!b)this.node.style[d]=\"none\";else if(\"marker\"==b.type){var f=b.node.id;f||e(b.node,{id:b.id});\n",
       "this.node.style[d]=l(f)}}}k.on(\"snap.util.getattr.marker-end\",b(\"end\"))(-1);k.on(\"snap.util.getattr.markerEnd\",b(\"end\"))(-1);k.on(\"snap.util.getattr.marker-start\",b(\"start\"))(-1);k.on(\"snap.util.getattr.markerStart\",b(\"start\"))(-1);k.on(\"snap.util.getattr.marker-mid\",b(\"mid\"))(-1);k.on(\"snap.util.getattr.markerMid\",b(\"mid\"))(-1);k.on(\"snap.util.attr.marker-end\",d(\"end\"))(-1);k.on(\"snap.util.attr.markerEnd\",d(\"end\"))(-1);k.on(\"snap.util.attr.marker-start\",d(\"start\"))(-1);k.on(\"snap.util.attr.markerStart\",\n",
       "d(\"start\"))(-1);k.on(\"snap.util.attr.marker-mid\",d(\"mid\"))(-1);k.on(\"snap.util.attr.markerMid\",d(\"mid\"))(-1)})();k.on(\"snap.util.getattr.r\",function(){if(\"rect\"==this.type&&e(this.node,\"rx\")==e(this.node,\"ry\"))return k.stop(),e(this.node,\"rx\")})(-1);k.on(\"snap.util.getattr.text\",function(){if(\"text\"==this.type||\"tspan\"==this.type){k.stop();var a=d(this.node);return 1==a.length?a[0]:a}})(-1);k.on(\"snap.util.getattr.#text\",function(){return this.node.textContent})(-1);k.on(\"snap.util.getattr.viewBox\",\n",
       "function(){k.stop();var b=e(this.node,\"viewBox\");if(b)return b=b.split(s),a._.box(+b[0],+b[1],+b[2],+b[3])})(-1);k.on(\"snap.util.getattr.points\",function(){var a=e(this.node,\"points\");k.stop();if(a)return a.split(s)})(-1);k.on(\"snap.util.getattr.path\",function(){var a=e(this.node,\"d\");k.stop();return a})(-1);k.on(\"snap.util.getattr.class\",function(){return this.node.className.baseVal})(-1);k.on(\"snap.util.getattr.fontSize\",f)(-1);k.on(\"snap.util.getattr.font-size\",f)(-1)});C.plugin(function(a,v,y,\n",
       "M,A){function w(a){return a}function z(a){return function(b){return+b.toFixed(3)+a}}var d={\"+\":function(a,b){return a+b},\"-\":function(a,b){return a-b},\"/\":function(a,b){return a/b},\"*\":function(a,b){return a*b}},f=String,n=/[a-z]+$/i,u=/^\\s*([+\\-\\/*])\\s*=\\s*([\\d.eE+\\-]+)\\s*([^\\d\\s]+)?\\s*$/;k.on(\"snap.util.attr\",function(a){if(a=f(a).match(u)){var b=k.nt(),b=b.substring(b.lastIndexOf(\".\")+1),q=this.attr(b),e={};k.stop();var l=a[3]||\"\",r=q.match(n),s=d[a[1] ];r&&r==l?a=s(parseFloat(q),+a[2]):(q=this.asPX(b),\n",
       "a=s(this.asPX(b),this.asPX(b,a[2]+l)));isNaN(q)||isNaN(a)||(e[b]=a,this.attr(e))}})(-10);k.on(\"snap.util.equal\",function(a,b){var q=f(this.attr(a)||\"\"),e=f(b).match(u);if(e){k.stop();var l=e[3]||\"\",r=q.match(n),s=d[e[1] ];if(r&&r==l)return{from:parseFloat(q),to:s(parseFloat(q),+e[2]),f:z(r)};q=this.asPX(a);return{from:q,to:s(q,this.asPX(a,e[2]+l)),f:w}}})(-10)});C.plugin(function(a,v,y,M,A){var w=y.prototype,z=a.is;w.rect=function(a,d,k,p,b,q){var e;null==q&&(q=b);z(a,\"object\")&&\"[object Object]\"==\n",
       "a?e=a:null!=a&&(e={x:a,y:d,width:k,height:p},null!=b&&(e.rx=b,e.ry=q));return this.el(\"rect\",e)};w.circle=function(a,d,k){var p;z(a,\"object\")&&\"[object Object]\"==a?p=a:null!=a&&(p={cx:a,cy:d,r:k});return this.el(\"circle\",p)};var d=function(){function a(){this.parentNode.removeChild(this)}return function(d,k){var p=M.doc.createElement(\"img\"),b=M.doc.body;p.style.cssText=\"position:absolute;left:-9999em;top:-9999em\";p.onload=function(){k.call(p);p.onload=p.onerror=null;b.removeChild(p)};p.onerror=a;\n",
       "b.appendChild(p);p.src=d}}();w.image=function(f,n,k,p,b){var q=this.el(\"image\");if(z(f,\"object\")&&\"src\"in f)q.attr(f);else if(null!=f){var e={\"xlink:href\":f,preserveAspectRatio:\"none\"};null!=n&&null!=k&&(e.x=n,e.y=k);null!=p&&null!=b?(e.width=p,e.height=b):d(f,function(){a._.$(q.node,{width:this.offsetWidth,height:this.offsetHeight})});a._.$(q.node,e)}return q};w.ellipse=function(a,d,k,p){var b;z(a,\"object\")&&\"[object Object]\"==a?b=a:null!=a&&(b={cx:a,cy:d,rx:k,ry:p});return this.el(\"ellipse\",b)};\n",
       "w.path=function(a){var d;z(a,\"object\")&&!z(a,\"array\")?d=a:a&&(d={d:a});return this.el(\"path\",d)};w.group=w.g=function(a){var d=this.el(\"g\");1==arguments.length&&a&&!a.type?d.attr(a):arguments.length&&d.add(Array.prototype.slice.call(arguments,0));return d};w.svg=function(a,d,k,p,b,q,e,l){var r={};z(a,\"object\")&&null==d?r=a:(null!=a&&(r.x=a),null!=d&&(r.y=d),null!=k&&(r.width=k),null!=p&&(r.height=p),null!=b&&null!=q&&null!=e&&null!=l&&(r.viewBox=[b,q,e,l]));return this.el(\"svg\",r)};w.mask=function(a){var d=\n",
       "this.el(\"mask\");1==arguments.length&&a&&!a.type?d.attr(a):arguments.length&&d.add(Array.prototype.slice.call(arguments,0));return d};w.ptrn=function(a,d,k,p,b,q,e,l){if(z(a,\"object\"))var r=a;else arguments.length?(r={},null!=a&&(r.x=a),null!=d&&(r.y=d),null!=k&&(r.width=k),null!=p&&(r.height=p),null!=b&&null!=q&&null!=e&&null!=l&&(r.viewBox=[b,q,e,l])):r={patternUnits:\"userSpaceOnUse\"};return this.el(\"pattern\",r)};w.use=function(a){return null!=a?(make(\"use\",this.node),a instanceof v&&(a.attr(\"id\")||\n",
       "a.attr({id:ID()}),a=a.attr(\"id\")),this.el(\"use\",{\"xlink:href\":a})):v.prototype.use.call(this)};w.text=function(a,d,k){var p={};z(a,\"object\")?p=a:null!=a&&(p={x:a,y:d,text:k||\"\"});return this.el(\"text\",p)};w.line=function(a,d,k,p){var b={};z(a,\"object\")?b=a:null!=a&&(b={x1:a,x2:k,y1:d,y2:p});return this.el(\"line\",b)};w.polyline=function(a){1<arguments.length&&(a=Array.prototype.slice.call(arguments,0));var d={};z(a,\"object\")&&!z(a,\"array\")?d=a:null!=a&&(d={points:a});return this.el(\"polyline\",d)};\n",
       "w.polygon=function(a){1<arguments.length&&(a=Array.prototype.slice.call(arguments,0));var d={};z(a,\"object\")&&!z(a,\"array\")?d=a:null!=a&&(d={points:a});return this.el(\"polygon\",d)};(function(){function d(){return this.selectAll(\"stop\")}function n(b,d){var f=e(\"stop\"),k={offset:+d+\"%\"};b=a.color(b);k[\"stop-color\"]=b.hex;1>b.opacity&&(k[\"stop-opacity\"]=b.opacity);e(f,k);this.node.appendChild(f);return this}function u(){if(\"linearGradient\"==this.type){var b=e(this.node,\"x1\")||0,d=e(this.node,\"x2\")||\n",
       "1,f=e(this.node,\"y1\")||0,k=e(this.node,\"y2\")||0;return a._.box(b,f,math.abs(d-b),math.abs(k-f))}b=this.node.r||0;return a._.box((this.node.cx||0.5)-b,(this.node.cy||0.5)-b,2*b,2*b)}function p(a,d){function f(a,b){for(var d=(b-u)/(a-w),e=w;e<a;e++)h[e].offset=+(+u+d*(e-w)).toFixed(2);w=a;u=b}var n=k(\"snap.util.grad.parse\",null,d).firstDefined(),p;if(!n)return null;n.params.unshift(a);p=\"l\"==n.type.toLowerCase()?b.apply(0,n.params):q.apply(0,n.params);n.type!=n.type.toLowerCase()&&e(p.node,{gradientUnits:\"userSpaceOnUse\"});\n",
       "var h=n.stops,n=h.length,u=0,w=0;n--;for(var v=0;v<n;v++)\"offset\"in h[v]&&f(v,h[v].offset);h[n].offset=h[n].offset||100;f(n,h[n].offset);for(v=0;v<=n;v++){var y=h[v];p.addStop(y.color,y.offset)}return p}function b(b,k,p,q,w){b=a._.make(\"linearGradient\",b);b.stops=d;b.addStop=n;b.getBBox=u;null!=k&&e(b.node,{x1:k,y1:p,x2:q,y2:w});return b}function q(b,k,p,q,w,h){b=a._.make(\"radialGradient\",b);b.stops=d;b.addStop=n;b.getBBox=u;null!=k&&e(b.node,{cx:k,cy:p,r:q});null!=w&&null!=h&&e(b.node,{fx:w,fy:h});\n",
       "return b}var e=a._.$;w.gradient=function(a){return p(this.defs,a)};w.gradientLinear=function(a,d,e,f){return b(this.defs,a,d,e,f)};w.gradientRadial=function(a,b,d,e,f){return q(this.defs,a,b,d,e,f)};w.toString=function(){var b=this.node.ownerDocument,d=b.createDocumentFragment(),b=b.createElement(\"div\"),e=this.node.cloneNode(!0);d.appendChild(b);b.appendChild(e);a._.$(e,{xmlns:\"http://www.w3.org/2000/svg\"});b=b.innerHTML;d.removeChild(d.firstChild);return b};w.clear=function(){for(var a=this.node.firstChild,\n",
       "b;a;)b=a.nextSibling,\"defs\"!=a.tagName?a.parentNode.removeChild(a):w.clear.call({node:a}),a=b}})()});C.plugin(function(a,k,y,M){function A(a){var b=A.ps=A.ps||{};b[a]?b[a].sleep=100:b[a]={sleep:100};setTimeout(function(){for(var d in b)b[L](d)&&d!=a&&(b[d].sleep--,!b[d].sleep&&delete b[d])});return b[a]}function w(a,b,d,e){null==a&&(a=b=d=e=0);null==b&&(b=a.y,d=a.width,e=a.height,a=a.x);return{x:a,y:b,width:d,w:d,height:e,h:e,x2:a+d,y2:b+e,cx:a+d/2,cy:b+e/2,r1:F.min(d,e)/2,r2:F.max(d,e)/2,r0:F.sqrt(d*\n",
       "d+e*e)/2,path:s(a,b,d,e),vb:[a,b,d,e].join(\" \")}}function z(){return this.join(\",\").replace(N,\"$1\")}function d(a){a=C(a);a.toString=z;return a}function f(a,b,d,h,f,k,l,n,p){if(null==p)return e(a,b,d,h,f,k,l,n);if(0>p||e(a,b,d,h,f,k,l,n)<p)p=void 0;else{var q=0.5,O=1-q,s;for(s=e(a,b,d,h,f,k,l,n,O);0.01<Z(s-p);)q/=2,O+=(s<p?1:-1)*q,s=e(a,b,d,h,f,k,l,n,O);p=O}return u(a,b,d,h,f,k,l,n,p)}function n(b,d){function e(a){return+(+a).toFixed(3)}return a._.cacher(function(a,h,l){a instanceof k&&(a=a.attr(\"d\"));\n",
       "a=I(a);for(var n,p,D,q,O=\"\",s={},c=0,t=0,r=a.length;t<r;t++){D=a[t];if(\"M\"==D[0])n=+D[1],p=+D[2];else{q=f(n,p,D[1],D[2],D[3],D[4],D[5],D[6]);if(c+q>h){if(d&&!s.start){n=f(n,p,D[1],D[2],D[3],D[4],D[5],D[6],h-c);O+=[\"C\"+e(n.start.x),e(n.start.y),e(n.m.x),e(n.m.y),e(n.x),e(n.y)];if(l)return O;s.start=O;O=[\"M\"+e(n.x),e(n.y)+\"C\"+e(n.n.x),e(n.n.y),e(n.end.x),e(n.end.y),e(D[5]),e(D[6])].join();c+=q;n=+D[5];p=+D[6];continue}if(!b&&!d)return n=f(n,p,D[1],D[2],D[3],D[4],D[5],D[6],h-c)}c+=q;n=+D[5];p=+D[6]}O+=\n",
       "D.shift()+D}s.end=O;return n=b?c:d?s:u(n,p,D[0],D[1],D[2],D[3],D[4],D[5],1)},null,a._.clone)}function u(a,b,d,e,h,f,k,l,n){var p=1-n,q=ma(p,3),s=ma(p,2),c=n*n,t=c*n,r=q*a+3*s*n*d+3*p*n*n*h+t*k,q=q*b+3*s*n*e+3*p*n*n*f+t*l,s=a+2*n*(d-a)+c*(h-2*d+a),t=b+2*n*(e-b)+c*(f-2*e+b),x=d+2*n*(h-d)+c*(k-2*h+d),c=e+2*n*(f-e)+c*(l-2*f+e);a=p*a+n*d;b=p*b+n*e;h=p*h+n*k;f=p*f+n*l;l=90-180*F.atan2(s-x,t-c)/S;return{x:r,y:q,m:{x:s,y:t},n:{x:x,y:c},start:{x:a,y:b},end:{x:h,y:f},alpha:l}}function p(b,d,e,h,f,n,k,l){a.is(b,\n",
       "\"array\")||(b=[b,d,e,h,f,n,k,l]);b=U.apply(null,b);return w(b.min.x,b.min.y,b.max.x-b.min.x,b.max.y-b.min.y)}function b(a,b,d){return b>=a.x&&b<=a.x+a.width&&d>=a.y&&d<=a.y+a.height}function q(a,d){a=w(a);d=w(d);return b(d,a.x,a.y)||b(d,a.x2,a.y)||b(d,a.x,a.y2)||b(d,a.x2,a.y2)||b(a,d.x,d.y)||b(a,d.x2,d.y)||b(a,d.x,d.y2)||b(a,d.x2,d.y2)||(a.x<d.x2&&a.x>d.x||d.x<a.x2&&d.x>a.x)&&(a.y<d.y2&&a.y>d.y||d.y<a.y2&&d.y>a.y)}function e(a,b,d,e,h,f,n,k,l){null==l&&(l=1);l=(1<l?1:0>l?0:l)/2;for(var p=[-0.1252,\n",
       "0.1252,-0.3678,0.3678,-0.5873,0.5873,-0.7699,0.7699,-0.9041,0.9041,-0.9816,0.9816],q=[0.2491,0.2491,0.2335,0.2335,0.2032,0.2032,0.1601,0.1601,0.1069,0.1069,0.0472,0.0472],s=0,c=0;12>c;c++)var t=l*p[c]+l,r=t*(t*(-3*a+9*d-9*h+3*n)+6*a-12*d+6*h)-3*a+3*d,t=t*(t*(-3*b+9*e-9*f+3*k)+6*b-12*e+6*f)-3*b+3*e,s=s+q[c]*F.sqrt(r*r+t*t);return l*s}function l(a,b,d){a=I(a);b=I(b);for(var h,f,l,n,k,s,r,O,x,c,t=d?0:[],w=0,v=a.length;w<v;w++)if(x=a[w],\"M\"==x[0])h=k=x[1],f=s=x[2];else{\"C\"==x[0]?(x=[h,f].concat(x.slice(1)),\n",
       "h=x[6],f=x[7]):(x=[h,f,h,f,k,s,k,s],h=k,f=s);for(var G=0,y=b.length;G<y;G++)if(c=b[G],\"M\"==c[0])l=r=c[1],n=O=c[2];else{\"C\"==c[0]?(c=[l,n].concat(c.slice(1)),l=c[6],n=c[7]):(c=[l,n,l,n,r,O,r,O],l=r,n=O);var z;var K=x,B=c;z=d;var H=p(K),J=p(B);if(q(H,J)){for(var H=e.apply(0,K),J=e.apply(0,B),H=~~(H/8),J=~~(J/8),U=[],A=[],F={},M=z?0:[],P=0;P<H+1;P++){var C=u.apply(0,K.concat(P/H));U.push({x:C.x,y:C.y,t:P/H})}for(P=0;P<J+1;P++)C=u.apply(0,B.concat(P/J)),A.push({x:C.x,y:C.y,t:P/J});for(P=0;P<H;P++)for(K=\n",
       "0;K<J;K++){var Q=U[P],L=U[P+1],B=A[K],C=A[K+1],N=0.001>Z(L.x-Q.x)?\"y\":\"x\",S=0.001>Z(C.x-B.x)?\"y\":\"x\",R;R=Q.x;var Y=Q.y,V=L.x,ea=L.y,fa=B.x,ga=B.y,ha=C.x,ia=C.y;if(W(R,V)<X(fa,ha)||X(R,V)>W(fa,ha)||W(Y,ea)<X(ga,ia)||X(Y,ea)>W(ga,ia))R=void 0;else{var $=(R*ea-Y*V)*(fa-ha)-(R-V)*(fa*ia-ga*ha),aa=(R*ea-Y*V)*(ga-ia)-(Y-ea)*(fa*ia-ga*ha),ja=(R-V)*(ga-ia)-(Y-ea)*(fa-ha);if(ja){var $=$/ja,aa=aa/ja,ja=+$.toFixed(2),ba=+aa.toFixed(2);R=ja<+X(R,V).toFixed(2)||ja>+W(R,V).toFixed(2)||ja<+X(fa,ha).toFixed(2)||\n",
       "ja>+W(fa,ha).toFixed(2)||ba<+X(Y,ea).toFixed(2)||ba>+W(Y,ea).toFixed(2)||ba<+X(ga,ia).toFixed(2)||ba>+W(ga,ia).toFixed(2)?void 0:{x:$,y:aa}}else R=void 0}R&&F[R.x.toFixed(4)]!=R.y.toFixed(4)&&(F[R.x.toFixed(4)]=R.y.toFixed(4),Q=Q.t+Z((R[N]-Q[N])/(L[N]-Q[N]))*(L.t-Q.t),B=B.t+Z((R[S]-B[S])/(C[S]-B[S]))*(C.t-B.t),0<=Q&&1>=Q&&0<=B&&1>=B&&(z?M++:M.push({x:R.x,y:R.y,t1:Q,t2:B})))}z=M}else z=z?0:[];if(d)t+=z;else{H=0;for(J=z.length;H<J;H++)z[H].segment1=w,z[H].segment2=G,z[H].bez1=x,z[H].bez2=c;t=t.concat(z)}}}return t}\n",
       "function r(a){var b=A(a);if(b.bbox)return C(b.bbox);if(!a)return w();a=I(a);for(var d=0,e=0,h=[],f=[],l,n=0,k=a.length;n<k;n++)l=a[n],\"M\"==l[0]?(d=l[1],e=l[2],h.push(d),f.push(e)):(d=U(d,e,l[1],l[2],l[3],l[4],l[5],l[6]),h=h.concat(d.min.x,d.max.x),f=f.concat(d.min.y,d.max.y),d=l[5],e=l[6]);a=X.apply(0,h);l=X.apply(0,f);h=W.apply(0,h);f=W.apply(0,f);f=w(a,l,h-a,f-l);b.bbox=C(f);return f}function s(a,b,d,e,h){if(h)return[[\"M\",+a+ +h,b],[\"l\",d-2*h,0],[\"a\",h,h,0,0,1,h,h],[\"l\",0,e-2*h],[\"a\",h,h,0,0,1,\n",
       "-h,h],[\"l\",2*h-d,0],[\"a\",h,h,0,0,1,-h,-h],[\"l\",0,2*h-e],[\"a\",h,h,0,0,1,h,-h],[\"z\"] ];a=[[\"M\",a,b],[\"l\",d,0],[\"l\",0,e],[\"l\",-d,0],[\"z\"] ];a.toString=z;return a}function x(a,b,d,e,h){null==h&&null==e&&(e=d);a=+a;b=+b;d=+d;e=+e;if(null!=h){var f=Math.PI/180,l=a+d*Math.cos(-e*f);a+=d*Math.cos(-h*f);var n=b+d*Math.sin(-e*f);b+=d*Math.sin(-h*f);d=[[\"M\",l,n],[\"A\",d,d,0,+(180<h-e),0,a,b] ]}else d=[[\"M\",a,b],[\"m\",0,-e],[\"a\",d,e,0,1,1,0,2*e],[\"a\",d,e,0,1,1,0,-2*e],[\"z\"] ];d.toString=z;return d}function G(b){var e=\n",
       "A(b);if(e.abs)return d(e.abs);Q(b,\"array\")&&Q(b&&b[0],\"array\")||(b=a.parsePathString(b));if(!b||!b.length)return[[\"M\",0,0] ];var h=[],f=0,l=0,n=0,k=0,p=0;\"M\"==b[0][0]&&(f=+b[0][1],l=+b[0][2],n=f,k=l,p++,h[0]=[\"M\",f,l]);for(var q=3==b.length&&\"M\"==b[0][0]&&\"R\"==b[1][0].toUpperCase()&&\"Z\"==b[2][0].toUpperCase(),s,r,w=p,c=b.length;w<c;w++){h.push(s=[]);r=b[w];p=r[0];if(p!=p.toUpperCase())switch(s[0]=p.toUpperCase(),s[0]){case \"A\":s[1]=r[1];s[2]=r[2];s[3]=r[3];s[4]=r[4];s[5]=r[5];s[6]=+r[6]+f;s[7]=+r[7]+\n",
       "l;break;case \"V\":s[1]=+r[1]+l;break;case \"H\":s[1]=+r[1]+f;break;case \"R\":for(var t=[f,l].concat(r.slice(1)),u=2,v=t.length;u<v;u++)t[u]=+t[u]+f,t[++u]=+t[u]+l;h.pop();h=h.concat(P(t,q));break;case \"O\":h.pop();t=x(f,l,r[1],r[2]);t.push(t[0]);h=h.concat(t);break;case \"U\":h.pop();h=h.concat(x(f,l,r[1],r[2],r[3]));s=[\"U\"].concat(h[h.length-1].slice(-2));break;case \"M\":n=+r[1]+f,k=+r[2]+l;default:for(u=1,v=r.length;u<v;u++)s[u]=+r[u]+(u%2?f:l)}else if(\"R\"==p)t=[f,l].concat(r.slice(1)),h.pop(),h=h.concat(P(t,\n",
       "q)),s=[\"R\"].concat(r.slice(-2));else if(\"O\"==p)h.pop(),t=x(f,l,r[1],r[2]),t.push(t[0]),h=h.concat(t);else if(\"U\"==p)h.pop(),h=h.concat(x(f,l,r[1],r[2],r[3])),s=[\"U\"].concat(h[h.length-1].slice(-2));else for(t=0,u=r.length;t<u;t++)s[t]=r[t];p=p.toUpperCase();if(\"O\"!=p)switch(s[0]){case \"Z\":f=+n;l=+k;break;case \"H\":f=s[1];break;case \"V\":l=s[1];break;case \"M\":n=s[s.length-2],k=s[s.length-1];default:f=s[s.length-2],l=s[s.length-1]}}h.toString=z;e.abs=d(h);return h}function h(a,b,d,e){return[a,b,d,e,d,\n",
       "e]}function J(a,b,d,e,h,f){var l=1/3,n=2/3;return[l*a+n*d,l*b+n*e,l*h+n*d,l*f+n*e,h,f]}function K(b,d,e,h,f,l,n,k,p,s){var r=120*S/180,q=S/180*(+f||0),c=[],t,x=a._.cacher(function(a,b,c){var d=a*F.cos(c)-b*F.sin(c);a=a*F.sin(c)+b*F.cos(c);return{x:d,y:a}});if(s)v=s[0],t=s[1],l=s[2],u=s[3];else{t=x(b,d,-q);b=t.x;d=t.y;t=x(k,p,-q);k=t.x;p=t.y;F.cos(S/180*f);F.sin(S/180*f);t=(b-k)/2;v=(d-p)/2;u=t*t/(e*e)+v*v/(h*h);1<u&&(u=F.sqrt(u),e*=u,h*=u);var u=e*e,w=h*h,u=(l==n?-1:1)*F.sqrt(Z((u*w-u*v*v-w*t*t)/\n",
       "(u*v*v+w*t*t)));l=u*e*v/h+(b+k)/2;var u=u*-h*t/e+(d+p)/2,v=F.asin(((d-u)/h).toFixed(9));t=F.asin(((p-u)/h).toFixed(9));v=b<l?S-v:v;t=k<l?S-t:t;0>v&&(v=2*S+v);0>t&&(t=2*S+t);n&&v>t&&(v-=2*S);!n&&t>v&&(t-=2*S)}if(Z(t-v)>r){var c=t,w=k,G=p;t=v+r*(n&&t>v?1:-1);k=l+e*F.cos(t);p=u+h*F.sin(t);c=K(k,p,e,h,f,0,n,w,G,[t,c,l,u])}l=t-v;f=F.cos(v);r=F.sin(v);n=F.cos(t);t=F.sin(t);l=F.tan(l/4);e=4/3*e*l;l*=4/3*h;h=[b,d];b=[b+e*r,d-l*f];d=[k+e*t,p-l*n];k=[k,p];b[0]=2*h[0]-b[0];b[1]=2*h[1]-b[1];if(s)return[b,d,k].concat(c);\n",
       "c=[b,d,k].concat(c).join().split(\",\");s=[];k=0;for(p=c.length;k<p;k++)s[k]=k%2?x(c[k-1],c[k],q).y:x(c[k],c[k+1],q).x;return s}function U(a,b,d,e,h,f,l,k){for(var n=[],p=[[],[] ],s,r,c,t,q=0;2>q;++q)0==q?(r=6*a-12*d+6*h,s=-3*a+9*d-9*h+3*l,c=3*d-3*a):(r=6*b-12*e+6*f,s=-3*b+9*e-9*f+3*k,c=3*e-3*b),1E-12>Z(s)?1E-12>Z(r)||(s=-c/r,0<s&&1>s&&n.push(s)):(t=r*r-4*c*s,c=F.sqrt(t),0>t||(t=(-r+c)/(2*s),0<t&&1>t&&n.push(t),s=(-r-c)/(2*s),0<s&&1>s&&n.push(s)));for(r=q=n.length;q--;)s=n[q],c=1-s,p[0][q]=c*c*c*a+3*\n",
       "c*c*s*d+3*c*s*s*h+s*s*s*l,p[1][q]=c*c*c*b+3*c*c*s*e+3*c*s*s*f+s*s*s*k;p[0][r]=a;p[1][r]=b;p[0][r+1]=l;p[1][r+1]=k;p[0].length=p[1].length=r+2;return{min:{x:X.apply(0,p[0]),y:X.apply(0,p[1])},max:{x:W.apply(0,p[0]),y:W.apply(0,p[1])}}}function I(a,b){var e=!b&&A(a);if(!b&&e.curve)return d(e.curve);var f=G(a),l=b&&G(b),n={x:0,y:0,bx:0,by:0,X:0,Y:0,qx:null,qy:null},k={x:0,y:0,bx:0,by:0,X:0,Y:0,qx:null,qy:null},p=function(a,b,c){if(!a)return[\"C\",b.x,b.y,b.x,b.y,b.x,b.y];a[0]in{T:1,Q:1}||(b.qx=b.qy=null);\n",
       "switch(a[0]){case \"M\":b.X=a[1];b.Y=a[2];break;case \"A\":a=[\"C\"].concat(K.apply(0,[b.x,b.y].concat(a.slice(1))));break;case \"S\":\"C\"==c||\"S\"==c?(c=2*b.x-b.bx,b=2*b.y-b.by):(c=b.x,b=b.y);a=[\"C\",c,b].concat(a.slice(1));break;case \"T\":\"Q\"==c||\"T\"==c?(b.qx=2*b.x-b.qx,b.qy=2*b.y-b.qy):(b.qx=b.x,b.qy=b.y);a=[\"C\"].concat(J(b.x,b.y,b.qx,b.qy,a[1],a[2]));break;case \"Q\":b.qx=a[1];b.qy=a[2];a=[\"C\"].concat(J(b.x,b.y,a[1],a[2],a[3],a[4]));break;case \"L\":a=[\"C\"].concat(h(b.x,b.y,a[1],a[2]));break;case \"H\":a=[\"C\"].concat(h(b.x,\n",
       "b.y,a[1],b.y));break;case \"V\":a=[\"C\"].concat(h(b.x,b.y,b.x,a[1]));break;case \"Z\":a=[\"C\"].concat(h(b.x,b.y,b.X,b.Y))}return a},s=function(a,b){if(7<a[b].length){a[b].shift();for(var c=a[b];c.length;)q[b]=\"A\",l&&(u[b]=\"A\"),a.splice(b++,0,[\"C\"].concat(c.splice(0,6)));a.splice(b,1);v=W(f.length,l&&l.length||0)}},r=function(a,b,c,d,e){a&&b&&\"M\"==a[e][0]&&\"M\"!=b[e][0]&&(b.splice(e,0,[\"M\",d.x,d.y]),c.bx=0,c.by=0,c.x=a[e][1],c.y=a[e][2],v=W(f.length,l&&l.length||0))},q=[],u=[],c=\"\",t=\"\",x=0,v=W(f.length,\n",
       "l&&l.length||0);for(;x<v;x++){f[x]&&(c=f[x][0]);\"C\"!=c&&(q[x]=c,x&&(t=q[x-1]));f[x]=p(f[x],n,t);\"A\"!=q[x]&&\"C\"==c&&(q[x]=\"C\");s(f,x);l&&(l[x]&&(c=l[x][0]),\"C\"!=c&&(u[x]=c,x&&(t=u[x-1])),l[x]=p(l[x],k,t),\"A\"!=u[x]&&\"C\"==c&&(u[x]=\"C\"),s(l,x));r(f,l,n,k,x);r(l,f,k,n,x);var w=f[x],z=l&&l[x],y=w.length,U=l&&z.length;n.x=w[y-2];n.y=w[y-1];n.bx=$(w[y-4])||n.x;n.by=$(w[y-3])||n.y;k.bx=l&&($(z[U-4])||k.x);k.by=l&&($(z[U-3])||k.y);k.x=l&&z[U-2];k.y=l&&z[U-1]}l||(e.curve=d(f));return l?[f,l]:f}function P(a,\n",
       "b){for(var d=[],e=0,h=a.length;h-2*!b>e;e+=2){var f=[{x:+a[e-2],y:+a[e-1]},{x:+a[e],y:+a[e+1]},{x:+a[e+2],y:+a[e+3]},{x:+a[e+4],y:+a[e+5]}];b?e?h-4==e?f[3]={x:+a[0],y:+a[1]}:h-2==e&&(f[2]={x:+a[0],y:+a[1]},f[3]={x:+a[2],y:+a[3]}):f[0]={x:+a[h-2],y:+a[h-1]}:h-4==e?f[3]=f[2]:e||(f[0]={x:+a[e],y:+a[e+1]});d.push([\"C\",(-f[0].x+6*f[1].x+f[2].x)/6,(-f[0].y+6*f[1].y+f[2].y)/6,(f[1].x+6*f[2].x-f[3].x)/6,(f[1].y+6*f[2].y-f[3].y)/6,f[2].x,f[2].y])}return d}y=k.prototype;var Q=a.is,C=a._.clone,L=\"hasOwnProperty\",\n",
       "N=/,?([a-z]),?/gi,$=parseFloat,F=Math,S=F.PI,X=F.min,W=F.max,ma=F.pow,Z=F.abs;M=n(1);var na=n(),ba=n(0,1),V=a._unit2px;a.path=A;a.path.getTotalLength=M;a.path.getPointAtLength=na;a.path.getSubpath=function(a,b,d){if(1E-6>this.getTotalLength(a)-d)return ba(a,b).end;a=ba(a,d,1);return b?ba(a,b).end:a};y.getTotalLength=function(){if(this.node.getTotalLength)return this.node.getTotalLength()};y.getPointAtLength=function(a){return na(this.attr(\"d\"),a)};y.getSubpath=function(b,d){return a.path.getSubpath(this.attr(\"d\"),\n",
       "b,d)};a._.box=w;a.path.findDotsAtSegment=u;a.path.bezierBBox=p;a.path.isPointInsideBBox=b;a.path.isBBoxIntersect=q;a.path.intersection=function(a,b){return l(a,b)};a.path.intersectionNumber=function(a,b){return l(a,b,1)};a.path.isPointInside=function(a,d,e){var h=r(a);return b(h,d,e)&&1==l(a,[[\"M\",d,e],[\"H\",h.x2+10] ],1)%2};a.path.getBBox=r;a.path.get={path:function(a){return a.attr(\"path\")},circle:function(a){a=V(a);return x(a.cx,a.cy,a.r)},ellipse:function(a){a=V(a);return x(a.cx||0,a.cy||0,a.rx,\n",
       "a.ry)},rect:function(a){a=V(a);return s(a.x||0,a.y||0,a.width,a.height,a.rx,a.ry)},image:function(a){a=V(a);return s(a.x||0,a.y||0,a.width,a.height)},line:function(a){return\"M\"+[a.attr(\"x1\")||0,a.attr(\"y1\")||0,a.attr(\"x2\"),a.attr(\"y2\")]},polyline:function(a){return\"M\"+a.attr(\"points\")},polygon:function(a){return\"M\"+a.attr(\"points\")+\"z\"},deflt:function(a){a=a.node.getBBox();return s(a.x,a.y,a.width,a.height)}};a.path.toRelative=function(b){var e=A(b),h=String.prototype.toLowerCase;if(e.rel)return d(e.rel);\n",
       "a.is(b,\"array\")&&a.is(b&&b[0],\"array\")||(b=a.parsePathString(b));var f=[],l=0,n=0,k=0,p=0,s=0;\"M\"==b[0][0]&&(l=b[0][1],n=b[0][2],k=l,p=n,s++,f.push([\"M\",l,n]));for(var r=b.length;s<r;s++){var q=f[s]=[],x=b[s];if(x[0]!=h.call(x[0]))switch(q[0]=h.call(x[0]),q[0]){case \"a\":q[1]=x[1];q[2]=x[2];q[3]=x[3];q[4]=x[4];q[5]=x[5];q[6]=+(x[6]-l).toFixed(3);q[7]=+(x[7]-n).toFixed(3);break;case \"v\":q[1]=+(x[1]-n).toFixed(3);break;case \"m\":k=x[1],p=x[2];default:for(var c=1,t=x.length;c<t;c++)q[c]=+(x[c]-(c%2?l:\n",
       "n)).toFixed(3)}else for(f[s]=[],\"m\"==x[0]&&(k=x[1]+l,p=x[2]+n),q=0,c=x.length;q<c;q++)f[s][q]=x[q];x=f[s].length;switch(f[s][0]){case \"z\":l=k;n=p;break;case \"h\":l+=+f[s][x-1];break;case \"v\":n+=+f[s][x-1];break;default:l+=+f[s][x-2],n+=+f[s][x-1]}}f.toString=z;e.rel=d(f);return f};a.path.toAbsolute=G;a.path.toCubic=I;a.path.map=function(a,b){if(!b)return a;var d,e,h,f,l,n,k;a=I(a);h=0;for(l=a.length;h<l;h++)for(k=a[h],f=1,n=k.length;f<n;f+=2)d=b.x(k[f],k[f+1]),e=b.y(k[f],k[f+1]),k[f]=d,k[f+1]=e;return a};\n",
       "a.path.toString=z;a.path.clone=d});C.plugin(function(a,v,y,C){var A=Math.max,w=Math.min,z=function(a){this.items=[];this.bindings={};this.length=0;this.type=\"set\";if(a)for(var f=0,n=a.length;f<n;f++)a[f]&&(this[this.items.length]=this.items[this.items.length]=a[f],this.length++)};v=z.prototype;v.push=function(){for(var a,f,n=0,k=arguments.length;n<k;n++)if(a=arguments[n])f=this.items.length,this[f]=this.items[f]=a,this.length++;return this};v.pop=function(){this.length&&delete this[this.length--];\n",
       "return this.items.pop()};v.forEach=function(a,f){for(var n=0,k=this.items.length;n<k&&!1!==a.call(f,this.items[n],n);n++);return this};v.animate=function(d,f,n,u){\"function\"!=typeof n||n.length||(u=n,n=L.linear);d instanceof a._.Animation&&(u=d.callback,n=d.easing,f=n.dur,d=d.attr);var p=arguments;if(a.is(d,\"array\")&&a.is(p[p.length-1],\"array\"))var b=!0;var q,e=function(){q?this.b=q:q=this.b},l=0,r=u&&function(){l++==this.length&&u.call(this)};return this.forEach(function(a,l){k.once(\"snap.animcreated.\"+\n",
       "a.id,e);b?p[l]&&a.animate.apply(a,p[l]):a.animate(d,f,n,r)})};v.remove=function(){for(;this.length;)this.pop().remove();return this};v.bind=function(a,f,k){var u={};if(\"function\"==typeof f)this.bindings[a]=f;else{var p=k||a;this.bindings[a]=function(a){u[p]=a;f.attr(u)}}return this};v.attr=function(a){var f={},k;for(k in a)if(this.bindings[k])this.bindings[k](a[k]);else f[k]=a[k];a=0;for(k=this.items.length;a<k;a++)this.items[a].attr(f);return this};v.clear=function(){for(;this.length;)this.pop()};\n",
       "v.splice=function(a,f,k){a=0>a?A(this.length+a,0):a;f=A(0,w(this.length-a,f));var u=[],p=[],b=[],q;for(q=2;q<arguments.length;q++)b.push(arguments[q]);for(q=0;q<f;q++)p.push(this[a+q]);for(;q<this.length-a;q++)u.push(this[a+q]);var e=b.length;for(q=0;q<e+u.length;q++)this.items[a+q]=this[a+q]=q<e?b[q]:u[q-e];for(q=this.items.length=this.length-=f-e;this[q];)delete this[q++];return new z(p)};v.exclude=function(a){for(var f=0,k=this.length;f<k;f++)if(this[f]==a)return this.splice(f,1),!0;return!1};\n",
       "v.insertAfter=function(a){for(var f=this.items.length;f--;)this.items[f].insertAfter(a);return this};v.getBBox=function(){for(var a=[],f=[],k=[],u=[],p=this.items.length;p--;)if(!this.items[p].removed){var b=this.items[p].getBBox();a.push(b.x);f.push(b.y);k.push(b.x+b.width);u.push(b.y+b.height)}a=w.apply(0,a);f=w.apply(0,f);k=A.apply(0,k);u=A.apply(0,u);return{x:a,y:f,x2:k,y2:u,width:k-a,height:u-f,cx:a+(k-a)/2,cy:f+(u-f)/2}};v.clone=function(a){a=new z;for(var f=0,k=this.items.length;f<k;f++)a.push(this.items[f].clone());\n",
       "return a};v.toString=function(){return\"Snap\\u2018s set\"};v.type=\"set\";a.set=function(){var a=new z;arguments.length&&a.push.apply(a,Array.prototype.slice.call(arguments,0));return a}});C.plugin(function(a,v,y,C){function A(a){var b=a[0];switch(b.toLowerCase()){case \"t\":return[b,0,0];case \"m\":return[b,1,0,0,1,0,0];case \"r\":return 4==a.length?[b,0,a[2],a[3] ]:[b,0];case \"s\":return 5==a.length?[b,1,1,a[3],a[4] ]:3==a.length?[b,1,1]:[b,1]}}function w(b,d,f){d=q(d).replace(/\\.{3}|\\u2026/g,b);b=a.parseTransformString(b)||\n",
       "[];d=a.parseTransformString(d)||[];for(var k=Math.max(b.length,d.length),p=[],v=[],h=0,w,z,y,I;h<k;h++){y=b[h]||A(d[h]);I=d[h]||A(y);if(y[0]!=I[0]||\"r\"==y[0].toLowerCase()&&(y[2]!=I[2]||y[3]!=I[3])||\"s\"==y[0].toLowerCase()&&(y[3]!=I[3]||y[4]!=I[4])){b=a._.transform2matrix(b,f());d=a._.transform2matrix(d,f());p=[[\"m\",b.a,b.b,b.c,b.d,b.e,b.f] ];v=[[\"m\",d.a,d.b,d.c,d.d,d.e,d.f] ];break}p[h]=[];v[h]=[];w=0;for(z=Math.max(y.length,I.length);w<z;w++)w in y&&(p[h][w]=y[w]),w in I&&(v[h][w]=I[w])}return{from:u(p),\n",
       "to:u(v),f:n(p)}}function z(a){return a}function d(a){return function(b){return+b.toFixed(3)+a}}function f(b){return a.rgb(b[0],b[1],b[2])}function n(a){var b=0,d,f,k,n,h,p,q=[];d=0;for(f=a.length;d<f;d++){h=\"[\";p=['\"'+a[d][0]+'\"'];k=1;for(n=a[d].length;k<n;k++)p[k]=\"val[\"+b++ +\"]\";h+=p+\"]\";q[d]=h}return Function(\"val\",\"return Snap.path.toString.call([\"+q+\"])\")}function u(a){for(var b=[],d=0,f=a.length;d<f;d++)for(var k=1,n=a[d].length;k<n;k++)b.push(a[d][k]);return b}var p={},b=/[a-z]+$/i,q=String;\n",
       "p.stroke=p.fill=\"colour\";v.prototype.equal=function(a,b){return k(\"snap.util.equal\",this,a,b).firstDefined()};k.on(\"snap.util.equal\",function(e,k){var r,s;r=q(this.attr(e)||\"\");var x=this;if(r==+r&&k==+k)return{from:+r,to:+k,f:z};if(\"colour\"==p[e])return r=a.color(r),s=a.color(k),{from:[r.r,r.g,r.b,r.opacity],to:[s.r,s.g,s.b,s.opacity],f:f};if(\"transform\"==e||\"gradientTransform\"==e||\"patternTransform\"==e)return k instanceof a.Matrix&&(k=k.toTransformString()),a._.rgTransform.test(k)||(k=a._.svgTransform2string(k)),\n",
       "w(r,k,function(){return x.getBBox(1)});if(\"d\"==e||\"path\"==e)return r=a.path.toCubic(r,k),{from:u(r[0]),to:u(r[1]),f:n(r[0])};if(\"points\"==e)return r=q(r).split(a._.separator),s=q(k).split(a._.separator),{from:r,to:s,f:function(a){return a}};aUnit=r.match(b);s=q(k).match(b);return aUnit&&aUnit==s?{from:parseFloat(r),to:parseFloat(k),f:d(aUnit)}:{from:this.asPX(e),to:this.asPX(e,k),f:z}})});C.plugin(function(a,v,y,C){var A=v.prototype,w=\"createTouch\"in C.doc;v=\"click dblclick mousedown mousemove mouseout mouseover mouseup touchstart touchmove touchend touchcancel\".split(\" \");\n",
       "var z={mousedown:\"touchstart\",mousemove:\"touchmove\",mouseup:\"touchend\"},d=function(a,b){var d=\"y\"==a?\"scrollTop\":\"scrollLeft\",e=b&&b.node?b.node.ownerDocument:C.doc;return e[d in e.documentElement?\"documentElement\":\"body\"][d]},f=function(){this.returnValue=!1},n=function(){return this.originalEvent.preventDefault()},u=function(){this.cancelBubble=!0},p=function(){return this.originalEvent.stopPropagation()},b=function(){if(C.doc.addEventListener)return function(a,b,e,f){var k=w&&z[b]?z[b]:b,l=function(k){var l=\n",
       "d(\"y\",f),q=d(\"x\",f);if(w&&z.hasOwnProperty(b))for(var r=0,u=k.targetTouches&&k.targetTouches.length;r<u;r++)if(k.targetTouches[r].target==a||a.contains(k.targetTouches[r].target)){u=k;k=k.targetTouches[r];k.originalEvent=u;k.preventDefault=n;k.stopPropagation=p;break}return e.call(f,k,k.clientX+q,k.clientY+l)};b!==k&&a.addEventListener(b,l,!1);a.addEventListener(k,l,!1);return function(){b!==k&&a.removeEventListener(b,l,!1);a.removeEventListener(k,l,!1);return!0}};if(C.doc.attachEvent)return function(a,\n",
       "b,e,h){var k=function(a){a=a||h.node.ownerDocument.window.event;var b=d(\"y\",h),k=d(\"x\",h),k=a.clientX+k,b=a.clientY+b;a.preventDefault=a.preventDefault||f;a.stopPropagation=a.stopPropagation||u;return e.call(h,a,k,b)};a.attachEvent(\"on\"+b,k);return function(){a.detachEvent(\"on\"+b,k);return!0}}}(),q=[],e=function(a){for(var b=a.clientX,e=a.clientY,f=d(\"y\"),l=d(\"x\"),n,p=q.length;p--;){n=q[p];if(w)for(var r=a.touches&&a.touches.length,u;r--;){if(u=a.touches[r],u.identifier==n.el._drag.id||n.el.node.contains(u.target)){b=\n",
       "u.clientX;e=u.clientY;(a.originalEvent?a.originalEvent:a).preventDefault();break}}else a.preventDefault();b+=l;e+=f;k(\"snap.drag.move.\"+n.el.id,n.move_scope||n.el,b-n.el._drag.x,e-n.el._drag.y,b,e,a)}},l=function(b){a.unmousemove(e).unmouseup(l);for(var d=q.length,f;d--;)f=q[d],f.el._drag={},k(\"snap.drag.end.\"+f.el.id,f.end_scope||f.start_scope||f.move_scope||f.el,b);q=[]};for(y=v.length;y--;)(function(d){a[d]=A[d]=function(e,f){a.is(e,\"function\")&&(this.events=this.events||[],this.events.push({name:d,\n",
       "f:e,unbind:b(this.node||document,d,e,f||this)}));return this};a[\"un\"+d]=A[\"un\"+d]=function(a){for(var b=this.events||[],e=b.length;e--;)if(b[e].name==d&&(b[e].f==a||!a)){b[e].unbind();b.splice(e,1);!b.length&&delete this.events;break}return this}})(v[y]);A.hover=function(a,b,d,e){return this.mouseover(a,d).mouseout(b,e||d)};A.unhover=function(a,b){return this.unmouseover(a).unmouseout(b)};var r=[];A.drag=function(b,d,f,h,n,p){function u(r,v,w){(r.originalEvent||r).preventDefault();this._drag.x=v;\n",
       "this._drag.y=w;this._drag.id=r.identifier;!q.length&&a.mousemove(e).mouseup(l);q.push({el:this,move_scope:h,start_scope:n,end_scope:p});d&&k.on(\"snap.drag.start.\"+this.id,d);b&&k.on(\"snap.drag.move.\"+this.id,b);f&&k.on(\"snap.drag.end.\"+this.id,f);k(\"snap.drag.start.\"+this.id,n||h||this,v,w,r)}if(!arguments.length){var v;return this.drag(function(a,b){this.attr({transform:v+(v?\"T\":\"t\")+[a,b]})},function(){v=this.transform().local})}this._drag={};r.push({el:this,start:u});this.mousedown(u);return this};\n",
       "A.undrag=function(){for(var b=r.length;b--;)r[b].el==this&&(this.unmousedown(r[b].start),r.splice(b,1),k.unbind(\"snap.drag.*.\"+this.id));!r.length&&a.unmousemove(e).unmouseup(l);return this}});C.plugin(function(a,v,y,C){y=y.prototype;var A=/^\\s*url\\((.+)\\)/,w=String,z=a._.$;a.filter={};y.filter=function(d){var f=this;\"svg\"!=f.type&&(f=f.paper);d=a.parse(w(d));var k=a._.id(),u=z(\"filter\");z(u,{id:k,filterUnits:\"userSpaceOnUse\"});u.appendChild(d.node);f.defs.appendChild(u);return new v(u)};k.on(\"snap.util.getattr.filter\",\n",
       "function(){k.stop();var d=z(this.node,\"filter\");if(d)return(d=w(d).match(A))&&a.select(d[1])});k.on(\"snap.util.attr.filter\",function(d){if(d instanceof v&&\"filter\"==d.type){k.stop();var f=d.node.id;f||(z(d.node,{id:d.id}),f=d.id);z(this.node,{filter:a.url(f)})}d&&\"none\"!=d||(k.stop(),this.node.removeAttribute(\"filter\"))});a.filter.blur=function(d,f){null==d&&(d=2);return a.format('<feGaussianBlur stdDeviation=\"{def}\"/>',{def:null==f?d:[d,f]})};a.filter.blur.toString=function(){return this()};a.filter.shadow=\n",
       "function(d,f,k,u,p){\"string\"==typeof k&&(p=u=k,k=4);\"string\"!=typeof u&&(p=u,u=\"#000\");null==k&&(k=4);null==p&&(p=1);null==d&&(d=0,f=2);null==f&&(f=d);u=a.color(u||\"#000\");return a.format('<feGaussianBlur in=\"SourceAlpha\" stdDeviation=\"{blur}\"/><feOffset dx=\"{dx}\" dy=\"{dy}\" result=\"offsetblur\"/><feFlood flood-color=\"{color}\"/><feComposite in2=\"offsetblur\" operator=\"in\"/><feComponentTransfer><feFuncA type=\"linear\" slope=\"{opacity}\"/></feComponentTransfer><feMerge><feMergeNode/><feMergeNode in=\"SourceGraphic\"/></feMerge>',\n",
       "{color:u,dx:d,dy:f,blur:k,opacity:p})};a.filter.shadow.toString=function(){return this()};a.filter.grayscale=function(d){null==d&&(d=1);return a.format('<feColorMatrix type=\"matrix\" values=\"{a} {b} {c} 0 0 {d} {e} {f} 0 0 {g} {b} {h} 0 0 0 0 0 1 0\"/>',{a:0.2126+0.7874*(1-d),b:0.7152-0.7152*(1-d),c:0.0722-0.0722*(1-d),d:0.2126-0.2126*(1-d),e:0.7152+0.2848*(1-d),f:0.0722-0.0722*(1-d),g:0.2126-0.2126*(1-d),h:0.0722+0.9278*(1-d)})};a.filter.grayscale.toString=function(){return this()};a.filter.sepia=\n",
       "function(d){null==d&&(d=1);return a.format('<feColorMatrix type=\"matrix\" values=\"{a} {b} {c} 0 0 {d} {e} {f} 0 0 {g} {h} {i} 0 0 0 0 0 1 0\"/>',{a:0.393+0.607*(1-d),b:0.769-0.769*(1-d),c:0.189-0.189*(1-d),d:0.349-0.349*(1-d),e:0.686+0.314*(1-d),f:0.168-0.168*(1-d),g:0.272-0.272*(1-d),h:0.534-0.534*(1-d),i:0.131+0.869*(1-d)})};a.filter.sepia.toString=function(){return this()};a.filter.saturate=function(d){null==d&&(d=1);return a.format('<feColorMatrix type=\"saturate\" values=\"{amount}\"/>',{amount:1-\n",
       "d})};a.filter.saturate.toString=function(){return this()};a.filter.hueRotate=function(d){return a.format('<feColorMatrix type=\"hueRotate\" values=\"{angle}\"/>',{angle:d||0})};a.filter.hueRotate.toString=function(){return this()};a.filter.invert=function(d){null==d&&(d=1);return a.format('<feComponentTransfer><feFuncR type=\"table\" tableValues=\"{amount} {amount2}\"/><feFuncG type=\"table\" tableValues=\"{amount} {amount2}\"/><feFuncB type=\"table\" tableValues=\"{amount} {amount2}\"/></feComponentTransfer>',{amount:d,\n",
       "amount2:1-d})};a.filter.invert.toString=function(){return this()};a.filter.brightness=function(d){null==d&&(d=1);return a.format('<feComponentTransfer><feFuncR type=\"linear\" slope=\"{amount}\"/><feFuncG type=\"linear\" slope=\"{amount}\"/><feFuncB type=\"linear\" slope=\"{amount}\"/></feComponentTransfer>',{amount:d})};a.filter.brightness.toString=function(){return this()};a.filter.contrast=function(d){null==d&&(d=1);return a.format('<feComponentTransfer><feFuncR type=\"linear\" slope=\"{amount}\" intercept=\"{amount2}\"/><feFuncG type=\"linear\" slope=\"{amount}\" intercept=\"{amount2}\"/><feFuncB type=\"linear\" slope=\"{amount}\" intercept=\"{amount2}\"/></feComponentTransfer>',\n",
       "{amount:d,amount2:0.5-d/2})};a.filter.contrast.toString=function(){return this()}});return C});\n",
       "\n",
       "]]> </script>\n",
       "</svg>\n"
      ],
      "text/plain": [
       "Compose.Context(Measures.BoundingBox{Tuple{Measures.Length{:w,Float64},Measures.Length{:h,Float64}},Tuple{Measures.Length{:w,Float64},Measures.Length{:h,Float64}}}((0.0w, 0.0h), (1.0w, 1.0h)), Compose.UnitBox{Float64,Float64,Float64,Float64}(-1.2, -1.2, 2.4, 2.4, 0.0mm, 0.0mm, 0.0mm, 0.0mm), nothing, nothing, nothing, List([Compose.Context(Measures.BoundingBox{Tuple{Measures.Length{:w,Float64},Measures.Length{:h,Float64}},Tuple{Measures.Length{:w,Float64},Measures.Length{:h,Float64}}}((0.0w, 0.0h), (1.0w, 1.0h)), nothing, nothing, nothing, nothing, List([]), List([Compose.Form{Compose.LinePrimitive}(Compose.LinePrimitive[LinePrimitive{Tuple{Measure,Measure}}(Tuple{Measures.Measure,Measures.Measure}[(-0.234137cx, -0.484663cy), (-0.330782cx, 0.0121677cy)]), LinePrimitive{Tuple{Measure,Measure}}(Tuple{Measures.Measure,Measures.Measure}[(-0.23165cx, -0.484249cy), (-0.3156cx, 0.121075cy)]), LinePrimitive{Tuple{Measure,Measure}}(Tuple{Measures.Measure,Measures.Measure}[(-0.179013cx, -0.526337cy), (0.217478cx, -0.49295cy)]), LinePrimitive{Tuple{Measure,Measure}}(Tuple{Measures.Measure,Measures.Measure}[(-0.332239cx, 0.103567cy), (-0.329384cx, 0.121229cy)]), LinePrimitive{Tuple{Measure,Measure}}(Tuple{Measures.Measure,Measures.Measure}[(-0.305246cx, 0.0265637cy), (0.229338cx, -0.45788cy)]), LinePrimitive{Tuple{Measure,Measure}}(Tuple{Measures.Measure,Measures.Measure}[(-0.297325cx, 0.0768178cy), (0.0657698cx, 0.240517cy)]), LinePrimitive{Tuple{Measure,Measure}}(Tuple{Measures.Measure,Measures.Measure}[(-0.306398cx, 0.0901365cy), (0.102065cx, 0.488164cy)]), LinePrimitive{Tuple{Measure,Measure}}(Tuple{Measures.Measure,Measures.Measure}[(-0.383472cx, 0.042425cy), (-0.724007cx, -0.0765554cy)]), LinePrimitive{Tuple{Measure,Measure}}(Tuple{Measures.Measure,Measures.Measure}[(-0.298617cx, 0.0360173cy), (-0.044278cx, -0.0986245cy)]), LinePrimitive{Tuple{Measure,Measure}}(Tuple{Measures.Measure,Measures.Measure}[(-0.376746cx, 0.0856444cy), (-0.734553cx, 0.354794cy)])  …  LinePrimitive{Tuple{Measure,Measure}}(Tuple{Measures.Measure,Measures.Measure}[(-0.612968cx, 0.348075cy), (-0.718674cx, 0.140754cy)]), LinePrimitive{Tuple{Measure,Measure}}(Tuple{Measures.Measure,Measures.Measure}[(-0.546134cx, 0.381535cy), (-0.26622cx, 0.333204cy)]), LinePrimitive{Tuple{Measure,Measure}}(Tuple{Measures.Measure,Measures.Measure}[(-0.95393cx, 0.12598cy), (-0.785831cx, 0.105114cy)]), LinePrimitive{Tuple{Measure,Measure}}(Tuple{Measures.Measure,Measures.Measure}[(-0.693587cx, 0.0945885cy), (-0.38582cx, 0.0625449cy)]), LinePrimitive{Tuple{Measure,Measure}}(Tuple{Measures.Measure,Measures.Measure}[(-0.697191cx, 0.117916cy), (-0.263043cx, 0.306785cy)]), LinePrimitive{Tuple{Measure,Measure}}(Tuple{Measures.Measure,Measures.Measure}[(-0.411884cx, 0.553481cy), (-0.250309cx, 0.360872cy)]), LinePrimitive{Tuple{Measure,Measure}}(Tuple{Measures.Measure,Measures.Measure}[(-0.121408cx, 0.704347cy), (-0.3248cx, 0.101723cy)]), LinePrimitive{Tuple{Measure,Measure}}(Tuple{Measures.Measure,Measures.Measure}[(-0.144184cx, 0.775531cy), (-0.417058cx, 0.972802cy)]), LinePrimitive{Tuple{Measure,Measure}}(Tuple{Measures.Measure,Measures.Measure}[(-0.118633cx, 0.703506cy), (-0.208402cx, 0.370132cy)]), LinePrimitive{Tuple{Measure,Measure}}(Tuple{Measures.Measure,Measures.Measure}[(-0.245537cx, 0.286229cy), (-0.296913cx, 0.206134cy)])], Symbol(\"\"))]), List([Compose.Property{Compose.LineWidthPrimitive}(Compose.LineWidthPrimitive[LineWidthPrimitive(0.557086mm)]), Compose.Property{Compose.FillPrimitive}(Compose.FillPrimitive[FillPrimitive(RGBA{Float64}(0.0,0.0,0.0,0.0))]), Compose.Property{Compose.StrokePrimitive}(Compose.StrokePrimitive[StrokePrimitive(RGBA{Float64}(0.827451,0.827451,0.827451,1.0))])]), 0, false, false, false, false, nothing, nothing, 0.0, Symbol(\"\")), Compose.Context(Measures.BoundingBox{Tuple{Measures.Length{:w,Float64},Measures.Length{:h,Float64}},Tuple{Measures.Length{:w,Float64},Measures.Length{:h,Float64}}}((0.0w, 0.0h), (1.0w, 1.0h)), nothing, nothing, nothing, nothing, List([]), List([Compose.Form{Compose.LinePrimitive}(Compose.LinePrimitive[LinePrimitive{Tuple{Measure,Measure}}(Tuple{Measures.Measure,Measures.Measure}[(-0.279266cx, -0.073542cy), (-0.330782cx, 0.0121677cy), (-0.346412cx, -0.0866033cy)]), LinePrimitive{Tuple{Measure,Measure}}(Tuple{Measures.Measure,Measures.Measure}[(-0.268814cx, 0.0326947cy), (-0.3156cx, 0.121075cy), (-0.336569cx, 0.023298cy)]), LinePrimitive{Tuple{Measure,Measure}}(Tuple{Measures.Measure,Measures.Measure}[(0.126711cx, -0.534916cy), (0.217478cx, -0.49295cy), (0.120971cx, -0.466753cy)]), LinePrimitive{Tuple{Measure,Measure}}(Tuple{Measures.Measure,Measures.Measure}[(-0.310614cx, 0.0230069cy), (-0.329384cx, 0.121229cy), (-0.378141cx, 0.0339209cy)]), LinePrimitive{Tuple{Measure,Measure}}(Tuple{Measures.Measure,Measures.Measure}[(0.13674cx, -0.420124cy), (0.229338cx, -0.45788cy), (0.182674cx, -0.369436cy)]), LinePrimitive{Tuple{Measure,Measure}}(Tuple{Measures.Measure,Measures.Measure}[(-0.0058385cx, 0.170716cy), (0.0657698cx, 0.240517cy), (-0.0339529cx, 0.233075cy)]), LinePrimitive{Tuple{Measure,Measure}}(Tuple{Measures.Measure,Measures.Measure}[(0.0586342cx, 0.398088cy), (0.102065cx, 0.488164cy), (0.0108951cx, 0.447078cy)]), LinePrimitive{Tuple{Measure,Measure}}(Tuple{Measures.Measure,Measures.Measure}[(-0.646578cx, -0.0132727cy), (-0.724007cx, -0.0765554cy), (-0.624015cx, -0.0778486cy)]), LinePrimitive{Tuple{Measure,Measure}}(Tuple{Measures.Measure,Measures.Measure}[(-0.14333cx, -0.0848873cy), (-0.044278cx, -0.0986245cy), (-0.111326cx, -0.0244318cy)]), LinePrimitive{Tuple{Measure,Measure}}(Tuple{Measures.Measure,Measures.Measure}[(-0.638897cx, 0.325638cy), (-0.734553cx, 0.354794cy), (-0.680017cx, 0.270974cy)])  …  LinePrimitive{Tuple{Measure,Measure}}(Tuple{Measures.Measure,Measures.Measure}[(-0.70646cx, 0.240006cy), (-0.718674cx, 0.140754cy), (-0.64552cx, 0.208935cy)]), LinePrimitive{Tuple{Measure,Measure}}(Tuple{Measures.Measure,Measures.Measure}[(-0.364638cx, 0.315489cy), (-0.26622cx, 0.333204cy), (-0.352999cx, 0.382896cy)]), LinePrimitive{Tuple{Measure,Measure}}(Tuple{Measures.Measure,Measures.Measure}[(-0.883298cx, 0.082748cy), (-0.785831cx, 0.105114cy), (-0.874872cx, 0.150631cy)]), LinePrimitive{Tuple{Measure,Measure}}(Tuple{Measures.Measure,Measures.Measure}[(-0.482826cx, 0.0382579cy), (-0.38582cx, 0.0625449cy), (-0.475743cx, 0.106294cy)]), LinePrimitive{Tuple{Measure,Measure}}(Tuple{Measures.Measure,Measures.Measure}[(-0.335567cx, 0.237936cy), (-0.263043cx, 0.306785cy), (-0.362855cx, 0.300662cy)]), LinePrimitive{Tuple{Measure,Measure}}(Tuple{Measures.Measure,Measures.Measure}[(-0.336905cx, 0.410883cy), (-0.250309cx, 0.360872cy), (-0.284498cx, 0.454845cy)]), LinePrimitive{Tuple{Measure,Measure}}(Tuple{Measures.Measure,Measures.Measure}[(-0.327156cx, 0.201696cy), (-0.3248cx, 0.101723cy), (-0.262344cx, 0.179821cy)]), LinePrimitive{Tuple{Measure,Measure}}(Tuple{Measures.Measure,Measures.Measure}[(-0.320867cx, 0.945465cy), (-0.417058cx, 0.972802cy), (-0.360942cx, 0.89003cy)]), LinePrimitive{Tuple{Measure,Measure}}(Tuple{Measures.Measure,Measures.Measure}[(-0.216994cx, 0.469762cy), (-0.208402cx, 0.370132cy), (-0.150943cx, 0.451976cy)]), LinePrimitive{Tuple{Measure,Measure}}(Tuple{Measures.Measure,Measures.Measure}[(-0.274966cx, 0.303697cy), (-0.296913cx, 0.206134cy), (-0.217389cx, 0.266765cy)])], Symbol(\"\"))]), List([Compose.Property{Compose.LineWidthPrimitive}(Compose.LineWidthPrimitive[LineWidthPrimitive(0.557086mm)]), Compose.Property{Compose.StrokePrimitive}(Compose.StrokePrimitive[StrokePrimitive(RGBA{Float64}(0.827451,0.827451,0.827451,1.0))])]), 0, false, false, false, false, nothing, nothing, 0.0, Symbol(\"\")), Compose.Context(Measures.BoundingBox{Tuple{Measures.Length{:w,Float64},Measures.Length{:h,Float64}},Tuple{Measures.Length{:w,Float64},Measures.Length{:h,Float64}}}((0.0w, 0.0h), (1.0w, 1.0h)), nothing, nothing, nothing, nothing, List([]), List([]), List([Compose.Property{Compose.FontSizePrimitive}(Compose.FontSizePrimitive[FontSizePrimitive(4.0mm)]), Compose.Property{Compose.StrokePrimitive}(Compose.StrokePrimitive[StrokePrimitive(RGBA{Float64}(0.0,0.0,0.0,0.0))]), Compose.Property{Compose.FillPrimitive}(Compose.FillPrimitive[FillPrimitive(RGBA{Float64}(0.0,0.0,0.0,1.0))])]), 0, false, false, false, false, nothing, nothing, 0.0, Symbol(\"\")), Compose.Context(Measures.BoundingBox{Tuple{Measures.Length{:w,Float64},Measures.Length{:h,Float64}},Tuple{Measures.Length{:w,Float64},Measures.Length{:h,Float64}}}((0.0w, 0.0h), (1.0w, 1.0h)), nothing, nothing, nothing, nothing, List([]), List([Compose.Form{Compose.CirclePrimitive{Tuple{Measures.Measure,Measures.Measure},Measures.Measure}}(Compose.CirclePrimitive{Tuple{Measures.Measure,Measures.Measure},Measures.Measure}[CirclePrimitive{Tuple{Measure,Measure},Measure}((-0.225273cx, -0.530233cy), 0.0185695w), CirclePrimitive{Tuple{Measure,Measure},Measure}((-0.339646cx, 0.0577374cy), 0.0185695w), CirclePrimitive{Tuple{Measure,Measure},Measure}((-0.45468cx, 1.0cy), 0.0185695w), CirclePrimitive{Tuple{Measure,Measure},Measure}((-0.321977cx, 0.167058cy), 0.0185695w), CirclePrimitive{Tuple{Measure,Measure},Measure}((0.263739cx, -0.489054cy), 0.0185695w), CirclePrimitive{Tuple{Measure,Measure},Measure}((0.434337cx, -0.156238cy), 0.0185695w), CirclePrimitive{Tuple{Measure,Measure},Measure}((1.0cx, -0.753834cy), 0.0185695w), CirclePrimitive{Tuple{Measure,Measure},Measure}((0.636969cx, -1.0cy), 0.0185695w), CirclePrimitive{Tuple{Measure,Measure},Measure}((0.844318cx, -0.936723cy), 0.0185695w), CirclePrimitive{Tuple{Measure,Measure},Measure}((0.868969cx, -0.466561cy), 0.0185695w)  …  CirclePrimitive{Tuple{Measure,Measure},Measure}((-0.301831cx, -0.169414cy), 0.0185695w), CirclePrimitive{Tuple{Measure,Measure},Measure}((0.105691cx, 0.0794113cy), 0.0185695w), CirclePrimitive{Tuple{Measure,Measure},Measure}((-0.129891cx, -0.240132cy), 0.0185695w), CirclePrimitive{Tuple{Measure,Measure},Measure}((-0.644927cx, -0.23176cy), 0.0185695w), CirclePrimitive{Tuple{Measure,Measure},Measure}((-0.591881cx, 0.389434cy), 0.0185695w), CirclePrimitive{Tuple{Measure,Measure},Measure}((-1.0cx, 0.131698cy), 0.0185695w), CirclePrimitive{Tuple{Measure,Measure},Measure}((-0.739761cx, 0.0993961cy), 0.0185695w), CirclePrimitive{Tuple{Measure,Measure},Measure}((-0.44172cx, 0.589048cy), 0.0185695w), CirclePrimitive{Tuple{Measure,Measure},Measure}((-0.106562cx, 0.748333cy), 0.0185695w), CirclePrimitive{Tuple{Measure,Measure},Measure}((-0.220473cx, 0.325305cy), 0.0185695w)], Symbol(\"\"))]), List([Compose.Property{Compose.LineWidthPrimitive}(Compose.LineWidthPrimitive[LineWidthPrimitive(0.0mm)]), Compose.Property{Compose.StrokePrimitive}(Compose.StrokePrimitive[StrokePrimitive(RGBA{Float64}(0.0,0.0,0.0,0.0))]), Compose.Property{Compose.FillPrimitive}(Compose.FillPrimitive[FillPrimitive(RGBA{Float64}(0.25098,0.878431,0.815686,1.0))])]), 0, false, false, false, false, nothing, nothing, 0.0, Symbol(\"\")), Compose.Context(Measures.BoundingBox{Tuple{Measures.Length{:w,Float64},Measures.Length{:h,Float64}},Tuple{Measures.Length{:w,Float64},Measures.Length{:h,Float64}}}((0.0w, 0.0h), (1.0w, 1.0h)), nothing, nothing, nothing, nothing, List([]), List([Compose.Form{Compose.TextPrimitive{Tuple{Measures.Length{:cx,Float64},Measures.Length{:cy,Float64}},Compose.Rotation{Tuple{Measures.Length{:w,Float64},Measures.Length{:h,Float64}}},Tuple{Measures.Length{:mm,Float64},Measures.Length{:mm,Float64}}}}(Compose.TextPrimitive{Tuple{Measures.Length{:cx,Float64},Measures.Length{:cy,Float64}},Compose.Rotation{Tuple{Measures.Length{:w,Float64},Measures.Length{:h,Float64}}},Tuple{Measures.Length{:mm,Float64},Measures.Length{:mm,Float64}}}[TextPrimitive{Tuple{Length{:cx,Float64},Length{:cy,Float64}},Rotation{Tuple{Length{:w,Float64},Length{:h,Float64}}},Tuple{Length{:mm,Float64},Length{:mm,Float64}}}((-0.225273cx, -0.530233cy), \"scenariouncertainty\", HCenter(), VCenter(), Rotation{Tuple{Length{:w,Float64},Length{:h,Float64}}}(0.0, (0.5w, 0.5h)), (0.0mm, 0.0mm)), TextPrimitive{Tuple{Length{:cx,Float64},Length{:cy,Float64}},Rotation{Tuple{Length{:w,Float64},Length{:h,Float64}}},Tuple{Length{:mm,Float64},Length{:mm,Float64}}}((-0.339646cx, 0.0577374cy), \"population\", HCenter(), VCenter(), Rotation{Tuple{Length{:w,Float64},Length{:h,Float64}}}(0.0, (0.5w, 0.5h)), (0.0mm, 0.0mm)), TextPrimitive{Tuple{Length{:cx,Float64},Length{:cy,Float64}},Rotation{Tuple{Length{:w,Float64},Length{:h,Float64}}},Tuple{Length{:mm,Float64},Length{:mm,Float64}}}((-0.45468cx, 1.0cy), \"geography\", HCenter(), VCenter(), Rotation{Tuple{Length{:w,Float64},Length{:h,Float64}}}(0.0, (0.5w, 0.5h)), (0.0mm, 0.0mm)), TextPrimitive{Tuple{Length{:cx,Float64},Length{:cy,Float64}},Rotation{Tuple{Length{:w,Float64},Length{:h,Float64}}},Tuple{Length{:mm,Float64},Length{:mm,Float64}}}((-0.321977cx, 0.167058cy), \"socioeconomic\", HCenter(), VCenter(), Rotation{Tuple{Length{:w,Float64},Length{:h,Float64}}}(0.0, (0.5w, 0.5h)), (0.0mm, 0.0mm)), TextPrimitive{Tuple{Length{:cx,Float64},Length{:cy,Float64}},Rotation{Tuple{Length{:w,Float64},Length{:h,Float64}}},Tuple{Length{:mm,Float64},Length{:mm,Float64}}}((0.263739cx, -0.489054cy), \"emissions\", HCenter(), VCenter(), Rotation{Tuple{Length{:w,Float64},Length{:h,Float64}}}(0.0, (0.5w, 0.5h)), (0.0mm, 0.0mm)), TextPrimitive{Tuple{Length{:cx,Float64},Length{:cy,Float64}},Rotation{Tuple{Length{:w,Float64},Length{:h,Float64}}},Tuple{Length{:mm,Float64},Length{:mm,Float64}}}((0.434337cx, -0.156238cy), \"climateco2cycle\", HCenter(), VCenter(), Rotation{Tuple{Length{:w,Float64},Length{:h,Float64}}}(0.0, (0.5w, 0.5h)), (0.0mm, 0.0mm)), TextPrimitive{Tuple{Length{:cx,Float64},Length{:cy,Float64}},Rotation{Tuple{Length{:w,Float64},Length{:h,Float64}}},Tuple{Length{:mm,Float64},Length{:mm,Float64}}}((1.0cx, -0.753834cy), \"climatech4cycle\", HCenter(), VCenter(), Rotation{Tuple{Length{:w,Float64},Length{:h,Float64}}}(0.0, (0.5w, 0.5h)), (0.0mm, 0.0mm)), TextPrimitive{Tuple{Length{:cx,Float64},Length{:cy,Float64}},Rotation{Tuple{Length{:w,Float64},Length{:h,Float64}}},Tuple{Length{:mm,Float64},Length{:mm,Float64}}}((0.636969cx, -1.0cy), \"climaten2ocycle\", HCenter(), VCenter(), Rotation{Tuple{Length{:w,Float64},Length{:h,Float64}}}(0.0, (0.5w, 0.5h)), (0.0mm, 0.0mm)), TextPrimitive{Tuple{Length{:cx,Float64},Length{:cy,Float64}},Rotation{Tuple{Length{:w,Float64},Length{:h,Float64}}},Tuple{Length{:mm,Float64},Length{:mm,Float64}}}((0.844318cx, -0.936723cy), \"climatesf6cycle\", HCenter(), VCenter(), Rotation{Tuple{Length{:w,Float64},Length{:h,Float64}}}(0.0, (0.5w, 0.5h)), (0.0mm, 0.0mm)), TextPrimitive{Tuple{Length{:cx,Float64},Length{:cy,Float64}},Rotation{Tuple{Length{:w,Float64},Length{:h,Float64}}},Tuple{Length{:mm,Float64},Length{:mm,Float64}}}((0.868969cx, -0.466561cy), \"climateforcing\", HCenter(), VCenter(), Rotation{Tuple{Length{:w,Float64},Length{:h,Float64}}}(0.0, (0.5w, 0.5h)), (0.0mm, 0.0mm))  …  TextPrimitive{Tuple{Length{:cx,Float64},Length{:cy,Float64}},Rotation{Tuple{Length{:w,Float64},Length{:h,Float64}}},Tuple{Length{:mm,Float64},Length{:mm,Float64}}}((-0.301831cx, -0.169414cy), \"impactextratropicalstorms\", HCenter(), VCenter(), Rotation{Tuple{Length{:w,Float64},Length{:h,Float64}}}(0.0, (0.5w, 0.5h)), (0.0mm, 0.0mm)), TextPrimitive{Tuple{Length{:cx,Float64},Length{:cy,Float64}},Rotation{Tuple{Length{:w,Float64},Length{:h,Float64}}},Tuple{Length{:mm,Float64},Length{:mm,Float64}}}((0.105691cx, 0.0794113cy), \"impactforests\", HCenter(), VCenter(), Rotation{Tuple{Length{:w,Float64},Length{:h,Float64}}}(0.0, (0.5w, 0.5h)), (0.0mm, 0.0mm)), TextPrimitive{Tuple{Length{:cx,Float64},Length{:cy,Float64}},Rotation{Tuple{Length{:w,Float64},Length{:h,Float64}}},Tuple{Length{:mm,Float64},Length{:mm,Float64}}}((-0.129891cx, -0.240132cy), \"impactheating\", HCenter(), VCenter(), Rotation{Tuple{Length{:w,Float64},Length{:h,Float64}}}(0.0, (0.5w, 0.5h)), (0.0mm, 0.0mm)), TextPrimitive{Tuple{Length{:cx,Float64},Length{:cy,Float64}},Rotation{Tuple{Length{:w,Float64},Length{:h,Float64}}},Tuple{Length{:mm,Float64},Length{:mm,Float64}}}((-0.644927cx, -0.23176cy), \"impactvectorbornediseases\", HCenter(), VCenter(), Rotation{Tuple{Length{:w,Float64},Length{:h,Float64}}}(0.0, (0.5w, 0.5h)), (0.0mm, 0.0mm)), TextPrimitive{Tuple{Length{:cx,Float64},Length{:cy,Float64}},Rotation{Tuple{Length{:w,Float64},Length{:h,Float64}}},Tuple{Length{:mm,Float64},Length{:mm,Float64}}}((-0.591881cx, 0.389434cy), \"impacttropicalstorms\", HCenter(), VCenter(), Rotation{Tuple{Length{:w,Float64},Length{:h,Float64}}}(0.0, (0.5w, 0.5h)), (0.0mm, 0.0mm)), TextPrimitive{Tuple{Length{:cx,Float64},Length{:cy,Float64}},Rotation{Tuple{Length{:w,Float64},Length{:h,Float64}}},Tuple{Length{:mm,Float64},Length{:mm,Float64}}}((-1.0cx, 0.131698cy), \"vslvmorb\", HCenter(), VCenter(), Rotation{Tuple{Length{:w,Float64},Length{:h,Float64}}}(0.0, (0.5w, 0.5h)), (0.0mm, 0.0mm)), TextPrimitive{Tuple{Length{:cx,Float64},Length{:cy,Float64}},Rotation{Tuple{Length{:w,Float64},Length{:h,Float64}}},Tuple{Length{:mm,Float64},Length{:mm,Float64}}}((-0.739761cx, 0.0993961cy), \"impactdeathmorbidity\", HCenter(), VCenter(), Rotation{Tuple{Length{:w,Float64},Length{:h,Float64}}}(0.0, (0.5w, 0.5h)), (0.0mm, 0.0mm)), TextPrimitive{Tuple{Length{:cx,Float64},Length{:cy,Float64}},Rotation{Tuple{Length{:w,Float64},Length{:h,Float64}}},Tuple{Length{:mm,Float64},Length{:mm,Float64}}}((-0.44172cx, 0.589048cy), \"impactwaterresources\", HCenter(), VCenter(), Rotation{Tuple{Length{:w,Float64},Length{:h,Float64}}}(0.0, (0.5w, 0.5h)), (0.0mm, 0.0mm)), TextPrimitive{Tuple{Length{:cx,Float64},Length{:cy,Float64}},Rotation{Tuple{Length{:w,Float64},Length{:h,Float64}}},Tuple{Length{:mm,Float64},Length{:mm,Float64}}}((-0.106562cx, 0.748333cy), \"impactsealevelrise\", HCenter(), VCenter(), Rotation{Tuple{Length{:w,Float64},Length{:h,Float64}}}(0.0, (0.5w, 0.5h)), (0.0mm, 0.0mm)), TextPrimitive{Tuple{Length{:cx,Float64},Length{:cy,Float64}},Rotation{Tuple{Length{:w,Float64},Length{:h,Float64}}},Tuple{Length{:mm,Float64},Length{:mm,Float64}}}((-0.220473cx, 0.325305cy), \"impactaggregation\", HCenter(), VCenter(), Rotation{Tuple{Length{:w,Float64},Length{:h,Float64}}}(0.0, (0.5w, 0.5h)), (0.0mm, 0.0mm))], Symbol(\"\"))]), List([Compose.Property{Compose.FontSizePrimitive}(Compose.FontSizePrimitive[FontSizePrimitive(4.0mm)]), Compose.Property{Compose.StrokePrimitive}(Compose.StrokePrimitive[StrokePrimitive(RGBA{Float64}(0.0,0.0,0.0,0.0))]), Compose.Property{Compose.FillPrimitive}(Compose.FillPrimitive[FillPrimitive(RGBA{Float64}(0.0,0.0,0.0,1.0))])]), 0, false, false, false, false, nothing, nothing, 0.0, Symbol(\"\"))]), List([]), List([]), 0, false, false, false, false, nothing, nothing, 0.0, Symbol(\"\"))"
      ]
     },
     "execution_count": 22,
     "metadata": {},
     "output_type": "execute_result"
    }
   ],
   "source": [
    "plot_comp_graph(m_fund)"
   ]
  },
  {
   "cell_type": "code",
   "execution_count": 23,
   "metadata": {},
   "outputs": [],
   "source": [
    "run(m_fund)"
   ]
  },
  {
   "cell_type": "markdown",
   "metadata": {},
   "source": [
    "If you are running this notebook on your local computer, you can explore the results of your model interactively:"
   ]
  },
  {
   "cell_type": "code",
   "execution_count": 24,
   "metadata": {},
   "outputs": [],
   "source": [
    "if use_explore\n",
    "    explore(m_fund)\n",
    "end"
   ]
  },
  {
   "cell_type": "markdown",
   "metadata": {},
   "source": [
    "### MimiDICE2013"
   ]
  },
  {
   "cell_type": "markdown",
   "metadata": {},
   "source": [
    "This section shows how you can run [MimiDICE2013.jl](https://github.com/anthofflab/MimiDICE2013.jl). All the function calls and patterns are identical to the previous section, so they are not documented again."
   ]
  },
  {
   "cell_type": "code",
   "execution_count": 25,
   "metadata": {},
   "outputs": [],
   "source": [
    "using MimiDICE2013"
   ]
  },
  {
   "cell_type": "code",
   "execution_count": 26,
   "metadata": {},
   "outputs": [
    {
     "data": {
      "text/plain": [
       "8-component Mimi.Model:\n",
       "  grosseconomy::MimiDICE2013.grosseconomy\n",
       "  emissions::MimiDICE2013.emissions\n",
       "  co2cycle::MimiDICE2013.co2cycle\n",
       "  radiativeforcing::MimiDICE2013.radiativeforcing\n",
       "  climatedynamics::MimiDICE2013.climatedynamics\n",
       "  damages::MimiDICE2013.damages\n",
       "  neteconomy::MimiDICE2013.neteconomy\n",
       "  welfare::MimiDICE2013.welfare\n"
      ]
     },
     "execution_count": 26,
     "metadata": {},
     "output_type": "execute_result"
    }
   ],
   "source": [
    "m_dice2013 = MimiDICE2013.get_model()"
   ]
  },
  {
   "cell_type": "code",
   "execution_count": 27,
   "metadata": {},
   "outputs": [
    {
     "data": {
      "image/svg+xml": [
       "<?xml version=\"1.0\" encoding=\"UTF-8\"?>\n",
       "<svg xmlns=\"http://www.w3.org/2000/svg\"\n",
       "     xmlns:xlink=\"http://www.w3.org/1999/xlink\"\n",
       "     version=\"1.2\"\n",
       "     width=\"141.42mm\" height=\"100mm\" viewBox=\"0 0 141.42 100\"\n",
       "     stroke=\"none\"\n",
       "     fill=\"#000000\"\n",
       "     stroke-width=\"0.3\"\n",
       "     font-size=\"3.88\"\n",
       ">\n",
       "<defs>\n",
       "  <marker id=\"arrow\" markerWidth=\"15\" markerHeight=\"7\" refX=\"5\" refY=\"3.5\" orient=\"auto\" markerUnits=\"strokeWidth\">\n",
       "    <path d=\"M0,0 L15,3.5 L0,7 z\" stroke=\"context-stroke\" fill=\"context-stroke\"/>\n",
       "  </marker>\n",
       "</defs>\n",
       "<g stroke-width=\"1.06\" fill=\"#000000\" fill-opacity=\"0.000\" stroke=\"#D3D3D3\" id=\"img-f7a0eaa4-1\">\n",
       "  <g transform=\"translate(81.58,23.13)\">\n",
       "    <path fill=\"none\" d=\"M-11.62,11.78 L 11.62 -11.78\" class=\"primitive\"/>\n",
       "  </g>\n",
       "  <g transform=\"translate(69.01,58.66)\">\n",
       "    <path fill=\"none\" d=\"M-1.66,-17.06 L 1.66 17.06\" class=\"primitive\"/>\n",
       "  </g>\n",
       "  <g transform=\"translate(54.64,51.93)\">\n",
       "    <path fill=\"none\" d=\"M9.59,-10.88 L -9.59 10.88\" class=\"primitive\"/>\n",
       "  </g>\n",
       "  <g transform=\"translate(110.72,13.68)\">\n",
       "    <path fill=\"none\" d=\"M-9.92,-3.65 L 9.92 3.65\" class=\"primitive\"/>\n",
       "  </g>\n",
       "  <g transform=\"translate(127.45,42.27)\">\n",
       "    <path fill=\"none\" d=\"M-1.84,-19.56 L 1.84 19.56\" class=\"primitive\"/>\n",
       "  </g>\n",
       "  <g transform=\"translate(116.81,78.58)\">\n",
       "    <path fill=\"none\" d=\"M9.86,-10.06 L -9.86 10.06\" class=\"primitive\"/>\n",
       "  </g>\n",
       "  <g transform=\"translate(87.51,85.53)\">\n",
       "    <path fill=\"none\" d=\"M11.87,4.42 L -11.87 -4.42\" class=\"primitive\"/>\n",
       "  </g>\n",
       "  <g transform=\"translate(56.66,72.67)\">\n",
       "    <path fill=\"none\" d=\"M10.03,4.7 L -10.03 -4.7\" class=\"primitive\"/>\n",
       "  </g>\n",
       "  <g transform=\"translate(54.64,51.93)\">\n",
       "    <path fill=\"none\" d=\"M-9.59,10.88 L 9.59 -10.88\" class=\"primitive\"/>\n",
       "  </g>\n",
       "  <g transform=\"translate(27.04,70.13)\">\n",
       "    <path fill=\"none\" d=\"M10.4,-2.86 L -10.4 2.86\" class=\"primitive\"/>\n",
       "  </g>\n",
       "</g>\n",
       "<g stroke-width=\"1.06\" stroke=\"#D3D3D3\" id=\"img-f7a0eaa4-2\">\n",
       "  <g transform=\"translate(91.09,13.49)\">\n",
       "    <path fill=\"none\" d=\"M-2.71,0.26 L 2.11 -2.14 0.6 1.89\" class=\"primitive\"/>\n",
       "  </g>\n",
       "  <g transform=\"translate(70.41,73.12)\">\n",
       "    <path fill=\"none\" d=\"M1.88,-1.4 L 0.25 2.6 -2.14 -1.2\" class=\"primitive\"/>\n",
       "  </g>\n",
       "  <g transform=\"translate(47,60.6)\">\n",
       "    <path fill=\"none\" d=\"M2.69,-0.35 L -1.95 2.22 -0.73 -1.86\" class=\"primitive\"/>\n",
       "  </g>\n",
       "  <g transform=\"translate(117.36,16.13)\">\n",
       "    <path fill=\"none\" d=\"M-0.71,-1.87 L 3.27 1.21 -2.57 0.66\" class=\"primitive\"/>\n",
       "  </g>\n",
       "  <g transform=\"translate(129.04,59.22)\">\n",
       "    <path fill=\"none\" d=\"M1.89,-1.4 L 0.25 2.6 -2.13 -1.21\" class=\"primitive\"/>\n",
       "  </g>\n",
       "  <g transform=\"translate(109.06,86.49)\">\n",
       "    <path fill=\"none\" d=\"M2.71,-0.26 L -2.1 2.15 -0.61 -1.88\" class=\"primitive\"/>\n",
       "  </g>\n",
       "  <g transform=\"translate(78.9,82.33)\">\n",
       "    <path fill=\"none\" d=\"M0.69,1.87 L -3.27 -1.22 2.57 -0.65\" class=\"primitive\"/>\n",
       "  </g>\n",
       "  <g transform=\"translate(49.71,69.41)\">\n",
       "    <path fill=\"none\" d=\"M0.43,1.91 L -3.08 -1.44 2.65 -0.47\" class=\"primitive\"/>\n",
       "  </g>\n",
       "  <g transform=\"translate(62.28,43.27)\">\n",
       "    <path fill=\"none\" d=\"M-2.69,0.35 L 1.95 -2.22 0.73 1.86\" class=\"primitive\"/>\n",
       "  </g>\n",
       "  <g transform=\"translate(20.08,72.05)\">\n",
       "    <path fill=\"none\" d=\"M2.45,0.85 L -3.44 0.95 0.99 -1.8\" class=\"primitive\"/>\n",
       "  </g>\n",
       "</g>\n",
       "<g font-size=\"4\" stroke=\"#000000\" stroke-opacity=\"0.000\" fill=\"#000000\" id=\"img-f7a0eaa4-3\">\n",
       "</g>\n",
       "<g stroke-width=\"0\" stroke=\"#000000\" stroke-opacity=\"0.000\" fill=\"#40E0D0\" id=\"img-f7a0eaa4-4\">\n",
       "  <g transform=\"translate(66.99,37.93)\">\n",
       "    <circle cx=\"0\" cy=\"0\" r=\"5\" class=\"primitive\"/>\n",
       "  </g>\n",
       "  <g transform=\"translate(96.18,8.33)\">\n",
       "    <circle cx=\"0\" cy=\"0\" r=\"5\" class=\"primitive\"/>\n",
       "  </g>\n",
       "  <g transform=\"translate(125.26,19.04)\">\n",
       "    <circle cx=\"0\" cy=\"0\" r=\"5\" class=\"primitive\"/>\n",
       "  </g>\n",
       "  <g transform=\"translate(129.64,65.5)\">\n",
       "    <circle cx=\"0\" cy=\"0\" r=\"5\" class=\"primitive\"/>\n",
       "  </g>\n",
       "  <g transform=\"translate(103.99,91.67)\">\n",
       "    <circle cx=\"0\" cy=\"0\" r=\"5\" class=\"primitive\"/>\n",
       "  </g>\n",
       "  <g transform=\"translate(71.03,79.4)\">\n",
       "    <circle cx=\"0\" cy=\"0\" r=\"5\" class=\"primitive\"/>\n",
       "  </g>\n",
       "  <g transform=\"translate(42.29,65.94)\">\n",
       "    <circle cx=\"0\" cy=\"0\" r=\"5\" class=\"primitive\"/>\n",
       "  </g>\n",
       "  <g transform=\"translate(11.79,74.33)\">\n",
       "    <circle cx=\"0\" cy=\"0\" r=\"5\" class=\"primitive\"/>\n",
       "  </g>\n",
       "</g>\n",
       "<g font-size=\"4\" stroke=\"#000000\" stroke-opacity=\"0.000\" fill=\"#000000\" id=\"img-f7a0eaa4-5\">\n",
       "  <g transform=\"translate(66.99,37.93)\">\n",
       "    <g class=\"primitive\">\n",
       "      <text text-anchor=\"middle\" dy=\"0.35em\">grosseconomy</text>\n",
       "    </g>\n",
       "  </g>\n",
       "  <g transform=\"translate(96.18,8.33)\">\n",
       "    <g class=\"primitive\">\n",
       "      <text text-anchor=\"middle\" dy=\"0.35em\">emissions</text>\n",
       "    </g>\n",
       "  </g>\n",
       "  <g transform=\"translate(125.26,19.04)\">\n",
       "    <g class=\"primitive\">\n",
       "      <text text-anchor=\"middle\" dy=\"0.35em\">co2cycle</text>\n",
       "    </g>\n",
       "  </g>\n",
       "  <g transform=\"translate(129.64,65.5)\">\n",
       "    <g class=\"primitive\">\n",
       "      <text text-anchor=\"middle\" dy=\"0.35em\">radiativeforcing</text>\n",
       "    </g>\n",
       "  </g>\n",
       "  <g transform=\"translate(103.99,91.67)\">\n",
       "    <g class=\"primitive\">\n",
       "      <text text-anchor=\"middle\" dy=\"0.35em\">climatedynamics</text>\n",
       "    </g>\n",
       "  </g>\n",
       "  <g transform=\"translate(71.03,79.4)\">\n",
       "    <g class=\"primitive\">\n",
       "      <text text-anchor=\"middle\" dy=\"0.35em\">damages</text>\n",
       "    </g>\n",
       "  </g>\n",
       "  <g transform=\"translate(42.29,65.94)\">\n",
       "    <g class=\"primitive\">\n",
       "      <text text-anchor=\"middle\" dy=\"0.35em\">neteconomy</text>\n",
       "    </g>\n",
       "  </g>\n",
       "  <g transform=\"translate(11.79,74.33)\">\n",
       "    <g class=\"primitive\">\n",
       "      <text text-anchor=\"middle\" dy=\"0.35em\">welfare</text>\n",
       "    </g>\n",
       "  </g>\n",
       "</g>\n",
       "</svg>\n"
      ],
      "text/html": [
       "<?xml version=\"1.0\" encoding=\"UTF-8\"?>\n",
       "<svg xmlns=\"http://www.w3.org/2000/svg\"\n",
       "     xmlns:xlink=\"http://www.w3.org/1999/xlink\"\n",
       "     version=\"1.2\"\n",
       "     width=\"141.42mm\" height=\"100mm\" viewBox=\"0 0 141.42 100\"\n",
       "     stroke=\"none\"\n",
       "     fill=\"#000000\"\n",
       "     stroke-width=\"0.3\"\n",
       "     font-size=\"3.88\"\n",
       "\n",
       "     id=\"img-83d9487a\">\n",
       "<defs>\n",
       "  <marker id=\"arrow\" markerWidth=\"15\" markerHeight=\"7\" refX=\"5\" refY=\"3.5\" orient=\"auto\" markerUnits=\"strokeWidth\">\n",
       "    <path d=\"M0,0 L15,3.5 L0,7 z\" stroke=\"context-stroke\" fill=\"context-stroke\"/>\n",
       "  </marker>\n",
       "</defs>\n",
       "<g stroke-width=\"1.06\" fill=\"#000000\" fill-opacity=\"0.000\" stroke=\"#D3D3D3\" id=\"img-83d9487a-1\">\n",
       "  <g transform=\"translate(81.58,23.13)\">\n",
       "    <path fill=\"none\" d=\"M-11.62,11.78 L 11.62 -11.78\" class=\"primitive\"/>\n",
       "  </g>\n",
       "  <g transform=\"translate(69.01,58.66)\">\n",
       "    <path fill=\"none\" d=\"M-1.66,-17.06 L 1.66 17.06\" class=\"primitive\"/>\n",
       "  </g>\n",
       "  <g transform=\"translate(54.64,51.93)\">\n",
       "    <path fill=\"none\" d=\"M9.59,-10.88 L -9.59 10.88\" class=\"primitive\"/>\n",
       "  </g>\n",
       "  <g transform=\"translate(110.72,13.68)\">\n",
       "    <path fill=\"none\" d=\"M-9.92,-3.65 L 9.92 3.65\" class=\"primitive\"/>\n",
       "  </g>\n",
       "  <g transform=\"translate(127.45,42.27)\">\n",
       "    <path fill=\"none\" d=\"M-1.84,-19.56 L 1.84 19.56\" class=\"primitive\"/>\n",
       "  </g>\n",
       "  <g transform=\"translate(116.81,78.58)\">\n",
       "    <path fill=\"none\" d=\"M9.86,-10.06 L -9.86 10.06\" class=\"primitive\"/>\n",
       "  </g>\n",
       "  <g transform=\"translate(87.51,85.53)\">\n",
       "    <path fill=\"none\" d=\"M11.87,4.42 L -11.87 -4.42\" class=\"primitive\"/>\n",
       "  </g>\n",
       "  <g transform=\"translate(56.66,72.67)\">\n",
       "    <path fill=\"none\" d=\"M10.03,4.7 L -10.03 -4.7\" class=\"primitive\"/>\n",
       "  </g>\n",
       "  <g transform=\"translate(54.64,51.93)\">\n",
       "    <path fill=\"none\" d=\"M-9.59,10.88 L 9.59 -10.88\" class=\"primitive\"/>\n",
       "  </g>\n",
       "  <g transform=\"translate(27.04,70.13)\">\n",
       "    <path fill=\"none\" d=\"M10.4,-2.86 L -10.4 2.86\" class=\"primitive\"/>\n",
       "  </g>\n",
       "</g>\n",
       "<g stroke-width=\"1.06\" stroke=\"#D3D3D3\" id=\"img-83d9487a-2\">\n",
       "  <g transform=\"translate(91.09,13.49)\">\n",
       "    <path fill=\"none\" d=\"M-2.71,0.26 L 2.11 -2.14 0.6 1.89\" class=\"primitive\"/>\n",
       "  </g>\n",
       "  <g transform=\"translate(70.41,73.12)\">\n",
       "    <path fill=\"none\" d=\"M1.88,-1.4 L 0.25 2.6 -2.14 -1.2\" class=\"primitive\"/>\n",
       "  </g>\n",
       "  <g transform=\"translate(47,60.6)\">\n",
       "    <path fill=\"none\" d=\"M2.69,-0.35 L -1.95 2.22 -0.73 -1.86\" class=\"primitive\"/>\n",
       "  </g>\n",
       "  <g transform=\"translate(117.36,16.13)\">\n",
       "    <path fill=\"none\" d=\"M-0.71,-1.87 L 3.27 1.21 -2.57 0.66\" class=\"primitive\"/>\n",
       "  </g>\n",
       "  <g transform=\"translate(129.04,59.22)\">\n",
       "    <path fill=\"none\" d=\"M1.89,-1.4 L 0.25 2.6 -2.13 -1.21\" class=\"primitive\"/>\n",
       "  </g>\n",
       "  <g transform=\"translate(109.06,86.49)\">\n",
       "    <path fill=\"none\" d=\"M2.71,-0.26 L -2.1 2.15 -0.61 -1.88\" class=\"primitive\"/>\n",
       "  </g>\n",
       "  <g transform=\"translate(78.9,82.33)\">\n",
       "    <path fill=\"none\" d=\"M0.69,1.87 L -3.27 -1.22 2.57 -0.65\" class=\"primitive\"/>\n",
       "  </g>\n",
       "  <g transform=\"translate(49.71,69.41)\">\n",
       "    <path fill=\"none\" d=\"M0.43,1.91 L -3.08 -1.44 2.65 -0.47\" class=\"primitive\"/>\n",
       "  </g>\n",
       "  <g transform=\"translate(62.28,43.27)\">\n",
       "    <path fill=\"none\" d=\"M-2.69,0.35 L 1.95 -2.22 0.73 1.86\" class=\"primitive\"/>\n",
       "  </g>\n",
       "  <g transform=\"translate(20.08,72.05)\">\n",
       "    <path fill=\"none\" d=\"M2.45,0.85 L -3.44 0.95 0.99 -1.8\" class=\"primitive\"/>\n",
       "  </g>\n",
       "</g>\n",
       "<g font-size=\"4\" stroke=\"#000000\" stroke-opacity=\"0.000\" fill=\"#000000\" id=\"img-83d9487a-3\">\n",
       "</g>\n",
       "<g stroke-width=\"0\" stroke=\"#000000\" stroke-opacity=\"0.000\" fill=\"#40E0D0\" id=\"img-83d9487a-4\">\n",
       "  <g transform=\"translate(66.99,37.93)\">\n",
       "    <circle cx=\"0\" cy=\"0\" r=\"5\" class=\"primitive\"/>\n",
       "  </g>\n",
       "  <g transform=\"translate(96.18,8.33)\">\n",
       "    <circle cx=\"0\" cy=\"0\" r=\"5\" class=\"primitive\"/>\n",
       "  </g>\n",
       "  <g transform=\"translate(125.26,19.04)\">\n",
       "    <circle cx=\"0\" cy=\"0\" r=\"5\" class=\"primitive\"/>\n",
       "  </g>\n",
       "  <g transform=\"translate(129.64,65.5)\">\n",
       "    <circle cx=\"0\" cy=\"0\" r=\"5\" class=\"primitive\"/>\n",
       "  </g>\n",
       "  <g transform=\"translate(103.99,91.67)\">\n",
       "    <circle cx=\"0\" cy=\"0\" r=\"5\" class=\"primitive\"/>\n",
       "  </g>\n",
       "  <g transform=\"translate(71.03,79.4)\">\n",
       "    <circle cx=\"0\" cy=\"0\" r=\"5\" class=\"primitive\"/>\n",
       "  </g>\n",
       "  <g transform=\"translate(42.29,65.94)\">\n",
       "    <circle cx=\"0\" cy=\"0\" r=\"5\" class=\"primitive\"/>\n",
       "  </g>\n",
       "  <g transform=\"translate(11.79,74.33)\">\n",
       "    <circle cx=\"0\" cy=\"0\" r=\"5\" class=\"primitive\"/>\n",
       "  </g>\n",
       "</g>\n",
       "<g font-size=\"4\" stroke=\"#000000\" stroke-opacity=\"0.000\" fill=\"#000000\" id=\"img-83d9487a-5\">\n",
       "  <g transform=\"translate(66.99,37.93)\">\n",
       "    <g class=\"primitive\">\n",
       "      <text text-anchor=\"middle\" dy=\"0.35em\">grosseconomy</text>\n",
       "    </g>\n",
       "  </g>\n",
       "  <g transform=\"translate(96.18,8.33)\">\n",
       "    <g class=\"primitive\">\n",
       "      <text text-anchor=\"middle\" dy=\"0.35em\">emissions</text>\n",
       "    </g>\n",
       "  </g>\n",
       "  <g transform=\"translate(125.26,19.04)\">\n",
       "    <g class=\"primitive\">\n",
       "      <text text-anchor=\"middle\" dy=\"0.35em\">co2cycle</text>\n",
       "    </g>\n",
       "  </g>\n",
       "  <g transform=\"translate(129.64,65.5)\">\n",
       "    <g class=\"primitive\">\n",
       "      <text text-anchor=\"middle\" dy=\"0.35em\">radiativeforcing</text>\n",
       "    </g>\n",
       "  </g>\n",
       "  <g transform=\"translate(103.99,91.67)\">\n",
       "    <g class=\"primitive\">\n",
       "      <text text-anchor=\"middle\" dy=\"0.35em\">climatedynamics</text>\n",
       "    </g>\n",
       "  </g>\n",
       "  <g transform=\"translate(71.03,79.4)\">\n",
       "    <g class=\"primitive\">\n",
       "      <text text-anchor=\"middle\" dy=\"0.35em\">damages</text>\n",
       "    </g>\n",
       "  </g>\n",
       "  <g transform=\"translate(42.29,65.94)\">\n",
       "    <g class=\"primitive\">\n",
       "      <text text-anchor=\"middle\" dy=\"0.35em\">neteconomy</text>\n",
       "    </g>\n",
       "  </g>\n",
       "  <g transform=\"translate(11.79,74.33)\">\n",
       "    <g class=\"primitive\">\n",
       "      <text text-anchor=\"middle\" dy=\"0.35em\">welfare</text>\n",
       "    </g>\n",
       "  </g>\n",
       "</g>\n",
       "<script> <![CDATA[\n",
       "(function(N){var k=/[\\.\\/]/,L=/\\s*,\\s*/,C=function(a,d){return a-d},a,v,y={n:{}},M=function(){for(var a=0,d=this.length;a<d;a++)if(\"undefined\"!=typeof this[a])return this[a]},A=function(){for(var a=this.length;--a;)if(\"undefined\"!=typeof this[a])return this[a]},w=function(k,d){k=String(k);var f=v,n=Array.prototype.slice.call(arguments,2),u=w.listeners(k),p=0,b,q=[],e={},l=[],r=a;l.firstDefined=M;l.lastDefined=A;a=k;for(var s=v=0,x=u.length;s<x;s++)\"zIndex\"in u[s]&&(q.push(u[s].zIndex),0>u[s].zIndex&&\n",
       "(e[u[s].zIndex]=u[s]));for(q.sort(C);0>q[p];)if(b=e[q[p++] ],l.push(b.apply(d,n)),v)return v=f,l;for(s=0;s<x;s++)if(b=u[s],\"zIndex\"in b)if(b.zIndex==q[p]){l.push(b.apply(d,n));if(v)break;do if(p++,(b=e[q[p] ])&&l.push(b.apply(d,n)),v)break;while(b)}else e[b.zIndex]=b;else if(l.push(b.apply(d,n)),v)break;v=f;a=r;return l};w._events=y;w.listeners=function(a){a=a.split(k);var d=y,f,n,u,p,b,q,e,l=[d],r=[];u=0;for(p=a.length;u<p;u++){e=[];b=0;for(q=l.length;b<q;b++)for(d=l[b].n,f=[d[a[u] ],d[\"*\"] ],n=2;n--;)if(d=\n",
       "f[n])e.push(d),r=r.concat(d.f||[]);l=e}return r};w.on=function(a,d){a=String(a);if(\"function\"!=typeof d)return function(){};for(var f=a.split(L),n=0,u=f.length;n<u;n++)(function(a){a=a.split(k);for(var b=y,f,e=0,l=a.length;e<l;e++)b=b.n,b=b.hasOwnProperty(a[e])&&b[a[e] ]||(b[a[e] ]={n:{}});b.f=b.f||[];e=0;for(l=b.f.length;e<l;e++)if(b.f[e]==d){f=!0;break}!f&&b.f.push(d)})(f[n]);return function(a){+a==+a&&(d.zIndex=+a)}};w.f=function(a){var d=[].slice.call(arguments,1);return function(){w.apply(null,\n",
       "[a,null].concat(d).concat([].slice.call(arguments,0)))}};w.stop=function(){v=1};w.nt=function(k){return k?(new RegExp(\"(?:\\\\.|\\\\/|^)\"+k+\"(?:\\\\.|\\\\/|$)\")).test(a):a};w.nts=function(){return a.split(k)};w.off=w.unbind=function(a,d){if(a){var f=a.split(L);if(1<f.length)for(var n=0,u=f.length;n<u;n++)w.off(f[n],d);else{for(var f=a.split(k),p,b,q,e,l=[y],n=0,u=f.length;n<u;n++)for(e=0;e<l.length;e+=q.length-2){q=[e,1];p=l[e].n;if(\"*\"!=f[n])p[f[n] ]&&q.push(p[f[n] ]);else for(b in p)p.hasOwnProperty(b)&&\n",
       "q.push(p[b]);l.splice.apply(l,q)}n=0;for(u=l.length;n<u;n++)for(p=l[n];p.n;){if(d){if(p.f){e=0;for(f=p.f.length;e<f;e++)if(p.f[e]==d){p.f.splice(e,1);break}!p.f.length&&delete p.f}for(b in p.n)if(p.n.hasOwnProperty(b)&&p.n[b].f){q=p.n[b].f;e=0;for(f=q.length;e<f;e++)if(q[e]==d){q.splice(e,1);break}!q.length&&delete p.n[b].f}}else for(b in delete p.f,p.n)p.n.hasOwnProperty(b)&&p.n[b].f&&delete p.n[b].f;p=p.n}}}else w._events=y={n:{}}};w.once=function(a,d){var f=function(){w.unbind(a,f);return d.apply(this,\n",
       "arguments)};return w.on(a,f)};w.version=\"0.4.2\";w.toString=function(){return\"You are running Eve 0.4.2\"};\"undefined\"!=typeof module&&module.exports?module.exports=w:\"function\"===typeof define&&define.amd?define(\"eve\",[],function(){return w}):N.eve=w})(this);\n",
       "(function(N,k){\"function\"===typeof define&&define.amd?define(\"Snap.svg\",[\"eve\"],function(L){return k(N,L)}):k(N,N.eve)})(this,function(N,k){var L=function(a){var k={},y=N.requestAnimationFrame||N.webkitRequestAnimationFrame||N.mozRequestAnimationFrame||N.oRequestAnimationFrame||N.msRequestAnimationFrame||function(a){setTimeout(a,16)},M=Array.isArray||function(a){return a instanceof Array||\"[object Array]\"==Object.prototype.toString.call(a)},A=0,w=\"M\"+(+new Date).toString(36),z=function(a){if(null==\n",
       "a)return this.s;var b=this.s-a;this.b+=this.dur*b;this.B+=this.dur*b;this.s=a},d=function(a){if(null==a)return this.spd;this.spd=a},f=function(a){if(null==a)return this.dur;this.s=this.s*a/this.dur;this.dur=a},n=function(){delete k[this.id];this.update();a(\"mina.stop.\"+this.id,this)},u=function(){this.pdif||(delete k[this.id],this.update(),this.pdif=this.get()-this.b)},p=function(){this.pdif&&(this.b=this.get()-this.pdif,delete this.pdif,k[this.id]=this)},b=function(){var a;if(M(this.start)){a=[];\n",
       "for(var b=0,e=this.start.length;b<e;b++)a[b]=+this.start[b]+(this.end[b]-this.start[b])*this.easing(this.s)}else a=+this.start+(this.end-this.start)*this.easing(this.s);this.set(a)},q=function(){var l=0,b;for(b in k)if(k.hasOwnProperty(b)){var e=k[b],f=e.get();l++;e.s=(f-e.b)/(e.dur/e.spd);1<=e.s&&(delete k[b],e.s=1,l--,function(b){setTimeout(function(){a(\"mina.finish.\"+b.id,b)})}(e));e.update()}l&&y(q)},e=function(a,r,s,x,G,h,J){a={id:w+(A++).toString(36),start:a,end:r,b:s,s:0,dur:x-s,spd:1,get:G,\n",
       "set:h,easing:J||e.linear,status:z,speed:d,duration:f,stop:n,pause:u,resume:p,update:b};k[a.id]=a;r=0;for(var K in k)if(k.hasOwnProperty(K)&&(r++,2==r))break;1==r&&y(q);return a};e.time=Date.now||function(){return+new Date};e.getById=function(a){return k[a]||null};e.linear=function(a){return a};e.easeout=function(a){return Math.pow(a,1.7)};e.easein=function(a){return Math.pow(a,0.48)};e.easeinout=function(a){if(1==a)return 1;if(0==a)return 0;var b=0.48-a/1.04,e=Math.sqrt(0.1734+b*b);a=e-b;a=Math.pow(Math.abs(a),\n",
       "1/3)*(0>a?-1:1);b=-e-b;b=Math.pow(Math.abs(b),1/3)*(0>b?-1:1);a=a+b+0.5;return 3*(1-a)*a*a+a*a*a};e.backin=function(a){return 1==a?1:a*a*(2.70158*a-1.70158)};e.backout=function(a){if(0==a)return 0;a-=1;return a*a*(2.70158*a+1.70158)+1};e.elastic=function(a){return a==!!a?a:Math.pow(2,-10*a)*Math.sin(2*(a-0.075)*Math.PI/0.3)+1};e.bounce=function(a){a<1/2.75?a*=7.5625*a:a<2/2.75?(a-=1.5/2.75,a=7.5625*a*a+0.75):a<2.5/2.75?(a-=2.25/2.75,a=7.5625*a*a+0.9375):(a-=2.625/2.75,a=7.5625*a*a+0.984375);return a};\n",
       "return N.mina=e}(\"undefined\"==typeof k?function(){}:k),C=function(){function a(c,t){if(c){if(c.tagName)return x(c);if(y(c,\"array\")&&a.set)return a.set.apply(a,c);if(c instanceof e)return c;if(null==t)return c=G.doc.querySelector(c),x(c)}return new s(null==c?\"100%\":c,null==t?\"100%\":t)}function v(c,a){if(a){\"#text\"==c&&(c=G.doc.createTextNode(a.text||\"\"));\"string\"==typeof c&&(c=v(c));if(\"string\"==typeof a)return\"xlink:\"==a.substring(0,6)?c.getAttributeNS(m,a.substring(6)):\"xml:\"==a.substring(0,4)?c.getAttributeNS(la,\n",
       "a.substring(4)):c.getAttribute(a);for(var da in a)if(a[h](da)){var b=J(a[da]);b?\"xlink:\"==da.substring(0,6)?c.setAttributeNS(m,da.substring(6),b):\"xml:\"==da.substring(0,4)?c.setAttributeNS(la,da.substring(4),b):c.setAttribute(da,b):c.removeAttribute(da)}}else c=G.doc.createElementNS(la,c);return c}function y(c,a){a=J.prototype.toLowerCase.call(a);return\"finite\"==a?isFinite(c):\"array\"==a&&(c instanceof Array||Array.isArray&&Array.isArray(c))?!0:\"null\"==a&&null===c||a==typeof c&&null!==c||\"object\"==\n",
       "a&&c===Object(c)||$.call(c).slice(8,-1).toLowerCase()==a}function M(c){if(\"function\"==typeof c||Object(c)!==c)return c;var a=new c.constructor,b;for(b in c)c[h](b)&&(a[b]=M(c[b]));return a}function A(c,a,b){function m(){var e=Array.prototype.slice.call(arguments,0),f=e.join(\"\\u2400\"),d=m.cache=m.cache||{},l=m.count=m.count||[];if(d[h](f)){a:for(var e=l,l=f,B=0,H=e.length;B<H;B++)if(e[B]===l){e.push(e.splice(B,1)[0]);break a}return b?b(d[f]):d[f]}1E3<=l.length&&delete d[l.shift()];l.push(f);d[f]=c.apply(a,\n",
       "e);return b?b(d[f]):d[f]}return m}function w(c,a,b,m,e,f){return null==e?(c-=b,a-=m,c||a?(180*I.atan2(-a,-c)/C+540)%360:0):w(c,a,e,f)-w(b,m,e,f)}function z(c){return c%360*C/180}function d(c){var a=[];c=c.replace(/(?:^|\\s)(\\w+)\\(([^)]+)\\)/g,function(c,b,m){m=m.split(/\\s*,\\s*|\\s+/);\"rotate\"==b&&1==m.length&&m.push(0,0);\"scale\"==b&&(2<m.length?m=m.slice(0,2):2==m.length&&m.push(0,0),1==m.length&&m.push(m[0],0,0));\"skewX\"==b?a.push([\"m\",1,0,I.tan(z(m[0])),1,0,0]):\"skewY\"==b?a.push([\"m\",1,I.tan(z(m[0])),\n",
       "0,1,0,0]):a.push([b.charAt(0)].concat(m));return c});return a}function f(c,t){var b=O(c),m=new a.Matrix;if(b)for(var e=0,f=b.length;e<f;e++){var h=b[e],d=h.length,B=J(h[0]).toLowerCase(),H=h[0]!=B,l=H?m.invert():0,E;\"t\"==B&&2==d?m.translate(h[1],0):\"t\"==B&&3==d?H?(d=l.x(0,0),B=l.y(0,0),H=l.x(h[1],h[2]),l=l.y(h[1],h[2]),m.translate(H-d,l-B)):m.translate(h[1],h[2]):\"r\"==B?2==d?(E=E||t,m.rotate(h[1],E.x+E.width/2,E.y+E.height/2)):4==d&&(H?(H=l.x(h[2],h[3]),l=l.y(h[2],h[3]),m.rotate(h[1],H,l)):m.rotate(h[1],\n",
       "h[2],h[3])):\"s\"==B?2==d||3==d?(E=E||t,m.scale(h[1],h[d-1],E.x+E.width/2,E.y+E.height/2)):4==d?H?(H=l.x(h[2],h[3]),l=l.y(h[2],h[3]),m.scale(h[1],h[1],H,l)):m.scale(h[1],h[1],h[2],h[3]):5==d&&(H?(H=l.x(h[3],h[4]),l=l.y(h[3],h[4]),m.scale(h[1],h[2],H,l)):m.scale(h[1],h[2],h[3],h[4])):\"m\"==B&&7==d&&m.add(h[1],h[2],h[3],h[4],h[5],h[6])}return m}function n(c,t){if(null==t){var m=!0;t=\"linearGradient\"==c.type||\"radialGradient\"==c.type?c.node.getAttribute(\"gradientTransform\"):\"pattern\"==c.type?c.node.getAttribute(\"patternTransform\"):\n",
       "c.node.getAttribute(\"transform\");if(!t)return new a.Matrix;t=d(t)}else t=a._.rgTransform.test(t)?J(t).replace(/\\.{3}|\\u2026/g,c._.transform||aa):d(t),y(t,\"array\")&&(t=a.path?a.path.toString.call(t):J(t)),c._.transform=t;var b=f(t,c.getBBox(1));if(m)return b;c.matrix=b}function u(c){c=c.node.ownerSVGElement&&x(c.node.ownerSVGElement)||c.node.parentNode&&x(c.node.parentNode)||a.select(\"svg\")||a(0,0);var t=c.select(\"defs\"),t=null==t?!1:t.node;t||(t=r(\"defs\",c.node).node);return t}function p(c){return c.node.ownerSVGElement&&\n",
       "x(c.node.ownerSVGElement)||a.select(\"svg\")}function b(c,a,m){function b(c){if(null==c)return aa;if(c==+c)return c;v(B,{width:c});try{return B.getBBox().width}catch(a){return 0}}function h(c){if(null==c)return aa;if(c==+c)return c;v(B,{height:c});try{return B.getBBox().height}catch(a){return 0}}function e(b,B){null==a?d[b]=B(c.attr(b)||0):b==a&&(d=B(null==m?c.attr(b)||0:m))}var f=p(c).node,d={},B=f.querySelector(\".svg---mgr\");B||(B=v(\"rect\"),v(B,{x:-9E9,y:-9E9,width:10,height:10,\"class\":\"svg---mgr\",\n",
       "fill:\"none\"}),f.appendChild(B));switch(c.type){case \"rect\":e(\"rx\",b),e(\"ry\",h);case \"image\":e(\"width\",b),e(\"height\",h);case \"text\":e(\"x\",b);e(\"y\",h);break;case \"circle\":e(\"cx\",b);e(\"cy\",h);e(\"r\",b);break;case \"ellipse\":e(\"cx\",b);e(\"cy\",h);e(\"rx\",b);e(\"ry\",h);break;case \"line\":e(\"x1\",b);e(\"x2\",b);e(\"y1\",h);e(\"y2\",h);break;case \"marker\":e(\"refX\",b);e(\"markerWidth\",b);e(\"refY\",h);e(\"markerHeight\",h);break;case \"radialGradient\":e(\"fx\",b);e(\"fy\",h);break;case \"tspan\":e(\"dx\",b);e(\"dy\",h);break;default:e(a,\n",
       "b)}f.removeChild(B);return d}function q(c){y(c,\"array\")||(c=Array.prototype.slice.call(arguments,0));for(var a=0,b=0,m=this.node;this[a];)delete this[a++];for(a=0;a<c.length;a++)\"set\"==c[a].type?c[a].forEach(function(c){m.appendChild(c.node)}):m.appendChild(c[a].node);for(var h=m.childNodes,a=0;a<h.length;a++)this[b++]=x(h[a]);return this}function e(c){if(c.snap in E)return E[c.snap];var a=this.id=V(),b;try{b=c.ownerSVGElement}catch(m){}this.node=c;b&&(this.paper=new s(b));this.type=c.tagName;this.anims=\n",
       "{};this._={transform:[]};c.snap=a;E[a]=this;\"g\"==this.type&&(this.add=q);if(this.type in{g:1,mask:1,pattern:1})for(var e in s.prototype)s.prototype[h](e)&&(this[e]=s.prototype[e])}function l(c){this.node=c}function r(c,a){var b=v(c);a.appendChild(b);return x(b)}function s(c,a){var b,m,f,d=s.prototype;if(c&&\"svg\"==c.tagName){if(c.snap in E)return E[c.snap];var l=c.ownerDocument;b=new e(c);m=c.getElementsByTagName(\"desc\")[0];f=c.getElementsByTagName(\"defs\")[0];m||(m=v(\"desc\"),m.appendChild(l.createTextNode(\"Created with Snap\")),\n",
       "b.node.appendChild(m));f||(f=v(\"defs\"),b.node.appendChild(f));b.defs=f;for(var ca in d)d[h](ca)&&(b[ca]=d[ca]);b.paper=b.root=b}else b=r(\"svg\",G.doc.body),v(b.node,{height:a,version:1.1,width:c,xmlns:la});return b}function x(c){return!c||c instanceof e||c instanceof l?c:c.tagName&&\"svg\"==c.tagName.toLowerCase()?new s(c):c.tagName&&\"object\"==c.tagName.toLowerCase()&&\"image/svg+xml\"==c.type?new s(c.contentDocument.getElementsByTagName(\"svg\")[0]):new e(c)}a.version=\"0.3.0\";a.toString=function(){return\"Snap v\"+\n",
       "this.version};a._={};var G={win:N,doc:N.document};a._.glob=G;var h=\"hasOwnProperty\",J=String,K=parseFloat,U=parseInt,I=Math,P=I.max,Q=I.min,Y=I.abs,C=I.PI,aa=\"\",$=Object.prototype.toString,F=/^\\s*((#[a-f\\d]{6})|(#[a-f\\d]{3})|rgba?\\(\\s*([\\d\\.]+%?\\s*,\\s*[\\d\\.]+%?\\s*,\\s*[\\d\\.]+%?(?:\\s*,\\s*[\\d\\.]+%?)?)\\s*\\)|hsba?\\(\\s*([\\d\\.]+(?:deg|\\xb0|%)?\\s*,\\s*[\\d\\.]+%?\\s*,\\s*[\\d\\.]+(?:%?\\s*,\\s*[\\d\\.]+)?%?)\\s*\\)|hsla?\\(\\s*([\\d\\.]+(?:deg|\\xb0|%)?\\s*,\\s*[\\d\\.]+%?\\s*,\\s*[\\d\\.]+(?:%?\\s*,\\s*[\\d\\.]+)?%?)\\s*\\))\\s*$/i;a._.separator=\n",
       "RegExp(\"[,\\t\\n\\x0B\\f\\r \\u00a0\\u1680\\u180e\\u2000\\u2001\\u2002\\u2003\\u2004\\u2005\\u2006\\u2007\\u2008\\u2009\\u200a\\u202f\\u205f\\u3000\\u2028\\u2029]+\");var S=RegExp(\"[\\t\\n\\x0B\\f\\r \\u00a0\\u1680\\u180e\\u2000\\u2001\\u2002\\u2003\\u2004\\u2005\\u2006\\u2007\\u2008\\u2009\\u200a\\u202f\\u205f\\u3000\\u2028\\u2029]*,[\\t\\n\\x0B\\f\\r \\u00a0\\u1680\\u180e\\u2000\\u2001\\u2002\\u2003\\u2004\\u2005\\u2006\\u2007\\u2008\\u2009\\u200a\\u202f\\u205f\\u3000\\u2028\\u2029]*\"),X={hs:1,rg:1},W=RegExp(\"([a-z])[\\t\\n\\x0B\\f\\r \\u00a0\\u1680\\u180e\\u2000\\u2001\\u2002\\u2003\\u2004\\u2005\\u2006\\u2007\\u2008\\u2009\\u200a\\u202f\\u205f\\u3000\\u2028\\u2029,]*((-?\\\\d*\\\\.?\\\\d*(?:e[\\\\-+]?\\\\d+)?[\\t\\n\\x0B\\f\\r \\u00a0\\u1680\\u180e\\u2000\\u2001\\u2002\\u2003\\u2004\\u2005\\u2006\\u2007\\u2008\\u2009\\u200a\\u202f\\u205f\\u3000\\u2028\\u2029]*,?[\\t\\n\\x0B\\f\\r \\u00a0\\u1680\\u180e\\u2000\\u2001\\u2002\\u2003\\u2004\\u2005\\u2006\\u2007\\u2008\\u2009\\u200a\\u202f\\u205f\\u3000\\u2028\\u2029]*)+)\",\n",
       "\"ig\"),ma=RegExp(\"([rstm])[\\t\\n\\x0B\\f\\r \\u00a0\\u1680\\u180e\\u2000\\u2001\\u2002\\u2003\\u2004\\u2005\\u2006\\u2007\\u2008\\u2009\\u200a\\u202f\\u205f\\u3000\\u2028\\u2029,]*((-?\\\\d*\\\\.?\\\\d*(?:e[\\\\-+]?\\\\d+)?[\\t\\n\\x0B\\f\\r \\u00a0\\u1680\\u180e\\u2000\\u2001\\u2002\\u2003\\u2004\\u2005\\u2006\\u2007\\u2008\\u2009\\u200a\\u202f\\u205f\\u3000\\u2028\\u2029]*,?[\\t\\n\\x0B\\f\\r \\u00a0\\u1680\\u180e\\u2000\\u2001\\u2002\\u2003\\u2004\\u2005\\u2006\\u2007\\u2008\\u2009\\u200a\\u202f\\u205f\\u3000\\u2028\\u2029]*)+)\",\"ig\"),Z=RegExp(\"(-?\\\\d*\\\\.?\\\\d*(?:e[\\\\-+]?\\\\d+)?)[\\t\\n\\x0B\\f\\r \\u00a0\\u1680\\u180e\\u2000\\u2001\\u2002\\u2003\\u2004\\u2005\\u2006\\u2007\\u2008\\u2009\\u200a\\u202f\\u205f\\u3000\\u2028\\u2029]*,?[\\t\\n\\x0B\\f\\r \\u00a0\\u1680\\u180e\\u2000\\u2001\\u2002\\u2003\\u2004\\u2005\\u2006\\u2007\\u2008\\u2009\\u200a\\u202f\\u205f\\u3000\\u2028\\u2029]*\",\n",
       "\"ig\"),na=0,ba=\"S\"+(+new Date).toString(36),V=function(){return ba+(na++).toString(36)},m=\"http://www.w3.org/1999/xlink\",la=\"http://www.w3.org/2000/svg\",E={},ca=a.url=function(c){return\"url('#\"+c+\"')\"};a._.$=v;a._.id=V;a.format=function(){var c=/\\{([^\\}]+)\\}/g,a=/(?:(?:^|\\.)(.+?)(?=\\[|\\.|$|\\()|\\[('|\")(.+?)\\2\\])(\\(\\))?/g,b=function(c,b,m){var h=m;b.replace(a,function(c,a,b,m,t){a=a||m;h&&(a in h&&(h=h[a]),\"function\"==typeof h&&t&&(h=h()))});return h=(null==h||h==m?c:h)+\"\"};return function(a,m){return J(a).replace(c,\n",
       "function(c,a){return b(c,a,m)})}}();a._.clone=M;a._.cacher=A;a.rad=z;a.deg=function(c){return 180*c/C%360};a.angle=w;a.is=y;a.snapTo=function(c,a,b){b=y(b,\"finite\")?b:10;if(y(c,\"array\"))for(var m=c.length;m--;){if(Y(c[m]-a)<=b)return c[m]}else{c=+c;m=a%c;if(m<b)return a-m;if(m>c-b)return a-m+c}return a};a.getRGB=A(function(c){if(!c||(c=J(c)).indexOf(\"-\")+1)return{r:-1,g:-1,b:-1,hex:\"none\",error:1,toString:ka};if(\"none\"==c)return{r:-1,g:-1,b:-1,hex:\"none\",toString:ka};!X[h](c.toLowerCase().substring(0,\n",
       "2))&&\"#\"!=c.charAt()&&(c=T(c));if(!c)return{r:-1,g:-1,b:-1,hex:\"none\",error:1,toString:ka};var b,m,e,f,d;if(c=c.match(F)){c[2]&&(e=U(c[2].substring(5),16),m=U(c[2].substring(3,5),16),b=U(c[2].substring(1,3),16));c[3]&&(e=U((d=c[3].charAt(3))+d,16),m=U((d=c[3].charAt(2))+d,16),b=U((d=c[3].charAt(1))+d,16));c[4]&&(d=c[4].split(S),b=K(d[0]),\"%\"==d[0].slice(-1)&&(b*=2.55),m=K(d[1]),\"%\"==d[1].slice(-1)&&(m*=2.55),e=K(d[2]),\"%\"==d[2].slice(-1)&&(e*=2.55),\"rgba\"==c[1].toLowerCase().slice(0,4)&&(f=K(d[3])),\n",
       "d[3]&&\"%\"==d[3].slice(-1)&&(f/=100));if(c[5])return d=c[5].split(S),b=K(d[0]),\"%\"==d[0].slice(-1)&&(b/=100),m=K(d[1]),\"%\"==d[1].slice(-1)&&(m/=100),e=K(d[2]),\"%\"==d[2].slice(-1)&&(e/=100),\"deg\"!=d[0].slice(-3)&&\"\\u00b0\"!=d[0].slice(-1)||(b/=360),\"hsba\"==c[1].toLowerCase().slice(0,4)&&(f=K(d[3])),d[3]&&\"%\"==d[3].slice(-1)&&(f/=100),a.hsb2rgb(b,m,e,f);if(c[6])return d=c[6].split(S),b=K(d[0]),\"%\"==d[0].slice(-1)&&(b/=100),m=K(d[1]),\"%\"==d[1].slice(-1)&&(m/=100),e=K(d[2]),\"%\"==d[2].slice(-1)&&(e/=100),\n",
       "\"deg\"!=d[0].slice(-3)&&\"\\u00b0\"!=d[0].slice(-1)||(b/=360),\"hsla\"==c[1].toLowerCase().slice(0,4)&&(f=K(d[3])),d[3]&&\"%\"==d[3].slice(-1)&&(f/=100),a.hsl2rgb(b,m,e,f);b=Q(I.round(b),255);m=Q(I.round(m),255);e=Q(I.round(e),255);f=Q(P(f,0),1);c={r:b,g:m,b:e,toString:ka};c.hex=\"#\"+(16777216|e|m<<8|b<<16).toString(16).slice(1);c.opacity=y(f,\"finite\")?f:1;return c}return{r:-1,g:-1,b:-1,hex:\"none\",error:1,toString:ka}},a);a.hsb=A(function(c,b,m){return a.hsb2rgb(c,b,m).hex});a.hsl=A(function(c,b,m){return a.hsl2rgb(c,\n",
       "b,m).hex});a.rgb=A(function(c,a,b,m){if(y(m,\"finite\")){var e=I.round;return\"rgba(\"+[e(c),e(a),e(b),+m.toFixed(2)]+\")\"}return\"#\"+(16777216|b|a<<8|c<<16).toString(16).slice(1)});var T=function(c){var a=G.doc.getElementsByTagName(\"head\")[0]||G.doc.getElementsByTagName(\"svg\")[0];T=A(function(c){if(\"red\"==c.toLowerCase())return\"rgb(255, 0, 0)\";a.style.color=\"rgb(255, 0, 0)\";a.style.color=c;c=G.doc.defaultView.getComputedStyle(a,aa).getPropertyValue(\"color\");return\"rgb(255, 0, 0)\"==c?null:c});return T(c)},\n",
       "qa=function(){return\"hsb(\"+[this.h,this.s,this.b]+\")\"},ra=function(){return\"hsl(\"+[this.h,this.s,this.l]+\")\"},ka=function(){return 1==this.opacity||null==this.opacity?this.hex:\"rgba(\"+[this.r,this.g,this.b,this.opacity]+\")\"},D=function(c,b,m){null==b&&y(c,\"object\")&&\"r\"in c&&\"g\"in c&&\"b\"in c&&(m=c.b,b=c.g,c=c.r);null==b&&y(c,string)&&(m=a.getRGB(c),c=m.r,b=m.g,m=m.b);if(1<c||1<b||1<m)c/=255,b/=255,m/=255;return[c,b,m]},oa=function(c,b,m,e){c=I.round(255*c);b=I.round(255*b);m=I.round(255*m);c={r:c,\n",
       "g:b,b:m,opacity:y(e,\"finite\")?e:1,hex:a.rgb(c,b,m),toString:ka};y(e,\"finite\")&&(c.opacity=e);return c};a.color=function(c){var b;y(c,\"object\")&&\"h\"in c&&\"s\"in c&&\"b\"in c?(b=a.hsb2rgb(c),c.r=b.r,c.g=b.g,c.b=b.b,c.opacity=1,c.hex=b.hex):y(c,\"object\")&&\"h\"in c&&\"s\"in c&&\"l\"in c?(b=a.hsl2rgb(c),c.r=b.r,c.g=b.g,c.b=b.b,c.opacity=1,c.hex=b.hex):(y(c,\"string\")&&(c=a.getRGB(c)),y(c,\"object\")&&\"r\"in c&&\"g\"in c&&\"b\"in c&&!(\"error\"in c)?(b=a.rgb2hsl(c),c.h=b.h,c.s=b.s,c.l=b.l,b=a.rgb2hsb(c),c.v=b.b):(c={hex:\"none\"},\n",
       "c.r=c.g=c.b=c.h=c.s=c.v=c.l=-1,c.error=1));c.toString=ka;return c};a.hsb2rgb=function(c,a,b,m){y(c,\"object\")&&\"h\"in c&&\"s\"in c&&\"b\"in c&&(b=c.b,a=c.s,c=c.h,m=c.o);var e,h,d;c=360*c%360/60;d=b*a;a=d*(1-Y(c%2-1));b=e=h=b-d;c=~~c;b+=[d,a,0,0,a,d][c];e+=[a,d,d,a,0,0][c];h+=[0,0,a,d,d,a][c];return oa(b,e,h,m)};a.hsl2rgb=function(c,a,b,m){y(c,\"object\")&&\"h\"in c&&\"s\"in c&&\"l\"in c&&(b=c.l,a=c.s,c=c.h);if(1<c||1<a||1<b)c/=360,a/=100,b/=100;var e,h,d;c=360*c%360/60;d=2*a*(0.5>b?b:1-b);a=d*(1-Y(c%2-1));b=e=\n",
       "h=b-d/2;c=~~c;b+=[d,a,0,0,a,d][c];e+=[a,d,d,a,0,0][c];h+=[0,0,a,d,d,a][c];return oa(b,e,h,m)};a.rgb2hsb=function(c,a,b){b=D(c,a,b);c=b[0];a=b[1];b=b[2];var m,e;m=P(c,a,b);e=m-Q(c,a,b);c=((0==e?0:m==c?(a-b)/e:m==a?(b-c)/e+2:(c-a)/e+4)+360)%6*60/360;return{h:c,s:0==e?0:e/m,b:m,toString:qa}};a.rgb2hsl=function(c,a,b){b=D(c,a,b);c=b[0];a=b[1];b=b[2];var m,e,h;m=P(c,a,b);e=Q(c,a,b);h=m-e;c=((0==h?0:m==c?(a-b)/h:m==a?(b-c)/h+2:(c-a)/h+4)+360)%6*60/360;m=(m+e)/2;return{h:c,s:0==h?0:0.5>m?h/(2*m):h/(2-2*\n",
       "m),l:m,toString:ra}};a.parsePathString=function(c){if(!c)return null;var b=a.path(c);if(b.arr)return a.path.clone(b.arr);var m={a:7,c:6,o:2,h:1,l:2,m:2,r:4,q:4,s:4,t:2,v:1,u:3,z:0},e=[];y(c,\"array\")&&y(c[0],\"array\")&&(e=a.path.clone(c));e.length||J(c).replace(W,function(c,a,b){var h=[];c=a.toLowerCase();b.replace(Z,function(c,a){a&&h.push(+a)});\"m\"==c&&2<h.length&&(e.push([a].concat(h.splice(0,2))),c=\"l\",a=\"m\"==a?\"l\":\"L\");\"o\"==c&&1==h.length&&e.push([a,h[0] ]);if(\"r\"==c)e.push([a].concat(h));else for(;h.length>=\n",
       "m[c]&&(e.push([a].concat(h.splice(0,m[c]))),m[c]););});e.toString=a.path.toString;b.arr=a.path.clone(e);return e};var O=a.parseTransformString=function(c){if(!c)return null;var b=[];y(c,\"array\")&&y(c[0],\"array\")&&(b=a.path.clone(c));b.length||J(c).replace(ma,function(c,a,m){var e=[];a.toLowerCase();m.replace(Z,function(c,a){a&&e.push(+a)});b.push([a].concat(e))});b.toString=a.path.toString;return b};a._.svgTransform2string=d;a._.rgTransform=RegExp(\"^[a-z][\\t\\n\\x0B\\f\\r \\u00a0\\u1680\\u180e\\u2000\\u2001\\u2002\\u2003\\u2004\\u2005\\u2006\\u2007\\u2008\\u2009\\u200a\\u202f\\u205f\\u3000\\u2028\\u2029]*-?\\\\.?\\\\d\",\n",
       "\"i\");a._.transform2matrix=f;a._unit2px=b;a._.getSomeDefs=u;a._.getSomeSVG=p;a.select=function(c){return x(G.doc.querySelector(c))};a.selectAll=function(c){c=G.doc.querySelectorAll(c);for(var b=(a.set||Array)(),m=0;m<c.length;m++)b.push(x(c[m]));return b};setInterval(function(){for(var c in E)if(E[h](c)){var a=E[c],b=a.node;(\"svg\"!=a.type&&!b.ownerSVGElement||\"svg\"==a.type&&(!b.parentNode||\"ownerSVGElement\"in b.parentNode&&!b.ownerSVGElement))&&delete E[c]}},1E4);(function(c){function m(c){function a(c,\n",
       "b){var m=v(c.node,b);(m=(m=m&&m.match(d))&&m[2])&&\"#\"==m.charAt()&&(m=m.substring(1))&&(f[m]=(f[m]||[]).concat(function(a){var m={};m[b]=ca(a);v(c.node,m)}))}function b(c){var a=v(c.node,\"xlink:href\");a&&\"#\"==a.charAt()&&(a=a.substring(1))&&(f[a]=(f[a]||[]).concat(function(a){c.attr(\"xlink:href\",\"#\"+a)}))}var e=c.selectAll(\"*\"),h,d=/^\\s*url\\((\"|'|)(.*)\\1\\)\\s*$/;c=[];for(var f={},l=0,E=e.length;l<E;l++){h=e[l];a(h,\"fill\");a(h,\"stroke\");a(h,\"filter\");a(h,\"mask\");a(h,\"clip-path\");b(h);var t=v(h.node,\n",
       "\"id\");t&&(v(h.node,{id:h.id}),c.push({old:t,id:h.id}))}l=0;for(E=c.length;l<E;l++)if(e=f[c[l].old])for(h=0,t=e.length;h<t;h++)e[h](c[l].id)}function e(c,a,b){return function(m){m=m.slice(c,a);1==m.length&&(m=m[0]);return b?b(m):m}}function d(c){return function(){var a=c?\"<\"+this.type:\"\",b=this.node.attributes,m=this.node.childNodes;if(c)for(var e=0,h=b.length;e<h;e++)a+=\" \"+b[e].name+'=\"'+b[e].value.replace(/\"/g,'\\\\\"')+'\"';if(m.length){c&&(a+=\">\");e=0;for(h=m.length;e<h;e++)3==m[e].nodeType?a+=m[e].nodeValue:\n",
       "1==m[e].nodeType&&(a+=x(m[e]).toString());c&&(a+=\"</\"+this.type+\">\")}else c&&(a+=\"/>\");return a}}c.attr=function(c,a){if(!c)return this;if(y(c,\"string\"))if(1<arguments.length){var b={};b[c]=a;c=b}else return k(\"snap.util.getattr.\"+c,this).firstDefined();for(var m in c)c[h](m)&&k(\"snap.util.attr.\"+m,this,c[m]);return this};c.getBBox=function(c){if(!a.Matrix||!a.path)return this.node.getBBox();var b=this,m=new a.Matrix;if(b.removed)return a._.box();for(;\"use\"==b.type;)if(c||(m=m.add(b.transform().localMatrix.translate(b.attr(\"x\")||\n",
       "0,b.attr(\"y\")||0))),b.original)b=b.original;else var e=b.attr(\"xlink:href\"),b=b.original=b.node.ownerDocument.getElementById(e.substring(e.indexOf(\"#\")+1));var e=b._,h=a.path.get[b.type]||a.path.get.deflt;try{if(c)return e.bboxwt=h?a.path.getBBox(b.realPath=h(b)):a._.box(b.node.getBBox()),a._.box(e.bboxwt);b.realPath=h(b);b.matrix=b.transform().localMatrix;e.bbox=a.path.getBBox(a.path.map(b.realPath,m.add(b.matrix)));return a._.box(e.bbox)}catch(d){return a._.box()}};var f=function(){return this.string};\n",
       "c.transform=function(c){var b=this._;if(null==c){var m=this;c=new a.Matrix(this.node.getCTM());for(var e=n(this),h=[e],d=new a.Matrix,l=e.toTransformString(),b=J(e)==J(this.matrix)?J(b.transform):l;\"svg\"!=m.type&&(m=m.parent());)h.push(n(m));for(m=h.length;m--;)d.add(h[m]);return{string:b,globalMatrix:c,totalMatrix:d,localMatrix:e,diffMatrix:c.clone().add(e.invert()),global:c.toTransformString(),total:d.toTransformString(),local:l,toString:f}}c instanceof a.Matrix?this.matrix=c:n(this,c);this.node&&\n",
       "(\"linearGradient\"==this.type||\"radialGradient\"==this.type?v(this.node,{gradientTransform:this.matrix}):\"pattern\"==this.type?v(this.node,{patternTransform:this.matrix}):v(this.node,{transform:this.matrix}));return this};c.parent=function(){return x(this.node.parentNode)};c.append=c.add=function(c){if(c){if(\"set\"==c.type){var a=this;c.forEach(function(c){a.add(c)});return this}c=x(c);this.node.appendChild(c.node);c.paper=this.paper}return this};c.appendTo=function(c){c&&(c=x(c),c.append(this));return this};\n",
       "c.prepend=function(c){if(c){if(\"set\"==c.type){var a=this,b;c.forEach(function(c){b?b.after(c):a.prepend(c);b=c});return this}c=x(c);var m=c.parent();this.node.insertBefore(c.node,this.node.firstChild);this.add&&this.add();c.paper=this.paper;this.parent()&&this.parent().add();m&&m.add()}return this};c.prependTo=function(c){c=x(c);c.prepend(this);return this};c.before=function(c){if(\"set\"==c.type){var a=this;c.forEach(function(c){var b=c.parent();a.node.parentNode.insertBefore(c.node,a.node);b&&b.add()});\n",
       "this.parent().add();return this}c=x(c);var b=c.parent();this.node.parentNode.insertBefore(c.node,this.node);this.parent()&&this.parent().add();b&&b.add();c.paper=this.paper;return this};c.after=function(c){c=x(c);var a=c.parent();this.node.nextSibling?this.node.parentNode.insertBefore(c.node,this.node.nextSibling):this.node.parentNode.appendChild(c.node);this.parent()&&this.parent().add();a&&a.add();c.paper=this.paper;return this};c.insertBefore=function(c){c=x(c);var a=this.parent();c.node.parentNode.insertBefore(this.node,\n",
       "c.node);this.paper=c.paper;a&&a.add();c.parent()&&c.parent().add();return this};c.insertAfter=function(c){c=x(c);var a=this.parent();c.node.parentNode.insertBefore(this.node,c.node.nextSibling);this.paper=c.paper;a&&a.add();c.parent()&&c.parent().add();return this};c.remove=function(){var c=this.parent();this.node.parentNode&&this.node.parentNode.removeChild(this.node);delete this.paper;this.removed=!0;c&&c.add();return this};c.select=function(c){return x(this.node.querySelector(c))};c.selectAll=\n",
       "function(c){c=this.node.querySelectorAll(c);for(var b=(a.set||Array)(),m=0;m<c.length;m++)b.push(x(c[m]));return b};c.asPX=function(c,a){null==a&&(a=this.attr(c));return+b(this,c,a)};c.use=function(){var c,a=this.node.id;a||(a=this.id,v(this.node,{id:a}));c=\"linearGradient\"==this.type||\"radialGradient\"==this.type||\"pattern\"==this.type?r(this.type,this.node.parentNode):r(\"use\",this.node.parentNode);v(c.node,{\"xlink:href\":\"#\"+a});c.original=this;return c};var l=/\\S+/g;c.addClass=function(c){var a=(c||\n",
       "\"\").match(l)||[];c=this.node;var b=c.className.baseVal,m=b.match(l)||[],e,h,d;if(a.length){for(e=0;d=a[e++];)h=m.indexOf(d),~h||m.push(d);a=m.join(\" \");b!=a&&(c.className.baseVal=a)}return this};c.removeClass=function(c){var a=(c||\"\").match(l)||[];c=this.node;var b=c.className.baseVal,m=b.match(l)||[],e,h;if(m.length){for(e=0;h=a[e++];)h=m.indexOf(h),~h&&m.splice(h,1);a=m.join(\" \");b!=a&&(c.className.baseVal=a)}return this};c.hasClass=function(c){return!!~(this.node.className.baseVal.match(l)||[]).indexOf(c)};\n",
       "c.toggleClass=function(c,a){if(null!=a)return a?this.addClass(c):this.removeClass(c);var b=(c||\"\").match(l)||[],m=this.node,e=m.className.baseVal,h=e.match(l)||[],d,f,E;for(d=0;E=b[d++];)f=h.indexOf(E),~f?h.splice(f,1):h.push(E);b=h.join(\" \");e!=b&&(m.className.baseVal=b);return this};c.clone=function(){var c=x(this.node.cloneNode(!0));v(c.node,\"id\")&&v(c.node,{id:c.id});m(c);c.insertAfter(this);return c};c.toDefs=function(){u(this).appendChild(this.node);return this};c.pattern=c.toPattern=function(c,\n",
       "a,b,m){var e=r(\"pattern\",u(this));null==c&&(c=this.getBBox());y(c,\"object\")&&\"x\"in c&&(a=c.y,b=c.width,m=c.height,c=c.x);v(e.node,{x:c,y:a,width:b,height:m,patternUnits:\"userSpaceOnUse\",id:e.id,viewBox:[c,a,b,m].join(\" \")});e.node.appendChild(this.node);return e};c.marker=function(c,a,b,m,e,h){var d=r(\"marker\",u(this));null==c&&(c=this.getBBox());y(c,\"object\")&&\"x\"in c&&(a=c.y,b=c.width,m=c.height,e=c.refX||c.cx,h=c.refY||c.cy,c=c.x);v(d.node,{viewBox:[c,a,b,m].join(\" \"),markerWidth:b,markerHeight:m,\n",
       "orient:\"auto\",refX:e||0,refY:h||0,id:d.id});d.node.appendChild(this.node);return d};var E=function(c,a,b,m){\"function\"!=typeof b||b.length||(m=b,b=L.linear);this.attr=c;this.dur=a;b&&(this.easing=b);m&&(this.callback=m)};a._.Animation=E;a.animation=function(c,a,b,m){return new E(c,a,b,m)};c.inAnim=function(){var c=[],a;for(a in this.anims)this.anims[h](a)&&function(a){c.push({anim:new E(a._attrs,a.dur,a.easing,a._callback),mina:a,curStatus:a.status(),status:function(c){return a.status(c)},stop:function(){a.stop()}})}(this.anims[a]);\n",
       "return c};a.animate=function(c,a,b,m,e,h){\"function\"!=typeof e||e.length||(h=e,e=L.linear);var d=L.time();c=L(c,a,d,d+m,L.time,b,e);h&&k.once(\"mina.finish.\"+c.id,h);return c};c.stop=function(){for(var c=this.inAnim(),a=0,b=c.length;a<b;a++)c[a].stop();return this};c.animate=function(c,a,b,m){\"function\"!=typeof b||b.length||(m=b,b=L.linear);c instanceof E&&(m=c.callback,b=c.easing,a=b.dur,c=c.attr);var d=[],f=[],l={},t,ca,n,T=this,q;for(q in c)if(c[h](q)){T.equal?(n=T.equal(q,J(c[q])),t=n.from,ca=\n",
       "n.to,n=n.f):(t=+T.attr(q),ca=+c[q]);var la=y(t,\"array\")?t.length:1;l[q]=e(d.length,d.length+la,n);d=d.concat(t);f=f.concat(ca)}t=L.time();var p=L(d,f,t,t+a,L.time,function(c){var a={},b;for(b in l)l[h](b)&&(a[b]=l[b](c));T.attr(a)},b);T.anims[p.id]=p;p._attrs=c;p._callback=m;k(\"snap.animcreated.\"+T.id,p);k.once(\"mina.finish.\"+p.id,function(){delete T.anims[p.id];m&&m.call(T)});k.once(\"mina.stop.\"+p.id,function(){delete T.anims[p.id]});return T};var T={};c.data=function(c,b){var m=T[this.id]=T[this.id]||\n",
       "{};if(0==arguments.length)return k(\"snap.data.get.\"+this.id,this,m,null),m;if(1==arguments.length){if(a.is(c,\"object\")){for(var e in c)c[h](e)&&this.data(e,c[e]);return this}k(\"snap.data.get.\"+this.id,this,m[c],c);return m[c]}m[c]=b;k(\"snap.data.set.\"+this.id,this,b,c);return this};c.removeData=function(c){null==c?T[this.id]={}:T[this.id]&&delete T[this.id][c];return this};c.outerSVG=c.toString=d(1);c.innerSVG=d()})(e.prototype);a.parse=function(c){var a=G.doc.createDocumentFragment(),b=!0,m=G.doc.createElement(\"div\");\n",
       "c=J(c);c.match(/^\\s*<\\s*svg(?:\\s|>)/)||(c=\"<svg>\"+c+\"</svg>\",b=!1);m.innerHTML=c;if(c=m.getElementsByTagName(\"svg\")[0])if(b)a=c;else for(;c.firstChild;)a.appendChild(c.firstChild);m.innerHTML=aa;return new l(a)};l.prototype.select=e.prototype.select;l.prototype.selectAll=e.prototype.selectAll;a.fragment=function(){for(var c=Array.prototype.slice.call(arguments,0),b=G.doc.createDocumentFragment(),m=0,e=c.length;m<e;m++){var h=c[m];h.node&&h.node.nodeType&&b.appendChild(h.node);h.nodeType&&b.appendChild(h);\n",
       "\"string\"==typeof h&&b.appendChild(a.parse(h).node)}return new l(b)};a._.make=r;a._.wrap=x;s.prototype.el=function(c,a){var b=r(c,this.node);a&&b.attr(a);return b};k.on(\"snap.util.getattr\",function(){var c=k.nt(),c=c.substring(c.lastIndexOf(\".\")+1),a=c.replace(/[A-Z]/g,function(c){return\"-\"+c.toLowerCase()});return pa[h](a)?this.node.ownerDocument.defaultView.getComputedStyle(this.node,null).getPropertyValue(a):v(this.node,c)});var pa={\"alignment-baseline\":0,\"baseline-shift\":0,clip:0,\"clip-path\":0,\n",
       "\"clip-rule\":0,color:0,\"color-interpolation\":0,\"color-interpolation-filters\":0,\"color-profile\":0,\"color-rendering\":0,cursor:0,direction:0,display:0,\"dominant-baseline\":0,\"enable-background\":0,fill:0,\"fill-opacity\":0,\"fill-rule\":0,filter:0,\"flood-color\":0,\"flood-opacity\":0,font:0,\"font-family\":0,\"font-size\":0,\"font-size-adjust\":0,\"font-stretch\":0,\"font-style\":0,\"font-variant\":0,\"font-weight\":0,\"glyph-orientation-horizontal\":0,\"glyph-orientation-vertical\":0,\"image-rendering\":0,kerning:0,\"letter-spacing\":0,\n",
       "\"lighting-color\":0,marker:0,\"marker-end\":0,\"marker-mid\":0,\"marker-start\":0,mask:0,opacity:0,overflow:0,\"pointer-events\":0,\"shape-rendering\":0,\"stop-color\":0,\"stop-opacity\":0,stroke:0,\"stroke-dasharray\":0,\"stroke-dashoffset\":0,\"stroke-linecap\":0,\"stroke-linejoin\":0,\"stroke-miterlimit\":0,\"stroke-opacity\":0,\"stroke-width\":0,\"text-anchor\":0,\"text-decoration\":0,\"text-rendering\":0,\"unicode-bidi\":0,visibility:0,\"word-spacing\":0,\"writing-mode\":0};k.on(\"snap.util.attr\",function(c){var a=k.nt(),b={},a=a.substring(a.lastIndexOf(\".\")+\n",
       "1);b[a]=c;var m=a.replace(/-(\\w)/gi,function(c,a){return a.toUpperCase()}),a=a.replace(/[A-Z]/g,function(c){return\"-\"+c.toLowerCase()});pa[h](a)?this.node.style[m]=null==c?aa:c:v(this.node,b)});a.ajax=function(c,a,b,m){var e=new XMLHttpRequest,h=V();if(e){if(y(a,\"function\"))m=b,b=a,a=null;else if(y(a,\"object\")){var d=[],f;for(f in a)a.hasOwnProperty(f)&&d.push(encodeURIComponent(f)+\"=\"+encodeURIComponent(a[f]));a=d.join(\"&\")}e.open(a?\"POST\":\"GET\",c,!0);a&&(e.setRequestHeader(\"X-Requested-With\",\"XMLHttpRequest\"),\n",
       "e.setRequestHeader(\"Content-type\",\"application/x-www-form-urlencoded\"));b&&(k.once(\"snap.ajax.\"+h+\".0\",b),k.once(\"snap.ajax.\"+h+\".200\",b),k.once(\"snap.ajax.\"+h+\".304\",b));e.onreadystatechange=function(){4==e.readyState&&k(\"snap.ajax.\"+h+\".\"+e.status,m,e)};if(4==e.readyState)return e;e.send(a);return e}};a.load=function(c,b,m){a.ajax(c,function(c){c=a.parse(c.responseText);m?b.call(m,c):b(c)})};a.getElementByPoint=function(c,a){var b,m,e=G.doc.elementFromPoint(c,a);if(G.win.opera&&\"svg\"==e.tagName){b=\n",
       "e;m=b.getBoundingClientRect();b=b.ownerDocument;var h=b.body,d=b.documentElement;b=m.top+(g.win.pageYOffset||d.scrollTop||h.scrollTop)-(d.clientTop||h.clientTop||0);m=m.left+(g.win.pageXOffset||d.scrollLeft||h.scrollLeft)-(d.clientLeft||h.clientLeft||0);h=e.createSVGRect();h.x=c-m;h.y=a-b;h.width=h.height=1;b=e.getIntersectionList(h,null);b.length&&(e=b[b.length-1])}return e?x(e):null};a.plugin=function(c){c(a,e,s,G,l)};return G.win.Snap=a}();C.plugin(function(a,k,y,M,A){function w(a,d,f,b,q,e){null==\n",
       "d&&\"[object SVGMatrix]\"==z.call(a)?(this.a=a.a,this.b=a.b,this.c=a.c,this.d=a.d,this.e=a.e,this.f=a.f):null!=a?(this.a=+a,this.b=+d,this.c=+f,this.d=+b,this.e=+q,this.f=+e):(this.a=1,this.c=this.b=0,this.d=1,this.f=this.e=0)}var z=Object.prototype.toString,d=String,f=Math;(function(n){function k(a){return a[0]*a[0]+a[1]*a[1]}function p(a){var d=f.sqrt(k(a));a[0]&&(a[0]/=d);a[1]&&(a[1]/=d)}n.add=function(a,d,e,f,n,p){var k=[[],[],[] ],u=[[this.a,this.c,this.e],[this.b,this.d,this.f],[0,0,1] ];d=[[a,\n",
       "e,n],[d,f,p],[0,0,1] ];a&&a instanceof w&&(d=[[a.a,a.c,a.e],[a.b,a.d,a.f],[0,0,1] ]);for(a=0;3>a;a++)for(e=0;3>e;e++){for(f=n=0;3>f;f++)n+=u[a][f]*d[f][e];k[a][e]=n}this.a=k[0][0];this.b=k[1][0];this.c=k[0][1];this.d=k[1][1];this.e=k[0][2];this.f=k[1][2];return this};n.invert=function(){var a=this.a*this.d-this.b*this.c;return new w(this.d/a,-this.b/a,-this.c/a,this.a/a,(this.c*this.f-this.d*this.e)/a,(this.b*this.e-this.a*this.f)/a)};n.clone=function(){return new w(this.a,this.b,this.c,this.d,this.e,\n",
       "this.f)};n.translate=function(a,d){return this.add(1,0,0,1,a,d)};n.scale=function(a,d,e,f){null==d&&(d=a);(e||f)&&this.add(1,0,0,1,e,f);this.add(a,0,0,d,0,0);(e||f)&&this.add(1,0,0,1,-e,-f);return this};n.rotate=function(b,d,e){b=a.rad(b);d=d||0;e=e||0;var l=+f.cos(b).toFixed(9);b=+f.sin(b).toFixed(9);this.add(l,b,-b,l,d,e);return this.add(1,0,0,1,-d,-e)};n.x=function(a,d){return a*this.a+d*this.c+this.e};n.y=function(a,d){return a*this.b+d*this.d+this.f};n.get=function(a){return+this[d.fromCharCode(97+\n",
       "a)].toFixed(4)};n.toString=function(){return\"matrix(\"+[this.get(0),this.get(1),this.get(2),this.get(3),this.get(4),this.get(5)].join()+\")\"};n.offset=function(){return[this.e.toFixed(4),this.f.toFixed(4)]};n.determinant=function(){return this.a*this.d-this.b*this.c};n.split=function(){var b={};b.dx=this.e;b.dy=this.f;var d=[[this.a,this.c],[this.b,this.d] ];b.scalex=f.sqrt(k(d[0]));p(d[0]);b.shear=d[0][0]*d[1][0]+d[0][1]*d[1][1];d[1]=[d[1][0]-d[0][0]*b.shear,d[1][1]-d[0][1]*b.shear];b.scaley=f.sqrt(k(d[1]));\n",
       "p(d[1]);b.shear/=b.scaley;0>this.determinant()&&(b.scalex=-b.scalex);var e=-d[0][1],d=d[1][1];0>d?(b.rotate=a.deg(f.acos(d)),0>e&&(b.rotate=360-b.rotate)):b.rotate=a.deg(f.asin(e));b.isSimple=!+b.shear.toFixed(9)&&(b.scalex.toFixed(9)==b.scaley.toFixed(9)||!b.rotate);b.isSuperSimple=!+b.shear.toFixed(9)&&b.scalex.toFixed(9)==b.scaley.toFixed(9)&&!b.rotate;b.noRotation=!+b.shear.toFixed(9)&&!b.rotate;return b};n.toTransformString=function(a){a=a||this.split();if(+a.shear.toFixed(9))return\"m\"+[this.get(0),\n",
       "this.get(1),this.get(2),this.get(3),this.get(4),this.get(5)];a.scalex=+a.scalex.toFixed(4);a.scaley=+a.scaley.toFixed(4);a.rotate=+a.rotate.toFixed(4);return(a.dx||a.dy?\"t\"+[+a.dx.toFixed(4),+a.dy.toFixed(4)]:\"\")+(1!=a.scalex||1!=a.scaley?\"s\"+[a.scalex,a.scaley,0,0]:\"\")+(a.rotate?\"r\"+[+a.rotate.toFixed(4),0,0]:\"\")}})(w.prototype);a.Matrix=w;a.matrix=function(a,d,f,b,k,e){return new w(a,d,f,b,k,e)}});C.plugin(function(a,v,y,M,A){function w(h){return function(d){k.stop();d instanceof A&&1==d.node.childNodes.length&&\n",
       "(\"radialGradient\"==d.node.firstChild.tagName||\"linearGradient\"==d.node.firstChild.tagName||\"pattern\"==d.node.firstChild.tagName)&&(d=d.node.firstChild,b(this).appendChild(d),d=u(d));if(d instanceof v)if(\"radialGradient\"==d.type||\"linearGradient\"==d.type||\"pattern\"==d.type){d.node.id||e(d.node,{id:d.id});var f=l(d.node.id)}else f=d.attr(h);else f=a.color(d),f.error?(f=a(b(this).ownerSVGElement).gradient(d))?(f.node.id||e(f.node,{id:f.id}),f=l(f.node.id)):f=d:f=r(f);d={};d[h]=f;e(this.node,d);this.node.style[h]=\n",
       "x}}function z(a){k.stop();a==+a&&(a+=\"px\");this.node.style.fontSize=a}function d(a){var b=[];a=a.childNodes;for(var e=0,f=a.length;e<f;e++){var l=a[e];3==l.nodeType&&b.push(l.nodeValue);\"tspan\"==l.tagName&&(1==l.childNodes.length&&3==l.firstChild.nodeType?b.push(l.firstChild.nodeValue):b.push(d(l)))}return b}function f(){k.stop();return this.node.style.fontSize}var n=a._.make,u=a._.wrap,p=a.is,b=a._.getSomeDefs,q=/^url\\(#?([^)]+)\\)$/,e=a._.$,l=a.url,r=String,s=a._.separator,x=\"\";k.on(\"snap.util.attr.mask\",\n",
       "function(a){if(a instanceof v||a instanceof A){k.stop();a instanceof A&&1==a.node.childNodes.length&&(a=a.node.firstChild,b(this).appendChild(a),a=u(a));if(\"mask\"==a.type)var d=a;else d=n(\"mask\",b(this)),d.node.appendChild(a.node);!d.node.id&&e(d.node,{id:d.id});e(this.node,{mask:l(d.id)})}});(function(a){k.on(\"snap.util.attr.clip\",a);k.on(\"snap.util.attr.clip-path\",a);k.on(\"snap.util.attr.clipPath\",a)})(function(a){if(a instanceof v||a instanceof A){k.stop();if(\"clipPath\"==a.type)var d=a;else d=\n",
       "n(\"clipPath\",b(this)),d.node.appendChild(a.node),!d.node.id&&e(d.node,{id:d.id});e(this.node,{\"clip-path\":l(d.id)})}});k.on(\"snap.util.attr.fill\",w(\"fill\"));k.on(\"snap.util.attr.stroke\",w(\"stroke\"));var G=/^([lr])(?:\\(([^)]*)\\))?(.*)$/i;k.on(\"snap.util.grad.parse\",function(a){a=r(a);var b=a.match(G);if(!b)return null;a=b[1];var e=b[2],b=b[3],e=e.split(/\\s*,\\s*/).map(function(a){return+a==a?+a:a});1==e.length&&0==e[0]&&(e=[]);b=b.split(\"-\");b=b.map(function(a){a=a.split(\":\");var b={color:a[0]};a[1]&&\n",
       "(b.offset=parseFloat(a[1]));return b});return{type:a,params:e,stops:b}});k.on(\"snap.util.attr.d\",function(b){k.stop();p(b,\"array\")&&p(b[0],\"array\")&&(b=a.path.toString.call(b));b=r(b);b.match(/[ruo]/i)&&(b=a.path.toAbsolute(b));e(this.node,{d:b})})(-1);k.on(\"snap.util.attr.#text\",function(a){k.stop();a=r(a);for(a=M.doc.createTextNode(a);this.node.firstChild;)this.node.removeChild(this.node.firstChild);this.node.appendChild(a)})(-1);k.on(\"snap.util.attr.path\",function(a){k.stop();this.attr({d:a})})(-1);\n",
       "k.on(\"snap.util.attr.class\",function(a){k.stop();this.node.className.baseVal=a})(-1);k.on(\"snap.util.attr.viewBox\",function(a){a=p(a,\"object\")&&\"x\"in a?[a.x,a.y,a.width,a.height].join(\" \"):p(a,\"array\")?a.join(\" \"):a;e(this.node,{viewBox:a});k.stop()})(-1);k.on(\"snap.util.attr.transform\",function(a){this.transform(a);k.stop()})(-1);k.on(\"snap.util.attr.r\",function(a){\"rect\"==this.type&&(k.stop(),e(this.node,{rx:a,ry:a}))})(-1);k.on(\"snap.util.attr.textpath\",function(a){k.stop();if(\"text\"==this.type){var d,\n",
       "f;if(!a&&this.textPath){for(a=this.textPath;a.node.firstChild;)this.node.appendChild(a.node.firstChild);a.remove();delete this.textPath}else if(p(a,\"string\")?(d=b(this),a=u(d.parentNode).path(a),d.appendChild(a.node),d=a.id,a.attr({id:d})):(a=u(a),a instanceof v&&(d=a.attr(\"id\"),d||(d=a.id,a.attr({id:d})))),d)if(a=this.textPath,f=this.node,a)a.attr({\"xlink:href\":\"#\"+d});else{for(a=e(\"textPath\",{\"xlink:href\":\"#\"+d});f.firstChild;)a.appendChild(f.firstChild);f.appendChild(a);this.textPath=u(a)}}})(-1);\n",
       "k.on(\"snap.util.attr.text\",function(a){if(\"text\"==this.type){for(var b=this.node,d=function(a){var b=e(\"tspan\");if(p(a,\"array\"))for(var f=0;f<a.length;f++)b.appendChild(d(a[f]));else b.appendChild(M.doc.createTextNode(a));b.normalize&&b.normalize();return b};b.firstChild;)b.removeChild(b.firstChild);for(a=d(a);a.firstChild;)b.appendChild(a.firstChild)}k.stop()})(-1);k.on(\"snap.util.attr.fontSize\",z)(-1);k.on(\"snap.util.attr.font-size\",z)(-1);k.on(\"snap.util.getattr.transform\",function(){k.stop();\n",
       "return this.transform()})(-1);k.on(\"snap.util.getattr.textpath\",function(){k.stop();return this.textPath})(-1);(function(){function b(d){return function(){k.stop();var b=M.doc.defaultView.getComputedStyle(this.node,null).getPropertyValue(\"marker-\"+d);return\"none\"==b?b:a(M.doc.getElementById(b.match(q)[1]))}}function d(a){return function(b){k.stop();var d=\"marker\"+a.charAt(0).toUpperCase()+a.substring(1);if(\"\"==b||!b)this.node.style[d]=\"none\";else if(\"marker\"==b.type){var f=b.node.id;f||e(b.node,{id:b.id});\n",
       "this.node.style[d]=l(f)}}}k.on(\"snap.util.getattr.marker-end\",b(\"end\"))(-1);k.on(\"snap.util.getattr.markerEnd\",b(\"end\"))(-1);k.on(\"snap.util.getattr.marker-start\",b(\"start\"))(-1);k.on(\"snap.util.getattr.markerStart\",b(\"start\"))(-1);k.on(\"snap.util.getattr.marker-mid\",b(\"mid\"))(-1);k.on(\"snap.util.getattr.markerMid\",b(\"mid\"))(-1);k.on(\"snap.util.attr.marker-end\",d(\"end\"))(-1);k.on(\"snap.util.attr.markerEnd\",d(\"end\"))(-1);k.on(\"snap.util.attr.marker-start\",d(\"start\"))(-1);k.on(\"snap.util.attr.markerStart\",\n",
       "d(\"start\"))(-1);k.on(\"snap.util.attr.marker-mid\",d(\"mid\"))(-1);k.on(\"snap.util.attr.markerMid\",d(\"mid\"))(-1)})();k.on(\"snap.util.getattr.r\",function(){if(\"rect\"==this.type&&e(this.node,\"rx\")==e(this.node,\"ry\"))return k.stop(),e(this.node,\"rx\")})(-1);k.on(\"snap.util.getattr.text\",function(){if(\"text\"==this.type||\"tspan\"==this.type){k.stop();var a=d(this.node);return 1==a.length?a[0]:a}})(-1);k.on(\"snap.util.getattr.#text\",function(){return this.node.textContent})(-1);k.on(\"snap.util.getattr.viewBox\",\n",
       "function(){k.stop();var b=e(this.node,\"viewBox\");if(b)return b=b.split(s),a._.box(+b[0],+b[1],+b[2],+b[3])})(-1);k.on(\"snap.util.getattr.points\",function(){var a=e(this.node,\"points\");k.stop();if(a)return a.split(s)})(-1);k.on(\"snap.util.getattr.path\",function(){var a=e(this.node,\"d\");k.stop();return a})(-1);k.on(\"snap.util.getattr.class\",function(){return this.node.className.baseVal})(-1);k.on(\"snap.util.getattr.fontSize\",f)(-1);k.on(\"snap.util.getattr.font-size\",f)(-1)});C.plugin(function(a,v,y,\n",
       "M,A){function w(a){return a}function z(a){return function(b){return+b.toFixed(3)+a}}var d={\"+\":function(a,b){return a+b},\"-\":function(a,b){return a-b},\"/\":function(a,b){return a/b},\"*\":function(a,b){return a*b}},f=String,n=/[a-z]+$/i,u=/^\\s*([+\\-\\/*])\\s*=\\s*([\\d.eE+\\-]+)\\s*([^\\d\\s]+)?\\s*$/;k.on(\"snap.util.attr\",function(a){if(a=f(a).match(u)){var b=k.nt(),b=b.substring(b.lastIndexOf(\".\")+1),q=this.attr(b),e={};k.stop();var l=a[3]||\"\",r=q.match(n),s=d[a[1] ];r&&r==l?a=s(parseFloat(q),+a[2]):(q=this.asPX(b),\n",
       "a=s(this.asPX(b),this.asPX(b,a[2]+l)));isNaN(q)||isNaN(a)||(e[b]=a,this.attr(e))}})(-10);k.on(\"snap.util.equal\",function(a,b){var q=f(this.attr(a)||\"\"),e=f(b).match(u);if(e){k.stop();var l=e[3]||\"\",r=q.match(n),s=d[e[1] ];if(r&&r==l)return{from:parseFloat(q),to:s(parseFloat(q),+e[2]),f:z(r)};q=this.asPX(a);return{from:q,to:s(q,this.asPX(a,e[2]+l)),f:w}}})(-10)});C.plugin(function(a,v,y,M,A){var w=y.prototype,z=a.is;w.rect=function(a,d,k,p,b,q){var e;null==q&&(q=b);z(a,\"object\")&&\"[object Object]\"==\n",
       "a?e=a:null!=a&&(e={x:a,y:d,width:k,height:p},null!=b&&(e.rx=b,e.ry=q));return this.el(\"rect\",e)};w.circle=function(a,d,k){var p;z(a,\"object\")&&\"[object Object]\"==a?p=a:null!=a&&(p={cx:a,cy:d,r:k});return this.el(\"circle\",p)};var d=function(){function a(){this.parentNode.removeChild(this)}return function(d,k){var p=M.doc.createElement(\"img\"),b=M.doc.body;p.style.cssText=\"position:absolute;left:-9999em;top:-9999em\";p.onload=function(){k.call(p);p.onload=p.onerror=null;b.removeChild(p)};p.onerror=a;\n",
       "b.appendChild(p);p.src=d}}();w.image=function(f,n,k,p,b){var q=this.el(\"image\");if(z(f,\"object\")&&\"src\"in f)q.attr(f);else if(null!=f){var e={\"xlink:href\":f,preserveAspectRatio:\"none\"};null!=n&&null!=k&&(e.x=n,e.y=k);null!=p&&null!=b?(e.width=p,e.height=b):d(f,function(){a._.$(q.node,{width:this.offsetWidth,height:this.offsetHeight})});a._.$(q.node,e)}return q};w.ellipse=function(a,d,k,p){var b;z(a,\"object\")&&\"[object Object]\"==a?b=a:null!=a&&(b={cx:a,cy:d,rx:k,ry:p});return this.el(\"ellipse\",b)};\n",
       "w.path=function(a){var d;z(a,\"object\")&&!z(a,\"array\")?d=a:a&&(d={d:a});return this.el(\"path\",d)};w.group=w.g=function(a){var d=this.el(\"g\");1==arguments.length&&a&&!a.type?d.attr(a):arguments.length&&d.add(Array.prototype.slice.call(arguments,0));return d};w.svg=function(a,d,k,p,b,q,e,l){var r={};z(a,\"object\")&&null==d?r=a:(null!=a&&(r.x=a),null!=d&&(r.y=d),null!=k&&(r.width=k),null!=p&&(r.height=p),null!=b&&null!=q&&null!=e&&null!=l&&(r.viewBox=[b,q,e,l]));return this.el(\"svg\",r)};w.mask=function(a){var d=\n",
       "this.el(\"mask\");1==arguments.length&&a&&!a.type?d.attr(a):arguments.length&&d.add(Array.prototype.slice.call(arguments,0));return d};w.ptrn=function(a,d,k,p,b,q,e,l){if(z(a,\"object\"))var r=a;else arguments.length?(r={},null!=a&&(r.x=a),null!=d&&(r.y=d),null!=k&&(r.width=k),null!=p&&(r.height=p),null!=b&&null!=q&&null!=e&&null!=l&&(r.viewBox=[b,q,e,l])):r={patternUnits:\"userSpaceOnUse\"};return this.el(\"pattern\",r)};w.use=function(a){return null!=a?(make(\"use\",this.node),a instanceof v&&(a.attr(\"id\")||\n",
       "a.attr({id:ID()}),a=a.attr(\"id\")),this.el(\"use\",{\"xlink:href\":a})):v.prototype.use.call(this)};w.text=function(a,d,k){var p={};z(a,\"object\")?p=a:null!=a&&(p={x:a,y:d,text:k||\"\"});return this.el(\"text\",p)};w.line=function(a,d,k,p){var b={};z(a,\"object\")?b=a:null!=a&&(b={x1:a,x2:k,y1:d,y2:p});return this.el(\"line\",b)};w.polyline=function(a){1<arguments.length&&(a=Array.prototype.slice.call(arguments,0));var d={};z(a,\"object\")&&!z(a,\"array\")?d=a:null!=a&&(d={points:a});return this.el(\"polyline\",d)};\n",
       "w.polygon=function(a){1<arguments.length&&(a=Array.prototype.slice.call(arguments,0));var d={};z(a,\"object\")&&!z(a,\"array\")?d=a:null!=a&&(d={points:a});return this.el(\"polygon\",d)};(function(){function d(){return this.selectAll(\"stop\")}function n(b,d){var f=e(\"stop\"),k={offset:+d+\"%\"};b=a.color(b);k[\"stop-color\"]=b.hex;1>b.opacity&&(k[\"stop-opacity\"]=b.opacity);e(f,k);this.node.appendChild(f);return this}function u(){if(\"linearGradient\"==this.type){var b=e(this.node,\"x1\")||0,d=e(this.node,\"x2\")||\n",
       "1,f=e(this.node,\"y1\")||0,k=e(this.node,\"y2\")||0;return a._.box(b,f,math.abs(d-b),math.abs(k-f))}b=this.node.r||0;return a._.box((this.node.cx||0.5)-b,(this.node.cy||0.5)-b,2*b,2*b)}function p(a,d){function f(a,b){for(var d=(b-u)/(a-w),e=w;e<a;e++)h[e].offset=+(+u+d*(e-w)).toFixed(2);w=a;u=b}var n=k(\"snap.util.grad.parse\",null,d).firstDefined(),p;if(!n)return null;n.params.unshift(a);p=\"l\"==n.type.toLowerCase()?b.apply(0,n.params):q.apply(0,n.params);n.type!=n.type.toLowerCase()&&e(p.node,{gradientUnits:\"userSpaceOnUse\"});\n",
       "var h=n.stops,n=h.length,u=0,w=0;n--;for(var v=0;v<n;v++)\"offset\"in h[v]&&f(v,h[v].offset);h[n].offset=h[n].offset||100;f(n,h[n].offset);for(v=0;v<=n;v++){var y=h[v];p.addStop(y.color,y.offset)}return p}function b(b,k,p,q,w){b=a._.make(\"linearGradient\",b);b.stops=d;b.addStop=n;b.getBBox=u;null!=k&&e(b.node,{x1:k,y1:p,x2:q,y2:w});return b}function q(b,k,p,q,w,h){b=a._.make(\"radialGradient\",b);b.stops=d;b.addStop=n;b.getBBox=u;null!=k&&e(b.node,{cx:k,cy:p,r:q});null!=w&&null!=h&&e(b.node,{fx:w,fy:h});\n",
       "return b}var e=a._.$;w.gradient=function(a){return p(this.defs,a)};w.gradientLinear=function(a,d,e,f){return b(this.defs,a,d,e,f)};w.gradientRadial=function(a,b,d,e,f){return q(this.defs,a,b,d,e,f)};w.toString=function(){var b=this.node.ownerDocument,d=b.createDocumentFragment(),b=b.createElement(\"div\"),e=this.node.cloneNode(!0);d.appendChild(b);b.appendChild(e);a._.$(e,{xmlns:\"http://www.w3.org/2000/svg\"});b=b.innerHTML;d.removeChild(d.firstChild);return b};w.clear=function(){for(var a=this.node.firstChild,\n",
       "b;a;)b=a.nextSibling,\"defs\"!=a.tagName?a.parentNode.removeChild(a):w.clear.call({node:a}),a=b}})()});C.plugin(function(a,k,y,M){function A(a){var b=A.ps=A.ps||{};b[a]?b[a].sleep=100:b[a]={sleep:100};setTimeout(function(){for(var d in b)b[L](d)&&d!=a&&(b[d].sleep--,!b[d].sleep&&delete b[d])});return b[a]}function w(a,b,d,e){null==a&&(a=b=d=e=0);null==b&&(b=a.y,d=a.width,e=a.height,a=a.x);return{x:a,y:b,width:d,w:d,height:e,h:e,x2:a+d,y2:b+e,cx:a+d/2,cy:b+e/2,r1:F.min(d,e)/2,r2:F.max(d,e)/2,r0:F.sqrt(d*\n",
       "d+e*e)/2,path:s(a,b,d,e),vb:[a,b,d,e].join(\" \")}}function z(){return this.join(\",\").replace(N,\"$1\")}function d(a){a=C(a);a.toString=z;return a}function f(a,b,d,h,f,k,l,n,p){if(null==p)return e(a,b,d,h,f,k,l,n);if(0>p||e(a,b,d,h,f,k,l,n)<p)p=void 0;else{var q=0.5,O=1-q,s;for(s=e(a,b,d,h,f,k,l,n,O);0.01<Z(s-p);)q/=2,O+=(s<p?1:-1)*q,s=e(a,b,d,h,f,k,l,n,O);p=O}return u(a,b,d,h,f,k,l,n,p)}function n(b,d){function e(a){return+(+a).toFixed(3)}return a._.cacher(function(a,h,l){a instanceof k&&(a=a.attr(\"d\"));\n",
       "a=I(a);for(var n,p,D,q,O=\"\",s={},c=0,t=0,r=a.length;t<r;t++){D=a[t];if(\"M\"==D[0])n=+D[1],p=+D[2];else{q=f(n,p,D[1],D[2],D[3],D[4],D[5],D[6]);if(c+q>h){if(d&&!s.start){n=f(n,p,D[1],D[2],D[3],D[4],D[5],D[6],h-c);O+=[\"C\"+e(n.start.x),e(n.start.y),e(n.m.x),e(n.m.y),e(n.x),e(n.y)];if(l)return O;s.start=O;O=[\"M\"+e(n.x),e(n.y)+\"C\"+e(n.n.x),e(n.n.y),e(n.end.x),e(n.end.y),e(D[5]),e(D[6])].join();c+=q;n=+D[5];p=+D[6];continue}if(!b&&!d)return n=f(n,p,D[1],D[2],D[3],D[4],D[5],D[6],h-c)}c+=q;n=+D[5];p=+D[6]}O+=\n",
       "D.shift()+D}s.end=O;return n=b?c:d?s:u(n,p,D[0],D[1],D[2],D[3],D[4],D[5],1)},null,a._.clone)}function u(a,b,d,e,h,f,k,l,n){var p=1-n,q=ma(p,3),s=ma(p,2),c=n*n,t=c*n,r=q*a+3*s*n*d+3*p*n*n*h+t*k,q=q*b+3*s*n*e+3*p*n*n*f+t*l,s=a+2*n*(d-a)+c*(h-2*d+a),t=b+2*n*(e-b)+c*(f-2*e+b),x=d+2*n*(h-d)+c*(k-2*h+d),c=e+2*n*(f-e)+c*(l-2*f+e);a=p*a+n*d;b=p*b+n*e;h=p*h+n*k;f=p*f+n*l;l=90-180*F.atan2(s-x,t-c)/S;return{x:r,y:q,m:{x:s,y:t},n:{x:x,y:c},start:{x:a,y:b},end:{x:h,y:f},alpha:l}}function p(b,d,e,h,f,n,k,l){a.is(b,\n",
       "\"array\")||(b=[b,d,e,h,f,n,k,l]);b=U.apply(null,b);return w(b.min.x,b.min.y,b.max.x-b.min.x,b.max.y-b.min.y)}function b(a,b,d){return b>=a.x&&b<=a.x+a.width&&d>=a.y&&d<=a.y+a.height}function q(a,d){a=w(a);d=w(d);return b(d,a.x,a.y)||b(d,a.x2,a.y)||b(d,a.x,a.y2)||b(d,a.x2,a.y2)||b(a,d.x,d.y)||b(a,d.x2,d.y)||b(a,d.x,d.y2)||b(a,d.x2,d.y2)||(a.x<d.x2&&a.x>d.x||d.x<a.x2&&d.x>a.x)&&(a.y<d.y2&&a.y>d.y||d.y<a.y2&&d.y>a.y)}function e(a,b,d,e,h,f,n,k,l){null==l&&(l=1);l=(1<l?1:0>l?0:l)/2;for(var p=[-0.1252,\n",
       "0.1252,-0.3678,0.3678,-0.5873,0.5873,-0.7699,0.7699,-0.9041,0.9041,-0.9816,0.9816],q=[0.2491,0.2491,0.2335,0.2335,0.2032,0.2032,0.1601,0.1601,0.1069,0.1069,0.0472,0.0472],s=0,c=0;12>c;c++)var t=l*p[c]+l,r=t*(t*(-3*a+9*d-9*h+3*n)+6*a-12*d+6*h)-3*a+3*d,t=t*(t*(-3*b+9*e-9*f+3*k)+6*b-12*e+6*f)-3*b+3*e,s=s+q[c]*F.sqrt(r*r+t*t);return l*s}function l(a,b,d){a=I(a);b=I(b);for(var h,f,l,n,k,s,r,O,x,c,t=d?0:[],w=0,v=a.length;w<v;w++)if(x=a[w],\"M\"==x[0])h=k=x[1],f=s=x[2];else{\"C\"==x[0]?(x=[h,f].concat(x.slice(1)),\n",
       "h=x[6],f=x[7]):(x=[h,f,h,f,k,s,k,s],h=k,f=s);for(var G=0,y=b.length;G<y;G++)if(c=b[G],\"M\"==c[0])l=r=c[1],n=O=c[2];else{\"C\"==c[0]?(c=[l,n].concat(c.slice(1)),l=c[6],n=c[7]):(c=[l,n,l,n,r,O,r,O],l=r,n=O);var z;var K=x,B=c;z=d;var H=p(K),J=p(B);if(q(H,J)){for(var H=e.apply(0,K),J=e.apply(0,B),H=~~(H/8),J=~~(J/8),U=[],A=[],F={},M=z?0:[],P=0;P<H+1;P++){var C=u.apply(0,K.concat(P/H));U.push({x:C.x,y:C.y,t:P/H})}for(P=0;P<J+1;P++)C=u.apply(0,B.concat(P/J)),A.push({x:C.x,y:C.y,t:P/J});for(P=0;P<H;P++)for(K=\n",
       "0;K<J;K++){var Q=U[P],L=U[P+1],B=A[K],C=A[K+1],N=0.001>Z(L.x-Q.x)?\"y\":\"x\",S=0.001>Z(C.x-B.x)?\"y\":\"x\",R;R=Q.x;var Y=Q.y,V=L.x,ea=L.y,fa=B.x,ga=B.y,ha=C.x,ia=C.y;if(W(R,V)<X(fa,ha)||X(R,V)>W(fa,ha)||W(Y,ea)<X(ga,ia)||X(Y,ea)>W(ga,ia))R=void 0;else{var $=(R*ea-Y*V)*(fa-ha)-(R-V)*(fa*ia-ga*ha),aa=(R*ea-Y*V)*(ga-ia)-(Y-ea)*(fa*ia-ga*ha),ja=(R-V)*(ga-ia)-(Y-ea)*(fa-ha);if(ja){var $=$/ja,aa=aa/ja,ja=+$.toFixed(2),ba=+aa.toFixed(2);R=ja<+X(R,V).toFixed(2)||ja>+W(R,V).toFixed(2)||ja<+X(fa,ha).toFixed(2)||\n",
       "ja>+W(fa,ha).toFixed(2)||ba<+X(Y,ea).toFixed(2)||ba>+W(Y,ea).toFixed(2)||ba<+X(ga,ia).toFixed(2)||ba>+W(ga,ia).toFixed(2)?void 0:{x:$,y:aa}}else R=void 0}R&&F[R.x.toFixed(4)]!=R.y.toFixed(4)&&(F[R.x.toFixed(4)]=R.y.toFixed(4),Q=Q.t+Z((R[N]-Q[N])/(L[N]-Q[N]))*(L.t-Q.t),B=B.t+Z((R[S]-B[S])/(C[S]-B[S]))*(C.t-B.t),0<=Q&&1>=Q&&0<=B&&1>=B&&(z?M++:M.push({x:R.x,y:R.y,t1:Q,t2:B})))}z=M}else z=z?0:[];if(d)t+=z;else{H=0;for(J=z.length;H<J;H++)z[H].segment1=w,z[H].segment2=G,z[H].bez1=x,z[H].bez2=c;t=t.concat(z)}}}return t}\n",
       "function r(a){var b=A(a);if(b.bbox)return C(b.bbox);if(!a)return w();a=I(a);for(var d=0,e=0,h=[],f=[],l,n=0,k=a.length;n<k;n++)l=a[n],\"M\"==l[0]?(d=l[1],e=l[2],h.push(d),f.push(e)):(d=U(d,e,l[1],l[2],l[3],l[4],l[5],l[6]),h=h.concat(d.min.x,d.max.x),f=f.concat(d.min.y,d.max.y),d=l[5],e=l[6]);a=X.apply(0,h);l=X.apply(0,f);h=W.apply(0,h);f=W.apply(0,f);f=w(a,l,h-a,f-l);b.bbox=C(f);return f}function s(a,b,d,e,h){if(h)return[[\"M\",+a+ +h,b],[\"l\",d-2*h,0],[\"a\",h,h,0,0,1,h,h],[\"l\",0,e-2*h],[\"a\",h,h,0,0,1,\n",
       "-h,h],[\"l\",2*h-d,0],[\"a\",h,h,0,0,1,-h,-h],[\"l\",0,2*h-e],[\"a\",h,h,0,0,1,h,-h],[\"z\"] ];a=[[\"M\",a,b],[\"l\",d,0],[\"l\",0,e],[\"l\",-d,0],[\"z\"] ];a.toString=z;return a}function x(a,b,d,e,h){null==h&&null==e&&(e=d);a=+a;b=+b;d=+d;e=+e;if(null!=h){var f=Math.PI/180,l=a+d*Math.cos(-e*f);a+=d*Math.cos(-h*f);var n=b+d*Math.sin(-e*f);b+=d*Math.sin(-h*f);d=[[\"M\",l,n],[\"A\",d,d,0,+(180<h-e),0,a,b] ]}else d=[[\"M\",a,b],[\"m\",0,-e],[\"a\",d,e,0,1,1,0,2*e],[\"a\",d,e,0,1,1,0,-2*e],[\"z\"] ];d.toString=z;return d}function G(b){var e=\n",
       "A(b);if(e.abs)return d(e.abs);Q(b,\"array\")&&Q(b&&b[0],\"array\")||(b=a.parsePathString(b));if(!b||!b.length)return[[\"M\",0,0] ];var h=[],f=0,l=0,n=0,k=0,p=0;\"M\"==b[0][0]&&(f=+b[0][1],l=+b[0][2],n=f,k=l,p++,h[0]=[\"M\",f,l]);for(var q=3==b.length&&\"M\"==b[0][0]&&\"R\"==b[1][0].toUpperCase()&&\"Z\"==b[2][0].toUpperCase(),s,r,w=p,c=b.length;w<c;w++){h.push(s=[]);r=b[w];p=r[0];if(p!=p.toUpperCase())switch(s[0]=p.toUpperCase(),s[0]){case \"A\":s[1]=r[1];s[2]=r[2];s[3]=r[3];s[4]=r[4];s[5]=r[5];s[6]=+r[6]+f;s[7]=+r[7]+\n",
       "l;break;case \"V\":s[1]=+r[1]+l;break;case \"H\":s[1]=+r[1]+f;break;case \"R\":for(var t=[f,l].concat(r.slice(1)),u=2,v=t.length;u<v;u++)t[u]=+t[u]+f,t[++u]=+t[u]+l;h.pop();h=h.concat(P(t,q));break;case \"O\":h.pop();t=x(f,l,r[1],r[2]);t.push(t[0]);h=h.concat(t);break;case \"U\":h.pop();h=h.concat(x(f,l,r[1],r[2],r[3]));s=[\"U\"].concat(h[h.length-1].slice(-2));break;case \"M\":n=+r[1]+f,k=+r[2]+l;default:for(u=1,v=r.length;u<v;u++)s[u]=+r[u]+(u%2?f:l)}else if(\"R\"==p)t=[f,l].concat(r.slice(1)),h.pop(),h=h.concat(P(t,\n",
       "q)),s=[\"R\"].concat(r.slice(-2));else if(\"O\"==p)h.pop(),t=x(f,l,r[1],r[2]),t.push(t[0]),h=h.concat(t);else if(\"U\"==p)h.pop(),h=h.concat(x(f,l,r[1],r[2],r[3])),s=[\"U\"].concat(h[h.length-1].slice(-2));else for(t=0,u=r.length;t<u;t++)s[t]=r[t];p=p.toUpperCase();if(\"O\"!=p)switch(s[0]){case \"Z\":f=+n;l=+k;break;case \"H\":f=s[1];break;case \"V\":l=s[1];break;case \"M\":n=s[s.length-2],k=s[s.length-1];default:f=s[s.length-2],l=s[s.length-1]}}h.toString=z;e.abs=d(h);return h}function h(a,b,d,e){return[a,b,d,e,d,\n",
       "e]}function J(a,b,d,e,h,f){var l=1/3,n=2/3;return[l*a+n*d,l*b+n*e,l*h+n*d,l*f+n*e,h,f]}function K(b,d,e,h,f,l,n,k,p,s){var r=120*S/180,q=S/180*(+f||0),c=[],t,x=a._.cacher(function(a,b,c){var d=a*F.cos(c)-b*F.sin(c);a=a*F.sin(c)+b*F.cos(c);return{x:d,y:a}});if(s)v=s[0],t=s[1],l=s[2],u=s[3];else{t=x(b,d,-q);b=t.x;d=t.y;t=x(k,p,-q);k=t.x;p=t.y;F.cos(S/180*f);F.sin(S/180*f);t=(b-k)/2;v=(d-p)/2;u=t*t/(e*e)+v*v/(h*h);1<u&&(u=F.sqrt(u),e*=u,h*=u);var u=e*e,w=h*h,u=(l==n?-1:1)*F.sqrt(Z((u*w-u*v*v-w*t*t)/\n",
       "(u*v*v+w*t*t)));l=u*e*v/h+(b+k)/2;var u=u*-h*t/e+(d+p)/2,v=F.asin(((d-u)/h).toFixed(9));t=F.asin(((p-u)/h).toFixed(9));v=b<l?S-v:v;t=k<l?S-t:t;0>v&&(v=2*S+v);0>t&&(t=2*S+t);n&&v>t&&(v-=2*S);!n&&t>v&&(t-=2*S)}if(Z(t-v)>r){var c=t,w=k,G=p;t=v+r*(n&&t>v?1:-1);k=l+e*F.cos(t);p=u+h*F.sin(t);c=K(k,p,e,h,f,0,n,w,G,[t,c,l,u])}l=t-v;f=F.cos(v);r=F.sin(v);n=F.cos(t);t=F.sin(t);l=F.tan(l/4);e=4/3*e*l;l*=4/3*h;h=[b,d];b=[b+e*r,d-l*f];d=[k+e*t,p-l*n];k=[k,p];b[0]=2*h[0]-b[0];b[1]=2*h[1]-b[1];if(s)return[b,d,k].concat(c);\n",
       "c=[b,d,k].concat(c).join().split(\",\");s=[];k=0;for(p=c.length;k<p;k++)s[k]=k%2?x(c[k-1],c[k],q).y:x(c[k],c[k+1],q).x;return s}function U(a,b,d,e,h,f,l,k){for(var n=[],p=[[],[] ],s,r,c,t,q=0;2>q;++q)0==q?(r=6*a-12*d+6*h,s=-3*a+9*d-9*h+3*l,c=3*d-3*a):(r=6*b-12*e+6*f,s=-3*b+9*e-9*f+3*k,c=3*e-3*b),1E-12>Z(s)?1E-12>Z(r)||(s=-c/r,0<s&&1>s&&n.push(s)):(t=r*r-4*c*s,c=F.sqrt(t),0>t||(t=(-r+c)/(2*s),0<t&&1>t&&n.push(t),s=(-r-c)/(2*s),0<s&&1>s&&n.push(s)));for(r=q=n.length;q--;)s=n[q],c=1-s,p[0][q]=c*c*c*a+3*\n",
       "c*c*s*d+3*c*s*s*h+s*s*s*l,p[1][q]=c*c*c*b+3*c*c*s*e+3*c*s*s*f+s*s*s*k;p[0][r]=a;p[1][r]=b;p[0][r+1]=l;p[1][r+1]=k;p[0].length=p[1].length=r+2;return{min:{x:X.apply(0,p[0]),y:X.apply(0,p[1])},max:{x:W.apply(0,p[0]),y:W.apply(0,p[1])}}}function I(a,b){var e=!b&&A(a);if(!b&&e.curve)return d(e.curve);var f=G(a),l=b&&G(b),n={x:0,y:0,bx:0,by:0,X:0,Y:0,qx:null,qy:null},k={x:0,y:0,bx:0,by:0,X:0,Y:0,qx:null,qy:null},p=function(a,b,c){if(!a)return[\"C\",b.x,b.y,b.x,b.y,b.x,b.y];a[0]in{T:1,Q:1}||(b.qx=b.qy=null);\n",
       "switch(a[0]){case \"M\":b.X=a[1];b.Y=a[2];break;case \"A\":a=[\"C\"].concat(K.apply(0,[b.x,b.y].concat(a.slice(1))));break;case \"S\":\"C\"==c||\"S\"==c?(c=2*b.x-b.bx,b=2*b.y-b.by):(c=b.x,b=b.y);a=[\"C\",c,b].concat(a.slice(1));break;case \"T\":\"Q\"==c||\"T\"==c?(b.qx=2*b.x-b.qx,b.qy=2*b.y-b.qy):(b.qx=b.x,b.qy=b.y);a=[\"C\"].concat(J(b.x,b.y,b.qx,b.qy,a[1],a[2]));break;case \"Q\":b.qx=a[1];b.qy=a[2];a=[\"C\"].concat(J(b.x,b.y,a[1],a[2],a[3],a[4]));break;case \"L\":a=[\"C\"].concat(h(b.x,b.y,a[1],a[2]));break;case \"H\":a=[\"C\"].concat(h(b.x,\n",
       "b.y,a[1],b.y));break;case \"V\":a=[\"C\"].concat(h(b.x,b.y,b.x,a[1]));break;case \"Z\":a=[\"C\"].concat(h(b.x,b.y,b.X,b.Y))}return a},s=function(a,b){if(7<a[b].length){a[b].shift();for(var c=a[b];c.length;)q[b]=\"A\",l&&(u[b]=\"A\"),a.splice(b++,0,[\"C\"].concat(c.splice(0,6)));a.splice(b,1);v=W(f.length,l&&l.length||0)}},r=function(a,b,c,d,e){a&&b&&\"M\"==a[e][0]&&\"M\"!=b[e][0]&&(b.splice(e,0,[\"M\",d.x,d.y]),c.bx=0,c.by=0,c.x=a[e][1],c.y=a[e][2],v=W(f.length,l&&l.length||0))},q=[],u=[],c=\"\",t=\"\",x=0,v=W(f.length,\n",
       "l&&l.length||0);for(;x<v;x++){f[x]&&(c=f[x][0]);\"C\"!=c&&(q[x]=c,x&&(t=q[x-1]));f[x]=p(f[x],n,t);\"A\"!=q[x]&&\"C\"==c&&(q[x]=\"C\");s(f,x);l&&(l[x]&&(c=l[x][0]),\"C\"!=c&&(u[x]=c,x&&(t=u[x-1])),l[x]=p(l[x],k,t),\"A\"!=u[x]&&\"C\"==c&&(u[x]=\"C\"),s(l,x));r(f,l,n,k,x);r(l,f,k,n,x);var w=f[x],z=l&&l[x],y=w.length,U=l&&z.length;n.x=w[y-2];n.y=w[y-1];n.bx=$(w[y-4])||n.x;n.by=$(w[y-3])||n.y;k.bx=l&&($(z[U-4])||k.x);k.by=l&&($(z[U-3])||k.y);k.x=l&&z[U-2];k.y=l&&z[U-1]}l||(e.curve=d(f));return l?[f,l]:f}function P(a,\n",
       "b){for(var d=[],e=0,h=a.length;h-2*!b>e;e+=2){var f=[{x:+a[e-2],y:+a[e-1]},{x:+a[e],y:+a[e+1]},{x:+a[e+2],y:+a[e+3]},{x:+a[e+4],y:+a[e+5]}];b?e?h-4==e?f[3]={x:+a[0],y:+a[1]}:h-2==e&&(f[2]={x:+a[0],y:+a[1]},f[3]={x:+a[2],y:+a[3]}):f[0]={x:+a[h-2],y:+a[h-1]}:h-4==e?f[3]=f[2]:e||(f[0]={x:+a[e],y:+a[e+1]});d.push([\"C\",(-f[0].x+6*f[1].x+f[2].x)/6,(-f[0].y+6*f[1].y+f[2].y)/6,(f[1].x+6*f[2].x-f[3].x)/6,(f[1].y+6*f[2].y-f[3].y)/6,f[2].x,f[2].y])}return d}y=k.prototype;var Q=a.is,C=a._.clone,L=\"hasOwnProperty\",\n",
       "N=/,?([a-z]),?/gi,$=parseFloat,F=Math,S=F.PI,X=F.min,W=F.max,ma=F.pow,Z=F.abs;M=n(1);var na=n(),ba=n(0,1),V=a._unit2px;a.path=A;a.path.getTotalLength=M;a.path.getPointAtLength=na;a.path.getSubpath=function(a,b,d){if(1E-6>this.getTotalLength(a)-d)return ba(a,b).end;a=ba(a,d,1);return b?ba(a,b).end:a};y.getTotalLength=function(){if(this.node.getTotalLength)return this.node.getTotalLength()};y.getPointAtLength=function(a){return na(this.attr(\"d\"),a)};y.getSubpath=function(b,d){return a.path.getSubpath(this.attr(\"d\"),\n",
       "b,d)};a._.box=w;a.path.findDotsAtSegment=u;a.path.bezierBBox=p;a.path.isPointInsideBBox=b;a.path.isBBoxIntersect=q;a.path.intersection=function(a,b){return l(a,b)};a.path.intersectionNumber=function(a,b){return l(a,b,1)};a.path.isPointInside=function(a,d,e){var h=r(a);return b(h,d,e)&&1==l(a,[[\"M\",d,e],[\"H\",h.x2+10] ],1)%2};a.path.getBBox=r;a.path.get={path:function(a){return a.attr(\"path\")},circle:function(a){a=V(a);return x(a.cx,a.cy,a.r)},ellipse:function(a){a=V(a);return x(a.cx||0,a.cy||0,a.rx,\n",
       "a.ry)},rect:function(a){a=V(a);return s(a.x||0,a.y||0,a.width,a.height,a.rx,a.ry)},image:function(a){a=V(a);return s(a.x||0,a.y||0,a.width,a.height)},line:function(a){return\"M\"+[a.attr(\"x1\")||0,a.attr(\"y1\")||0,a.attr(\"x2\"),a.attr(\"y2\")]},polyline:function(a){return\"M\"+a.attr(\"points\")},polygon:function(a){return\"M\"+a.attr(\"points\")+\"z\"},deflt:function(a){a=a.node.getBBox();return s(a.x,a.y,a.width,a.height)}};a.path.toRelative=function(b){var e=A(b),h=String.prototype.toLowerCase;if(e.rel)return d(e.rel);\n",
       "a.is(b,\"array\")&&a.is(b&&b[0],\"array\")||(b=a.parsePathString(b));var f=[],l=0,n=0,k=0,p=0,s=0;\"M\"==b[0][0]&&(l=b[0][1],n=b[0][2],k=l,p=n,s++,f.push([\"M\",l,n]));for(var r=b.length;s<r;s++){var q=f[s]=[],x=b[s];if(x[0]!=h.call(x[0]))switch(q[0]=h.call(x[0]),q[0]){case \"a\":q[1]=x[1];q[2]=x[2];q[3]=x[3];q[4]=x[4];q[5]=x[5];q[6]=+(x[6]-l).toFixed(3);q[7]=+(x[7]-n).toFixed(3);break;case \"v\":q[1]=+(x[1]-n).toFixed(3);break;case \"m\":k=x[1],p=x[2];default:for(var c=1,t=x.length;c<t;c++)q[c]=+(x[c]-(c%2?l:\n",
       "n)).toFixed(3)}else for(f[s]=[],\"m\"==x[0]&&(k=x[1]+l,p=x[2]+n),q=0,c=x.length;q<c;q++)f[s][q]=x[q];x=f[s].length;switch(f[s][0]){case \"z\":l=k;n=p;break;case \"h\":l+=+f[s][x-1];break;case \"v\":n+=+f[s][x-1];break;default:l+=+f[s][x-2],n+=+f[s][x-1]}}f.toString=z;e.rel=d(f);return f};a.path.toAbsolute=G;a.path.toCubic=I;a.path.map=function(a,b){if(!b)return a;var d,e,h,f,l,n,k;a=I(a);h=0;for(l=a.length;h<l;h++)for(k=a[h],f=1,n=k.length;f<n;f+=2)d=b.x(k[f],k[f+1]),e=b.y(k[f],k[f+1]),k[f]=d,k[f+1]=e;return a};\n",
       "a.path.toString=z;a.path.clone=d});C.plugin(function(a,v,y,C){var A=Math.max,w=Math.min,z=function(a){this.items=[];this.bindings={};this.length=0;this.type=\"set\";if(a)for(var f=0,n=a.length;f<n;f++)a[f]&&(this[this.items.length]=this.items[this.items.length]=a[f],this.length++)};v=z.prototype;v.push=function(){for(var a,f,n=0,k=arguments.length;n<k;n++)if(a=arguments[n])f=this.items.length,this[f]=this.items[f]=a,this.length++;return this};v.pop=function(){this.length&&delete this[this.length--];\n",
       "return this.items.pop()};v.forEach=function(a,f){for(var n=0,k=this.items.length;n<k&&!1!==a.call(f,this.items[n],n);n++);return this};v.animate=function(d,f,n,u){\"function\"!=typeof n||n.length||(u=n,n=L.linear);d instanceof a._.Animation&&(u=d.callback,n=d.easing,f=n.dur,d=d.attr);var p=arguments;if(a.is(d,\"array\")&&a.is(p[p.length-1],\"array\"))var b=!0;var q,e=function(){q?this.b=q:q=this.b},l=0,r=u&&function(){l++==this.length&&u.call(this)};return this.forEach(function(a,l){k.once(\"snap.animcreated.\"+\n",
       "a.id,e);b?p[l]&&a.animate.apply(a,p[l]):a.animate(d,f,n,r)})};v.remove=function(){for(;this.length;)this.pop().remove();return this};v.bind=function(a,f,k){var u={};if(\"function\"==typeof f)this.bindings[a]=f;else{var p=k||a;this.bindings[a]=function(a){u[p]=a;f.attr(u)}}return this};v.attr=function(a){var f={},k;for(k in a)if(this.bindings[k])this.bindings[k](a[k]);else f[k]=a[k];a=0;for(k=this.items.length;a<k;a++)this.items[a].attr(f);return this};v.clear=function(){for(;this.length;)this.pop()};\n",
       "v.splice=function(a,f,k){a=0>a?A(this.length+a,0):a;f=A(0,w(this.length-a,f));var u=[],p=[],b=[],q;for(q=2;q<arguments.length;q++)b.push(arguments[q]);for(q=0;q<f;q++)p.push(this[a+q]);for(;q<this.length-a;q++)u.push(this[a+q]);var e=b.length;for(q=0;q<e+u.length;q++)this.items[a+q]=this[a+q]=q<e?b[q]:u[q-e];for(q=this.items.length=this.length-=f-e;this[q];)delete this[q++];return new z(p)};v.exclude=function(a){for(var f=0,k=this.length;f<k;f++)if(this[f]==a)return this.splice(f,1),!0;return!1};\n",
       "v.insertAfter=function(a){for(var f=this.items.length;f--;)this.items[f].insertAfter(a);return this};v.getBBox=function(){for(var a=[],f=[],k=[],u=[],p=this.items.length;p--;)if(!this.items[p].removed){var b=this.items[p].getBBox();a.push(b.x);f.push(b.y);k.push(b.x+b.width);u.push(b.y+b.height)}a=w.apply(0,a);f=w.apply(0,f);k=A.apply(0,k);u=A.apply(0,u);return{x:a,y:f,x2:k,y2:u,width:k-a,height:u-f,cx:a+(k-a)/2,cy:f+(u-f)/2}};v.clone=function(a){a=new z;for(var f=0,k=this.items.length;f<k;f++)a.push(this.items[f].clone());\n",
       "return a};v.toString=function(){return\"Snap\\u2018s set\"};v.type=\"set\";a.set=function(){var a=new z;arguments.length&&a.push.apply(a,Array.prototype.slice.call(arguments,0));return a}});C.plugin(function(a,v,y,C){function A(a){var b=a[0];switch(b.toLowerCase()){case \"t\":return[b,0,0];case \"m\":return[b,1,0,0,1,0,0];case \"r\":return 4==a.length?[b,0,a[2],a[3] ]:[b,0];case \"s\":return 5==a.length?[b,1,1,a[3],a[4] ]:3==a.length?[b,1,1]:[b,1]}}function w(b,d,f){d=q(d).replace(/\\.{3}|\\u2026/g,b);b=a.parseTransformString(b)||\n",
       "[];d=a.parseTransformString(d)||[];for(var k=Math.max(b.length,d.length),p=[],v=[],h=0,w,z,y,I;h<k;h++){y=b[h]||A(d[h]);I=d[h]||A(y);if(y[0]!=I[0]||\"r\"==y[0].toLowerCase()&&(y[2]!=I[2]||y[3]!=I[3])||\"s\"==y[0].toLowerCase()&&(y[3]!=I[3]||y[4]!=I[4])){b=a._.transform2matrix(b,f());d=a._.transform2matrix(d,f());p=[[\"m\",b.a,b.b,b.c,b.d,b.e,b.f] ];v=[[\"m\",d.a,d.b,d.c,d.d,d.e,d.f] ];break}p[h]=[];v[h]=[];w=0;for(z=Math.max(y.length,I.length);w<z;w++)w in y&&(p[h][w]=y[w]),w in I&&(v[h][w]=I[w])}return{from:u(p),\n",
       "to:u(v),f:n(p)}}function z(a){return a}function d(a){return function(b){return+b.toFixed(3)+a}}function f(b){return a.rgb(b[0],b[1],b[2])}function n(a){var b=0,d,f,k,n,h,p,q=[];d=0;for(f=a.length;d<f;d++){h=\"[\";p=['\"'+a[d][0]+'\"'];k=1;for(n=a[d].length;k<n;k++)p[k]=\"val[\"+b++ +\"]\";h+=p+\"]\";q[d]=h}return Function(\"val\",\"return Snap.path.toString.call([\"+q+\"])\")}function u(a){for(var b=[],d=0,f=a.length;d<f;d++)for(var k=1,n=a[d].length;k<n;k++)b.push(a[d][k]);return b}var p={},b=/[a-z]+$/i,q=String;\n",
       "p.stroke=p.fill=\"colour\";v.prototype.equal=function(a,b){return k(\"snap.util.equal\",this,a,b).firstDefined()};k.on(\"snap.util.equal\",function(e,k){var r,s;r=q(this.attr(e)||\"\");var x=this;if(r==+r&&k==+k)return{from:+r,to:+k,f:z};if(\"colour\"==p[e])return r=a.color(r),s=a.color(k),{from:[r.r,r.g,r.b,r.opacity],to:[s.r,s.g,s.b,s.opacity],f:f};if(\"transform\"==e||\"gradientTransform\"==e||\"patternTransform\"==e)return k instanceof a.Matrix&&(k=k.toTransformString()),a._.rgTransform.test(k)||(k=a._.svgTransform2string(k)),\n",
       "w(r,k,function(){return x.getBBox(1)});if(\"d\"==e||\"path\"==e)return r=a.path.toCubic(r,k),{from:u(r[0]),to:u(r[1]),f:n(r[0])};if(\"points\"==e)return r=q(r).split(a._.separator),s=q(k).split(a._.separator),{from:r,to:s,f:function(a){return a}};aUnit=r.match(b);s=q(k).match(b);return aUnit&&aUnit==s?{from:parseFloat(r),to:parseFloat(k),f:d(aUnit)}:{from:this.asPX(e),to:this.asPX(e,k),f:z}})});C.plugin(function(a,v,y,C){var A=v.prototype,w=\"createTouch\"in C.doc;v=\"click dblclick mousedown mousemove mouseout mouseover mouseup touchstart touchmove touchend touchcancel\".split(\" \");\n",
       "var z={mousedown:\"touchstart\",mousemove:\"touchmove\",mouseup:\"touchend\"},d=function(a,b){var d=\"y\"==a?\"scrollTop\":\"scrollLeft\",e=b&&b.node?b.node.ownerDocument:C.doc;return e[d in e.documentElement?\"documentElement\":\"body\"][d]},f=function(){this.returnValue=!1},n=function(){return this.originalEvent.preventDefault()},u=function(){this.cancelBubble=!0},p=function(){return this.originalEvent.stopPropagation()},b=function(){if(C.doc.addEventListener)return function(a,b,e,f){var k=w&&z[b]?z[b]:b,l=function(k){var l=\n",
       "d(\"y\",f),q=d(\"x\",f);if(w&&z.hasOwnProperty(b))for(var r=0,u=k.targetTouches&&k.targetTouches.length;r<u;r++)if(k.targetTouches[r].target==a||a.contains(k.targetTouches[r].target)){u=k;k=k.targetTouches[r];k.originalEvent=u;k.preventDefault=n;k.stopPropagation=p;break}return e.call(f,k,k.clientX+q,k.clientY+l)};b!==k&&a.addEventListener(b,l,!1);a.addEventListener(k,l,!1);return function(){b!==k&&a.removeEventListener(b,l,!1);a.removeEventListener(k,l,!1);return!0}};if(C.doc.attachEvent)return function(a,\n",
       "b,e,h){var k=function(a){a=a||h.node.ownerDocument.window.event;var b=d(\"y\",h),k=d(\"x\",h),k=a.clientX+k,b=a.clientY+b;a.preventDefault=a.preventDefault||f;a.stopPropagation=a.stopPropagation||u;return e.call(h,a,k,b)};a.attachEvent(\"on\"+b,k);return function(){a.detachEvent(\"on\"+b,k);return!0}}}(),q=[],e=function(a){for(var b=a.clientX,e=a.clientY,f=d(\"y\"),l=d(\"x\"),n,p=q.length;p--;){n=q[p];if(w)for(var r=a.touches&&a.touches.length,u;r--;){if(u=a.touches[r],u.identifier==n.el._drag.id||n.el.node.contains(u.target)){b=\n",
       "u.clientX;e=u.clientY;(a.originalEvent?a.originalEvent:a).preventDefault();break}}else a.preventDefault();b+=l;e+=f;k(\"snap.drag.move.\"+n.el.id,n.move_scope||n.el,b-n.el._drag.x,e-n.el._drag.y,b,e,a)}},l=function(b){a.unmousemove(e).unmouseup(l);for(var d=q.length,f;d--;)f=q[d],f.el._drag={},k(\"snap.drag.end.\"+f.el.id,f.end_scope||f.start_scope||f.move_scope||f.el,b);q=[]};for(y=v.length;y--;)(function(d){a[d]=A[d]=function(e,f){a.is(e,\"function\")&&(this.events=this.events||[],this.events.push({name:d,\n",
       "f:e,unbind:b(this.node||document,d,e,f||this)}));return this};a[\"un\"+d]=A[\"un\"+d]=function(a){for(var b=this.events||[],e=b.length;e--;)if(b[e].name==d&&(b[e].f==a||!a)){b[e].unbind();b.splice(e,1);!b.length&&delete this.events;break}return this}})(v[y]);A.hover=function(a,b,d,e){return this.mouseover(a,d).mouseout(b,e||d)};A.unhover=function(a,b){return this.unmouseover(a).unmouseout(b)};var r=[];A.drag=function(b,d,f,h,n,p){function u(r,v,w){(r.originalEvent||r).preventDefault();this._drag.x=v;\n",
       "this._drag.y=w;this._drag.id=r.identifier;!q.length&&a.mousemove(e).mouseup(l);q.push({el:this,move_scope:h,start_scope:n,end_scope:p});d&&k.on(\"snap.drag.start.\"+this.id,d);b&&k.on(\"snap.drag.move.\"+this.id,b);f&&k.on(\"snap.drag.end.\"+this.id,f);k(\"snap.drag.start.\"+this.id,n||h||this,v,w,r)}if(!arguments.length){var v;return this.drag(function(a,b){this.attr({transform:v+(v?\"T\":\"t\")+[a,b]})},function(){v=this.transform().local})}this._drag={};r.push({el:this,start:u});this.mousedown(u);return this};\n",
       "A.undrag=function(){for(var b=r.length;b--;)r[b].el==this&&(this.unmousedown(r[b].start),r.splice(b,1),k.unbind(\"snap.drag.*.\"+this.id));!r.length&&a.unmousemove(e).unmouseup(l);return this}});C.plugin(function(a,v,y,C){y=y.prototype;var A=/^\\s*url\\((.+)\\)/,w=String,z=a._.$;a.filter={};y.filter=function(d){var f=this;\"svg\"!=f.type&&(f=f.paper);d=a.parse(w(d));var k=a._.id(),u=z(\"filter\");z(u,{id:k,filterUnits:\"userSpaceOnUse\"});u.appendChild(d.node);f.defs.appendChild(u);return new v(u)};k.on(\"snap.util.getattr.filter\",\n",
       "function(){k.stop();var d=z(this.node,\"filter\");if(d)return(d=w(d).match(A))&&a.select(d[1])});k.on(\"snap.util.attr.filter\",function(d){if(d instanceof v&&\"filter\"==d.type){k.stop();var f=d.node.id;f||(z(d.node,{id:d.id}),f=d.id);z(this.node,{filter:a.url(f)})}d&&\"none\"!=d||(k.stop(),this.node.removeAttribute(\"filter\"))});a.filter.blur=function(d,f){null==d&&(d=2);return a.format('<feGaussianBlur stdDeviation=\"{def}\"/>',{def:null==f?d:[d,f]})};a.filter.blur.toString=function(){return this()};a.filter.shadow=\n",
       "function(d,f,k,u,p){\"string\"==typeof k&&(p=u=k,k=4);\"string\"!=typeof u&&(p=u,u=\"#000\");null==k&&(k=4);null==p&&(p=1);null==d&&(d=0,f=2);null==f&&(f=d);u=a.color(u||\"#000\");return a.format('<feGaussianBlur in=\"SourceAlpha\" stdDeviation=\"{blur}\"/><feOffset dx=\"{dx}\" dy=\"{dy}\" result=\"offsetblur\"/><feFlood flood-color=\"{color}\"/><feComposite in2=\"offsetblur\" operator=\"in\"/><feComponentTransfer><feFuncA type=\"linear\" slope=\"{opacity}\"/></feComponentTransfer><feMerge><feMergeNode/><feMergeNode in=\"SourceGraphic\"/></feMerge>',\n",
       "{color:u,dx:d,dy:f,blur:k,opacity:p})};a.filter.shadow.toString=function(){return this()};a.filter.grayscale=function(d){null==d&&(d=1);return a.format('<feColorMatrix type=\"matrix\" values=\"{a} {b} {c} 0 0 {d} {e} {f} 0 0 {g} {b} {h} 0 0 0 0 0 1 0\"/>',{a:0.2126+0.7874*(1-d),b:0.7152-0.7152*(1-d),c:0.0722-0.0722*(1-d),d:0.2126-0.2126*(1-d),e:0.7152+0.2848*(1-d),f:0.0722-0.0722*(1-d),g:0.2126-0.2126*(1-d),h:0.0722+0.9278*(1-d)})};a.filter.grayscale.toString=function(){return this()};a.filter.sepia=\n",
       "function(d){null==d&&(d=1);return a.format('<feColorMatrix type=\"matrix\" values=\"{a} {b} {c} 0 0 {d} {e} {f} 0 0 {g} {h} {i} 0 0 0 0 0 1 0\"/>',{a:0.393+0.607*(1-d),b:0.769-0.769*(1-d),c:0.189-0.189*(1-d),d:0.349-0.349*(1-d),e:0.686+0.314*(1-d),f:0.168-0.168*(1-d),g:0.272-0.272*(1-d),h:0.534-0.534*(1-d),i:0.131+0.869*(1-d)})};a.filter.sepia.toString=function(){return this()};a.filter.saturate=function(d){null==d&&(d=1);return a.format('<feColorMatrix type=\"saturate\" values=\"{amount}\"/>',{amount:1-\n",
       "d})};a.filter.saturate.toString=function(){return this()};a.filter.hueRotate=function(d){return a.format('<feColorMatrix type=\"hueRotate\" values=\"{angle}\"/>',{angle:d||0})};a.filter.hueRotate.toString=function(){return this()};a.filter.invert=function(d){null==d&&(d=1);return a.format('<feComponentTransfer><feFuncR type=\"table\" tableValues=\"{amount} {amount2}\"/><feFuncG type=\"table\" tableValues=\"{amount} {amount2}\"/><feFuncB type=\"table\" tableValues=\"{amount} {amount2}\"/></feComponentTransfer>',{amount:d,\n",
       "amount2:1-d})};a.filter.invert.toString=function(){return this()};a.filter.brightness=function(d){null==d&&(d=1);return a.format('<feComponentTransfer><feFuncR type=\"linear\" slope=\"{amount}\"/><feFuncG type=\"linear\" slope=\"{amount}\"/><feFuncB type=\"linear\" slope=\"{amount}\"/></feComponentTransfer>',{amount:d})};a.filter.brightness.toString=function(){return this()};a.filter.contrast=function(d){null==d&&(d=1);return a.format('<feComponentTransfer><feFuncR type=\"linear\" slope=\"{amount}\" intercept=\"{amount2}\"/><feFuncG type=\"linear\" slope=\"{amount}\" intercept=\"{amount2}\"/><feFuncB type=\"linear\" slope=\"{amount}\" intercept=\"{amount2}\"/></feComponentTransfer>',\n",
       "{amount:d,amount2:0.5-d/2})};a.filter.contrast.toString=function(){return this()}});return C});\n",
       "\n",
       "]]> </script>\n",
       "</svg>\n"
      ],
      "text/plain": [
       "Compose.Context(Measures.BoundingBox{Tuple{Measures.Length{:w,Float64},Measures.Length{:h,Float64}},Tuple{Measures.Length{:w,Float64},Measures.Length{:h,Float64}}}((0.0w, 0.0h), (1.0w, 1.0h)), Compose.UnitBox{Float64,Float64,Float64,Float64}(-1.2, -1.2, 2.4, 2.4, 0.0mm, 0.0mm, 0.0mm, 0.0mm), nothing, nothing, nothing, List([Compose.Context(Measures.BoundingBox{Tuple{Measures.Length{:w,Float64},Measures.Length{:h,Float64}},Tuple{Measures.Length{:w,Float64},Measures.Length{:h,Float64}}}((0.0w, 0.0h), (1.0w, 1.0h)), nothing, nothing, nothing, nothing, List([]), List([Compose.Form{Compose.LinePrimitive}(Compose.LinePrimitive[LinePrimitive{Tuple{Measure,Measure}}(Tuple{Measures.Measure,Measures.Measure}[(-0.0126305cx, -0.362291cy), (0.381655cx, -0.927507cy)]), LinePrimitive{Tuple{Measure,Measure}}(Tuple{Measures.Measure,Measures.Measure}[(-0.0571285cx, -0.201619cy), (-0.000736827cx, 0.617348cy)]), LinePrimitive{Tuple{Measure,Measure}}(Tuple{Measures.Measure,Measures.Measure}[(-0.109963cx, -0.214794cy), (-0.435585cx, 0.307486cy)]), LinePrimitive{Tuple{Measure,Measure}}(Tuple{Measures.Measure,Measures.Measure}[(0.510627cx, -0.959188cy), (0.84728cx, -0.783941cy)]), LinePrimitive{Tuple{Measure,Measure}}(Tuple{Measures.Measure,Measures.Measure}[(0.93156cx, -0.654936cy), (0.994122cx, 0.283753cy)]), LinePrimitive{Tuple{Measure,Measure}}(Tuple{Measures.Measure,Measures.Measure}[(0.949652cx, 0.444593cy), (0.615071cx, 0.927353cy)]), LinePrimitive{Tuple{Measure,Measure}}(Tuple{Measures.Measure,Measures.Measure}[(0.48651cx, 0.958827cy), (0.0835481cx, 0.7467cy)]), LinePrimitive{Tuple{Measure,Measure}}(Tuple{Measures.Measure,Measures.Measure}[(-0.0683537cx, 0.656717cy), (-0.408659cx, 0.431301cy)]), LinePrimitive{Tuple{Measure,Measure}}(Tuple{Measures.Measure,Measures.Measure}[(-0.435585cx, 0.307486cy), (-0.109963cx, -0.214794cy)]), LinePrimitive{Tuple{Measure,Measure}}(Tuple{Measures.Measure,Measures.Measure}[(-0.564721cx, 0.414541cy), (-0.917627cx, 0.551854cy)])], Symbol(\"\"))]), List([Compose.Property{Compose.LineWidthPrimitive}(Compose.LineWidthPrimitive[LineWidthPrimitive(1.06066mm)]), Compose.Property{Compose.FillPrimitive}(Compose.FillPrimitive[FillPrimitive(RGBA{Float64}(0.0,0.0,0.0,0.0))]), Compose.Property{Compose.StrokePrimitive}(Compose.StrokePrimitive[StrokePrimitive(RGBA{Float64}(0.827451,0.827451,0.827451,1.0))])]), 0, false, false, false, false, nothing, nothing, 0.0, Symbol(\"\")), Compose.Context(Measures.BoundingBox{Tuple{Measures.Length{:w,Float64},Measures.Length{:h,Float64}},Tuple{Measures.Length{:w,Float64},Measures.Length{:h,Float64}}}((0.0w, 0.0h), (1.0w, 1.0h)), nothing, nothing, nothing, nothing, List([]), List([Compose.Form{Compose.LinePrimitive}(Compose.LinePrimitive[LinePrimitive{Tuple{Measure,Measure}}(Tuple{Measures.Measure,Measures.Measure}[(0.299841cx, -0.870005cy), (0.381655cx, -0.927507cy), (0.355943cx, -0.830869cy)]), LinePrimitive{Tuple{Measure,Measure}}(Tuple{Measures.Measure,Measures.Measure}[(0.0269292cx, 0.521251cy), (-0.000736827cx, 0.617348cy), (-0.0413132cx, 0.52595cy)]), LinePrimitive{Tuple{Measure,Measure}}(Tuple{Measures.Measure,Measures.Measure}[(-0.356847cx, 0.24584cy), (-0.435585cx, 0.307486cy), (-0.414893cx, 0.20965cy)]), LinePrimitive{Tuple{Measure,Measure}}(Tuple{Measures.Measure,Measures.Measure}[(0.77972cx, -0.857668cy), (0.84728cx, -0.783941cy), (0.748135cx, -0.796993cy)]), LinePrimitive{Tuple{Measure,Measure}}(Tuple{Measures.Measure,Measures.Measure}[(1.022cx, 0.187717cy), (0.994122cx, 0.283753cy), (0.953747cx, 0.192266cy)]), LinePrimitive{Tuple{Measure,Measure}}(Tuple{Measures.Measure,Measures.Measure}[(0.696709cx, 0.869602cy), (0.615071cx, 0.927353cy), (0.640488cx, 0.830637cy)]), LinePrimitive{Tuple{Measure,Measure}}(Tuple{Measures.Measure,Measures.Measure}[(0.150768cx, 0.820737cy), (0.0835481cx, 0.7467cy), (0.182632cx, 0.760208cy)]), LinePrimitive{Tuple{Measure,Measure}}(Tuple{Measures.Measure,Measures.Measure}[(-0.349205cx, 0.511708cy), (-0.408659cx, 0.431301cy), (-0.311431cx, 0.45468cy)]), LinePrimitive{Tuple{Measure,Measure}}(Tuple{Measures.Measure,Measures.Measure}[(-0.188702cx, -0.153148cy), (-0.109963cx, -0.214794cy), (-0.130655cx, -0.116958cy)]), LinePrimitive{Tuple{Measure,Measure}}(Tuple{Measures.Measure,Measures.Measure}[(-0.817652cx, 0.549654cy), (-0.917627cx, 0.551854cy), (-0.842456cx, 0.485906cy)])], Symbol(\"\"))]), List([Compose.Property{Compose.LineWidthPrimitive}(Compose.LineWidthPrimitive[LineWidthPrimitive(1.06066mm)]), Compose.Property{Compose.StrokePrimitive}(Compose.StrokePrimitive[StrokePrimitive(RGBA{Float64}(0.827451,0.827451,0.827451,1.0))])]), 0, false, false, false, false, nothing, nothing, 0.0, Symbol(\"\")), Compose.Context(Measures.BoundingBox{Tuple{Measures.Length{:w,Float64},Measures.Length{:h,Float64}},Tuple{Measures.Length{:w,Float64},Measures.Length{:h,Float64}}}((0.0w, 0.0h), (1.0w, 1.0h)), nothing, nothing, nothing, nothing, List([]), List([]), List([Compose.Property{Compose.FontSizePrimitive}(Compose.FontSizePrimitive[FontSizePrimitive(4.0mm)]), Compose.Property{Compose.StrokePrimitive}(Compose.StrokePrimitive[StrokePrimitive(RGBA{Float64}(0.0,0.0,0.0,0.0))]), Compose.Property{Compose.FillPrimitive}(Compose.FillPrimitive[FillPrimitive(RGBA{Float64}(0.0,0.0,0.0,1.0))])]), 0, false, false, false, false, nothing, nothing, 0.0, Symbol(\"\")), Compose.Context(Measures.BoundingBox{Tuple{Measures.Length{:w,Float64},Measures.Length{:h,Float64}},Tuple{Measures.Length{:w,Float64},Measures.Length{:h,Float64}}}((0.0w, 0.0h), (1.0w, 1.0h)), nothing, nothing, nothing, nothing, List([]), List([Compose.Form{Compose.CirclePrimitive{Tuple{Measures.Measure,Measures.Measure},Measures.Measure}}(Compose.CirclePrimitive{Tuple{Measures.Measure,Measures.Measure},Measures.Measure}[CirclePrimitive{Tuple{Measure,Measure},Measure}((-0.0632003cx, -0.289799cy), 0.0353553w), CirclePrimitive{Tuple{Measure,Measure},Measure}((0.432225cx, -1.0cy), 0.0353553w), CirclePrimitive{Tuple{Measure,Measure},Measure}((0.925682cx, -0.743129cy), 0.0353553w), CirclePrimitive{Tuple{Measure,Measure},Measure}((1.0cx, 0.371946cy), 0.0353553w), CirclePrimitive{Tuple{Measure,Measure},Measure}((0.564723cx, 1.0cy), 0.0353553w), CirclePrimitive{Tuple{Measure,Measure},Measure}((0.00533496cx, 0.705527cy), 0.0353553w), CirclePrimitive{Tuple{Measure,Measure},Measure}((-0.482348cx, 0.382491cy), 0.0353553w), CirclePrimitive{Tuple{Measure,Measure},Measure}((-1.0cx, 0.583905cy), 0.0353553w)], Symbol(\"\"))]), List([Compose.Property{Compose.LineWidthPrimitive}(Compose.LineWidthPrimitive[LineWidthPrimitive(0.0mm)]), Compose.Property{Compose.StrokePrimitive}(Compose.StrokePrimitive[StrokePrimitive(RGBA{Float64}(0.0,0.0,0.0,0.0))]), Compose.Property{Compose.FillPrimitive}(Compose.FillPrimitive[FillPrimitive(RGBA{Float64}(0.25098,0.878431,0.815686,1.0))])]), 0, false, false, false, false, nothing, nothing, 0.0, Symbol(\"\")), Compose.Context(Measures.BoundingBox{Tuple{Measures.Length{:w,Float64},Measures.Length{:h,Float64}},Tuple{Measures.Length{:w,Float64},Measures.Length{:h,Float64}}}((0.0w, 0.0h), (1.0w, 1.0h)), nothing, nothing, nothing, nothing, List([]), List([Compose.Form{Compose.TextPrimitive{Tuple{Measures.Length{:cx,Float64},Measures.Length{:cy,Float64}},Compose.Rotation{Tuple{Measures.Length{:w,Float64},Measures.Length{:h,Float64}}},Tuple{Measures.Length{:mm,Float64},Measures.Length{:mm,Float64}}}}(Compose.TextPrimitive{Tuple{Measures.Length{:cx,Float64},Measures.Length{:cy,Float64}},Compose.Rotation{Tuple{Measures.Length{:w,Float64},Measures.Length{:h,Float64}}},Tuple{Measures.Length{:mm,Float64},Measures.Length{:mm,Float64}}}[TextPrimitive{Tuple{Length{:cx,Float64},Length{:cy,Float64}},Rotation{Tuple{Length{:w,Float64},Length{:h,Float64}}},Tuple{Length{:mm,Float64},Length{:mm,Float64}}}((-0.0632003cx, -0.289799cy), \"grosseconomy\", HCenter(), VCenter(), Rotation{Tuple{Length{:w,Float64},Length{:h,Float64}}}(0.0, (0.5w, 0.5h)), (0.0mm, 0.0mm)), TextPrimitive{Tuple{Length{:cx,Float64},Length{:cy,Float64}},Rotation{Tuple{Length{:w,Float64},Length{:h,Float64}}},Tuple{Length{:mm,Float64},Length{:mm,Float64}}}((0.432225cx, -1.0cy), \"emissions\", HCenter(), VCenter(), Rotation{Tuple{Length{:w,Float64},Length{:h,Float64}}}(0.0, (0.5w, 0.5h)), (0.0mm, 0.0mm)), TextPrimitive{Tuple{Length{:cx,Float64},Length{:cy,Float64}},Rotation{Tuple{Length{:w,Float64},Length{:h,Float64}}},Tuple{Length{:mm,Float64},Length{:mm,Float64}}}((0.925682cx, -0.743129cy), \"co2cycle\", HCenter(), VCenter(), Rotation{Tuple{Length{:w,Float64},Length{:h,Float64}}}(0.0, (0.5w, 0.5h)), (0.0mm, 0.0mm)), TextPrimitive{Tuple{Length{:cx,Float64},Length{:cy,Float64}},Rotation{Tuple{Length{:w,Float64},Length{:h,Float64}}},Tuple{Length{:mm,Float64},Length{:mm,Float64}}}((1.0cx, 0.371946cy), \"radiativeforcing\", HCenter(), VCenter(), Rotation{Tuple{Length{:w,Float64},Length{:h,Float64}}}(0.0, (0.5w, 0.5h)), (0.0mm, 0.0mm)), TextPrimitive{Tuple{Length{:cx,Float64},Length{:cy,Float64}},Rotation{Tuple{Length{:w,Float64},Length{:h,Float64}}},Tuple{Length{:mm,Float64},Length{:mm,Float64}}}((0.564723cx, 1.0cy), \"climatedynamics\", HCenter(), VCenter(), Rotation{Tuple{Length{:w,Float64},Length{:h,Float64}}}(0.0, (0.5w, 0.5h)), (0.0mm, 0.0mm)), TextPrimitive{Tuple{Length{:cx,Float64},Length{:cy,Float64}},Rotation{Tuple{Length{:w,Float64},Length{:h,Float64}}},Tuple{Length{:mm,Float64},Length{:mm,Float64}}}((0.00533496cx, 0.705527cy), \"damages\", HCenter(), VCenter(), Rotation{Tuple{Length{:w,Float64},Length{:h,Float64}}}(0.0, (0.5w, 0.5h)), (0.0mm, 0.0mm)), TextPrimitive{Tuple{Length{:cx,Float64},Length{:cy,Float64}},Rotation{Tuple{Length{:w,Float64},Length{:h,Float64}}},Tuple{Length{:mm,Float64},Length{:mm,Float64}}}((-0.482348cx, 0.382491cy), \"neteconomy\", HCenter(), VCenter(), Rotation{Tuple{Length{:w,Float64},Length{:h,Float64}}}(0.0, (0.5w, 0.5h)), (0.0mm, 0.0mm)), TextPrimitive{Tuple{Length{:cx,Float64},Length{:cy,Float64}},Rotation{Tuple{Length{:w,Float64},Length{:h,Float64}}},Tuple{Length{:mm,Float64},Length{:mm,Float64}}}((-1.0cx, 0.583905cy), \"welfare\", HCenter(), VCenter(), Rotation{Tuple{Length{:w,Float64},Length{:h,Float64}}}(0.0, (0.5w, 0.5h)), (0.0mm, 0.0mm))], Symbol(\"\"))]), List([Compose.Property{Compose.FontSizePrimitive}(Compose.FontSizePrimitive[FontSizePrimitive(4.0mm)]), Compose.Property{Compose.StrokePrimitive}(Compose.StrokePrimitive[StrokePrimitive(RGBA{Float64}(0.0,0.0,0.0,0.0))]), Compose.Property{Compose.FillPrimitive}(Compose.FillPrimitive[FillPrimitive(RGBA{Float64}(0.0,0.0,0.0,1.0))])]), 0, false, false, false, false, nothing, nothing, 0.0, Symbol(\"\"))]), List([]), List([]), 0, false, false, false, false, nothing, nothing, 0.0, Symbol(\"\"))"
      ]
     },
     "execution_count": 27,
     "metadata": {},
     "output_type": "execute_result"
    }
   ],
   "source": [
    "plot_comp_graph(m_dice2013)"
   ]
  },
  {
   "cell_type": "code",
   "execution_count": 28,
   "metadata": {},
   "outputs": [],
   "source": [
    "run(m_dice2013)"
   ]
  },
  {
   "cell_type": "markdown",
   "metadata": {},
   "source": [
    "If you are running this notebook on your local computer, you can explore the results of your model interactively:"
   ]
  },
  {
   "cell_type": "code",
   "execution_count": 29,
   "metadata": {},
   "outputs": [],
   "source": [
    "if use_explore\n",
    "    explore(m_dice2013)\n",
    "end"
   ]
  },
  {
   "cell_type": "markdown",
   "metadata": {},
   "source": [
    "### MimiPAGE2009"
   ]
  },
  {
   "cell_type": "markdown",
   "metadata": {},
   "source": [
    "This section shows how you can run [MimiPAGE2009.jl](https://github.com/anthofflab/MimiPAGE2009.jl). All the function calls and patterns are identical to the previous section, so they are not documented again."
   ]
  },
  {
   "cell_type": "code",
   "execution_count": 30,
   "metadata": {},
   "outputs": [],
   "source": [
    "using MimiPAGE2009"
   ]
  },
  {
   "cell_type": "code",
   "execution_count": 31,
   "metadata": {},
   "outputs": [
    {
     "data": {
      "text/plain": [
       "36-component Mimi.Model:\n",
       "  co2emissions::MimiPAGE2009.co2emissions\n",
       "  co2cycle::MimiPAGE2009.co2cycle\n",
       "  co2forcing::MimiPAGE2009.co2forcing\n",
       "  ch4emissions::MimiPAGE2009.ch4emissions\n",
       "  ch4cycle::MimiPAGE2009.ch4cycle\n",
       "  ch4forcing::MimiPAGE2009.ch4forcing\n",
       "  n2oemissions::MimiPAGE2009.n2oemissions\n",
       "  n2ocycle::MimiPAGE2009.n2ocycle\n",
       "  n2oforcing::MimiPAGE2009.n2oforcing\n",
       "  LGemissions::MimiPAGE2009.LGemissions\n",
       "  LGcycle::MimiPAGE2009.LGcycle\n",
       "  LGforcing::MimiPAGE2009.LGforcing\n",
       "  SulphateForcing::MimiPAGE2009.SulphateForcing\n",
       "  TotalForcing::MimiPAGE2009.TotalForcing\n",
       "  ClimateTemperature::MimiPAGE2009.ClimateTemperature\n",
       "  SeaLevelRise::MimiPAGE2009.SeaLevelRise\n",
       "  Population::MimiPAGE2009.Population\n",
       "  GDP::MimiPAGE2009.GDP\n",
       "  AbatementCostParametersCO2::MimiPAGE2009.AbatementCostParameters\n",
       "  AbatementCostParametersCH4::MimiPAGE2009.AbatementCostParameters\n",
       "  AbatementCostParametersN2O::MimiPAGE2009.AbatementCostParameters\n",
       "  AbatementCostParametersLin::MimiPAGE2009.AbatementCostParameters\n",
       "  AbatementCostsCO2::MimiPAGE2009.AbatementCosts\n",
       "  AbatementCostsCH4::MimiPAGE2009.AbatementCosts\n",
       "  AbatementCostsN2O::MimiPAGE2009.AbatementCosts\n",
       "  AbatementCostsLin::MimiPAGE2009.AbatementCosts\n",
       "  TotalAbatementCosts::MimiPAGE2009.TotalAbatementCosts\n",
       "  AdaptiveCostsSeaLevel::MimiPAGE2009.AdaptationCosts\n",
       "  AdaptiveCostsEconomic::MimiPAGE2009.AdaptationCosts\n",
       "  AdaptiveCostsNonEconomic::MimiPAGE2009.AdaptationCosts\n",
       "  TotalAdaptationCosts::MimiPAGE2009.TotalAdaptationCosts\n",
       "  SLRDamages::MimiPAGE2009.SLRDamages\n",
       "  MarketDamages::MimiPAGE2009.MarketDamages\n",
       "  NonMarketDamages::MimiPAGE2009.NonMarketDamages\n",
       "  Discontinuity::MimiPAGE2009.Discontinuity\n",
       "  EquityWeighting::MimiPAGE2009.EquityWeighting\n"
      ]
     },
     "execution_count": 31,
     "metadata": {},
     "output_type": "execute_result"
    }
   ],
   "source": [
    "m_page = MimiPAGE2009.get_model()"
   ]
  },
  {
   "cell_type": "code",
   "execution_count": 32,
   "metadata": {},
   "outputs": [
    {
     "data": {
      "image/svg+xml": [
       "<?xml version=\"1.0\" encoding=\"UTF-8\"?>\n",
       "<svg xmlns=\"http://www.w3.org/2000/svg\"\n",
       "     xmlns:xlink=\"http://www.w3.org/1999/xlink\"\n",
       "     version=\"1.2\"\n",
       "     width=\"141.42mm\" height=\"100mm\" viewBox=\"0 0 141.42 100\"\n",
       "     stroke=\"none\"\n",
       "     fill=\"#000000\"\n",
       "     stroke-width=\"0.3\"\n",
       "     font-size=\"3.88\"\n",
       ">\n",
       "<defs>\n",
       "  <marker id=\"arrow\" markerWidth=\"15\" markerHeight=\"7\" refX=\"5\" refY=\"3.5\" orient=\"auto\" markerUnits=\"strokeWidth\">\n",
       "    <path d=\"M0,0 L15,3.5 L0,7 z\" stroke=\"context-stroke\" fill=\"context-stroke\"/>\n",
       "  </marker>\n",
       "</defs>\n",
       "<g stroke-width=\"0.5\" fill=\"#000000\" fill-opacity=\"0.000\" stroke=\"#D3D3D3\" id=\"img-c8752263-1\">\n",
       "  <g transform=\"translate(68.74,84.68)\">\n",
       "    <path fill=\"none\" d=\"M3.07,4.96 L -3.07 -4.96\" class=\"primitive\"/>\n",
       "  </g>\n",
       "  <g transform=\"translate(58.61,80.33)\">\n",
       "    <path fill=\"none\" d=\"M3.9,-1.41 L -3.9 1.41\" class=\"primitive\"/>\n",
       "  </g>\n",
       "  <g transform=\"translate(47.17,77.04)\">\n",
       "    <path fill=\"none\" d=\"M3.96,4.05 L -3.96 -4.05\" class=\"primitive\"/>\n",
       "  </g>\n",
       "  <g transform=\"translate(22.13,72.34)\">\n",
       "    <path fill=\"none\" d=\"M-8,1.76 L 8 -1.76\" class=\"primitive\"/>\n",
       "  </g>\n",
       "  <g transform=\"translate(30.48,73.45)\">\n",
       "    <path fill=\"none\" d=\"M1.06,-1.79 L -1.06 1.79\" class=\"primitive\"/>\n",
       "  </g>\n",
       "  <g transform=\"translate(32.65,75.07)\">\n",
       "    <path fill=\"none\" d=\"M-0.11,-3.27 L 0.11 3.27\" class=\"primitive\"/>\n",
       "  </g>\n",
       "  <g transform=\"translate(35.15,74.2)\">\n",
       "    <path fill=\"none\" d=\"M-4.53,1.79 L 4.53 -1.79\" class=\"primitive\"/>\n",
       "  </g>\n",
       "  <g transform=\"translate(38.81,84.59)\">\n",
       "    <path fill=\"none\" d=\"M-2.84,5.45 L 2.84 -5.45\" class=\"primitive\"/>\n",
       "  </g>\n",
       "  <g transform=\"translate(35.49,77.18)\">\n",
       "    <path fill=\"none\" d=\"M4.56,0.22 L -4.56 -0.22\" class=\"primitive\"/>\n",
       "  </g>\n",
       "  <g transform=\"translate(37.65,78.8)\">\n",
       "    <path fill=\"none\" d=\"M2.55,-0.67 L -2.55 0.67\" class=\"primitive\"/>\n",
       "  </g>\n",
       "  <g transform=\"translate(37.32,75.82)\">\n",
       "    <path fill=\"none\" d=\"M-3.04,2.87 L 3.04 -2.87\" class=\"primitive\"/>\n",
       "  </g>\n",
       "  <g transform=\"translate(22.98,52.89)\">\n",
       "    <path fill=\"none\" d=\"M-7.06,-1.84 L 7.06 1.84\" class=\"primitive\"/>\n",
       "  </g>\n",
       "  <g transform=\"translate(29.47,59.39)\">\n",
       "    <path fill=\"none\" d=\"M1.78,-2.5 L -1.78 2.5\" class=\"primitive\"/>\n",
       "  </g>\n",
       "  <g transform=\"translate(34.21,67.5)\">\n",
       "    <path fill=\"none\" d=\"M-5.66,-3.01 L 5.66 3.01\" class=\"primitive\"/>\n",
       "  </g>\n",
       "  <g transform=\"translate(63.3,63.82)\">\n",
       "    <path fill=\"none\" d=\"M3.44,2.81 L -3.44 -2.81\" class=\"primitive\"/>\n",
       "  </g>\n",
       "  <g transform=\"translate(50.03,65.63)\">\n",
       "    <path fill=\"none\" d=\"M-6.49,4.69 L 6.49 -4.69\" class=\"primitive\"/>\n",
       "  </g>\n",
       "  <g transform=\"translate(61.47,68.92)\">\n",
       "    <path fill=\"none\" d=\"M-2.63,-7.53 L 2.63 7.53\" class=\"primitive\"/>\n",
       "  </g>\n",
       "  <g transform=\"translate(45.36,64.89)\">\n",
       "    <path fill=\"none\" d=\"M10.75,-4.32 L -10.75 4.32\" class=\"primitive\"/>\n",
       "  </g>\n",
       "  <g transform=\"translate(50.37,68.61)\">\n",
       "    <path fill=\"none\" d=\"M6.57,-7.43 L -6.57 7.43\" class=\"primitive\"/>\n",
       "  </g>\n",
       "  <g transform=\"translate(45.3,57.52)\">\n",
       "    <path fill=\"none\" d=\"M10.56,1.78 L -10.56 -1.78\" class=\"primitive\"/>\n",
       "  </g>\n",
       "  <g transform=\"translate(66.53,54.84)\">\n",
       "    <path fill=\"none\" d=\"M-6.4,3.76 L 6.4 -3.76\" class=\"primitive\"/>\n",
       "  </g>\n",
       "  <g transform=\"translate(65.88,50.04)\">\n",
       "    <path fill=\"none\" d=\"M-6.44,8.15 L 6.44 -8.15\" class=\"primitive\"/>\n",
       "  </g>\n",
       "  <g transform=\"translate(66.3,51.9)\">\n",
       "    <path fill=\"none\" d=\"M-6.61,6.41 L 6.61 -6.41\" class=\"primitive\"/>\n",
       "  </g>\n",
       "  <g transform=\"translate(70.22,52.38)\">\n",
       "    <path fill=\"none\" d=\"M-10.12,6.19 L 10.12 -6.19\" class=\"primitive\"/>\n",
       "  </g>\n",
       "  <g transform=\"translate(81.89,42.36)\">\n",
       "    <path fill=\"none\" d=\"M-5.73,6.16 L 5.73 -6.16\" class=\"primitive\"/>\n",
       "  </g>\n",
       "  <g transform=\"translate(96.54,28.06)\">\n",
       "    <path fill=\"none\" d=\"M1.97,-1.28 L -1.97 1.28\" class=\"primitive\"/>\n",
       "  </g>\n",
       "  <g transform=\"translate(105.89,24.26)\">\n",
       "    <path fill=\"none\" d=\"M-3.25,0.79 L 3.25 -0.79\" class=\"primitive\"/>\n",
       "  </g>\n",
       "  <g transform=\"translate(93.65,26.54)\">\n",
       "    <path fill=\"none\" d=\"M4.25,-0.59 L -4.25 0.59\" class=\"primitive\"/>\n",
       "  </g>\n",
       "  <g transform=\"translate(99.31,29.52)\">\n",
       "    <path fill=\"none\" d=\"M0.57,-2.2 L -0.57 2.2\" class=\"primitive\"/>\n",
       "  </g>\n",
       "  <g transform=\"translate(94.38,22.15)\">\n",
       "    <path fill=\"none\" d=\"M-1.28,6.65 L 1.28 -6.65\" class=\"primitive\"/>\n",
       "  </g>\n",
       "  <g transform=\"translate(99.98,23.56)\">\n",
       "    <path fill=\"none\" d=\"M-5.76,5.56 L 5.76 -5.56\" class=\"primitive\"/>\n",
       "  </g>\n",
       "  <g transform=\"translate(104.92,28.41)\">\n",
       "    <path fill=\"none\" d=\"M-9.77,1.69 L 9.77 -1.69\" class=\"primitive\"/>\n",
       "  </g>\n",
       "  <g transform=\"translate(104.65,32.25)\">\n",
       "    <path fill=\"none\" d=\"M-9.48,-1.38 L 9.48 1.38\" class=\"primitive\"/>\n",
       "  </g>\n",
       "  <g transform=\"translate(88.46,26.65)\">\n",
       "    <path fill=\"none\" d=\"M2.78,2.5 L -2.78 -2.5\" class=\"primitive\"/>\n",
       "  </g>\n",
       "  <g transform=\"translate(83.9,29.58)\">\n",
       "    <path fill=\"none\" d=\"M6.44,0.68 L -6.44 -0.68\" class=\"primitive\"/>\n",
       "  </g>\n",
       "  <g transform=\"translate(85.56,32.19)\">\n",
       "    <path fill=\"none\" d=\"M4.88,-1.14 L -4.88 1.14\" class=\"primitive\"/>\n",
       "  </g>\n",
       "  <g transform=\"translate(90.87,32.63)\">\n",
       "    <path fill=\"none\" d=\"M0.58,-0.65 L -0.58 0.65\" class=\"primitive\"/>\n",
       "  </g>\n",
       "  <g transform=\"translate(83.14,35.45)\">\n",
       "    <path fill=\"none\" d=\"M7.63,-3.91 L -7.63 3.91\" class=\"primitive\"/>\n",
       "  </g>\n",
       "  <g transform=\"translate(83.56,37.3)\">\n",
       "    <path fill=\"none\" d=\"M7.5,-5.53 L -7.5 5.53\" class=\"primitive\"/>\n",
       "  </g>\n",
       "  <g transform=\"translate(87.48,37.79)\">\n",
       "    <path fill=\"none\" d=\"M4.16,-5.73 L -4.16 5.73\" class=\"primitive\"/>\n",
       "  </g>\n",
       "  <g transform=\"translate(95.54,31.98)\">\n",
       "    <path fill=\"none\" d=\"M-0.8,-0.42 L 0.8 0.42\" class=\"primitive\"/>\n",
       "  </g>\n",
       "  <g transform=\"translate(102.43,11.06)\">\n",
       "    <path fill=\"none\" d=\"M-4.33,1.83 L 4.33 -1.83\" class=\"primitive\"/>\n",
       "  </g>\n",
       "  <g transform=\"translate(113.95,14.06)\">\n",
       "    <path fill=\"none\" d=\"M-4.6,1.73 L 4.6 -1.73\" class=\"primitive\"/>\n",
       "  </g>\n",
       "  <g transform=\"translate(123.32,23.11)\">\n",
       "    <path fill=\"none\" d=\"M-4.26,2.18 L 4.26 -2.18\" class=\"primitive\"/>\n",
       "  </g>\n",
       "  <g transform=\"translate(123.09,31.38)\">\n",
       "    <path fill=\"none\" d=\"M-4.41,1.75 L 4.41 -1.75\" class=\"primitive\"/>\n",
       "  </g>\n",
       "  <g transform=\"translate(102.43,11.06)\">\n",
       "    <path fill=\"none\" d=\"M4.33,-1.83 L -4.33 1.83\" class=\"primitive\"/>\n",
       "  </g>\n",
       "  <g transform=\"translate(110.16,15.62)\">\n",
       "    <path fill=\"none\" d=\"M-0.99,-5.56 L 0.99 5.56\" class=\"primitive\"/>\n",
       "  </g>\n",
       "  <g transform=\"translate(113.95,14.06)\">\n",
       "    <path fill=\"none\" d=\"M4.6,-1.73 L -4.6 1.73\" class=\"primitive\"/>\n",
       "  </g>\n",
       "  <g transform=\"translate(116.08,17.2)\">\n",
       "    <path fill=\"none\" d=\"M3.41,-4.19 L -3.41 4.19\" class=\"primitive\"/>\n",
       "  </g>\n",
       "  <g transform=\"translate(123.32,23.11)\">\n",
       "    <path fill=\"none\" d=\"M4.26,-2.18 L -4.26 2.18\" class=\"primitive\"/>\n",
       "  </g>\n",
       "  <g transform=\"translate(120.51,21.41)\">\n",
       "    <path fill=\"none\" d=\"M6.66,-1.1 L -6.66 1.1\" class=\"primitive\"/>\n",
       "  </g>\n",
       "  <g transform=\"translate(123.09,31.38)\">\n",
       "    <path fill=\"none\" d=\"M4.41,-1.75 L -4.41 1.75\" class=\"primitive\"/>\n",
       "  </g>\n",
       "  <g transform=\"translate(120.55,25.84)\">\n",
       "    <path fill=\"none\" d=\"M6.86,2.22 L -6.86 -2.22\" class=\"primitive\"/>\n",
       "  </g>\n",
       "  <g transform=\"translate(100.21,28.82)\">\n",
       "    <path fill=\"none\" d=\"M9.28,-4.89 L -9.28 4.89\" class=\"primitive\"/>\n",
       "  </g>\n",
       "  <g transform=\"translate(104.88,28.17)\">\n",
       "    <path fill=\"none\" d=\"M4.95,-3.97 L -4.95 3.97\" class=\"primitive\"/>\n",
       "  </g>\n",
       "  <g transform=\"translate(85.58,25.13)\">\n",
       "    <path fill=\"none\" d=\"M-0.45,-0.74 L 0.45 0.74\" class=\"primitive\"/>\n",
       "  </g>\n",
       "  <g transform=\"translate(86.56,28.77)\">\n",
       "    <path fill=\"none\" d=\"M-1.73,-4.31 L 1.73 4.31\" class=\"primitive\"/>\n",
       "  </g>\n",
       "  <g transform=\"translate(81.01,28.05)\">\n",
       "    <path fill=\"none\" d=\"M-3.55,0.35 L 3.55 -0.35\" class=\"primitive\"/>\n",
       "  </g>\n",
       "  <g transform=\"translate(74.28,34.51)\">\n",
       "    <path fill=\"none\" d=\"M0.53,-4.14 L -0.53 4.14\" class=\"primitive\"/>\n",
       "  </g>\n",
       "  <g transform=\"translate(82.67,30.67)\">\n",
       "    <path fill=\"none\" d=\"M-2.63,1.95 L 2.63 -1.95\" class=\"primitive\"/>\n",
       "  </g>\n",
       "  <g transform=\"translate(76.35,38.98)\">\n",
       "    <path fill=\"none\" d=\"M1.34,-3.43 L -1.34 3.43\" class=\"primitive\"/>\n",
       "  </g>\n",
       "  <g transform=\"translate(87.98,31.1)\">\n",
       "    <path fill=\"none\" d=\"M-0.53,-1.94 L 0.53 1.94\" class=\"primitive\"/>\n",
       "  </g>\n",
       "  <g transform=\"translate(92.65,30.45)\">\n",
       "    <path fill=\"none\" d=\"M-3.69,-1.95 L 3.69 1.95\" class=\"primitive\"/>\n",
       "  </g>\n",
       "  <g transform=\"translate(81.25,37.56)\">\n",
       "    <path fill=\"none\" d=\"M5.54,-2.02 L -5.54 2.02\" class=\"primitive\"/>\n",
       "  </g>\n",
       "  <g transform=\"translate(93.64,34.09)\">\n",
       "    <path fill=\"none\" d=\"M-2.26,0.32 L 2.26 -0.32\" class=\"primitive\"/>\n",
       "  </g>\n",
       "  <g transform=\"translate(73.94,42.23)\">\n",
       "    <path fill=\"none\" d=\"M-0.03,-0.14 L 0.03 0.14\" class=\"primitive\"/>\n",
       "  </g>\n",
       "  <g transform=\"translate(78.28,44.57)\">\n",
       "    <path fill=\"none\" d=\"M-1.5,-0.19 L 1.5 0.19\" class=\"primitive\"/>\n",
       "  </g>\n",
       "  <g transform=\"translate(90.25,39.25)\">\n",
       "    <path fill=\"none\" d=\"M-6.34,4.57 L 6.34 -4.57\" class=\"primitive\"/>\n",
       "  </g>\n",
       "</g>\n",
       "<g stroke-width=\"0.5\" stroke=\"#D3D3D3\" id=\"img-c8752263-2\">\n",
       "  <g transform=\"translate(67.16,82.11)\">\n",
       "    <path fill=\"none\" d=\"M-1.11,1.77 L -1.48 -2.39 2.59 0.62\" class=\"primitive\"/>\n",
       "  </g>\n",
       "  <g transform=\"translate(58,80.55)\">\n",
       "    <path fill=\"none\" d=\"M2.56,0.68 L -3.29 1.19 0.73 -1.86\" class=\"primitive\"/>\n",
       "  </g>\n",
       "  <g transform=\"translate(45.31,75.14)\">\n",
       "    <path fill=\"none\" d=\"M-0.61,1.88 L -2.1 -2.15 2.71 0.26\" class=\"primitive\"/>\n",
       "  </g>\n",
       "  <g transform=\"translate(26.61,71.35)\">\n",
       "    <path fill=\"none\" d=\"M-2.36,-0.97 L 3.53 -0.77 -1.17 1.75\" class=\"primitive\"/>\n",
       "  </g>\n",
       "  <g transform=\"translate(30.85,72.83)\">\n",
       "    <path fill=\"none\" d=\"M2.57,-0.65 L -1.42 2.41 -1.15 -1.75\" class=\"primitive\"/>\n",
       "  </g>\n",
       "  <g transform=\"translate(32.67,75.73)\">\n",
       "    <path fill=\"none\" d=\"M1.97,-1.34 L 0.08 2.61 -2.06 -1.27\" class=\"primitive\"/>\n",
       "  </g>\n",
       "  <g transform=\"translate(36.46,73.68)\">\n",
       "    <path fill=\"none\" d=\"M-2.6,-0.61 L 3.22 -1.28 -0.63 1.88\" class=\"primitive\"/>\n",
       "  </g>\n",
       "  <g transform=\"translate(40.37,81.59)\">\n",
       "    <path fill=\"none\" d=\"M-2.53,0.73 L 1.28 -2.45 1.25 1.72\" class=\"primitive\"/>\n",
       "  </g>\n",
       "  <g transform=\"translate(34.61,77.14)\">\n",
       "    <path fill=\"none\" d=\"M1.71,1.51 L -3.68 -0.18 1.98 -1.33\" class=\"primitive\"/>\n",
       "  </g>\n",
       "  <g transform=\"translate(38.56,78.56)\">\n",
       "    <path fill=\"none\" d=\"M2.44,0.88 L -3.46 0.91 1.02 -1.79\" class=\"primitive\"/>\n",
       "  </g>\n",
       "  <g transform=\"translate(38.14,75.04)\">\n",
       "    <path fill=\"none\" d=\"M-2.72,0.19 L 2.21 -2.09 0.51 1.9\" class=\"primitive\"/>\n",
       "  </g>\n",
       "  <g transform=\"translate(26.58,53.83)\">\n",
       "    <path fill=\"none\" d=\"M-1.04,-1.79 L 3.46 0.9 -2.43 0.89\" class=\"primitive\"/>\n",
       "  </g>\n",
       "  <g transform=\"translate(29.35,59.56)\">\n",
       "    <path fill=\"none\" d=\"M2.63,-0.53 L -1.66 2.33 -0.97 -1.81\" class=\"primitive\"/>\n",
       "  </g>\n",
       "  <g transform=\"translate(36.91,68.94)\">\n",
       "    <path fill=\"none\" d=\"M-0.26,-1.92 L 2.95 1.57 -2.69 0.35\" class=\"primitive\"/>\n",
       "  </g>\n",
       "  <g transform=\"translate(62.27,62.99)\">\n",
       "    <path fill=\"none\" d=\"M-0.31,1.92 L -2.42 -1.97 2.73 0.05\" class=\"primitive\"/>\n",
       "  </g>\n",
       "  <g transform=\"translate(53.94,62.81)\">\n",
       "    <path fill=\"none\" d=\"M-2.73,-0.06 L 2.58 -1.86 0.15 1.93\" class=\"primitive\"/>\n",
       "  </g>\n",
       "  <g transform=\"translate(63.22,73.91)\">\n",
       "    <path fill=\"none\" d=\"M1.51,-1.61 L 0.89 2.53 -2.4 -0.92\" class=\"primitive\"/>\n",
       "  </g>\n",
       "  <g transform=\"translate(37.83,67.92)\">\n",
       "    <path fill=\"none\" d=\"M2.6,0.59 L -3.21 1.29 0.61 -1.88\" class=\"primitive\"/>\n",
       "  </g>\n",
       "  <g transform=\"translate(45.76,73.83)\">\n",
       "    <path fill=\"none\" d=\"M2.69,-0.35 L -1.96 2.21 -0.73 -1.86\" class=\"primitive\"/>\n",
       "  </g>\n",
       "  <g transform=\"translate(38.33,56.34)\">\n",
       "    <path fill=\"none\" d=\"M1.33,1.69 L -3.59 -0.61 2.26 -1.08\" class=\"primitive\"/>\n",
       "  </g>\n",
       "  <g transform=\"translate(70.09,52.75)\">\n",
       "    <path fill=\"none\" d=\"M-2.71,-0.26 L 2.84 -1.67 -0.13 1.93\" class=\"primitive\"/>\n",
       "  </g>\n",
       "  <g transform=\"translate(70.52,44.18)\">\n",
       "    <path fill=\"none\" d=\"M-2.66,0.44 L 1.8 -2.28 0.86 1.83\" class=\"primitive\"/>\n",
       "  </g>\n",
       "  <g transform=\"translate(70.73,47.6)\">\n",
       "    <path fill=\"none\" d=\"M-2.72,0.21 L 2.18 -2.11 0.54 1.89\" class=\"primitive\"/>\n",
       "  </g>\n",
       "  <g transform=\"translate(77.55,47.9)\">\n",
       "    <path fill=\"none\" d=\"M-2.71,-0.22 L 2.79 -1.71 -0.08 1.93\" class=\"primitive\"/>\n",
       "  </g>\n",
       "  <g transform=\"translate(85.59,38.38)\">\n",
       "    <path fill=\"none\" d=\"M-2.7,0.31 L 2.03 -2.18 0.67 1.87\" class=\"primitive\"/>\n",
       "  </g>\n",
       "  <g transform=\"translate(97.29,27.58)\">\n",
       "    <path fill=\"none\" d=\"M2.72,0.17 L -2.72 1.77 -0 -1.93\" class=\"primitive\"/>\n",
       "  </g>\n",
       "  <g transform=\"translate(105.64,24.31)\">\n",
       "    <path fill=\"none\" d=\"M-2.4,-0.92 L 3.49 -0.85 -1.09 1.77\" class=\"primitive\"/>\n",
       "  </g>\n",
       "  <g transform=\"translate(93.02,26.62)\">\n",
       "    <path fill=\"none\" d=\"M2.2,1.15 L -3.62 0.5 1.42 -1.65\" class=\"primitive\"/>\n",
       "  </g>\n",
       "  <g transform=\"translate(99.41,29.16)\">\n",
       "    <path fill=\"none\" d=\"M2.31,-1.03 L -0.66 2.57 -1.65 -1.54\" class=\"primitive\"/>\n",
       "  </g>\n",
       "  <g transform=\"translate(95.17,18.09)\">\n",
       "    <path fill=\"none\" d=\"M-2.25,1.1 L 0.5 -2.59 1.75 1.49\" class=\"primitive\"/>\n",
       "  </g>\n",
       "  <g transform=\"translate(103.55,20.11)\">\n",
       "    <path fill=\"none\" d=\"M-2.72,0.21 L 2.18 -2.11 0.53 1.9\" class=\"primitive\"/>\n",
       "  </g>\n",
       "  <g transform=\"translate(111.1,27.34)\">\n",
       "    <path fill=\"none\" d=\"M-2.27,-1.07 L 3.59 -0.62 -1.31 1.69\" class=\"primitive\"/>\n",
       "  </g>\n",
       "  <g transform=\"translate(110.52,33.1)\">\n",
       "    <path fill=\"none\" d=\"M-1.4,-1.66 L 3.62 0.53 -2.21 1.13\" class=\"primitive\"/>\n",
       "  </g>\n",
       "  <g transform=\"translate(87.96,26.21)\">\n",
       "    <path fill=\"none\" d=\"M-0.44,1.91 L -2.28 -2.05 2.73 0.14\" class=\"primitive\"/>\n",
       "  </g>\n",
       "  <g transform=\"translate(81.11,29.29)\">\n",
       "    <path fill=\"none\" d=\"M1.53,1.6 L -3.65 -0.38 2.12 -1.22\" class=\"primitive\"/>\n",
       "  </g>\n",
       "  <g transform=\"translate(84.19,32.51)\">\n",
       "    <path fill=\"none\" d=\"M2.38,0.95 L -3.51 0.82 1.12 -1.76\" class=\"primitive\"/>\n",
       "  </g>\n",
       "  <g transform=\"translate(92.26,31.08)\">\n",
       "    <path fill=\"none\" d=\"M2.69,-0.34 L -1.98 2.2 -0.71 -1.87\" class=\"primitive\"/>\n",
       "  </g>\n",
       "  <g transform=\"translate(78.5,37.83)\">\n",
       "    <path fill=\"none\" d=\"M2.68,0.39 L -2.99 1.53 0.31 -1.92\" class=\"primitive\"/>\n",
       "  </g>\n",
       "  <g transform=\"translate(78.61,40.95)\">\n",
       "    <path fill=\"none\" d=\"M2.73,0.04 L -2.56 1.88 -0.18 -1.93\" class=\"primitive\"/>\n",
       "  </g>\n",
       "  <g transform=\"translate(85.01,41.19)\">\n",
       "    <path fill=\"none\" d=\"M2.64,-0.51 L -1.69 2.32 -0.95 -1.81\" class=\"primitive\"/>\n",
       "  </g>\n",
       "  <g transform=\"translate(93.38,30.84)\">\n",
       "    <path fill=\"none\" d=\"M-0.28,-1.92 L 2.96 1.56 -2.68 0.36\" class=\"primitive\"/>\n",
       "  </g>\n",
       "  <g transform=\"translate(103.6,10.57)\">\n",
       "    <path fill=\"none\" d=\"M-2.62,-0.55 L 3.17 -1.34 -0.55 1.89\" class=\"primitive\"/>\n",
       "  </g>\n",
       "  <g transform=\"translate(115.29,13.55)\">\n",
       "    <path fill=\"none\" d=\"M-2.58,-0.64 L 3.26 -1.23 -0.68 1.87\" class=\"primitive\"/>\n",
       "  </g>\n",
       "  <g transform=\"translate(124.58,22.46)\">\n",
       "    <path fill=\"none\" d=\"M-2.68,-0.39 L 2.99 -1.53 -0.31 1.92\" class=\"primitive\"/>\n",
       "  </g>\n",
       "  <g transform=\"translate(124.28,30.91)\">\n",
       "    <path fill=\"none\" d=\"M-2.6,-0.6 L 3.22 -1.28 -0.62 1.88\" class=\"primitive\"/>\n",
       "  </g>\n",
       "  <g transform=\"translate(101.27,11.55)\">\n",
       "    <path fill=\"none\" d=\"M2.62,0.55 L -3.17 1.34 0.55 -1.89\" class=\"primitive\"/>\n",
       "  </g>\n",
       "  <g transform=\"translate(110.69,18.59)\">\n",
       "    <path fill=\"none\" d=\"M1.77,-1.47 L 0.46 2.59 -2.23 -1.12\" class=\"primitive\"/>\n",
       "  </g>\n",
       "  <g transform=\"translate(112.61,14.56)\">\n",
       "    <path fill=\"none\" d=\"M2.58,0.64 L -3.26 1.23 0.68 -1.87\" class=\"primitive\"/>\n",
       "  </g>\n",
       "  <g transform=\"translate(114.52,19.13)\">\n",
       "    <path fill=\"none\" d=\"M2.67,-0.42 L -1.84 2.26 -0.83 -1.84\" class=\"primitive\"/>\n",
       "  </g>\n",
       "  <g transform=\"translate(122.05,23.76)\">\n",
       "    <path fill=\"none\" d=\"M2.68,0.39 L -2.99 1.53 0.31 -1.92\" class=\"primitive\"/>\n",
       "  </g>\n",
       "  <g transform=\"translate(117.44,21.91)\">\n",
       "    <path fill=\"none\" d=\"M2.25,1.09 L -3.6 0.59 1.34 -1.68\" class=\"primitive\"/>\n",
       "  </g>\n",
       "  <g transform=\"translate(121.9,31.85)\">\n",
       "    <path fill=\"none\" d=\"M2.6,0.6 L -3.22 1.28 0.62 -1.88\" class=\"primitive\"/>\n",
       "  </g>\n",
       "  <g transform=\"translate(117.04,24.71)\">\n",
       "    <path fill=\"none\" d=\"M0.84,1.84 L -3.36 -1.09 2.52 -0.75\" class=\"primitive\"/>\n",
       "  </g>\n",
       "  <g transform=\"translate(93.89,32.15)\">\n",
       "    <path fill=\"none\" d=\"M2.68,0.36 L -2.96 1.56 0.28 -1.92\" class=\"primitive\"/>\n",
       "  </g>\n",
       "  <g transform=\"translate(102.38,30.18)\">\n",
       "    <path fill=\"none\" d=\"M2.73,-0.04 L -2.44 1.96 -0.29 -1.92\" class=\"primitive\"/>\n",
       "  </g>\n",
       "  <g transform=\"translate(84.57,23.47)\">\n",
       "    <path fill=\"none\" d=\"M1.13,-1.76 L 1.45 2.4 -2.58 -0.64\" class=\"primitive\"/>\n",
       "  </g>\n",
       "  <g transform=\"translate(87.28,30.56)\">\n",
       "    <path fill=\"none\" d=\"M1.43,-1.65 L 1.01 2.51 -2.44 -0.87\" class=\"primitive\"/>\n",
       "  </g>\n",
       "  <g transform=\"translate(80.9,28.06)\">\n",
       "    <path fill=\"none\" d=\"M-2.11,-1.23 L 3.66 -0.36 -1.55 1.59\" class=\"primitive\"/>\n",
       "  </g>\n",
       "  <g transform=\"translate(74.08,36.05)\">\n",
       "    <path fill=\"none\" d=\"M2.17,-1.17 L -0.33 2.6 -1.84 -1.43\" class=\"primitive\"/>\n",
       "  </g>\n",
       "  <g transform=\"translate(82.75,30.61)\">\n",
       "    <path fill=\"none\" d=\"M-2.73,-0.04 L 2.55 -1.89 0.19 1.93\" class=\"primitive\"/>\n",
       "  </g>\n",
       "  <g transform=\"translate(75.99,39.9)\">\n",
       "    <path fill=\"none\" d=\"M2.43,-0.88 L -0.98 2.52 -1.45 -1.64\" class=\"primitive\"/>\n",
       "  </g>\n",
       "  <g transform=\"translate(87.81,30.48)\">\n",
       "    <path fill=\"none\" d=\"M1.63,-1.55 L 0.69 2.56 -2.33 -1.01\" class=\"primitive\"/>\n",
       "  </g>\n",
       "  <g transform=\"translate(93.38,30.84)\">\n",
       "    <path fill=\"none\" d=\"M-0.27,-1.92 L 2.96 1.56 -2.68 0.36\" class=\"primitive\"/>\n",
       "  </g>\n",
       "  <g transform=\"translate(78.99,38.39)\">\n",
       "    <path fill=\"none\" d=\"M2.56,0.67 L -3.28 1.2 0.72 -1.87\" class=\"primitive\"/>\n",
       "  </g>\n",
       "  <g transform=\"translate(92.28,34.28)\">\n",
       "    <path fill=\"none\" d=\"M-2.2,-1.14 L 3.62 -0.51 -1.42 1.65\" class=\"primitive\"/>\n",
       "  </g>\n",
       "  <g transform=\"translate(73.39,39.79)\">\n",
       "    <path fill=\"none\" d=\"M1.7,-1.51 L 0.58 2.58 -2.28 -1.07\" class=\"primitive\"/>\n",
       "  </g>\n",
       "  <g transform=\"translate(76.14,44.31)\">\n",
       "    <path fill=\"none\" d=\"M-1.47,-1.63 L 3.64 0.45 -2.17 1.18\" class=\"primitive\"/>\n",
       "  </g>\n",
       "  <g transform=\"translate(94.01,36.54)\">\n",
       "    <path fill=\"none\" d=\"M-2.73,-0.07 L 2.58 -1.86 0.15 1.93\" class=\"primitive\"/>\n",
       "  </g>\n",
       "</g>\n",
       "<g font-size=\"4\" stroke=\"#000000\" stroke-opacity=\"0.000\" fill=\"#000000\" id=\"img-c8752263-3\">\n",
       "</g>\n",
       "<g stroke-width=\"0\" stroke=\"#000000\" stroke-opacity=\"0.000\" fill=\"#40E0D0\" id=\"img-c8752263-4\">\n",
       "  <g transform=\"translate(72.79,91.22)\">\n",
       "    <circle cx=\"0\" cy=\"0\" r=\"2.36\" class=\"primitive\"/>\n",
       "  </g>\n",
       "  <g transform=\"translate(64.69,78.13)\">\n",
       "    <circle cx=\"0\" cy=\"0\" r=\"2.36\" class=\"primitive\"/>\n",
       "  </g>\n",
       "  <g transform=\"translate(52.53,82.52)\">\n",
       "    <circle cx=\"0\" cy=\"0\" r=\"2.36\" class=\"primitive\"/>\n",
       "  </g>\n",
       "  <g transform=\"translate(11.79,74.61)\">\n",
       "    <circle cx=\"0\" cy=\"0\" r=\"2.36\" class=\"primitive\"/>\n",
       "  </g>\n",
       "  <g transform=\"translate(32.48,70.07)\">\n",
       "    <circle cx=\"0\" cy=\"0\" r=\"2.36\" class=\"primitive\"/>\n",
       "  </g>\n",
       "  <g transform=\"translate(28.48,76.84)\">\n",
       "    <circle cx=\"0\" cy=\"0\" r=\"2.36\" class=\"primitive\"/>\n",
       "  </g>\n",
       "  <g transform=\"translate(35.13,91.67)\">\n",
       "    <circle cx=\"0\" cy=\"0\" r=\"2.36\" class=\"primitive\"/>\n",
       "  </g>\n",
       "  <g transform=\"translate(42.5,77.51)\">\n",
       "    <circle cx=\"0\" cy=\"0\" r=\"2.36\" class=\"primitive\"/>\n",
       "  </g>\n",
       "  <g transform=\"translate(32.81,80.08)\">\n",
       "    <circle cx=\"0\" cy=\"0\" r=\"2.36\" class=\"primitive\"/>\n",
       "  </g>\n",
       "  <g transform=\"translate(13.62,50.45)\">\n",
       "    <circle cx=\"0\" cy=\"0\" r=\"2.36\" class=\"primitive\"/>\n",
       "  </g>\n",
       "  <g transform=\"translate(32.35,55.33)\">\n",
       "    <circle cx=\"0\" cy=\"0\" r=\"2.36\" class=\"primitive\"/>\n",
       "  </g>\n",
       "  <g transform=\"translate(26.59,63.44)\">\n",
       "    <circle cx=\"0\" cy=\"0\" r=\"2.36\" class=\"primitive\"/>\n",
       "  </g>\n",
       "  <g transform=\"translate(68.35,67.94)\">\n",
       "    <circle cx=\"0\" cy=\"0\" r=\"2.36\" class=\"primitive\"/>\n",
       "  </g>\n",
       "  <g transform=\"translate(41.82,71.56)\">\n",
       "    <circle cx=\"0\" cy=\"0\" r=\"2.36\" class=\"primitive\"/>\n",
       "  </g>\n",
       "  <g transform=\"translate(58.24,59.71)\">\n",
       "    <circle cx=\"0\" cy=\"0\" r=\"2.36\" class=\"primitive\"/>\n",
       "  </g>\n",
       "  <g transform=\"translate(74.82,49.97)\">\n",
       "    <circle cx=\"0\" cy=\"0\" r=\"2.36\" class=\"primitive\"/>\n",
       "  </g>\n",
       "  <g transform=\"translate(100.32,25.61)\">\n",
       "    <circle cx=\"0\" cy=\"0\" r=\"2.36\" class=\"primitive\"/>\n",
       "  </g>\n",
       "  <g transform=\"translate(92.76,30.52)\">\n",
       "    <circle cx=\"0\" cy=\"0\" r=\"2.36\" class=\"primitive\"/>\n",
       "  </g>\n",
       "  <g transform=\"translate(96,13.78)\">\n",
       "    <circle cx=\"0\" cy=\"0\" r=\"2.36\" class=\"primitive\"/>\n",
       "  </g>\n",
       "  <g transform=\"translate(107.19,16.6)\">\n",
       "    <circle cx=\"0\" cy=\"0\" r=\"2.36\" class=\"primitive\"/>\n",
       "  </g>\n",
       "  <g transform=\"translate(117.07,26.3)\">\n",
       "    <circle cx=\"0\" cy=\"0\" r=\"2.36\" class=\"primitive\"/>\n",
       "  </g>\n",
       "  <g transform=\"translate(116.54,33.98)\">\n",
       "    <circle cx=\"0\" cy=\"0\" r=\"2.36\" class=\"primitive\"/>\n",
       "  </g>\n",
       "  <g transform=\"translate(108.87,8.33)\">\n",
       "    <circle cx=\"0\" cy=\"0\" r=\"2.36\" class=\"primitive\"/>\n",
       "  </g>\n",
       "  <g transform=\"translate(120.71,11.51)\">\n",
       "    <circle cx=\"0\" cy=\"0\" r=\"2.36\" class=\"primitive\"/>\n",
       "  </g>\n",
       "  <g transform=\"translate(129.56,19.92)\">\n",
       "    <circle cx=\"0\" cy=\"0\" r=\"2.36\" class=\"primitive\"/>\n",
       "  </g>\n",
       "  <g transform=\"translate(129.64,28.78)\">\n",
       "    <circle cx=\"0\" cy=\"0\" r=\"2.36\" class=\"primitive\"/>\n",
       "  </g>\n",
       "  <g transform=\"translate(111.45,22.9)\">\n",
       "    <circle cx=\"0\" cy=\"0\" r=\"2.36\" class=\"primitive\"/>\n",
       "  </g>\n",
       "  <g transform=\"translate(84.16,22.79)\">\n",
       "    <circle cx=\"0\" cy=\"0\" r=\"2.36\" class=\"primitive\"/>\n",
       "  </g>\n",
       "  <g transform=\"translate(75.03,28.65)\">\n",
       "    <circle cx=\"0\" cy=\"0\" r=\"2.36\" class=\"primitive\"/>\n",
       "  </g>\n",
       "  <g transform=\"translate(78.35,33.87)\">\n",
       "    <circle cx=\"0\" cy=\"0\" r=\"2.36\" class=\"primitive\"/>\n",
       "  </g>\n",
       "  <g transform=\"translate(86.99,27.46)\">\n",
       "    <circle cx=\"0\" cy=\"0\" r=\"2.36\" class=\"primitive\"/>\n",
       "  </g>\n",
       "  <g transform=\"translate(88.97,34.75)\">\n",
       "    <circle cx=\"0\" cy=\"0\" r=\"2.36\" class=\"primitive\"/>\n",
       "  </g>\n",
       "  <g transform=\"translate(73.52,40.38)\">\n",
       "    <circle cx=\"0\" cy=\"0\" r=\"2.36\" class=\"primitive\"/>\n",
       "  </g>\n",
       "  <g transform=\"translate(74.36,44.08)\">\n",
       "    <circle cx=\"0\" cy=\"0\" r=\"2.36\" class=\"primitive\"/>\n",
       "  </g>\n",
       "  <g transform=\"translate(82.2,45.05)\">\n",
       "    <circle cx=\"0\" cy=\"0\" r=\"2.36\" class=\"primitive\"/>\n",
       "  </g>\n",
       "  <g transform=\"translate(98.31,33.44)\">\n",
       "    <circle cx=\"0\" cy=\"0\" r=\"2.36\" class=\"primitive\"/>\n",
       "  </g>\n",
       "</g>\n",
       "<g font-size=\"4\" stroke=\"#000000\" stroke-opacity=\"0.000\" fill=\"#000000\" id=\"img-c8752263-5\">\n",
       "  <g transform=\"translate(72.79,91.22)\">\n",
       "    <g class=\"primitive\">\n",
       "      <text text-anchor=\"middle\" dy=\"0.35em\">co2emissions</text>\n",
       "    </g>\n",
       "  </g>\n",
       "  <g transform=\"translate(64.69,78.13)\">\n",
       "    <g class=\"primitive\">\n",
       "      <text text-anchor=\"middle\" dy=\"0.35em\">co2cycle</text>\n",
       "    </g>\n",
       "  </g>\n",
       "  <g transform=\"translate(52.53,82.52)\">\n",
       "    <g class=\"primitive\">\n",
       "      <text text-anchor=\"middle\" dy=\"0.35em\">co2forcing</text>\n",
       "    </g>\n",
       "  </g>\n",
       "  <g transform=\"translate(11.79,74.61)\">\n",
       "    <g class=\"primitive\">\n",
       "      <text text-anchor=\"middle\" dy=\"0.35em\">ch4emissions</text>\n",
       "    </g>\n",
       "  </g>\n",
       "  <g transform=\"translate(32.48,70.07)\">\n",
       "    <g class=\"primitive\">\n",
       "      <text text-anchor=\"middle\" dy=\"0.35em\">ch4cycle</text>\n",
       "    </g>\n",
       "  </g>\n",
       "  <g transform=\"translate(28.48,76.84)\">\n",
       "    <g class=\"primitive\">\n",
       "      <text text-anchor=\"middle\" dy=\"0.35em\">ch4forcing</text>\n",
       "    </g>\n",
       "  </g>\n",
       "  <g transform=\"translate(35.13,91.67)\">\n",
       "    <g class=\"primitive\">\n",
       "      <text text-anchor=\"middle\" dy=\"0.35em\">n2oemissions</text>\n",
       "    </g>\n",
       "  </g>\n",
       "  <g transform=\"translate(42.5,77.51)\">\n",
       "    <g class=\"primitive\">\n",
       "      <text text-anchor=\"middle\" dy=\"0.35em\">n2ocycle</text>\n",
       "    </g>\n",
       "  </g>\n",
       "  <g transform=\"translate(32.81,80.08)\">\n",
       "    <g class=\"primitive\">\n",
       "      <text text-anchor=\"middle\" dy=\"0.35em\">n2oforcing</text>\n",
       "    </g>\n",
       "  </g>\n",
       "  <g transform=\"translate(13.62,50.45)\">\n",
       "    <g class=\"primitive\">\n",
       "      <text text-anchor=\"middle\" dy=\"0.35em\">LGemissions</text>\n",
       "    </g>\n",
       "  </g>\n",
       "  <g transform=\"translate(32.35,55.33)\">\n",
       "    <g class=\"primitive\">\n",
       "      <text text-anchor=\"middle\" dy=\"0.35em\">LGcycle</text>\n",
       "    </g>\n",
       "  </g>\n",
       "  <g transform=\"translate(26.59,63.44)\">\n",
       "    <g class=\"primitive\">\n",
       "      <text text-anchor=\"middle\" dy=\"0.35em\">LGforcing</text>\n",
       "    </g>\n",
       "  </g>\n",
       "  <g transform=\"translate(68.35,67.94)\">\n",
       "    <g class=\"primitive\">\n",
       "      <text text-anchor=\"middle\" dy=\"0.35em\">SulphateForcing</text>\n",
       "    </g>\n",
       "  </g>\n",
       "  <g transform=\"translate(41.82,71.56)\">\n",
       "    <g class=\"primitive\">\n",
       "      <text text-anchor=\"middle\" dy=\"0.35em\">TotalForcing</text>\n",
       "    </g>\n",
       "  </g>\n",
       "  <g transform=\"translate(58.24,59.71)\">\n",
       "    <g class=\"primitive\">\n",
       "      <text text-anchor=\"middle\" dy=\"0.35em\">ClimateTemperature</text>\n",
       "    </g>\n",
       "  </g>\n",
       "  <g transform=\"translate(74.82,49.97)\">\n",
       "    <g class=\"primitive\">\n",
       "      <text text-anchor=\"middle\" dy=\"0.35em\">SeaLevelRise</text>\n",
       "    </g>\n",
       "  </g>\n",
       "  <g transform=\"translate(100.32,25.61)\">\n",
       "    <g class=\"primitive\">\n",
       "      <text text-anchor=\"middle\" dy=\"0.35em\">Population</text>\n",
       "    </g>\n",
       "  </g>\n",
       "  <g transform=\"translate(92.76,30.52)\">\n",
       "    <g class=\"primitive\">\n",
       "      <text text-anchor=\"middle\" dy=\"0.35em\">GDP</text>\n",
       "    </g>\n",
       "  </g>\n",
       "  <g transform=\"translate(96,13.78)\">\n",
       "    <g class=\"primitive\">\n",
       "      <text text-anchor=\"middle\" dy=\"0.35em\">AbatementCostParametersCO2</text>\n",
       "    </g>\n",
       "  </g>\n",
       "  <g transform=\"translate(107.19,16.6)\">\n",
       "    <g class=\"primitive\">\n",
       "      <text text-anchor=\"middle\" dy=\"0.35em\">AbatementCostParametersCH4</text>\n",
       "    </g>\n",
       "  </g>\n",
       "  <g transform=\"translate(117.07,26.3)\">\n",
       "    <g class=\"primitive\">\n",
       "      <text text-anchor=\"middle\" dy=\"0.35em\">AbatementCostParametersN2O</text>\n",
       "    </g>\n",
       "  </g>\n",
       "  <g transform=\"translate(116.54,33.98)\">\n",
       "    <g class=\"primitive\">\n",
       "      <text text-anchor=\"middle\" dy=\"0.35em\">AbatementCostParametersLin</text>\n",
       "    </g>\n",
       "  </g>\n",
       "  <g transform=\"translate(108.87,8.33)\">\n",
       "    <g class=\"primitive\">\n",
       "      <text text-anchor=\"middle\" dy=\"0.35em\">AbatementCostsCO2</text>\n",
       "    </g>\n",
       "  </g>\n",
       "  <g transform=\"translate(120.71,11.51)\">\n",
       "    <g class=\"primitive\">\n",
       "      <text text-anchor=\"middle\" dy=\"0.35em\">AbatementCostsCH4</text>\n",
       "    </g>\n",
       "  </g>\n",
       "  <g transform=\"translate(129.56,19.92)\">\n",
       "    <g class=\"primitive\">\n",
       "      <text text-anchor=\"middle\" dy=\"0.35em\">AbatementCostsN2O</text>\n",
       "    </g>\n",
       "  </g>\n",
       "  <g transform=\"translate(129.64,28.78)\">\n",
       "    <g class=\"primitive\">\n",
       "      <text text-anchor=\"middle\" dy=\"0.35em\">AbatementCostsLin</text>\n",
       "    </g>\n",
       "  </g>\n",
       "  <g transform=\"translate(111.45,22.9)\">\n",
       "    <g class=\"primitive\">\n",
       "      <text text-anchor=\"middle\" dy=\"0.35em\">TotalAbatementCosts</text>\n",
       "    </g>\n",
       "  </g>\n",
       "  <g transform=\"translate(84.16,22.79)\">\n",
       "    <g class=\"primitive\">\n",
       "      <text text-anchor=\"middle\" dy=\"0.35em\">AdaptiveCostsSeaLevel</text>\n",
       "    </g>\n",
       "  </g>\n",
       "  <g transform=\"translate(75.03,28.65)\">\n",
       "    <g class=\"primitive\">\n",
       "      <text text-anchor=\"middle\" dy=\"0.35em\">AdaptiveCostsEconomic</text>\n",
       "    </g>\n",
       "  </g>\n",
       "  <g transform=\"translate(78.35,33.87)\">\n",
       "    <g class=\"primitive\">\n",
       "      <text text-anchor=\"middle\" dy=\"0.35em\">AdaptiveCostsNonEconomic</text>\n",
       "    </g>\n",
       "  </g>\n",
       "  <g transform=\"translate(86.99,27.46)\">\n",
       "    <g class=\"primitive\">\n",
       "      <text text-anchor=\"middle\" dy=\"0.35em\">TotalAdaptationCosts</text>\n",
       "    </g>\n",
       "  </g>\n",
       "  <g transform=\"translate(88.97,34.75)\">\n",
       "    <g class=\"primitive\">\n",
       "      <text text-anchor=\"middle\" dy=\"0.35em\">SLRDamages</text>\n",
       "    </g>\n",
       "  </g>\n",
       "  <g transform=\"translate(73.52,40.38)\">\n",
       "    <g class=\"primitive\">\n",
       "      <text text-anchor=\"middle\" dy=\"0.35em\">MarketDamages</text>\n",
       "    </g>\n",
       "  </g>\n",
       "  <g transform=\"translate(74.36,44.08)\">\n",
       "    <g class=\"primitive\">\n",
       "      <text text-anchor=\"middle\" dy=\"0.35em\">NonMarketDamages</text>\n",
       "    </g>\n",
       "  </g>\n",
       "  <g transform=\"translate(82.2,45.05)\">\n",
       "    <g class=\"primitive\">\n",
       "      <text text-anchor=\"middle\" dy=\"0.35em\">Discontinuity</text>\n",
       "    </g>\n",
       "  </g>\n",
       "  <g transform=\"translate(98.31,33.44)\">\n",
       "    <g class=\"primitive\">\n",
       "      <text text-anchor=\"middle\" dy=\"0.35em\">EquityWeighting</text>\n",
       "    </g>\n",
       "  </g>\n",
       "</g>\n",
       "</svg>\n"
      ],
      "text/html": [
       "<?xml version=\"1.0\" encoding=\"UTF-8\"?>\n",
       "<svg xmlns=\"http://www.w3.org/2000/svg\"\n",
       "     xmlns:xlink=\"http://www.w3.org/1999/xlink\"\n",
       "     version=\"1.2\"\n",
       "     width=\"141.42mm\" height=\"100mm\" viewBox=\"0 0 141.42 100\"\n",
       "     stroke=\"none\"\n",
       "     fill=\"#000000\"\n",
       "     stroke-width=\"0.3\"\n",
       "     font-size=\"3.88\"\n",
       "\n",
       "     id=\"img-2c6e602d\">\n",
       "<defs>\n",
       "  <marker id=\"arrow\" markerWidth=\"15\" markerHeight=\"7\" refX=\"5\" refY=\"3.5\" orient=\"auto\" markerUnits=\"strokeWidth\">\n",
       "    <path d=\"M0,0 L15,3.5 L0,7 z\" stroke=\"context-stroke\" fill=\"context-stroke\"/>\n",
       "  </marker>\n",
       "</defs>\n",
       "<g stroke-width=\"0.5\" fill=\"#000000\" fill-opacity=\"0.000\" stroke=\"#D3D3D3\" id=\"img-2c6e602d-1\">\n",
       "  <g transform=\"translate(68.74,84.68)\">\n",
       "    <path fill=\"none\" d=\"M3.07,4.96 L -3.07 -4.96\" class=\"primitive\"/>\n",
       "  </g>\n",
       "  <g transform=\"translate(58.61,80.33)\">\n",
       "    <path fill=\"none\" d=\"M3.9,-1.41 L -3.9 1.41\" class=\"primitive\"/>\n",
       "  </g>\n",
       "  <g transform=\"translate(47.17,77.04)\">\n",
       "    <path fill=\"none\" d=\"M3.96,4.05 L -3.96 -4.05\" class=\"primitive\"/>\n",
       "  </g>\n",
       "  <g transform=\"translate(22.13,72.34)\">\n",
       "    <path fill=\"none\" d=\"M-8,1.76 L 8 -1.76\" class=\"primitive\"/>\n",
       "  </g>\n",
       "  <g transform=\"translate(30.48,73.45)\">\n",
       "    <path fill=\"none\" d=\"M1.06,-1.79 L -1.06 1.79\" class=\"primitive\"/>\n",
       "  </g>\n",
       "  <g transform=\"translate(32.65,75.07)\">\n",
       "    <path fill=\"none\" d=\"M-0.11,-3.27 L 0.11 3.27\" class=\"primitive\"/>\n",
       "  </g>\n",
       "  <g transform=\"translate(35.15,74.2)\">\n",
       "    <path fill=\"none\" d=\"M-4.53,1.79 L 4.53 -1.79\" class=\"primitive\"/>\n",
       "  </g>\n",
       "  <g transform=\"translate(38.81,84.59)\">\n",
       "    <path fill=\"none\" d=\"M-2.84,5.45 L 2.84 -5.45\" class=\"primitive\"/>\n",
       "  </g>\n",
       "  <g transform=\"translate(35.49,77.18)\">\n",
       "    <path fill=\"none\" d=\"M4.56,0.22 L -4.56 -0.22\" class=\"primitive\"/>\n",
       "  </g>\n",
       "  <g transform=\"translate(37.65,78.8)\">\n",
       "    <path fill=\"none\" d=\"M2.55,-0.67 L -2.55 0.67\" class=\"primitive\"/>\n",
       "  </g>\n",
       "  <g transform=\"translate(37.32,75.82)\">\n",
       "    <path fill=\"none\" d=\"M-3.04,2.87 L 3.04 -2.87\" class=\"primitive\"/>\n",
       "  </g>\n",
       "  <g transform=\"translate(22.98,52.89)\">\n",
       "    <path fill=\"none\" d=\"M-7.06,-1.84 L 7.06 1.84\" class=\"primitive\"/>\n",
       "  </g>\n",
       "  <g transform=\"translate(29.47,59.39)\">\n",
       "    <path fill=\"none\" d=\"M1.78,-2.5 L -1.78 2.5\" class=\"primitive\"/>\n",
       "  </g>\n",
       "  <g transform=\"translate(34.21,67.5)\">\n",
       "    <path fill=\"none\" d=\"M-5.66,-3.01 L 5.66 3.01\" class=\"primitive\"/>\n",
       "  </g>\n",
       "  <g transform=\"translate(63.3,63.82)\">\n",
       "    <path fill=\"none\" d=\"M3.44,2.81 L -3.44 -2.81\" class=\"primitive\"/>\n",
       "  </g>\n",
       "  <g transform=\"translate(50.03,65.63)\">\n",
       "    <path fill=\"none\" d=\"M-6.49,4.69 L 6.49 -4.69\" class=\"primitive\"/>\n",
       "  </g>\n",
       "  <g transform=\"translate(61.47,68.92)\">\n",
       "    <path fill=\"none\" d=\"M-2.63,-7.53 L 2.63 7.53\" class=\"primitive\"/>\n",
       "  </g>\n",
       "  <g transform=\"translate(45.36,64.89)\">\n",
       "    <path fill=\"none\" d=\"M10.75,-4.32 L -10.75 4.32\" class=\"primitive\"/>\n",
       "  </g>\n",
       "  <g transform=\"translate(50.37,68.61)\">\n",
       "    <path fill=\"none\" d=\"M6.57,-7.43 L -6.57 7.43\" class=\"primitive\"/>\n",
       "  </g>\n",
       "  <g transform=\"translate(45.3,57.52)\">\n",
       "    <path fill=\"none\" d=\"M10.56,1.78 L -10.56 -1.78\" class=\"primitive\"/>\n",
       "  </g>\n",
       "  <g transform=\"translate(66.53,54.84)\">\n",
       "    <path fill=\"none\" d=\"M-6.4,3.76 L 6.4 -3.76\" class=\"primitive\"/>\n",
       "  </g>\n",
       "  <g transform=\"translate(65.88,50.04)\">\n",
       "    <path fill=\"none\" d=\"M-6.44,8.15 L 6.44 -8.15\" class=\"primitive\"/>\n",
       "  </g>\n",
       "  <g transform=\"translate(66.3,51.9)\">\n",
       "    <path fill=\"none\" d=\"M-6.61,6.41 L 6.61 -6.41\" class=\"primitive\"/>\n",
       "  </g>\n",
       "  <g transform=\"translate(70.22,52.38)\">\n",
       "    <path fill=\"none\" d=\"M-10.12,6.19 L 10.12 -6.19\" class=\"primitive\"/>\n",
       "  </g>\n",
       "  <g transform=\"translate(81.89,42.36)\">\n",
       "    <path fill=\"none\" d=\"M-5.73,6.16 L 5.73 -6.16\" class=\"primitive\"/>\n",
       "  </g>\n",
       "  <g transform=\"translate(96.54,28.06)\">\n",
       "    <path fill=\"none\" d=\"M1.97,-1.28 L -1.97 1.28\" class=\"primitive\"/>\n",
       "  </g>\n",
       "  <g transform=\"translate(105.89,24.26)\">\n",
       "    <path fill=\"none\" d=\"M-3.25,0.79 L 3.25 -0.79\" class=\"primitive\"/>\n",
       "  </g>\n",
       "  <g transform=\"translate(93.65,26.54)\">\n",
       "    <path fill=\"none\" d=\"M4.25,-0.59 L -4.25 0.59\" class=\"primitive\"/>\n",
       "  </g>\n",
       "  <g transform=\"translate(99.31,29.52)\">\n",
       "    <path fill=\"none\" d=\"M0.57,-2.2 L -0.57 2.2\" class=\"primitive\"/>\n",
       "  </g>\n",
       "  <g transform=\"translate(94.38,22.15)\">\n",
       "    <path fill=\"none\" d=\"M-1.28,6.65 L 1.28 -6.65\" class=\"primitive\"/>\n",
       "  </g>\n",
       "  <g transform=\"translate(99.98,23.56)\">\n",
       "    <path fill=\"none\" d=\"M-5.76,5.56 L 5.76 -5.56\" class=\"primitive\"/>\n",
       "  </g>\n",
       "  <g transform=\"translate(104.92,28.41)\">\n",
       "    <path fill=\"none\" d=\"M-9.77,1.69 L 9.77 -1.69\" class=\"primitive\"/>\n",
       "  </g>\n",
       "  <g transform=\"translate(104.65,32.25)\">\n",
       "    <path fill=\"none\" d=\"M-9.48,-1.38 L 9.48 1.38\" class=\"primitive\"/>\n",
       "  </g>\n",
       "  <g transform=\"translate(88.46,26.65)\">\n",
       "    <path fill=\"none\" d=\"M2.78,2.5 L -2.78 -2.5\" class=\"primitive\"/>\n",
       "  </g>\n",
       "  <g transform=\"translate(83.9,29.58)\">\n",
       "    <path fill=\"none\" d=\"M6.44,0.68 L -6.44 -0.68\" class=\"primitive\"/>\n",
       "  </g>\n",
       "  <g transform=\"translate(85.56,32.19)\">\n",
       "    <path fill=\"none\" d=\"M4.88,-1.14 L -4.88 1.14\" class=\"primitive\"/>\n",
       "  </g>\n",
       "  <g transform=\"translate(90.87,32.63)\">\n",
       "    <path fill=\"none\" d=\"M0.58,-0.65 L -0.58 0.65\" class=\"primitive\"/>\n",
       "  </g>\n",
       "  <g transform=\"translate(83.14,35.45)\">\n",
       "    <path fill=\"none\" d=\"M7.63,-3.91 L -7.63 3.91\" class=\"primitive\"/>\n",
       "  </g>\n",
       "  <g transform=\"translate(83.56,37.3)\">\n",
       "    <path fill=\"none\" d=\"M7.5,-5.53 L -7.5 5.53\" class=\"primitive\"/>\n",
       "  </g>\n",
       "  <g transform=\"translate(87.48,37.79)\">\n",
       "    <path fill=\"none\" d=\"M4.16,-5.73 L -4.16 5.73\" class=\"primitive\"/>\n",
       "  </g>\n",
       "  <g transform=\"translate(95.54,31.98)\">\n",
       "    <path fill=\"none\" d=\"M-0.8,-0.42 L 0.8 0.42\" class=\"primitive\"/>\n",
       "  </g>\n",
       "  <g transform=\"translate(102.43,11.06)\">\n",
       "    <path fill=\"none\" d=\"M-4.33,1.83 L 4.33 -1.83\" class=\"primitive\"/>\n",
       "  </g>\n",
       "  <g transform=\"translate(113.95,14.06)\">\n",
       "    <path fill=\"none\" d=\"M-4.6,1.73 L 4.6 -1.73\" class=\"primitive\"/>\n",
       "  </g>\n",
       "  <g transform=\"translate(123.32,23.11)\">\n",
       "    <path fill=\"none\" d=\"M-4.26,2.18 L 4.26 -2.18\" class=\"primitive\"/>\n",
       "  </g>\n",
       "  <g transform=\"translate(123.09,31.38)\">\n",
       "    <path fill=\"none\" d=\"M-4.41,1.75 L 4.41 -1.75\" class=\"primitive\"/>\n",
       "  </g>\n",
       "  <g transform=\"translate(102.43,11.06)\">\n",
       "    <path fill=\"none\" d=\"M4.33,-1.83 L -4.33 1.83\" class=\"primitive\"/>\n",
       "  </g>\n",
       "  <g transform=\"translate(110.16,15.62)\">\n",
       "    <path fill=\"none\" d=\"M-0.99,-5.56 L 0.99 5.56\" class=\"primitive\"/>\n",
       "  </g>\n",
       "  <g transform=\"translate(113.95,14.06)\">\n",
       "    <path fill=\"none\" d=\"M4.6,-1.73 L -4.6 1.73\" class=\"primitive\"/>\n",
       "  </g>\n",
       "  <g transform=\"translate(116.08,17.2)\">\n",
       "    <path fill=\"none\" d=\"M3.41,-4.19 L -3.41 4.19\" class=\"primitive\"/>\n",
       "  </g>\n",
       "  <g transform=\"translate(123.32,23.11)\">\n",
       "    <path fill=\"none\" d=\"M4.26,-2.18 L -4.26 2.18\" class=\"primitive\"/>\n",
       "  </g>\n",
       "  <g transform=\"translate(120.51,21.41)\">\n",
       "    <path fill=\"none\" d=\"M6.66,-1.1 L -6.66 1.1\" class=\"primitive\"/>\n",
       "  </g>\n",
       "  <g transform=\"translate(123.09,31.38)\">\n",
       "    <path fill=\"none\" d=\"M4.41,-1.75 L -4.41 1.75\" class=\"primitive\"/>\n",
       "  </g>\n",
       "  <g transform=\"translate(120.55,25.84)\">\n",
       "    <path fill=\"none\" d=\"M6.86,2.22 L -6.86 -2.22\" class=\"primitive\"/>\n",
       "  </g>\n",
       "  <g transform=\"translate(100.21,28.82)\">\n",
       "    <path fill=\"none\" d=\"M9.28,-4.89 L -9.28 4.89\" class=\"primitive\"/>\n",
       "  </g>\n",
       "  <g transform=\"translate(104.88,28.17)\">\n",
       "    <path fill=\"none\" d=\"M4.95,-3.97 L -4.95 3.97\" class=\"primitive\"/>\n",
       "  </g>\n",
       "  <g transform=\"translate(85.58,25.13)\">\n",
       "    <path fill=\"none\" d=\"M-0.45,-0.74 L 0.45 0.74\" class=\"primitive\"/>\n",
       "  </g>\n",
       "  <g transform=\"translate(86.56,28.77)\">\n",
       "    <path fill=\"none\" d=\"M-1.73,-4.31 L 1.73 4.31\" class=\"primitive\"/>\n",
       "  </g>\n",
       "  <g transform=\"translate(81.01,28.05)\">\n",
       "    <path fill=\"none\" d=\"M-3.55,0.35 L 3.55 -0.35\" class=\"primitive\"/>\n",
       "  </g>\n",
       "  <g transform=\"translate(74.28,34.51)\">\n",
       "    <path fill=\"none\" d=\"M0.53,-4.14 L -0.53 4.14\" class=\"primitive\"/>\n",
       "  </g>\n",
       "  <g transform=\"translate(82.67,30.67)\">\n",
       "    <path fill=\"none\" d=\"M-2.63,1.95 L 2.63 -1.95\" class=\"primitive\"/>\n",
       "  </g>\n",
       "  <g transform=\"translate(76.35,38.98)\">\n",
       "    <path fill=\"none\" d=\"M1.34,-3.43 L -1.34 3.43\" class=\"primitive\"/>\n",
       "  </g>\n",
       "  <g transform=\"translate(87.98,31.1)\">\n",
       "    <path fill=\"none\" d=\"M-0.53,-1.94 L 0.53 1.94\" class=\"primitive\"/>\n",
       "  </g>\n",
       "  <g transform=\"translate(92.65,30.45)\">\n",
       "    <path fill=\"none\" d=\"M-3.69,-1.95 L 3.69 1.95\" class=\"primitive\"/>\n",
       "  </g>\n",
       "  <g transform=\"translate(81.25,37.56)\">\n",
       "    <path fill=\"none\" d=\"M5.54,-2.02 L -5.54 2.02\" class=\"primitive\"/>\n",
       "  </g>\n",
       "  <g transform=\"translate(93.64,34.09)\">\n",
       "    <path fill=\"none\" d=\"M-2.26,0.32 L 2.26 -0.32\" class=\"primitive\"/>\n",
       "  </g>\n",
       "  <g transform=\"translate(73.94,42.23)\">\n",
       "    <path fill=\"none\" d=\"M-0.03,-0.14 L 0.03 0.14\" class=\"primitive\"/>\n",
       "  </g>\n",
       "  <g transform=\"translate(78.28,44.57)\">\n",
       "    <path fill=\"none\" d=\"M-1.5,-0.19 L 1.5 0.19\" class=\"primitive\"/>\n",
       "  </g>\n",
       "  <g transform=\"translate(90.25,39.25)\">\n",
       "    <path fill=\"none\" d=\"M-6.34,4.57 L 6.34 -4.57\" class=\"primitive\"/>\n",
       "  </g>\n",
       "</g>\n",
       "<g stroke-width=\"0.5\" stroke=\"#D3D3D3\" id=\"img-2c6e602d-2\">\n",
       "  <g transform=\"translate(67.16,82.11)\">\n",
       "    <path fill=\"none\" d=\"M-1.11,1.77 L -1.48 -2.39 2.59 0.62\" class=\"primitive\"/>\n",
       "  </g>\n",
       "  <g transform=\"translate(58,80.55)\">\n",
       "    <path fill=\"none\" d=\"M2.56,0.68 L -3.29 1.19 0.73 -1.86\" class=\"primitive\"/>\n",
       "  </g>\n",
       "  <g transform=\"translate(45.31,75.14)\">\n",
       "    <path fill=\"none\" d=\"M-0.61,1.88 L -2.1 -2.15 2.71 0.26\" class=\"primitive\"/>\n",
       "  </g>\n",
       "  <g transform=\"translate(26.61,71.35)\">\n",
       "    <path fill=\"none\" d=\"M-2.36,-0.97 L 3.53 -0.77 -1.17 1.75\" class=\"primitive\"/>\n",
       "  </g>\n",
       "  <g transform=\"translate(30.85,72.83)\">\n",
       "    <path fill=\"none\" d=\"M2.57,-0.65 L -1.42 2.41 -1.15 -1.75\" class=\"primitive\"/>\n",
       "  </g>\n",
       "  <g transform=\"translate(32.67,75.73)\">\n",
       "    <path fill=\"none\" d=\"M1.97,-1.34 L 0.08 2.61 -2.06 -1.27\" class=\"primitive\"/>\n",
       "  </g>\n",
       "  <g transform=\"translate(36.46,73.68)\">\n",
       "    <path fill=\"none\" d=\"M-2.6,-0.61 L 3.22 -1.28 -0.63 1.88\" class=\"primitive\"/>\n",
       "  </g>\n",
       "  <g transform=\"translate(40.37,81.59)\">\n",
       "    <path fill=\"none\" d=\"M-2.53,0.73 L 1.28 -2.45 1.25 1.72\" class=\"primitive\"/>\n",
       "  </g>\n",
       "  <g transform=\"translate(34.61,77.14)\">\n",
       "    <path fill=\"none\" d=\"M1.71,1.51 L -3.68 -0.18 1.98 -1.33\" class=\"primitive\"/>\n",
       "  </g>\n",
       "  <g transform=\"translate(38.56,78.56)\">\n",
       "    <path fill=\"none\" d=\"M2.44,0.88 L -3.46 0.91 1.02 -1.79\" class=\"primitive\"/>\n",
       "  </g>\n",
       "  <g transform=\"translate(38.14,75.04)\">\n",
       "    <path fill=\"none\" d=\"M-2.72,0.19 L 2.21 -2.09 0.51 1.9\" class=\"primitive\"/>\n",
       "  </g>\n",
       "  <g transform=\"translate(26.58,53.83)\">\n",
       "    <path fill=\"none\" d=\"M-1.04,-1.79 L 3.46 0.9 -2.43 0.89\" class=\"primitive\"/>\n",
       "  </g>\n",
       "  <g transform=\"translate(29.35,59.56)\">\n",
       "    <path fill=\"none\" d=\"M2.63,-0.53 L -1.66 2.33 -0.97 -1.81\" class=\"primitive\"/>\n",
       "  </g>\n",
       "  <g transform=\"translate(36.91,68.94)\">\n",
       "    <path fill=\"none\" d=\"M-0.26,-1.92 L 2.95 1.57 -2.69 0.35\" class=\"primitive\"/>\n",
       "  </g>\n",
       "  <g transform=\"translate(62.27,62.99)\">\n",
       "    <path fill=\"none\" d=\"M-0.31,1.92 L -2.42 -1.97 2.73 0.05\" class=\"primitive\"/>\n",
       "  </g>\n",
       "  <g transform=\"translate(53.94,62.81)\">\n",
       "    <path fill=\"none\" d=\"M-2.73,-0.06 L 2.58 -1.86 0.15 1.93\" class=\"primitive\"/>\n",
       "  </g>\n",
       "  <g transform=\"translate(63.22,73.91)\">\n",
       "    <path fill=\"none\" d=\"M1.51,-1.61 L 0.89 2.53 -2.4 -0.92\" class=\"primitive\"/>\n",
       "  </g>\n",
       "  <g transform=\"translate(37.83,67.92)\">\n",
       "    <path fill=\"none\" d=\"M2.6,0.59 L -3.21 1.29 0.61 -1.88\" class=\"primitive\"/>\n",
       "  </g>\n",
       "  <g transform=\"translate(45.76,73.83)\">\n",
       "    <path fill=\"none\" d=\"M2.69,-0.35 L -1.96 2.21 -0.73 -1.86\" class=\"primitive\"/>\n",
       "  </g>\n",
       "  <g transform=\"translate(38.33,56.34)\">\n",
       "    <path fill=\"none\" d=\"M1.33,1.69 L -3.59 -0.61 2.26 -1.08\" class=\"primitive\"/>\n",
       "  </g>\n",
       "  <g transform=\"translate(70.09,52.75)\">\n",
       "    <path fill=\"none\" d=\"M-2.71,-0.26 L 2.84 -1.67 -0.13 1.93\" class=\"primitive\"/>\n",
       "  </g>\n",
       "  <g transform=\"translate(70.52,44.18)\">\n",
       "    <path fill=\"none\" d=\"M-2.66,0.44 L 1.8 -2.28 0.86 1.83\" class=\"primitive\"/>\n",
       "  </g>\n",
       "  <g transform=\"translate(70.73,47.6)\">\n",
       "    <path fill=\"none\" d=\"M-2.72,0.21 L 2.18 -2.11 0.54 1.89\" class=\"primitive\"/>\n",
       "  </g>\n",
       "  <g transform=\"translate(77.55,47.9)\">\n",
       "    <path fill=\"none\" d=\"M-2.71,-0.22 L 2.79 -1.71 -0.08 1.93\" class=\"primitive\"/>\n",
       "  </g>\n",
       "  <g transform=\"translate(85.59,38.38)\">\n",
       "    <path fill=\"none\" d=\"M-2.7,0.31 L 2.03 -2.18 0.67 1.87\" class=\"primitive\"/>\n",
       "  </g>\n",
       "  <g transform=\"translate(97.29,27.58)\">\n",
       "    <path fill=\"none\" d=\"M2.72,0.17 L -2.72 1.77 -0 -1.93\" class=\"primitive\"/>\n",
       "  </g>\n",
       "  <g transform=\"translate(105.64,24.31)\">\n",
       "    <path fill=\"none\" d=\"M-2.4,-0.92 L 3.49 -0.85 -1.09 1.77\" class=\"primitive\"/>\n",
       "  </g>\n",
       "  <g transform=\"translate(93.02,26.62)\">\n",
       "    <path fill=\"none\" d=\"M2.2,1.15 L -3.62 0.5 1.42 -1.65\" class=\"primitive\"/>\n",
       "  </g>\n",
       "  <g transform=\"translate(99.41,29.16)\">\n",
       "    <path fill=\"none\" d=\"M2.31,-1.03 L -0.66 2.57 -1.65 -1.54\" class=\"primitive\"/>\n",
       "  </g>\n",
       "  <g transform=\"translate(95.17,18.09)\">\n",
       "    <path fill=\"none\" d=\"M-2.25,1.1 L 0.5 -2.59 1.75 1.49\" class=\"primitive\"/>\n",
       "  </g>\n",
       "  <g transform=\"translate(103.55,20.11)\">\n",
       "    <path fill=\"none\" d=\"M-2.72,0.21 L 2.18 -2.11 0.53 1.9\" class=\"primitive\"/>\n",
       "  </g>\n",
       "  <g transform=\"translate(111.1,27.34)\">\n",
       "    <path fill=\"none\" d=\"M-2.27,-1.07 L 3.59 -0.62 -1.31 1.69\" class=\"primitive\"/>\n",
       "  </g>\n",
       "  <g transform=\"translate(110.52,33.1)\">\n",
       "    <path fill=\"none\" d=\"M-1.4,-1.66 L 3.62 0.53 -2.21 1.13\" class=\"primitive\"/>\n",
       "  </g>\n",
       "  <g transform=\"translate(87.96,26.21)\">\n",
       "    <path fill=\"none\" d=\"M-0.44,1.91 L -2.28 -2.05 2.73 0.14\" class=\"primitive\"/>\n",
       "  </g>\n",
       "  <g transform=\"translate(81.11,29.29)\">\n",
       "    <path fill=\"none\" d=\"M1.53,1.6 L -3.65 -0.38 2.12 -1.22\" class=\"primitive\"/>\n",
       "  </g>\n",
       "  <g transform=\"translate(84.19,32.51)\">\n",
       "    <path fill=\"none\" d=\"M2.38,0.95 L -3.51 0.82 1.12 -1.76\" class=\"primitive\"/>\n",
       "  </g>\n",
       "  <g transform=\"translate(92.26,31.08)\">\n",
       "    <path fill=\"none\" d=\"M2.69,-0.34 L -1.98 2.2 -0.71 -1.87\" class=\"primitive\"/>\n",
       "  </g>\n",
       "  <g transform=\"translate(78.5,37.83)\">\n",
       "    <path fill=\"none\" d=\"M2.68,0.39 L -2.99 1.53 0.31 -1.92\" class=\"primitive\"/>\n",
       "  </g>\n",
       "  <g transform=\"translate(78.61,40.95)\">\n",
       "    <path fill=\"none\" d=\"M2.73,0.04 L -2.56 1.88 -0.18 -1.93\" class=\"primitive\"/>\n",
       "  </g>\n",
       "  <g transform=\"translate(85.01,41.19)\">\n",
       "    <path fill=\"none\" d=\"M2.64,-0.51 L -1.69 2.32 -0.95 -1.81\" class=\"primitive\"/>\n",
       "  </g>\n",
       "  <g transform=\"translate(93.38,30.84)\">\n",
       "    <path fill=\"none\" d=\"M-0.28,-1.92 L 2.96 1.56 -2.68 0.36\" class=\"primitive\"/>\n",
       "  </g>\n",
       "  <g transform=\"translate(103.6,10.57)\">\n",
       "    <path fill=\"none\" d=\"M-2.62,-0.55 L 3.17 -1.34 -0.55 1.89\" class=\"primitive\"/>\n",
       "  </g>\n",
       "  <g transform=\"translate(115.29,13.55)\">\n",
       "    <path fill=\"none\" d=\"M-2.58,-0.64 L 3.26 -1.23 -0.68 1.87\" class=\"primitive\"/>\n",
       "  </g>\n",
       "  <g transform=\"translate(124.58,22.46)\">\n",
       "    <path fill=\"none\" d=\"M-2.68,-0.39 L 2.99 -1.53 -0.31 1.92\" class=\"primitive\"/>\n",
       "  </g>\n",
       "  <g transform=\"translate(124.28,30.91)\">\n",
       "    <path fill=\"none\" d=\"M-2.6,-0.6 L 3.22 -1.28 -0.62 1.88\" class=\"primitive\"/>\n",
       "  </g>\n",
       "  <g transform=\"translate(101.27,11.55)\">\n",
       "    <path fill=\"none\" d=\"M2.62,0.55 L -3.17 1.34 0.55 -1.89\" class=\"primitive\"/>\n",
       "  </g>\n",
       "  <g transform=\"translate(110.69,18.59)\">\n",
       "    <path fill=\"none\" d=\"M1.77,-1.47 L 0.46 2.59 -2.23 -1.12\" class=\"primitive\"/>\n",
       "  </g>\n",
       "  <g transform=\"translate(112.61,14.56)\">\n",
       "    <path fill=\"none\" d=\"M2.58,0.64 L -3.26 1.23 0.68 -1.87\" class=\"primitive\"/>\n",
       "  </g>\n",
       "  <g transform=\"translate(114.52,19.13)\">\n",
       "    <path fill=\"none\" d=\"M2.67,-0.42 L -1.84 2.26 -0.83 -1.84\" class=\"primitive\"/>\n",
       "  </g>\n",
       "  <g transform=\"translate(122.05,23.76)\">\n",
       "    <path fill=\"none\" d=\"M2.68,0.39 L -2.99 1.53 0.31 -1.92\" class=\"primitive\"/>\n",
       "  </g>\n",
       "  <g transform=\"translate(117.44,21.91)\">\n",
       "    <path fill=\"none\" d=\"M2.25,1.09 L -3.6 0.59 1.34 -1.68\" class=\"primitive\"/>\n",
       "  </g>\n",
       "  <g transform=\"translate(121.9,31.85)\">\n",
       "    <path fill=\"none\" d=\"M2.6,0.6 L -3.22 1.28 0.62 -1.88\" class=\"primitive\"/>\n",
       "  </g>\n",
       "  <g transform=\"translate(117.04,24.71)\">\n",
       "    <path fill=\"none\" d=\"M0.84,1.84 L -3.36 -1.09 2.52 -0.75\" class=\"primitive\"/>\n",
       "  </g>\n",
       "  <g transform=\"translate(93.89,32.15)\">\n",
       "    <path fill=\"none\" d=\"M2.68,0.36 L -2.96 1.56 0.28 -1.92\" class=\"primitive\"/>\n",
       "  </g>\n",
       "  <g transform=\"translate(102.38,30.18)\">\n",
       "    <path fill=\"none\" d=\"M2.73,-0.04 L -2.44 1.96 -0.29 -1.92\" class=\"primitive\"/>\n",
       "  </g>\n",
       "  <g transform=\"translate(84.57,23.47)\">\n",
       "    <path fill=\"none\" d=\"M1.13,-1.76 L 1.45 2.4 -2.58 -0.64\" class=\"primitive\"/>\n",
       "  </g>\n",
       "  <g transform=\"translate(87.28,30.56)\">\n",
       "    <path fill=\"none\" d=\"M1.43,-1.65 L 1.01 2.51 -2.44 -0.87\" class=\"primitive\"/>\n",
       "  </g>\n",
       "  <g transform=\"translate(80.9,28.06)\">\n",
       "    <path fill=\"none\" d=\"M-2.11,-1.23 L 3.66 -0.36 -1.55 1.59\" class=\"primitive\"/>\n",
       "  </g>\n",
       "  <g transform=\"translate(74.08,36.05)\">\n",
       "    <path fill=\"none\" d=\"M2.17,-1.17 L -0.33 2.6 -1.84 -1.43\" class=\"primitive\"/>\n",
       "  </g>\n",
       "  <g transform=\"translate(82.75,30.61)\">\n",
       "    <path fill=\"none\" d=\"M-2.73,-0.04 L 2.55 -1.89 0.19 1.93\" class=\"primitive\"/>\n",
       "  </g>\n",
       "  <g transform=\"translate(75.99,39.9)\">\n",
       "    <path fill=\"none\" d=\"M2.43,-0.88 L -0.98 2.52 -1.45 -1.64\" class=\"primitive\"/>\n",
       "  </g>\n",
       "  <g transform=\"translate(87.81,30.48)\">\n",
       "    <path fill=\"none\" d=\"M1.63,-1.55 L 0.69 2.56 -2.33 -1.01\" class=\"primitive\"/>\n",
       "  </g>\n",
       "  <g transform=\"translate(93.38,30.84)\">\n",
       "    <path fill=\"none\" d=\"M-0.27,-1.92 L 2.96 1.56 -2.68 0.36\" class=\"primitive\"/>\n",
       "  </g>\n",
       "  <g transform=\"translate(78.99,38.39)\">\n",
       "    <path fill=\"none\" d=\"M2.56,0.67 L -3.28 1.2 0.72 -1.87\" class=\"primitive\"/>\n",
       "  </g>\n",
       "  <g transform=\"translate(92.28,34.28)\">\n",
       "    <path fill=\"none\" d=\"M-2.2,-1.14 L 3.62 -0.51 -1.42 1.65\" class=\"primitive\"/>\n",
       "  </g>\n",
       "  <g transform=\"translate(73.39,39.79)\">\n",
       "    <path fill=\"none\" d=\"M1.7,-1.51 L 0.58 2.58 -2.28 -1.07\" class=\"primitive\"/>\n",
       "  </g>\n",
       "  <g transform=\"translate(76.14,44.31)\">\n",
       "    <path fill=\"none\" d=\"M-1.47,-1.63 L 3.64 0.45 -2.17 1.18\" class=\"primitive\"/>\n",
       "  </g>\n",
       "  <g transform=\"translate(94.01,36.54)\">\n",
       "    <path fill=\"none\" d=\"M-2.73,-0.07 L 2.58 -1.86 0.15 1.93\" class=\"primitive\"/>\n",
       "  </g>\n",
       "</g>\n",
       "<g font-size=\"4\" stroke=\"#000000\" stroke-opacity=\"0.000\" fill=\"#000000\" id=\"img-2c6e602d-3\">\n",
       "</g>\n",
       "<g stroke-width=\"0\" stroke=\"#000000\" stroke-opacity=\"0.000\" fill=\"#40E0D0\" id=\"img-2c6e602d-4\">\n",
       "  <g transform=\"translate(72.79,91.22)\">\n",
       "    <circle cx=\"0\" cy=\"0\" r=\"2.36\" class=\"primitive\"/>\n",
       "  </g>\n",
       "  <g transform=\"translate(64.69,78.13)\">\n",
       "    <circle cx=\"0\" cy=\"0\" r=\"2.36\" class=\"primitive\"/>\n",
       "  </g>\n",
       "  <g transform=\"translate(52.53,82.52)\">\n",
       "    <circle cx=\"0\" cy=\"0\" r=\"2.36\" class=\"primitive\"/>\n",
       "  </g>\n",
       "  <g transform=\"translate(11.79,74.61)\">\n",
       "    <circle cx=\"0\" cy=\"0\" r=\"2.36\" class=\"primitive\"/>\n",
       "  </g>\n",
       "  <g transform=\"translate(32.48,70.07)\">\n",
       "    <circle cx=\"0\" cy=\"0\" r=\"2.36\" class=\"primitive\"/>\n",
       "  </g>\n",
       "  <g transform=\"translate(28.48,76.84)\">\n",
       "    <circle cx=\"0\" cy=\"0\" r=\"2.36\" class=\"primitive\"/>\n",
       "  </g>\n",
       "  <g transform=\"translate(35.13,91.67)\">\n",
       "    <circle cx=\"0\" cy=\"0\" r=\"2.36\" class=\"primitive\"/>\n",
       "  </g>\n",
       "  <g transform=\"translate(42.5,77.51)\">\n",
       "    <circle cx=\"0\" cy=\"0\" r=\"2.36\" class=\"primitive\"/>\n",
       "  </g>\n",
       "  <g transform=\"translate(32.81,80.08)\">\n",
       "    <circle cx=\"0\" cy=\"0\" r=\"2.36\" class=\"primitive\"/>\n",
       "  </g>\n",
       "  <g transform=\"translate(13.62,50.45)\">\n",
       "    <circle cx=\"0\" cy=\"0\" r=\"2.36\" class=\"primitive\"/>\n",
       "  </g>\n",
       "  <g transform=\"translate(32.35,55.33)\">\n",
       "    <circle cx=\"0\" cy=\"0\" r=\"2.36\" class=\"primitive\"/>\n",
       "  </g>\n",
       "  <g transform=\"translate(26.59,63.44)\">\n",
       "    <circle cx=\"0\" cy=\"0\" r=\"2.36\" class=\"primitive\"/>\n",
       "  </g>\n",
       "  <g transform=\"translate(68.35,67.94)\">\n",
       "    <circle cx=\"0\" cy=\"0\" r=\"2.36\" class=\"primitive\"/>\n",
       "  </g>\n",
       "  <g transform=\"translate(41.82,71.56)\">\n",
       "    <circle cx=\"0\" cy=\"0\" r=\"2.36\" class=\"primitive\"/>\n",
       "  </g>\n",
       "  <g transform=\"translate(58.24,59.71)\">\n",
       "    <circle cx=\"0\" cy=\"0\" r=\"2.36\" class=\"primitive\"/>\n",
       "  </g>\n",
       "  <g transform=\"translate(74.82,49.97)\">\n",
       "    <circle cx=\"0\" cy=\"0\" r=\"2.36\" class=\"primitive\"/>\n",
       "  </g>\n",
       "  <g transform=\"translate(100.32,25.61)\">\n",
       "    <circle cx=\"0\" cy=\"0\" r=\"2.36\" class=\"primitive\"/>\n",
       "  </g>\n",
       "  <g transform=\"translate(92.76,30.52)\">\n",
       "    <circle cx=\"0\" cy=\"0\" r=\"2.36\" class=\"primitive\"/>\n",
       "  </g>\n",
       "  <g transform=\"translate(96,13.78)\">\n",
       "    <circle cx=\"0\" cy=\"0\" r=\"2.36\" class=\"primitive\"/>\n",
       "  </g>\n",
       "  <g transform=\"translate(107.19,16.6)\">\n",
       "    <circle cx=\"0\" cy=\"0\" r=\"2.36\" class=\"primitive\"/>\n",
       "  </g>\n",
       "  <g transform=\"translate(117.07,26.3)\">\n",
       "    <circle cx=\"0\" cy=\"0\" r=\"2.36\" class=\"primitive\"/>\n",
       "  </g>\n",
       "  <g transform=\"translate(116.54,33.98)\">\n",
       "    <circle cx=\"0\" cy=\"0\" r=\"2.36\" class=\"primitive\"/>\n",
       "  </g>\n",
       "  <g transform=\"translate(108.87,8.33)\">\n",
       "    <circle cx=\"0\" cy=\"0\" r=\"2.36\" class=\"primitive\"/>\n",
       "  </g>\n",
       "  <g transform=\"translate(120.71,11.51)\">\n",
       "    <circle cx=\"0\" cy=\"0\" r=\"2.36\" class=\"primitive\"/>\n",
       "  </g>\n",
       "  <g transform=\"translate(129.56,19.92)\">\n",
       "    <circle cx=\"0\" cy=\"0\" r=\"2.36\" class=\"primitive\"/>\n",
       "  </g>\n",
       "  <g transform=\"translate(129.64,28.78)\">\n",
       "    <circle cx=\"0\" cy=\"0\" r=\"2.36\" class=\"primitive\"/>\n",
       "  </g>\n",
       "  <g transform=\"translate(111.45,22.9)\">\n",
       "    <circle cx=\"0\" cy=\"0\" r=\"2.36\" class=\"primitive\"/>\n",
       "  </g>\n",
       "  <g transform=\"translate(84.16,22.79)\">\n",
       "    <circle cx=\"0\" cy=\"0\" r=\"2.36\" class=\"primitive\"/>\n",
       "  </g>\n",
       "  <g transform=\"translate(75.03,28.65)\">\n",
       "    <circle cx=\"0\" cy=\"0\" r=\"2.36\" class=\"primitive\"/>\n",
       "  </g>\n",
       "  <g transform=\"translate(78.35,33.87)\">\n",
       "    <circle cx=\"0\" cy=\"0\" r=\"2.36\" class=\"primitive\"/>\n",
       "  </g>\n",
       "  <g transform=\"translate(86.99,27.46)\">\n",
       "    <circle cx=\"0\" cy=\"0\" r=\"2.36\" class=\"primitive\"/>\n",
       "  </g>\n",
       "  <g transform=\"translate(88.97,34.75)\">\n",
       "    <circle cx=\"0\" cy=\"0\" r=\"2.36\" class=\"primitive\"/>\n",
       "  </g>\n",
       "  <g transform=\"translate(73.52,40.38)\">\n",
       "    <circle cx=\"0\" cy=\"0\" r=\"2.36\" class=\"primitive\"/>\n",
       "  </g>\n",
       "  <g transform=\"translate(74.36,44.08)\">\n",
       "    <circle cx=\"0\" cy=\"0\" r=\"2.36\" class=\"primitive\"/>\n",
       "  </g>\n",
       "  <g transform=\"translate(82.2,45.05)\">\n",
       "    <circle cx=\"0\" cy=\"0\" r=\"2.36\" class=\"primitive\"/>\n",
       "  </g>\n",
       "  <g transform=\"translate(98.31,33.44)\">\n",
       "    <circle cx=\"0\" cy=\"0\" r=\"2.36\" class=\"primitive\"/>\n",
       "  </g>\n",
       "</g>\n",
       "<g font-size=\"4\" stroke=\"#000000\" stroke-opacity=\"0.000\" fill=\"#000000\" id=\"img-2c6e602d-5\">\n",
       "  <g transform=\"translate(72.79,91.22)\">\n",
       "    <g class=\"primitive\">\n",
       "      <text text-anchor=\"middle\" dy=\"0.35em\">co2emissions</text>\n",
       "    </g>\n",
       "  </g>\n",
       "  <g transform=\"translate(64.69,78.13)\">\n",
       "    <g class=\"primitive\">\n",
       "      <text text-anchor=\"middle\" dy=\"0.35em\">co2cycle</text>\n",
       "    </g>\n",
       "  </g>\n",
       "  <g transform=\"translate(52.53,82.52)\">\n",
       "    <g class=\"primitive\">\n",
       "      <text text-anchor=\"middle\" dy=\"0.35em\">co2forcing</text>\n",
       "    </g>\n",
       "  </g>\n",
       "  <g transform=\"translate(11.79,74.61)\">\n",
       "    <g class=\"primitive\">\n",
       "      <text text-anchor=\"middle\" dy=\"0.35em\">ch4emissions</text>\n",
       "    </g>\n",
       "  </g>\n",
       "  <g transform=\"translate(32.48,70.07)\">\n",
       "    <g class=\"primitive\">\n",
       "      <text text-anchor=\"middle\" dy=\"0.35em\">ch4cycle</text>\n",
       "    </g>\n",
       "  </g>\n",
       "  <g transform=\"translate(28.48,76.84)\">\n",
       "    <g class=\"primitive\">\n",
       "      <text text-anchor=\"middle\" dy=\"0.35em\">ch4forcing</text>\n",
       "    </g>\n",
       "  </g>\n",
       "  <g transform=\"translate(35.13,91.67)\">\n",
       "    <g class=\"primitive\">\n",
       "      <text text-anchor=\"middle\" dy=\"0.35em\">n2oemissions</text>\n",
       "    </g>\n",
       "  </g>\n",
       "  <g transform=\"translate(42.5,77.51)\">\n",
       "    <g class=\"primitive\">\n",
       "      <text text-anchor=\"middle\" dy=\"0.35em\">n2ocycle</text>\n",
       "    </g>\n",
       "  </g>\n",
       "  <g transform=\"translate(32.81,80.08)\">\n",
       "    <g class=\"primitive\">\n",
       "      <text text-anchor=\"middle\" dy=\"0.35em\">n2oforcing</text>\n",
       "    </g>\n",
       "  </g>\n",
       "  <g transform=\"translate(13.62,50.45)\">\n",
       "    <g class=\"primitive\">\n",
       "      <text text-anchor=\"middle\" dy=\"0.35em\">LGemissions</text>\n",
       "    </g>\n",
       "  </g>\n",
       "  <g transform=\"translate(32.35,55.33)\">\n",
       "    <g class=\"primitive\">\n",
       "      <text text-anchor=\"middle\" dy=\"0.35em\">LGcycle</text>\n",
       "    </g>\n",
       "  </g>\n",
       "  <g transform=\"translate(26.59,63.44)\">\n",
       "    <g class=\"primitive\">\n",
       "      <text text-anchor=\"middle\" dy=\"0.35em\">LGforcing</text>\n",
       "    </g>\n",
       "  </g>\n",
       "  <g transform=\"translate(68.35,67.94)\">\n",
       "    <g class=\"primitive\">\n",
       "      <text text-anchor=\"middle\" dy=\"0.35em\">SulphateForcing</text>\n",
       "    </g>\n",
       "  </g>\n",
       "  <g transform=\"translate(41.82,71.56)\">\n",
       "    <g class=\"primitive\">\n",
       "      <text text-anchor=\"middle\" dy=\"0.35em\">TotalForcing</text>\n",
       "    </g>\n",
       "  </g>\n",
       "  <g transform=\"translate(58.24,59.71)\">\n",
       "    <g class=\"primitive\">\n",
       "      <text text-anchor=\"middle\" dy=\"0.35em\">ClimateTemperature</text>\n",
       "    </g>\n",
       "  </g>\n",
       "  <g transform=\"translate(74.82,49.97)\">\n",
       "    <g class=\"primitive\">\n",
       "      <text text-anchor=\"middle\" dy=\"0.35em\">SeaLevelRise</text>\n",
       "    </g>\n",
       "  </g>\n",
       "  <g transform=\"translate(100.32,25.61)\">\n",
       "    <g class=\"primitive\">\n",
       "      <text text-anchor=\"middle\" dy=\"0.35em\">Population</text>\n",
       "    </g>\n",
       "  </g>\n",
       "  <g transform=\"translate(92.76,30.52)\">\n",
       "    <g class=\"primitive\">\n",
       "      <text text-anchor=\"middle\" dy=\"0.35em\">GDP</text>\n",
       "    </g>\n",
       "  </g>\n",
       "  <g transform=\"translate(96,13.78)\">\n",
       "    <g class=\"primitive\">\n",
       "      <text text-anchor=\"middle\" dy=\"0.35em\">AbatementCostParametersCO2</text>\n",
       "    </g>\n",
       "  </g>\n",
       "  <g transform=\"translate(107.19,16.6)\">\n",
       "    <g class=\"primitive\">\n",
       "      <text text-anchor=\"middle\" dy=\"0.35em\">AbatementCostParametersCH4</text>\n",
       "    </g>\n",
       "  </g>\n",
       "  <g transform=\"translate(117.07,26.3)\">\n",
       "    <g class=\"primitive\">\n",
       "      <text text-anchor=\"middle\" dy=\"0.35em\">AbatementCostParametersN2O</text>\n",
       "    </g>\n",
       "  </g>\n",
       "  <g transform=\"translate(116.54,33.98)\">\n",
       "    <g class=\"primitive\">\n",
       "      <text text-anchor=\"middle\" dy=\"0.35em\">AbatementCostParametersLin</text>\n",
       "    </g>\n",
       "  </g>\n",
       "  <g transform=\"translate(108.87,8.33)\">\n",
       "    <g class=\"primitive\">\n",
       "      <text text-anchor=\"middle\" dy=\"0.35em\">AbatementCostsCO2</text>\n",
       "    </g>\n",
       "  </g>\n",
       "  <g transform=\"translate(120.71,11.51)\">\n",
       "    <g class=\"primitive\">\n",
       "      <text text-anchor=\"middle\" dy=\"0.35em\">AbatementCostsCH4</text>\n",
       "    </g>\n",
       "  </g>\n",
       "  <g transform=\"translate(129.56,19.92)\">\n",
       "    <g class=\"primitive\">\n",
       "      <text text-anchor=\"middle\" dy=\"0.35em\">AbatementCostsN2O</text>\n",
       "    </g>\n",
       "  </g>\n",
       "  <g transform=\"translate(129.64,28.78)\">\n",
       "    <g class=\"primitive\">\n",
       "      <text text-anchor=\"middle\" dy=\"0.35em\">AbatementCostsLin</text>\n",
       "    </g>\n",
       "  </g>\n",
       "  <g transform=\"translate(111.45,22.9)\">\n",
       "    <g class=\"primitive\">\n",
       "      <text text-anchor=\"middle\" dy=\"0.35em\">TotalAbatementCosts</text>\n",
       "    </g>\n",
       "  </g>\n",
       "  <g transform=\"translate(84.16,22.79)\">\n",
       "    <g class=\"primitive\">\n",
       "      <text text-anchor=\"middle\" dy=\"0.35em\">AdaptiveCostsSeaLevel</text>\n",
       "    </g>\n",
       "  </g>\n",
       "  <g transform=\"translate(75.03,28.65)\">\n",
       "    <g class=\"primitive\">\n",
       "      <text text-anchor=\"middle\" dy=\"0.35em\">AdaptiveCostsEconomic</text>\n",
       "    </g>\n",
       "  </g>\n",
       "  <g transform=\"translate(78.35,33.87)\">\n",
       "    <g class=\"primitive\">\n",
       "      <text text-anchor=\"middle\" dy=\"0.35em\">AdaptiveCostsNonEconomic</text>\n",
       "    </g>\n",
       "  </g>\n",
       "  <g transform=\"translate(86.99,27.46)\">\n",
       "    <g class=\"primitive\">\n",
       "      <text text-anchor=\"middle\" dy=\"0.35em\">TotalAdaptationCosts</text>\n",
       "    </g>\n",
       "  </g>\n",
       "  <g transform=\"translate(88.97,34.75)\">\n",
       "    <g class=\"primitive\">\n",
       "      <text text-anchor=\"middle\" dy=\"0.35em\">SLRDamages</text>\n",
       "    </g>\n",
       "  </g>\n",
       "  <g transform=\"translate(73.52,40.38)\">\n",
       "    <g class=\"primitive\">\n",
       "      <text text-anchor=\"middle\" dy=\"0.35em\">MarketDamages</text>\n",
       "    </g>\n",
       "  </g>\n",
       "  <g transform=\"translate(74.36,44.08)\">\n",
       "    <g class=\"primitive\">\n",
       "      <text text-anchor=\"middle\" dy=\"0.35em\">NonMarketDamages</text>\n",
       "    </g>\n",
       "  </g>\n",
       "  <g transform=\"translate(82.2,45.05)\">\n",
       "    <g class=\"primitive\">\n",
       "      <text text-anchor=\"middle\" dy=\"0.35em\">Discontinuity</text>\n",
       "    </g>\n",
       "  </g>\n",
       "  <g transform=\"translate(98.31,33.44)\">\n",
       "    <g class=\"primitive\">\n",
       "      <text text-anchor=\"middle\" dy=\"0.35em\">EquityWeighting</text>\n",
       "    </g>\n",
       "  </g>\n",
       "</g>\n",
       "<script> <![CDATA[\n",
       "(function(N){var k=/[\\.\\/]/,L=/\\s*,\\s*/,C=function(a,d){return a-d},a,v,y={n:{}},M=function(){for(var a=0,d=this.length;a<d;a++)if(\"undefined\"!=typeof this[a])return this[a]},A=function(){for(var a=this.length;--a;)if(\"undefined\"!=typeof this[a])return this[a]},w=function(k,d){k=String(k);var f=v,n=Array.prototype.slice.call(arguments,2),u=w.listeners(k),p=0,b,q=[],e={},l=[],r=a;l.firstDefined=M;l.lastDefined=A;a=k;for(var s=v=0,x=u.length;s<x;s++)\"zIndex\"in u[s]&&(q.push(u[s].zIndex),0>u[s].zIndex&&\n",
       "(e[u[s].zIndex]=u[s]));for(q.sort(C);0>q[p];)if(b=e[q[p++] ],l.push(b.apply(d,n)),v)return v=f,l;for(s=0;s<x;s++)if(b=u[s],\"zIndex\"in b)if(b.zIndex==q[p]){l.push(b.apply(d,n));if(v)break;do if(p++,(b=e[q[p] ])&&l.push(b.apply(d,n)),v)break;while(b)}else e[b.zIndex]=b;else if(l.push(b.apply(d,n)),v)break;v=f;a=r;return l};w._events=y;w.listeners=function(a){a=a.split(k);var d=y,f,n,u,p,b,q,e,l=[d],r=[];u=0;for(p=a.length;u<p;u++){e=[];b=0;for(q=l.length;b<q;b++)for(d=l[b].n,f=[d[a[u] ],d[\"*\"] ],n=2;n--;)if(d=\n",
       "f[n])e.push(d),r=r.concat(d.f||[]);l=e}return r};w.on=function(a,d){a=String(a);if(\"function\"!=typeof d)return function(){};for(var f=a.split(L),n=0,u=f.length;n<u;n++)(function(a){a=a.split(k);for(var b=y,f,e=0,l=a.length;e<l;e++)b=b.n,b=b.hasOwnProperty(a[e])&&b[a[e] ]||(b[a[e] ]={n:{}});b.f=b.f||[];e=0;for(l=b.f.length;e<l;e++)if(b.f[e]==d){f=!0;break}!f&&b.f.push(d)})(f[n]);return function(a){+a==+a&&(d.zIndex=+a)}};w.f=function(a){var d=[].slice.call(arguments,1);return function(){w.apply(null,\n",
       "[a,null].concat(d).concat([].slice.call(arguments,0)))}};w.stop=function(){v=1};w.nt=function(k){return k?(new RegExp(\"(?:\\\\.|\\\\/|^)\"+k+\"(?:\\\\.|\\\\/|$)\")).test(a):a};w.nts=function(){return a.split(k)};w.off=w.unbind=function(a,d){if(a){var f=a.split(L);if(1<f.length)for(var n=0,u=f.length;n<u;n++)w.off(f[n],d);else{for(var f=a.split(k),p,b,q,e,l=[y],n=0,u=f.length;n<u;n++)for(e=0;e<l.length;e+=q.length-2){q=[e,1];p=l[e].n;if(\"*\"!=f[n])p[f[n] ]&&q.push(p[f[n] ]);else for(b in p)p.hasOwnProperty(b)&&\n",
       "q.push(p[b]);l.splice.apply(l,q)}n=0;for(u=l.length;n<u;n++)for(p=l[n];p.n;){if(d){if(p.f){e=0;for(f=p.f.length;e<f;e++)if(p.f[e]==d){p.f.splice(e,1);break}!p.f.length&&delete p.f}for(b in p.n)if(p.n.hasOwnProperty(b)&&p.n[b].f){q=p.n[b].f;e=0;for(f=q.length;e<f;e++)if(q[e]==d){q.splice(e,1);break}!q.length&&delete p.n[b].f}}else for(b in delete p.f,p.n)p.n.hasOwnProperty(b)&&p.n[b].f&&delete p.n[b].f;p=p.n}}}else w._events=y={n:{}}};w.once=function(a,d){var f=function(){w.unbind(a,f);return d.apply(this,\n",
       "arguments)};return w.on(a,f)};w.version=\"0.4.2\";w.toString=function(){return\"You are running Eve 0.4.2\"};\"undefined\"!=typeof module&&module.exports?module.exports=w:\"function\"===typeof define&&define.amd?define(\"eve\",[],function(){return w}):N.eve=w})(this);\n",
       "(function(N,k){\"function\"===typeof define&&define.amd?define(\"Snap.svg\",[\"eve\"],function(L){return k(N,L)}):k(N,N.eve)})(this,function(N,k){var L=function(a){var k={},y=N.requestAnimationFrame||N.webkitRequestAnimationFrame||N.mozRequestAnimationFrame||N.oRequestAnimationFrame||N.msRequestAnimationFrame||function(a){setTimeout(a,16)},M=Array.isArray||function(a){return a instanceof Array||\"[object Array]\"==Object.prototype.toString.call(a)},A=0,w=\"M\"+(+new Date).toString(36),z=function(a){if(null==\n",
       "a)return this.s;var b=this.s-a;this.b+=this.dur*b;this.B+=this.dur*b;this.s=a},d=function(a){if(null==a)return this.spd;this.spd=a},f=function(a){if(null==a)return this.dur;this.s=this.s*a/this.dur;this.dur=a},n=function(){delete k[this.id];this.update();a(\"mina.stop.\"+this.id,this)},u=function(){this.pdif||(delete k[this.id],this.update(),this.pdif=this.get()-this.b)},p=function(){this.pdif&&(this.b=this.get()-this.pdif,delete this.pdif,k[this.id]=this)},b=function(){var a;if(M(this.start)){a=[];\n",
       "for(var b=0,e=this.start.length;b<e;b++)a[b]=+this.start[b]+(this.end[b]-this.start[b])*this.easing(this.s)}else a=+this.start+(this.end-this.start)*this.easing(this.s);this.set(a)},q=function(){var l=0,b;for(b in k)if(k.hasOwnProperty(b)){var e=k[b],f=e.get();l++;e.s=(f-e.b)/(e.dur/e.spd);1<=e.s&&(delete k[b],e.s=1,l--,function(b){setTimeout(function(){a(\"mina.finish.\"+b.id,b)})}(e));e.update()}l&&y(q)},e=function(a,r,s,x,G,h,J){a={id:w+(A++).toString(36),start:a,end:r,b:s,s:0,dur:x-s,spd:1,get:G,\n",
       "set:h,easing:J||e.linear,status:z,speed:d,duration:f,stop:n,pause:u,resume:p,update:b};k[a.id]=a;r=0;for(var K in k)if(k.hasOwnProperty(K)&&(r++,2==r))break;1==r&&y(q);return a};e.time=Date.now||function(){return+new Date};e.getById=function(a){return k[a]||null};e.linear=function(a){return a};e.easeout=function(a){return Math.pow(a,1.7)};e.easein=function(a){return Math.pow(a,0.48)};e.easeinout=function(a){if(1==a)return 1;if(0==a)return 0;var b=0.48-a/1.04,e=Math.sqrt(0.1734+b*b);a=e-b;a=Math.pow(Math.abs(a),\n",
       "1/3)*(0>a?-1:1);b=-e-b;b=Math.pow(Math.abs(b),1/3)*(0>b?-1:1);a=a+b+0.5;return 3*(1-a)*a*a+a*a*a};e.backin=function(a){return 1==a?1:a*a*(2.70158*a-1.70158)};e.backout=function(a){if(0==a)return 0;a-=1;return a*a*(2.70158*a+1.70158)+1};e.elastic=function(a){return a==!!a?a:Math.pow(2,-10*a)*Math.sin(2*(a-0.075)*Math.PI/0.3)+1};e.bounce=function(a){a<1/2.75?a*=7.5625*a:a<2/2.75?(a-=1.5/2.75,a=7.5625*a*a+0.75):a<2.5/2.75?(a-=2.25/2.75,a=7.5625*a*a+0.9375):(a-=2.625/2.75,a=7.5625*a*a+0.984375);return a};\n",
       "return N.mina=e}(\"undefined\"==typeof k?function(){}:k),C=function(){function a(c,t){if(c){if(c.tagName)return x(c);if(y(c,\"array\")&&a.set)return a.set.apply(a,c);if(c instanceof e)return c;if(null==t)return c=G.doc.querySelector(c),x(c)}return new s(null==c?\"100%\":c,null==t?\"100%\":t)}function v(c,a){if(a){\"#text\"==c&&(c=G.doc.createTextNode(a.text||\"\"));\"string\"==typeof c&&(c=v(c));if(\"string\"==typeof a)return\"xlink:\"==a.substring(0,6)?c.getAttributeNS(m,a.substring(6)):\"xml:\"==a.substring(0,4)?c.getAttributeNS(la,\n",
       "a.substring(4)):c.getAttribute(a);for(var da in a)if(a[h](da)){var b=J(a[da]);b?\"xlink:\"==da.substring(0,6)?c.setAttributeNS(m,da.substring(6),b):\"xml:\"==da.substring(0,4)?c.setAttributeNS(la,da.substring(4),b):c.setAttribute(da,b):c.removeAttribute(da)}}else c=G.doc.createElementNS(la,c);return c}function y(c,a){a=J.prototype.toLowerCase.call(a);return\"finite\"==a?isFinite(c):\"array\"==a&&(c instanceof Array||Array.isArray&&Array.isArray(c))?!0:\"null\"==a&&null===c||a==typeof c&&null!==c||\"object\"==\n",
       "a&&c===Object(c)||$.call(c).slice(8,-1).toLowerCase()==a}function M(c){if(\"function\"==typeof c||Object(c)!==c)return c;var a=new c.constructor,b;for(b in c)c[h](b)&&(a[b]=M(c[b]));return a}function A(c,a,b){function m(){var e=Array.prototype.slice.call(arguments,0),f=e.join(\"\\u2400\"),d=m.cache=m.cache||{},l=m.count=m.count||[];if(d[h](f)){a:for(var e=l,l=f,B=0,H=e.length;B<H;B++)if(e[B]===l){e.push(e.splice(B,1)[0]);break a}return b?b(d[f]):d[f]}1E3<=l.length&&delete d[l.shift()];l.push(f);d[f]=c.apply(a,\n",
       "e);return b?b(d[f]):d[f]}return m}function w(c,a,b,m,e,f){return null==e?(c-=b,a-=m,c||a?(180*I.atan2(-a,-c)/C+540)%360:0):w(c,a,e,f)-w(b,m,e,f)}function z(c){return c%360*C/180}function d(c){var a=[];c=c.replace(/(?:^|\\s)(\\w+)\\(([^)]+)\\)/g,function(c,b,m){m=m.split(/\\s*,\\s*|\\s+/);\"rotate\"==b&&1==m.length&&m.push(0,0);\"scale\"==b&&(2<m.length?m=m.slice(0,2):2==m.length&&m.push(0,0),1==m.length&&m.push(m[0],0,0));\"skewX\"==b?a.push([\"m\",1,0,I.tan(z(m[0])),1,0,0]):\"skewY\"==b?a.push([\"m\",1,I.tan(z(m[0])),\n",
       "0,1,0,0]):a.push([b.charAt(0)].concat(m));return c});return a}function f(c,t){var b=O(c),m=new a.Matrix;if(b)for(var e=0,f=b.length;e<f;e++){var h=b[e],d=h.length,B=J(h[0]).toLowerCase(),H=h[0]!=B,l=H?m.invert():0,E;\"t\"==B&&2==d?m.translate(h[1],0):\"t\"==B&&3==d?H?(d=l.x(0,0),B=l.y(0,0),H=l.x(h[1],h[2]),l=l.y(h[1],h[2]),m.translate(H-d,l-B)):m.translate(h[1],h[2]):\"r\"==B?2==d?(E=E||t,m.rotate(h[1],E.x+E.width/2,E.y+E.height/2)):4==d&&(H?(H=l.x(h[2],h[3]),l=l.y(h[2],h[3]),m.rotate(h[1],H,l)):m.rotate(h[1],\n",
       "h[2],h[3])):\"s\"==B?2==d||3==d?(E=E||t,m.scale(h[1],h[d-1],E.x+E.width/2,E.y+E.height/2)):4==d?H?(H=l.x(h[2],h[3]),l=l.y(h[2],h[3]),m.scale(h[1],h[1],H,l)):m.scale(h[1],h[1],h[2],h[3]):5==d&&(H?(H=l.x(h[3],h[4]),l=l.y(h[3],h[4]),m.scale(h[1],h[2],H,l)):m.scale(h[1],h[2],h[3],h[4])):\"m\"==B&&7==d&&m.add(h[1],h[2],h[3],h[4],h[5],h[6])}return m}function n(c,t){if(null==t){var m=!0;t=\"linearGradient\"==c.type||\"radialGradient\"==c.type?c.node.getAttribute(\"gradientTransform\"):\"pattern\"==c.type?c.node.getAttribute(\"patternTransform\"):\n",
       "c.node.getAttribute(\"transform\");if(!t)return new a.Matrix;t=d(t)}else t=a._.rgTransform.test(t)?J(t).replace(/\\.{3}|\\u2026/g,c._.transform||aa):d(t),y(t,\"array\")&&(t=a.path?a.path.toString.call(t):J(t)),c._.transform=t;var b=f(t,c.getBBox(1));if(m)return b;c.matrix=b}function u(c){c=c.node.ownerSVGElement&&x(c.node.ownerSVGElement)||c.node.parentNode&&x(c.node.parentNode)||a.select(\"svg\")||a(0,0);var t=c.select(\"defs\"),t=null==t?!1:t.node;t||(t=r(\"defs\",c.node).node);return t}function p(c){return c.node.ownerSVGElement&&\n",
       "x(c.node.ownerSVGElement)||a.select(\"svg\")}function b(c,a,m){function b(c){if(null==c)return aa;if(c==+c)return c;v(B,{width:c});try{return B.getBBox().width}catch(a){return 0}}function h(c){if(null==c)return aa;if(c==+c)return c;v(B,{height:c});try{return B.getBBox().height}catch(a){return 0}}function e(b,B){null==a?d[b]=B(c.attr(b)||0):b==a&&(d=B(null==m?c.attr(b)||0:m))}var f=p(c).node,d={},B=f.querySelector(\".svg---mgr\");B||(B=v(\"rect\"),v(B,{x:-9E9,y:-9E9,width:10,height:10,\"class\":\"svg---mgr\",\n",
       "fill:\"none\"}),f.appendChild(B));switch(c.type){case \"rect\":e(\"rx\",b),e(\"ry\",h);case \"image\":e(\"width\",b),e(\"height\",h);case \"text\":e(\"x\",b);e(\"y\",h);break;case \"circle\":e(\"cx\",b);e(\"cy\",h);e(\"r\",b);break;case \"ellipse\":e(\"cx\",b);e(\"cy\",h);e(\"rx\",b);e(\"ry\",h);break;case \"line\":e(\"x1\",b);e(\"x2\",b);e(\"y1\",h);e(\"y2\",h);break;case \"marker\":e(\"refX\",b);e(\"markerWidth\",b);e(\"refY\",h);e(\"markerHeight\",h);break;case \"radialGradient\":e(\"fx\",b);e(\"fy\",h);break;case \"tspan\":e(\"dx\",b);e(\"dy\",h);break;default:e(a,\n",
       "b)}f.removeChild(B);return d}function q(c){y(c,\"array\")||(c=Array.prototype.slice.call(arguments,0));for(var a=0,b=0,m=this.node;this[a];)delete this[a++];for(a=0;a<c.length;a++)\"set\"==c[a].type?c[a].forEach(function(c){m.appendChild(c.node)}):m.appendChild(c[a].node);for(var h=m.childNodes,a=0;a<h.length;a++)this[b++]=x(h[a]);return this}function e(c){if(c.snap in E)return E[c.snap];var a=this.id=V(),b;try{b=c.ownerSVGElement}catch(m){}this.node=c;b&&(this.paper=new s(b));this.type=c.tagName;this.anims=\n",
       "{};this._={transform:[]};c.snap=a;E[a]=this;\"g\"==this.type&&(this.add=q);if(this.type in{g:1,mask:1,pattern:1})for(var e in s.prototype)s.prototype[h](e)&&(this[e]=s.prototype[e])}function l(c){this.node=c}function r(c,a){var b=v(c);a.appendChild(b);return x(b)}function s(c,a){var b,m,f,d=s.prototype;if(c&&\"svg\"==c.tagName){if(c.snap in E)return E[c.snap];var l=c.ownerDocument;b=new e(c);m=c.getElementsByTagName(\"desc\")[0];f=c.getElementsByTagName(\"defs\")[0];m||(m=v(\"desc\"),m.appendChild(l.createTextNode(\"Created with Snap\")),\n",
       "b.node.appendChild(m));f||(f=v(\"defs\"),b.node.appendChild(f));b.defs=f;for(var ca in d)d[h](ca)&&(b[ca]=d[ca]);b.paper=b.root=b}else b=r(\"svg\",G.doc.body),v(b.node,{height:a,version:1.1,width:c,xmlns:la});return b}function x(c){return!c||c instanceof e||c instanceof l?c:c.tagName&&\"svg\"==c.tagName.toLowerCase()?new s(c):c.tagName&&\"object\"==c.tagName.toLowerCase()&&\"image/svg+xml\"==c.type?new s(c.contentDocument.getElementsByTagName(\"svg\")[0]):new e(c)}a.version=\"0.3.0\";a.toString=function(){return\"Snap v\"+\n",
       "this.version};a._={};var G={win:N,doc:N.document};a._.glob=G;var h=\"hasOwnProperty\",J=String,K=parseFloat,U=parseInt,I=Math,P=I.max,Q=I.min,Y=I.abs,C=I.PI,aa=\"\",$=Object.prototype.toString,F=/^\\s*((#[a-f\\d]{6})|(#[a-f\\d]{3})|rgba?\\(\\s*([\\d\\.]+%?\\s*,\\s*[\\d\\.]+%?\\s*,\\s*[\\d\\.]+%?(?:\\s*,\\s*[\\d\\.]+%?)?)\\s*\\)|hsba?\\(\\s*([\\d\\.]+(?:deg|\\xb0|%)?\\s*,\\s*[\\d\\.]+%?\\s*,\\s*[\\d\\.]+(?:%?\\s*,\\s*[\\d\\.]+)?%?)\\s*\\)|hsla?\\(\\s*([\\d\\.]+(?:deg|\\xb0|%)?\\s*,\\s*[\\d\\.]+%?\\s*,\\s*[\\d\\.]+(?:%?\\s*,\\s*[\\d\\.]+)?%?)\\s*\\))\\s*$/i;a._.separator=\n",
       "RegExp(\"[,\\t\\n\\x0B\\f\\r \\u00a0\\u1680\\u180e\\u2000\\u2001\\u2002\\u2003\\u2004\\u2005\\u2006\\u2007\\u2008\\u2009\\u200a\\u202f\\u205f\\u3000\\u2028\\u2029]+\");var S=RegExp(\"[\\t\\n\\x0B\\f\\r \\u00a0\\u1680\\u180e\\u2000\\u2001\\u2002\\u2003\\u2004\\u2005\\u2006\\u2007\\u2008\\u2009\\u200a\\u202f\\u205f\\u3000\\u2028\\u2029]*,[\\t\\n\\x0B\\f\\r \\u00a0\\u1680\\u180e\\u2000\\u2001\\u2002\\u2003\\u2004\\u2005\\u2006\\u2007\\u2008\\u2009\\u200a\\u202f\\u205f\\u3000\\u2028\\u2029]*\"),X={hs:1,rg:1},W=RegExp(\"([a-z])[\\t\\n\\x0B\\f\\r \\u00a0\\u1680\\u180e\\u2000\\u2001\\u2002\\u2003\\u2004\\u2005\\u2006\\u2007\\u2008\\u2009\\u200a\\u202f\\u205f\\u3000\\u2028\\u2029,]*((-?\\\\d*\\\\.?\\\\d*(?:e[\\\\-+]?\\\\d+)?[\\t\\n\\x0B\\f\\r \\u00a0\\u1680\\u180e\\u2000\\u2001\\u2002\\u2003\\u2004\\u2005\\u2006\\u2007\\u2008\\u2009\\u200a\\u202f\\u205f\\u3000\\u2028\\u2029]*,?[\\t\\n\\x0B\\f\\r \\u00a0\\u1680\\u180e\\u2000\\u2001\\u2002\\u2003\\u2004\\u2005\\u2006\\u2007\\u2008\\u2009\\u200a\\u202f\\u205f\\u3000\\u2028\\u2029]*)+)\",\n",
       "\"ig\"),ma=RegExp(\"([rstm])[\\t\\n\\x0B\\f\\r \\u00a0\\u1680\\u180e\\u2000\\u2001\\u2002\\u2003\\u2004\\u2005\\u2006\\u2007\\u2008\\u2009\\u200a\\u202f\\u205f\\u3000\\u2028\\u2029,]*((-?\\\\d*\\\\.?\\\\d*(?:e[\\\\-+]?\\\\d+)?[\\t\\n\\x0B\\f\\r \\u00a0\\u1680\\u180e\\u2000\\u2001\\u2002\\u2003\\u2004\\u2005\\u2006\\u2007\\u2008\\u2009\\u200a\\u202f\\u205f\\u3000\\u2028\\u2029]*,?[\\t\\n\\x0B\\f\\r \\u00a0\\u1680\\u180e\\u2000\\u2001\\u2002\\u2003\\u2004\\u2005\\u2006\\u2007\\u2008\\u2009\\u200a\\u202f\\u205f\\u3000\\u2028\\u2029]*)+)\",\"ig\"),Z=RegExp(\"(-?\\\\d*\\\\.?\\\\d*(?:e[\\\\-+]?\\\\d+)?)[\\t\\n\\x0B\\f\\r \\u00a0\\u1680\\u180e\\u2000\\u2001\\u2002\\u2003\\u2004\\u2005\\u2006\\u2007\\u2008\\u2009\\u200a\\u202f\\u205f\\u3000\\u2028\\u2029]*,?[\\t\\n\\x0B\\f\\r \\u00a0\\u1680\\u180e\\u2000\\u2001\\u2002\\u2003\\u2004\\u2005\\u2006\\u2007\\u2008\\u2009\\u200a\\u202f\\u205f\\u3000\\u2028\\u2029]*\",\n",
       "\"ig\"),na=0,ba=\"S\"+(+new Date).toString(36),V=function(){return ba+(na++).toString(36)},m=\"http://www.w3.org/1999/xlink\",la=\"http://www.w3.org/2000/svg\",E={},ca=a.url=function(c){return\"url('#\"+c+\"')\"};a._.$=v;a._.id=V;a.format=function(){var c=/\\{([^\\}]+)\\}/g,a=/(?:(?:^|\\.)(.+?)(?=\\[|\\.|$|\\()|\\[('|\")(.+?)\\2\\])(\\(\\))?/g,b=function(c,b,m){var h=m;b.replace(a,function(c,a,b,m,t){a=a||m;h&&(a in h&&(h=h[a]),\"function\"==typeof h&&t&&(h=h()))});return h=(null==h||h==m?c:h)+\"\"};return function(a,m){return J(a).replace(c,\n",
       "function(c,a){return b(c,a,m)})}}();a._.clone=M;a._.cacher=A;a.rad=z;a.deg=function(c){return 180*c/C%360};a.angle=w;a.is=y;a.snapTo=function(c,a,b){b=y(b,\"finite\")?b:10;if(y(c,\"array\"))for(var m=c.length;m--;){if(Y(c[m]-a)<=b)return c[m]}else{c=+c;m=a%c;if(m<b)return a-m;if(m>c-b)return a-m+c}return a};a.getRGB=A(function(c){if(!c||(c=J(c)).indexOf(\"-\")+1)return{r:-1,g:-1,b:-1,hex:\"none\",error:1,toString:ka};if(\"none\"==c)return{r:-1,g:-1,b:-1,hex:\"none\",toString:ka};!X[h](c.toLowerCase().substring(0,\n",
       "2))&&\"#\"!=c.charAt()&&(c=T(c));if(!c)return{r:-1,g:-1,b:-1,hex:\"none\",error:1,toString:ka};var b,m,e,f,d;if(c=c.match(F)){c[2]&&(e=U(c[2].substring(5),16),m=U(c[2].substring(3,5),16),b=U(c[2].substring(1,3),16));c[3]&&(e=U((d=c[3].charAt(3))+d,16),m=U((d=c[3].charAt(2))+d,16),b=U((d=c[3].charAt(1))+d,16));c[4]&&(d=c[4].split(S),b=K(d[0]),\"%\"==d[0].slice(-1)&&(b*=2.55),m=K(d[1]),\"%\"==d[1].slice(-1)&&(m*=2.55),e=K(d[2]),\"%\"==d[2].slice(-1)&&(e*=2.55),\"rgba\"==c[1].toLowerCase().slice(0,4)&&(f=K(d[3])),\n",
       "d[3]&&\"%\"==d[3].slice(-1)&&(f/=100));if(c[5])return d=c[5].split(S),b=K(d[0]),\"%\"==d[0].slice(-1)&&(b/=100),m=K(d[1]),\"%\"==d[1].slice(-1)&&(m/=100),e=K(d[2]),\"%\"==d[2].slice(-1)&&(e/=100),\"deg\"!=d[0].slice(-3)&&\"\\u00b0\"!=d[0].slice(-1)||(b/=360),\"hsba\"==c[1].toLowerCase().slice(0,4)&&(f=K(d[3])),d[3]&&\"%\"==d[3].slice(-1)&&(f/=100),a.hsb2rgb(b,m,e,f);if(c[6])return d=c[6].split(S),b=K(d[0]),\"%\"==d[0].slice(-1)&&(b/=100),m=K(d[1]),\"%\"==d[1].slice(-1)&&(m/=100),e=K(d[2]),\"%\"==d[2].slice(-1)&&(e/=100),\n",
       "\"deg\"!=d[0].slice(-3)&&\"\\u00b0\"!=d[0].slice(-1)||(b/=360),\"hsla\"==c[1].toLowerCase().slice(0,4)&&(f=K(d[3])),d[3]&&\"%\"==d[3].slice(-1)&&(f/=100),a.hsl2rgb(b,m,e,f);b=Q(I.round(b),255);m=Q(I.round(m),255);e=Q(I.round(e),255);f=Q(P(f,0),1);c={r:b,g:m,b:e,toString:ka};c.hex=\"#\"+(16777216|e|m<<8|b<<16).toString(16).slice(1);c.opacity=y(f,\"finite\")?f:1;return c}return{r:-1,g:-1,b:-1,hex:\"none\",error:1,toString:ka}},a);a.hsb=A(function(c,b,m){return a.hsb2rgb(c,b,m).hex});a.hsl=A(function(c,b,m){return a.hsl2rgb(c,\n",
       "b,m).hex});a.rgb=A(function(c,a,b,m){if(y(m,\"finite\")){var e=I.round;return\"rgba(\"+[e(c),e(a),e(b),+m.toFixed(2)]+\")\"}return\"#\"+(16777216|b|a<<8|c<<16).toString(16).slice(1)});var T=function(c){var a=G.doc.getElementsByTagName(\"head\")[0]||G.doc.getElementsByTagName(\"svg\")[0];T=A(function(c){if(\"red\"==c.toLowerCase())return\"rgb(255, 0, 0)\";a.style.color=\"rgb(255, 0, 0)\";a.style.color=c;c=G.doc.defaultView.getComputedStyle(a,aa).getPropertyValue(\"color\");return\"rgb(255, 0, 0)\"==c?null:c});return T(c)},\n",
       "qa=function(){return\"hsb(\"+[this.h,this.s,this.b]+\")\"},ra=function(){return\"hsl(\"+[this.h,this.s,this.l]+\")\"},ka=function(){return 1==this.opacity||null==this.opacity?this.hex:\"rgba(\"+[this.r,this.g,this.b,this.opacity]+\")\"},D=function(c,b,m){null==b&&y(c,\"object\")&&\"r\"in c&&\"g\"in c&&\"b\"in c&&(m=c.b,b=c.g,c=c.r);null==b&&y(c,string)&&(m=a.getRGB(c),c=m.r,b=m.g,m=m.b);if(1<c||1<b||1<m)c/=255,b/=255,m/=255;return[c,b,m]},oa=function(c,b,m,e){c=I.round(255*c);b=I.round(255*b);m=I.round(255*m);c={r:c,\n",
       "g:b,b:m,opacity:y(e,\"finite\")?e:1,hex:a.rgb(c,b,m),toString:ka};y(e,\"finite\")&&(c.opacity=e);return c};a.color=function(c){var b;y(c,\"object\")&&\"h\"in c&&\"s\"in c&&\"b\"in c?(b=a.hsb2rgb(c),c.r=b.r,c.g=b.g,c.b=b.b,c.opacity=1,c.hex=b.hex):y(c,\"object\")&&\"h\"in c&&\"s\"in c&&\"l\"in c?(b=a.hsl2rgb(c),c.r=b.r,c.g=b.g,c.b=b.b,c.opacity=1,c.hex=b.hex):(y(c,\"string\")&&(c=a.getRGB(c)),y(c,\"object\")&&\"r\"in c&&\"g\"in c&&\"b\"in c&&!(\"error\"in c)?(b=a.rgb2hsl(c),c.h=b.h,c.s=b.s,c.l=b.l,b=a.rgb2hsb(c),c.v=b.b):(c={hex:\"none\"},\n",
       "c.r=c.g=c.b=c.h=c.s=c.v=c.l=-1,c.error=1));c.toString=ka;return c};a.hsb2rgb=function(c,a,b,m){y(c,\"object\")&&\"h\"in c&&\"s\"in c&&\"b\"in c&&(b=c.b,a=c.s,c=c.h,m=c.o);var e,h,d;c=360*c%360/60;d=b*a;a=d*(1-Y(c%2-1));b=e=h=b-d;c=~~c;b+=[d,a,0,0,a,d][c];e+=[a,d,d,a,0,0][c];h+=[0,0,a,d,d,a][c];return oa(b,e,h,m)};a.hsl2rgb=function(c,a,b,m){y(c,\"object\")&&\"h\"in c&&\"s\"in c&&\"l\"in c&&(b=c.l,a=c.s,c=c.h);if(1<c||1<a||1<b)c/=360,a/=100,b/=100;var e,h,d;c=360*c%360/60;d=2*a*(0.5>b?b:1-b);a=d*(1-Y(c%2-1));b=e=\n",
       "h=b-d/2;c=~~c;b+=[d,a,0,0,a,d][c];e+=[a,d,d,a,0,0][c];h+=[0,0,a,d,d,a][c];return oa(b,e,h,m)};a.rgb2hsb=function(c,a,b){b=D(c,a,b);c=b[0];a=b[1];b=b[2];var m,e;m=P(c,a,b);e=m-Q(c,a,b);c=((0==e?0:m==c?(a-b)/e:m==a?(b-c)/e+2:(c-a)/e+4)+360)%6*60/360;return{h:c,s:0==e?0:e/m,b:m,toString:qa}};a.rgb2hsl=function(c,a,b){b=D(c,a,b);c=b[0];a=b[1];b=b[2];var m,e,h;m=P(c,a,b);e=Q(c,a,b);h=m-e;c=((0==h?0:m==c?(a-b)/h:m==a?(b-c)/h+2:(c-a)/h+4)+360)%6*60/360;m=(m+e)/2;return{h:c,s:0==h?0:0.5>m?h/(2*m):h/(2-2*\n",
       "m),l:m,toString:ra}};a.parsePathString=function(c){if(!c)return null;var b=a.path(c);if(b.arr)return a.path.clone(b.arr);var m={a:7,c:6,o:2,h:1,l:2,m:2,r:4,q:4,s:4,t:2,v:1,u:3,z:0},e=[];y(c,\"array\")&&y(c[0],\"array\")&&(e=a.path.clone(c));e.length||J(c).replace(W,function(c,a,b){var h=[];c=a.toLowerCase();b.replace(Z,function(c,a){a&&h.push(+a)});\"m\"==c&&2<h.length&&(e.push([a].concat(h.splice(0,2))),c=\"l\",a=\"m\"==a?\"l\":\"L\");\"o\"==c&&1==h.length&&e.push([a,h[0] ]);if(\"r\"==c)e.push([a].concat(h));else for(;h.length>=\n",
       "m[c]&&(e.push([a].concat(h.splice(0,m[c]))),m[c]););});e.toString=a.path.toString;b.arr=a.path.clone(e);return e};var O=a.parseTransformString=function(c){if(!c)return null;var b=[];y(c,\"array\")&&y(c[0],\"array\")&&(b=a.path.clone(c));b.length||J(c).replace(ma,function(c,a,m){var e=[];a.toLowerCase();m.replace(Z,function(c,a){a&&e.push(+a)});b.push([a].concat(e))});b.toString=a.path.toString;return b};a._.svgTransform2string=d;a._.rgTransform=RegExp(\"^[a-z][\\t\\n\\x0B\\f\\r \\u00a0\\u1680\\u180e\\u2000\\u2001\\u2002\\u2003\\u2004\\u2005\\u2006\\u2007\\u2008\\u2009\\u200a\\u202f\\u205f\\u3000\\u2028\\u2029]*-?\\\\.?\\\\d\",\n",
       "\"i\");a._.transform2matrix=f;a._unit2px=b;a._.getSomeDefs=u;a._.getSomeSVG=p;a.select=function(c){return x(G.doc.querySelector(c))};a.selectAll=function(c){c=G.doc.querySelectorAll(c);for(var b=(a.set||Array)(),m=0;m<c.length;m++)b.push(x(c[m]));return b};setInterval(function(){for(var c in E)if(E[h](c)){var a=E[c],b=a.node;(\"svg\"!=a.type&&!b.ownerSVGElement||\"svg\"==a.type&&(!b.parentNode||\"ownerSVGElement\"in b.parentNode&&!b.ownerSVGElement))&&delete E[c]}},1E4);(function(c){function m(c){function a(c,\n",
       "b){var m=v(c.node,b);(m=(m=m&&m.match(d))&&m[2])&&\"#\"==m.charAt()&&(m=m.substring(1))&&(f[m]=(f[m]||[]).concat(function(a){var m={};m[b]=ca(a);v(c.node,m)}))}function b(c){var a=v(c.node,\"xlink:href\");a&&\"#\"==a.charAt()&&(a=a.substring(1))&&(f[a]=(f[a]||[]).concat(function(a){c.attr(\"xlink:href\",\"#\"+a)}))}var e=c.selectAll(\"*\"),h,d=/^\\s*url\\((\"|'|)(.*)\\1\\)\\s*$/;c=[];for(var f={},l=0,E=e.length;l<E;l++){h=e[l];a(h,\"fill\");a(h,\"stroke\");a(h,\"filter\");a(h,\"mask\");a(h,\"clip-path\");b(h);var t=v(h.node,\n",
       "\"id\");t&&(v(h.node,{id:h.id}),c.push({old:t,id:h.id}))}l=0;for(E=c.length;l<E;l++)if(e=f[c[l].old])for(h=0,t=e.length;h<t;h++)e[h](c[l].id)}function e(c,a,b){return function(m){m=m.slice(c,a);1==m.length&&(m=m[0]);return b?b(m):m}}function d(c){return function(){var a=c?\"<\"+this.type:\"\",b=this.node.attributes,m=this.node.childNodes;if(c)for(var e=0,h=b.length;e<h;e++)a+=\" \"+b[e].name+'=\"'+b[e].value.replace(/\"/g,'\\\\\"')+'\"';if(m.length){c&&(a+=\">\");e=0;for(h=m.length;e<h;e++)3==m[e].nodeType?a+=m[e].nodeValue:\n",
       "1==m[e].nodeType&&(a+=x(m[e]).toString());c&&(a+=\"</\"+this.type+\">\")}else c&&(a+=\"/>\");return a}}c.attr=function(c,a){if(!c)return this;if(y(c,\"string\"))if(1<arguments.length){var b={};b[c]=a;c=b}else return k(\"snap.util.getattr.\"+c,this).firstDefined();for(var m in c)c[h](m)&&k(\"snap.util.attr.\"+m,this,c[m]);return this};c.getBBox=function(c){if(!a.Matrix||!a.path)return this.node.getBBox();var b=this,m=new a.Matrix;if(b.removed)return a._.box();for(;\"use\"==b.type;)if(c||(m=m.add(b.transform().localMatrix.translate(b.attr(\"x\")||\n",
       "0,b.attr(\"y\")||0))),b.original)b=b.original;else var e=b.attr(\"xlink:href\"),b=b.original=b.node.ownerDocument.getElementById(e.substring(e.indexOf(\"#\")+1));var e=b._,h=a.path.get[b.type]||a.path.get.deflt;try{if(c)return e.bboxwt=h?a.path.getBBox(b.realPath=h(b)):a._.box(b.node.getBBox()),a._.box(e.bboxwt);b.realPath=h(b);b.matrix=b.transform().localMatrix;e.bbox=a.path.getBBox(a.path.map(b.realPath,m.add(b.matrix)));return a._.box(e.bbox)}catch(d){return a._.box()}};var f=function(){return this.string};\n",
       "c.transform=function(c){var b=this._;if(null==c){var m=this;c=new a.Matrix(this.node.getCTM());for(var e=n(this),h=[e],d=new a.Matrix,l=e.toTransformString(),b=J(e)==J(this.matrix)?J(b.transform):l;\"svg\"!=m.type&&(m=m.parent());)h.push(n(m));for(m=h.length;m--;)d.add(h[m]);return{string:b,globalMatrix:c,totalMatrix:d,localMatrix:e,diffMatrix:c.clone().add(e.invert()),global:c.toTransformString(),total:d.toTransformString(),local:l,toString:f}}c instanceof a.Matrix?this.matrix=c:n(this,c);this.node&&\n",
       "(\"linearGradient\"==this.type||\"radialGradient\"==this.type?v(this.node,{gradientTransform:this.matrix}):\"pattern\"==this.type?v(this.node,{patternTransform:this.matrix}):v(this.node,{transform:this.matrix}));return this};c.parent=function(){return x(this.node.parentNode)};c.append=c.add=function(c){if(c){if(\"set\"==c.type){var a=this;c.forEach(function(c){a.add(c)});return this}c=x(c);this.node.appendChild(c.node);c.paper=this.paper}return this};c.appendTo=function(c){c&&(c=x(c),c.append(this));return this};\n",
       "c.prepend=function(c){if(c){if(\"set\"==c.type){var a=this,b;c.forEach(function(c){b?b.after(c):a.prepend(c);b=c});return this}c=x(c);var m=c.parent();this.node.insertBefore(c.node,this.node.firstChild);this.add&&this.add();c.paper=this.paper;this.parent()&&this.parent().add();m&&m.add()}return this};c.prependTo=function(c){c=x(c);c.prepend(this);return this};c.before=function(c){if(\"set\"==c.type){var a=this;c.forEach(function(c){var b=c.parent();a.node.parentNode.insertBefore(c.node,a.node);b&&b.add()});\n",
       "this.parent().add();return this}c=x(c);var b=c.parent();this.node.parentNode.insertBefore(c.node,this.node);this.parent()&&this.parent().add();b&&b.add();c.paper=this.paper;return this};c.after=function(c){c=x(c);var a=c.parent();this.node.nextSibling?this.node.parentNode.insertBefore(c.node,this.node.nextSibling):this.node.parentNode.appendChild(c.node);this.parent()&&this.parent().add();a&&a.add();c.paper=this.paper;return this};c.insertBefore=function(c){c=x(c);var a=this.parent();c.node.parentNode.insertBefore(this.node,\n",
       "c.node);this.paper=c.paper;a&&a.add();c.parent()&&c.parent().add();return this};c.insertAfter=function(c){c=x(c);var a=this.parent();c.node.parentNode.insertBefore(this.node,c.node.nextSibling);this.paper=c.paper;a&&a.add();c.parent()&&c.parent().add();return this};c.remove=function(){var c=this.parent();this.node.parentNode&&this.node.parentNode.removeChild(this.node);delete this.paper;this.removed=!0;c&&c.add();return this};c.select=function(c){return x(this.node.querySelector(c))};c.selectAll=\n",
       "function(c){c=this.node.querySelectorAll(c);for(var b=(a.set||Array)(),m=0;m<c.length;m++)b.push(x(c[m]));return b};c.asPX=function(c,a){null==a&&(a=this.attr(c));return+b(this,c,a)};c.use=function(){var c,a=this.node.id;a||(a=this.id,v(this.node,{id:a}));c=\"linearGradient\"==this.type||\"radialGradient\"==this.type||\"pattern\"==this.type?r(this.type,this.node.parentNode):r(\"use\",this.node.parentNode);v(c.node,{\"xlink:href\":\"#\"+a});c.original=this;return c};var l=/\\S+/g;c.addClass=function(c){var a=(c||\n",
       "\"\").match(l)||[];c=this.node;var b=c.className.baseVal,m=b.match(l)||[],e,h,d;if(a.length){for(e=0;d=a[e++];)h=m.indexOf(d),~h||m.push(d);a=m.join(\" \");b!=a&&(c.className.baseVal=a)}return this};c.removeClass=function(c){var a=(c||\"\").match(l)||[];c=this.node;var b=c.className.baseVal,m=b.match(l)||[],e,h;if(m.length){for(e=0;h=a[e++];)h=m.indexOf(h),~h&&m.splice(h,1);a=m.join(\" \");b!=a&&(c.className.baseVal=a)}return this};c.hasClass=function(c){return!!~(this.node.className.baseVal.match(l)||[]).indexOf(c)};\n",
       "c.toggleClass=function(c,a){if(null!=a)return a?this.addClass(c):this.removeClass(c);var b=(c||\"\").match(l)||[],m=this.node,e=m.className.baseVal,h=e.match(l)||[],d,f,E;for(d=0;E=b[d++];)f=h.indexOf(E),~f?h.splice(f,1):h.push(E);b=h.join(\" \");e!=b&&(m.className.baseVal=b);return this};c.clone=function(){var c=x(this.node.cloneNode(!0));v(c.node,\"id\")&&v(c.node,{id:c.id});m(c);c.insertAfter(this);return c};c.toDefs=function(){u(this).appendChild(this.node);return this};c.pattern=c.toPattern=function(c,\n",
       "a,b,m){var e=r(\"pattern\",u(this));null==c&&(c=this.getBBox());y(c,\"object\")&&\"x\"in c&&(a=c.y,b=c.width,m=c.height,c=c.x);v(e.node,{x:c,y:a,width:b,height:m,patternUnits:\"userSpaceOnUse\",id:e.id,viewBox:[c,a,b,m].join(\" \")});e.node.appendChild(this.node);return e};c.marker=function(c,a,b,m,e,h){var d=r(\"marker\",u(this));null==c&&(c=this.getBBox());y(c,\"object\")&&\"x\"in c&&(a=c.y,b=c.width,m=c.height,e=c.refX||c.cx,h=c.refY||c.cy,c=c.x);v(d.node,{viewBox:[c,a,b,m].join(\" \"),markerWidth:b,markerHeight:m,\n",
       "orient:\"auto\",refX:e||0,refY:h||0,id:d.id});d.node.appendChild(this.node);return d};var E=function(c,a,b,m){\"function\"!=typeof b||b.length||(m=b,b=L.linear);this.attr=c;this.dur=a;b&&(this.easing=b);m&&(this.callback=m)};a._.Animation=E;a.animation=function(c,a,b,m){return new E(c,a,b,m)};c.inAnim=function(){var c=[],a;for(a in this.anims)this.anims[h](a)&&function(a){c.push({anim:new E(a._attrs,a.dur,a.easing,a._callback),mina:a,curStatus:a.status(),status:function(c){return a.status(c)},stop:function(){a.stop()}})}(this.anims[a]);\n",
       "return c};a.animate=function(c,a,b,m,e,h){\"function\"!=typeof e||e.length||(h=e,e=L.linear);var d=L.time();c=L(c,a,d,d+m,L.time,b,e);h&&k.once(\"mina.finish.\"+c.id,h);return c};c.stop=function(){for(var c=this.inAnim(),a=0,b=c.length;a<b;a++)c[a].stop();return this};c.animate=function(c,a,b,m){\"function\"!=typeof b||b.length||(m=b,b=L.linear);c instanceof E&&(m=c.callback,b=c.easing,a=b.dur,c=c.attr);var d=[],f=[],l={},t,ca,n,T=this,q;for(q in c)if(c[h](q)){T.equal?(n=T.equal(q,J(c[q])),t=n.from,ca=\n",
       "n.to,n=n.f):(t=+T.attr(q),ca=+c[q]);var la=y(t,\"array\")?t.length:1;l[q]=e(d.length,d.length+la,n);d=d.concat(t);f=f.concat(ca)}t=L.time();var p=L(d,f,t,t+a,L.time,function(c){var a={},b;for(b in l)l[h](b)&&(a[b]=l[b](c));T.attr(a)},b);T.anims[p.id]=p;p._attrs=c;p._callback=m;k(\"snap.animcreated.\"+T.id,p);k.once(\"mina.finish.\"+p.id,function(){delete T.anims[p.id];m&&m.call(T)});k.once(\"mina.stop.\"+p.id,function(){delete T.anims[p.id]});return T};var T={};c.data=function(c,b){var m=T[this.id]=T[this.id]||\n",
       "{};if(0==arguments.length)return k(\"snap.data.get.\"+this.id,this,m,null),m;if(1==arguments.length){if(a.is(c,\"object\")){for(var e in c)c[h](e)&&this.data(e,c[e]);return this}k(\"snap.data.get.\"+this.id,this,m[c],c);return m[c]}m[c]=b;k(\"snap.data.set.\"+this.id,this,b,c);return this};c.removeData=function(c){null==c?T[this.id]={}:T[this.id]&&delete T[this.id][c];return this};c.outerSVG=c.toString=d(1);c.innerSVG=d()})(e.prototype);a.parse=function(c){var a=G.doc.createDocumentFragment(),b=!0,m=G.doc.createElement(\"div\");\n",
       "c=J(c);c.match(/^\\s*<\\s*svg(?:\\s|>)/)||(c=\"<svg>\"+c+\"</svg>\",b=!1);m.innerHTML=c;if(c=m.getElementsByTagName(\"svg\")[0])if(b)a=c;else for(;c.firstChild;)a.appendChild(c.firstChild);m.innerHTML=aa;return new l(a)};l.prototype.select=e.prototype.select;l.prototype.selectAll=e.prototype.selectAll;a.fragment=function(){for(var c=Array.prototype.slice.call(arguments,0),b=G.doc.createDocumentFragment(),m=0,e=c.length;m<e;m++){var h=c[m];h.node&&h.node.nodeType&&b.appendChild(h.node);h.nodeType&&b.appendChild(h);\n",
       "\"string\"==typeof h&&b.appendChild(a.parse(h).node)}return new l(b)};a._.make=r;a._.wrap=x;s.prototype.el=function(c,a){var b=r(c,this.node);a&&b.attr(a);return b};k.on(\"snap.util.getattr\",function(){var c=k.nt(),c=c.substring(c.lastIndexOf(\".\")+1),a=c.replace(/[A-Z]/g,function(c){return\"-\"+c.toLowerCase()});return pa[h](a)?this.node.ownerDocument.defaultView.getComputedStyle(this.node,null).getPropertyValue(a):v(this.node,c)});var pa={\"alignment-baseline\":0,\"baseline-shift\":0,clip:0,\"clip-path\":0,\n",
       "\"clip-rule\":0,color:0,\"color-interpolation\":0,\"color-interpolation-filters\":0,\"color-profile\":0,\"color-rendering\":0,cursor:0,direction:0,display:0,\"dominant-baseline\":0,\"enable-background\":0,fill:0,\"fill-opacity\":0,\"fill-rule\":0,filter:0,\"flood-color\":0,\"flood-opacity\":0,font:0,\"font-family\":0,\"font-size\":0,\"font-size-adjust\":0,\"font-stretch\":0,\"font-style\":0,\"font-variant\":0,\"font-weight\":0,\"glyph-orientation-horizontal\":0,\"glyph-orientation-vertical\":0,\"image-rendering\":0,kerning:0,\"letter-spacing\":0,\n",
       "\"lighting-color\":0,marker:0,\"marker-end\":0,\"marker-mid\":0,\"marker-start\":0,mask:0,opacity:0,overflow:0,\"pointer-events\":0,\"shape-rendering\":0,\"stop-color\":0,\"stop-opacity\":0,stroke:0,\"stroke-dasharray\":0,\"stroke-dashoffset\":0,\"stroke-linecap\":0,\"stroke-linejoin\":0,\"stroke-miterlimit\":0,\"stroke-opacity\":0,\"stroke-width\":0,\"text-anchor\":0,\"text-decoration\":0,\"text-rendering\":0,\"unicode-bidi\":0,visibility:0,\"word-spacing\":0,\"writing-mode\":0};k.on(\"snap.util.attr\",function(c){var a=k.nt(),b={},a=a.substring(a.lastIndexOf(\".\")+\n",
       "1);b[a]=c;var m=a.replace(/-(\\w)/gi,function(c,a){return a.toUpperCase()}),a=a.replace(/[A-Z]/g,function(c){return\"-\"+c.toLowerCase()});pa[h](a)?this.node.style[m]=null==c?aa:c:v(this.node,b)});a.ajax=function(c,a,b,m){var e=new XMLHttpRequest,h=V();if(e){if(y(a,\"function\"))m=b,b=a,a=null;else if(y(a,\"object\")){var d=[],f;for(f in a)a.hasOwnProperty(f)&&d.push(encodeURIComponent(f)+\"=\"+encodeURIComponent(a[f]));a=d.join(\"&\")}e.open(a?\"POST\":\"GET\",c,!0);a&&(e.setRequestHeader(\"X-Requested-With\",\"XMLHttpRequest\"),\n",
       "e.setRequestHeader(\"Content-type\",\"application/x-www-form-urlencoded\"));b&&(k.once(\"snap.ajax.\"+h+\".0\",b),k.once(\"snap.ajax.\"+h+\".200\",b),k.once(\"snap.ajax.\"+h+\".304\",b));e.onreadystatechange=function(){4==e.readyState&&k(\"snap.ajax.\"+h+\".\"+e.status,m,e)};if(4==e.readyState)return e;e.send(a);return e}};a.load=function(c,b,m){a.ajax(c,function(c){c=a.parse(c.responseText);m?b.call(m,c):b(c)})};a.getElementByPoint=function(c,a){var b,m,e=G.doc.elementFromPoint(c,a);if(G.win.opera&&\"svg\"==e.tagName){b=\n",
       "e;m=b.getBoundingClientRect();b=b.ownerDocument;var h=b.body,d=b.documentElement;b=m.top+(g.win.pageYOffset||d.scrollTop||h.scrollTop)-(d.clientTop||h.clientTop||0);m=m.left+(g.win.pageXOffset||d.scrollLeft||h.scrollLeft)-(d.clientLeft||h.clientLeft||0);h=e.createSVGRect();h.x=c-m;h.y=a-b;h.width=h.height=1;b=e.getIntersectionList(h,null);b.length&&(e=b[b.length-1])}return e?x(e):null};a.plugin=function(c){c(a,e,s,G,l)};return G.win.Snap=a}();C.plugin(function(a,k,y,M,A){function w(a,d,f,b,q,e){null==\n",
       "d&&\"[object SVGMatrix]\"==z.call(a)?(this.a=a.a,this.b=a.b,this.c=a.c,this.d=a.d,this.e=a.e,this.f=a.f):null!=a?(this.a=+a,this.b=+d,this.c=+f,this.d=+b,this.e=+q,this.f=+e):(this.a=1,this.c=this.b=0,this.d=1,this.f=this.e=0)}var z=Object.prototype.toString,d=String,f=Math;(function(n){function k(a){return a[0]*a[0]+a[1]*a[1]}function p(a){var d=f.sqrt(k(a));a[0]&&(a[0]/=d);a[1]&&(a[1]/=d)}n.add=function(a,d,e,f,n,p){var k=[[],[],[] ],u=[[this.a,this.c,this.e],[this.b,this.d,this.f],[0,0,1] ];d=[[a,\n",
       "e,n],[d,f,p],[0,0,1] ];a&&a instanceof w&&(d=[[a.a,a.c,a.e],[a.b,a.d,a.f],[0,0,1] ]);for(a=0;3>a;a++)for(e=0;3>e;e++){for(f=n=0;3>f;f++)n+=u[a][f]*d[f][e];k[a][e]=n}this.a=k[0][0];this.b=k[1][0];this.c=k[0][1];this.d=k[1][1];this.e=k[0][2];this.f=k[1][2];return this};n.invert=function(){var a=this.a*this.d-this.b*this.c;return new w(this.d/a,-this.b/a,-this.c/a,this.a/a,(this.c*this.f-this.d*this.e)/a,(this.b*this.e-this.a*this.f)/a)};n.clone=function(){return new w(this.a,this.b,this.c,this.d,this.e,\n",
       "this.f)};n.translate=function(a,d){return this.add(1,0,0,1,a,d)};n.scale=function(a,d,e,f){null==d&&(d=a);(e||f)&&this.add(1,0,0,1,e,f);this.add(a,0,0,d,0,0);(e||f)&&this.add(1,0,0,1,-e,-f);return this};n.rotate=function(b,d,e){b=a.rad(b);d=d||0;e=e||0;var l=+f.cos(b).toFixed(9);b=+f.sin(b).toFixed(9);this.add(l,b,-b,l,d,e);return this.add(1,0,0,1,-d,-e)};n.x=function(a,d){return a*this.a+d*this.c+this.e};n.y=function(a,d){return a*this.b+d*this.d+this.f};n.get=function(a){return+this[d.fromCharCode(97+\n",
       "a)].toFixed(4)};n.toString=function(){return\"matrix(\"+[this.get(0),this.get(1),this.get(2),this.get(3),this.get(4),this.get(5)].join()+\")\"};n.offset=function(){return[this.e.toFixed(4),this.f.toFixed(4)]};n.determinant=function(){return this.a*this.d-this.b*this.c};n.split=function(){var b={};b.dx=this.e;b.dy=this.f;var d=[[this.a,this.c],[this.b,this.d] ];b.scalex=f.sqrt(k(d[0]));p(d[0]);b.shear=d[0][0]*d[1][0]+d[0][1]*d[1][1];d[1]=[d[1][0]-d[0][0]*b.shear,d[1][1]-d[0][1]*b.shear];b.scaley=f.sqrt(k(d[1]));\n",
       "p(d[1]);b.shear/=b.scaley;0>this.determinant()&&(b.scalex=-b.scalex);var e=-d[0][1],d=d[1][1];0>d?(b.rotate=a.deg(f.acos(d)),0>e&&(b.rotate=360-b.rotate)):b.rotate=a.deg(f.asin(e));b.isSimple=!+b.shear.toFixed(9)&&(b.scalex.toFixed(9)==b.scaley.toFixed(9)||!b.rotate);b.isSuperSimple=!+b.shear.toFixed(9)&&b.scalex.toFixed(9)==b.scaley.toFixed(9)&&!b.rotate;b.noRotation=!+b.shear.toFixed(9)&&!b.rotate;return b};n.toTransformString=function(a){a=a||this.split();if(+a.shear.toFixed(9))return\"m\"+[this.get(0),\n",
       "this.get(1),this.get(2),this.get(3),this.get(4),this.get(5)];a.scalex=+a.scalex.toFixed(4);a.scaley=+a.scaley.toFixed(4);a.rotate=+a.rotate.toFixed(4);return(a.dx||a.dy?\"t\"+[+a.dx.toFixed(4),+a.dy.toFixed(4)]:\"\")+(1!=a.scalex||1!=a.scaley?\"s\"+[a.scalex,a.scaley,0,0]:\"\")+(a.rotate?\"r\"+[+a.rotate.toFixed(4),0,0]:\"\")}})(w.prototype);a.Matrix=w;a.matrix=function(a,d,f,b,k,e){return new w(a,d,f,b,k,e)}});C.plugin(function(a,v,y,M,A){function w(h){return function(d){k.stop();d instanceof A&&1==d.node.childNodes.length&&\n",
       "(\"radialGradient\"==d.node.firstChild.tagName||\"linearGradient\"==d.node.firstChild.tagName||\"pattern\"==d.node.firstChild.tagName)&&(d=d.node.firstChild,b(this).appendChild(d),d=u(d));if(d instanceof v)if(\"radialGradient\"==d.type||\"linearGradient\"==d.type||\"pattern\"==d.type){d.node.id||e(d.node,{id:d.id});var f=l(d.node.id)}else f=d.attr(h);else f=a.color(d),f.error?(f=a(b(this).ownerSVGElement).gradient(d))?(f.node.id||e(f.node,{id:f.id}),f=l(f.node.id)):f=d:f=r(f);d={};d[h]=f;e(this.node,d);this.node.style[h]=\n",
       "x}}function z(a){k.stop();a==+a&&(a+=\"px\");this.node.style.fontSize=a}function d(a){var b=[];a=a.childNodes;for(var e=0,f=a.length;e<f;e++){var l=a[e];3==l.nodeType&&b.push(l.nodeValue);\"tspan\"==l.tagName&&(1==l.childNodes.length&&3==l.firstChild.nodeType?b.push(l.firstChild.nodeValue):b.push(d(l)))}return b}function f(){k.stop();return this.node.style.fontSize}var n=a._.make,u=a._.wrap,p=a.is,b=a._.getSomeDefs,q=/^url\\(#?([^)]+)\\)$/,e=a._.$,l=a.url,r=String,s=a._.separator,x=\"\";k.on(\"snap.util.attr.mask\",\n",
       "function(a){if(a instanceof v||a instanceof A){k.stop();a instanceof A&&1==a.node.childNodes.length&&(a=a.node.firstChild,b(this).appendChild(a),a=u(a));if(\"mask\"==a.type)var d=a;else d=n(\"mask\",b(this)),d.node.appendChild(a.node);!d.node.id&&e(d.node,{id:d.id});e(this.node,{mask:l(d.id)})}});(function(a){k.on(\"snap.util.attr.clip\",a);k.on(\"snap.util.attr.clip-path\",a);k.on(\"snap.util.attr.clipPath\",a)})(function(a){if(a instanceof v||a instanceof A){k.stop();if(\"clipPath\"==a.type)var d=a;else d=\n",
       "n(\"clipPath\",b(this)),d.node.appendChild(a.node),!d.node.id&&e(d.node,{id:d.id});e(this.node,{\"clip-path\":l(d.id)})}});k.on(\"snap.util.attr.fill\",w(\"fill\"));k.on(\"snap.util.attr.stroke\",w(\"stroke\"));var G=/^([lr])(?:\\(([^)]*)\\))?(.*)$/i;k.on(\"snap.util.grad.parse\",function(a){a=r(a);var b=a.match(G);if(!b)return null;a=b[1];var e=b[2],b=b[3],e=e.split(/\\s*,\\s*/).map(function(a){return+a==a?+a:a});1==e.length&&0==e[0]&&(e=[]);b=b.split(\"-\");b=b.map(function(a){a=a.split(\":\");var b={color:a[0]};a[1]&&\n",
       "(b.offset=parseFloat(a[1]));return b});return{type:a,params:e,stops:b}});k.on(\"snap.util.attr.d\",function(b){k.stop();p(b,\"array\")&&p(b[0],\"array\")&&(b=a.path.toString.call(b));b=r(b);b.match(/[ruo]/i)&&(b=a.path.toAbsolute(b));e(this.node,{d:b})})(-1);k.on(\"snap.util.attr.#text\",function(a){k.stop();a=r(a);for(a=M.doc.createTextNode(a);this.node.firstChild;)this.node.removeChild(this.node.firstChild);this.node.appendChild(a)})(-1);k.on(\"snap.util.attr.path\",function(a){k.stop();this.attr({d:a})})(-1);\n",
       "k.on(\"snap.util.attr.class\",function(a){k.stop();this.node.className.baseVal=a})(-1);k.on(\"snap.util.attr.viewBox\",function(a){a=p(a,\"object\")&&\"x\"in a?[a.x,a.y,a.width,a.height].join(\" \"):p(a,\"array\")?a.join(\" \"):a;e(this.node,{viewBox:a});k.stop()})(-1);k.on(\"snap.util.attr.transform\",function(a){this.transform(a);k.stop()})(-1);k.on(\"snap.util.attr.r\",function(a){\"rect\"==this.type&&(k.stop(),e(this.node,{rx:a,ry:a}))})(-1);k.on(\"snap.util.attr.textpath\",function(a){k.stop();if(\"text\"==this.type){var d,\n",
       "f;if(!a&&this.textPath){for(a=this.textPath;a.node.firstChild;)this.node.appendChild(a.node.firstChild);a.remove();delete this.textPath}else if(p(a,\"string\")?(d=b(this),a=u(d.parentNode).path(a),d.appendChild(a.node),d=a.id,a.attr({id:d})):(a=u(a),a instanceof v&&(d=a.attr(\"id\"),d||(d=a.id,a.attr({id:d})))),d)if(a=this.textPath,f=this.node,a)a.attr({\"xlink:href\":\"#\"+d});else{for(a=e(\"textPath\",{\"xlink:href\":\"#\"+d});f.firstChild;)a.appendChild(f.firstChild);f.appendChild(a);this.textPath=u(a)}}})(-1);\n",
       "k.on(\"snap.util.attr.text\",function(a){if(\"text\"==this.type){for(var b=this.node,d=function(a){var b=e(\"tspan\");if(p(a,\"array\"))for(var f=0;f<a.length;f++)b.appendChild(d(a[f]));else b.appendChild(M.doc.createTextNode(a));b.normalize&&b.normalize();return b};b.firstChild;)b.removeChild(b.firstChild);for(a=d(a);a.firstChild;)b.appendChild(a.firstChild)}k.stop()})(-1);k.on(\"snap.util.attr.fontSize\",z)(-1);k.on(\"snap.util.attr.font-size\",z)(-1);k.on(\"snap.util.getattr.transform\",function(){k.stop();\n",
       "return this.transform()})(-1);k.on(\"snap.util.getattr.textpath\",function(){k.stop();return this.textPath})(-1);(function(){function b(d){return function(){k.stop();var b=M.doc.defaultView.getComputedStyle(this.node,null).getPropertyValue(\"marker-\"+d);return\"none\"==b?b:a(M.doc.getElementById(b.match(q)[1]))}}function d(a){return function(b){k.stop();var d=\"marker\"+a.charAt(0).toUpperCase()+a.substring(1);if(\"\"==b||!b)this.node.style[d]=\"none\";else if(\"marker\"==b.type){var f=b.node.id;f||e(b.node,{id:b.id});\n",
       "this.node.style[d]=l(f)}}}k.on(\"snap.util.getattr.marker-end\",b(\"end\"))(-1);k.on(\"snap.util.getattr.markerEnd\",b(\"end\"))(-1);k.on(\"snap.util.getattr.marker-start\",b(\"start\"))(-1);k.on(\"snap.util.getattr.markerStart\",b(\"start\"))(-1);k.on(\"snap.util.getattr.marker-mid\",b(\"mid\"))(-1);k.on(\"snap.util.getattr.markerMid\",b(\"mid\"))(-1);k.on(\"snap.util.attr.marker-end\",d(\"end\"))(-1);k.on(\"snap.util.attr.markerEnd\",d(\"end\"))(-1);k.on(\"snap.util.attr.marker-start\",d(\"start\"))(-1);k.on(\"snap.util.attr.markerStart\",\n",
       "d(\"start\"))(-1);k.on(\"snap.util.attr.marker-mid\",d(\"mid\"))(-1);k.on(\"snap.util.attr.markerMid\",d(\"mid\"))(-1)})();k.on(\"snap.util.getattr.r\",function(){if(\"rect\"==this.type&&e(this.node,\"rx\")==e(this.node,\"ry\"))return k.stop(),e(this.node,\"rx\")})(-1);k.on(\"snap.util.getattr.text\",function(){if(\"text\"==this.type||\"tspan\"==this.type){k.stop();var a=d(this.node);return 1==a.length?a[0]:a}})(-1);k.on(\"snap.util.getattr.#text\",function(){return this.node.textContent})(-1);k.on(\"snap.util.getattr.viewBox\",\n",
       "function(){k.stop();var b=e(this.node,\"viewBox\");if(b)return b=b.split(s),a._.box(+b[0],+b[1],+b[2],+b[3])})(-1);k.on(\"snap.util.getattr.points\",function(){var a=e(this.node,\"points\");k.stop();if(a)return a.split(s)})(-1);k.on(\"snap.util.getattr.path\",function(){var a=e(this.node,\"d\");k.stop();return a})(-1);k.on(\"snap.util.getattr.class\",function(){return this.node.className.baseVal})(-1);k.on(\"snap.util.getattr.fontSize\",f)(-1);k.on(\"snap.util.getattr.font-size\",f)(-1)});C.plugin(function(a,v,y,\n",
       "M,A){function w(a){return a}function z(a){return function(b){return+b.toFixed(3)+a}}var d={\"+\":function(a,b){return a+b},\"-\":function(a,b){return a-b},\"/\":function(a,b){return a/b},\"*\":function(a,b){return a*b}},f=String,n=/[a-z]+$/i,u=/^\\s*([+\\-\\/*])\\s*=\\s*([\\d.eE+\\-]+)\\s*([^\\d\\s]+)?\\s*$/;k.on(\"snap.util.attr\",function(a){if(a=f(a).match(u)){var b=k.nt(),b=b.substring(b.lastIndexOf(\".\")+1),q=this.attr(b),e={};k.stop();var l=a[3]||\"\",r=q.match(n),s=d[a[1] ];r&&r==l?a=s(parseFloat(q),+a[2]):(q=this.asPX(b),\n",
       "a=s(this.asPX(b),this.asPX(b,a[2]+l)));isNaN(q)||isNaN(a)||(e[b]=a,this.attr(e))}})(-10);k.on(\"snap.util.equal\",function(a,b){var q=f(this.attr(a)||\"\"),e=f(b).match(u);if(e){k.stop();var l=e[3]||\"\",r=q.match(n),s=d[e[1] ];if(r&&r==l)return{from:parseFloat(q),to:s(parseFloat(q),+e[2]),f:z(r)};q=this.asPX(a);return{from:q,to:s(q,this.asPX(a,e[2]+l)),f:w}}})(-10)});C.plugin(function(a,v,y,M,A){var w=y.prototype,z=a.is;w.rect=function(a,d,k,p,b,q){var e;null==q&&(q=b);z(a,\"object\")&&\"[object Object]\"==\n",
       "a?e=a:null!=a&&(e={x:a,y:d,width:k,height:p},null!=b&&(e.rx=b,e.ry=q));return this.el(\"rect\",e)};w.circle=function(a,d,k){var p;z(a,\"object\")&&\"[object Object]\"==a?p=a:null!=a&&(p={cx:a,cy:d,r:k});return this.el(\"circle\",p)};var d=function(){function a(){this.parentNode.removeChild(this)}return function(d,k){var p=M.doc.createElement(\"img\"),b=M.doc.body;p.style.cssText=\"position:absolute;left:-9999em;top:-9999em\";p.onload=function(){k.call(p);p.onload=p.onerror=null;b.removeChild(p)};p.onerror=a;\n",
       "b.appendChild(p);p.src=d}}();w.image=function(f,n,k,p,b){var q=this.el(\"image\");if(z(f,\"object\")&&\"src\"in f)q.attr(f);else if(null!=f){var e={\"xlink:href\":f,preserveAspectRatio:\"none\"};null!=n&&null!=k&&(e.x=n,e.y=k);null!=p&&null!=b?(e.width=p,e.height=b):d(f,function(){a._.$(q.node,{width:this.offsetWidth,height:this.offsetHeight})});a._.$(q.node,e)}return q};w.ellipse=function(a,d,k,p){var b;z(a,\"object\")&&\"[object Object]\"==a?b=a:null!=a&&(b={cx:a,cy:d,rx:k,ry:p});return this.el(\"ellipse\",b)};\n",
       "w.path=function(a){var d;z(a,\"object\")&&!z(a,\"array\")?d=a:a&&(d={d:a});return this.el(\"path\",d)};w.group=w.g=function(a){var d=this.el(\"g\");1==arguments.length&&a&&!a.type?d.attr(a):arguments.length&&d.add(Array.prototype.slice.call(arguments,0));return d};w.svg=function(a,d,k,p,b,q,e,l){var r={};z(a,\"object\")&&null==d?r=a:(null!=a&&(r.x=a),null!=d&&(r.y=d),null!=k&&(r.width=k),null!=p&&(r.height=p),null!=b&&null!=q&&null!=e&&null!=l&&(r.viewBox=[b,q,e,l]));return this.el(\"svg\",r)};w.mask=function(a){var d=\n",
       "this.el(\"mask\");1==arguments.length&&a&&!a.type?d.attr(a):arguments.length&&d.add(Array.prototype.slice.call(arguments,0));return d};w.ptrn=function(a,d,k,p,b,q,e,l){if(z(a,\"object\"))var r=a;else arguments.length?(r={},null!=a&&(r.x=a),null!=d&&(r.y=d),null!=k&&(r.width=k),null!=p&&(r.height=p),null!=b&&null!=q&&null!=e&&null!=l&&(r.viewBox=[b,q,e,l])):r={patternUnits:\"userSpaceOnUse\"};return this.el(\"pattern\",r)};w.use=function(a){return null!=a?(make(\"use\",this.node),a instanceof v&&(a.attr(\"id\")||\n",
       "a.attr({id:ID()}),a=a.attr(\"id\")),this.el(\"use\",{\"xlink:href\":a})):v.prototype.use.call(this)};w.text=function(a,d,k){var p={};z(a,\"object\")?p=a:null!=a&&(p={x:a,y:d,text:k||\"\"});return this.el(\"text\",p)};w.line=function(a,d,k,p){var b={};z(a,\"object\")?b=a:null!=a&&(b={x1:a,x2:k,y1:d,y2:p});return this.el(\"line\",b)};w.polyline=function(a){1<arguments.length&&(a=Array.prototype.slice.call(arguments,0));var d={};z(a,\"object\")&&!z(a,\"array\")?d=a:null!=a&&(d={points:a});return this.el(\"polyline\",d)};\n",
       "w.polygon=function(a){1<arguments.length&&(a=Array.prototype.slice.call(arguments,0));var d={};z(a,\"object\")&&!z(a,\"array\")?d=a:null!=a&&(d={points:a});return this.el(\"polygon\",d)};(function(){function d(){return this.selectAll(\"stop\")}function n(b,d){var f=e(\"stop\"),k={offset:+d+\"%\"};b=a.color(b);k[\"stop-color\"]=b.hex;1>b.opacity&&(k[\"stop-opacity\"]=b.opacity);e(f,k);this.node.appendChild(f);return this}function u(){if(\"linearGradient\"==this.type){var b=e(this.node,\"x1\")||0,d=e(this.node,\"x2\")||\n",
       "1,f=e(this.node,\"y1\")||0,k=e(this.node,\"y2\")||0;return a._.box(b,f,math.abs(d-b),math.abs(k-f))}b=this.node.r||0;return a._.box((this.node.cx||0.5)-b,(this.node.cy||0.5)-b,2*b,2*b)}function p(a,d){function f(a,b){for(var d=(b-u)/(a-w),e=w;e<a;e++)h[e].offset=+(+u+d*(e-w)).toFixed(2);w=a;u=b}var n=k(\"snap.util.grad.parse\",null,d).firstDefined(),p;if(!n)return null;n.params.unshift(a);p=\"l\"==n.type.toLowerCase()?b.apply(0,n.params):q.apply(0,n.params);n.type!=n.type.toLowerCase()&&e(p.node,{gradientUnits:\"userSpaceOnUse\"});\n",
       "var h=n.stops,n=h.length,u=0,w=0;n--;for(var v=0;v<n;v++)\"offset\"in h[v]&&f(v,h[v].offset);h[n].offset=h[n].offset||100;f(n,h[n].offset);for(v=0;v<=n;v++){var y=h[v];p.addStop(y.color,y.offset)}return p}function b(b,k,p,q,w){b=a._.make(\"linearGradient\",b);b.stops=d;b.addStop=n;b.getBBox=u;null!=k&&e(b.node,{x1:k,y1:p,x2:q,y2:w});return b}function q(b,k,p,q,w,h){b=a._.make(\"radialGradient\",b);b.stops=d;b.addStop=n;b.getBBox=u;null!=k&&e(b.node,{cx:k,cy:p,r:q});null!=w&&null!=h&&e(b.node,{fx:w,fy:h});\n",
       "return b}var e=a._.$;w.gradient=function(a){return p(this.defs,a)};w.gradientLinear=function(a,d,e,f){return b(this.defs,a,d,e,f)};w.gradientRadial=function(a,b,d,e,f){return q(this.defs,a,b,d,e,f)};w.toString=function(){var b=this.node.ownerDocument,d=b.createDocumentFragment(),b=b.createElement(\"div\"),e=this.node.cloneNode(!0);d.appendChild(b);b.appendChild(e);a._.$(e,{xmlns:\"http://www.w3.org/2000/svg\"});b=b.innerHTML;d.removeChild(d.firstChild);return b};w.clear=function(){for(var a=this.node.firstChild,\n",
       "b;a;)b=a.nextSibling,\"defs\"!=a.tagName?a.parentNode.removeChild(a):w.clear.call({node:a}),a=b}})()});C.plugin(function(a,k,y,M){function A(a){var b=A.ps=A.ps||{};b[a]?b[a].sleep=100:b[a]={sleep:100};setTimeout(function(){for(var d in b)b[L](d)&&d!=a&&(b[d].sleep--,!b[d].sleep&&delete b[d])});return b[a]}function w(a,b,d,e){null==a&&(a=b=d=e=0);null==b&&(b=a.y,d=a.width,e=a.height,a=a.x);return{x:a,y:b,width:d,w:d,height:e,h:e,x2:a+d,y2:b+e,cx:a+d/2,cy:b+e/2,r1:F.min(d,e)/2,r2:F.max(d,e)/2,r0:F.sqrt(d*\n",
       "d+e*e)/2,path:s(a,b,d,e),vb:[a,b,d,e].join(\" \")}}function z(){return this.join(\",\").replace(N,\"$1\")}function d(a){a=C(a);a.toString=z;return a}function f(a,b,d,h,f,k,l,n,p){if(null==p)return e(a,b,d,h,f,k,l,n);if(0>p||e(a,b,d,h,f,k,l,n)<p)p=void 0;else{var q=0.5,O=1-q,s;for(s=e(a,b,d,h,f,k,l,n,O);0.01<Z(s-p);)q/=2,O+=(s<p?1:-1)*q,s=e(a,b,d,h,f,k,l,n,O);p=O}return u(a,b,d,h,f,k,l,n,p)}function n(b,d){function e(a){return+(+a).toFixed(3)}return a._.cacher(function(a,h,l){a instanceof k&&(a=a.attr(\"d\"));\n",
       "a=I(a);for(var n,p,D,q,O=\"\",s={},c=0,t=0,r=a.length;t<r;t++){D=a[t];if(\"M\"==D[0])n=+D[1],p=+D[2];else{q=f(n,p,D[1],D[2],D[3],D[4],D[5],D[6]);if(c+q>h){if(d&&!s.start){n=f(n,p,D[1],D[2],D[3],D[4],D[5],D[6],h-c);O+=[\"C\"+e(n.start.x),e(n.start.y),e(n.m.x),e(n.m.y),e(n.x),e(n.y)];if(l)return O;s.start=O;O=[\"M\"+e(n.x),e(n.y)+\"C\"+e(n.n.x),e(n.n.y),e(n.end.x),e(n.end.y),e(D[5]),e(D[6])].join();c+=q;n=+D[5];p=+D[6];continue}if(!b&&!d)return n=f(n,p,D[1],D[2],D[3],D[4],D[5],D[6],h-c)}c+=q;n=+D[5];p=+D[6]}O+=\n",
       "D.shift()+D}s.end=O;return n=b?c:d?s:u(n,p,D[0],D[1],D[2],D[3],D[4],D[5],1)},null,a._.clone)}function u(a,b,d,e,h,f,k,l,n){var p=1-n,q=ma(p,3),s=ma(p,2),c=n*n,t=c*n,r=q*a+3*s*n*d+3*p*n*n*h+t*k,q=q*b+3*s*n*e+3*p*n*n*f+t*l,s=a+2*n*(d-a)+c*(h-2*d+a),t=b+2*n*(e-b)+c*(f-2*e+b),x=d+2*n*(h-d)+c*(k-2*h+d),c=e+2*n*(f-e)+c*(l-2*f+e);a=p*a+n*d;b=p*b+n*e;h=p*h+n*k;f=p*f+n*l;l=90-180*F.atan2(s-x,t-c)/S;return{x:r,y:q,m:{x:s,y:t},n:{x:x,y:c},start:{x:a,y:b},end:{x:h,y:f},alpha:l}}function p(b,d,e,h,f,n,k,l){a.is(b,\n",
       "\"array\")||(b=[b,d,e,h,f,n,k,l]);b=U.apply(null,b);return w(b.min.x,b.min.y,b.max.x-b.min.x,b.max.y-b.min.y)}function b(a,b,d){return b>=a.x&&b<=a.x+a.width&&d>=a.y&&d<=a.y+a.height}function q(a,d){a=w(a);d=w(d);return b(d,a.x,a.y)||b(d,a.x2,a.y)||b(d,a.x,a.y2)||b(d,a.x2,a.y2)||b(a,d.x,d.y)||b(a,d.x2,d.y)||b(a,d.x,d.y2)||b(a,d.x2,d.y2)||(a.x<d.x2&&a.x>d.x||d.x<a.x2&&d.x>a.x)&&(a.y<d.y2&&a.y>d.y||d.y<a.y2&&d.y>a.y)}function e(a,b,d,e,h,f,n,k,l){null==l&&(l=1);l=(1<l?1:0>l?0:l)/2;for(var p=[-0.1252,\n",
       "0.1252,-0.3678,0.3678,-0.5873,0.5873,-0.7699,0.7699,-0.9041,0.9041,-0.9816,0.9816],q=[0.2491,0.2491,0.2335,0.2335,0.2032,0.2032,0.1601,0.1601,0.1069,0.1069,0.0472,0.0472],s=0,c=0;12>c;c++)var t=l*p[c]+l,r=t*(t*(-3*a+9*d-9*h+3*n)+6*a-12*d+6*h)-3*a+3*d,t=t*(t*(-3*b+9*e-9*f+3*k)+6*b-12*e+6*f)-3*b+3*e,s=s+q[c]*F.sqrt(r*r+t*t);return l*s}function l(a,b,d){a=I(a);b=I(b);for(var h,f,l,n,k,s,r,O,x,c,t=d?0:[],w=0,v=a.length;w<v;w++)if(x=a[w],\"M\"==x[0])h=k=x[1],f=s=x[2];else{\"C\"==x[0]?(x=[h,f].concat(x.slice(1)),\n",
       "h=x[6],f=x[7]):(x=[h,f,h,f,k,s,k,s],h=k,f=s);for(var G=0,y=b.length;G<y;G++)if(c=b[G],\"M\"==c[0])l=r=c[1],n=O=c[2];else{\"C\"==c[0]?(c=[l,n].concat(c.slice(1)),l=c[6],n=c[7]):(c=[l,n,l,n,r,O,r,O],l=r,n=O);var z;var K=x,B=c;z=d;var H=p(K),J=p(B);if(q(H,J)){for(var H=e.apply(0,K),J=e.apply(0,B),H=~~(H/8),J=~~(J/8),U=[],A=[],F={},M=z?0:[],P=0;P<H+1;P++){var C=u.apply(0,K.concat(P/H));U.push({x:C.x,y:C.y,t:P/H})}for(P=0;P<J+1;P++)C=u.apply(0,B.concat(P/J)),A.push({x:C.x,y:C.y,t:P/J});for(P=0;P<H;P++)for(K=\n",
       "0;K<J;K++){var Q=U[P],L=U[P+1],B=A[K],C=A[K+1],N=0.001>Z(L.x-Q.x)?\"y\":\"x\",S=0.001>Z(C.x-B.x)?\"y\":\"x\",R;R=Q.x;var Y=Q.y,V=L.x,ea=L.y,fa=B.x,ga=B.y,ha=C.x,ia=C.y;if(W(R,V)<X(fa,ha)||X(R,V)>W(fa,ha)||W(Y,ea)<X(ga,ia)||X(Y,ea)>W(ga,ia))R=void 0;else{var $=(R*ea-Y*V)*(fa-ha)-(R-V)*(fa*ia-ga*ha),aa=(R*ea-Y*V)*(ga-ia)-(Y-ea)*(fa*ia-ga*ha),ja=(R-V)*(ga-ia)-(Y-ea)*(fa-ha);if(ja){var $=$/ja,aa=aa/ja,ja=+$.toFixed(2),ba=+aa.toFixed(2);R=ja<+X(R,V).toFixed(2)||ja>+W(R,V).toFixed(2)||ja<+X(fa,ha).toFixed(2)||\n",
       "ja>+W(fa,ha).toFixed(2)||ba<+X(Y,ea).toFixed(2)||ba>+W(Y,ea).toFixed(2)||ba<+X(ga,ia).toFixed(2)||ba>+W(ga,ia).toFixed(2)?void 0:{x:$,y:aa}}else R=void 0}R&&F[R.x.toFixed(4)]!=R.y.toFixed(4)&&(F[R.x.toFixed(4)]=R.y.toFixed(4),Q=Q.t+Z((R[N]-Q[N])/(L[N]-Q[N]))*(L.t-Q.t),B=B.t+Z((R[S]-B[S])/(C[S]-B[S]))*(C.t-B.t),0<=Q&&1>=Q&&0<=B&&1>=B&&(z?M++:M.push({x:R.x,y:R.y,t1:Q,t2:B})))}z=M}else z=z?0:[];if(d)t+=z;else{H=0;for(J=z.length;H<J;H++)z[H].segment1=w,z[H].segment2=G,z[H].bez1=x,z[H].bez2=c;t=t.concat(z)}}}return t}\n",
       "function r(a){var b=A(a);if(b.bbox)return C(b.bbox);if(!a)return w();a=I(a);for(var d=0,e=0,h=[],f=[],l,n=0,k=a.length;n<k;n++)l=a[n],\"M\"==l[0]?(d=l[1],e=l[2],h.push(d),f.push(e)):(d=U(d,e,l[1],l[2],l[3],l[4],l[5],l[6]),h=h.concat(d.min.x,d.max.x),f=f.concat(d.min.y,d.max.y),d=l[5],e=l[6]);a=X.apply(0,h);l=X.apply(0,f);h=W.apply(0,h);f=W.apply(0,f);f=w(a,l,h-a,f-l);b.bbox=C(f);return f}function s(a,b,d,e,h){if(h)return[[\"M\",+a+ +h,b],[\"l\",d-2*h,0],[\"a\",h,h,0,0,1,h,h],[\"l\",0,e-2*h],[\"a\",h,h,0,0,1,\n",
       "-h,h],[\"l\",2*h-d,0],[\"a\",h,h,0,0,1,-h,-h],[\"l\",0,2*h-e],[\"a\",h,h,0,0,1,h,-h],[\"z\"] ];a=[[\"M\",a,b],[\"l\",d,0],[\"l\",0,e],[\"l\",-d,0],[\"z\"] ];a.toString=z;return a}function x(a,b,d,e,h){null==h&&null==e&&(e=d);a=+a;b=+b;d=+d;e=+e;if(null!=h){var f=Math.PI/180,l=a+d*Math.cos(-e*f);a+=d*Math.cos(-h*f);var n=b+d*Math.sin(-e*f);b+=d*Math.sin(-h*f);d=[[\"M\",l,n],[\"A\",d,d,0,+(180<h-e),0,a,b] ]}else d=[[\"M\",a,b],[\"m\",0,-e],[\"a\",d,e,0,1,1,0,2*e],[\"a\",d,e,0,1,1,0,-2*e],[\"z\"] ];d.toString=z;return d}function G(b){var e=\n",
       "A(b);if(e.abs)return d(e.abs);Q(b,\"array\")&&Q(b&&b[0],\"array\")||(b=a.parsePathString(b));if(!b||!b.length)return[[\"M\",0,0] ];var h=[],f=0,l=0,n=0,k=0,p=0;\"M\"==b[0][0]&&(f=+b[0][1],l=+b[0][2],n=f,k=l,p++,h[0]=[\"M\",f,l]);for(var q=3==b.length&&\"M\"==b[0][0]&&\"R\"==b[1][0].toUpperCase()&&\"Z\"==b[2][0].toUpperCase(),s,r,w=p,c=b.length;w<c;w++){h.push(s=[]);r=b[w];p=r[0];if(p!=p.toUpperCase())switch(s[0]=p.toUpperCase(),s[0]){case \"A\":s[1]=r[1];s[2]=r[2];s[3]=r[3];s[4]=r[4];s[5]=r[5];s[6]=+r[6]+f;s[7]=+r[7]+\n",
       "l;break;case \"V\":s[1]=+r[1]+l;break;case \"H\":s[1]=+r[1]+f;break;case \"R\":for(var t=[f,l].concat(r.slice(1)),u=2,v=t.length;u<v;u++)t[u]=+t[u]+f,t[++u]=+t[u]+l;h.pop();h=h.concat(P(t,q));break;case \"O\":h.pop();t=x(f,l,r[1],r[2]);t.push(t[0]);h=h.concat(t);break;case \"U\":h.pop();h=h.concat(x(f,l,r[1],r[2],r[3]));s=[\"U\"].concat(h[h.length-1].slice(-2));break;case \"M\":n=+r[1]+f,k=+r[2]+l;default:for(u=1,v=r.length;u<v;u++)s[u]=+r[u]+(u%2?f:l)}else if(\"R\"==p)t=[f,l].concat(r.slice(1)),h.pop(),h=h.concat(P(t,\n",
       "q)),s=[\"R\"].concat(r.slice(-2));else if(\"O\"==p)h.pop(),t=x(f,l,r[1],r[2]),t.push(t[0]),h=h.concat(t);else if(\"U\"==p)h.pop(),h=h.concat(x(f,l,r[1],r[2],r[3])),s=[\"U\"].concat(h[h.length-1].slice(-2));else for(t=0,u=r.length;t<u;t++)s[t]=r[t];p=p.toUpperCase();if(\"O\"!=p)switch(s[0]){case \"Z\":f=+n;l=+k;break;case \"H\":f=s[1];break;case \"V\":l=s[1];break;case \"M\":n=s[s.length-2],k=s[s.length-1];default:f=s[s.length-2],l=s[s.length-1]}}h.toString=z;e.abs=d(h);return h}function h(a,b,d,e){return[a,b,d,e,d,\n",
       "e]}function J(a,b,d,e,h,f){var l=1/3,n=2/3;return[l*a+n*d,l*b+n*e,l*h+n*d,l*f+n*e,h,f]}function K(b,d,e,h,f,l,n,k,p,s){var r=120*S/180,q=S/180*(+f||0),c=[],t,x=a._.cacher(function(a,b,c){var d=a*F.cos(c)-b*F.sin(c);a=a*F.sin(c)+b*F.cos(c);return{x:d,y:a}});if(s)v=s[0],t=s[1],l=s[2],u=s[3];else{t=x(b,d,-q);b=t.x;d=t.y;t=x(k,p,-q);k=t.x;p=t.y;F.cos(S/180*f);F.sin(S/180*f);t=(b-k)/2;v=(d-p)/2;u=t*t/(e*e)+v*v/(h*h);1<u&&(u=F.sqrt(u),e*=u,h*=u);var u=e*e,w=h*h,u=(l==n?-1:1)*F.sqrt(Z((u*w-u*v*v-w*t*t)/\n",
       "(u*v*v+w*t*t)));l=u*e*v/h+(b+k)/2;var u=u*-h*t/e+(d+p)/2,v=F.asin(((d-u)/h).toFixed(9));t=F.asin(((p-u)/h).toFixed(9));v=b<l?S-v:v;t=k<l?S-t:t;0>v&&(v=2*S+v);0>t&&(t=2*S+t);n&&v>t&&(v-=2*S);!n&&t>v&&(t-=2*S)}if(Z(t-v)>r){var c=t,w=k,G=p;t=v+r*(n&&t>v?1:-1);k=l+e*F.cos(t);p=u+h*F.sin(t);c=K(k,p,e,h,f,0,n,w,G,[t,c,l,u])}l=t-v;f=F.cos(v);r=F.sin(v);n=F.cos(t);t=F.sin(t);l=F.tan(l/4);e=4/3*e*l;l*=4/3*h;h=[b,d];b=[b+e*r,d-l*f];d=[k+e*t,p-l*n];k=[k,p];b[0]=2*h[0]-b[0];b[1]=2*h[1]-b[1];if(s)return[b,d,k].concat(c);\n",
       "c=[b,d,k].concat(c).join().split(\",\");s=[];k=0;for(p=c.length;k<p;k++)s[k]=k%2?x(c[k-1],c[k],q).y:x(c[k],c[k+1],q).x;return s}function U(a,b,d,e,h,f,l,k){for(var n=[],p=[[],[] ],s,r,c,t,q=0;2>q;++q)0==q?(r=6*a-12*d+6*h,s=-3*a+9*d-9*h+3*l,c=3*d-3*a):(r=6*b-12*e+6*f,s=-3*b+9*e-9*f+3*k,c=3*e-3*b),1E-12>Z(s)?1E-12>Z(r)||(s=-c/r,0<s&&1>s&&n.push(s)):(t=r*r-4*c*s,c=F.sqrt(t),0>t||(t=(-r+c)/(2*s),0<t&&1>t&&n.push(t),s=(-r-c)/(2*s),0<s&&1>s&&n.push(s)));for(r=q=n.length;q--;)s=n[q],c=1-s,p[0][q]=c*c*c*a+3*\n",
       "c*c*s*d+3*c*s*s*h+s*s*s*l,p[1][q]=c*c*c*b+3*c*c*s*e+3*c*s*s*f+s*s*s*k;p[0][r]=a;p[1][r]=b;p[0][r+1]=l;p[1][r+1]=k;p[0].length=p[1].length=r+2;return{min:{x:X.apply(0,p[0]),y:X.apply(0,p[1])},max:{x:W.apply(0,p[0]),y:W.apply(0,p[1])}}}function I(a,b){var e=!b&&A(a);if(!b&&e.curve)return d(e.curve);var f=G(a),l=b&&G(b),n={x:0,y:0,bx:0,by:0,X:0,Y:0,qx:null,qy:null},k={x:0,y:0,bx:0,by:0,X:0,Y:0,qx:null,qy:null},p=function(a,b,c){if(!a)return[\"C\",b.x,b.y,b.x,b.y,b.x,b.y];a[0]in{T:1,Q:1}||(b.qx=b.qy=null);\n",
       "switch(a[0]){case \"M\":b.X=a[1];b.Y=a[2];break;case \"A\":a=[\"C\"].concat(K.apply(0,[b.x,b.y].concat(a.slice(1))));break;case \"S\":\"C\"==c||\"S\"==c?(c=2*b.x-b.bx,b=2*b.y-b.by):(c=b.x,b=b.y);a=[\"C\",c,b].concat(a.slice(1));break;case \"T\":\"Q\"==c||\"T\"==c?(b.qx=2*b.x-b.qx,b.qy=2*b.y-b.qy):(b.qx=b.x,b.qy=b.y);a=[\"C\"].concat(J(b.x,b.y,b.qx,b.qy,a[1],a[2]));break;case \"Q\":b.qx=a[1];b.qy=a[2];a=[\"C\"].concat(J(b.x,b.y,a[1],a[2],a[3],a[4]));break;case \"L\":a=[\"C\"].concat(h(b.x,b.y,a[1],a[2]));break;case \"H\":a=[\"C\"].concat(h(b.x,\n",
       "b.y,a[1],b.y));break;case \"V\":a=[\"C\"].concat(h(b.x,b.y,b.x,a[1]));break;case \"Z\":a=[\"C\"].concat(h(b.x,b.y,b.X,b.Y))}return a},s=function(a,b){if(7<a[b].length){a[b].shift();for(var c=a[b];c.length;)q[b]=\"A\",l&&(u[b]=\"A\"),a.splice(b++,0,[\"C\"].concat(c.splice(0,6)));a.splice(b,1);v=W(f.length,l&&l.length||0)}},r=function(a,b,c,d,e){a&&b&&\"M\"==a[e][0]&&\"M\"!=b[e][0]&&(b.splice(e,0,[\"M\",d.x,d.y]),c.bx=0,c.by=0,c.x=a[e][1],c.y=a[e][2],v=W(f.length,l&&l.length||0))},q=[],u=[],c=\"\",t=\"\",x=0,v=W(f.length,\n",
       "l&&l.length||0);for(;x<v;x++){f[x]&&(c=f[x][0]);\"C\"!=c&&(q[x]=c,x&&(t=q[x-1]));f[x]=p(f[x],n,t);\"A\"!=q[x]&&\"C\"==c&&(q[x]=\"C\");s(f,x);l&&(l[x]&&(c=l[x][0]),\"C\"!=c&&(u[x]=c,x&&(t=u[x-1])),l[x]=p(l[x],k,t),\"A\"!=u[x]&&\"C\"==c&&(u[x]=\"C\"),s(l,x));r(f,l,n,k,x);r(l,f,k,n,x);var w=f[x],z=l&&l[x],y=w.length,U=l&&z.length;n.x=w[y-2];n.y=w[y-1];n.bx=$(w[y-4])||n.x;n.by=$(w[y-3])||n.y;k.bx=l&&($(z[U-4])||k.x);k.by=l&&($(z[U-3])||k.y);k.x=l&&z[U-2];k.y=l&&z[U-1]}l||(e.curve=d(f));return l?[f,l]:f}function P(a,\n",
       "b){for(var d=[],e=0,h=a.length;h-2*!b>e;e+=2){var f=[{x:+a[e-2],y:+a[e-1]},{x:+a[e],y:+a[e+1]},{x:+a[e+2],y:+a[e+3]},{x:+a[e+4],y:+a[e+5]}];b?e?h-4==e?f[3]={x:+a[0],y:+a[1]}:h-2==e&&(f[2]={x:+a[0],y:+a[1]},f[3]={x:+a[2],y:+a[3]}):f[0]={x:+a[h-2],y:+a[h-1]}:h-4==e?f[3]=f[2]:e||(f[0]={x:+a[e],y:+a[e+1]});d.push([\"C\",(-f[0].x+6*f[1].x+f[2].x)/6,(-f[0].y+6*f[1].y+f[2].y)/6,(f[1].x+6*f[2].x-f[3].x)/6,(f[1].y+6*f[2].y-f[3].y)/6,f[2].x,f[2].y])}return d}y=k.prototype;var Q=a.is,C=a._.clone,L=\"hasOwnProperty\",\n",
       "N=/,?([a-z]),?/gi,$=parseFloat,F=Math,S=F.PI,X=F.min,W=F.max,ma=F.pow,Z=F.abs;M=n(1);var na=n(),ba=n(0,1),V=a._unit2px;a.path=A;a.path.getTotalLength=M;a.path.getPointAtLength=na;a.path.getSubpath=function(a,b,d){if(1E-6>this.getTotalLength(a)-d)return ba(a,b).end;a=ba(a,d,1);return b?ba(a,b).end:a};y.getTotalLength=function(){if(this.node.getTotalLength)return this.node.getTotalLength()};y.getPointAtLength=function(a){return na(this.attr(\"d\"),a)};y.getSubpath=function(b,d){return a.path.getSubpath(this.attr(\"d\"),\n",
       "b,d)};a._.box=w;a.path.findDotsAtSegment=u;a.path.bezierBBox=p;a.path.isPointInsideBBox=b;a.path.isBBoxIntersect=q;a.path.intersection=function(a,b){return l(a,b)};a.path.intersectionNumber=function(a,b){return l(a,b,1)};a.path.isPointInside=function(a,d,e){var h=r(a);return b(h,d,e)&&1==l(a,[[\"M\",d,e],[\"H\",h.x2+10] ],1)%2};a.path.getBBox=r;a.path.get={path:function(a){return a.attr(\"path\")},circle:function(a){a=V(a);return x(a.cx,a.cy,a.r)},ellipse:function(a){a=V(a);return x(a.cx||0,a.cy||0,a.rx,\n",
       "a.ry)},rect:function(a){a=V(a);return s(a.x||0,a.y||0,a.width,a.height,a.rx,a.ry)},image:function(a){a=V(a);return s(a.x||0,a.y||0,a.width,a.height)},line:function(a){return\"M\"+[a.attr(\"x1\")||0,a.attr(\"y1\")||0,a.attr(\"x2\"),a.attr(\"y2\")]},polyline:function(a){return\"M\"+a.attr(\"points\")},polygon:function(a){return\"M\"+a.attr(\"points\")+\"z\"},deflt:function(a){a=a.node.getBBox();return s(a.x,a.y,a.width,a.height)}};a.path.toRelative=function(b){var e=A(b),h=String.prototype.toLowerCase;if(e.rel)return d(e.rel);\n",
       "a.is(b,\"array\")&&a.is(b&&b[0],\"array\")||(b=a.parsePathString(b));var f=[],l=0,n=0,k=0,p=0,s=0;\"M\"==b[0][0]&&(l=b[0][1],n=b[0][2],k=l,p=n,s++,f.push([\"M\",l,n]));for(var r=b.length;s<r;s++){var q=f[s]=[],x=b[s];if(x[0]!=h.call(x[0]))switch(q[0]=h.call(x[0]),q[0]){case \"a\":q[1]=x[1];q[2]=x[2];q[3]=x[3];q[4]=x[4];q[5]=x[5];q[6]=+(x[6]-l).toFixed(3);q[7]=+(x[7]-n).toFixed(3);break;case \"v\":q[1]=+(x[1]-n).toFixed(3);break;case \"m\":k=x[1],p=x[2];default:for(var c=1,t=x.length;c<t;c++)q[c]=+(x[c]-(c%2?l:\n",
       "n)).toFixed(3)}else for(f[s]=[],\"m\"==x[0]&&(k=x[1]+l,p=x[2]+n),q=0,c=x.length;q<c;q++)f[s][q]=x[q];x=f[s].length;switch(f[s][0]){case \"z\":l=k;n=p;break;case \"h\":l+=+f[s][x-1];break;case \"v\":n+=+f[s][x-1];break;default:l+=+f[s][x-2],n+=+f[s][x-1]}}f.toString=z;e.rel=d(f);return f};a.path.toAbsolute=G;a.path.toCubic=I;a.path.map=function(a,b){if(!b)return a;var d,e,h,f,l,n,k;a=I(a);h=0;for(l=a.length;h<l;h++)for(k=a[h],f=1,n=k.length;f<n;f+=2)d=b.x(k[f],k[f+1]),e=b.y(k[f],k[f+1]),k[f]=d,k[f+1]=e;return a};\n",
       "a.path.toString=z;a.path.clone=d});C.plugin(function(a,v,y,C){var A=Math.max,w=Math.min,z=function(a){this.items=[];this.bindings={};this.length=0;this.type=\"set\";if(a)for(var f=0,n=a.length;f<n;f++)a[f]&&(this[this.items.length]=this.items[this.items.length]=a[f],this.length++)};v=z.prototype;v.push=function(){for(var a,f,n=0,k=arguments.length;n<k;n++)if(a=arguments[n])f=this.items.length,this[f]=this.items[f]=a,this.length++;return this};v.pop=function(){this.length&&delete this[this.length--];\n",
       "return this.items.pop()};v.forEach=function(a,f){for(var n=0,k=this.items.length;n<k&&!1!==a.call(f,this.items[n],n);n++);return this};v.animate=function(d,f,n,u){\"function\"!=typeof n||n.length||(u=n,n=L.linear);d instanceof a._.Animation&&(u=d.callback,n=d.easing,f=n.dur,d=d.attr);var p=arguments;if(a.is(d,\"array\")&&a.is(p[p.length-1],\"array\"))var b=!0;var q,e=function(){q?this.b=q:q=this.b},l=0,r=u&&function(){l++==this.length&&u.call(this)};return this.forEach(function(a,l){k.once(\"snap.animcreated.\"+\n",
       "a.id,e);b?p[l]&&a.animate.apply(a,p[l]):a.animate(d,f,n,r)})};v.remove=function(){for(;this.length;)this.pop().remove();return this};v.bind=function(a,f,k){var u={};if(\"function\"==typeof f)this.bindings[a]=f;else{var p=k||a;this.bindings[a]=function(a){u[p]=a;f.attr(u)}}return this};v.attr=function(a){var f={},k;for(k in a)if(this.bindings[k])this.bindings[k](a[k]);else f[k]=a[k];a=0;for(k=this.items.length;a<k;a++)this.items[a].attr(f);return this};v.clear=function(){for(;this.length;)this.pop()};\n",
       "v.splice=function(a,f,k){a=0>a?A(this.length+a,0):a;f=A(0,w(this.length-a,f));var u=[],p=[],b=[],q;for(q=2;q<arguments.length;q++)b.push(arguments[q]);for(q=0;q<f;q++)p.push(this[a+q]);for(;q<this.length-a;q++)u.push(this[a+q]);var e=b.length;for(q=0;q<e+u.length;q++)this.items[a+q]=this[a+q]=q<e?b[q]:u[q-e];for(q=this.items.length=this.length-=f-e;this[q];)delete this[q++];return new z(p)};v.exclude=function(a){for(var f=0,k=this.length;f<k;f++)if(this[f]==a)return this.splice(f,1),!0;return!1};\n",
       "v.insertAfter=function(a){for(var f=this.items.length;f--;)this.items[f].insertAfter(a);return this};v.getBBox=function(){for(var a=[],f=[],k=[],u=[],p=this.items.length;p--;)if(!this.items[p].removed){var b=this.items[p].getBBox();a.push(b.x);f.push(b.y);k.push(b.x+b.width);u.push(b.y+b.height)}a=w.apply(0,a);f=w.apply(0,f);k=A.apply(0,k);u=A.apply(0,u);return{x:a,y:f,x2:k,y2:u,width:k-a,height:u-f,cx:a+(k-a)/2,cy:f+(u-f)/2}};v.clone=function(a){a=new z;for(var f=0,k=this.items.length;f<k;f++)a.push(this.items[f].clone());\n",
       "return a};v.toString=function(){return\"Snap\\u2018s set\"};v.type=\"set\";a.set=function(){var a=new z;arguments.length&&a.push.apply(a,Array.prototype.slice.call(arguments,0));return a}});C.plugin(function(a,v,y,C){function A(a){var b=a[0];switch(b.toLowerCase()){case \"t\":return[b,0,0];case \"m\":return[b,1,0,0,1,0,0];case \"r\":return 4==a.length?[b,0,a[2],a[3] ]:[b,0];case \"s\":return 5==a.length?[b,1,1,a[3],a[4] ]:3==a.length?[b,1,1]:[b,1]}}function w(b,d,f){d=q(d).replace(/\\.{3}|\\u2026/g,b);b=a.parseTransformString(b)||\n",
       "[];d=a.parseTransformString(d)||[];for(var k=Math.max(b.length,d.length),p=[],v=[],h=0,w,z,y,I;h<k;h++){y=b[h]||A(d[h]);I=d[h]||A(y);if(y[0]!=I[0]||\"r\"==y[0].toLowerCase()&&(y[2]!=I[2]||y[3]!=I[3])||\"s\"==y[0].toLowerCase()&&(y[3]!=I[3]||y[4]!=I[4])){b=a._.transform2matrix(b,f());d=a._.transform2matrix(d,f());p=[[\"m\",b.a,b.b,b.c,b.d,b.e,b.f] ];v=[[\"m\",d.a,d.b,d.c,d.d,d.e,d.f] ];break}p[h]=[];v[h]=[];w=0;for(z=Math.max(y.length,I.length);w<z;w++)w in y&&(p[h][w]=y[w]),w in I&&(v[h][w]=I[w])}return{from:u(p),\n",
       "to:u(v),f:n(p)}}function z(a){return a}function d(a){return function(b){return+b.toFixed(3)+a}}function f(b){return a.rgb(b[0],b[1],b[2])}function n(a){var b=0,d,f,k,n,h,p,q=[];d=0;for(f=a.length;d<f;d++){h=\"[\";p=['\"'+a[d][0]+'\"'];k=1;for(n=a[d].length;k<n;k++)p[k]=\"val[\"+b++ +\"]\";h+=p+\"]\";q[d]=h}return Function(\"val\",\"return Snap.path.toString.call([\"+q+\"])\")}function u(a){for(var b=[],d=0,f=a.length;d<f;d++)for(var k=1,n=a[d].length;k<n;k++)b.push(a[d][k]);return b}var p={},b=/[a-z]+$/i,q=String;\n",
       "p.stroke=p.fill=\"colour\";v.prototype.equal=function(a,b){return k(\"snap.util.equal\",this,a,b).firstDefined()};k.on(\"snap.util.equal\",function(e,k){var r,s;r=q(this.attr(e)||\"\");var x=this;if(r==+r&&k==+k)return{from:+r,to:+k,f:z};if(\"colour\"==p[e])return r=a.color(r),s=a.color(k),{from:[r.r,r.g,r.b,r.opacity],to:[s.r,s.g,s.b,s.opacity],f:f};if(\"transform\"==e||\"gradientTransform\"==e||\"patternTransform\"==e)return k instanceof a.Matrix&&(k=k.toTransformString()),a._.rgTransform.test(k)||(k=a._.svgTransform2string(k)),\n",
       "w(r,k,function(){return x.getBBox(1)});if(\"d\"==e||\"path\"==e)return r=a.path.toCubic(r,k),{from:u(r[0]),to:u(r[1]),f:n(r[0])};if(\"points\"==e)return r=q(r).split(a._.separator),s=q(k).split(a._.separator),{from:r,to:s,f:function(a){return a}};aUnit=r.match(b);s=q(k).match(b);return aUnit&&aUnit==s?{from:parseFloat(r),to:parseFloat(k),f:d(aUnit)}:{from:this.asPX(e),to:this.asPX(e,k),f:z}})});C.plugin(function(a,v,y,C){var A=v.prototype,w=\"createTouch\"in C.doc;v=\"click dblclick mousedown mousemove mouseout mouseover mouseup touchstart touchmove touchend touchcancel\".split(\" \");\n",
       "var z={mousedown:\"touchstart\",mousemove:\"touchmove\",mouseup:\"touchend\"},d=function(a,b){var d=\"y\"==a?\"scrollTop\":\"scrollLeft\",e=b&&b.node?b.node.ownerDocument:C.doc;return e[d in e.documentElement?\"documentElement\":\"body\"][d]},f=function(){this.returnValue=!1},n=function(){return this.originalEvent.preventDefault()},u=function(){this.cancelBubble=!0},p=function(){return this.originalEvent.stopPropagation()},b=function(){if(C.doc.addEventListener)return function(a,b,e,f){var k=w&&z[b]?z[b]:b,l=function(k){var l=\n",
       "d(\"y\",f),q=d(\"x\",f);if(w&&z.hasOwnProperty(b))for(var r=0,u=k.targetTouches&&k.targetTouches.length;r<u;r++)if(k.targetTouches[r].target==a||a.contains(k.targetTouches[r].target)){u=k;k=k.targetTouches[r];k.originalEvent=u;k.preventDefault=n;k.stopPropagation=p;break}return e.call(f,k,k.clientX+q,k.clientY+l)};b!==k&&a.addEventListener(b,l,!1);a.addEventListener(k,l,!1);return function(){b!==k&&a.removeEventListener(b,l,!1);a.removeEventListener(k,l,!1);return!0}};if(C.doc.attachEvent)return function(a,\n",
       "b,e,h){var k=function(a){a=a||h.node.ownerDocument.window.event;var b=d(\"y\",h),k=d(\"x\",h),k=a.clientX+k,b=a.clientY+b;a.preventDefault=a.preventDefault||f;a.stopPropagation=a.stopPropagation||u;return e.call(h,a,k,b)};a.attachEvent(\"on\"+b,k);return function(){a.detachEvent(\"on\"+b,k);return!0}}}(),q=[],e=function(a){for(var b=a.clientX,e=a.clientY,f=d(\"y\"),l=d(\"x\"),n,p=q.length;p--;){n=q[p];if(w)for(var r=a.touches&&a.touches.length,u;r--;){if(u=a.touches[r],u.identifier==n.el._drag.id||n.el.node.contains(u.target)){b=\n",
       "u.clientX;e=u.clientY;(a.originalEvent?a.originalEvent:a).preventDefault();break}}else a.preventDefault();b+=l;e+=f;k(\"snap.drag.move.\"+n.el.id,n.move_scope||n.el,b-n.el._drag.x,e-n.el._drag.y,b,e,a)}},l=function(b){a.unmousemove(e).unmouseup(l);for(var d=q.length,f;d--;)f=q[d],f.el._drag={},k(\"snap.drag.end.\"+f.el.id,f.end_scope||f.start_scope||f.move_scope||f.el,b);q=[]};for(y=v.length;y--;)(function(d){a[d]=A[d]=function(e,f){a.is(e,\"function\")&&(this.events=this.events||[],this.events.push({name:d,\n",
       "f:e,unbind:b(this.node||document,d,e,f||this)}));return this};a[\"un\"+d]=A[\"un\"+d]=function(a){for(var b=this.events||[],e=b.length;e--;)if(b[e].name==d&&(b[e].f==a||!a)){b[e].unbind();b.splice(e,1);!b.length&&delete this.events;break}return this}})(v[y]);A.hover=function(a,b,d,e){return this.mouseover(a,d).mouseout(b,e||d)};A.unhover=function(a,b){return this.unmouseover(a).unmouseout(b)};var r=[];A.drag=function(b,d,f,h,n,p){function u(r,v,w){(r.originalEvent||r).preventDefault();this._drag.x=v;\n",
       "this._drag.y=w;this._drag.id=r.identifier;!q.length&&a.mousemove(e).mouseup(l);q.push({el:this,move_scope:h,start_scope:n,end_scope:p});d&&k.on(\"snap.drag.start.\"+this.id,d);b&&k.on(\"snap.drag.move.\"+this.id,b);f&&k.on(\"snap.drag.end.\"+this.id,f);k(\"snap.drag.start.\"+this.id,n||h||this,v,w,r)}if(!arguments.length){var v;return this.drag(function(a,b){this.attr({transform:v+(v?\"T\":\"t\")+[a,b]})},function(){v=this.transform().local})}this._drag={};r.push({el:this,start:u});this.mousedown(u);return this};\n",
       "A.undrag=function(){for(var b=r.length;b--;)r[b].el==this&&(this.unmousedown(r[b].start),r.splice(b,1),k.unbind(\"snap.drag.*.\"+this.id));!r.length&&a.unmousemove(e).unmouseup(l);return this}});C.plugin(function(a,v,y,C){y=y.prototype;var A=/^\\s*url\\((.+)\\)/,w=String,z=a._.$;a.filter={};y.filter=function(d){var f=this;\"svg\"!=f.type&&(f=f.paper);d=a.parse(w(d));var k=a._.id(),u=z(\"filter\");z(u,{id:k,filterUnits:\"userSpaceOnUse\"});u.appendChild(d.node);f.defs.appendChild(u);return new v(u)};k.on(\"snap.util.getattr.filter\",\n",
       "function(){k.stop();var d=z(this.node,\"filter\");if(d)return(d=w(d).match(A))&&a.select(d[1])});k.on(\"snap.util.attr.filter\",function(d){if(d instanceof v&&\"filter\"==d.type){k.stop();var f=d.node.id;f||(z(d.node,{id:d.id}),f=d.id);z(this.node,{filter:a.url(f)})}d&&\"none\"!=d||(k.stop(),this.node.removeAttribute(\"filter\"))});a.filter.blur=function(d,f){null==d&&(d=2);return a.format('<feGaussianBlur stdDeviation=\"{def}\"/>',{def:null==f?d:[d,f]})};a.filter.blur.toString=function(){return this()};a.filter.shadow=\n",
       "function(d,f,k,u,p){\"string\"==typeof k&&(p=u=k,k=4);\"string\"!=typeof u&&(p=u,u=\"#000\");null==k&&(k=4);null==p&&(p=1);null==d&&(d=0,f=2);null==f&&(f=d);u=a.color(u||\"#000\");return a.format('<feGaussianBlur in=\"SourceAlpha\" stdDeviation=\"{blur}\"/><feOffset dx=\"{dx}\" dy=\"{dy}\" result=\"offsetblur\"/><feFlood flood-color=\"{color}\"/><feComposite in2=\"offsetblur\" operator=\"in\"/><feComponentTransfer><feFuncA type=\"linear\" slope=\"{opacity}\"/></feComponentTransfer><feMerge><feMergeNode/><feMergeNode in=\"SourceGraphic\"/></feMerge>',\n",
       "{color:u,dx:d,dy:f,blur:k,opacity:p})};a.filter.shadow.toString=function(){return this()};a.filter.grayscale=function(d){null==d&&(d=1);return a.format('<feColorMatrix type=\"matrix\" values=\"{a} {b} {c} 0 0 {d} {e} {f} 0 0 {g} {b} {h} 0 0 0 0 0 1 0\"/>',{a:0.2126+0.7874*(1-d),b:0.7152-0.7152*(1-d),c:0.0722-0.0722*(1-d),d:0.2126-0.2126*(1-d),e:0.7152+0.2848*(1-d),f:0.0722-0.0722*(1-d),g:0.2126-0.2126*(1-d),h:0.0722+0.9278*(1-d)})};a.filter.grayscale.toString=function(){return this()};a.filter.sepia=\n",
       "function(d){null==d&&(d=1);return a.format('<feColorMatrix type=\"matrix\" values=\"{a} {b} {c} 0 0 {d} {e} {f} 0 0 {g} {h} {i} 0 0 0 0 0 1 0\"/>',{a:0.393+0.607*(1-d),b:0.769-0.769*(1-d),c:0.189-0.189*(1-d),d:0.349-0.349*(1-d),e:0.686+0.314*(1-d),f:0.168-0.168*(1-d),g:0.272-0.272*(1-d),h:0.534-0.534*(1-d),i:0.131+0.869*(1-d)})};a.filter.sepia.toString=function(){return this()};a.filter.saturate=function(d){null==d&&(d=1);return a.format('<feColorMatrix type=\"saturate\" values=\"{amount}\"/>',{amount:1-\n",
       "d})};a.filter.saturate.toString=function(){return this()};a.filter.hueRotate=function(d){return a.format('<feColorMatrix type=\"hueRotate\" values=\"{angle}\"/>',{angle:d||0})};a.filter.hueRotate.toString=function(){return this()};a.filter.invert=function(d){null==d&&(d=1);return a.format('<feComponentTransfer><feFuncR type=\"table\" tableValues=\"{amount} {amount2}\"/><feFuncG type=\"table\" tableValues=\"{amount} {amount2}\"/><feFuncB type=\"table\" tableValues=\"{amount} {amount2}\"/></feComponentTransfer>',{amount:d,\n",
       "amount2:1-d})};a.filter.invert.toString=function(){return this()};a.filter.brightness=function(d){null==d&&(d=1);return a.format('<feComponentTransfer><feFuncR type=\"linear\" slope=\"{amount}\"/><feFuncG type=\"linear\" slope=\"{amount}\"/><feFuncB type=\"linear\" slope=\"{amount}\"/></feComponentTransfer>',{amount:d})};a.filter.brightness.toString=function(){return this()};a.filter.contrast=function(d){null==d&&(d=1);return a.format('<feComponentTransfer><feFuncR type=\"linear\" slope=\"{amount}\" intercept=\"{amount2}\"/><feFuncG type=\"linear\" slope=\"{amount}\" intercept=\"{amount2}\"/><feFuncB type=\"linear\" slope=\"{amount}\" intercept=\"{amount2}\"/></feComponentTransfer>',\n",
       "{amount:d,amount2:0.5-d/2})};a.filter.contrast.toString=function(){return this()}});return C});\n",
       "\n",
       "]]> </script>\n",
       "</svg>\n"
      ],
      "text/plain": [
       "Compose.Context(Measures.BoundingBox{Tuple{Measures.Length{:w,Float64},Measures.Length{:h,Float64}},Tuple{Measures.Length{:w,Float64},Measures.Length{:h,Float64}}}((0.0w, 0.0h), (1.0w, 1.0h)), Compose.UnitBox{Float64,Float64,Float64,Float64}(-1.2, -1.2, 2.4, 2.4, 0.0mm, 0.0mm, 0.0mm, 0.0mm), nothing, nothing, nothing, List([Compose.Context(Measures.BoundingBox{Tuple{Measures.Length{:w,Float64},Measures.Length{:h,Float64}},Tuple{Measures.Length{:w,Float64},Measures.Length{:h,Float64}}}((0.0w, 0.0h), (1.0w, 1.0h)), nothing, nothing, nothing, nothing, List([]), List([Compose.Form{Compose.LinePrimitive}(Compose.LinePrimitive[LinePrimitive{Tuple{Measure,Measure}}(Tuple{Measures.Measure,Measures.Measure}[(0.0186646cx, 0.951213cy), (-0.0854119cx, 0.713287cy)]), LinePrimitive{Tuple{Measure,Measure}}(Tuple{Measures.Measure,Measures.Measure}[(-0.13922cx, 0.69406cy), (-0.271504cx, 0.761603cy)]), LinePrimitive{Tuple{Measure,Measure}}(Tuple{Measures.Measure,Measures.Measure}[(-0.332283cx, 0.746259cy), (-0.46657cx, 0.551717cy)]), LinePrimitive{Tuple{Measure,Measure}}(Tuple{Measures.Measure,Measures.Measure}[(-0.960203cx, 0.578189cy), (-0.688516cx, 0.493926cy)]), LinePrimitive{Tuple{Measure,Measure}}(Tuple{Measures.Measure,Measures.Measure}[(-0.664782cx, 0.52003cy), (-0.700604cx, 0.605774cy)]), LinePrimitive{Tuple{Measure,Measure}}(Tuple{Measures.Measure,Measures.Measure}[(-0.647767cx, 0.523239cy), (-0.644178cx, 0.68023cy)]), LinePrimitive{Tuple{Measure,Measure}}(Tuple{Measures.Measure,Measures.Measure}[(-0.680312cx, 0.623863cy), (-0.526595cx, 0.537784cy)]), LinePrimitive{Tuple{Measure,Measure}}(Tuple{Measures.Measure,Measures.Measure}[(-0.589463cx, 0.960901cy), (-0.49317cx, 0.699435cy)]), LinePrimitive{Tuple{Measure,Measure}}(Tuple{Measures.Measure,Measures.Measure}[(-0.520342cx, 0.65752cy), (-0.675095cx, 0.647037cy)]), LinePrimitive{Tuple{Measure,Measure}}(Tuple{Measures.Measure,Measures.Measure}[(-0.517794cx, 0.674941cy), (-0.604203cx, 0.707281cy)])  …  LinePrimitive{Tuple{Measure,Measure}}(Tuple{Measures.Measure,Measures.Measure}[(0.0695139cx, -0.470987cy), (0.0515155cx, -0.272304cy)]), LinePrimitive{Tuple{Measure,Measure}}(Tuple{Measures.Measure,Measures.Measure}[(0.158358cx, -0.417205cy), (0.247537cx, -0.510787cy)]), LinePrimitive{Tuple{Measure,Measure}}(Tuple{Measures.Measure,Measures.Measure}[(0.118512cx, -0.34688cy), (0.0729731cx, -0.182129cy)]), LinePrimitive{Tuple{Measure,Measure}}(Tuple{Measures.Measure,Measures.Measure}[(0.284125cx, -0.500029cy), (0.301951cx, -0.407035cy)]), LinePrimitive{Tuple{Measure,Measure}}(Tuple{Measures.Measure,Measures.Measure}[(0.309668cx, -0.516021cy), (0.434988cx, -0.422446cy)]), LinePrimitive{Tuple{Measure,Measure}}(Tuple{Measures.Measure,Measures.Measure}[(0.272772cx, -0.346997cy), (0.0847788cx, -0.249924cy)]), LinePrimitive{Tuple{Measure,Measure}}(Tuple{Measures.Measure,Measures.Measure}[(0.350668cx, -0.374208cy), (0.427502cx, -0.389423cy)]), LinePrimitive{Tuple{Measure,Measure}}(Tuple{Measures.Measure,Measures.Measure}[(0.0542949cx, -0.189657cy), (0.0553337cx, -0.183119cy)]), LinePrimitive{Tuple{Measure,Measure}}(Tuple{Measures.Measure,Measures.Measure}[(0.102915cx, -0.134787cy), (0.153924cx, -0.125862cy)]), LinePrimitive{Tuple{Measure,Measure}}(Tuple{Measures.Measure,Measures.Measure}[(0.224139cx, -0.148431cy), (0.439203cx, -0.367766cy)])], Symbol(\"\"))]), List([Compose.Property{Compose.LineWidthPrimitive}(Compose.LineWidthPrimitive[LineWidthPrimitive(0.5mm)]), Compose.Property{Compose.FillPrimitive}(Compose.FillPrimitive[FillPrimitive(RGBA{Float64}(0.0,0.0,0.0,0.0))]), Compose.Property{Compose.StrokePrimitive}(Compose.StrokePrimitive[StrokePrimitive(RGBA{Float64}(0.827451,0.827451,0.827451,1.0))])]), 0, false, false, false, false, nothing, nothing, 0.0, Symbol(\"\")), Compose.Context(Measures.BoundingBox{Tuple{Measures.Length{:w,Float64},Measures.Length{:h,Float64}},Tuple{Measures.Length{:w,Float64},Measures.Length{:h,Float64}}}((0.0w, 0.0h), (1.0w, 1.0h)), nothing, nothing, nothing, nothing, List([]), List([Compose.Form{Compose.LinePrimitive}(Compose.LinePrimitive[LinePrimitive{Tuple{Measure,Measure}}(Tuple{Measures.Measure,Measures.Measure}[(-0.0790874cx, 0.813087cy), (-0.0854119cx, 0.713287cy), (-0.016417cx, 0.785673cy)]), LinePrimitive{Tuple{Measure,Measure}}(Tuple{Measures.Measure,Measures.Measure}[(-0.172259cx, 0.749332cy), (-0.271504cx, 0.761603cy), (-0.203365cx, 0.68841cy)]), LinePrimitive{Tuple{Measure,Measure}}(Tuple{Measures.Measure,Measures.Measure}[(-0.441336cx, 0.648481cy), (-0.46657cx, 0.551717cy), (-0.385041cx, 0.609622cy)]), LinePrimitive{Tuple{Measure,Measure}}(Tuple{Measures.Measure,Measures.Measure}[(-0.788399cx, 0.489095cy), (-0.688516cx, 0.493926cy), (-0.768136cx, 0.554429cy)]), LinePrimitive{Tuple{Measure,Measure}}(Tuple{Measures.Measure,Measures.Measure}[(-0.632821cx, 0.532253cy), (-0.700604cx, 0.605774cy), (-0.695938cx, 0.505883cy)]), LinePrimitive{Tuple{Measure,Measure}}(Tuple{Measures.Measure,Measures.Measure}[(-0.612133cx, 0.585504cy), (-0.644178cx, 0.68023cy), (-0.680519cx, 0.587067cy)]), LinePrimitive{Tuple{Measure,Measure}}(Tuple{Measures.Measure,Measures.Measure}[(-0.625295cx, 0.553855cy), (-0.526595cx, 0.537784cy), (-0.591874cx, 0.613538cy)]), LinePrimitive{Tuple{Measure,Measure}}(Tuple{Measures.Measure,Measures.Measure}[(-0.55774cx, 0.775795cy), (-0.49317cx, 0.699435cy), (-0.49355cx, 0.799434cy)]), LinePrimitive{Tuple{Measure,Measure}}(Tuple{Measures.Measure,Measures.Measure}[(-0.583652cx, 0.687511cy), (-0.675095cx, 0.647037cy), (-0.579029cx, 0.619264cy)]), LinePrimitive{Tuple{Measure,Measure}}(Tuple{Measures.Measure,Measures.Measure}[(-0.504207cx, 0.706375cy), (-0.604203cx, 0.707281cy), (-0.528184cx, 0.642311cy)])  …  LinePrimitive{Tuple{Measure,Measure}}(Tuple{Measures.Measure,Measures.Measure}[(0.0940559cx, -0.362804cy), (0.0515155cx, -0.272304cy), (0.0259308cx, -0.368976cy)]), LinePrimitive{Tuple{Measure,Measure}}(Tuple{Measures.Measure,Measures.Measure}[(0.15795cx, -0.466354cy), (0.247537cx, -0.510787cy), (0.20747cx, -0.419164cy)]), LinePrimitive{Tuple{Measure,Measure}}(Tuple{Measures.Measure,Measures.Measure}[(0.130974cx, -0.26359cy), (0.0729731cx, -0.182129cy), (0.0650426cx, -0.281814cy)]), LinePrimitive{Tuple{Measure,Measure}}(Tuple{Measures.Measure,Measures.Measure}[(0.317851cx, -0.505763cy), (0.301951cx, -0.407035cy), (0.25067cx, -0.492886cy)]), LinePrimitive{Tuple{Measure,Measure}}(Tuple{Measures.Measure,Measures.Measure}[(0.380157cx, -0.506073cy), (0.434988cx, -0.422446cy), (0.33923cx, -0.451263cy)]), LinePrimitive{Tuple{Measure,Measure}}(Tuple{Measures.Measure,Measures.Measure}[(0.183966cx, -0.262648cy), (0.0847788cx, -0.249924cy), (0.152582cx, -0.323428cy)]), LinePrimitive{Tuple{Measure,Measure}}(Tuple{Measures.Measure,Measures.Measure}[(0.328678cx, -0.404719cy), (0.427502cx, -0.389423cy), (0.341966cx, -0.337618cy)]), LinePrimitive{Tuple{Measure,Measure}}(Tuple{Measures.Measure,Measures.Measure}[(0.0743661cx, -0.281291cy), (0.0553337cx, -0.183119cy), (0.00680957cx, -0.270557cy)]), LinePrimitive{Tuple{Measure,Measure}}(Tuple{Measures.Measure,Measures.Measure}[(0.0672562cx, -0.175748cy), (0.153924cx, -0.125862cy), (0.0554667cx, -0.108367cy)]), LinePrimitive{Tuple{Measure,Measure}}(Tuple{Measures.Measure,Measures.Measure}[(0.348992cx, -0.324615cy), (0.439203cx, -0.367766cy), (0.397834cx, -0.276724cy)])], Symbol(\"\"))]), List([Compose.Property{Compose.LineWidthPrimitive}(Compose.LineWidthPrimitive[LineWidthPrimitive(0.5mm)]), Compose.Property{Compose.StrokePrimitive}(Compose.StrokePrimitive[StrokePrimitive(RGBA{Float64}(0.827451,0.827451,0.827451,1.0))])]), 0, false, false, false, false, nothing, nothing, 0.0, Symbol(\"\")), Compose.Context(Measures.BoundingBox{Tuple{Measures.Length{:w,Float64},Measures.Length{:h,Float64}},Tuple{Measures.Length{:w,Float64},Measures.Length{:h,Float64}}}((0.0w, 0.0h), (1.0w, 1.0h)), nothing, nothing, nothing, nothing, List([]), List([]), List([Compose.Property{Compose.FontSizePrimitive}(Compose.FontSizePrimitive[FontSizePrimitive(4.0mm)]), Compose.Property{Compose.StrokePrimitive}(Compose.StrokePrimitive[StrokePrimitive(RGBA{Float64}(0.0,0.0,0.0,0.0))]), Compose.Property{Compose.FillPrimitive}(Compose.FillPrimitive[FillPrimitive(RGBA{Float64}(0.0,0.0,0.0,1.0))])]), 0, false, false, false, false, nothing, nothing, 0.0, Symbol(\"\")), Compose.Context(Measures.BoundingBox{Tuple{Measures.Length{:w,Float64},Measures.Length{:h,Float64}},Tuple{Measures.Length{:w,Float64},Measures.Length{:h,Float64}}}((0.0w, 0.0h), (1.0w, 1.0h)), nothing, nothing, nothing, nothing, List([]), List([Compose.Form{Compose.CirclePrimitive{Tuple{Measures.Measure,Measures.Measure},Measures.Measure}}(Compose.CirclePrimitive{Tuple{Measures.Measure,Measures.Measure},Measures.Measure}[CirclePrimitive{Tuple{Measure,Measure},Measure}((0.0353632cx, 0.989387cy), 0.0166667w), CirclePrimitive{Tuple{Measure,Measure},Measure}((-0.10211cx, 0.675113cy), 0.0166667w), CirclePrimitive{Tuple{Measure,Measure},Measure}((-0.308613cx, 0.78055cy), 0.0166667w), CirclePrimitive{Tuple{Measure,Measure},Measure}((-1.0cx, 0.590532cy), 0.0166667w), CirclePrimitive{Tuple{Measure,Measure},Measure}((-0.648719cx, 0.481583cy), 0.0166667w), CirclePrimitive{Tuple{Measure,Measure},Measure}((-0.716667cx, 0.644221cy), 0.0166667w), CirclePrimitive{Tuple{Measure,Measure},Measure}((-0.603863cx, 1.0cy), 0.0166667w), CirclePrimitive{Tuple{Measure,Measure},Measure}((-0.47877cx, 0.660336cy), 0.0166667w), CirclePrimitive{Tuple{Measure,Measure},Measure}((-0.643226cx, 0.721886cy), 0.0166667w), CirclePrimitive{Tuple{Measure,Measure},Measure}((-0.968911cx, 0.0108801cy), 0.0166667w)  …  CirclePrimitive{Tuple{Measure,Measure},Measure}((0.691454cx, -0.650413cy), 0.0166667w), CirclePrimitive{Tuple{Measure,Measure},Measure}((0.228241cx, -0.653016cy), 0.0166667w), CirclePrimitive{Tuple{Measure,Measure},Measure}((0.0732731cx, -0.512484cy), 0.0166667w), CirclePrimitive{Tuple{Measure,Measure},Measure}((0.129613cx, -0.387041cy), 0.0166667w), CirclePrimitive{Tuple{Measure,Measure},Measure}((0.276281cx, -0.540951cy), 0.0166667w), CirclePrimitive{Tuple{Measure,Measure},Measure}((0.309795cx, -0.366114cy), 0.0166667w), CirclePrimitive{Tuple{Measure,Measure},Measure}((0.0477564cx, -0.230807cy), 0.0166667w), CirclePrimitive{Tuple{Measure,Measure},Measure}((0.0618722cx, -0.141968cy), 0.0166667w), CirclePrimitive{Tuple{Measure,Measure},Measure}((0.194968cx, -0.11868cy), 0.0166667w), CirclePrimitive{Tuple{Measure,Measure},Measure}((0.468375cx, -0.397517cy), 0.0166667w)], Symbol(\"\"))]), List([Compose.Property{Compose.LineWidthPrimitive}(Compose.LineWidthPrimitive[LineWidthPrimitive(0.0mm)]), Compose.Property{Compose.StrokePrimitive}(Compose.StrokePrimitive[StrokePrimitive(RGBA{Float64}(0.0,0.0,0.0,0.0))]), Compose.Property{Compose.FillPrimitive}(Compose.FillPrimitive[FillPrimitive(RGBA{Float64}(0.25098,0.878431,0.815686,1.0))])]), 0, false, false, false, false, nothing, nothing, 0.0, Symbol(\"\")), Compose.Context(Measures.BoundingBox{Tuple{Measures.Length{:w,Float64},Measures.Length{:h,Float64}},Tuple{Measures.Length{:w,Float64},Measures.Length{:h,Float64}}}((0.0w, 0.0h), (1.0w, 1.0h)), nothing, nothing, nothing, nothing, List([]), List([Compose.Form{Compose.TextPrimitive{Tuple{Measures.Length{:cx,Float64},Measures.Length{:cy,Float64}},Compose.Rotation{Tuple{Measures.Length{:w,Float64},Measures.Length{:h,Float64}}},Tuple{Measures.Length{:mm,Float64},Measures.Length{:mm,Float64}}}}(Compose.TextPrimitive{Tuple{Measures.Length{:cx,Float64},Measures.Length{:cy,Float64}},Compose.Rotation{Tuple{Measures.Length{:w,Float64},Measures.Length{:h,Float64}}},Tuple{Measures.Length{:mm,Float64},Measures.Length{:mm,Float64}}}[TextPrimitive{Tuple{Length{:cx,Float64},Length{:cy,Float64}},Rotation{Tuple{Length{:w,Float64},Length{:h,Float64}}},Tuple{Length{:mm,Float64},Length{:mm,Float64}}}((0.0353632cx, 0.989387cy), \"co2emissions\", HCenter(), VCenter(), Rotation{Tuple{Length{:w,Float64},Length{:h,Float64}}}(0.0, (0.5w, 0.5h)), (0.0mm, 0.0mm)), TextPrimitive{Tuple{Length{:cx,Float64},Length{:cy,Float64}},Rotation{Tuple{Length{:w,Float64},Length{:h,Float64}}},Tuple{Length{:mm,Float64},Length{:mm,Float64}}}((-0.10211cx, 0.675113cy), \"co2cycle\", HCenter(), VCenter(), Rotation{Tuple{Length{:w,Float64},Length{:h,Float64}}}(0.0, (0.5w, 0.5h)), (0.0mm, 0.0mm)), TextPrimitive{Tuple{Length{:cx,Float64},Length{:cy,Float64}},Rotation{Tuple{Length{:w,Float64},Length{:h,Float64}}},Tuple{Length{:mm,Float64},Length{:mm,Float64}}}((-0.308613cx, 0.78055cy), \"co2forcing\", HCenter(), VCenter(), Rotation{Tuple{Length{:w,Float64},Length{:h,Float64}}}(0.0, (0.5w, 0.5h)), (0.0mm, 0.0mm)), TextPrimitive{Tuple{Length{:cx,Float64},Length{:cy,Float64}},Rotation{Tuple{Length{:w,Float64},Length{:h,Float64}}},Tuple{Length{:mm,Float64},Length{:mm,Float64}}}((-1.0cx, 0.590532cy), \"ch4emissions\", HCenter(), VCenter(), Rotation{Tuple{Length{:w,Float64},Length{:h,Float64}}}(0.0, (0.5w, 0.5h)), (0.0mm, 0.0mm)), TextPrimitive{Tuple{Length{:cx,Float64},Length{:cy,Float64}},Rotation{Tuple{Length{:w,Float64},Length{:h,Float64}}},Tuple{Length{:mm,Float64},Length{:mm,Float64}}}((-0.648719cx, 0.481583cy), \"ch4cycle\", HCenter(), VCenter(), Rotation{Tuple{Length{:w,Float64},Length{:h,Float64}}}(0.0, (0.5w, 0.5h)), (0.0mm, 0.0mm)), TextPrimitive{Tuple{Length{:cx,Float64},Length{:cy,Float64}},Rotation{Tuple{Length{:w,Float64},Length{:h,Float64}}},Tuple{Length{:mm,Float64},Length{:mm,Float64}}}((-0.716667cx, 0.644221cy), \"ch4forcing\", HCenter(), VCenter(), Rotation{Tuple{Length{:w,Float64},Length{:h,Float64}}}(0.0, (0.5w, 0.5h)), (0.0mm, 0.0mm)), TextPrimitive{Tuple{Length{:cx,Float64},Length{:cy,Float64}},Rotation{Tuple{Length{:w,Float64},Length{:h,Float64}}},Tuple{Length{:mm,Float64},Length{:mm,Float64}}}((-0.603863cx, 1.0cy), \"n2oemissions\", HCenter(), VCenter(), Rotation{Tuple{Length{:w,Float64},Length{:h,Float64}}}(0.0, (0.5w, 0.5h)), (0.0mm, 0.0mm)), TextPrimitive{Tuple{Length{:cx,Float64},Length{:cy,Float64}},Rotation{Tuple{Length{:w,Float64},Length{:h,Float64}}},Tuple{Length{:mm,Float64},Length{:mm,Float64}}}((-0.47877cx, 0.660336cy), \"n2ocycle\", HCenter(), VCenter(), Rotation{Tuple{Length{:w,Float64},Length{:h,Float64}}}(0.0, (0.5w, 0.5h)), (0.0mm, 0.0mm)), TextPrimitive{Tuple{Length{:cx,Float64},Length{:cy,Float64}},Rotation{Tuple{Length{:w,Float64},Length{:h,Float64}}},Tuple{Length{:mm,Float64},Length{:mm,Float64}}}((-0.643226cx, 0.721886cy), \"n2oforcing\", HCenter(), VCenter(), Rotation{Tuple{Length{:w,Float64},Length{:h,Float64}}}(0.0, (0.5w, 0.5h)), (0.0mm, 0.0mm)), TextPrimitive{Tuple{Length{:cx,Float64},Length{:cy,Float64}},Rotation{Tuple{Length{:w,Float64},Length{:h,Float64}}},Tuple{Length{:mm,Float64},Length{:mm,Float64}}}((-0.968911cx, 0.0108801cy), \"LGemissions\", HCenter(), VCenter(), Rotation{Tuple{Length{:w,Float64},Length{:h,Float64}}}(0.0, (0.5w, 0.5h)), (0.0mm, 0.0mm))  …  TextPrimitive{Tuple{Length{:cx,Float64},Length{:cy,Float64}},Rotation{Tuple{Length{:w,Float64},Length{:h,Float64}}},Tuple{Length{:mm,Float64},Length{:mm,Float64}}}((0.691454cx, -0.650413cy), \"TotalAbatementCosts\", HCenter(), VCenter(), Rotation{Tuple{Length{:w,Float64},Length{:h,Float64}}}(0.0, (0.5w, 0.5h)), (0.0mm, 0.0mm)), TextPrimitive{Tuple{Length{:cx,Float64},Length{:cy,Float64}},Rotation{Tuple{Length{:w,Float64},Length{:h,Float64}}},Tuple{Length{:mm,Float64},Length{:mm,Float64}}}((0.228241cx, -0.653016cy), \"AdaptiveCostsSeaLevel\", HCenter(), VCenter(), Rotation{Tuple{Length{:w,Float64},Length{:h,Float64}}}(0.0, (0.5w, 0.5h)), (0.0mm, 0.0mm)), TextPrimitive{Tuple{Length{:cx,Float64},Length{:cy,Float64}},Rotation{Tuple{Length{:w,Float64},Length{:h,Float64}}},Tuple{Length{:mm,Float64},Length{:mm,Float64}}}((0.0732731cx, -0.512484cy), \"AdaptiveCostsEconomic\", HCenter(), VCenter(), Rotation{Tuple{Length{:w,Float64},Length{:h,Float64}}}(0.0, (0.5w, 0.5h)), (0.0mm, 0.0mm)), TextPrimitive{Tuple{Length{:cx,Float64},Length{:cy,Float64}},Rotation{Tuple{Length{:w,Float64},Length{:h,Float64}}},Tuple{Length{:mm,Float64},Length{:mm,Float64}}}((0.129613cx, -0.387041cy), \"AdaptiveCostsNonEconomic\", HCenter(), VCenter(), Rotation{Tuple{Length{:w,Float64},Length{:h,Float64}}}(0.0, (0.5w, 0.5h)), (0.0mm, 0.0mm)), TextPrimitive{Tuple{Length{:cx,Float64},Length{:cy,Float64}},Rotation{Tuple{Length{:w,Float64},Length{:h,Float64}}},Tuple{Length{:mm,Float64},Length{:mm,Float64}}}((0.276281cx, -0.540951cy), \"TotalAdaptationCosts\", HCenter(), VCenter(), Rotation{Tuple{Length{:w,Float64},Length{:h,Float64}}}(0.0, (0.5w, 0.5h)), (0.0mm, 0.0mm)), TextPrimitive{Tuple{Length{:cx,Float64},Length{:cy,Float64}},Rotation{Tuple{Length{:w,Float64},Length{:h,Float64}}},Tuple{Length{:mm,Float64},Length{:mm,Float64}}}((0.309795cx, -0.366114cy), \"SLRDamages\", HCenter(), VCenter(), Rotation{Tuple{Length{:w,Float64},Length{:h,Float64}}}(0.0, (0.5w, 0.5h)), (0.0mm, 0.0mm)), TextPrimitive{Tuple{Length{:cx,Float64},Length{:cy,Float64}},Rotation{Tuple{Length{:w,Float64},Length{:h,Float64}}},Tuple{Length{:mm,Float64},Length{:mm,Float64}}}((0.0477564cx, -0.230807cy), \"MarketDamages\", HCenter(), VCenter(), Rotation{Tuple{Length{:w,Float64},Length{:h,Float64}}}(0.0, (0.5w, 0.5h)), (0.0mm, 0.0mm)), TextPrimitive{Tuple{Length{:cx,Float64},Length{:cy,Float64}},Rotation{Tuple{Length{:w,Float64},Length{:h,Float64}}},Tuple{Length{:mm,Float64},Length{:mm,Float64}}}((0.0618722cx, -0.141968cy), \"NonMarketDamages\", HCenter(), VCenter(), Rotation{Tuple{Length{:w,Float64},Length{:h,Float64}}}(0.0, (0.5w, 0.5h)), (0.0mm, 0.0mm)), TextPrimitive{Tuple{Length{:cx,Float64},Length{:cy,Float64}},Rotation{Tuple{Length{:w,Float64},Length{:h,Float64}}},Tuple{Length{:mm,Float64},Length{:mm,Float64}}}((0.194968cx, -0.11868cy), \"Discontinuity\", HCenter(), VCenter(), Rotation{Tuple{Length{:w,Float64},Length{:h,Float64}}}(0.0, (0.5w, 0.5h)), (0.0mm, 0.0mm)), TextPrimitive{Tuple{Length{:cx,Float64},Length{:cy,Float64}},Rotation{Tuple{Length{:w,Float64},Length{:h,Float64}}},Tuple{Length{:mm,Float64},Length{:mm,Float64}}}((0.468375cx, -0.397517cy), \"EquityWeighting\", HCenter(), VCenter(), Rotation{Tuple{Length{:w,Float64},Length{:h,Float64}}}(0.0, (0.5w, 0.5h)), (0.0mm, 0.0mm))], Symbol(\"\"))]), List([Compose.Property{Compose.FontSizePrimitive}(Compose.FontSizePrimitive[FontSizePrimitive(4.0mm)]), Compose.Property{Compose.StrokePrimitive}(Compose.StrokePrimitive[StrokePrimitive(RGBA{Float64}(0.0,0.0,0.0,0.0))]), Compose.Property{Compose.FillPrimitive}(Compose.FillPrimitive[FillPrimitive(RGBA{Float64}(0.0,0.0,0.0,1.0))])]), 0, false, false, false, false, nothing, nothing, 0.0, Symbol(\"\"))]), List([]), List([]), 0, false, false, false, false, nothing, nothing, 0.0, Symbol(\"\"))"
      ]
     },
     "execution_count": 32,
     "metadata": {},
     "output_type": "execute_result"
    }
   ],
   "source": [
    "plot_comp_graph(m_page)"
   ]
  },
  {
   "cell_type": "code",
   "execution_count": 33,
   "metadata": {},
   "outputs": [],
   "source": [
    "run(m_page)"
   ]
  },
  {
   "cell_type": "markdown",
   "metadata": {},
   "source": [
    "If you are running this notebook on your local computer, you can explore the results of your model interactively:"
   ]
  },
  {
   "cell_type": "code",
   "execution_count": 34,
   "metadata": {},
   "outputs": [],
   "source": [
    "if use_explore\n",
    "    explore(m_page)\n",
    "end"
   ]
  }
 ],
 "metadata": {
  "@webio": {
   "lastCommId": null,
   "lastKernelId": null
  },
  "kernelspec": {
   "display_name": "Julia 1.1.1",
   "language": "julia",
   "name": "julia-1.1"
  },
  "language_info": {
   "file_extension": ".jl",
   "mimetype": "application/julia",
   "name": "julia",
   "version": "1.1.1"
  }
 },
 "nbformat": 4,
 "nbformat_minor": 4
}
