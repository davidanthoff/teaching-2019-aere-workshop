{
 "cells": [
  {
   "cell_type": "markdown",
   "metadata": {},
   "source": [
    "# IAM hands-on session from the 2019 AERE pre-conference Workshop"
   ]
  },
  {
   "cell_type": "markdown",
   "metadata": {},
   "source": [
    "## 4. Optimization"
   ]
  },
  {
   "cell_type": "markdown",
   "metadata": {},
   "source": [
    "This section will show you how you can use the ability to modify parameters of a model to run an optimization that finds the optimal climate policy in DICE.\n",
    "\n",
    "We will use the [BlackBoxOptim.jl](https://github.com/robertfeldt/BlackBoxOptim.jl) optimization package for the actual optimization algorithm. So we first load that package, and all the other packages we need for this exercise:"
   ]
  },
  {
   "cell_type": "code",
   "execution_count": 1,
   "metadata": {},
   "outputs": [],
   "source": [
    "using BlackBoxOptim, MimiDICE2010, VegaLite, Mimi"
   ]
  },
  {
   "cell_type": "markdown",
   "metadata": {},
   "source": [
    "It will again be helpful to have a base version of the model that we can compare with the optimized version of the model, so we create and run that base version first:"
   ]
  },
  {
   "cell_type": "code",
   "execution_count": 2,
   "metadata": {},
   "outputs": [],
   "source": [
    "m_dice1 = MimiDICE2010.get_model()\n",
    "run(m_dice1)"
   ]
  },
  {
   "cell_type": "markdown",
   "metadata": {},
   "source": [
    "Then we create the instance of the model that we will use for the actual optimization:"
   ]
  },
  {
   "cell_type": "code",
   "execution_count": 3,
   "metadata": {},
   "outputs": [
    {
     "data": {
      "text/plain": [
       "9-component Mimi.Model:\n",
       "  grosseconomy::MimiDICE2010.grosseconomy\n",
       "  emissions::MimiDICE2010.emissions\n",
       "  co2cycle::MimiDICE2010.co2cycle\n",
       "  radiativeforcing::MimiDICE2010.radiativeforcing\n",
       "  climatedynamics::MimiDICE2010.climatedynamics\n",
       "  sealevelrise::MimiDICE2010.sealevelrise\n",
       "  damages::MimiDICE2010.damages\n",
       "  neteconomy::MimiDICE2010.neteconomy\n",
       "  welfare::MimiDICE2010.welfare\n"
      ]
     },
     "execution_count": 3,
     "metadata": {},
     "output_type": "execute_result"
    }
   ],
   "source": [
    "m_opt = MimiDICE2010.get_model()"
   ]
  },
  {
   "cell_type": "markdown",
   "metadata": {},
   "source": [
    "To interface with the solvers in BlackBoxOptim.jl, we need to define a function that the solver can call to evaluate our model for a given vector of values for the choice variables of our problem.\n",
    "\n",
    "Here we define such a function and name it `eval_dice`. The argument to this function is the emissions control vector.\n",
    "\n",
    "The first step in this function is to set the parameter of values we received from the solver into our model instance. Then we run the model by calling the `run` function, and finally we retrieve the value for total welfare, the quantity we aim to maximize, from the model. Note that BlackBoxOptim.jl will try to minimize the objective function, but we of course want to maximize welfare, so we actually return the negative of welfare from this function."
   ]
  },
  {
   "cell_type": "code",
   "execution_count": 4,
   "metadata": {},
   "outputs": [
    {
     "data": {
      "text/plain": [
       "eval_dice (generic function with 1 method)"
      ]
     },
     "execution_count": 4,
     "metadata": {},
     "output_type": "execute_result"
    }
   ],
   "source": [
    "function eval_dice(x)\n",
    "    set_param!(m_opt, :emissions, :MIU, x)\n",
    "    run(m_opt)\n",
    "    return -m_opt[:welfare, :UTILITY]\n",
    "end"
   ]
  },
  {
   "cell_type": "markdown",
   "metadata": {},
   "source": [
    "To run the actual optimization, we simply call the function `bboptimize` from BlackBoxOptim.jl, and pass it the function we just created, plus some configuration parameters. The key ones are that we set a bound between 0 and 1 for our choice variables, and set the number of choice variables to 60, i.e. the number of time periods in our model. "
   ]
  },
  {
   "cell_type": "code",
   "execution_count": 5,
   "metadata": {},
   "outputs": [
    {
     "name": "stdout",
     "output_type": "stream",
     "text": [
      "Starting optimization with optimizer DiffEvoOpt{FitPopulation{Float64},RadiusLimitedSelector,BlackBoxOptim.AdaptiveDiffEvoRandBin{3},RandomBound{RangePerDimSearchSpace}}\n",
      "0.00 secs, 0 evals, 0 steps\n",
      "0.50 secs, 71 evals, 38 steps, improv/step: 0.553 (last = 0.5526), fitness=-2257.958804777\n",
      "1.01 secs, 189 evals, 121 steps, improv/step: 0.455 (last = 0.4096), fitness=-2260.304177823\n",
      "1.51 secs, 294 evals, 206 steps, improv/step: 0.383 (last = 0.2824), fitness=-2260.304177823\n",
      "2.01 secs, 467 evals, 360 steps, improv/step: 0.414 (last = 0.4545), fitness=-2260.304177823\n",
      "2.51 secs, 579 evals, 468 steps, improv/step: 0.395 (last = 0.3333), fitness=-2260.304177823\n",
      "3.02 secs, 702 evals, 588 steps, improv/step: 0.381 (last = 0.3250), fitness=-2260.304177823\n",
      "3.52 secs, 834 evals, 720 steps, improv/step: 0.378 (last = 0.3636), fitness=-2260.368512411\n",
      "4.02 secs, 984 evals, 870 steps, improv/step: 0.370 (last = 0.3333), fitness=-2260.911196702\n",
      "4.54 secs, 1141 evals, 1027 steps, improv/step: 0.354 (last = 0.2675), fitness=-2261.537194708\n",
      "5.04 secs, 1250 evals, 1136 steps, improv/step: 0.347 (last = 0.2752), fitness=-2261.537194708\n",
      "5.54 secs, 1402 evals, 1288 steps, improv/step: 0.341 (last = 0.2961), fitness=-2261.537194708\n",
      "6.05 secs, 1517 evals, 1403 steps, improv/step: 0.334 (last = 0.2522), fitness=-2261.537194708\n",
      "6.56 secs, 1649 evals, 1535 steps, improv/step: 0.328 (last = 0.2652), fitness=-2261.537194708\n",
      "7.06 secs, 1824 evals, 1710 steps, improv/step: 0.320 (last = 0.2514), fitness=-2261.537194708\n",
      "7.56 secs, 2023 evals, 1909 steps, improv/step: 0.315 (last = 0.2714), fitness=-2261.879874224\n",
      "8.06 secs, 2212 evals, 2098 steps, improv/step: 0.312 (last = 0.2857), fitness=-2261.944675167\n",
      "8.56 secs, 2368 evals, 2254 steps, improv/step: 0.308 (last = 0.2564), fitness=-2261.999893815\n",
      "9.06 secs, 2544 evals, 2430 steps, improv/step: 0.303 (last = 0.2330), fitness=-2262.157775804\n",
      "9.56 secs, 2704 evals, 2590 steps, improv/step: 0.301 (last = 0.2750), fitness=-2262.266907331\n",
      "10.07 secs, 2915 evals, 2801 steps, improv/step: 0.296 (last = 0.2275), fitness=-2262.266907331\n",
      "10.57 secs, 3080 evals, 2966 steps, improv/step: 0.294 (last = 0.2606), fitness=-2262.388558084\n",
      "11.07 secs, 3274 evals, 3160 steps, improv/step: 0.292 (last = 0.2629), fitness=-2262.493261545\n",
      "11.57 secs, 3424 evals, 3310 steps, improv/step: 0.290 (last = 0.2600), fitness=-2262.563246030\n",
      "12.08 secs, 3556 evals, 3442 steps, improv/step: 0.290 (last = 0.2803), fitness=-2262.575585808\n",
      "12.58 secs, 3696 evals, 3582 steps, improv/step: 0.290 (last = 0.2786), fitness=-2262.575585808\n",
      "13.08 secs, 3848 evals, 3734 steps, improv/step: 0.288 (last = 0.2566), fitness=-2262.581359285\n",
      "13.58 secs, 4004 evals, 3890 steps, improv/step: 0.285 (last = 0.1987), fitness=-2262.618777586\n",
      "14.08 secs, 4141 evals, 4027 steps, improv/step: 0.283 (last = 0.2482), fitness=-2262.660622061\n",
      "14.58 secs, 4306 evals, 4192 steps, improv/step: 0.280 (last = 0.2061), fitness=-2262.816466892\n",
      "15.09 secs, 4470 evals, 4356 steps, improv/step: 0.279 (last = 0.2378), fitness=-2262.903475861\n",
      "15.59 secs, 4611 evals, 4497 steps, improv/step: 0.275 (last = 0.1631), fitness=-2262.914390079\n",
      "16.09 secs, 4778 evals, 4664 steps, improv/step: 0.277 (last = 0.3174), fitness=-2262.969366441\n",
      "16.59 secs, 4945 evals, 4831 steps, improv/step: 0.274 (last = 0.1976), fitness=-2262.969366441\n",
      "17.10 secs, 5098 evals, 4984 steps, improv/step: 0.274 (last = 0.2680), fitness=-2262.969366441\n",
      "17.60 secs, 5248 evals, 5134 steps, improv/step: 0.272 (last = 0.2267), fitness=-2262.999522358\n",
      "18.10 secs, 5411 evals, 5297 steps, improv/step: 0.271 (last = 0.2147), fitness=-2263.125371719\n",
      "18.61 secs, 5558 evals, 5444 steps, improv/step: 0.270 (last = 0.2653), fitness=-2263.125371719\n",
      "19.11 secs, 5692 evals, 5578 steps, improv/step: 0.272 (last = 0.3209), fitness=-2263.125371719\n",
      "19.61 secs, 5874 evals, 5760 steps, improv/step: 0.270 (last = 0.2253), fitness=-2263.125371719\n",
      "20.11 secs, 6054 evals, 5940 steps, improv/step: 0.270 (last = 0.2500), fitness=-2263.186157926\n",
      "20.62 secs, 6260 evals, 6146 steps, improv/step: 0.269 (last = 0.2524), fitness=-2263.191271892\n",
      "21.12 secs, 6499 evals, 6385 steps, improv/step: 0.268 (last = 0.2385), fitness=-2263.255109703\n",
      "21.62 secs, 6727 evals, 6613 steps, improv/step: 0.267 (last = 0.2500), fitness=-2263.271810169\n",
      "22.12 secs, 6962 evals, 6848 steps, improv/step: 0.268 (last = 0.2894), fitness=-2263.305162392\n",
      "22.63 secs, 7185 evals, 7071 steps, improv/step: 0.266 (last = 0.2108), fitness=-2263.309235362\n",
      "23.13 secs, 7412 evals, 7298 steps, improv/step: 0.265 (last = 0.2247), fitness=-2263.329923093\n",
      "23.63 secs, 7603 evals, 7489 steps, improv/step: 0.266 (last = 0.3037), fitness=-2263.330535509\n",
      "24.13 secs, 7825 evals, 7711 steps, improv/step: 0.263 (last = 0.1802), fitness=-2263.330535509\n",
      "24.63 secs, 7984 evals, 7870 steps, improv/step: 0.263 (last = 0.2579), fitness=-2263.354943363\n",
      "25.13 secs, 8179 evals, 8065 steps, improv/step: 0.263 (last = 0.2564), fitness=-2263.363031662\n",
      "25.64 secs, 8355 evals, 8241 steps, improv/step: 0.263 (last = 0.2670), fitness=-2263.380274698\n",
      "26.14 secs, 8570 evals, 8456 steps, improv/step: 0.263 (last = 0.2465), fitness=-2263.380274698\n",
      "26.64 secs, 8779 evals, 8665 steps, improv/step: 0.263 (last = 0.2727), fitness=-2263.393106892\n",
      "27.14 secs, 9023 evals, 8909 steps, improv/step: 0.262 (last = 0.2254), fitness=-2263.393106892\n",
      "27.65 secs, 9252 evals, 9138 steps, improv/step: 0.261 (last = 0.2227), fitness=-2263.407063585\n",
      "28.15 secs, 9476 evals, 9362 steps, improv/step: 0.261 (last = 0.2723), fitness=-2263.422593993\n",
      "28.65 secs, 9709 evals, 9595 steps, improv/step: 0.262 (last = 0.2876), fitness=-2263.424850755\n",
      "29.15 secs, 9964 evals, 9850 steps, improv/step: 0.261 (last = 0.2118), fitness=-2263.428232814\n",
      "29.65 secs, 10211 evals, 10097 steps, improv/step: 0.260 (last = 0.2186), fitness=-2263.438850136\n",
      "30.16 secs, 10431 evals, 10317 steps, improv/step: 0.259 (last = 0.2318), fitness=-2263.447869306\n",
      "30.66 secs, 10619 evals, 10505 steps, improv/step: 0.258 (last = 0.1915), fitness=-2263.447869306\n",
      "31.16 secs, 10842 evals, 10728 steps, improv/step: 0.257 (last = 0.2287), fitness=-2263.449996608\n",
      "31.67 secs, 11066 evals, 10952 steps, improv/step: 0.257 (last = 0.2411), fitness=-2263.454129447\n",
      "32.17 secs, 11281 evals, 11167 steps, improv/step: 0.256 (last = 0.2047), fitness=-2263.454129447\n",
      "32.67 secs, 11473 evals, 11359 steps, improv/step: 0.255 (last = 0.1979), fitness=-2263.460200492\n",
      "33.17 secs, 11674 evals, 11560 steps, improv/step: 0.254 (last = 0.2289), fitness=-2263.462953086\n",
      "33.67 secs, 11825 evals, 11711 steps, improv/step: 0.254 (last = 0.2185), fitness=-2263.464008733\n",
      "34.18 secs, 11986 evals, 11872 steps, improv/step: 0.254 (last = 0.2236), fitness=-2263.467916725\n",
      "34.68 secs, 12171 evals, 12057 steps, improv/step: 0.253 (last = 0.2270), fitness=-2263.467916725\n",
      "35.19 secs, 12379 evals, 12265 steps, improv/step: 0.252 (last = 0.1827), fitness=-2263.469995475\n",
      "35.69 secs, 12553 evals, 12439 steps, improv/step: 0.252 (last = 0.2241), fitness=-2263.470759006\n",
      "36.19 secs, 12765 evals, 12651 steps, improv/step: 0.251 (last = 0.1934), fitness=-2263.472573789\n",
      "36.69 secs, 12977 evals, 12863 steps, improv/step: 0.250 (last = 0.1887), fitness=-2263.472713286\n",
      "37.20 secs, 13188 evals, 13074 steps, improv/step: 0.248 (last = 0.1706), fitness=-2263.473180107\n",
      "37.70 secs, 13401 evals, 13287 steps, improv/step: 0.247 (last = 0.1455), fitness=-2263.477436861\n",
      "38.20 secs, 13611 evals, 13497 steps, improv/step: 0.246 (last = 0.2286), fitness=-2263.479310122\n",
      "38.70 secs, 13787 evals, 13673 steps, improv/step: 0.246 (last = 0.2216), fitness=-2263.481383387\n",
      "39.20 secs, 14021 evals, 13907 steps, improv/step: 0.245 (last = 0.2051), fitness=-2263.481502832\n",
      "39.70 secs, 14214 evals, 14100 steps, improv/step: 0.245 (last = 0.1917), fitness=-2263.483685298\n",
      "40.21 secs, 14428 evals, 14314 steps, improv/step: 0.243 (last = 0.1262), fitness=-2263.483719287\n",
      "40.72 secs, 14650 evals, 14536 steps, improv/step: 0.242 (last = 0.2117), fitness=-2263.485915668\n",
      "41.22 secs, 14809 evals, 14695 steps, improv/step: 0.242 (last = 0.1887), fitness=-2263.485915668\n",
      "41.72 secs, 15036 evals, 14922 steps, improv/step: 0.241 (last = 0.1894), fitness=-2263.485915668\n",
      "42.22 secs, 15193 evals, 15079 steps, improv/step: 0.240 (last = 0.1911), fitness=-2263.488822870\n"
     ]
    },
    {
     "name": "stdout",
     "output_type": "stream",
     "text": [
      "42.73 secs, 15374 evals, 15260 steps, improv/step: 0.240 (last = 0.1989), fitness=-2263.488822870\n",
      "43.23 secs, 15554 evals, 15440 steps, improv/step: 0.239 (last = 0.1944), fitness=-2263.490035982\n",
      "43.73 secs, 15738 evals, 15624 steps, improv/step: 0.239 (last = 0.2174), fitness=-2263.490923378\n",
      "44.24 secs, 15892 evals, 15778 steps, improv/step: 0.238 (last = 0.1558), fitness=-2263.491342728\n",
      "44.74 secs, 16055 evals, 15941 steps, improv/step: 0.238 (last = 0.2025), fitness=-2263.491342728\n",
      "45.25 secs, 16227 evals, 16113 steps, improv/step: 0.237 (last = 0.1337), fitness=-2263.492926490\n",
      "45.75 secs, 16390 evals, 16276 steps, improv/step: 0.237 (last = 0.2025), fitness=-2263.492926490\n",
      "46.25 secs, 16507 evals, 16393 steps, improv/step: 0.236 (last = 0.1026), fitness=-2263.492926490\n",
      "46.75 secs, 16637 evals, 16523 steps, improv/step: 0.234 (last = 0.0923), fitness=-2263.493528385\n",
      "47.26 secs, 16771 evals, 16657 steps, improv/step: 0.234 (last = 0.1791), fitness=-2263.493528385\n",
      "47.76 secs, 16920 evals, 16806 steps, improv/step: 0.234 (last = 0.2617), fitness=-2263.493907654\n",
      "48.26 secs, 17073 evals, 16959 steps, improv/step: 0.234 (last = 0.1634), fitness=-2263.494467395\n",
      "48.77 secs, 17206 evals, 17092 steps, improv/step: 0.233 (last = 0.1880), fitness=-2263.495286055\n",
      "49.27 secs, 17353 evals, 17239 steps, improv/step: 0.233 (last = 0.1701), fitness=-2263.495286055\n",
      "49.77 secs, 17500 evals, 17386 steps, improv/step: 0.232 (last = 0.2041), fitness=-2263.496335674\n",
      "50.27 secs, 17641 evals, 17527 steps, improv/step: 0.232 (last = 0.1702), fitness=-2263.496425976\n",
      "50.78 secs, 17817 evals, 17703 steps, improv/step: 0.231 (last = 0.1591), fitness=-2263.498921320\n",
      "51.28 secs, 17985 evals, 17871 steps, improv/step: 0.231 (last = 0.1964), fitness=-2263.498921320\n",
      "51.78 secs, 18183 evals, 18069 steps, improv/step: 0.230 (last = 0.1061), fitness=-2263.498921320\n",
      "52.29 secs, 18380 evals, 18266 steps, improv/step: 0.229 (last = 0.1675), fitness=-2263.499180532\n",
      "52.79 secs, 18577 evals, 18463 steps, improv/step: 0.228 (last = 0.1320), fitness=-2263.499180532\n",
      "53.30 secs, 18746 evals, 18632 steps, improv/step: 0.228 (last = 0.1953), fitness=-2263.499180532\n",
      "53.80 secs, 18890 evals, 18776 steps, improv/step: 0.227 (last = 0.1667), fitness=-2263.499809942\n",
      "54.31 secs, 19056 evals, 18942 steps, improv/step: 0.226 (last = 0.1386), fitness=-2263.499809942\n",
      "54.81 secs, 19222 evals, 19108 steps, improv/step: 0.226 (last = 0.2229), fitness=-2263.499809942\n",
      "55.31 secs, 19395 evals, 19281 steps, improv/step: 0.226 (last = 0.1676), fitness=-2263.499922298\n",
      "55.81 secs, 19569 evals, 19455 steps, improv/step: 0.225 (last = 0.1437), fitness=-2263.500831668\n",
      "56.31 secs, 19785 evals, 19671 steps, improv/step: 0.224 (last = 0.1250), fitness=-2263.501306149\n",
      "56.82 secs, 20007 evals, 19893 steps, improv/step: 0.223 (last = 0.1667), fitness=-2263.501306149\n",
      "\n",
      "Optimization stopped after 20001 steps and 57.068000078201294 seconds\n",
      "Termination reason: Max number of steps (20000) reached\n",
      "Steps per second = 350.4766238976708\n",
      "Function evals per second = 352.47424077304373\n",
      "Improvements/step = 0.2227\n",
      "Total function evaluations = 20115\n",
      "\n",
      "\n",
      "Best candidate found: [0.00569491, 0.184509, 0.252465, 0.304304, 0.355802, 0.413151, 0.467502, 0.537166, 0.602889, 0.678772, 0.744236, 0.813598, 0.881635, 0.90872, 0.929592, 0.987498, 0.994168, 0.998988, 0.999571, 0.999496, 0.997104, 0.998369, 0.993467, 0.992144, 0.990114, 0.993801, 0.996267, 0.99478, 0.999655, 0.976127, 0.996808, 0.991263, 0.980194, 0.985179, 0.96623, 0.882406, 0.975701, 0.973258, 0.855779, 0.058971, 0.909266, 0.435633, 0.338396, 0.130057, 0.329601, 0.118738, 0.635822, 0.0291331, 0.666252, 0.304408, 0.108132, 0.105615, 0.678985, 0.164163, 0.507393, 0.329635, 0.850023, 0.096617, 0.0398525, 0.358826]\n",
      "\n",
      "Fitness: -2263.501306149\n",
      "\n"
     ]
    },
    {
     "data": {
      "text/plain": [
       "BlackBoxOptim.OptimizationResults(\"adaptive_de_rand_1_bin_radiuslimited\", \"Max number of steps (20000) reached\", 20001, 1.561112395622e9, 57.068000078201294, DictChain{Symbol,Any}[DictChain{Symbol,Any}[Dict{Symbol,Any}(:RngSeed=>153180,:NumDimensions=>60,:SearchRange=>(0.0, 1.0),:Method=>:adaptive_de_rand_1_bin_radiuslimited,:MaxSteps=>20000),Dict{Symbol,Any}()],Dict{Symbol,Any}(:FitnessScheme=>ScalarFitnessScheme{true}(),:NumDimensions=>:NotSpecified,:PopulationSize=>50,:MaxTime=>0.0,:SearchRange=>(-1.0, 1.0),:Method=>:adaptive_de_rand_1_bin_radiuslimited,:MaxNumStepsWithoutFuncEvals=>100,:RngSeed=>1234,:MaxFuncEvals=>0,:SaveTrace=>false…)], 20115, ScalarFitnessScheme{true}(), BlackBoxOptim.TopListArchiveOutput{Float64,Array{Float64,1}}(-2263.5013061491595, [0.00569491, 0.184509, 0.252465, 0.304304, 0.355802, 0.413151, 0.467502, 0.537166, 0.602889, 0.678772  …  0.108132, 0.105615, 0.678985, 0.164163, 0.507393, 0.329635, 0.850023, 0.096617, 0.0398525, 0.358826]), BlackBoxOptim.PopulationOptimizerOutput{FitPopulation{Float64}}(FitPopulation{Float64}([0.00386148 0.00117523 … 0.00569491 0.00738943; 0.181581 0.18669 … 0.184509 0.1794; … ; 0.227277 0.161883 … 0.0398525 0.105247; 0.50062 0.306394 … 0.358826 0.553053], NaN, [-2263.5, -2263.5, -2263.5, -2263.5, -2263.5, -2263.5, -2263.5, -2263.5, -2263.5, -2263.5  …  -2263.5, -2263.5, -2263.5, -2263.5, -2263.5, -2263.5, -2263.5, -2263.5, -2263.5, -2263.5], 0, BlackBoxOptim.Candidate{Float64}[Candidate{Float64}([0.00659126, 0.18717, 0.249326, 0.29569, 0.354766, 0.416775, 0.48035, 0.542334, 0.601483, 0.670975  …  0.59122, 0.0499896, 0.602855, 0.434153, 0.809462, 0.130644, 0.895555, 0.276881, 0.1155, 0.576446], 28, -2263.5, AdaptiveDiffEvoRandBin{3}(AdaptiveDiffEvoParameters(BimodalCauchy(Distributions.Cauchy{Float64}(μ=0.65, σ=0.1), Distributions.Cauchy{Float64}(μ=1.0, σ=0.1), 0.5, false, true), BimodalCauchy(Distributions.Cauchy{Float64}(μ=0.1, σ=0.1), Distributions.Cauchy{Float64}(μ=0.95, σ=0.1), 0.5, false, true), [1.0, 0.967861, 0.524469, 1.0, 0.91827, 0.909469, 0.238718, 1.0, 0.657566, 0.78068  …  0.750426, 0.430954, 0.96551, 0.571922, 1.0, 0.954378, 0.901948, 0.986032, 0.140514, 0.883805], [1.0, 1.0, 0.0381371, 0.00466151, 0.0136311, 1.0, 0.300221, 0.346373, 0.0657653, 0.086994  …  0.0585326, 1.0, 0.0945683, 0.924581, 0.727346, 1.0, 0.15223, 0.768449, 0.542392, 0.955183])), 0), Candidate{Float64}([0.00813215, 0.195734, 0.258992, 0.302518, 0.348796, 0.405017, 0.470852, 0.549334, 0.608754, 0.685067  …  0.390408, 0.0432287, 0.619449, 0.585589, 0.949973, 0.104922, 0.738733, 0.110585, 0.351661, 0.704845], 28, -2263.49, AdaptiveDiffEvoRandBin{3}(AdaptiveDiffEvoParameters(BimodalCauchy(Distributions.Cauchy{Float64}(μ=0.65, σ=0.1), Distributions.Cauchy{Float64}(μ=1.0, σ=0.1), 0.5, false, true), BimodalCauchy(Distributions.Cauchy{Float64}(μ=0.1, σ=0.1), Distributions.Cauchy{Float64}(μ=0.95, σ=0.1), 0.5, false, true), [1.0, 0.967861, 0.524469, 1.0, 0.91827, 0.909469, 0.238718, 1.0, 0.657566, 0.78068  …  0.750426, 0.430954, 0.96551, 0.571922, 1.0, 0.954378, 0.901948, 0.986032, 0.140514, 0.883805], [1.0, 1.0, 0.0381371, 0.00466151, 0.0136311, 1.0, 0.300221, 0.346373, 0.0657653, 0.086994  …  0.0585326, 1.0, 0.0945683, 0.924581, 0.727346, 1.0, 0.15223, 0.768449, 0.542392, 0.955183])), 0)])))"
      ]
     },
     "execution_count": 5,
     "metadata": {},
     "output_type": "execute_result"
    }
   ],
   "source": [
    "res = bboptimize(eval_dice; SearchRange=(0., 1.0), NumDimensions=60, Method=:adaptive_de_rand_1_bin_radiuslimited, MaxSteps=20_000)"
   ]
  },
  {
   "cell_type": "markdown",
   "metadata": {},
   "source": [
    "We can obtain the value of the emission control vector for the best policy that the solver found by calling the `best_candidate` function from the BlackBoxOptim package."
   ]
  },
  {
   "cell_type": "code",
   "execution_count": 6,
   "metadata": {},
   "outputs": [
    {
     "data": {
      "text/plain": [
       "60-element Array{Float64,1}:\n",
       " 0.00569491061323299\n",
       " 0.18450898118965592\n",
       " 0.25246495880722963\n",
       " 0.30430414073100204\n",
       " 0.3558015876349339 \n",
       " 0.41315108108379334\n",
       " 0.4675019074821361 \n",
       " 0.5371662118346194 \n",
       " 0.6028889726074789 \n",
       " 0.678771599587147  \n",
       " 0.7442358595370807 \n",
       " 0.8135984959662756 \n",
       " 0.8816347721663855 \n",
       " ⋮                  \n",
       " 0.6662516071377066 \n",
       " 0.30440796283203375\n",
       " 0.10813240235315041\n",
       " 0.10561546299425578\n",
       " 0.6789847797549842 \n",
       " 0.16416290124717553\n",
       " 0.5073934911938273 \n",
       " 0.3296353063983586 \n",
       " 0.8500229518107679 \n",
       " 0.09661697081773263\n",
       " 0.03985252542903288\n",
       " 0.3588264118663804 "
      ]
     },
     "execution_count": 6,
     "metadata": {},
     "output_type": "execute_result"
    }
   ],
   "source": [
    "best_candidate(res)"
   ]
  },
  {
   "cell_type": "markdown",
   "metadata": {},
   "source": [
    "Lets actually set the parameter for the emission control rate in our model instance to that best policy that the solver found by calling `set_param!` one more time. We then rerun the model, and at this point our model has the values for all variables for the optimal policy."
   ]
  },
  {
   "cell_type": "code",
   "execution_count": 7,
   "metadata": {},
   "outputs": [],
   "source": [
    "set_param!(m_opt, :emissions, :MIU, best_candidate(res))\n",
    "run(m_opt)"
   ]
  },
  {
   "cell_type": "markdown",
   "metadata": {},
   "source": [
    "We can now plot the business as usual policy and compare it with the optimal policy our solver found:"
   ]
  },
  {
   "cell_type": "code",
   "execution_count": 8,
   "metadata": {},
   "outputs": [
    {
     "data": {
      "application/vnd.vegalite.v3+json": {
       "hconcat": [
        {
         "$schema": "https://vega.github.io/schema/vega-lite/v2.0.json",
         "data": {
          "values": [
           {
            "MIU": "0.001",
            "time": "2005-01-01"
           },
           {
            "MIU": "0.001",
            "time": "2015-01-01"
           },
           {
            "MIU": "0.001",
            "time": "2025-01-01"
           },
           {
            "MIU": "0.001",
            "time": "2035-01-01"
           },
           {
            "MIU": "0.001",
            "time": "2045-01-01"
           },
           {
            "MIU": "0.001",
            "time": "2055-01-01"
           },
           {
            "MIU": "0.001",
            "time": "2065-01-01"
           },
           {
            "MIU": "0.001",
            "time": "2075-01-01"
           },
           {
            "MIU": "0.001",
            "time": "2085-01-01"
           },
           {
            "MIU": "0.001",
            "time": "2095-01-01"
           },
           {
            "MIU": "0.001",
            "time": "2105-01-01"
           },
           {
            "MIU": "0.001",
            "time": "2115-01-01"
           },
           {
            "MIU": "0.001",
            "time": "2125-01-01"
           },
           {
            "MIU": "0.001",
            "time": "2135-01-01"
           },
           {
            "MIU": "0.001",
            "time": "2145-01-01"
           },
           {
            "MIU": "0.001",
            "time": "2155-01-01"
           },
           {
            "MIU": "0.001",
            "time": "2165-01-01"
           },
           {
            "MIU": "0.001",
            "time": "2175-01-01"
           },
           {
            "MIU": "0.001",
            "time": "2185-01-01"
           },
           {
            "MIU": "0.001",
            "time": "2195-01-01"
           },
           {
            "MIU": "0.001",
            "time": "2205-01-01"
           },
           {
            "MIU": "0.001",
            "time": "2215-01-01"
           },
           {
            "MIU": "0.001",
            "time": "2225-01-01"
           },
           {
            "MIU": "0.001",
            "time": "2235-01-01"
           },
           {
            "MIU": "0.001",
            "time": "2245-01-01"
           },
           {
            "MIU": "1.0",
            "time": "2255-01-01"
           },
           {
            "MIU": "1.0",
            "time": "2265-01-01"
           },
           {
            "MIU": "1.0",
            "time": "2275-01-01"
           },
           {
            "MIU": "1.0",
            "time": "2285-01-01"
           },
           {
            "MIU": "1.0",
            "time": "2295-01-01"
           },
           {
            "MIU": "1.0",
            "time": "2305-01-01"
           },
           {
            "MIU": "1.0",
            "time": "2315-01-01"
           },
           {
            "MIU": "1.0",
            "time": "2325-01-01"
           },
           {
            "MIU": "1.0",
            "time": "2335-01-01"
           },
           {
            "MIU": "1.0",
            "time": "2345-01-01"
           },
           {
            "MIU": "1.0",
            "time": "2355-01-01"
           },
           {
            "MIU": "1.0",
            "time": "2365-01-01"
           },
           {
            "MIU": "1.0",
            "time": "2375-01-01"
           },
           {
            "MIU": "1.0",
            "time": "2385-01-01"
           },
           {
            "MIU": "1.0",
            "time": "2395-01-01"
           },
           {
            "MIU": "1.0",
            "time": "2405-01-01"
           },
           {
            "MIU": "1.0",
            "time": "2415-01-01"
           },
           {
            "MIU": "1.0",
            "time": "2425-01-01"
           },
           {
            "MIU": "1.0",
            "time": "2435-01-01"
           },
           {
            "MIU": "1.0",
            "time": "2445-01-01"
           },
           {
            "MIU": "1.0",
            "time": "2455-01-01"
           },
           {
            "MIU": "1.0",
            "time": "2465-01-01"
           },
           {
            "MIU": "1.0",
            "time": "2475-01-01"
           },
           {
            "MIU": "1.0",
            "time": "2485-01-01"
           },
           {
            "MIU": "1.0",
            "time": "2495-01-01"
           },
           {
            "MIU": "1.0",
            "time": "2505-01-01"
           },
           {
            "MIU": "1.0",
            "time": "2515-01-01"
           },
           {
            "MIU": "1.0",
            "time": "2525-01-01"
           },
           {
            "MIU": "1.0",
            "time": "2535-01-01"
           },
           {
            "MIU": "1.0",
            "time": "2545-01-01"
           },
           {
            "MIU": "1.0",
            "time": "2555-01-01"
           },
           {
            "MIU": "1.0",
            "time": "2565-01-01"
           },
           {
            "MIU": "1.0",
            "time": "2575-01-01"
           },
           {
            "MIU": "1.0",
            "time": "2585-01-01"
           },
           {
            "MIU": "1.0",
            "time": "2595-01-01"
           }
          ]
         },
         "description": "plot for a specific component variable pair",
         "encoding": {
          "x": {
           "field": "time",
           "timeUnit": "utcyear",
           "type": "temporal"
          },
          "y": {
           "field": "MIU",
           "type": "quantitative"
          }
         },
         "height": 410,
         "mark": {
          "type": "line"
         },
         "title": "emissions : MIU",
         "width": 450
        },
        {
         "$schema": "https://vega.github.io/schema/vega-lite/v2.0.json",
         "data": {
          "values": [
           {
            "MIU": "0.00569491061323299",
            "time": "2005-01-01"
           },
           {
            "MIU": "0.18450898118965592",
            "time": "2015-01-01"
           },
           {
            "MIU": "0.25246495880722963",
            "time": "2025-01-01"
           },
           {
            "MIU": "0.30430414073100204",
            "time": "2035-01-01"
           },
           {
            "MIU": "0.3558015876349339",
            "time": "2045-01-01"
           },
           {
            "MIU": "0.41315108108379334",
            "time": "2055-01-01"
           },
           {
            "MIU": "0.4675019074821361",
            "time": "2065-01-01"
           },
           {
            "MIU": "0.5371662118346194",
            "time": "2075-01-01"
           },
           {
            "MIU": "0.6028889726074789",
            "time": "2085-01-01"
           },
           {
            "MIU": "0.678771599587147",
            "time": "2095-01-01"
           },
           {
            "MIU": "0.7442358595370807",
            "time": "2105-01-01"
           },
           {
            "MIU": "0.8135984959662756",
            "time": "2115-01-01"
           },
           {
            "MIU": "0.8816347721663855",
            "time": "2125-01-01"
           },
           {
            "MIU": "0.9087202425561474",
            "time": "2135-01-01"
           },
           {
            "MIU": "0.9295921155057307",
            "time": "2145-01-01"
           },
           {
            "MIU": "0.987498242597332",
            "time": "2155-01-01"
           },
           {
            "MIU": "0.9941679631963448",
            "time": "2165-01-01"
           },
           {
            "MIU": "0.9989879549653612",
            "time": "2175-01-01"
           },
           {
            "MIU": "0.9995707605995148",
            "time": "2185-01-01"
           },
           {
            "MIU": "0.9994955054772058",
            "time": "2195-01-01"
           },
           {
            "MIU": "0.9971038621420227",
            "time": "2205-01-01"
           },
           {
            "MIU": "0.9983688850589647",
            "time": "2215-01-01"
           },
           {
            "MIU": "0.9934671654038713",
            "time": "2225-01-01"
           },
           {
            "MIU": "0.9921436296055262",
            "time": "2235-01-01"
           },
           {
            "MIU": "0.9901139989542257",
            "time": "2245-01-01"
           },
           {
            "MIU": "0.9938009333734087",
            "time": "2255-01-01"
           },
           {
            "MIU": "0.9962666549038272",
            "time": "2265-01-01"
           },
           {
            "MIU": "0.9947800764187997",
            "time": "2275-01-01"
           },
           {
            "MIU": "0.9996554851328118",
            "time": "2285-01-01"
           },
           {
            "MIU": "0.9761273880676925",
            "time": "2295-01-01"
           },
           {
            "MIU": "0.9968075675652088",
            "time": "2305-01-01"
           },
           {
            "MIU": "0.9912625713738572",
            "time": "2315-01-01"
           },
           {
            "MIU": "0.980194300871145",
            "time": "2325-01-01"
           },
           {
            "MIU": "0.9851793377439033",
            "time": "2335-01-01"
           },
           {
            "MIU": "0.9662302642378383",
            "time": "2345-01-01"
           },
           {
            "MIU": "0.8824056163405606",
            "time": "2355-01-01"
           },
           {
            "MIU": "0.9757010596966931",
            "time": "2365-01-01"
           },
           {
            "MIU": "0.9732582507938815",
            "time": "2375-01-01"
           },
           {
            "MIU": "0.8557788946479267",
            "time": "2385-01-01"
           },
           {
            "MIU": "0.058970952368899814",
            "time": "2395-01-01"
           },
           {
            "MIU": "0.9092657078274267",
            "time": "2405-01-01"
           },
           {
            "MIU": "0.4356329627588999",
            "time": "2415-01-01"
           },
           {
            "MIU": "0.33839626835796943",
            "time": "2425-01-01"
           },
           {
            "MIU": "0.1300566771350732",
            "time": "2435-01-01"
           },
           {
            "MIU": "0.32960145542494956",
            "time": "2445-01-01"
           },
           {
            "MIU": "0.1187378683398847",
            "time": "2455-01-01"
           },
           {
            "MIU": "0.6358216261135586",
            "time": "2465-01-01"
           },
           {
            "MIU": "0.029133127153345706",
            "time": "2475-01-01"
           },
           {
            "MIU": "0.6662516071377066",
            "time": "2485-01-01"
           },
           {
            "MIU": "0.30440796283203375",
            "time": "2495-01-01"
           },
           {
            "MIU": "0.10813240235315041",
            "time": "2505-01-01"
           },
           {
            "MIU": "0.10561546299425578",
            "time": "2515-01-01"
           },
           {
            "MIU": "0.6789847797549842",
            "time": "2525-01-01"
           },
           {
            "MIU": "0.16416290124717553",
            "time": "2535-01-01"
           },
           {
            "MIU": "0.5073934911938273",
            "time": "2545-01-01"
           },
           {
            "MIU": "0.3296353063983586",
            "time": "2555-01-01"
           },
           {
            "MIU": "0.8500229518107679",
            "time": "2565-01-01"
           },
           {
            "MIU": "0.09661697081773263",
            "time": "2575-01-01"
           },
           {
            "MIU": "0.03985252542903288",
            "time": "2585-01-01"
           },
           {
            "MIU": "0.3588264118663804",
            "time": "2595-01-01"
           }
          ]
         },
         "description": "plot for a specific component variable pair",
         "encoding": {
          "x": {
           "field": "time",
           "timeUnit": "utcyear",
           "type": "temporal"
          },
          "y": {
           "field": "MIU",
           "type": "quantitative"
          }
         },
         "height": 410,
         "mark": {
          "type": "line"
         },
         "title": "emissions : MIU",
         "width": 450
        }
       ],
       "resolve": {
        "scale": {
         "y": "shared"
        }
       }
      },
      "image/png": "[encoded data removed]",
      "image/svg+xml": [
       "<svg class=\"marks\" width=\"1008\" height=\"476\" viewBox=\"0 0 1008 476\" version=\"1.1\" xmlns=\"http://www.w3.org/2000/svg\" xmlns:xlink=\"http://www.w3.org/1999/xlink\"><g transform=\"translate(41,28)\"><g class=\"mark-group role-frame root\"><g transform=\"translate(0,0)\"><path class=\"background\" d=\"M0,0h0v410h0Z\" style=\"fill: none;\"></path><g><g class=\"mark-group role-scope concat_0_group\"><g transform=\"translate(0,0)\"><path class=\"background\" d=\"M0.5,0.5h450v410h-450Z\" style=\"fill: none; stroke: #ddd;\"></path><g><g class=\"mark-group role-axis\"><g transform=\"translate(0.5,410.5)\"><path class=\"background\" d=\"M0,0h0v0h0Z\" style=\"pointer-events: none; fill: none;\"></path><g><g class=\"mark-rule role-axis-grid\" style=\"pointer-events: none;\"><line transform=\"translate(34,-410)\" x2=\"0\" y2=\"410\" style=\"fill: none; stroke: #ddd; stroke-width: 1; opacity: 1;\"></line><line transform=\"translate(72,-410)\" x2=\"0\" y2=\"410\" style=\"fill: none; stroke: #ddd; stroke-width: 1; opacity: 1;\"></line><line transform=\"translate(111,-410)\" x2=\"0\" y2=\"410\" style=\"fill: none; stroke: #ddd; stroke-width: 1; opacity: 1;\"></line><line transform=\"translate(149,-410)\" x2=\"0\" y2=\"410\" style=\"fill: none; stroke: #ddd; stroke-width: 1; opacity: 1;\"></line><line transform=\"translate(187,-410)\" x2=\"0\" y2=\"410\" style=\"fill: none; stroke: #ddd; stroke-width: 1; opacity: 1;\"></line><line transform=\"translate(225,-410)\" x2=\"0\" y2=\"410\" style=\"fill: none; stroke: #ddd; stroke-width: 1; opacity: 1;\"></line><line transform=\"translate(263,-410)\" x2=\"0\" y2=\"410\" style=\"fill: none; stroke: #ddd; stroke-width: 1; opacity: 1;\"></line><line transform=\"translate(301,-410)\" x2=\"0\" y2=\"410\" style=\"fill: none; stroke: #ddd; stroke-width: 1; opacity: 1;\"></line><line transform=\"translate(339,-410)\" x2=\"0\" y2=\"410\" style=\"fill: none; stroke: #ddd; stroke-width: 1; opacity: 1;\"></line><line transform=\"translate(378,-410)\" x2=\"0\" y2=\"410\" style=\"fill: none; stroke: #ddd; stroke-width: 1; opacity: 1;\"></line><line transform=\"translate(416,-410)\" x2=\"0\" y2=\"410\" style=\"fill: none; stroke: #ddd; stroke-width: 1; opacity: 1;\"></line></g></g></g></g><g class=\"mark-group role-axis\"><g transform=\"translate(0.5,0.5)\"><path class=\"background\" d=\"M0,0h0v0h0Z\" style=\"pointer-events: none; fill: none;\"></path><g><g class=\"mark-rule role-axis-grid\" style=\"pointer-events: none;\"><line transform=\"translate(0,410)\" x2=\"450\" y2=\"0\" style=\"fill: none; stroke: #ddd; stroke-width: 1; opacity: 1;\"></line><line transform=\"translate(0,369)\" x2=\"450\" y2=\"0\" style=\"fill: none; stroke: #ddd; stroke-width: 1; opacity: 1;\"></line><line transform=\"translate(0,328)\" x2=\"450\" y2=\"0\" style=\"fill: none; stroke: #ddd; stroke-width: 1; opacity: 1;\"></line><line transform=\"translate(0,287)\" x2=\"450\" y2=\"0\" style=\"fill: none; stroke: #ddd; stroke-width: 1; opacity: 1;\"></line><line transform=\"translate(0,246)\" x2=\"450\" y2=\"0\" style=\"fill: none; stroke: #ddd; stroke-width: 1; opacity: 1;\"></line><line transform=\"translate(0,205)\" x2=\"450\" y2=\"0\" style=\"fill: none; stroke: #ddd; stroke-width: 1; opacity: 1;\"></line><line transform=\"translate(0,164)\" x2=\"450\" y2=\"0\" style=\"fill: none; stroke: #ddd; stroke-width: 1; opacity: 1;\"></line><line transform=\"translate(0,123)\" x2=\"450\" y2=\"0\" style=\"fill: none; stroke: #ddd; stroke-width: 1; opacity: 1;\"></line><line transform=\"translate(0,82)\" x2=\"450\" y2=\"0\" style=\"fill: none; stroke: #ddd; stroke-width: 1; opacity: 1;\"></line><line transform=\"translate(0,41)\" x2=\"450\" y2=\"0\" style=\"fill: none; stroke: #ddd; stroke-width: 1; opacity: 1;\"></line><line transform=\"translate(0,0)\" x2=\"450\" y2=\"0\" style=\"fill: none; stroke: #ddd; stroke-width: 1; opacity: 1;\"></line></g></g></g></g><g class=\"mark-line role-mark concat_0_marks\"><path d=\"M450,0L442.37376620122234,0L434.74544416756,0L427.11921036878226,0L419.4908883351199,0L411.86465453634224,0L404.2363325026799,0L396.6100987039022,0L388.98177667023987,0L381.35554287146215,0L373.7293090726845,0L366.10307527390677,0L358.47475324024447,0L350.84851944146675,0L343.2201974078044,0L335.59396360902673,0L327.96564157536443,0L320.3394077765867,0L312.7110857429244,0L305.0848519441467,0L297.45652991048433,0L289.8302961117067,0L282.2019740780443,0L274.5757402792666,0L266.9474182456043,0L259.3211844468266,0L251.69286241316425,0L244.06662861438656,0L236.4383065807242,0L228.8120727819465,0L221.18583898316882,0L213.55960518439113,0L205.9312831507288,0L198.3050493519511,0L190.67672731828875,0L183.05049351951106,409.59L175.4221714858487,409.59L167.79593768707105,409.59L160.16761565340872,409.59L152.54138185463103,409.59L144.91514805585334,409.59L137.28891425707565,409.59L129.6605922234133,409.59L122.0343584246356,409.59L114.40603639097326,409.59L106.77980259219557,409.59L99.15148055853322,409.59L91.52524675975553,409.59L83.89692472609319,409.59L76.27069092731551,409.59L68.64445712853782,409.59L61.01822332976013,409.59L53.38990129609778,409.59L45.7636674973201,409.59L38.13534546365776,409.59L30.509111664880066,409.59L22.88078963121772,409.59L15.254555832440033,409.59L7.626233798777686,409.59L0,409.59\" style=\"fill: none; stroke: #4c78a8; stroke-width: 2;\"></path></g><g class=\"mark-text role-title\" style=\"pointer-events: none;\"><text text-anchor=\"middle\" transform=\"translate(225,-12)\" style=\"font-family: sans-serif; font-size: 13px; font-weight: bold; fill: #000; opacity: 1;\">emissions : MIU</text></g><g class=\"mark-group role-axis\"><g transform=\"translate(0.5,410.5)\"><path class=\"background\" d=\"M0,0h0v0h0Z\" style=\"pointer-events: none; fill: none;\"></path><g><g class=\"mark-rule role-axis-tick\" style=\"pointer-events: none;\"><line transform=\"translate(34,0)\" x2=\"0\" y2=\"5\" style=\"fill: none; stroke: #888; stroke-width: 1; opacity: 1;\"></line><line transform=\"translate(72,0)\" x2=\"0\" y2=\"5\" style=\"fill: none; stroke: #888; stroke-width: 1; opacity: 1;\"></line><line transform=\"translate(111,0)\" x2=\"0\" y2=\"5\" style=\"fill: none; stroke: #888; stroke-width: 1; opacity: 1;\"></line><line transform=\"translate(149,0)\" x2=\"0\" y2=\"5\" style=\"fill: none; stroke: #888; stroke-width: 1; opacity: 1;\"></line><line transform=\"translate(187,0)\" x2=\"0\" y2=\"5\" style=\"fill: none; stroke: #888; stroke-width: 1; opacity: 1;\"></line><line transform=\"translate(225,0)\" x2=\"0\" y2=\"5\" style=\"fill: none; stroke: #888; stroke-width: 1; opacity: 1;\"></line><line transform=\"translate(263,0)\" x2=\"0\" y2=\"5\" style=\"fill: none; stroke: #888; stroke-width: 1; opacity: 1;\"></line><line transform=\"translate(301,0)\" x2=\"0\" y2=\"5\" style=\"fill: none; stroke: #888; stroke-width: 1; opacity: 1;\"></line><line transform=\"translate(339,0)\" x2=\"0\" y2=\"5\" style=\"fill: none; stroke: #888; stroke-width: 1; opacity: 1;\"></line><line transform=\"translate(378,0)\" x2=\"0\" y2=\"5\" style=\"fill: none; stroke: #888; stroke-width: 1; opacity: 1;\"></line><line transform=\"translate(416,0)\" x2=\"0\" y2=\"5\" style=\"fill: none; stroke: #888; stroke-width: 1; opacity: 1;\"></line></g><g class=\"mark-text role-axis-label\" style=\"pointer-events: none;\"><text text-anchor=\"middle\" transform=\"translate(34.32222856426891,15)\" style=\"font-family: sans-serif; font-size: 10px; fill: #000; opacity: 1;\">2050</text><text text-anchor=\"middle\" transform=\"translate(72.45757402792667,15)\" style=\"font-family: sans-serif; font-size: 10px; fill: #000; opacity: 1;\">2100</text><text text-anchor=\"middle\" transform=\"translate(110.59291949158441,15)\" style=\"font-family: sans-serif; font-size: 10px; fill: #000; opacity: 1;\">2150</text><text text-anchor=\"middle\" transform=\"translate(148.72826495524217,15)\" style=\"font-family: sans-serif; font-size: 10px; fill: #000; opacity: 1;\">2200</text><text text-anchor=\"middle\" transform=\"translate(186.8636104188999,15)\" style=\"font-family: sans-serif; font-size: 10px; fill: #000; opacity: 1;\">2250</text><text text-anchor=\"middle\" transform=\"translate(224.99895588255768,15)\" style=\"font-family: sans-serif; font-size: 10px; fill: #000; opacity: 1;\">2300</text><text text-anchor=\"middle\" transform=\"translate(263.1343013462154,15)\" style=\"font-family: sans-serif; font-size: 10px; fill: #000; opacity: 1;\">2350</text><text text-anchor=\"middle\" transform=\"translate(301.26964680987317,15)\" style=\"font-family: sans-serif; font-size: 10px; fill: #000; opacity: 1;\">2400</text><text text-anchor=\"middle\" transform=\"translate(339.40708050841556,15)\" style=\"font-family: sans-serif; font-size: 10px; fill: #000; opacity: 1;\">2450</text><text text-anchor=\"middle\" transform=\"translate(377.5424259720734,15)\" style=\"font-family: sans-serif; font-size: 10px; fill: #000; opacity: 1;\">2500</text><text text-anchor=\"middle\" transform=\"translate(415.67777143573113,15)\" style=\"font-family: sans-serif; font-size: 10px; fill: #000; opacity: 1;\">2550</text></g><g class=\"mark-rule role-axis-domain\" style=\"pointer-events: none;\"><line transform=\"translate(0,0)\" x2=\"450\" y2=\"0\" style=\"fill: none; stroke: #888; stroke-width: 1; opacity: 1;\"></line></g><g class=\"mark-text role-axis-title\" style=\"pointer-events: none;\"><text text-anchor=\"middle\" transform=\"translate(225,30)\" style=\"font-family: sans-serif; font-size: 11px; font-weight: bold; fill: #000; opacity: 1;\">time (year)</text></g></g></g></g><g class=\"mark-group role-axis\"><g transform=\"translate(0.5,0.5)\"><path class=\"background\" d=\"M0,0h0v0h0Z\" style=\"pointer-events: none; fill: none;\"></path><g><g class=\"mark-rule role-axis-tick\" style=\"pointer-events: none;\"><line transform=\"translate(0,410)\" x2=\"-5\" y2=\"0\" style=\"fill: none; stroke: #888; stroke-width: 1; opacity: 1;\"></line><line transform=\"translate(0,369)\" x2=\"-5\" y2=\"0\" style=\"fill: none; stroke: #888; stroke-width: 1; opacity: 1;\"></line><line transform=\"translate(0,328)\" x2=\"-5\" y2=\"0\" style=\"fill: none; stroke: #888; stroke-width: 1; opacity: 1;\"></line><line transform=\"translate(0,287)\" x2=\"-5\" y2=\"0\" style=\"fill: none; stroke: #888; stroke-width: 1; opacity: 1;\"></line><line transform=\"translate(0,246)\" x2=\"-5\" y2=\"0\" style=\"fill: none; stroke: #888; stroke-width: 1; opacity: 1;\"></line><line transform=\"translate(0,205)\" x2=\"-5\" y2=\"0\" style=\"fill: none; stroke: #888; stroke-width: 1; opacity: 1;\"></line><line transform=\"translate(0,164)\" x2=\"-5\" y2=\"0\" style=\"fill: none; stroke: #888; stroke-width: 1; opacity: 1;\"></line><line transform=\"translate(0,123)\" x2=\"-5\" y2=\"0\" style=\"fill: none; stroke: #888; stroke-width: 1; opacity: 1;\"></line><line transform=\"translate(0,82)\" x2=\"-5\" y2=\"0\" style=\"fill: none; stroke: #888; stroke-width: 1; opacity: 1;\"></line><line transform=\"translate(0,41)\" x2=\"-5\" y2=\"0\" style=\"fill: none; stroke: #888; stroke-width: 1; opacity: 1;\"></line><line transform=\"translate(0,0)\" x2=\"-5\" y2=\"0\" style=\"fill: none; stroke: #888; stroke-width: 1; opacity: 1;\"></line></g><g class=\"mark-text role-axis-label\" style=\"pointer-events: none;\"><text text-anchor=\"end\" transform=\"translate(-7,413)\" style=\"font-family: sans-serif; font-size: 10px; fill: #000; opacity: 1;\">0.0</text><text text-anchor=\"end\" transform=\"translate(-7,372)\" style=\"font-family: sans-serif; font-size: 10px; fill: #000; opacity: 1;\">0.1</text><text text-anchor=\"end\" transform=\"translate(-7,331)\" style=\"font-family: sans-serif; font-size: 10px; fill: #000; opacity: 1;\">0.2</text><text text-anchor=\"end\" transform=\"translate(-7,290)\" style=\"font-family: sans-serif; font-size: 10px; fill: #000; opacity: 1;\">0.3</text><text text-anchor=\"end\" transform=\"translate(-7,249)\" style=\"font-family: sans-serif; font-size: 10px; fill: #000; opacity: 1;\">0.4</text><text text-anchor=\"end\" transform=\"translate(-7,208)\" style=\"font-family: sans-serif; font-size: 10px; fill: #000; opacity: 1;\">0.5</text><text text-anchor=\"end\" transform=\"translate(-7,167)\" style=\"font-family: sans-serif; font-size: 10px; fill: #000; opacity: 1;\">0.6</text><text text-anchor=\"end\" transform=\"translate(-7,126)\" style=\"font-family: sans-serif; font-size: 10px; fill: #000; opacity: 1;\">0.7</text><text text-anchor=\"end\" transform=\"translate(-7,85)\" style=\"font-family: sans-serif; font-size: 10px; fill: #000; opacity: 1;\">0.8</text><text text-anchor=\"end\" transform=\"translate(-7,44)\" style=\"font-family: sans-serif; font-size: 10px; fill: #000; opacity: 1;\">0.9</text><text text-anchor=\"end\" transform=\"translate(-7,3)\" style=\"font-family: sans-serif; font-size: 10px; fill: #000; opacity: 1;\">1.0</text></g><g class=\"mark-rule role-axis-domain\" style=\"pointer-events: none;\"><line transform=\"translate(0,410)\" x2=\"0\" y2=\"-410\" style=\"fill: none; stroke: #888; stroke-width: 1; opacity: 1;\"></line></g><g class=\"mark-text role-axis-title\" style=\"pointer-events: none;\"><text text-anchor=\"middle\" transform=\"translate(-24,205) rotate(-90) translate(0,-2)\" style=\"font-family: sans-serif; font-size: 11px; font-weight: bold; fill: #000; opacity: 1;\">MIU</text></g></g></g></g></g></g></g><g class=\"mark-group role-scope concat_1_group\"><g transform=\"translate(509,0)\"><path class=\"background\" d=\"M0.5,0.5h450v410h-450Z\" style=\"fill: none; stroke: #ddd;\"></path><g><g class=\"mark-group role-axis\"><g transform=\"translate(0.5,410.5)\"><path class=\"background\" d=\"M0,0h0v0h0Z\" style=\"pointer-events: none; fill: none;\"></path><g><g class=\"mark-rule role-axis-grid\" style=\"pointer-events: none;\"><line transform=\"translate(34,-410)\" x2=\"0\" y2=\"410\" style=\"fill: none; stroke: #ddd; stroke-width: 1; opacity: 1;\"></line><line transform=\"translate(72,-410)\" x2=\"0\" y2=\"410\" style=\"fill: none; stroke: #ddd; stroke-width: 1; opacity: 1;\"></line><line transform=\"translate(111,-410)\" x2=\"0\" y2=\"410\" style=\"fill: none; stroke: #ddd; stroke-width: 1; opacity: 1;\"></line><line transform=\"translate(149,-410)\" x2=\"0\" y2=\"410\" style=\"fill: none; stroke: #ddd; stroke-width: 1; opacity: 1;\"></line><line transform=\"translate(187,-410)\" x2=\"0\" y2=\"410\" style=\"fill: none; stroke: #ddd; stroke-width: 1; opacity: 1;\"></line><line transform=\"translate(225,-410)\" x2=\"0\" y2=\"410\" style=\"fill: none; stroke: #ddd; stroke-width: 1; opacity: 1;\"></line><line transform=\"translate(263,-410)\" x2=\"0\" y2=\"410\" style=\"fill: none; stroke: #ddd; stroke-width: 1; opacity: 1;\"></line><line transform=\"translate(301,-410)\" x2=\"0\" y2=\"410\" style=\"fill: none; stroke: #ddd; stroke-width: 1; opacity: 1;\"></line><line transform=\"translate(339,-410)\" x2=\"0\" y2=\"410\" style=\"fill: none; stroke: #ddd; stroke-width: 1; opacity: 1;\"></line><line transform=\"translate(378,-410)\" x2=\"0\" y2=\"410\" style=\"fill: none; stroke: #ddd; stroke-width: 1; opacity: 1;\"></line><line transform=\"translate(416,-410)\" x2=\"0\" y2=\"410\" style=\"fill: none; stroke: #ddd; stroke-width: 1; opacity: 1;\"></line></g></g></g></g><g class=\"mark-group role-axis\"><g transform=\"translate(0.5,0.5)\"><path class=\"background\" d=\"M0,0h0v0h0Z\" style=\"pointer-events: none; fill: none;\"></path><g><g class=\"mark-rule role-axis-grid\" style=\"pointer-events: none;\"><line transform=\"translate(0,410)\" x2=\"450\" y2=\"0\" style=\"fill: none; stroke: #ddd; stroke-width: 1; opacity: 1;\"></line><line transform=\"translate(0,369)\" x2=\"450\" y2=\"0\" style=\"fill: none; stroke: #ddd; stroke-width: 1; opacity: 1;\"></line><line transform=\"translate(0,328)\" x2=\"450\" y2=\"0\" style=\"fill: none; stroke: #ddd; stroke-width: 1; opacity: 1;\"></line><line transform=\"translate(0,287)\" x2=\"450\" y2=\"0\" style=\"fill: none; stroke: #ddd; stroke-width: 1; opacity: 1;\"></line><line transform=\"translate(0,246)\" x2=\"450\" y2=\"0\" style=\"fill: none; stroke: #ddd; stroke-width: 1; opacity: 1;\"></line><line transform=\"translate(0,205)\" x2=\"450\" y2=\"0\" style=\"fill: none; stroke: #ddd; stroke-width: 1; opacity: 1;\"></line><line transform=\"translate(0,164)\" x2=\"450\" y2=\"0\" style=\"fill: none; stroke: #ddd; stroke-width: 1; opacity: 1;\"></line><line transform=\"translate(0,123)\" x2=\"450\" y2=\"0\" style=\"fill: none; stroke: #ddd; stroke-width: 1; opacity: 1;\"></line><line transform=\"translate(0,82)\" x2=\"450\" y2=\"0\" style=\"fill: none; stroke: #ddd; stroke-width: 1; opacity: 1;\"></line><line transform=\"translate(0,41)\" x2=\"450\" y2=\"0\" style=\"fill: none; stroke: #ddd; stroke-width: 1; opacity: 1;\"></line><line transform=\"translate(0,0)\" x2=\"450\" y2=\"0\" style=\"fill: none; stroke: #ddd; stroke-width: 1; opacity: 1;\"></line></g></g></g></g><g class=\"mark-line role-mark concat_1_marks\"><path d=\"M450,262.88117113478404L442.37376620122234,393.6604645740965L434.74544416756,370.38704196472963L427.11921036878226,61.490589757585155L419.4908883351199,274.849524376673L411.86465453634224,201.9686686105308L404.2363325026799,342.69321048865805L396.6100987039022,131.61624030045647L388.98177667023987,366.69766017235514L381.35554287146215,365.66571503520834L373.7293090726845,285.19273523886613L366.10307527390677,136.8368410735403L358.47475324024447,398.05541786712826L350.84851944146675,149.31313329344096L343.2201974078044,361.31747398064726L335.59396360902673,274.8634032757707L327.96564157536443,356.67676237462L320.3394077765867,271.2575299732325L312.7110857429244,231.39048526885105L305.0848519441467,37.201059790755096L297.45652991048433,385.82190952875106L289.8302961117067,59.13065319435009L282.2019740780443,10.964117174508601L274.5757402792666,9.962565524355853L266.9474182456043,48.21369730037014L259.3211844468266,13.8455916624863L251.69286241316425,6.076471524999647L244.06662861438656,8.120336642830523L236.4383065807242,3.582345736718537L228.8120727819465,1.3088972982643554L221.18583898316882,9.787770892246101L213.55960518439113,0.14125109554714754L205.9312831507288,2.1401686682921195L198.3050493519511,1.5306714894308584L190.67672731828875,2.541617316902432L183.05049351951106,4.053260428767487L175.4221714858487,3.2211118617343004L167.79593768707105,2.6784621844128083L160.16761565340872,0.6687571258244702L152.54138185463103,1.1874165217706718L144.91514805585334,0.2068427543456437L137.28891425707565,0.175988154198933L129.6605922234133,0.41493846420189584L122.0343584246356,2.3911350894986185L114.40603639097326,5.125720535093876L106.77980259219557,28.86723264265038L99.15148055853322,37.42470055197958L91.52524675975553,48.52974341178191L83.89692472609319,76.424616653827L76.27069092731551,104.8632975897969L68.64445712853782,131.70364416926975L61.01822332976013,162.81552123093365L53.38990129609778,189.76185314780602L45.7636674973201,218.3242179323242L38.13534546365776,240.60805675564472L30.509111664880066,264.1213490696771L22.88078963121772,285.23530230028916L15.254555832440033,306.48936688903586L7.626233798777686,334.3513177122411L0,407.66508664857446\" style=\"fill: none; stroke: #4c78a8; stroke-width: 2;\"></path></g><g class=\"mark-text role-title\" style=\"pointer-events: none;\"><text text-anchor=\"middle\" transform=\"translate(225,-12)\" style=\"font-family: sans-serif; font-size: 13px; font-weight: bold; fill: #000; opacity: 1;\">emissions : MIU</text></g><g class=\"mark-group role-axis\"><g transform=\"translate(0.5,410.5)\"><path class=\"background\" d=\"M0,0h0v0h0Z\" style=\"pointer-events: none; fill: none;\"></path><g><g class=\"mark-rule role-axis-tick\" style=\"pointer-events: none;\"><line transform=\"translate(34,0)\" x2=\"0\" y2=\"5\" style=\"fill: none; stroke: #888; stroke-width: 1; opacity: 1;\"></line><line transform=\"translate(72,0)\" x2=\"0\" y2=\"5\" style=\"fill: none; stroke: #888; stroke-width: 1; opacity: 1;\"></line><line transform=\"translate(111,0)\" x2=\"0\" y2=\"5\" style=\"fill: none; stroke: #888; stroke-width: 1; opacity: 1;\"></line><line transform=\"translate(149,0)\" x2=\"0\" y2=\"5\" style=\"fill: none; stroke: #888; stroke-width: 1; opacity: 1;\"></line><line transform=\"translate(187,0)\" x2=\"0\" y2=\"5\" style=\"fill: none; stroke: #888; stroke-width: 1; opacity: 1;\"></line><line transform=\"translate(225,0)\" x2=\"0\" y2=\"5\" style=\"fill: none; stroke: #888; stroke-width: 1; opacity: 1;\"></line><line transform=\"translate(263,0)\" x2=\"0\" y2=\"5\" style=\"fill: none; stroke: #888; stroke-width: 1; opacity: 1;\"></line><line transform=\"translate(301,0)\" x2=\"0\" y2=\"5\" style=\"fill: none; stroke: #888; stroke-width: 1; opacity: 1;\"></line><line transform=\"translate(339,0)\" x2=\"0\" y2=\"5\" style=\"fill: none; stroke: #888; stroke-width: 1; opacity: 1;\"></line><line transform=\"translate(378,0)\" x2=\"0\" y2=\"5\" style=\"fill: none; stroke: #888; stroke-width: 1; opacity: 1;\"></line><line transform=\"translate(416,0)\" x2=\"0\" y2=\"5\" style=\"fill: none; stroke: #888; stroke-width: 1; opacity: 1;\"></line></g><g class=\"mark-text role-axis-label\" style=\"pointer-events: none;\"><text text-anchor=\"middle\" transform=\"translate(34.32222856426891,15)\" style=\"font-family: sans-serif; font-size: 10px; fill: #000; opacity: 1;\">2050</text><text text-anchor=\"middle\" transform=\"translate(72.45757402792667,15)\" style=\"font-family: sans-serif; font-size: 10px; fill: #000; opacity: 1;\">2100</text><text text-anchor=\"middle\" transform=\"translate(110.59291949158441,15)\" style=\"font-family: sans-serif; font-size: 10px; fill: #000; opacity: 1;\">2150</text><text text-anchor=\"middle\" transform=\"translate(148.72826495524217,15)\" style=\"font-family: sans-serif; font-size: 10px; fill: #000; opacity: 1;\">2200</text><text text-anchor=\"middle\" transform=\"translate(186.8636104188999,15)\" style=\"font-family: sans-serif; font-size: 10px; fill: #000; opacity: 1;\">2250</text><text text-anchor=\"middle\" transform=\"translate(224.99895588255768,15)\" style=\"font-family: sans-serif; font-size: 10px; fill: #000; opacity: 1;\">2300</text><text text-anchor=\"middle\" transform=\"translate(263.1343013462154,15)\" style=\"font-family: sans-serif; font-size: 10px; fill: #000; opacity: 1;\">2350</text><text text-anchor=\"middle\" transform=\"translate(301.26964680987317,15)\" style=\"font-family: sans-serif; font-size: 10px; fill: #000; opacity: 1;\">2400</text><text text-anchor=\"middle\" transform=\"translate(339.40708050841556,15)\" style=\"font-family: sans-serif; font-size: 10px; fill: #000; opacity: 1;\">2450</text><text text-anchor=\"middle\" transform=\"translate(377.5424259720734,15)\" style=\"font-family: sans-serif; font-size: 10px; fill: #000; opacity: 1;\">2500</text><text text-anchor=\"middle\" transform=\"translate(415.67777143573113,15)\" style=\"font-family: sans-serif; font-size: 10px; fill: #000; opacity: 1;\">2550</text></g><g class=\"mark-rule role-axis-domain\" style=\"pointer-events: none;\"><line transform=\"translate(0,0)\" x2=\"450\" y2=\"0\" style=\"fill: none; stroke: #888; stroke-width: 1; opacity: 1;\"></line></g><g class=\"mark-text role-axis-title\" style=\"pointer-events: none;\"><text text-anchor=\"middle\" transform=\"translate(225,30)\" style=\"font-family: sans-serif; font-size: 11px; font-weight: bold; fill: #000; opacity: 1;\">time (year)</text></g></g></g></g><g class=\"mark-group role-axis\"><g transform=\"translate(0.5,0.5)\"><path class=\"background\" d=\"M0,0h0v0h0Z\" style=\"pointer-events: none; fill: none;\"></path><g><g class=\"mark-rule role-axis-tick\" style=\"pointer-events: none;\"><line transform=\"translate(0,410)\" x2=\"-5\" y2=\"0\" style=\"fill: none; stroke: #888; stroke-width: 1; opacity: 1;\"></line><line transform=\"translate(0,369)\" x2=\"-5\" y2=\"0\" style=\"fill: none; stroke: #888; stroke-width: 1; opacity: 1;\"></line><line transform=\"translate(0,328)\" x2=\"-5\" y2=\"0\" style=\"fill: none; stroke: #888; stroke-width: 1; opacity: 1;\"></line><line transform=\"translate(0,287)\" x2=\"-5\" y2=\"0\" style=\"fill: none; stroke: #888; stroke-width: 1; opacity: 1;\"></line><line transform=\"translate(0,246)\" x2=\"-5\" y2=\"0\" style=\"fill: none; stroke: #888; stroke-width: 1; opacity: 1;\"></line><line transform=\"translate(0,205)\" x2=\"-5\" y2=\"0\" style=\"fill: none; stroke: #888; stroke-width: 1; opacity: 1;\"></line><line transform=\"translate(0,164)\" x2=\"-5\" y2=\"0\" style=\"fill: none; stroke: #888; stroke-width: 1; opacity: 1;\"></line><line transform=\"translate(0,123)\" x2=\"-5\" y2=\"0\" style=\"fill: none; stroke: #888; stroke-width: 1; opacity: 1;\"></line><line transform=\"translate(0,82)\" x2=\"-5\" y2=\"0\" style=\"fill: none; stroke: #888; stroke-width: 1; opacity: 1;\"></line><line transform=\"translate(0,41)\" x2=\"-5\" y2=\"0\" style=\"fill: none; stroke: #888; stroke-width: 1; opacity: 1;\"></line><line transform=\"translate(0,0)\" x2=\"-5\" y2=\"0\" style=\"fill: none; stroke: #888; stroke-width: 1; opacity: 1;\"></line></g><g class=\"mark-text role-axis-label\" style=\"pointer-events: none;\"><text text-anchor=\"end\" transform=\"translate(-7,413)\" style=\"font-family: sans-serif; font-size: 10px; fill: #000; opacity: 1;\">0.0</text><text text-anchor=\"end\" transform=\"translate(-7,372)\" style=\"font-family: sans-serif; font-size: 10px; fill: #000; opacity: 1;\">0.1</text><text text-anchor=\"end\" transform=\"translate(-7,331)\" style=\"font-family: sans-serif; font-size: 10px; fill: #000; opacity: 1;\">0.2</text><text text-anchor=\"end\" transform=\"translate(-7,290)\" style=\"font-family: sans-serif; font-size: 10px; fill: #000; opacity: 1;\">0.3</text><text text-anchor=\"end\" transform=\"translate(-7,249)\" style=\"font-family: sans-serif; font-size: 10px; fill: #000; opacity: 1;\">0.4</text><text text-anchor=\"end\" transform=\"translate(-7,208)\" style=\"font-family: sans-serif; font-size: 10px; fill: #000; opacity: 1;\">0.5</text><text text-anchor=\"end\" transform=\"translate(-7,167)\" style=\"font-family: sans-serif; font-size: 10px; fill: #000; opacity: 1;\">0.6</text><text text-anchor=\"end\" transform=\"translate(-7,126)\" style=\"font-family: sans-serif; font-size: 10px; fill: #000; opacity: 1;\">0.7</text><text text-anchor=\"end\" transform=\"translate(-7,85)\" style=\"font-family: sans-serif; font-size: 10px; fill: #000; opacity: 1;\">0.8</text><text text-anchor=\"end\" transform=\"translate(-7,44)\" style=\"font-family: sans-serif; font-size: 10px; fill: #000; opacity: 1;\">0.9</text><text text-anchor=\"end\" transform=\"translate(-7,3)\" style=\"font-family: sans-serif; font-size: 10px; fill: #000; opacity: 1;\">1.0</text></g><g class=\"mark-rule role-axis-domain\" style=\"pointer-events: none;\"><line transform=\"translate(0,410)\" x2=\"0\" y2=\"-410\" style=\"fill: none; stroke: #888; stroke-width: 1; opacity: 1;\"></line></g><g class=\"mark-text role-axis-title\" style=\"pointer-events: none;\"><text text-anchor=\"middle\" transform=\"translate(-24,205) rotate(-90) translate(0,-2)\" style=\"font-family: sans-serif; font-size: 11px; font-weight: bold; fill: #000; opacity: 1;\">MIU</text></g></g></g></g></g></g></g></g></g></g></g></svg>"
      ],
      "text/plain": [
       "VegaLite.VLSpec{:plot}"
      ]
     },
     "execution_count": 8,
     "metadata": {},
     "output_type": "execute_result"
    }
   ],
   "source": [
    "@vlplot(resolve={scale={y=:shared}}) + [Mimi.plot(m_dice1, :emissions, :MIU) Mimi.plot(m_opt, :emissions, :MIU)]"
   ]
  },
  {
   "cell_type": "markdown",
   "metadata": {},
   "source": [
    "For the first half of the period, the solver found the typical optimal policy ramp that characterizes DICE. The second half of our solution once again suffers from the fact that we don't properly handle the backstop case in this simple example. It would probably be more sensible to only optimize the first half of the model time period, and then assume 100% mitigation rate for the second half, like we did in our previous example. We will not fix this issue in this example tutorial, because we really only want to highlight the technical aspects of running an optimization."
   ]
  },
  {
   "cell_type": "markdown",
   "metadata": {},
   "source": [
    "Looking at the temperature for our optimization, and ignoring the second half of the model time period, we can see a significant impact of our optimal policy on temperatures."
   ]
  },
  {
   "cell_type": "code",
   "execution_count": 9,
   "metadata": {},
   "outputs": [
    {
     "data": {
      "application/vnd.vegalite.v3+json": {
       "hconcat": [
        {
         "$schema": "https://vega.github.io/schema/vega-lite/v2.0.json",
         "data": {
          "values": [
           {
            "TATM": "0.83",
            "time": "2005-01-01"
           },
           {
            "TATM": "0.98",
            "time": "2015-01-01"
           },
           {
            "TATM": "1.3881597063065039",
            "time": "2025-01-01"
           },
           {
            "TATM": "1.7763568832996077",
            "time": "2035-01-01"
           },
           {
            "TATM": "2.143378418542003",
            "time": "2045-01-01"
           },
           {
            "TATM": "2.48771553569001",
            "time": "2055-01-01"
           },
           {
            "TATM": "2.8087148591501157",
            "time": "2065-01-01"
           },
           {
            "TATM": "3.10671639649217",
            "time": "2075-01-01"
           },
           {
            "TATM": "3.382825259538321",
            "time": "2085-01-01"
           },
           {
            "TATM": "3.6386207932274326",
            "time": "2095-01-01"
           },
           {
            "TATM": "3.8759150825139432",
            "time": "2105-01-01"
           },
           {
            "TATM": "4.107603640506595",
            "time": "2115-01-01"
           },
           {
            "TATM": "4.3320678899024765",
            "time": "2125-01-01"
           },
           {
            "TATM": "4.548669639694528",
            "time": "2135-01-01"
           },
           {
            "TATM": "4.757364104876634",
            "time": "2145-01-01"
           },
           {
            "TATM": "4.95845043632468",
            "time": "2155-01-01"
           },
           {
            "TATM": "5.152412610352883",
            "time": "2165-01-01"
           },
           {
            "TATM": "5.3398195261657015",
            "time": "2175-01-01"
           },
           {
            "TATM": "5.521263793725003",
            "time": "2185-01-01"
           },
           {
            "TATM": "5.697325788302517",
            "time": "2195-01-01"
           },
           {
            "TATM": "5.868554376703898",
            "time": "2205-01-01"
           },
           {
            "TATM": "6.035459345242548",
            "time": "2215-01-01"
           },
           {
            "TATM": "6.198514129513103",
            "time": "2225-01-01"
           },
           {
            "TATM": "6.3581847198627255",
            "time": "2235-01-01"
           },
           {
            "TATM": "6.5148671959990105",
            "time": "2245-01-01"
           },
           {
            "TATM": "6.618260569750442",
            "time": "2255-01-01"
           },
           {
            "TATM": "6.637108329409583",
            "time": "2265-01-01"
           },
           {
            "TATM": "6.604999248696924",
            "time": "2275-01-01"
           },
           {
            "TATM": "6.544161231045846",
            "time": "2285-01-01"
           },
           {
            "TATM": "6.469101715479886",
            "time": "2295-01-01"
           },
           {
            "TATM": "6.389094468166331",
            "time": "2305-01-01"
           },
           {
            "TATM": "6.30988143244077",
            "time": "2315-01-01"
           },
           {
            "TATM": "6.234838775038302",
            "time": "2325-01-01"
           },
           {
            "TATM": "6.165775908514998",
            "time": "2335-01-01"
           },
           {
            "TATM": "6.103482237025658",
            "time": "2345-01-01"
           },
           {
            "TATM": "6.048099981351211",
            "time": "2355-01-01"
           },
           {
            "TATM": "5.999376851685412",
            "time": "2365-01-01"
           },
           {
            "TATM": "5.956835647931661",
            "time": "2375-01-01"
           },
           {
            "TATM": "5.919886474826612",
            "time": "2385-01-01"
           },
           {
            "TATM": "5.8878994327132546",
            "time": "2395-01-01"
           },
           {
            "TATM": "5.86025023335239",
            "time": "2405-01-01"
           },
           {
            "TATM": "5.836347426164182",
            "time": "2415-01-01"
           },
           {
            "TATM": "5.815647288994508",
            "time": "2425-01-01"
           },
           {
            "TATM": "5.797660591169723",
            "time": "2435-01-01"
           },
           {
            "TATM": "5.781954138232699",
            "time": "2445-01-01"
           },
           {
            "TATM": "5.768149094264203",
            "time": "2455-01-01"
           },
           {
            "TATM": "5.755917435823844",
            "time": "2465-01-01"
           },
           {
            "TATM": "5.7449774419575395",
            "time": "2475-01-01"
           },
           {
            "TATM": "5.735088811443862",
            "time": "2485-01-01"
           },
           {
            "TATM": "5.726047781785632",
            "time": "2495-01-01"
           },
           {
            "TATM": "5.717682476124955",
            "time": "2505-01-01"
           },
           {
            "TATM": "5.7098486040987675",
            "time": "2515-01-01"
           },
           {
            "TATM": "5.702425576261056",
            "time": "2525-01-01"
           },
           {
            "TATM": "5.695313048813406",
            "time": "2535-01-01"
           },
           {
            "TATM": "5.688427888709104",
            "time": "2545-01-01"
           },
           {
            "TATM": "5.681701533558629",
            "time": "2555-01-01"
           },
           {
            "TATM": "5.675077712524968",
            "time": "2565-01-01"
           },
           {
            "TATM": "5.6685104910086705",
            "time": "2575-01-01"
           },
           {
            "TATM": "5.6619626016188915",
            "time": "2585-01-01"
           },
           {
            "TATM": "5.655404025496941",
            "time": "2595-01-01"
           }
          ]
         },
         "description": "plot for a specific component variable pair",
         "encoding": {
          "x": {
           "field": "time",
           "timeUnit": "utcyear",
           "type": "temporal"
          },
          "y": {
           "field": "TATM",
           "type": "quantitative"
          }
         },
         "height": 410,
         "mark": {
          "type": "line"
         },
         "title": "climatedynamics : TATM",
         "width": 450
        },
        {
         "$schema": "https://vega.github.io/schema/vega-lite/v2.0.json",
         "data": {
          "values": [
           {
            "TATM": "0.83",
            "time": "2005-01-01"
           },
           {
            "TATM": "0.98",
            "time": "2015-01-01"
           },
           {
            "TATM": "1.3477937011564323",
            "time": "2025-01-01"
           },
           {
            "TATM": "1.675264575770179",
            "time": "2035-01-01"
           },
           {
            "TATM": "1.9643446667774047",
            "time": "2045-01-01"
           },
           {
            "TATM": "2.215648225036758",
            "time": "2055-01-01"
           },
           {
            "TATM": "2.4300087486466175",
            "time": "2065-01-01"
           },
           {
            "TATM": "2.6078090961561937",
            "time": "2075-01-01"
           },
           {
            "TATM": "2.7493258094426163",
            "time": "2085-01-01"
           },
           {
            "TATM": "2.855007667797425",
            "time": "2095-01-01"
           },
           {
            "TATM": "2.925817294793305",
            "time": "2105-01-01"
           },
           {
            "TATM": "2.9743409872692848",
            "time": "2115-01-01"
           },
           {
            "TATM": "2.9980023357821115",
            "time": "2125-01-01"
           },
           {
            "TATM": "2.9992110510106444",
            "time": "2135-01-01"
           },
           {
            "TATM": "2.984181700077014",
            "time": "2145-01-01"
           },
           {
            "TATM": "2.953184652844929",
            "time": "2155-01-01"
           },
           {
            "TATM": "2.9077237326286394",
            "time": "2165-01-01"
           },
           {
            "TATM": "2.8547684737953527",
            "time": "2175-01-01"
           },
           {
            "TATM": "2.799357226544598",
            "time": "2185-01-01"
           },
           {
            "TATM": "2.7451201178984297",
            "time": "2195-01-01"
           },
           {
            "TATM": "2.6945312892008824",
            "time": "2205-01-01"
           },
           {
            "TATM": "2.6486974303191055",
            "time": "2215-01-01"
           },
           {
            "TATM": "2.608437370970957",
            "time": "2225-01-01"
           },
           {
            "TATM": "2.574391914716908",
            "time": "2235-01-01"
           },
           {
            "TATM": "2.5462794732609546",
            "time": "2245-01-01"
           },
           {
            "TATM": "2.5228728543047945",
            "time": "2255-01-01"
           },
           {
            "TATM": "2.50246493752549",
            "time": "2265-01-01"
           },
           {
            "TATM": "2.484706286238891",
            "time": "2275-01-01"
           },
           {
            "TATM": "2.4687959410175337",
            "time": "2285-01-01"
           },
           {
            "TATM": "2.4581669963882757",
            "time": "2295-01-01"
           },
           {
            "TATM": "2.4517688977780057",
            "time": "2305-01-01"
           },
           {
            "TATM": "2.445580990474802",
            "time": "2315-01-01"
           },
           {
            "TATM": "2.443144193196216",
            "time": "2325-01-01"
           },
           {
            "TATM": "2.4444545582024437",
            "time": "2335-01-01"
           },
           {
            "TATM": "2.451136653144106",
            "time": "2345-01-01"
           },
           {
            "TATM": "2.4824288191913264",
            "time": "2355-01-01"
           },
           {
            "TATM": "2.5255208226830987",
            "time": "2365-01-01"
           },
           {
            "TATM": "2.5562489793496654",
            "time": "2375-01-01"
           },
           {
            "TATM": "2.605009939722034",
            "time": "2385-01-01"
           },
           {
            "TATM": "2.844385027892036",
            "time": "2395-01-01"
           },
           {
            "TATM": "3.157167737008431",
            "time": "2405-01-01"
           },
           {
            "TATM": "3.4391851304987457",
            "time": "2415-01-01"
           },
           {
            "TATM": "3.778954669314262",
            "time": "2425-01-01"
           },
           {
            "TATM": "4.174858120688875",
            "time": "2435-01-01"
           },
           {
            "TATM": "4.582205695239721",
            "time": "2445-01-01"
           },
           {
            "TATM": "4.980199881129309",
            "time": "2455-01-01"
           },
           {
            "TATM": "5.324755288320631",
            "time": "2465-01-01"
           },
           {
            "TATM": "5.639896196334385",
            "time": "2475-01-01"
           },
           {
            "TATM": "5.925432689785179",
            "time": "2485-01-01"
           },
           {
            "TATM": "6.161960367577225",
            "time": "2495-01-01"
           },
           {
            "TATM": "6.420591067272354",
            "time": "2505-01-01"
           },
           {
            "TATM": "6.703702627676824",
            "time": "2515-01-01"
           },
           {
            "TATM": "6.942902469669473",
            "time": "2525-01-01"
           },
           {
            "TATM": "7.149580596309768",
            "time": "2535-01-01"
           },
           {
            "TATM": "7.34978261637744",
            "time": "2545-01-01"
           },
           {
            "TATM": "7.530824110309864",
            "time": "2555-01-01"
           },
           {
            "TATM": "7.668654053983034",
            "time": "2565-01-01"
           },
           {
            "TATM": "7.804798810673468",
            "time": "2575-01-01"
           },
           {
            "TATM": "8.0114898584023",
            "time": "2585-01-01"
           },
           {
            "TATM": "8.232411393496726",
            "time": "2595-01-01"
           }
          ]
         },
         "description": "plot for a specific component variable pair",
         "encoding": {
          "x": {
           "field": "time",
           "timeUnit": "utcyear",
           "type": "temporal"
          },
          "y": {
           "field": "TATM",
           "type": "quantitative"
          }
         },
         "height": 410,
         "mark": {
          "type": "line"
         },
         "title": "climatedynamics : TATM",
         "width": 450
        }
       ],
       "resolve": {
        "scale": {
         "y": "shared"
        }
       }
      },
      "image/png": "[encoded data removed]",
      "image/svg+xml": [
       "<svg class=\"marks\" width=\"992\" height=\"476\" viewBox=\"0 0 992 476\" version=\"1.1\" xmlns=\"http://www.w3.org/2000/svg\" xmlns:xlink=\"http://www.w3.org/1999/xlink\"><g transform=\"translate(33,28)\"><g class=\"mark-group role-frame root\"><g transform=\"translate(0,0)\"><path class=\"background\" d=\"M0,0h0v410h0Z\" style=\"fill: none;\"></path><g><g class=\"mark-group role-scope concat_0_group\"><g transform=\"translate(0,0)\"><path class=\"background\" d=\"M0.5,0.5h450v410h-450Z\" style=\"fill: none; stroke: #ddd;\"></path><g><g class=\"mark-group role-axis\"><g transform=\"translate(0.5,410.5)\"><path class=\"background\" d=\"M0,0h0v0h0Z\" style=\"pointer-events: none; fill: none;\"></path><g><g class=\"mark-rule role-axis-grid\" style=\"pointer-events: none;\"><line transform=\"translate(34,-410)\" x2=\"0\" y2=\"410\" style=\"fill: none; stroke: #ddd; stroke-width: 1; opacity: 1;\"></line><line transform=\"translate(72,-410)\" x2=\"0\" y2=\"410\" style=\"fill: none; stroke: #ddd; stroke-width: 1; opacity: 1;\"></line><line transform=\"translate(111,-410)\" x2=\"0\" y2=\"410\" style=\"fill: none; stroke: #ddd; stroke-width: 1; opacity: 1;\"></line><line transform=\"translate(149,-410)\" x2=\"0\" y2=\"410\" style=\"fill: none; stroke: #ddd; stroke-width: 1; opacity: 1;\"></line><line transform=\"translate(187,-410)\" x2=\"0\" y2=\"410\" style=\"fill: none; stroke: #ddd; stroke-width: 1; opacity: 1;\"></line><line transform=\"translate(225,-410)\" x2=\"0\" y2=\"410\" style=\"fill: none; stroke: #ddd; stroke-width: 1; opacity: 1;\"></line><line transform=\"translate(263,-410)\" x2=\"0\" y2=\"410\" style=\"fill: none; stroke: #ddd; stroke-width: 1; opacity: 1;\"></line><line transform=\"translate(301,-410)\" x2=\"0\" y2=\"410\" style=\"fill: none; stroke: #ddd; stroke-width: 1; opacity: 1;\"></line><line transform=\"translate(339,-410)\" x2=\"0\" y2=\"410\" style=\"fill: none; stroke: #ddd; stroke-width: 1; opacity: 1;\"></line><line transform=\"translate(378,-410)\" x2=\"0\" y2=\"410\" style=\"fill: none; stroke: #ddd; stroke-width: 1; opacity: 1;\"></line><line transform=\"translate(416,-410)\" x2=\"0\" y2=\"410\" style=\"fill: none; stroke: #ddd; stroke-width: 1; opacity: 1;\"></line></g></g></g></g><g class=\"mark-group role-axis\"><g transform=\"translate(0.5,0.5)\"><path class=\"background\" d=\"M0,0h0v0h0Z\" style=\"pointer-events: none; fill: none;\"></path><g><g class=\"mark-rule role-axis-grid\" style=\"pointer-events: none;\"><line transform=\"translate(0,410)\" x2=\"450\" y2=\"0\" style=\"fill: none; stroke: #ddd; stroke-width: 1; opacity: 1;\"></line><line transform=\"translate(0,364)\" x2=\"450\" y2=\"0\" style=\"fill: none; stroke: #ddd; stroke-width: 1; opacity: 1;\"></line><line transform=\"translate(0,319)\" x2=\"450\" y2=\"0\" style=\"fill: none; stroke: #ddd; stroke-width: 1; opacity: 1;\"></line><line transform=\"translate(0,273)\" x2=\"450\" y2=\"0\" style=\"fill: none; stroke: #ddd; stroke-width: 1; opacity: 1;\"></line><line transform=\"translate(0,228)\" x2=\"450\" y2=\"0\" style=\"fill: none; stroke: #ddd; stroke-width: 1; opacity: 1;\"></line><line transform=\"translate(0,182)\" x2=\"450\" y2=\"0\" style=\"fill: none; stroke: #ddd; stroke-width: 1; opacity: 1;\"></line><line transform=\"translate(0,137)\" x2=\"450\" y2=\"0\" style=\"fill: none; stroke: #ddd; stroke-width: 1; opacity: 1;\"></line><line transform=\"translate(0,91)\" x2=\"450\" y2=\"0\" style=\"fill: none; stroke: #ddd; stroke-width: 1; opacity: 1;\"></line><line transform=\"translate(0,46)\" x2=\"450\" y2=\"0\" style=\"fill: none; stroke: #ddd; stroke-width: 1; opacity: 1;\"></line><line transform=\"translate(0,0)\" x2=\"450\" y2=\"0\" style=\"fill: none; stroke: #ddd; stroke-width: 1; opacity: 1;\"></line></g></g></g></g><g class=\"mark-line role-mark concat_0_marks\"><path d=\"M450,152.3649277273616L442.37376620122234,152.06614814847273L434.74544416756,151.76785540960498L427.11921036878226,151.46868198497367L419.4908883351199,151.16693013788466L411.86465453634224,150.86050729214077L404.2363325026799,150.54684999850036L396.6100987039022,150.2228348592186L388.98177667023987,149.88467470216727L381.35554287146215,149.5277983098631L373.7293090726845,149.14671216309898L366.10307527390677,148.73484303422407L358.47475324024447,148.28436097748988L350.84851944146675,147.785983479136L343.2201974078044,147.22876348351963L335.59396360902673,146.59986703606597L327.96564157536443,145.8843508467126L320.3394077765867,145.0649568346946L312.7110857429244,144.12195058585394L305.0848519441467,143.03304492505782L297.45652991048433,141.77347028750734L289.8302961117067,140.31628281345434L282.2019740780443,138.63304270533547L274.5757402792666,136.69505453433123L266.9474182456043,134.4754452940004L259.3211844468266,131.95247586883113L251.69286241316425,129.11465305653894L244.06662861438656,125.96845580381068L236.4383065807242,122.54984585547601L228.8120727819465,118.94125200575604L221.18583898316882,115.29647740591628L213.55960518439113,111.87709947457807L205.9312831507288,109.10558978158457L198.3050493519511,107.64284277134124L190.67672731828875,108.50146293359097L183.05049351951106,113.21160551560064L175.4221714858487,120.34936276180918L167.79593768707105,127.62324521106979L160.16761565340872,135.05129649450618L152.54138185463103,142.65474506126685L144.91514805585334,150.45515853288538L137.28891425707565,158.4757605080832L129.6605922234133,166.74155491911804L122.0343584246356,175.2789810839242L114.40603639097326,184.11503567854234L106.77980259219557,193.27563522228667L99.15148055853322,202.78282752502707L91.52524675975553,212.6502405711094L83.89692472609319,222.87583415469953L76.27069092731551,233.43053512992034L68.64445712853782,244.24060830852807L61.01822332976013,255.89351595436537L53.38990129609778,268.47180860424555L45.7636674973201,282.0474341942725L38.13534546365776,296.6707367074551L30.509111664880066,312.357205377531L22.88078963121772,329.07707531635117L15.254555832440033,346.7616133793704L7.626233798777686,365.35555555555555L0,372.18888888888887\" style=\"fill: none; stroke: #4c78a8; stroke-width: 2;\"></path></g><g class=\"mark-text role-title\" style=\"pointer-events: none;\"><text text-anchor=\"middle\" transform=\"translate(225,-12)\" style=\"font-family: sans-serif; font-size: 13px; font-weight: bold; fill: #000; opacity: 1;\">climatedynamics : TATM</text></g><g class=\"mark-group role-axis\"><g transform=\"translate(0.5,410.5)\"><path class=\"background\" d=\"M0,0h0v0h0Z\" style=\"pointer-events: none; fill: none;\"></path><g><g class=\"mark-rule role-axis-tick\" style=\"pointer-events: none;\"><line transform=\"translate(34,0)\" x2=\"0\" y2=\"5\" style=\"fill: none; stroke: #888; stroke-width: 1; opacity: 1;\"></line><line transform=\"translate(72,0)\" x2=\"0\" y2=\"5\" style=\"fill: none; stroke: #888; stroke-width: 1; opacity: 1;\"></line><line transform=\"translate(111,0)\" x2=\"0\" y2=\"5\" style=\"fill: none; stroke: #888; stroke-width: 1; opacity: 1;\"></line><line transform=\"translate(149,0)\" x2=\"0\" y2=\"5\" style=\"fill: none; stroke: #888; stroke-width: 1; opacity: 1;\"></line><line transform=\"translate(187,0)\" x2=\"0\" y2=\"5\" style=\"fill: none; stroke: #888; stroke-width: 1; opacity: 1;\"></line><line transform=\"translate(225,0)\" x2=\"0\" y2=\"5\" style=\"fill: none; stroke: #888; stroke-width: 1; opacity: 1;\"></line><line transform=\"translate(263,0)\" x2=\"0\" y2=\"5\" style=\"fill: none; stroke: #888; stroke-width: 1; opacity: 1;\"></line><line transform=\"translate(301,0)\" x2=\"0\" y2=\"5\" style=\"fill: none; stroke: #888; stroke-width: 1; opacity: 1;\"></line><line transform=\"translate(339,0)\" x2=\"0\" y2=\"5\" style=\"fill: none; stroke: #888; stroke-width: 1; opacity: 1;\"></line><line transform=\"translate(378,0)\" x2=\"0\" y2=\"5\" style=\"fill: none; stroke: #888; stroke-width: 1; opacity: 1;\"></line><line transform=\"translate(416,0)\" x2=\"0\" y2=\"5\" style=\"fill: none; stroke: #888; stroke-width: 1; opacity: 1;\"></line></g><g class=\"mark-text role-axis-label\" style=\"pointer-events: none;\"><text text-anchor=\"middle\" transform=\"translate(34.32222856426891,15)\" style=\"font-family: sans-serif; font-size: 10px; fill: #000; opacity: 1;\">2050</text><text text-anchor=\"middle\" transform=\"translate(72.45757402792667,15)\" style=\"font-family: sans-serif; font-size: 10px; fill: #000; opacity: 1;\">2100</text><text text-anchor=\"middle\" transform=\"translate(110.59291949158441,15)\" style=\"font-family: sans-serif; font-size: 10px; fill: #000; opacity: 1;\">2150</text><text text-anchor=\"middle\" transform=\"translate(148.72826495524217,15)\" style=\"font-family: sans-serif; font-size: 10px; fill: #000; opacity: 1;\">2200</text><text text-anchor=\"middle\" transform=\"translate(186.8636104188999,15)\" style=\"font-family: sans-serif; font-size: 10px; fill: #000; opacity: 1;\">2250</text><text text-anchor=\"middle\" transform=\"translate(224.99895588255768,15)\" style=\"font-family: sans-serif; font-size: 10px; fill: #000; opacity: 1;\">2300</text><text text-anchor=\"middle\" transform=\"translate(263.1343013462154,15)\" style=\"font-family: sans-serif; font-size: 10px; fill: #000; opacity: 1;\">2350</text><text text-anchor=\"middle\" transform=\"translate(301.26964680987317,15)\" style=\"font-family: sans-serif; font-size: 10px; fill: #000; opacity: 1;\">2400</text><text text-anchor=\"middle\" transform=\"translate(339.40708050841556,15)\" style=\"font-family: sans-serif; font-size: 10px; fill: #000; opacity: 1;\">2450</text><text text-anchor=\"middle\" transform=\"translate(377.5424259720734,15)\" style=\"font-family: sans-serif; font-size: 10px; fill: #000; opacity: 1;\">2500</text><text text-anchor=\"middle\" transform=\"translate(415.67777143573113,15)\" style=\"font-family: sans-serif; font-size: 10px; fill: #000; opacity: 1;\">2550</text></g><g class=\"mark-rule role-axis-domain\" style=\"pointer-events: none;\"><line transform=\"translate(0,0)\" x2=\"450\" y2=\"0\" style=\"fill: none; stroke: #888; stroke-width: 1; opacity: 1;\"></line></g><g class=\"mark-text role-axis-title\" style=\"pointer-events: none;\"><text text-anchor=\"middle\" transform=\"translate(225,30)\" style=\"font-family: sans-serif; font-size: 11px; font-weight: bold; fill: #000; opacity: 1;\">time (year)</text></g></g></g></g><g class=\"mark-group role-axis\"><g transform=\"translate(0.5,0.5)\"><path class=\"background\" d=\"M0,0h0v0h0Z\" style=\"pointer-events: none; fill: none;\"></path><g><g class=\"mark-rule role-axis-tick\" style=\"pointer-events: none;\"><line transform=\"translate(0,410)\" x2=\"-5\" y2=\"0\" style=\"fill: none; stroke: #888; stroke-width: 1; opacity: 1;\"></line><line transform=\"translate(0,364)\" x2=\"-5\" y2=\"0\" style=\"fill: none; stroke: #888; stroke-width: 1; opacity: 1;\"></line><line transform=\"translate(0,319)\" x2=\"-5\" y2=\"0\" style=\"fill: none; stroke: #888; stroke-width: 1; opacity: 1;\"></line><line transform=\"translate(0,273)\" x2=\"-5\" y2=\"0\" style=\"fill: none; stroke: #888; stroke-width: 1; opacity: 1;\"></line><line transform=\"translate(0,228)\" x2=\"-5\" y2=\"0\" style=\"fill: none; stroke: #888; stroke-width: 1; opacity: 1;\"></line><line transform=\"translate(0,182)\" x2=\"-5\" y2=\"0\" style=\"fill: none; stroke: #888; stroke-width: 1; opacity: 1;\"></line><line transform=\"translate(0,137)\" x2=\"-5\" y2=\"0\" style=\"fill: none; stroke: #888; stroke-width: 1; opacity: 1;\"></line><line transform=\"translate(0,91)\" x2=\"-5\" y2=\"0\" style=\"fill: none; stroke: #888; stroke-width: 1; opacity: 1;\"></line><line transform=\"translate(0,46)\" x2=\"-5\" y2=\"0\" style=\"fill: none; stroke: #888; stroke-width: 1; opacity: 1;\"></line><line transform=\"translate(0,0)\" x2=\"-5\" y2=\"0\" style=\"fill: none; stroke: #888; stroke-width: 1; opacity: 1;\"></line></g><g class=\"mark-text role-axis-label\" style=\"pointer-events: none;\"><text text-anchor=\"end\" transform=\"translate(-7,413)\" style=\"font-family: sans-serif; font-size: 10px; fill: #000; opacity: 1;\">0</text><text text-anchor=\"end\" transform=\"translate(-7,367.44444444444446)\" style=\"font-family: sans-serif; font-size: 10px; fill: #000; opacity: 1;\">1</text><text text-anchor=\"end\" transform=\"translate(-7,321.8888888888889)\" style=\"font-family: sans-serif; font-size: 10px; fill: #000; opacity: 1;\">2</text><text text-anchor=\"end\" transform=\"translate(-7,276.33333333333337)\" style=\"font-family: sans-serif; font-size: 10px; fill: #000; opacity: 1;\">3</text><text text-anchor=\"end\" transform=\"translate(-7,230.7777777777778)\" style=\"font-family: sans-serif; font-size: 10px; fill: #000; opacity: 1;\">4</text><text text-anchor=\"end\" transform=\"translate(-7,185.2222222222222)\" style=\"font-family: sans-serif; font-size: 10px; fill: #000; opacity: 1;\">5</text><text text-anchor=\"end\" transform=\"translate(-7,139.66666666666669)\" style=\"font-family: sans-serif; font-size: 10px; fill: #000; opacity: 1;\">6</text><text text-anchor=\"end\" transform=\"translate(-7,94.11111111111109)\" style=\"font-family: sans-serif; font-size: 10px; fill: #000; opacity: 1;\">7</text><text text-anchor=\"end\" transform=\"translate(-7,48.5555555555556)\" style=\"font-family: sans-serif; font-size: 10px; fill: #000; opacity: 1;\">8</text><text text-anchor=\"end\" transform=\"translate(-7,3)\" style=\"font-family: sans-serif; font-size: 10px; fill: #000; opacity: 1;\">9</text></g><g class=\"mark-rule role-axis-domain\" style=\"pointer-events: none;\"><line transform=\"translate(0,410)\" x2=\"0\" y2=\"-410\" style=\"fill: none; stroke: #888; stroke-width: 1; opacity: 1;\"></line></g><g class=\"mark-text role-axis-title\" style=\"pointer-events: none;\"><text text-anchor=\"middle\" transform=\"translate(-16,205) rotate(-90) translate(0,-2)\" style=\"font-family: sans-serif; font-size: 11px; font-weight: bold; fill: #000; opacity: 1;\">TATM</text></g></g></g></g></g></g></g><g class=\"mark-group role-scope concat_1_group\"><g transform=\"translate(501,0)\"><path class=\"background\" d=\"M0.5,0.5h450v410h-450Z\" style=\"fill: none; stroke: #ddd;\"></path><g><g class=\"mark-group role-axis\"><g transform=\"translate(0.5,410.5)\"><path class=\"background\" d=\"M0,0h0v0h0Z\" style=\"pointer-events: none; fill: none;\"></path><g><g class=\"mark-rule role-axis-grid\" style=\"pointer-events: none;\"><line transform=\"translate(34,-410)\" x2=\"0\" y2=\"410\" style=\"fill: none; stroke: #ddd; stroke-width: 1; opacity: 1;\"></line><line transform=\"translate(72,-410)\" x2=\"0\" y2=\"410\" style=\"fill: none; stroke: #ddd; stroke-width: 1; opacity: 1;\"></line><line transform=\"translate(111,-410)\" x2=\"0\" y2=\"410\" style=\"fill: none; stroke: #ddd; stroke-width: 1; opacity: 1;\"></line><line transform=\"translate(149,-410)\" x2=\"0\" y2=\"410\" style=\"fill: none; stroke: #ddd; stroke-width: 1; opacity: 1;\"></line><line transform=\"translate(187,-410)\" x2=\"0\" y2=\"410\" style=\"fill: none; stroke: #ddd; stroke-width: 1; opacity: 1;\"></line><line transform=\"translate(225,-410)\" x2=\"0\" y2=\"410\" style=\"fill: none; stroke: #ddd; stroke-width: 1; opacity: 1;\"></line><line transform=\"translate(263,-410)\" x2=\"0\" y2=\"410\" style=\"fill: none; stroke: #ddd; stroke-width: 1; opacity: 1;\"></line><line transform=\"translate(301,-410)\" x2=\"0\" y2=\"410\" style=\"fill: none; stroke: #ddd; stroke-width: 1; opacity: 1;\"></line><line transform=\"translate(339,-410)\" x2=\"0\" y2=\"410\" style=\"fill: none; stroke: #ddd; stroke-width: 1; opacity: 1;\"></line><line transform=\"translate(378,-410)\" x2=\"0\" y2=\"410\" style=\"fill: none; stroke: #ddd; stroke-width: 1; opacity: 1;\"></line><line transform=\"translate(416,-410)\" x2=\"0\" y2=\"410\" style=\"fill: none; stroke: #ddd; stroke-width: 1; opacity: 1;\"></line></g></g></g></g><g class=\"mark-group role-axis\"><g transform=\"translate(0.5,0.5)\"><path class=\"background\" d=\"M0,0h0v0h0Z\" style=\"pointer-events: none; fill: none;\"></path><g><g class=\"mark-rule role-axis-grid\" style=\"pointer-events: none;\"><line transform=\"translate(0,410)\" x2=\"450\" y2=\"0\" style=\"fill: none; stroke: #ddd; stroke-width: 1; opacity: 1;\"></line><line transform=\"translate(0,364)\" x2=\"450\" y2=\"0\" style=\"fill: none; stroke: #ddd; stroke-width: 1; opacity: 1;\"></line><line transform=\"translate(0,319)\" x2=\"450\" y2=\"0\" style=\"fill: none; stroke: #ddd; stroke-width: 1; opacity: 1;\"></line><line transform=\"translate(0,273)\" x2=\"450\" y2=\"0\" style=\"fill: none; stroke: #ddd; stroke-width: 1; opacity: 1;\"></line><line transform=\"translate(0,228)\" x2=\"450\" y2=\"0\" style=\"fill: none; stroke: #ddd; stroke-width: 1; opacity: 1;\"></line><line transform=\"translate(0,182)\" x2=\"450\" y2=\"0\" style=\"fill: none; stroke: #ddd; stroke-width: 1; opacity: 1;\"></line><line transform=\"translate(0,137)\" x2=\"450\" y2=\"0\" style=\"fill: none; stroke: #ddd; stroke-width: 1; opacity: 1;\"></line><line transform=\"translate(0,91)\" x2=\"450\" y2=\"0\" style=\"fill: none; stroke: #ddd; stroke-width: 1; opacity: 1;\"></line><line transform=\"translate(0,46)\" x2=\"450\" y2=\"0\" style=\"fill: none; stroke: #ddd; stroke-width: 1; opacity: 1;\"></line><line transform=\"translate(0,0)\" x2=\"450\" y2=\"0\" style=\"fill: none; stroke: #ddd; stroke-width: 1; opacity: 1;\"></line></g></g></g></g><g class=\"mark-line role-mark concat_1_marks\"><path d=\"M450,34.96792540737141L442.37376620122234,45.032128672784154L434.74544416756,54.448054180430915L427.11921036878226,60.65020420743957L419.4908883351199,66.92912386366174L411.86465453634224,75.17656969836105L404.2363325026799,84.29688394588834L396.6100987039022,93.71222082616845L388.98177667023987,104.60910251694463L381.35554287146215,117.50640693537053L373.7293090726845,129.2884721437042L366.10307527390677,140.06362190978626L358.47475324024447,153.07139550032247L350.84851944146675,167.42781464317127L343.2201974078044,183.12422763744257L335.59396360902673,201.25507388352383L327.96564157536443,219.81201894639568L320.3394077765867,237.84762062012808L312.7110857429244,253.3260107217238L305.0848519441467,266.1734697585048L297.45652991048433,280.4224598404739L289.8302961117067,291.3273249682185L282.2019740780443,293.54865760740415L274.5757402792666,294.9484958555477L266.9474182456043,296.91157601461737L259.3211844468266,298.3371080234352L251.69286241316425,298.64151457077753L244.06662861438656,298.70120897661684L236.4383065807242,298.59019932281456L228.8120727819465,298.30830576789083L221.18583898316882,298.01683683120075L213.55960518439113,297.5326293536457L205.9312831507288,296.8078247380061L198.3050493519511,295.99881951272766L190.67672731828875,295.06912552611493L183.05049351951106,294.00282399588986L175.4221714858487,292.72214610734085L167.79593768707105,291.1711864335453L160.16761565340872,289.3371170632407L152.54138185463103,287.2491301586265L144.91514805585334,284.9445279624049L137.28891425707565,282.47372634630165L129.6605922234133,279.94943619376727L122.0343584246356,277.53702995802865L114.40603639097326,275.4660324815088L106.77980259219557,274.0539447742693L99.15148055853322,273.36927434284837L91.52524675975553,273.4243380365927L83.89692472609319,274.5022439132881L76.27069092731551,276.7127676816383L68.64445712853782,279.9385395781173L61.01822332976013,284.75293534761414L53.38990129609778,291.1998078417734L45.7636674973201,299.299601450543L38.13534546365776,309.06491419276995L30.509111664880066,320.5131874023627L22.88078963121772,333.6823915482474L15.254555832440033,348.6005091695403L7.626233798777686,365.35555555555555L0,372.18888888888887\" style=\"fill: none; stroke: #4c78a8; stroke-width: 2;\"></path></g><g class=\"mark-text role-title\" style=\"pointer-events: none;\"><text text-anchor=\"middle\" transform=\"translate(225,-12)\" style=\"font-family: sans-serif; font-size: 13px; font-weight: bold; fill: #000; opacity: 1;\">climatedynamics : TATM</text></g><g class=\"mark-group role-axis\"><g transform=\"translate(0.5,410.5)\"><path class=\"background\" d=\"M0,0h0v0h0Z\" style=\"pointer-events: none; fill: none;\"></path><g><g class=\"mark-rule role-axis-tick\" style=\"pointer-events: none;\"><line transform=\"translate(34,0)\" x2=\"0\" y2=\"5\" style=\"fill: none; stroke: #888; stroke-width: 1; opacity: 1;\"></line><line transform=\"translate(72,0)\" x2=\"0\" y2=\"5\" style=\"fill: none; stroke: #888; stroke-width: 1; opacity: 1;\"></line><line transform=\"translate(111,0)\" x2=\"0\" y2=\"5\" style=\"fill: none; stroke: #888; stroke-width: 1; opacity: 1;\"></line><line transform=\"translate(149,0)\" x2=\"0\" y2=\"5\" style=\"fill: none; stroke: #888; stroke-width: 1; opacity: 1;\"></line><line transform=\"translate(187,0)\" x2=\"0\" y2=\"5\" style=\"fill: none; stroke: #888; stroke-width: 1; opacity: 1;\"></line><line transform=\"translate(225,0)\" x2=\"0\" y2=\"5\" style=\"fill: none; stroke: #888; stroke-width: 1; opacity: 1;\"></line><line transform=\"translate(263,0)\" x2=\"0\" y2=\"5\" style=\"fill: none; stroke: #888; stroke-width: 1; opacity: 1;\"></line><line transform=\"translate(301,0)\" x2=\"0\" y2=\"5\" style=\"fill: none; stroke: #888; stroke-width: 1; opacity: 1;\"></line><line transform=\"translate(339,0)\" x2=\"0\" y2=\"5\" style=\"fill: none; stroke: #888; stroke-width: 1; opacity: 1;\"></line><line transform=\"translate(378,0)\" x2=\"0\" y2=\"5\" style=\"fill: none; stroke: #888; stroke-width: 1; opacity: 1;\"></line><line transform=\"translate(416,0)\" x2=\"0\" y2=\"5\" style=\"fill: none; stroke: #888; stroke-width: 1; opacity: 1;\"></line></g><g class=\"mark-text role-axis-label\" style=\"pointer-events: none;\"><text text-anchor=\"middle\" transform=\"translate(34.32222856426891,15)\" style=\"font-family: sans-serif; font-size: 10px; fill: #000; opacity: 1;\">2050</text><text text-anchor=\"middle\" transform=\"translate(72.45757402792667,15)\" style=\"font-family: sans-serif; font-size: 10px; fill: #000; opacity: 1;\">2100</text><text text-anchor=\"middle\" transform=\"translate(110.59291949158441,15)\" style=\"font-family: sans-serif; font-size: 10px; fill: #000; opacity: 1;\">2150</text><text text-anchor=\"middle\" transform=\"translate(148.72826495524217,15)\" style=\"font-family: sans-serif; font-size: 10px; fill: #000; opacity: 1;\">2200</text><text text-anchor=\"middle\" transform=\"translate(186.8636104188999,15)\" style=\"font-family: sans-serif; font-size: 10px; fill: #000; opacity: 1;\">2250</text><text text-anchor=\"middle\" transform=\"translate(224.99895588255768,15)\" style=\"font-family: sans-serif; font-size: 10px; fill: #000; opacity: 1;\">2300</text><text text-anchor=\"middle\" transform=\"translate(263.1343013462154,15)\" style=\"font-family: sans-serif; font-size: 10px; fill: #000; opacity: 1;\">2350</text><text text-anchor=\"middle\" transform=\"translate(301.26964680987317,15)\" style=\"font-family: sans-serif; font-size: 10px; fill: #000; opacity: 1;\">2400</text><text text-anchor=\"middle\" transform=\"translate(339.40708050841556,15)\" style=\"font-family: sans-serif; font-size: 10px; fill: #000; opacity: 1;\">2450</text><text text-anchor=\"middle\" transform=\"translate(377.5424259720734,15)\" style=\"font-family: sans-serif; font-size: 10px; fill: #000; opacity: 1;\">2500</text><text text-anchor=\"middle\" transform=\"translate(415.67777143573113,15)\" style=\"font-family: sans-serif; font-size: 10px; fill: #000; opacity: 1;\">2550</text></g><g class=\"mark-rule role-axis-domain\" style=\"pointer-events: none;\"><line transform=\"translate(0,0)\" x2=\"450\" y2=\"0\" style=\"fill: none; stroke: #888; stroke-width: 1; opacity: 1;\"></line></g><g class=\"mark-text role-axis-title\" style=\"pointer-events: none;\"><text text-anchor=\"middle\" transform=\"translate(225,30)\" style=\"font-family: sans-serif; font-size: 11px; font-weight: bold; fill: #000; opacity: 1;\">time (year)</text></g></g></g></g><g class=\"mark-group role-axis\"><g transform=\"translate(0.5,0.5)\"><path class=\"background\" d=\"M0,0h0v0h0Z\" style=\"pointer-events: none; fill: none;\"></path><g><g class=\"mark-rule role-axis-tick\" style=\"pointer-events: none;\"><line transform=\"translate(0,410)\" x2=\"-5\" y2=\"0\" style=\"fill: none; stroke: #888; stroke-width: 1; opacity: 1;\"></line><line transform=\"translate(0,364)\" x2=\"-5\" y2=\"0\" style=\"fill: none; stroke: #888; stroke-width: 1; opacity: 1;\"></line><line transform=\"translate(0,319)\" x2=\"-5\" y2=\"0\" style=\"fill: none; stroke: #888; stroke-width: 1; opacity: 1;\"></line><line transform=\"translate(0,273)\" x2=\"-5\" y2=\"0\" style=\"fill: none; stroke: #888; stroke-width: 1; opacity: 1;\"></line><line transform=\"translate(0,228)\" x2=\"-5\" y2=\"0\" style=\"fill: none; stroke: #888; stroke-width: 1; opacity: 1;\"></line><line transform=\"translate(0,182)\" x2=\"-5\" y2=\"0\" style=\"fill: none; stroke: #888; stroke-width: 1; opacity: 1;\"></line><line transform=\"translate(0,137)\" x2=\"-5\" y2=\"0\" style=\"fill: none; stroke: #888; stroke-width: 1; opacity: 1;\"></line><line transform=\"translate(0,91)\" x2=\"-5\" y2=\"0\" style=\"fill: none; stroke: #888; stroke-width: 1; opacity: 1;\"></line><line transform=\"translate(0,46)\" x2=\"-5\" y2=\"0\" style=\"fill: none; stroke: #888; stroke-width: 1; opacity: 1;\"></line><line transform=\"translate(0,0)\" x2=\"-5\" y2=\"0\" style=\"fill: none; stroke: #888; stroke-width: 1; opacity: 1;\"></line></g><g class=\"mark-text role-axis-label\" style=\"pointer-events: none;\"><text text-anchor=\"end\" transform=\"translate(-7,413)\" style=\"font-family: sans-serif; font-size: 10px; fill: #000; opacity: 1;\">0</text><text text-anchor=\"end\" transform=\"translate(-7,367.44444444444446)\" style=\"font-family: sans-serif; font-size: 10px; fill: #000; opacity: 1;\">1</text><text text-anchor=\"end\" transform=\"translate(-7,321.8888888888889)\" style=\"font-family: sans-serif; font-size: 10px; fill: #000; opacity: 1;\">2</text><text text-anchor=\"end\" transform=\"translate(-7,276.33333333333337)\" style=\"font-family: sans-serif; font-size: 10px; fill: #000; opacity: 1;\">3</text><text text-anchor=\"end\" transform=\"translate(-7,230.7777777777778)\" style=\"font-family: sans-serif; font-size: 10px; fill: #000; opacity: 1;\">4</text><text text-anchor=\"end\" transform=\"translate(-7,185.2222222222222)\" style=\"font-family: sans-serif; font-size: 10px; fill: #000; opacity: 1;\">5</text><text text-anchor=\"end\" transform=\"translate(-7,139.66666666666669)\" style=\"font-family: sans-serif; font-size: 10px; fill: #000; opacity: 1;\">6</text><text text-anchor=\"end\" transform=\"translate(-7,94.11111111111109)\" style=\"font-family: sans-serif; font-size: 10px; fill: #000; opacity: 1;\">7</text><text text-anchor=\"end\" transform=\"translate(-7,48.5555555555556)\" style=\"font-family: sans-serif; font-size: 10px; fill: #000; opacity: 1;\">8</text><text text-anchor=\"end\" transform=\"translate(-7,3)\" style=\"font-family: sans-serif; font-size: 10px; fill: #000; opacity: 1;\">9</text></g><g class=\"mark-rule role-axis-domain\" style=\"pointer-events: none;\"><line transform=\"translate(0,410)\" x2=\"0\" y2=\"-410\" style=\"fill: none; stroke: #888; stroke-width: 1; opacity: 1;\"></line></g><g class=\"mark-text role-axis-title\" style=\"pointer-events: none;\"><text text-anchor=\"middle\" transform=\"translate(-16,205) rotate(-90) translate(0,-2)\" style=\"font-family: sans-serif; font-size: 11px; font-weight: bold; fill: #000; opacity: 1;\">TATM</text></g></g></g></g></g></g></g></g></g></g></g></svg>"
      ],
      "text/plain": [
       "VegaLite.VLSpec{:plot}"
      ]
     },
     "execution_count": 9,
     "metadata": {},
     "output_type": "execute_result"
    }
   ],
   "source": [
    "@vlplot(resolve={scale={y=:shared}}) + [Mimi.plot(m_dice1, :climatedynamics, :TATM) Mimi.plot(m_opt, :climatedynamics, :TATM)]"
   ]
  }
 ],
 "metadata": {
  "@webio": {
   "lastCommId": null,
   "lastKernelId": null
  },
  "kernelspec": {
   "display_name": "Julia 1.1.0",
   "language": "julia",
   "name": "julia-1.1"
  },
  "language_info": {
   "file_extension": ".jl",
   "mimetype": "application/julia",
   "name": "julia",
   "version": "1.1.0"
  }
 },
 "nbformat": 4,
 "nbformat_minor": 4
}
