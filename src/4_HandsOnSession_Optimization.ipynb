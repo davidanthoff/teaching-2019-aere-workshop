{
 "cells": [
  {
   "cell_type": "markdown",
   "metadata": {},
   "source": [
    "# IAM hands-on session from the 2019 AERE pre-conference Workshop"
   ]
  },
  {
   "cell_type": "markdown",
   "metadata": {},
   "source": [
    "## 4. Optimization"
   ]
  },
  {
   "cell_type": "markdown",
   "metadata": {},
   "source": [
    "This section will show you how you can use the ability to modify parameters of a model to run an optimization that finds the optimal climate policy in DICE.\n",
    "\n",
    "We will use the [BlackBoxOptim.jl](https://github.com/robertfeldt/BlackBoxOptim.jl) optimization package for the actual optimization algorithm, so we first load that package, and all the other packages we need for this exercise:"
   ]
  },
  {
   "cell_type": "code",
   "execution_count": 1,
   "metadata": {},
   "outputs": [],
   "source": [
    "using BlackBoxOptim, MimiDICE2010, VegaLite, Mimi"
   ]
  },
  {
   "cell_type": "markdown",
   "metadata": {},
   "source": [
    "It will again be helpful to have a base version of the model that we can compare with the optimized version of the model, so we create and run that base version first:"
   ]
  },
  {
   "cell_type": "code",
   "execution_count": 2,
   "metadata": {},
   "outputs": [],
   "source": [
    "m_dice1 = MimiDICE2010.get_model()\n",
    "run(m_dice1)"
   ]
  },
  {
   "cell_type": "markdown",
   "metadata": {},
   "source": [
    "Then we create the instance of the model that we will use for the actual optimization:"
   ]
  },
  {
   "cell_type": "code",
   "execution_count": 3,
   "metadata": {},
   "outputs": [
    {
     "data": {
      "text/plain": [
       "9-component Mimi.Model:\n",
       "  grosseconomy::MimiDICE2010.grosseconomy\n",
       "  emissions::MimiDICE2010.emissions\n",
       "  co2cycle::MimiDICE2010.co2cycle\n",
       "  radiativeforcing::MimiDICE2010.radiativeforcing\n",
       "  climatedynamics::MimiDICE2010.climatedynamics\n",
       "  sealevelrise::MimiDICE2010.sealevelrise\n",
       "  damages::MimiDICE2010.damages\n",
       "  neteconomy::MimiDICE2010.neteconomy\n",
       "  welfare::MimiDICE2010.welfare\n"
      ]
     },
     "execution_count": 3,
     "metadata": {},
     "output_type": "execute_result"
    }
   ],
   "source": [
    "m_opt = MimiDICE2010.get_model()"
   ]
  },
  {
   "cell_type": "markdown",
   "metadata": {},
   "source": [
    "To interface with the solvers in BlackBoxOptim.jl, we need to define a function that the solver can call to evaluate our model for a given vector of values for the choice variables of our problem.\n",
    "\n",
    "Here we define such a function and name it `eval_dice`. The argument to this function is the emissions control vector.\n",
    "\n",
    "The first step in this function is to use `set_param!` to set the model instance's parameter `MIU` in component `emissions` to the values we received from the solver. We then run the model by calling the `run` function, and finally retrieve the value for total welfare, the quantity we aim to maximize, from the model. Note that BlackBoxOptim.jl will try to minimize the objective function, but we of course want to maximize welfare, so we actually return the negative of welfare from this function."
   ]
  },
  {
   "cell_type": "code",
   "execution_count": 4,
   "metadata": {},
   "outputs": [
    {
     "data": {
      "text/plain": [
       "eval_dice (generic function with 1 method)"
      ]
     },
     "execution_count": 4,
     "metadata": {},
     "output_type": "execute_result"
    }
   ],
   "source": [
    "function eval_dice(x)\n",
    "    set_param!(m_opt, :emissions, :MIU, x)\n",
    "    run(m_opt)\n",
    "    return -m_opt[:welfare, :UTILITY]\n",
    "end"
   ]
  },
  {
   "cell_type": "markdown",
   "metadata": {},
   "source": [
    "To run the actual optimization, we simply call the function `bboptimize` from BlackBoxOptim.jl, and pass it the function we just created, plus some configuration parameters. In particular, we bound our choice variables between 0 and 1 using `SearchRange`, and set the number of choice variables to 60, i.e. the number of time periods in our model, using `NumDimensions`."
   ]
  },
  {
   "cell_type": "code",
   "execution_count": 5,
   "metadata": {},
   "outputs": [
    {
     "name": "stdout",
     "output_type": "stream",
     "text": [
      "Starting optimization with optimizer DiffEvoOpt{FitPopulation{Float64},RadiusLimitedSelector,BlackBoxOptim.AdaptiveDiffEvoRandBin{3},RandomBound{RangePerDimSearchSpace}}\n",
      "0.00 secs, 0 evals, 0 steps\n",
      "0.51 secs, 72 evals, 38 steps, improv/step: 0.395 (last = 0.3947), fitness=-2257.497117468\n",
      "1.01 secs, 194 evals, 117 steps, improv/step: 0.376 (last = 0.3671), fitness=-2259.250992950\n",
      "1.52 secs, 347 evals, 246 steps, improv/step: 0.419 (last = 0.4574), fitness=-2259.250992950\n",
      "2.02 secs, 522 evals, 414 steps, improv/step: 0.411 (last = 0.3988), fitness=-2259.250992950\n",
      "2.52 secs, 687 evals, 576 steps, improv/step: 0.401 (last = 0.3765), fitness=-2260.605952161\n",
      "3.03 secs, 844 evals, 733 steps, improv/step: 0.389 (last = 0.3439), fitness=-2260.605952161\n",
      "3.53 secs, 1002 evals, 891 steps, improv/step: 0.384 (last = 0.3608), fitness=-2261.178592995\n",
      "4.03 secs, 1146 evals, 1035 steps, improv/step: 0.369 (last = 0.2778), fitness=-2261.178592995\n",
      "4.53 secs, 1291 evals, 1180 steps, improv/step: 0.363 (last = 0.3172), fitness=-2261.759987741\n",
      "5.03 secs, 1429 evals, 1318 steps, improv/step: 0.355 (last = 0.2899), fitness=-2261.759987741\n",
      "5.53 secs, 1573 evals, 1462 steps, improv/step: 0.350 (last = 0.3056), fitness=-2261.759987741\n",
      "6.04 secs, 1760 evals, 1649 steps, improv/step: 0.341 (last = 0.2674), fitness=-2261.781567617\n",
      "6.54 secs, 1908 evals, 1797 steps, improv/step: 0.336 (last = 0.2770), fitness=-2261.827145514\n",
      "7.04 secs, 2071 evals, 1960 steps, improv/step: 0.331 (last = 0.2822), fitness=-2261.921336858\n",
      "7.55 secs, 2230 evals, 2119 steps, improv/step: 0.330 (last = 0.3208), fitness=-2262.229617239\n",
      "8.05 secs, 2367 evals, 2256 steps, improv/step: 0.327 (last = 0.2774), fitness=-2262.229617239\n",
      "8.55 secs, 2539 evals, 2428 steps, improv/step: 0.326 (last = 0.3081), fitness=-2262.229617239\n",
      "9.05 secs, 2657 evals, 2546 steps, improv/step: 0.319 (last = 0.1695), fitness=-2262.229617239\n",
      "9.56 secs, 2791 evals, 2680 steps, improv/step: 0.315 (last = 0.2537), fitness=-2262.282800580\n",
      "10.06 secs, 2949 evals, 2838 steps, improv/step: 0.314 (last = 0.2911), fitness=-2262.476553013\n",
      "10.56 secs, 3104 evals, 2993 steps, improv/step: 0.312 (last = 0.2839), fitness=-2262.697312935\n",
      "11.06 secs, 3248 evals, 3137 steps, improv/step: 0.313 (last = 0.3264), fitness=-2262.697312935\n",
      "11.56 secs, 3409 evals, 3298 steps, improv/step: 0.309 (last = 0.2298), fitness=-2262.822410004\n",
      "12.07 secs, 3555 evals, 3444 steps, improv/step: 0.307 (last = 0.2603), fitness=-2262.836680823\n",
      "12.57 secs, 3706 evals, 3595 steps, improv/step: 0.306 (last = 0.2781), fitness=-2262.855025116\n",
      "13.07 secs, 3859 evals, 3748 steps, improv/step: 0.304 (last = 0.2549), fitness=-2262.910048505\n",
      "13.57 secs, 4012 evals, 3901 steps, improv/step: 0.304 (last = 0.3137), fitness=-2262.916236720\n",
      "14.07 secs, 4160 evals, 4049 steps, improv/step: 0.301 (last = 0.2230), fitness=-2262.916236720\n",
      "14.57 secs, 4302 evals, 4191 steps, improv/step: 0.300 (last = 0.2746), fitness=-2262.970038758\n",
      "15.08 secs, 4458 evals, 4347 steps, improv/step: 0.299 (last = 0.2692), fitness=-2262.970038758\n",
      "15.58 secs, 4610 evals, 4499 steps, improv/step: 0.297 (last = 0.2368), fitness=-2263.010247466\n",
      "16.08 secs, 4765 evals, 4654 steps, improv/step: 0.296 (last = 0.2774), fitness=-2263.024885026\n",
      "16.58 secs, 4920 evals, 4809 steps, improv/step: 0.294 (last = 0.2387), fitness=-2263.101858917\n",
      "17.08 secs, 5087 evals, 4976 steps, improv/step: 0.293 (last = 0.2455), fitness=-2263.101858917\n",
      "17.58 secs, 5233 evals, 5122 steps, improv/step: 0.292 (last = 0.2603), fitness=-2263.136499837\n",
      "18.09 secs, 5388 evals, 5277 steps, improv/step: 0.291 (last = 0.2516), fitness=-2263.136499837\n",
      "18.59 secs, 5541 evals, 5430 steps, improv/step: 0.288 (last = 0.2026), fitness=-2263.186190714\n",
      "19.09 secs, 5696 evals, 5585 steps, improv/step: 0.289 (last = 0.3161), fitness=-2263.210819961\n",
      "19.59 secs, 5853 evals, 5742 steps, improv/step: 0.287 (last = 0.2229), fitness=-2263.210819961\n",
      "20.09 secs, 5987 evals, 5876 steps, improv/step: 0.285 (last = 0.1791), fitness=-2263.211981410\n",
      "20.60 secs, 6125 evals, 6014 steps, improv/step: 0.284 (last = 0.2609), fitness=-2263.211981410\n",
      "21.10 secs, 6238 evals, 6127 steps, improv/step: 0.282 (last = 0.1770), fitness=-2263.211981410\n",
      "21.61 secs, 6298 evals, 6187 steps, improv/step: 0.282 (last = 0.2667), fitness=-2263.211981410\n",
      "22.11 secs, 6370 evals, 6259 steps, improv/step: 0.281 (last = 0.2083), fitness=-2263.214116269\n",
      "22.61 secs, 6480 evals, 6369 steps, improv/step: 0.280 (last = 0.2091), fitness=-2263.217505533\n",
      "23.11 secs, 6608 evals, 6497 steps, improv/step: 0.279 (last = 0.2266), fitness=-2263.219033590\n",
      "23.62 secs, 6718 evals, 6607 steps, improv/step: 0.278 (last = 0.2182), fitness=-2263.230937555\n",
      "24.12 secs, 6857 evals, 6746 steps, improv/step: 0.277 (last = 0.2518), fitness=-2263.259095387\n",
      "24.62 secs, 6986 evals, 6875 steps, improv/step: 0.277 (last = 0.2481), fitness=-2263.284723271\n",
      "25.13 secs, 7119 evals, 7008 steps, improv/step: 0.276 (last = 0.2105), fitness=-2263.284723271\n",
      "25.63 secs, 7252 evals, 7141 steps, improv/step: 0.274 (last = 0.2180), fitness=-2263.284723271\n",
      "26.13 secs, 7404 evals, 7293 steps, improv/step: 0.272 (last = 0.1711), fitness=-2263.304637121\n",
      "26.63 secs, 7556 evals, 7445 steps, improv/step: 0.272 (last = 0.2434), fitness=-2263.309382497\n",
      "27.13 secs, 7704 evals, 7593 steps, improv/step: 0.271 (last = 0.2230), fitness=-2263.319982115\n",
      "27.64 secs, 7883 evals, 7772 steps, improv/step: 0.270 (last = 0.2179), fitness=-2263.329809789\n",
      "28.14 secs, 8053 evals, 7942 steps, improv/step: 0.269 (last = 0.2235), fitness=-2263.333897791\n",
      "28.64 secs, 8188 evals, 8077 steps, improv/step: 0.267 (last = 0.1778), fitness=-2263.333897791\n",
      "29.14 secs, 8320 evals, 8209 steps, improv/step: 0.266 (last = 0.1742), fitness=-2263.338883371\n",
      "29.65 secs, 8450 evals, 8339 steps, improv/step: 0.265 (last = 0.2231), fitness=-2263.338883371\n",
      "30.15 secs, 8605 evals, 8494 steps, improv/step: 0.264 (last = 0.2065), fitness=-2263.340468518\n",
      "30.65 secs, 8743 evals, 8632 steps, improv/step: 0.263 (last = 0.2174), fitness=-2263.351104439\n",
      "31.15 secs, 8895 evals, 8784 steps, improv/step: 0.262 (last = 0.1974), fitness=-2263.356382645\n",
      "31.66 secs, 9036 evals, 8925 steps, improv/step: 0.261 (last = 0.1915), fitness=-2263.394973683\n",
      "32.16 secs, 9162 evals, 9051 steps, improv/step: 0.261 (last = 0.2460), fitness=-2263.394973683\n",
      "32.66 secs, 9282 evals, 9171 steps, improv/step: 0.259 (last = 0.1083), fitness=-2263.396103340\n",
      "33.16 secs, 9421 evals, 9310 steps, improv/step: 0.258 (last = 0.2014), fitness=-2263.396103340\n",
      "33.67 secs, 9569 evals, 9458 steps, improv/step: 0.257 (last = 0.1959), fitness=-2263.396103340\n",
      "34.17 secs, 9711 evals, 9600 steps, improv/step: 0.257 (last = 0.2394), fitness=-2263.399118968\n",
      "34.67 secs, 9858 evals, 9747 steps, improv/step: 0.257 (last = 0.2721), fitness=-2263.399118968\n",
      "35.17 secs, 10007 evals, 9896 steps, improv/step: 0.256 (last = 0.1745), fitness=-2263.399118968\n",
      "35.67 secs, 10136 evals, 10025 steps, improv/step: 0.255 (last = 0.2093), fitness=-2263.422099845\n",
      "36.18 secs, 10264 evals, 10153 steps, improv/step: 0.254 (last = 0.2109), fitness=-2263.424934362\n",
      "36.68 secs, 10404 evals, 10293 steps, improv/step: 0.253 (last = 0.1357), fitness=-2263.424934362\n",
      "37.18 secs, 10546 evals, 10435 steps, improv/step: 0.252 (last = 0.1761), fitness=-2263.424934362\n",
      "37.68 secs, 10673 evals, 10562 steps, improv/step: 0.251 (last = 0.1969), fitness=-2263.424934362\n",
      "38.18 secs, 10818 evals, 10707 steps, improv/step: 0.249 (last = 0.1310), fitness=-2263.424934362\n",
      "38.69 secs, 10956 evals, 10845 steps, improv/step: 0.248 (last = 0.1667), fitness=-2263.430369966\n",
      "39.19 secs, 11080 evals, 10969 steps, improv/step: 0.248 (last = 0.2016), fitness=-2263.437312629\n",
      "39.70 secs, 11177 evals, 11066 steps, improv/step: 0.248 (last = 0.2784), fitness=-2263.437312629\n",
      "40.20 secs, 11286 evals, 11175 steps, improv/step: 0.248 (last = 0.2202), fitness=-2263.447154839\n",
      "40.71 secs, 11410 evals, 11299 steps, improv/step: 0.247 (last = 0.1774), fitness=-2263.450415579\n",
      "41.21 secs, 11554 evals, 11443 steps, improv/step: 0.247 (last = 0.2500), fitness=-2263.450415579\n",
      "41.71 secs, 11699 evals, 11588 steps, improv/step: 0.247 (last = 0.2345), fitness=-2263.450661391\n",
      "42.21 secs, 11863 evals, 11752 steps, improv/step: 0.247 (last = 0.2134), fitness=-2263.451385089\n",
      "42.71 secs, 11986 evals, 11875 steps, improv/step: 0.246 (last = 0.1789), fitness=-2263.454912163\n",
      "43.22 secs, 12127 evals, 12016 steps, improv/step: 0.245 (last = 0.2128), fitness=-2263.454912163\n",
      "43.72 secs, 12294 evals, 12183 steps, improv/step: 0.246 (last = 0.2515), fitness=-2263.455495167\n",
      "44.22 secs, 12443 evals, 12332 steps, improv/step: 0.245 (last = 0.1745), fitness=-2263.458066404\n",
      "44.72 secs, 12606 evals, 12495 steps, improv/step: 0.243 (last = 0.1043), fitness=-2263.458285104\n",
      "45.22 secs, 12753 evals, 12642 steps, improv/step: 0.243 (last = 0.2177), fitness=-2263.461856601\n",
      "45.72 secs, 12894 evals, 12783 steps, improv/step: 0.242 (last = 0.2057), fitness=-2263.464898271\n",
      "46.23 secs, 13034 evals, 12923 steps, improv/step: 0.242 (last = 0.2071), fitness=-2263.468644896\n",
      "46.73 secs, 13183 evals, 13072 steps, improv/step: 0.241 (last = 0.1745), fitness=-2263.468644896\n",
      "47.23 secs, 13329 evals, 13218 steps, improv/step: 0.240 (last = 0.1712), fitness=-2263.468644896\n",
      "47.73 secs, 13451 evals, 13340 steps, improv/step: 0.240 (last = 0.2131), fitness=-2263.468644896\n",
      "48.24 secs, 13582 evals, 13471 steps, improv/step: 0.239 (last = 0.1298), fitness=-2263.468644896\n",
      "48.74 secs, 13719 evals, 13608 steps, improv/step: 0.238 (last = 0.1606), fitness=-2263.468644896\n",
      "49.24 secs, 13880 evals, 13769 steps, improv/step: 0.238 (last = 0.2050), fitness=-2263.468802335\n",
      "49.75 secs, 14031 evals, 13920 steps, improv/step: 0.237 (last = 0.1921), fitness=-2263.474514065\n",
      "50.25 secs, 14192 evals, 14081 steps, improv/step: 0.236 (last = 0.1615), fitness=-2263.474514065\n",
      "50.75 secs, 14351 evals, 14240 steps, improv/step: 0.236 (last = 0.2264), fitness=-2263.474796612\n",
      "51.25 secs, 14489 evals, 14378 steps, improv/step: 0.236 (last = 0.2609), fitness=-2263.474796612\n",
      "51.76 secs, 14646 evals, 14535 steps, improv/step: 0.236 (last = 0.1975), fitness=-2263.474872289\n",
      "52.26 secs, 14788 evals, 14677 steps, improv/step: 0.236 (last = 0.2394), fitness=-2263.477238752\n",
      "52.76 secs, 14934 evals, 14823 steps, improv/step: 0.236 (last = 0.2192), fitness=-2263.478458152\n",
      "53.26 secs, 15074 evals, 14963 steps, improv/step: 0.235 (last = 0.1357), fitness=-2263.478458152\n",
      "53.76 secs, 15197 evals, 15086 steps, improv/step: 0.235 (last = 0.1870), fitness=-2263.478976816\n",
      "54.27 secs, 15326 evals, 15215 steps, improv/step: 0.234 (last = 0.1550), fitness=-2263.478976816\n",
      "54.77 secs, 15462 evals, 15351 steps, improv/step: 0.234 (last = 0.2426), fitness=-2263.479803830\n",
      "55.27 secs, 15597 evals, 15486 steps, improv/step: 0.233 (last = 0.1630), fitness=-2263.480519467\n",
      "55.78 secs, 15729 evals, 15618 steps, improv/step: 0.233 (last = 0.2045), fitness=-2263.481843939\n",
      "56.28 secs, 15873 evals, 15762 steps, improv/step: 0.232 (last = 0.1597), fitness=-2263.483863800\n",
      "56.78 secs, 16007 evals, 15896 steps, improv/step: 0.233 (last = 0.2612), fitness=-2263.484143218\n",
      "57.28 secs, 16143 evals, 16032 steps, improv/step: 0.233 (last = 0.2353), fitness=-2263.484143218\n",
      "57.79 secs, 16266 evals, 16155 steps, improv/step: 0.233 (last = 0.2764), fitness=-2263.486661259\n",
      "58.29 secs, 16402 evals, 16291 steps, improv/step: 0.233 (last = 0.2279), fitness=-2263.486661259\n",
      "58.79 secs, 16559 evals, 16448 steps, improv/step: 0.234 (last = 0.2930), fitness=-2263.488957377\n",
      "59.29 secs, 16741 evals, 16630 steps, improv/step: 0.233 (last = 0.1923), fitness=-2263.491007442\n",
      "59.80 secs, 16900 evals, 16789 steps, improv/step: 0.233 (last = 0.1824), fitness=-2263.491161024\n",
      "60.30 secs, 17060 evals, 16949 steps, improv/step: 0.232 (last = 0.1563), fitness=-2263.491399342\n",
      "60.80 secs, 17207 evals, 17096 steps, improv/step: 0.232 (last = 0.2517), fitness=-2263.494096826\n",
      "61.30 secs, 17364 evals, 17253 steps, improv/step: 0.231 (last = 0.1656), fitness=-2263.494455771\n",
      "61.80 secs, 17526 evals, 17415 steps, improv/step: 0.231 (last = 0.1667), fitness=-2263.494455771\n",
      "62.31 secs, 17682 evals, 17571 steps, improv/step: 0.231 (last = 0.2051), fitness=-2263.494455771\n",
      "62.81 secs, 17842 evals, 17731 steps, improv/step: 0.230 (last = 0.1563), fitness=-2263.494455771\n",
      "63.31 secs, 18027 evals, 17916 steps, improv/step: 0.229 (last = 0.1622), fitness=-2263.497919372\n",
      "63.81 secs, 18185 evals, 18074 steps, improv/step: 0.229 (last = 0.1582), fitness=-2263.497919372\n",
      "64.32 secs, 18334 evals, 18223 steps, improv/step: 0.228 (last = 0.1812), fitness=-2263.497919372\n",
      "64.82 secs, 18506 evals, 18395 steps, improv/step: 0.228 (last = 0.2151), fitness=-2263.499639121\n",
      "65.32 secs, 18655 evals, 18544 steps, improv/step: 0.227 (last = 0.1342), fitness=-2263.499639121\n",
      "65.82 secs, 18787 evals, 18676 steps, improv/step: 0.227 (last = 0.1818), fitness=-2263.499639121\n",
      "66.33 secs, 18930 evals, 18819 steps, improv/step: 0.226 (last = 0.1329), fitness=-2263.499639121\n",
      "66.83 secs, 19082 evals, 18971 steps, improv/step: 0.226 (last = 0.2105), fitness=-2263.500227458\n",
      "67.34 secs, 19217 evals, 19106 steps, improv/step: 0.225 (last = 0.1037), fitness=-2263.500227458\n",
      "67.84 secs, 19360 evals, 19249 steps, improv/step: 0.225 (last = 0.1189), fitness=-2263.500529333\n",
      "68.34 secs, 19494 evals, 19383 steps, improv/step: 0.224 (last = 0.1493), fitness=-2263.500705224\n",
      "68.84 secs, 19652 evals, 19541 steps, improv/step: 0.224 (last = 0.1582), fitness=-2263.500824119\n",
      "69.34 secs, 19813 evals, 19702 steps, improv/step: 0.223 (last = 0.1801), fitness=-2263.500912799\n",
      "69.85 secs, 19972 evals, 19861 steps, improv/step: 0.223 (last = 0.2327), fitness=-2263.500938890\n",
      "\n",
      "Optimization stopped after 20001 steps and 70.2810001373291 seconds\n",
      "Termination reason: Max number of steps (20000) reached\n",
      "Steps per second = 284.58616071083276\n",
      "Function evals per second = 286.1655349340667\n",
      "Improvements/step = 0.2234\n",
      "Total function evaluations = 20112\n",
      "\n",
      "\n",
      "Best candidate found: [0.00583253, 0.183091, 0.24936, 0.303274, 0.354917, 0.414455, 0.472491, 0.534729, 0.594846, 0.670422, 0.74212, 0.844061, 0.87029, 0.898758, 0.928411, 0.986302, 0.998567, 0.998695, 0.998956, 0.995754, 0.997898, 0.996517, 0.994944, 0.999901, 0.998232, 0.994441, 0.999963, 0.985088, 0.990404, 0.997211, 0.996671, 0.977095, 0.99959, 0.998255, 0.922194, 0.999833, 0.967937, 0.800531, 0.856632, 0.54957, 0.632052, 0.791502, 0.15134, 0.948377, 0.680711, 0.989775, 0.536671, 0.128698, 0.258555, 0.946038, 0.281365, 0.736453, 0.205644, 0.36623, 0.497451, 0.532572, 0.736181, 0.531691, 0.000489294, 0.178678]\n",
      "\n",
      "Fitness: -2263.501637046\n",
      "\n"
     ]
    },
    {
     "data": {
      "text/plain": [
       "BlackBoxOptim.OptimizationResults(\"adaptive_de_rand_1_bin_radiuslimited\", \"Max number of steps (20000) reached\", 20001, 1.561628597024e9, 70.2810001373291, DictChain{Symbol,Any}[DictChain{Symbol,Any}[Dict{Symbol,Any}(:RngSeed=>550938,:NumDimensions=>60,:SearchRange=>(0.0, 1.0),:Method=>:adaptive_de_rand_1_bin_radiuslimited,:MaxSteps=>20000),Dict{Symbol,Any}()],Dict{Symbol,Any}(:FitnessScheme=>ScalarFitnessScheme{true}(),:NumDimensions=>:NotSpecified,:PopulationSize=>50,:MaxTime=>0.0,:SearchRange=>(-1.0, 1.0),:Method=>:adaptive_de_rand_1_bin_radiuslimited,:MaxNumStepsWithoutFuncEvals=>100,:RngSeed=>1234,:MaxFuncEvals=>0,:SaveTrace=>false…)], 20112, ScalarFitnessScheme{true}(), BlackBoxOptim.TopListArchiveOutput{Float64,Array{Float64,1}}(-2263.5016370458766, [0.00583253, 0.183091, 0.24936, 0.303274, 0.354917, 0.414455, 0.472491, 0.534729, 0.594846, 0.670422  …  0.281365, 0.736453, 0.205644, 0.36623, 0.497451, 0.532572, 0.736181, 0.531691, 0.000489294, 0.178678]), BlackBoxOptim.PopulationOptimizerOutput{FitPopulation{Float64}}(FitPopulation{Float64}([0.0120585 0.00593323 … 0.00902081 0.00575232; 0.187108 0.186776 … 0.18781 0.187347; … ; 0.104832 0.0442507 … 0.127741 0.12111; 0.0705376 0.11985 … 0.0206613 0.102961], NaN, [-2263.5, -2263.5, -2263.5, -2263.5, -2263.5, -2263.5, -2263.5, -2263.5, -2263.5, -2263.5  …  -2263.5, -2263.5, -2263.5, -2263.5, -2263.5, -2263.5, -2263.5, -2263.5, -2263.5, -2263.5], 0, BlackBoxOptim.Candidate{Float64}[Candidate{Float64}([0.000587071, 0.185831, 0.249915, 0.306595, 0.356973, 0.408963, 0.475349, 0.530293, 0.601412, 0.668697  …  0.977246, 0.730308, 0.588797, 0.260206, 0.699483, 0.769212, 0.500438, 0.302268, 0.0644299, 0.0806224], 15, -2263.5, AdaptiveDiffEvoRandBin{3}(AdaptiveDiffEvoParameters(BimodalCauchy(Distributions.Cauchy{Float64}(μ=0.65, σ=0.1), Distributions.Cauchy{Float64}(μ=1.0, σ=0.1), 0.5, false, true), BimodalCauchy(Distributions.Cauchy{Float64}(μ=0.1, σ=0.1), Distributions.Cauchy{Float64}(μ=0.95, σ=0.1), 0.5, false, true), [0.461905, 1.0, 0.760052, 0.854453, 0.674073, 1.0, 0.356882, 0.759331, 1.0, 0.988342  …  0.912897, 0.632032, 0.397357, 0.975293, 0.583675, 0.923293, 0.620097, 1.0, 0.39356, 1.0], [0.872841, 0.740464, 1.0, 0.00612449, 0.114845, 0.304573, 1.0, 0.847483, 0.233672, 0.952667  …  0.030544, 1.0, 1.0, 0.528031, 0.821152, 0.8804, 0.181226, 1.0, 0.864385, 0.123094])), 0), Candidate{Float64}([0.00979318, 0.184808, 0.250965, 0.308245, 0.356973, 0.4139, 0.471155, 0.534361, 0.601934, 0.677765  …  0.659783, 0.511886, 0.480619, 0.561417, 0.169176, 0.769212, 0.774651, 0.869223, 0.113891, 0.215262], 15, -2263.5, AdaptiveDiffEvoRandBin{3}(AdaptiveDiffEvoParameters(BimodalCauchy(Distributions.Cauchy{Float64}(μ=0.65, σ=0.1), Distributions.Cauchy{Float64}(μ=1.0, σ=0.1), 0.5, false, true), BimodalCauchy(Distributions.Cauchy{Float64}(μ=0.1, σ=0.1), Distributions.Cauchy{Float64}(μ=0.95, σ=0.1), 0.5, false, true), [0.461905, 1.0, 0.760052, 0.854453, 0.674073, 1.0, 0.356882, 0.759331, 1.0, 0.988342  …  0.912897, 0.632032, 0.397357, 0.975293, 0.583675, 0.923293, 0.620097, 1.0, 0.39356, 1.0], [0.872841, 0.740464, 1.0, 0.00612449, 0.114845, 0.304573, 1.0, 0.847483, 0.233672, 0.952667  …  0.030544, 1.0, 1.0, 0.528031, 0.821152, 0.8804, 0.181226, 1.0, 0.864385, 0.123094])), 0)])))"
      ]
     },
     "execution_count": 5,
     "metadata": {},
     "output_type": "execute_result"
    }
   ],
   "source": [
    "res = bboptimize(eval_dice; SearchRange=(0., 1.0), NumDimensions=60, Method=:adaptive_de_rand_1_bin_radiuslimited, MaxSteps=20_000)"
   ]
  },
  {
   "cell_type": "markdown",
   "metadata": {},
   "source": [
    "We can obtain the value of the emission control vector for the best policy that the solver found by calling the `best_candidate` function from the BlackBoxOptim package."
   ]
  },
  {
   "cell_type": "code",
   "execution_count": 6,
   "metadata": {},
   "outputs": [
    {
     "data": {
      "text/plain": [
       "60-element Array{Float64,1}:\n",
       " 0.005832527403250217 \n",
       " 0.18309050413336297  \n",
       " 0.24935990902190117  \n",
       " 0.30327377228673763  \n",
       " 0.3549171756067459   \n",
       " 0.4144549315204838   \n",
       " 0.4724906604724012   \n",
       " 0.5347285935939428   \n",
       " 0.594845582456584    \n",
       " 0.6704216942885826   \n",
       " 0.7421200475951996   \n",
       " 0.8440607375262735   \n",
       " 0.8702900454211917   \n",
       " ⋮                    \n",
       " 0.25855541550002825  \n",
       " 0.9460380944535615   \n",
       " 0.2813652223870964   \n",
       " 0.7364534577488834   \n",
       " 0.20564405308223088  \n",
       " 0.3662304088554112   \n",
       " 0.4974512665521306   \n",
       " 0.5325724289856869   \n",
       " 0.7361810330937638   \n",
       " 0.5316913632870759   \n",
       " 0.0004892941464153039\n",
       " 0.1786784090914979   "
      ]
     },
     "execution_count": 6,
     "metadata": {},
     "output_type": "execute_result"
    }
   ],
   "source": [
    "best_candidate(res)"
   ]
  },
  {
   "cell_type": "markdown",
   "metadata": {},
   "source": [
    "Let's actually set the parameter for the emission control rate in our model instance to that best policy that the solver found by calling `set_param!` one more time. We can then rerun the model, and at this point our model has the values for all variables for the optimal policy."
   ]
  },
  {
   "cell_type": "code",
   "execution_count": 7,
   "metadata": {},
   "outputs": [],
   "source": [
    "set_param!(m_opt, :emissions, :MIU, best_candidate(res))\n",
    "run(m_opt)"
   ]
  },
  {
   "cell_type": "markdown",
   "metadata": {},
   "source": [
    "We can now plot the business as usual policy and compare it with the optimal policy our solver found:"
   ]
  },
  {
   "cell_type": "code",
   "execution_count": 8,
   "metadata": {},
   "outputs": [
    {
     "data": {
      "application/vnd.vegalite.v3+json": {
       "hconcat": [
        {
         "$schema": "https://vega.github.io/schema/vega-lite/v2.0.json",
         "data": {
          "values": [
           {
            "MIU": "0.001",
            "time": "2005-01-01"
           },
           {
            "MIU": "0.001",
            "time": "2015-01-01"
           },
           {
            "MIU": "0.001",
            "time": "2025-01-01"
           },
           {
            "MIU": "0.001",
            "time": "2035-01-01"
           },
           {
            "MIU": "0.001",
            "time": "2045-01-01"
           },
           {
            "MIU": "0.001",
            "time": "2055-01-01"
           },
           {
            "MIU": "0.001",
            "time": "2065-01-01"
           },
           {
            "MIU": "0.001",
            "time": "2075-01-01"
           },
           {
            "MIU": "0.001",
            "time": "2085-01-01"
           },
           {
            "MIU": "0.001",
            "time": "2095-01-01"
           },
           {
            "MIU": "0.001",
            "time": "2105-01-01"
           },
           {
            "MIU": "0.001",
            "time": "2115-01-01"
           },
           {
            "MIU": "0.001",
            "time": "2125-01-01"
           },
           {
            "MIU": "0.001",
            "time": "2135-01-01"
           },
           {
            "MIU": "0.001",
            "time": "2145-01-01"
           },
           {
            "MIU": "0.001",
            "time": "2155-01-01"
           },
           {
            "MIU": "0.001",
            "time": "2165-01-01"
           },
           {
            "MIU": "0.001",
            "time": "2175-01-01"
           },
           {
            "MIU": "0.001",
            "time": "2185-01-01"
           },
           {
            "MIU": "0.001",
            "time": "2195-01-01"
           },
           {
            "MIU": "0.001",
            "time": "2205-01-01"
           },
           {
            "MIU": "0.001",
            "time": "2215-01-01"
           },
           {
            "MIU": "0.001",
            "time": "2225-01-01"
           },
           {
            "MIU": "0.001",
            "time": "2235-01-01"
           },
           {
            "MIU": "0.001",
            "time": "2245-01-01"
           },
           {
            "MIU": "1.0",
            "time": "2255-01-01"
           },
           {
            "MIU": "1.0",
            "time": "2265-01-01"
           },
           {
            "MIU": "1.0",
            "time": "2275-01-01"
           },
           {
            "MIU": "1.0",
            "time": "2285-01-01"
           },
           {
            "MIU": "1.0",
            "time": "2295-01-01"
           },
           {
            "MIU": "1.0",
            "time": "2305-01-01"
           },
           {
            "MIU": "1.0",
            "time": "2315-01-01"
           },
           {
            "MIU": "1.0",
            "time": "2325-01-01"
           },
           {
            "MIU": "1.0",
            "time": "2335-01-01"
           },
           {
            "MIU": "1.0",
            "time": "2345-01-01"
           },
           {
            "MIU": "1.0",
            "time": "2355-01-01"
           },
           {
            "MIU": "1.0",
            "time": "2365-01-01"
           },
           {
            "MIU": "1.0",
            "time": "2375-01-01"
           },
           {
            "MIU": "1.0",
            "time": "2385-01-01"
           },
           {
            "MIU": "1.0",
            "time": "2395-01-01"
           },
           {
            "MIU": "1.0",
            "time": "2405-01-01"
           },
           {
            "MIU": "1.0",
            "time": "2415-01-01"
           },
           {
            "MIU": "1.0",
            "time": "2425-01-01"
           },
           {
            "MIU": "1.0",
            "time": "2435-01-01"
           },
           {
            "MIU": "1.0",
            "time": "2445-01-01"
           },
           {
            "MIU": "1.0",
            "time": "2455-01-01"
           },
           {
            "MIU": "1.0",
            "time": "2465-01-01"
           },
           {
            "MIU": "1.0",
            "time": "2475-01-01"
           },
           {
            "MIU": "1.0",
            "time": "2485-01-01"
           },
           {
            "MIU": "1.0",
            "time": "2495-01-01"
           },
           {
            "MIU": "1.0",
            "time": "2505-01-01"
           },
           {
            "MIU": "1.0",
            "time": "2515-01-01"
           },
           {
            "MIU": "1.0",
            "time": "2525-01-01"
           },
           {
            "MIU": "1.0",
            "time": "2535-01-01"
           },
           {
            "MIU": "1.0",
            "time": "2545-01-01"
           },
           {
            "MIU": "1.0",
            "time": "2555-01-01"
           },
           {
            "MIU": "1.0",
            "time": "2565-01-01"
           },
           {
            "MIU": "1.0",
            "time": "2575-01-01"
           },
           {
            "MIU": "1.0",
            "time": "2585-01-01"
           },
           {
            "MIU": "1.0",
            "time": "2595-01-01"
           }
          ]
         },
         "description": "plot for a specific component variable pair",
         "encoding": {
          "x": {
           "field": "time",
           "timeUnit": "utcyear",
           "type": "temporal"
          },
          "y": {
           "field": "MIU",
           "type": "quantitative"
          }
         },
         "height": 410,
         "mark": {
          "type": "line"
         },
         "title": "emissions : MIU",
         "width": 450
        },
        {
         "$schema": "https://vega.github.io/schema/vega-lite/v2.0.json",
         "data": {
          "values": [
           {
            "MIU": "0.005832527403250217",
            "time": "2005-01-01"
           },
           {
            "MIU": "0.18309050413336297",
            "time": "2015-01-01"
           },
           {
            "MIU": "0.24935990902190117",
            "time": "2025-01-01"
           },
           {
            "MIU": "0.30327377228673763",
            "time": "2035-01-01"
           },
           {
            "MIU": "0.3549171756067459",
            "time": "2045-01-01"
           },
           {
            "MIU": "0.4144549315204838",
            "time": "2055-01-01"
           },
           {
            "MIU": "0.4724906604724012",
            "time": "2065-01-01"
           },
           {
            "MIU": "0.5347285935939428",
            "time": "2075-01-01"
           },
           {
            "MIU": "0.594845582456584",
            "time": "2085-01-01"
           },
           {
            "MIU": "0.6704216942885826",
            "time": "2095-01-01"
           },
           {
            "MIU": "0.7421200475951996",
            "time": "2105-01-01"
           },
           {
            "MIU": "0.8440607375262735",
            "time": "2115-01-01"
           },
           {
            "MIU": "0.8702900454211917",
            "time": "2125-01-01"
           },
           {
            "MIU": "0.898757786112009",
            "time": "2135-01-01"
           },
           {
            "MIU": "0.9284112068892724",
            "time": "2145-01-01"
           },
           {
            "MIU": "0.9863018243333934",
            "time": "2155-01-01"
           },
           {
            "MIU": "0.9985666590574573",
            "time": "2165-01-01"
           },
           {
            "MIU": "0.9986950479939064",
            "time": "2175-01-01"
           },
           {
            "MIU": "0.9989561130464278",
            "time": "2185-01-01"
           },
           {
            "MIU": "0.9957538270175184",
            "time": "2195-01-01"
           },
           {
            "MIU": "0.997897539591531",
            "time": "2205-01-01"
           },
           {
            "MIU": "0.996516533478205",
            "time": "2215-01-01"
           },
           {
            "MIU": "0.9949437214434473",
            "time": "2225-01-01"
           },
           {
            "MIU": "0.9999012050015268",
            "time": "2235-01-01"
           },
           {
            "MIU": "0.9982320238201388",
            "time": "2245-01-01"
           },
           {
            "MIU": "0.9944410173223635",
            "time": "2255-01-01"
           },
           {
            "MIU": "0.9999634196599748",
            "time": "2265-01-01"
           },
           {
            "MIU": "0.9850875055731892",
            "time": "2275-01-01"
           },
           {
            "MIU": "0.9904036622787941",
            "time": "2285-01-01"
           },
           {
            "MIU": "0.9972108450831828",
            "time": "2295-01-01"
           },
           {
            "MIU": "0.996670593191366",
            "time": "2305-01-01"
           },
           {
            "MIU": "0.9770947669766439",
            "time": "2315-01-01"
           },
           {
            "MIU": "0.9995902566194484",
            "time": "2325-01-01"
           },
           {
            "MIU": "0.9982548310797594",
            "time": "2335-01-01"
           },
           {
            "MIU": "0.922193687050155",
            "time": "2345-01-01"
           },
           {
            "MIU": "0.9998325931806332",
            "time": "2355-01-01"
           },
           {
            "MIU": "0.9679372225360614",
            "time": "2365-01-01"
           },
           {
            "MIU": "0.8005311436715387",
            "time": "2375-01-01"
           },
           {
            "MIU": "0.8566321531242018",
            "time": "2385-01-01"
           },
           {
            "MIU": "0.549570409563246",
            "time": "2395-01-01"
           },
           {
            "MIU": "0.6320521727463422",
            "time": "2405-01-01"
           },
           {
            "MIU": "0.7915019649345022",
            "time": "2415-01-01"
           },
           {
            "MIU": "0.15134035722238698",
            "time": "2425-01-01"
           },
           {
            "MIU": "0.9483773513913266",
            "time": "2435-01-01"
           },
           {
            "MIU": "0.6807107303754787",
            "time": "2445-01-01"
           },
           {
            "MIU": "0.9897749068728516",
            "time": "2455-01-01"
           },
           {
            "MIU": "0.5366705009334192",
            "time": "2465-01-01"
           },
           {
            "MIU": "0.12869750544250796",
            "time": "2475-01-01"
           },
           {
            "MIU": "0.25855541550002825",
            "time": "2485-01-01"
           },
           {
            "MIU": "0.9460380944535615",
            "time": "2495-01-01"
           },
           {
            "MIU": "0.2813652223870964",
            "time": "2505-01-01"
           },
           {
            "MIU": "0.7364534577488834",
            "time": "2515-01-01"
           },
           {
            "MIU": "0.20564405308223088",
            "time": "2525-01-01"
           },
           {
            "MIU": "0.3662304088554112",
            "time": "2535-01-01"
           },
           {
            "MIU": "0.4974512665521306",
            "time": "2545-01-01"
           },
           {
            "MIU": "0.5325724289856869",
            "time": "2555-01-01"
           },
           {
            "MIU": "0.7361810330937638",
            "time": "2565-01-01"
           },
           {
            "MIU": "0.5316913632870759",
            "time": "2575-01-01"
           },
           {
            "MIU": "0.0004892941464153039",
            "time": "2585-01-01"
           },
           {
            "MIU": "0.1786784090914979",
            "time": "2595-01-01"
           }
          ]
         },
         "description": "plot for a specific component variable pair",
         "encoding": {
          "x": {
           "field": "time",
           "timeUnit": "utcyear",
           "type": "temporal"
          },
          "y": {
           "field": "MIU",
           "type": "quantitative"
          }
         },
         "height": 410,
         "mark": {
          "type": "line"
         },
         "title": "emissions : MIU",
         "width": 450
        }
       ],
       "resolve": {
        "scale": {
         "x": "independent",
         "y": "shared"
        }
       }
      },
      "image/png": "[encoded data removed]",
      "image/svg+xml": [
       "<svg class=\"marks\" width=\"1008\" height=\"476\" viewBox=\"0 0 1008 476\" version=\"1.1\" xmlns=\"http://www.w3.org/2000/svg\" xmlns:xlink=\"http://www.w3.org/1999/xlink\"><g transform=\"translate(41,28)\"><g class=\"mark-group role-frame root\"><g transform=\"translate(0,0)\"><path class=\"background\" d=\"M0,0h0v410h0Z\" style=\"fill: none;\"></path><g><g class=\"mark-group role-scope concat_0_group\"><g transform=\"translate(0,0)\"><path class=\"background\" d=\"M0.5,0.5h450v410h-450Z\" style=\"fill: none; stroke: #ddd;\"></path><g><g class=\"mark-group role-axis\"><g transform=\"translate(0.5,410.5)\"><path class=\"background\" d=\"M0,0h0v0h0Z\" style=\"pointer-events: none; fill: none;\"></path><g><g class=\"mark-rule role-axis-grid\" style=\"pointer-events: none;\"><line transform=\"translate(34,-410)\" x2=\"0\" y2=\"410\" style=\"fill: none; stroke: #ddd; stroke-width: 1; opacity: 1;\"></line><line transform=\"translate(72,-410)\" x2=\"0\" y2=\"410\" style=\"fill: none; stroke: #ddd; stroke-width: 1; opacity: 1;\"></line><line transform=\"translate(111,-410)\" x2=\"0\" y2=\"410\" style=\"fill: none; stroke: #ddd; stroke-width: 1; opacity: 1;\"></line><line transform=\"translate(149,-410)\" x2=\"0\" y2=\"410\" style=\"fill: none; stroke: #ddd; stroke-width: 1; opacity: 1;\"></line><line transform=\"translate(187,-410)\" x2=\"0\" y2=\"410\" style=\"fill: none; stroke: #ddd; stroke-width: 1; opacity: 1;\"></line><line transform=\"translate(225,-410)\" x2=\"0\" y2=\"410\" style=\"fill: none; stroke: #ddd; stroke-width: 1; opacity: 1;\"></line><line transform=\"translate(263,-410)\" x2=\"0\" y2=\"410\" style=\"fill: none; stroke: #ddd; stroke-width: 1; opacity: 1;\"></line><line transform=\"translate(301,-410)\" x2=\"0\" y2=\"410\" style=\"fill: none; stroke: #ddd; stroke-width: 1; opacity: 1;\"></line><line transform=\"translate(339,-410)\" x2=\"0\" y2=\"410\" style=\"fill: none; stroke: #ddd; stroke-width: 1; opacity: 1;\"></line><line transform=\"translate(378,-410)\" x2=\"0\" y2=\"410\" style=\"fill: none; stroke: #ddd; stroke-width: 1; opacity: 1;\"></line><line transform=\"translate(416,-410)\" x2=\"0\" y2=\"410\" style=\"fill: none; stroke: #ddd; stroke-width: 1; opacity: 1;\"></line></g></g></g></g><g class=\"mark-group role-axis\"><g transform=\"translate(0.5,0.5)\"><path class=\"background\" d=\"M0,0h0v0h0Z\" style=\"pointer-events: none; fill: none;\"></path><g><g class=\"mark-rule role-axis-grid\" style=\"pointer-events: none;\"><line transform=\"translate(0,410)\" x2=\"450\" y2=\"0\" style=\"fill: none; stroke: #ddd; stroke-width: 1; opacity: 1;\"></line><line transform=\"translate(0,369)\" x2=\"450\" y2=\"0\" style=\"fill: none; stroke: #ddd; stroke-width: 1; opacity: 1;\"></line><line transform=\"translate(0,328)\" x2=\"450\" y2=\"0\" style=\"fill: none; stroke: #ddd; stroke-width: 1; opacity: 1;\"></line><line transform=\"translate(0,287)\" x2=\"450\" y2=\"0\" style=\"fill: none; stroke: #ddd; stroke-width: 1; opacity: 1;\"></line><line transform=\"translate(0,246)\" x2=\"450\" y2=\"0\" style=\"fill: none; stroke: #ddd; stroke-width: 1; opacity: 1;\"></line><line transform=\"translate(0,205)\" x2=\"450\" y2=\"0\" style=\"fill: none; stroke: #ddd; stroke-width: 1; opacity: 1;\"></line><line transform=\"translate(0,164)\" x2=\"450\" y2=\"0\" style=\"fill: none; stroke: #ddd; stroke-width: 1; opacity: 1;\"></line><line transform=\"translate(0,123)\" x2=\"450\" y2=\"0\" style=\"fill: none; stroke: #ddd; stroke-width: 1; opacity: 1;\"></line><line transform=\"translate(0,82)\" x2=\"450\" y2=\"0\" style=\"fill: none; stroke: #ddd; stroke-width: 1; opacity: 1;\"></line><line transform=\"translate(0,41)\" x2=\"450\" y2=\"0\" style=\"fill: none; stroke: #ddd; stroke-width: 1; opacity: 1;\"></line><line transform=\"translate(0,0)\" x2=\"450\" y2=\"0\" style=\"fill: none; stroke: #ddd; stroke-width: 1; opacity: 1;\"></line></g></g></g></g><g class=\"mark-line role-mark concat_0_marks\"><path d=\"M450,0L442.37376620122234,0L434.74544416756,0L427.11921036878226,0L419.4908883351199,0L411.86465453634224,0L404.2363325026799,0L396.6100987039022,0L388.98177667023987,0L381.35554287146215,0L373.7293090726845,0L366.10307527390677,0L358.47475324024447,0L350.84851944146675,0L343.2201974078044,0L335.59396360902673,0L327.96564157536443,0L320.3394077765867,0L312.7110857429244,0L305.0848519441467,0L297.45652991048433,0L289.8302961117067,0L282.2019740780443,0L274.5757402792666,0L266.9474182456043,0L259.3211844468266,0L251.69286241316425,0L244.06662861438656,0L236.4383065807242,0L228.8120727819465,0L221.18583898316882,0L213.55960518439113,0L205.9312831507288,0L198.3050493519511,0L190.67672731828875,0L183.05049351951106,409.59L175.4221714858487,409.59L167.79593768707105,409.59L160.16761565340872,409.59L152.54138185463103,409.59L144.91514805585334,409.59L137.28891425707565,409.59L129.6605922234133,409.59L122.0343584246356,409.59L114.40603639097326,409.59L106.77980259219557,409.59L99.15148055853322,409.59L91.52524675975553,409.59L83.89692472609319,409.59L76.27069092731551,409.59L68.64445712853782,409.59L61.01822332976013,409.59L53.38990129609778,409.59L45.7636674973201,409.59L38.13534546365776,409.59L30.509111664880066,409.59L22.88078963121772,409.59L15.254555832440033,409.59L7.626233798777686,409.59L0,409.59\" style=\"fill: none; stroke: #4c78a8; stroke-width: 2;\"></path></g><g class=\"mark-text role-title\" style=\"pointer-events: none;\"><text text-anchor=\"middle\" transform=\"translate(225,-12)\" style=\"font-family: sans-serif; font-size: 13px; font-weight: bold; fill: #000; opacity: 1;\">emissions : MIU</text></g><g class=\"mark-group role-axis\"><g transform=\"translate(0.5,410.5)\"><path class=\"background\" d=\"M0,0h0v0h0Z\" style=\"pointer-events: none; fill: none;\"></path><g><g class=\"mark-rule role-axis-tick\" style=\"pointer-events: none;\"><line transform=\"translate(34,0)\" x2=\"0\" y2=\"5\" style=\"fill: none; stroke: #888; stroke-width: 1; opacity: 1;\"></line><line transform=\"translate(72,0)\" x2=\"0\" y2=\"5\" style=\"fill: none; stroke: #888; stroke-width: 1; opacity: 1;\"></line><line transform=\"translate(111,0)\" x2=\"0\" y2=\"5\" style=\"fill: none; stroke: #888; stroke-width: 1; opacity: 1;\"></line><line transform=\"translate(149,0)\" x2=\"0\" y2=\"5\" style=\"fill: none; stroke: #888; stroke-width: 1; opacity: 1;\"></line><line transform=\"translate(187,0)\" x2=\"0\" y2=\"5\" style=\"fill: none; stroke: #888; stroke-width: 1; opacity: 1;\"></line><line transform=\"translate(225,0)\" x2=\"0\" y2=\"5\" style=\"fill: none; stroke: #888; stroke-width: 1; opacity: 1;\"></line><line transform=\"translate(263,0)\" x2=\"0\" y2=\"5\" style=\"fill: none; stroke: #888; stroke-width: 1; opacity: 1;\"></line><line transform=\"translate(301,0)\" x2=\"0\" y2=\"5\" style=\"fill: none; stroke: #888; stroke-width: 1; opacity: 1;\"></line><line transform=\"translate(339,0)\" x2=\"0\" y2=\"5\" style=\"fill: none; stroke: #888; stroke-width: 1; opacity: 1;\"></line><line transform=\"translate(378,0)\" x2=\"0\" y2=\"5\" style=\"fill: none; stroke: #888; stroke-width: 1; opacity: 1;\"></line><line transform=\"translate(416,0)\" x2=\"0\" y2=\"5\" style=\"fill: none; stroke: #888; stroke-width: 1; opacity: 1;\"></line></g><g class=\"mark-text role-axis-label\" style=\"pointer-events: none;\"><text text-anchor=\"middle\" transform=\"translate(34.32222856426891,15)\" style=\"font-family: sans-serif; font-size: 10px; fill: #000; opacity: 1;\">2050</text><text text-anchor=\"middle\" transform=\"translate(72.45757402792667,15)\" style=\"font-family: sans-serif; font-size: 10px; fill: #000; opacity: 1;\">2100</text><text text-anchor=\"middle\" transform=\"translate(110.59291949158441,15)\" style=\"font-family: sans-serif; font-size: 10px; fill: #000; opacity: 1;\">2150</text><text text-anchor=\"middle\" transform=\"translate(148.72826495524217,15)\" style=\"font-family: sans-serif; font-size: 10px; fill: #000; opacity: 1;\">2200</text><text text-anchor=\"middle\" transform=\"translate(186.8636104188999,15)\" style=\"font-family: sans-serif; font-size: 10px; fill: #000; opacity: 1;\">2250</text><text text-anchor=\"middle\" transform=\"translate(224.99895588255768,15)\" style=\"font-family: sans-serif; font-size: 10px; fill: #000; opacity: 1;\">2300</text><text text-anchor=\"middle\" transform=\"translate(263.1343013462154,15)\" style=\"font-family: sans-serif; font-size: 10px; fill: #000; opacity: 1;\">2350</text><text text-anchor=\"middle\" transform=\"translate(301.26964680987317,15)\" style=\"font-family: sans-serif; font-size: 10px; fill: #000; opacity: 1;\">2400</text><text text-anchor=\"middle\" transform=\"translate(339.40708050841556,15)\" style=\"font-family: sans-serif; font-size: 10px; fill: #000; opacity: 1;\">2450</text><text text-anchor=\"middle\" transform=\"translate(377.5424259720734,15)\" style=\"font-family: sans-serif; font-size: 10px; fill: #000; opacity: 1;\">2500</text><text text-anchor=\"middle\" transform=\"translate(415.67777143573113,15)\" style=\"font-family: sans-serif; font-size: 10px; fill: #000; opacity: 1;\">2550</text></g><g class=\"mark-rule role-axis-domain\" style=\"pointer-events: none;\"><line transform=\"translate(0,0)\" x2=\"450\" y2=\"0\" style=\"fill: none; stroke: #888; stroke-width: 1; opacity: 1;\"></line></g><g class=\"mark-text role-axis-title\" style=\"pointer-events: none;\"><text text-anchor=\"middle\" transform=\"translate(225,30)\" style=\"font-family: sans-serif; font-size: 11px; font-weight: bold; fill: #000; opacity: 1;\">time (year)</text></g></g></g></g><g class=\"mark-group role-axis\"><g transform=\"translate(0.5,0.5)\"><path class=\"background\" d=\"M0,0h0v0h0Z\" style=\"pointer-events: none; fill: none;\"></path><g><g class=\"mark-rule role-axis-tick\" style=\"pointer-events: none;\"><line transform=\"translate(0,410)\" x2=\"-5\" y2=\"0\" style=\"fill: none; stroke: #888; stroke-width: 1; opacity: 1;\"></line><line transform=\"translate(0,369)\" x2=\"-5\" y2=\"0\" style=\"fill: none; stroke: #888; stroke-width: 1; opacity: 1;\"></line><line transform=\"translate(0,328)\" x2=\"-5\" y2=\"0\" style=\"fill: none; stroke: #888; stroke-width: 1; opacity: 1;\"></line><line transform=\"translate(0,287)\" x2=\"-5\" y2=\"0\" style=\"fill: none; stroke: #888; stroke-width: 1; opacity: 1;\"></line><line transform=\"translate(0,246)\" x2=\"-5\" y2=\"0\" style=\"fill: none; stroke: #888; stroke-width: 1; opacity: 1;\"></line><line transform=\"translate(0,205)\" x2=\"-5\" y2=\"0\" style=\"fill: none; stroke: #888; stroke-width: 1; opacity: 1;\"></line><line transform=\"translate(0,164)\" x2=\"-5\" y2=\"0\" style=\"fill: none; stroke: #888; stroke-width: 1; opacity: 1;\"></line><line transform=\"translate(0,123)\" x2=\"-5\" y2=\"0\" style=\"fill: none; stroke: #888; stroke-width: 1; opacity: 1;\"></line><line transform=\"translate(0,82)\" x2=\"-5\" y2=\"0\" style=\"fill: none; stroke: #888; stroke-width: 1; opacity: 1;\"></line><line transform=\"translate(0,41)\" x2=\"-5\" y2=\"0\" style=\"fill: none; stroke: #888; stroke-width: 1; opacity: 1;\"></line><line transform=\"translate(0,0)\" x2=\"-5\" y2=\"0\" style=\"fill: none; stroke: #888; stroke-width: 1; opacity: 1;\"></line></g><g class=\"mark-text role-axis-label\" style=\"pointer-events: none;\"><text text-anchor=\"end\" transform=\"translate(-7,413)\" style=\"font-family: sans-serif; font-size: 10px; fill: #000; opacity: 1;\">0.0</text><text text-anchor=\"end\" transform=\"translate(-7,372)\" style=\"font-family: sans-serif; font-size: 10px; fill: #000; opacity: 1;\">0.1</text><text text-anchor=\"end\" transform=\"translate(-7,331)\" style=\"font-family: sans-serif; font-size: 10px; fill: #000; opacity: 1;\">0.2</text><text text-anchor=\"end\" transform=\"translate(-7,290)\" style=\"font-family: sans-serif; font-size: 10px; fill: #000; opacity: 1;\">0.3</text><text text-anchor=\"end\" transform=\"translate(-7,249)\" style=\"font-family: sans-serif; font-size: 10px; fill: #000; opacity: 1;\">0.4</text><text text-anchor=\"end\" transform=\"translate(-7,208)\" style=\"font-family: sans-serif; font-size: 10px; fill: #000; opacity: 1;\">0.5</text><text text-anchor=\"end\" transform=\"translate(-7,167)\" style=\"font-family: sans-serif; font-size: 10px; fill: #000; opacity: 1;\">0.6</text><text text-anchor=\"end\" transform=\"translate(-7,126)\" style=\"font-family: sans-serif; font-size: 10px; fill: #000; opacity: 1;\">0.7</text><text text-anchor=\"end\" transform=\"translate(-7,85)\" style=\"font-family: sans-serif; font-size: 10px; fill: #000; opacity: 1;\">0.8</text><text text-anchor=\"end\" transform=\"translate(-7,44)\" style=\"font-family: sans-serif; font-size: 10px; fill: #000; opacity: 1;\">0.9</text><text text-anchor=\"end\" transform=\"translate(-7,3)\" style=\"font-family: sans-serif; font-size: 10px; fill: #000; opacity: 1;\">1.0</text></g><g class=\"mark-rule role-axis-domain\" style=\"pointer-events: none;\"><line transform=\"translate(0,410)\" x2=\"0\" y2=\"-410\" style=\"fill: none; stroke: #888; stroke-width: 1; opacity: 1;\"></line></g><g class=\"mark-text role-axis-title\" style=\"pointer-events: none;\"><text text-anchor=\"middle\" transform=\"translate(-24,205) rotate(-90) translate(0,-2)\" style=\"font-family: sans-serif; font-size: 11px; font-weight: bold; fill: #000; opacity: 1;\">MIU</text></g></g></g></g></g></g></g><g class=\"mark-group role-scope concat_1_group\"><g transform=\"translate(509,0)\"><path class=\"background\" d=\"M0.5,0.5h450v410h-450Z\" style=\"fill: none; stroke: #ddd;\"></path><g><g class=\"mark-group role-axis\"><g transform=\"translate(0.5,410.5)\"><path class=\"background\" d=\"M0,0h0v0h0Z\" style=\"pointer-events: none; fill: none;\"></path><g><g class=\"mark-rule role-axis-grid\" style=\"pointer-events: none;\"><line transform=\"translate(34,-410)\" x2=\"0\" y2=\"410\" style=\"fill: none; stroke: #ddd; stroke-width: 1; opacity: 1;\"></line><line transform=\"translate(72,-410)\" x2=\"0\" y2=\"410\" style=\"fill: none; stroke: #ddd; stroke-width: 1; opacity: 1;\"></line><line transform=\"translate(111,-410)\" x2=\"0\" y2=\"410\" style=\"fill: none; stroke: #ddd; stroke-width: 1; opacity: 1;\"></line><line transform=\"translate(149,-410)\" x2=\"0\" y2=\"410\" style=\"fill: none; stroke: #ddd; stroke-width: 1; opacity: 1;\"></line><line transform=\"translate(187,-410)\" x2=\"0\" y2=\"410\" style=\"fill: none; stroke: #ddd; stroke-width: 1; opacity: 1;\"></line><line transform=\"translate(225,-410)\" x2=\"0\" y2=\"410\" style=\"fill: none; stroke: #ddd; stroke-width: 1; opacity: 1;\"></line><line transform=\"translate(263,-410)\" x2=\"0\" y2=\"410\" style=\"fill: none; stroke: #ddd; stroke-width: 1; opacity: 1;\"></line><line transform=\"translate(301,-410)\" x2=\"0\" y2=\"410\" style=\"fill: none; stroke: #ddd; stroke-width: 1; opacity: 1;\"></line><line transform=\"translate(339,-410)\" x2=\"0\" y2=\"410\" style=\"fill: none; stroke: #ddd; stroke-width: 1; opacity: 1;\"></line><line transform=\"translate(378,-410)\" x2=\"0\" y2=\"410\" style=\"fill: none; stroke: #ddd; stroke-width: 1; opacity: 1;\"></line><line transform=\"translate(416,-410)\" x2=\"0\" y2=\"410\" style=\"fill: none; stroke: #ddd; stroke-width: 1; opacity: 1;\"></line></g></g></g></g><g class=\"mark-group role-axis\"><g transform=\"translate(0.5,0.5)\"><path class=\"background\" d=\"M0,0h0v0h0Z\" style=\"pointer-events: none; fill: none;\"></path><g><g class=\"mark-rule role-axis-grid\" style=\"pointer-events: none;\"><line transform=\"translate(0,410)\" x2=\"450\" y2=\"0\" style=\"fill: none; stroke: #ddd; stroke-width: 1; opacity: 1;\"></line><line transform=\"translate(0,369)\" x2=\"450\" y2=\"0\" style=\"fill: none; stroke: #ddd; stroke-width: 1; opacity: 1;\"></line><line transform=\"translate(0,328)\" x2=\"450\" y2=\"0\" style=\"fill: none; stroke: #ddd; stroke-width: 1; opacity: 1;\"></line><line transform=\"translate(0,287)\" x2=\"450\" y2=\"0\" style=\"fill: none; stroke: #ddd; stroke-width: 1; opacity: 1;\"></line><line transform=\"translate(0,246)\" x2=\"450\" y2=\"0\" style=\"fill: none; stroke: #ddd; stroke-width: 1; opacity: 1;\"></line><line transform=\"translate(0,205)\" x2=\"450\" y2=\"0\" style=\"fill: none; stroke: #ddd; stroke-width: 1; opacity: 1;\"></line><line transform=\"translate(0,164)\" x2=\"450\" y2=\"0\" style=\"fill: none; stroke: #ddd; stroke-width: 1; opacity: 1;\"></line><line transform=\"translate(0,123)\" x2=\"450\" y2=\"0\" style=\"fill: none; stroke: #ddd; stroke-width: 1; opacity: 1;\"></line><line transform=\"translate(0,82)\" x2=\"450\" y2=\"0\" style=\"fill: none; stroke: #ddd; stroke-width: 1; opacity: 1;\"></line><line transform=\"translate(0,41)\" x2=\"450\" y2=\"0\" style=\"fill: none; stroke: #ddd; stroke-width: 1; opacity: 1;\"></line><line transform=\"translate(0,0)\" x2=\"450\" y2=\"0\" style=\"fill: none; stroke: #ddd; stroke-width: 1; opacity: 1;\"></line></g></g></g></g><g class=\"mark-line role-mark concat_1_marks\"><path d=\"M450,336.74185227248586L442.37376620122234,409.7993893999697L434.74544416756,192.00654105229887L427.11921036878226,108.16577643155682L419.4908883351199,191.64530411586836L411.86465453634224,206.04498071362644L404.2363325026799,259.8455323692814L396.6100987039022,325.6859382362853L388.98177667023987,108.05408232295781L381.35554287146215,294.6402588212905L373.7293090726845,22.12438127403982L366.10307527390677,303.9922796449884L358.47475324024447,357.2340227685717L350.84851944146675,189.96509461729815L343.2201974078044,4.192288182130824L335.59396360902673,130.90860054605372L327.96564157536443,21.16528592955609L320.3394077765867,347.9504535388213L312.7110857429244,85.48419437685408L305.0848519441467,150.8586091739997L297.45652991048433,184.67613207906913L289.8302961117067,58.78081721907728L282.2019740780443,81.78223109466916L274.5757402792666,13.14573876021484L266.9474182456043,0.0686367959403924L259.3211844468266,31.900588309436444L251.69286241316425,0.715519257298638L244.06662861438656,0.16799478602615636L236.4383065807242,9.39114553957603L228.8120727819465,1.3650567915399279L221.18583898316882,1.1435535158950643L213.55960518439113,3.934498465694446L205.9312831507288,6.114122714992391L198.3050493519511,0.014997939410307026L190.67672731828875,2.2791828978309923L183.05049351951106,0.7248702337431041L175.4221714858487,0.0405059493739941L167.79593768707105,2.073074208186597L160.16761565340872,1.4282212739359466L152.54138185463103,0.8620087674722754L144.91514805585334,1.7409309228174834L137.28891425707565,0.42799365096459496L129.6605922234133,0.5350303224983577L122.0343584246356,0.5876697864425182L114.40603639097326,5.616252023308675L106.77980259219557,29.351405175398327L99.15148055853322,41.50930769407631L91.52524675975553,53.181081377311386L83.89692472609319,63.93509761422786L76.27069092731551,105.73078048596818L68.64445712853782,135.12710534168116L61.01822332976013,166.11331119280055L53.38990129609778,190.76127662648346L45.7636674973201,216.27882920631552L38.13534546365776,240.07347807660165L30.509111664880066,264.4839580012342L22.88078963121772,285.6577533624376L15.254555832440033,307.76243730102055L7.626233798777686,334.93289330532116L0,407.6086637646674\" style=\"fill: none; stroke: #4c78a8; stroke-width: 2;\"></path></g><g class=\"mark-text role-title\" style=\"pointer-events: none;\"><text text-anchor=\"middle\" transform=\"translate(225,-12)\" style=\"font-family: sans-serif; font-size: 13px; font-weight: bold; fill: #000; opacity: 1;\">emissions : MIU</text></g><g class=\"mark-group role-axis\"><g transform=\"translate(0.5,410.5)\"><path class=\"background\" d=\"M0,0h0v0h0Z\" style=\"pointer-events: none; fill: none;\"></path><g><g class=\"mark-rule role-axis-tick\" style=\"pointer-events: none;\"><line transform=\"translate(34,0)\" x2=\"0\" y2=\"5\" style=\"fill: none; stroke: #888; stroke-width: 1; opacity: 1;\"></line><line transform=\"translate(72,0)\" x2=\"0\" y2=\"5\" style=\"fill: none; stroke: #888; stroke-width: 1; opacity: 1;\"></line><line transform=\"translate(111,0)\" x2=\"0\" y2=\"5\" style=\"fill: none; stroke: #888; stroke-width: 1; opacity: 1;\"></line><line transform=\"translate(149,0)\" x2=\"0\" y2=\"5\" style=\"fill: none; stroke: #888; stroke-width: 1; opacity: 1;\"></line><line transform=\"translate(187,0)\" x2=\"0\" y2=\"5\" style=\"fill: none; stroke: #888; stroke-width: 1; opacity: 1;\"></line><line transform=\"translate(225,0)\" x2=\"0\" y2=\"5\" style=\"fill: none; stroke: #888; stroke-width: 1; opacity: 1;\"></line><line transform=\"translate(263,0)\" x2=\"0\" y2=\"5\" style=\"fill: none; stroke: #888; stroke-width: 1; opacity: 1;\"></line><line transform=\"translate(301,0)\" x2=\"0\" y2=\"5\" style=\"fill: none; stroke: #888; stroke-width: 1; opacity: 1;\"></line><line transform=\"translate(339,0)\" x2=\"0\" y2=\"5\" style=\"fill: none; stroke: #888; stroke-width: 1; opacity: 1;\"></line><line transform=\"translate(378,0)\" x2=\"0\" y2=\"5\" style=\"fill: none; stroke: #888; stroke-width: 1; opacity: 1;\"></line><line transform=\"translate(416,0)\" x2=\"0\" y2=\"5\" style=\"fill: none; stroke: #888; stroke-width: 1; opacity: 1;\"></line></g><g class=\"mark-text role-axis-label\" style=\"pointer-events: none;\"><text text-anchor=\"middle\" transform=\"translate(34.32222856426891,15)\" style=\"font-family: sans-serif; font-size: 10px; fill: #000; opacity: 1;\">2050</text><text text-anchor=\"middle\" transform=\"translate(72.45757402792667,15)\" style=\"font-family: sans-serif; font-size: 10px; fill: #000; opacity: 1;\">2100</text><text text-anchor=\"middle\" transform=\"translate(110.59291949158441,15)\" style=\"font-family: sans-serif; font-size: 10px; fill: #000; opacity: 1;\">2150</text><text text-anchor=\"middle\" transform=\"translate(148.72826495524217,15)\" style=\"font-family: sans-serif; font-size: 10px; fill: #000; opacity: 1;\">2200</text><text text-anchor=\"middle\" transform=\"translate(186.8636104188999,15)\" style=\"font-family: sans-serif; font-size: 10px; fill: #000; opacity: 1;\">2250</text><text text-anchor=\"middle\" transform=\"translate(224.99895588255768,15)\" style=\"font-family: sans-serif; font-size: 10px; fill: #000; opacity: 1;\">2300</text><text text-anchor=\"middle\" transform=\"translate(263.1343013462154,15)\" style=\"font-family: sans-serif; font-size: 10px; fill: #000; opacity: 1;\">2350</text><text text-anchor=\"middle\" transform=\"translate(301.26964680987317,15)\" style=\"font-family: sans-serif; font-size: 10px; fill: #000; opacity: 1;\">2400</text><text text-anchor=\"middle\" transform=\"translate(339.40708050841556,15)\" style=\"font-family: sans-serif; font-size: 10px; fill: #000; opacity: 1;\">2450</text><text text-anchor=\"middle\" transform=\"translate(377.5424259720734,15)\" style=\"font-family: sans-serif; font-size: 10px; fill: #000; opacity: 1;\">2500</text><text text-anchor=\"middle\" transform=\"translate(415.67777143573113,15)\" style=\"font-family: sans-serif; font-size: 10px; fill: #000; opacity: 1;\">2550</text></g><g class=\"mark-rule role-axis-domain\" style=\"pointer-events: none;\"><line transform=\"translate(0,0)\" x2=\"450\" y2=\"0\" style=\"fill: none; stroke: #888; stroke-width: 1; opacity: 1;\"></line></g><g class=\"mark-text role-axis-title\" style=\"pointer-events: none;\"><text text-anchor=\"middle\" transform=\"translate(225,30)\" style=\"font-family: sans-serif; font-size: 11px; font-weight: bold; fill: #000; opacity: 1;\">time (year)</text></g></g></g></g><g class=\"mark-group role-axis\"><g transform=\"translate(0.5,0.5)\"><path class=\"background\" d=\"M0,0h0v0h0Z\" style=\"pointer-events: none; fill: none;\"></path><g><g class=\"mark-rule role-axis-tick\" style=\"pointer-events: none;\"><line transform=\"translate(0,410)\" x2=\"-5\" y2=\"0\" style=\"fill: none; stroke: #888; stroke-width: 1; opacity: 1;\"></line><line transform=\"translate(0,369)\" x2=\"-5\" y2=\"0\" style=\"fill: none; stroke: #888; stroke-width: 1; opacity: 1;\"></line><line transform=\"translate(0,328)\" x2=\"-5\" y2=\"0\" style=\"fill: none; stroke: #888; stroke-width: 1; opacity: 1;\"></line><line transform=\"translate(0,287)\" x2=\"-5\" y2=\"0\" style=\"fill: none; stroke: #888; stroke-width: 1; opacity: 1;\"></line><line transform=\"translate(0,246)\" x2=\"-5\" y2=\"0\" style=\"fill: none; stroke: #888; stroke-width: 1; opacity: 1;\"></line><line transform=\"translate(0,205)\" x2=\"-5\" y2=\"0\" style=\"fill: none; stroke: #888; stroke-width: 1; opacity: 1;\"></line><line transform=\"translate(0,164)\" x2=\"-5\" y2=\"0\" style=\"fill: none; stroke: #888; stroke-width: 1; opacity: 1;\"></line><line transform=\"translate(0,123)\" x2=\"-5\" y2=\"0\" style=\"fill: none; stroke: #888; stroke-width: 1; opacity: 1;\"></line><line transform=\"translate(0,82)\" x2=\"-5\" y2=\"0\" style=\"fill: none; stroke: #888; stroke-width: 1; opacity: 1;\"></line><line transform=\"translate(0,41)\" x2=\"-5\" y2=\"0\" style=\"fill: none; stroke: #888; stroke-width: 1; opacity: 1;\"></line><line transform=\"translate(0,0)\" x2=\"-5\" y2=\"0\" style=\"fill: none; stroke: #888; stroke-width: 1; opacity: 1;\"></line></g><g class=\"mark-text role-axis-label\" style=\"pointer-events: none;\"><text text-anchor=\"end\" transform=\"translate(-7,413)\" style=\"font-family: sans-serif; font-size: 10px; fill: #000; opacity: 1;\">0.0</text><text text-anchor=\"end\" transform=\"translate(-7,372)\" style=\"font-family: sans-serif; font-size: 10px; fill: #000; opacity: 1;\">0.1</text><text text-anchor=\"end\" transform=\"translate(-7,331)\" style=\"font-family: sans-serif; font-size: 10px; fill: #000; opacity: 1;\">0.2</text><text text-anchor=\"end\" transform=\"translate(-7,290)\" style=\"font-family: sans-serif; font-size: 10px; fill: #000; opacity: 1;\">0.3</text><text text-anchor=\"end\" transform=\"translate(-7,249)\" style=\"font-family: sans-serif; font-size: 10px; fill: #000; opacity: 1;\">0.4</text><text text-anchor=\"end\" transform=\"translate(-7,208)\" style=\"font-family: sans-serif; font-size: 10px; fill: #000; opacity: 1;\">0.5</text><text text-anchor=\"end\" transform=\"translate(-7,167)\" style=\"font-family: sans-serif; font-size: 10px; fill: #000; opacity: 1;\">0.6</text><text text-anchor=\"end\" transform=\"translate(-7,126)\" style=\"font-family: sans-serif; font-size: 10px; fill: #000; opacity: 1;\">0.7</text><text text-anchor=\"end\" transform=\"translate(-7,85)\" style=\"font-family: sans-serif; font-size: 10px; fill: #000; opacity: 1;\">0.8</text><text text-anchor=\"end\" transform=\"translate(-7,44)\" style=\"font-family: sans-serif; font-size: 10px; fill: #000; opacity: 1;\">0.9</text><text text-anchor=\"end\" transform=\"translate(-7,3)\" style=\"font-family: sans-serif; font-size: 10px; fill: #000; opacity: 1;\">1.0</text></g><g class=\"mark-rule role-axis-domain\" style=\"pointer-events: none;\"><line transform=\"translate(0,410)\" x2=\"0\" y2=\"-410\" style=\"fill: none; stroke: #888; stroke-width: 1; opacity: 1;\"></line></g><g class=\"mark-text role-axis-title\" style=\"pointer-events: none;\"><text text-anchor=\"middle\" transform=\"translate(-24,205) rotate(-90) translate(0,-2)\" style=\"font-family: sans-serif; font-size: 11px; font-weight: bold; fill: #000; opacity: 1;\">MIU</text></g></g></g></g></g></g></g></g></g></g></g></svg>"
      ],
      "text/plain": [
       "VegaLite.VLSpec{:plot}"
      ]
     },
     "execution_count": 8,
     "metadata": {},
     "output_type": "execute_result"
    }
   ],
   "source": [
    "@vlplot(resolve={scale={y=:shared}}) + [Mimi.plot(m_dice1, :emissions, :MIU) Mimi.plot(m_opt, :emissions, :MIU)]"
   ]
  },
  {
   "cell_type": "markdown",
   "metadata": {},
   "source": [
    "For the first half of the period, the solver found the typical optimal policy ramp that characterizes DICE. The second half of our solution once again suffers from the fact that we don't properly handle the backstop case in this simple example, as we saw in the third notebook on Modifying Parameters. It would probably be more sensible to only optimize the first half of the model time period, and then assume 100% mitigation rate for the second half, like we did in our previous example. We will not fix this issue in this example tutorial, because we our goal is only to highlight the technical aspects of running an optimization."
   ]
  },
  {
   "cell_type": "markdown",
   "metadata": {},
   "source": [
    "Looking at the temperature for our optimization, and ignoring the second half of the model time period, we can see a significant impact of our optimal policy on temperatures."
   ]
  },
  {
   "cell_type": "code",
   "execution_count": 9,
   "metadata": {},
   "outputs": [
    {
     "data": {
      "application/vnd.vegalite.v3+json": {
       "hconcat": [
        {
         "$schema": "https://vega.github.io/schema/vega-lite/v2.0.json",
         "data": {
          "values": [
           {
            "TATM": "0.83",
            "time": "2005-01-01"
           },
           {
            "TATM": "0.98",
            "time": "2015-01-01"
           },
           {
            "TATM": "1.3881597063065039",
            "time": "2025-01-01"
           },
           {
            "TATM": "1.7763568832996077",
            "time": "2035-01-01"
           },
           {
            "TATM": "2.143378418542003",
            "time": "2045-01-01"
           },
           {
            "TATM": "2.48771553569001",
            "time": "2055-01-01"
           },
           {
            "TATM": "2.8087148591501157",
            "time": "2065-01-01"
           },
           {
            "TATM": "3.10671639649217",
            "time": "2075-01-01"
           },
           {
            "TATM": "3.382825259538321",
            "time": "2085-01-01"
           },
           {
            "TATM": "3.6386207932274326",
            "time": "2095-01-01"
           },
           {
            "TATM": "3.8759150825139432",
            "time": "2105-01-01"
           },
           {
            "TATM": "4.107603640506595",
            "time": "2115-01-01"
           },
           {
            "TATM": "4.3320678899024765",
            "time": "2125-01-01"
           },
           {
            "TATM": "4.548669639694528",
            "time": "2135-01-01"
           },
           {
            "TATM": "4.757364104876634",
            "time": "2145-01-01"
           },
           {
            "TATM": "4.95845043632468",
            "time": "2155-01-01"
           },
           {
            "TATM": "5.152412610352883",
            "time": "2165-01-01"
           },
           {
            "TATM": "5.3398195261657015",
            "time": "2175-01-01"
           },
           {
            "TATM": "5.521263793725003",
            "time": "2185-01-01"
           },
           {
            "TATM": "5.697325788302517",
            "time": "2195-01-01"
           },
           {
            "TATM": "5.868554376703898",
            "time": "2205-01-01"
           },
           {
            "TATM": "6.035459345242548",
            "time": "2215-01-01"
           },
           {
            "TATM": "6.198514129513103",
            "time": "2225-01-01"
           },
           {
            "TATM": "6.3581847198627255",
            "time": "2235-01-01"
           },
           {
            "TATM": "6.5148671959990105",
            "time": "2245-01-01"
           },
           {
            "TATM": "6.618260569750442",
            "time": "2255-01-01"
           },
           {
            "TATM": "6.637108329409583",
            "time": "2265-01-01"
           },
           {
            "TATM": "6.604999248696924",
            "time": "2275-01-01"
           },
           {
            "TATM": "6.544161231045846",
            "time": "2285-01-01"
           },
           {
            "TATM": "6.469101715479886",
            "time": "2295-01-01"
           },
           {
            "TATM": "6.389094468166331",
            "time": "2305-01-01"
           },
           {
            "TATM": "6.30988143244077",
            "time": "2315-01-01"
           },
           {
            "TATM": "6.234838775038302",
            "time": "2325-01-01"
           },
           {
            "TATM": "6.165775908514998",
            "time": "2335-01-01"
           },
           {
            "TATM": "6.103482237025658",
            "time": "2345-01-01"
           },
           {
            "TATM": "6.048099981351211",
            "time": "2355-01-01"
           },
           {
            "TATM": "5.999376851685412",
            "time": "2365-01-01"
           },
           {
            "TATM": "5.956835647931661",
            "time": "2375-01-01"
           },
           {
            "TATM": "5.919886474826612",
            "time": "2385-01-01"
           },
           {
            "TATM": "5.8878994327132546",
            "time": "2395-01-01"
           },
           {
            "TATM": "5.86025023335239",
            "time": "2405-01-01"
           },
           {
            "TATM": "5.836347426164182",
            "time": "2415-01-01"
           },
           {
            "TATM": "5.815647288994508",
            "time": "2425-01-01"
           },
           {
            "TATM": "5.797660591169723",
            "time": "2435-01-01"
           },
           {
            "TATM": "5.781954138232699",
            "time": "2445-01-01"
           },
           {
            "TATM": "5.768149094264203",
            "time": "2455-01-01"
           },
           {
            "TATM": "5.755917435823844",
            "time": "2465-01-01"
           },
           {
            "TATM": "5.7449774419575395",
            "time": "2475-01-01"
           },
           {
            "TATM": "5.735088811443862",
            "time": "2485-01-01"
           },
           {
            "TATM": "5.726047781785632",
            "time": "2495-01-01"
           },
           {
            "TATM": "5.717682476124955",
            "time": "2505-01-01"
           },
           {
            "TATM": "5.7098486040987675",
            "time": "2515-01-01"
           },
           {
            "TATM": "5.702425576261056",
            "time": "2525-01-01"
           },
           {
            "TATM": "5.695313048813406",
            "time": "2535-01-01"
           },
           {
            "TATM": "5.688427888709104",
            "time": "2545-01-01"
           },
           {
            "TATM": "5.681701533558629",
            "time": "2555-01-01"
           },
           {
            "TATM": "5.675077712524968",
            "time": "2565-01-01"
           },
           {
            "TATM": "5.6685104910086705",
            "time": "2575-01-01"
           },
           {
            "TATM": "5.6619626016188915",
            "time": "2585-01-01"
           },
           {
            "TATM": "5.655404025496941",
            "time": "2595-01-01"
           }
          ]
         },
         "description": "plot for a specific component variable pair",
         "encoding": {
          "x": {
           "field": "time",
           "timeUnit": "utcyear",
           "type": "temporal"
          },
          "y": {
           "field": "TATM",
           "type": "quantitative"
          }
         },
         "height": 410,
         "mark": {
          "type": "line"
         },
         "title": "climatedynamics : TATM",
         "width": 450
        },
        {
         "$schema": "https://vega.github.io/schema/vega-lite/v2.0.json",
         "data": {
          "values": [
           {
            "TATM": "0.83",
            "time": "2005-01-01"
           },
           {
            "TATM": "0.98",
            "time": "2015-01-01"
           },
           {
            "TATM": "1.3481995533884215",
            "time": "2025-01-01"
           },
           {
            "TATM": "1.6761789689716735",
            "time": "2035-01-01"
           },
           {
            "TATM": "1.9656535057588067",
            "time": "2045-01-01"
           },
           {
            "TATM": "2.21708655327634",
            "time": "2055-01-01"
           },
           {
            "TATM": "2.4309413373119813",
            "time": "2065-01-01"
           },
           {
            "TATM": "2.608217385873908",
            "time": "2075-01-01"
           },
           {
            "TATM": "2.7503215992656465",
            "time": "2085-01-01"
           },
           {
            "TATM": "2.857760182752537",
            "time": "2095-01-01"
           },
           {
            "TATM": "2.930479438750124",
            "time": "2105-01-01"
           },
           {
            "TATM": "2.9773433953107973",
            "time": "2115-01-01"
           },
           {
            "TATM": "2.998123701000028",
            "time": "2125-01-01"
           },
           {
            "TATM": "2.999765314302981",
            "time": "2135-01-01"
           },
           {
            "TATM": "2.9861850354233397",
            "time": "2145-01-01"
           },
           {
            "TATM": "2.956317874558794",
            "time": "2155-01-01"
           },
           {
            "TATM": "2.911123860054566",
            "time": "2165-01-01"
           },
           {
            "TATM": "2.8577861439189784",
            "time": "2175-01-01"
           },
           {
            "TATM": "2.802220721239597",
            "time": "2185-01-01"
           },
           {
            "TATM": "2.748443450165846",
            "time": "2195-01-01"
           },
           {
            "TATM": "2.698492847441433",
            "time": "2205-01-01"
           },
           {
            "TATM": "2.6531446883521967",
            "time": "2215-01-01"
           },
           {
            "TATM": "2.6131605058044403",
            "time": "2225-01-01"
           },
           {
            "TATM": "2.5777866924121673",
            "time": "2235-01-01"
           },
           {
            "TATM": "2.5463392817921138",
            "time": "2245-01-01"
           },
           {
            "TATM": "2.5195817833380447",
            "time": "2255-01-01"
           },
           {
            "TATM": "2.496583725923126",
            "time": "2265-01-01"
           },
           {
            "TATM": "2.478545492495442",
            "time": "2275-01-01"
           },
           {
            "TATM": "2.4660201229621825",
            "time": "2285-01-01"
           },
           {
            "TATM": "2.4553331392138897",
            "time": "2295-01-01"
           },
           {
            "TATM": "2.445172448076632",
            "time": "2305-01-01"
           },
           {
            "TATM": "2.4396859847728027",
            "time": "2315-01-01"
           },
           {
            "TATM": "2.436753149058716",
            "time": "2325-01-01"
           },
           {
            "TATM": "2.4314854996468265",
            "time": "2335-01-01"
           },
           {
            "TATM": "2.441083273930636",
            "time": "2345-01-01"
           },
           {
            "TATM": "2.4589473016892724",
            "time": "2355-01-01"
           },
           {
            "TATM": "2.47227551379456",
            "time": "2365-01-01"
           },
           {
            "TATM": "2.525602942036518",
            "time": "2375-01-01"
           },
           {
            "TATM": "2.623612382616584",
            "time": "2385-01-01"
           },
           {
            "TATM": "2.7947749458038866",
            "time": "2395-01-01"
           },
           {
            "TATM": "3.03982042118232",
            "time": "2405-01-01"
           },
           {
            "TATM": "3.2744166338981904",
            "time": "2415-01-01"
           },
           {
            "TATM": "3.5749477325541243",
            "time": "2425-01-01"
           },
           {
            "TATM": "3.8727377974702737",
            "time": "2435-01-01"
           },
           {
            "TATM": "4.083433074694953",
            "time": "2445-01-01"
           },
           {
            "TATM": "4.231042695506263",
            "time": "2455-01-01"
           },
           {
            "TATM": "4.364007217997923",
            "time": "2465-01-01"
           },
           {
            "TATM": "4.615380809718015",
            "time": "2475-01-01"
           },
           {
            "TATM": "4.9554411865367545",
            "time": "2485-01-01"
           },
           {
            "TATM": "5.229260650047459",
            "time": "2495-01-01"
           },
           {
            "TATM": "5.458366242993498",
            "time": "2505-01-01"
           },
           {
            "TATM": "5.681754944341142",
            "time": "2515-01-01"
           },
           {
            "TATM": "5.9087704215375965",
            "time": "2525-01-01"
           },
           {
            "TATM": "6.174803192968939",
            "time": "2535-01-01"
           },
           {
            "TATM": "6.424388919242239",
            "time": "2545-01-01"
           },
           {
            "TATM": "6.642308489296494",
            "time": "2555-01-01"
           },
           {
            "TATM": "6.812911699133475",
            "time": "2565-01-01"
           },
           {
            "TATM": "6.95588612192869",
            "time": "2575-01-01"
           },
           {
            "TATM": "7.16447555909149",
            "time": "2585-01-01"
           },
           {
            "TATM": "7.440339706508375",
            "time": "2595-01-01"
           }
          ]
         },
         "description": "plot for a specific component variable pair",
         "encoding": {
          "x": {
           "field": "time",
           "timeUnit": "utcyear",
           "type": "temporal"
          },
          "y": {
           "field": "TATM",
           "type": "quantitative"
          }
         },
         "height": 410,
         "mark": {
          "type": "line"
         },
         "title": "climatedynamics : TATM",
         "width": 450
        }
       ],
       "resolve": {
        "scale": {
         "x": "independent",
         "y": "shared"
        }
       }
      },
      "image/png": "[encoded data removed]",
      "image/svg+xml": [
       "<svg class=\"marks\" width=\"992\" height=\"476\" viewBox=\"0 0 992 476\" version=\"1.1\" xmlns=\"http://www.w3.org/2000/svg\" xmlns:xlink=\"http://www.w3.org/1999/xlink\"><g transform=\"translate(33,28)\"><g class=\"mark-group role-frame root\"><g transform=\"translate(0,0)\"><path class=\"background\" d=\"M0,0h0v410h0Z\" style=\"fill: none;\"></path><g><g class=\"mark-group role-scope concat_0_group\"><g transform=\"translate(0,0)\"><path class=\"background\" d=\"M0.5,0.5h450v410h-450Z\" style=\"fill: none; stroke: #ddd;\"></path><g><g class=\"mark-group role-axis\"><g transform=\"translate(0.5,410.5)\"><path class=\"background\" d=\"M0,0h0v0h0Z\" style=\"pointer-events: none; fill: none;\"></path><g><g class=\"mark-rule role-axis-grid\" style=\"pointer-events: none;\"><line transform=\"translate(34,-410)\" x2=\"0\" y2=\"410\" style=\"fill: none; stroke: #ddd; stroke-width: 1; opacity: 1;\"></line><line transform=\"translate(72,-410)\" x2=\"0\" y2=\"410\" style=\"fill: none; stroke: #ddd; stroke-width: 1; opacity: 1;\"></line><line transform=\"translate(111,-410)\" x2=\"0\" y2=\"410\" style=\"fill: none; stroke: #ddd; stroke-width: 1; opacity: 1;\"></line><line transform=\"translate(149,-410)\" x2=\"0\" y2=\"410\" style=\"fill: none; stroke: #ddd; stroke-width: 1; opacity: 1;\"></line><line transform=\"translate(187,-410)\" x2=\"0\" y2=\"410\" style=\"fill: none; stroke: #ddd; stroke-width: 1; opacity: 1;\"></line><line transform=\"translate(225,-410)\" x2=\"0\" y2=\"410\" style=\"fill: none; stroke: #ddd; stroke-width: 1; opacity: 1;\"></line><line transform=\"translate(263,-410)\" x2=\"0\" y2=\"410\" style=\"fill: none; stroke: #ddd; stroke-width: 1; opacity: 1;\"></line><line transform=\"translate(301,-410)\" x2=\"0\" y2=\"410\" style=\"fill: none; stroke: #ddd; stroke-width: 1; opacity: 1;\"></line><line transform=\"translate(339,-410)\" x2=\"0\" y2=\"410\" style=\"fill: none; stroke: #ddd; stroke-width: 1; opacity: 1;\"></line><line transform=\"translate(378,-410)\" x2=\"0\" y2=\"410\" style=\"fill: none; stroke: #ddd; stroke-width: 1; opacity: 1;\"></line><line transform=\"translate(416,-410)\" x2=\"0\" y2=\"410\" style=\"fill: none; stroke: #ddd; stroke-width: 1; opacity: 1;\"></line></g></g></g></g><g class=\"mark-group role-axis\"><g transform=\"translate(0.5,0.5)\"><path class=\"background\" d=\"M0,0h0v0h0Z\" style=\"pointer-events: none; fill: none;\"></path><g><g class=\"mark-rule role-axis-grid\" style=\"pointer-events: none;\"><line transform=\"translate(0,410)\" x2=\"450\" y2=\"0\" style=\"fill: none; stroke: #ddd; stroke-width: 1; opacity: 1;\"></line><line transform=\"translate(0,359)\" x2=\"450\" y2=\"0\" style=\"fill: none; stroke: #ddd; stroke-width: 1; opacity: 1;\"></line><line transform=\"translate(0,308)\" x2=\"450\" y2=\"0\" style=\"fill: none; stroke: #ddd; stroke-width: 1; opacity: 1;\"></line><line transform=\"translate(0,256)\" x2=\"450\" y2=\"0\" style=\"fill: none; stroke: #ddd; stroke-width: 1; opacity: 1;\"></line><line transform=\"translate(0,205)\" x2=\"450\" y2=\"0\" style=\"fill: none; stroke: #ddd; stroke-width: 1; opacity: 1;\"></line><line transform=\"translate(0,154)\" x2=\"450\" y2=\"0\" style=\"fill: none; stroke: #ddd; stroke-width: 1; opacity: 1;\"></line><line transform=\"translate(0,103)\" x2=\"450\" y2=\"0\" style=\"fill: none; stroke: #ddd; stroke-width: 1; opacity: 1;\"></line><line transform=\"translate(0,51)\" x2=\"450\" y2=\"0\" style=\"fill: none; stroke: #ddd; stroke-width: 1; opacity: 1;\"></line><line transform=\"translate(0,0)\" x2=\"450\" y2=\"0\" style=\"fill: none; stroke: #ddd; stroke-width: 1; opacity: 1;\"></line></g></g></g></g><g class=\"mark-line role-mark concat_0_marks\"><path d=\"M450,120.16054369328174L442.37376620122234,119.82441666703181L434.74544416756,119.48883733580561L427.11921036878226,119.15226723309542L419.4908883351199,118.81279640512025L411.86465453634224,118.46807070365838L404.2363325026799,118.11520624831292L396.6100987039022,117.75068921662091L388.98177667023987,117.37025903993816L381.35554287146215,116.96877309859605L373.7293090726845,116.54005118348636L366.10307527390677,116.07669841350207L358.47475324024447,115.56990609967607L350.84851944146675,115.00923141402802L343.2201974078044,114.3823589189596L335.59396360902673,113.67485041557416L327.96564157536443,112.86989470255168L320.3394077765867,111.94807643903147L312.7110857429244,110.88719440908568L305.0848519441467,109.66217554069004L297.45652991048433,108.24515407344569L289.8302961117067,106.60581816513616L282.2019740780443,104.71217304350239L274.5757402792666,102.53193635112262L266.9474182456043,100.03487595575046L259.3211844468266,97.19653535243503L251.69286241316425,94.00398468860635L244.06662861438656,90.46451277928702L236.4383065807242,86.61857658741053L228.8120727819465,82.55890850647557L221.18583898316882,78.45853708165583L213.55960518439113,74.61173690890035L205.9312831507288,71.49378850428263L198.3050493519511,69.8481981177589L190.67672731828875,70.81414580028985L183.05049351951106,76.11305620505073L175.4221714858487,84.14303310703531L167.79593768707105,92.32615086245346L160.16761565340872,100.68270855631943L152.54138185463103,109.23658819392523L144.91514805585334,118.012053349496L137.28891425707565,127.03523057159356L129.6605922234133,136.3342492840078L122.0343584246356,145.93885371941474L114.40603639097326,155.87941513836012L106.77980259219557,166.1850896250725L99.15148055853322,176.88068096565544L91.52524675975553,187.98152064249808L83.89692472609319,199.48531342403697L76.27069092731551,211.35935202116042L68.64445712853782,223.5206843470941L61.01822332976013,236.63020544866106L53.38990129609778,250.7807846797763L45.7636674973201,266.05336346855654L38.13534546365776,282.504578795887L30.509111664880066,300.15185604972237L22.88078963121772,318.9617097308951L15.254555832440033,338.85681505179167L7.626233798777686,359.775L0,367.4625\" style=\"fill: none; stroke: #4c78a8; stroke-width: 2;\"></path></g><g class=\"mark-text role-title\" style=\"pointer-events: none;\"><text text-anchor=\"middle\" transform=\"translate(225,-12)\" style=\"font-family: sans-serif; font-size: 13px; font-weight: bold; fill: #000; opacity: 1;\">climatedynamics : TATM</text></g><g class=\"mark-group role-axis\"><g transform=\"translate(0.5,410.5)\"><path class=\"background\" d=\"M0,0h0v0h0Z\" style=\"pointer-events: none; fill: none;\"></path><g><g class=\"mark-rule role-axis-tick\" style=\"pointer-events: none;\"><line transform=\"translate(34,0)\" x2=\"0\" y2=\"5\" style=\"fill: none; stroke: #888; stroke-width: 1; opacity: 1;\"></line><line transform=\"translate(72,0)\" x2=\"0\" y2=\"5\" style=\"fill: none; stroke: #888; stroke-width: 1; opacity: 1;\"></line><line transform=\"translate(111,0)\" x2=\"0\" y2=\"5\" style=\"fill: none; stroke: #888; stroke-width: 1; opacity: 1;\"></line><line transform=\"translate(149,0)\" x2=\"0\" y2=\"5\" style=\"fill: none; stroke: #888; stroke-width: 1; opacity: 1;\"></line><line transform=\"translate(187,0)\" x2=\"0\" y2=\"5\" style=\"fill: none; stroke: #888; stroke-width: 1; opacity: 1;\"></line><line transform=\"translate(225,0)\" x2=\"0\" y2=\"5\" style=\"fill: none; stroke: #888; stroke-width: 1; opacity: 1;\"></line><line transform=\"translate(263,0)\" x2=\"0\" y2=\"5\" style=\"fill: none; stroke: #888; stroke-width: 1; opacity: 1;\"></line><line transform=\"translate(301,0)\" x2=\"0\" y2=\"5\" style=\"fill: none; stroke: #888; stroke-width: 1; opacity: 1;\"></line><line transform=\"translate(339,0)\" x2=\"0\" y2=\"5\" style=\"fill: none; stroke: #888; stroke-width: 1; opacity: 1;\"></line><line transform=\"translate(378,0)\" x2=\"0\" y2=\"5\" style=\"fill: none; stroke: #888; stroke-width: 1; opacity: 1;\"></line><line transform=\"translate(416,0)\" x2=\"0\" y2=\"5\" style=\"fill: none; stroke: #888; stroke-width: 1; opacity: 1;\"></line></g><g class=\"mark-text role-axis-label\" style=\"pointer-events: none;\"><text text-anchor=\"middle\" transform=\"translate(34.32222856426891,15)\" style=\"font-family: sans-serif; font-size: 10px; fill: #000; opacity: 1;\">2050</text><text text-anchor=\"middle\" transform=\"translate(72.45757402792667,15)\" style=\"font-family: sans-serif; font-size: 10px; fill: #000; opacity: 1;\">2100</text><text text-anchor=\"middle\" transform=\"translate(110.59291949158441,15)\" style=\"font-family: sans-serif; font-size: 10px; fill: #000; opacity: 1;\">2150</text><text text-anchor=\"middle\" transform=\"translate(148.72826495524217,15)\" style=\"font-family: sans-serif; font-size: 10px; fill: #000; opacity: 1;\">2200</text><text text-anchor=\"middle\" transform=\"translate(186.8636104188999,15)\" style=\"font-family: sans-serif; font-size: 10px; fill: #000; opacity: 1;\">2250</text><text text-anchor=\"middle\" transform=\"translate(224.99895588255768,15)\" style=\"font-family: sans-serif; font-size: 10px; fill: #000; opacity: 1;\">2300</text><text text-anchor=\"middle\" transform=\"translate(263.1343013462154,15)\" style=\"font-family: sans-serif; font-size: 10px; fill: #000; opacity: 1;\">2350</text><text text-anchor=\"middle\" transform=\"translate(301.26964680987317,15)\" style=\"font-family: sans-serif; font-size: 10px; fill: #000; opacity: 1;\">2400</text><text text-anchor=\"middle\" transform=\"translate(339.40708050841556,15)\" style=\"font-family: sans-serif; font-size: 10px; fill: #000; opacity: 1;\">2450</text><text text-anchor=\"middle\" transform=\"translate(377.5424259720734,15)\" style=\"font-family: sans-serif; font-size: 10px; fill: #000; opacity: 1;\">2500</text><text text-anchor=\"middle\" transform=\"translate(415.67777143573113,15)\" style=\"font-family: sans-serif; font-size: 10px; fill: #000; opacity: 1;\">2550</text></g><g class=\"mark-rule role-axis-domain\" style=\"pointer-events: none;\"><line transform=\"translate(0,0)\" x2=\"450\" y2=\"0\" style=\"fill: none; stroke: #888; stroke-width: 1; opacity: 1;\"></line></g><g class=\"mark-text role-axis-title\" style=\"pointer-events: none;\"><text text-anchor=\"middle\" transform=\"translate(225,30)\" style=\"font-family: sans-serif; font-size: 11px; font-weight: bold; fill: #000; opacity: 1;\">time (year)</text></g></g></g></g><g class=\"mark-group role-axis\"><g transform=\"translate(0.5,0.5)\"><path class=\"background\" d=\"M0,0h0v0h0Z\" style=\"pointer-events: none; fill: none;\"></path><g><g class=\"mark-rule role-axis-tick\" style=\"pointer-events: none;\"><line transform=\"translate(0,410)\" x2=\"-5\" y2=\"0\" style=\"fill: none; stroke: #888; stroke-width: 1; opacity: 1;\"></line><line transform=\"translate(0,359)\" x2=\"-5\" y2=\"0\" style=\"fill: none; stroke: #888; stroke-width: 1; opacity: 1;\"></line><line transform=\"translate(0,308)\" x2=\"-5\" y2=\"0\" style=\"fill: none; stroke: #888; stroke-width: 1; opacity: 1;\"></line><line transform=\"translate(0,256)\" x2=\"-5\" y2=\"0\" style=\"fill: none; stroke: #888; stroke-width: 1; opacity: 1;\"></line><line transform=\"translate(0,205)\" x2=\"-5\" y2=\"0\" style=\"fill: none; stroke: #888; stroke-width: 1; opacity: 1;\"></line><line transform=\"translate(0,154)\" x2=\"-5\" y2=\"0\" style=\"fill: none; stroke: #888; stroke-width: 1; opacity: 1;\"></line><line transform=\"translate(0,103)\" x2=\"-5\" y2=\"0\" style=\"fill: none; stroke: #888; stroke-width: 1; opacity: 1;\"></line><line transform=\"translate(0,51)\" x2=\"-5\" y2=\"0\" style=\"fill: none; stroke: #888; stroke-width: 1; opacity: 1;\"></line><line transform=\"translate(0,0)\" x2=\"-5\" y2=\"0\" style=\"fill: none; stroke: #888; stroke-width: 1; opacity: 1;\"></line></g><g class=\"mark-text role-axis-label\" style=\"pointer-events: none;\"><text text-anchor=\"end\" transform=\"translate(-7,413)\" style=\"font-family: sans-serif; font-size: 10px; fill: #000; opacity: 1;\">0</text><text text-anchor=\"end\" transform=\"translate(-7,361.75)\" style=\"font-family: sans-serif; font-size: 10px; fill: #000; opacity: 1;\">1</text><text text-anchor=\"end\" transform=\"translate(-7,310.5)\" style=\"font-family: sans-serif; font-size: 10px; fill: #000; opacity: 1;\">2</text><text text-anchor=\"end\" transform=\"translate(-7,259.25)\" style=\"font-family: sans-serif; font-size: 10px; fill: #000; opacity: 1;\">3</text><text text-anchor=\"end\" transform=\"translate(-7,208)\" style=\"font-family: sans-serif; font-size: 10px; fill: #000; opacity: 1;\">4</text><text text-anchor=\"end\" transform=\"translate(-7,156.75)\" style=\"font-family: sans-serif; font-size: 10px; fill: #000; opacity: 1;\">5</text><text text-anchor=\"end\" transform=\"translate(-7,105.5)\" style=\"font-family: sans-serif; font-size: 10px; fill: #000; opacity: 1;\">6</text><text text-anchor=\"end\" transform=\"translate(-7,54.25)\" style=\"font-family: sans-serif; font-size: 10px; fill: #000; opacity: 1;\">7</text><text text-anchor=\"end\" transform=\"translate(-7,3)\" style=\"font-family: sans-serif; font-size: 10px; fill: #000; opacity: 1;\">8</text></g><g class=\"mark-rule role-axis-domain\" style=\"pointer-events: none;\"><line transform=\"translate(0,410)\" x2=\"0\" y2=\"-410\" style=\"fill: none; stroke: #888; stroke-width: 1; opacity: 1;\"></line></g><g class=\"mark-text role-axis-title\" style=\"pointer-events: none;\"><text text-anchor=\"middle\" transform=\"translate(-16,205) rotate(-90) translate(0,-2)\" style=\"font-family: sans-serif; font-size: 11px; font-weight: bold; fill: #000; opacity: 1;\">TATM</text></g></g></g></g></g></g></g><g class=\"mark-group role-scope concat_1_group\"><g transform=\"translate(501,0)\"><path class=\"background\" d=\"M0.5,0.5h450v410h-450Z\" style=\"fill: none; stroke: #ddd;\"></path><g><g class=\"mark-group role-axis\"><g transform=\"translate(0.5,410.5)\"><path class=\"background\" d=\"M0,0h0v0h0Z\" style=\"pointer-events: none; fill: none;\"></path><g><g class=\"mark-rule role-axis-grid\" style=\"pointer-events: none;\"><line transform=\"translate(34,-410)\" x2=\"0\" y2=\"410\" style=\"fill: none; stroke: #ddd; stroke-width: 1; opacity: 1;\"></line><line transform=\"translate(72,-410)\" x2=\"0\" y2=\"410\" style=\"fill: none; stroke: #ddd; stroke-width: 1; opacity: 1;\"></line><line transform=\"translate(111,-410)\" x2=\"0\" y2=\"410\" style=\"fill: none; stroke: #ddd; stroke-width: 1; opacity: 1;\"></line><line transform=\"translate(149,-410)\" x2=\"0\" y2=\"410\" style=\"fill: none; stroke: #ddd; stroke-width: 1; opacity: 1;\"></line><line transform=\"translate(187,-410)\" x2=\"0\" y2=\"410\" style=\"fill: none; stroke: #ddd; stroke-width: 1; opacity: 1;\"></line><line transform=\"translate(225,-410)\" x2=\"0\" y2=\"410\" style=\"fill: none; stroke: #ddd; stroke-width: 1; opacity: 1;\"></line><line transform=\"translate(263,-410)\" x2=\"0\" y2=\"410\" style=\"fill: none; stroke: #ddd; stroke-width: 1; opacity: 1;\"></line><line transform=\"translate(301,-410)\" x2=\"0\" y2=\"410\" style=\"fill: none; stroke: #ddd; stroke-width: 1; opacity: 1;\"></line><line transform=\"translate(339,-410)\" x2=\"0\" y2=\"410\" style=\"fill: none; stroke: #ddd; stroke-width: 1; opacity: 1;\"></line><line transform=\"translate(378,-410)\" x2=\"0\" y2=\"410\" style=\"fill: none; stroke: #ddd; stroke-width: 1; opacity: 1;\"></line><line transform=\"translate(416,-410)\" x2=\"0\" y2=\"410\" style=\"fill: none; stroke: #ddd; stroke-width: 1; opacity: 1;\"></line></g></g></g></g><g class=\"mark-group role-axis\"><g transform=\"translate(0.5,0.5)\"><path class=\"background\" d=\"M0,0h0v0h0Z\" style=\"pointer-events: none; fill: none;\"></path><g><g class=\"mark-rule role-axis-grid\" style=\"pointer-events: none;\"><line transform=\"translate(0,410)\" x2=\"450\" y2=\"0\" style=\"fill: none; stroke: #ddd; stroke-width: 1; opacity: 1;\"></line><line transform=\"translate(0,359)\" x2=\"450\" y2=\"0\" style=\"fill: none; stroke: #ddd; stroke-width: 1; opacity: 1;\"></line><line transform=\"translate(0,308)\" x2=\"450\" y2=\"0\" style=\"fill: none; stroke: #ddd; stroke-width: 1; opacity: 1;\"></line><line transform=\"translate(0,256)\" x2=\"450\" y2=\"0\" style=\"fill: none; stroke: #ddd; stroke-width: 1; opacity: 1;\"></line><line transform=\"translate(0,205)\" x2=\"450\" y2=\"0\" style=\"fill: none; stroke: #ddd; stroke-width: 1; opacity: 1;\"></line><line transform=\"translate(0,154)\" x2=\"450\" y2=\"0\" style=\"fill: none; stroke: #ddd; stroke-width: 1; opacity: 1;\"></line><line transform=\"translate(0,103)\" x2=\"450\" y2=\"0\" style=\"fill: none; stroke: #ddd; stroke-width: 1; opacity: 1;\"></line><line transform=\"translate(0,51)\" x2=\"450\" y2=\"0\" style=\"fill: none; stroke: #ddd; stroke-width: 1; opacity: 1;\"></line><line transform=\"translate(0,0)\" x2=\"450\" y2=\"0\" style=\"fill: none; stroke: #ddd; stroke-width: 1; opacity: 1;\"></line></g></g></g></g><g class=\"mark-line role-mark concat_1_marks\"><path d=\"M450,28.682590041445792L442.37376620122234,42.82062759656117L434.74544416756,53.51083625115467L427.11921036878226,60.8382754194094L419.4908883351199,69.58168992355468L411.86465453634224,80.75006788883525L404.2363325026799,93.54133636034186L396.6100987039022,107.17551589619819L388.98177667023987,118.8100591025165L381.35554287146215,130.25873004658325L373.7293090726845,142.0003916850677L366.10307527390677,156.03363918999133L358.47475324024447,173.46173350195173L350.84851944146675,186.34463007760647L343.2201974078044,193.15906185530403L335.59396360902673,200.72405492188366L327.96564157536443,211.52218787964847L320.3394077765867,226.78392870660113L312.7110857429244,242.18614751271775L305.0848519441467,254.20920341440612L297.45652991048433,266.7677840275508L289.8302961117067,275.5398653909001L282.2019740780443,280.56284922062844L274.5757402792666,283.2958799180288L266.9474182456043,283.97895078842475L259.3211844468266,284.8944822110549L251.69286241316425,285.3863681431001L244.06662861438656,285.1164011107408L236.4383065807242,284.96609328039386L228.8120727819465,284.6849120360726L221.18583898316882,284.16417661528817L213.55960518439113,283.61646869818816L205.9312831507288,282.97454350960857L198.3050493519511,282.0500840464398L190.67672731828875,280.8714336039252L183.05049351951106,279.5001118081542L175.4221714858487,277.88843201387647L167.79593768707105,276.07552407752246L160.16761565340872,274.0263347219499L152.54138185463103,271.70224156862656L144.91514805585334,269.1422731790004L137.28891425707565,266.3861880364707L129.6605922234133,263.5384601241524L122.0343584246356,260.80490217220347L114.40603639097326,258.4887089288618L106.77980259219557,256.9580169345538L99.15148055853322,256.2620276419722L91.52524675975553,256.34616032374856L83.89692472609319,257.41115099032163L76.27069092731551,259.81292876405615L68.64445712853782,263.5397906339325L61.01822332976013,269.04601803763563L53.38990129609778,276.3288589739622L45.7636674973201,285.41425646276093L38.13534546365776,296.3743141445876L30.509111664880066,309.2602578298612L22.88078963121772,324.09582784020176L15.254555832440033,340.9047728888434L7.626233798777686,359.775L0,367.4625\" style=\"fill: none; stroke: #4c78a8; stroke-width: 2;\"></path></g><g class=\"mark-text role-title\" style=\"pointer-events: none;\"><text text-anchor=\"middle\" transform=\"translate(225,-12)\" style=\"font-family: sans-serif; font-size: 13px; font-weight: bold; fill: #000; opacity: 1;\">climatedynamics : TATM</text></g><g class=\"mark-group role-axis\"><g transform=\"translate(0.5,410.5)\"><path class=\"background\" d=\"M0,0h0v0h0Z\" style=\"pointer-events: none; fill: none;\"></path><g><g class=\"mark-rule role-axis-tick\" style=\"pointer-events: none;\"><line transform=\"translate(34,0)\" x2=\"0\" y2=\"5\" style=\"fill: none; stroke: #888; stroke-width: 1; opacity: 1;\"></line><line transform=\"translate(72,0)\" x2=\"0\" y2=\"5\" style=\"fill: none; stroke: #888; stroke-width: 1; opacity: 1;\"></line><line transform=\"translate(111,0)\" x2=\"0\" y2=\"5\" style=\"fill: none; stroke: #888; stroke-width: 1; opacity: 1;\"></line><line transform=\"translate(149,0)\" x2=\"0\" y2=\"5\" style=\"fill: none; stroke: #888; stroke-width: 1; opacity: 1;\"></line><line transform=\"translate(187,0)\" x2=\"0\" y2=\"5\" style=\"fill: none; stroke: #888; stroke-width: 1; opacity: 1;\"></line><line transform=\"translate(225,0)\" x2=\"0\" y2=\"5\" style=\"fill: none; stroke: #888; stroke-width: 1; opacity: 1;\"></line><line transform=\"translate(263,0)\" x2=\"0\" y2=\"5\" style=\"fill: none; stroke: #888; stroke-width: 1; opacity: 1;\"></line><line transform=\"translate(301,0)\" x2=\"0\" y2=\"5\" style=\"fill: none; stroke: #888; stroke-width: 1; opacity: 1;\"></line><line transform=\"translate(339,0)\" x2=\"0\" y2=\"5\" style=\"fill: none; stroke: #888; stroke-width: 1; opacity: 1;\"></line><line transform=\"translate(378,0)\" x2=\"0\" y2=\"5\" style=\"fill: none; stroke: #888; stroke-width: 1; opacity: 1;\"></line><line transform=\"translate(416,0)\" x2=\"0\" y2=\"5\" style=\"fill: none; stroke: #888; stroke-width: 1; opacity: 1;\"></line></g><g class=\"mark-text role-axis-label\" style=\"pointer-events: none;\"><text text-anchor=\"middle\" transform=\"translate(34.32222856426891,15)\" style=\"font-family: sans-serif; font-size: 10px; fill: #000; opacity: 1;\">2050</text><text text-anchor=\"middle\" transform=\"translate(72.45757402792667,15)\" style=\"font-family: sans-serif; font-size: 10px; fill: #000; opacity: 1;\">2100</text><text text-anchor=\"middle\" transform=\"translate(110.59291949158441,15)\" style=\"font-family: sans-serif; font-size: 10px; fill: #000; opacity: 1;\">2150</text><text text-anchor=\"middle\" transform=\"translate(148.72826495524217,15)\" style=\"font-family: sans-serif; font-size: 10px; fill: #000; opacity: 1;\">2200</text><text text-anchor=\"middle\" transform=\"translate(186.8636104188999,15)\" style=\"font-family: sans-serif; font-size: 10px; fill: #000; opacity: 1;\">2250</text><text text-anchor=\"middle\" transform=\"translate(224.99895588255768,15)\" style=\"font-family: sans-serif; font-size: 10px; fill: #000; opacity: 1;\">2300</text><text text-anchor=\"middle\" transform=\"translate(263.1343013462154,15)\" style=\"font-family: sans-serif; font-size: 10px; fill: #000; opacity: 1;\">2350</text><text text-anchor=\"middle\" transform=\"translate(301.26964680987317,15)\" style=\"font-family: sans-serif; font-size: 10px; fill: #000; opacity: 1;\">2400</text><text text-anchor=\"middle\" transform=\"translate(339.40708050841556,15)\" style=\"font-family: sans-serif; font-size: 10px; fill: #000; opacity: 1;\">2450</text><text text-anchor=\"middle\" transform=\"translate(377.5424259720734,15)\" style=\"font-family: sans-serif; font-size: 10px; fill: #000; opacity: 1;\">2500</text><text text-anchor=\"middle\" transform=\"translate(415.67777143573113,15)\" style=\"font-family: sans-serif; font-size: 10px; fill: #000; opacity: 1;\">2550</text></g><g class=\"mark-rule role-axis-domain\" style=\"pointer-events: none;\"><line transform=\"translate(0,0)\" x2=\"450\" y2=\"0\" style=\"fill: none; stroke: #888; stroke-width: 1; opacity: 1;\"></line></g><g class=\"mark-text role-axis-title\" style=\"pointer-events: none;\"><text text-anchor=\"middle\" transform=\"translate(225,30)\" style=\"font-family: sans-serif; font-size: 11px; font-weight: bold; fill: #000; opacity: 1;\">time (year)</text></g></g></g></g><g class=\"mark-group role-axis\"><g transform=\"translate(0.5,0.5)\"><path class=\"background\" d=\"M0,0h0v0h0Z\" style=\"pointer-events: none; fill: none;\"></path><g><g class=\"mark-rule role-axis-tick\" style=\"pointer-events: none;\"><line transform=\"translate(0,410)\" x2=\"-5\" y2=\"0\" style=\"fill: none; stroke: #888; stroke-width: 1; opacity: 1;\"></line><line transform=\"translate(0,359)\" x2=\"-5\" y2=\"0\" style=\"fill: none; stroke: #888; stroke-width: 1; opacity: 1;\"></line><line transform=\"translate(0,308)\" x2=\"-5\" y2=\"0\" style=\"fill: none; stroke: #888; stroke-width: 1; opacity: 1;\"></line><line transform=\"translate(0,256)\" x2=\"-5\" y2=\"0\" style=\"fill: none; stroke: #888; stroke-width: 1; opacity: 1;\"></line><line transform=\"translate(0,205)\" x2=\"-5\" y2=\"0\" style=\"fill: none; stroke: #888; stroke-width: 1; opacity: 1;\"></line><line transform=\"translate(0,154)\" x2=\"-5\" y2=\"0\" style=\"fill: none; stroke: #888; stroke-width: 1; opacity: 1;\"></line><line transform=\"translate(0,103)\" x2=\"-5\" y2=\"0\" style=\"fill: none; stroke: #888; stroke-width: 1; opacity: 1;\"></line><line transform=\"translate(0,51)\" x2=\"-5\" y2=\"0\" style=\"fill: none; stroke: #888; stroke-width: 1; opacity: 1;\"></line><line transform=\"translate(0,0)\" x2=\"-5\" y2=\"0\" style=\"fill: none; stroke: #888; stroke-width: 1; opacity: 1;\"></line></g><g class=\"mark-text role-axis-label\" style=\"pointer-events: none;\"><text text-anchor=\"end\" transform=\"translate(-7,413)\" style=\"font-family: sans-serif; font-size: 10px; fill: #000; opacity: 1;\">0</text><text text-anchor=\"end\" transform=\"translate(-7,361.75)\" style=\"font-family: sans-serif; font-size: 10px; fill: #000; opacity: 1;\">1</text><text text-anchor=\"end\" transform=\"translate(-7,310.5)\" style=\"font-family: sans-serif; font-size: 10px; fill: #000; opacity: 1;\">2</text><text text-anchor=\"end\" transform=\"translate(-7,259.25)\" style=\"font-family: sans-serif; font-size: 10px; fill: #000; opacity: 1;\">3</text><text text-anchor=\"end\" transform=\"translate(-7,208)\" style=\"font-family: sans-serif; font-size: 10px; fill: #000; opacity: 1;\">4</text><text text-anchor=\"end\" transform=\"translate(-7,156.75)\" style=\"font-family: sans-serif; font-size: 10px; fill: #000; opacity: 1;\">5</text><text text-anchor=\"end\" transform=\"translate(-7,105.5)\" style=\"font-family: sans-serif; font-size: 10px; fill: #000; opacity: 1;\">6</text><text text-anchor=\"end\" transform=\"translate(-7,54.25)\" style=\"font-family: sans-serif; font-size: 10px; fill: #000; opacity: 1;\">7</text><text text-anchor=\"end\" transform=\"translate(-7,3)\" style=\"font-family: sans-serif; font-size: 10px; fill: #000; opacity: 1;\">8</text></g><g class=\"mark-rule role-axis-domain\" style=\"pointer-events: none;\"><line transform=\"translate(0,410)\" x2=\"0\" y2=\"-410\" style=\"fill: none; stroke: #888; stroke-width: 1; opacity: 1;\"></line></g><g class=\"mark-text role-axis-title\" style=\"pointer-events: none;\"><text text-anchor=\"middle\" transform=\"translate(-16,205) rotate(-90) translate(0,-2)\" style=\"font-family: sans-serif; font-size: 11px; font-weight: bold; fill: #000; opacity: 1;\">TATM</text></g></g></g></g></g></g></g></g></g></g></g></svg>"
      ],
      "text/plain": [
       "VegaLite.VLSpec{:plot}"
      ]
     },
     "execution_count": 9,
     "metadata": {},
     "output_type": "execute_result"
    }
   ],
   "source": [
    "@vlplot(resolve={scale={y=:shared}}) + [Mimi.plot(m_dice1, :climatedynamics, :TATM) Mimi.plot(m_opt, :climatedynamics, :TATM)]"
   ]
  }
 ],
 "metadata": {
  "@webio": {
   "lastCommId": null,
   "lastKernelId": null
  },
  "kernelspec": {
   "display_name": "Julia 1.1.1",
   "language": "julia",
   "name": "julia-1.1"
  },
  "language_info": {
   "file_extension": ".jl",
   "mimetype": "application/julia",
   "name": "julia",
   "version": "1.1.0"
  }
 },
 "nbformat": 4,
 "nbformat_minor": 4
}
